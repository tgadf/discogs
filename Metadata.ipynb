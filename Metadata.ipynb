{
 "cells": [
  {
   "cell_type": "code",
   "execution_count": 1,
   "metadata": {},
   "outputs": [
    {
     "data": {
      "text/html": [
       "<style>.container { width:100% !important; }</style>"
      ],
      "text/plain": [
       "<IPython.core.display.HTML object>"
      ]
     },
     "metadata": {},
     "output_type": "display_data"
    },
    {
     "data": {
      "text/html": [
       "<style>div.output_area{max-height:10000px;overflow:scroll;}</style>"
      ],
      "text/plain": [
       "<IPython.core.display.HTML object>"
      ]
     },
     "metadata": {},
     "output_type": "display_data"
    },
    {
     "name": "stdout",
     "output_type": "stream",
     "text": [
      "Python: 3.7.7 (default, Mar 26 2020, 10:32:53) \n",
      "[Clang 4.0.1 (tags/RELEASE_401/final)]\n"
     ]
    },
    {
     "name": "stderr",
     "output_type": "stream",
     "text": [
      "/Users/tgadfort/opt/anaconda3/envs/py37/lib/python3.7/site-packages/sklearn/externals/joblib/__init__.py:15: FutureWarning: sklearn.externals.joblib is deprecated in 0.21 and will be removed in 0.23. Please import this functionality directly from joblib, which can be installed with: pip install joblib. If this warning is raised when loading pickled models, you may need to re-serialize those models with scikit-learn 0.21+.\n",
      "  warnings.warn(msg, category=FutureWarning)\n"
     ]
    },
    {
     "name": "stdout",
     "output_type": "stream",
     "text": [
      "Notebook Last Run Initiated: 2020-10-13 21:41:15.472503\n"
     ]
    }
   ],
   "source": [
    "## Basic stuff\n",
    "%load_ext autoreload\n",
    "%autoreload\n",
    "from IPython.core.display import display, HTML\n",
    "display(HTML(\"<style>.container { width:100% !important; }</style>\"))\n",
    "display(HTML(\"\"\"<style>div.output_area{max-height:10000px;overflow:scroll;}</style>\"\"\"))\n",
    "\n",
    "## Python Version\n",
    "import sys\n",
    "print(\"Python: {0}\".format(sys.version))\n",
    "\n",
    "\n",
    "################################################################################\n",
    "## General Stuff\n",
    "################################################################################\n",
    "from ioUtils import saveJoblib, loadJoblib, saveFile, getFile\n",
    "import urllib\n",
    "from urllib.parse import quote\n",
    "from timeUtils import clock, elapsed\n",
    "from fsUtils import moveFile, setFile, setDir, setSubDir, isFile, isDir, mkDir\n",
    "from fileUtils import getFileBasics, getBasename\n",
    "from webUtils import getHTML\n",
    "from time import sleep\n",
    "import time\n",
    "from multiprocessing import Pool\n",
    "\n",
    "\n",
    "######################################################\n",
    "# Music Stuff\n",
    "######################################################\n",
    "from dbBase import dbBase\n",
    "from multiArtist import multiartist\n",
    "from myMusicDBMap import myMusicDBMap\n",
    "from mainDB import mainDB\n",
    "from parseDBArtistsData import parseDBArtistsData\n",
    "\n",
    "\n",
    "\n",
    "\n",
    "import datetime as dt\n",
    "start = dt.datetime.now()\n",
    "print(\"Notebook Last Run Initiated: \"+str(start))"
   ]
  },
  {
   "cell_type": "markdown",
   "metadata": {},
   "source": [
    "## Parse Artists Base"
   ]
  },
  {
   "cell_type": "code",
   "execution_count": 2,
   "metadata": {},
   "outputs": [
    {
     "name": "stdout",
     "output_type": "stream",
     "text": [
      "The autoreload extension is already loaded. To reload it, use:\n",
      "  %reload_ext autoreload\n",
      "Creating myMusicDBMap()\n",
      "   Loading my music db map: /Users/tgadfort/opt/anaconda3/envs/py37/musicdb/myMusicMap.p\n",
      "   DB keys: ['Discogs', 'AllMusic', 'MusicBrainz', 'AceBootlegs', 'RateYourMusic', 'LastFM', 'DatPiff', 'RockCorner', 'CDandLP', 'MusicStack', 'MetalStorm']\n",
      "Found 4906 artist entries\n",
      "Counter({'Discogs': 4758, 'AllMusic': 4615, 'MusicBrainz': 4369, 'LastFM': 3445, 'CDandLP': 764, 'DatPiff': 555, 'RockCorner': 554, 'AceBootlegs': 181, 'RateYourMusic': 68, 'MusicStack': 5, 'MetalStorm': 0})\n",
      "Counter({'Discogs': 4758, 'AllMusic': 4615, 'MusicBrainz': 4369, 'LastFM': 3445, 'CDandLP': 764, 'DatPiff': 555, 'RockCorner': 554, 'AceBootlegs': 181, 'RateYourMusic': 68, 'MusicStack': 5, 'MetalStorm': 0})\n",
      "=========================   discogs   =========================\n",
      "Directory Information:\n",
      "  Raw:  /Volumes/Piggy/Discog\n",
      "  Meta: /Users/tgadfort/Music/Discog\n",
      "  DB:   /Users/tgadfort/Music/Discog\n",
      "=========================   allmusic   =========================\n",
      "Directory Information:\n",
      "  Raw:  /Volumes/Piggy/Discog\n",
      "  Meta: /Users/tgadfort/Music/Discog\n",
      "  DB:   /Users/tgadfort/Music/Discog\n",
      "=========================   musicbrainz   =========================\n",
      "Directory Information:\n",
      "  Raw:  /Volumes/Piggy/Discog\n",
      "  Meta: /Users/tgadfort/Music/Discog\n",
      "  DB:   /Users/tgadfort/Music/Discog\n",
      "=========================   lastfm   =========================\n",
      "Directory Information:\n",
      "  Raw:  /Volumes/Piggy/Discog\n",
      "  Meta: /Users/tgadfort/Music/Discog\n",
      "  DB:   /Users/tgadfort/Music/Discog\n",
      "=========================   rockcorner   =========================\n",
      "Directory Information:\n",
      "  Raw:  /Volumes/Piggy/Discog\n",
      "  Meta: /Users/tgadfort/Music/Discog\n",
      "  DB:   /Users/tgadfort/Music/Discog\n",
      "=========================   acebootlegs   =========================\n",
      "Directory Information:\n",
      "  Raw:  /Volumes/Piggy/Discog\n",
      "  Meta: /Users/tgadfort/Music/Discog\n",
      "  DB:   /Users/tgadfort/Music/Discog\n",
      "=========================   cdandlp   =========================\n",
      "Directory Information:\n",
      "  Raw:  /Volumes/Piggy/Discog\n",
      "  Meta: /Users/tgadfort/Music/Discog\n",
      "  DB:   /Users/tgadfort/Music/Discog\n",
      "=========================   rateyourmusic   =========================\n",
      "Directory Information:\n",
      "  Raw:  /Volumes/Piggy/Discog\n",
      "  Meta: /Users/tgadfort/Music/Discog\n",
      "  DB:   /Users/tgadfort/Music/Discog\n",
      "=========================   musicstack   =========================\n",
      "Directory Information:\n",
      "  Raw:  /Volumes/Piggy/Discog\n",
      "  Meta: /Users/tgadfort/Music/Discog\n",
      "  DB:   /Users/tgadfort/Music/Discog\n"
     ]
    }
   ],
   "source": [
    "%load_ext autoreload\n",
    "%autoreload\n",
    "from mainDB import mainDB\n",
    "mdb    = myMusicDBMap(debug=True)\n",
    "maindb = mainDB(mdb=mdb, create=True, debug=False)\n",
    "pdb    = parseDBArtistsData(maindb=maindb)\n",
    "dbdata = maindb.dbdata"
   ]
  },
  {
   "cell_type": "markdown",
   "metadata": {},
   "source": [
    "## Create Metadata (Only)"
   ]
  },
  {
   "cell_type": "code",
   "execution_count": null,
   "metadata": {},
   "outputs": [],
   "source": [
    "dbs    = ['AllMusic', 'Discogs', 'MusicBrainz', 'LastFM']\n",
    "dbs    = []\n",
    "start,cmt=clock(\"Parsing Metadata\")\n",
    "for db in dbs:\n",
    "    pdb.parseMetadata(db=db, nProcs=3, modVals=list(range(100)), force=False) \n",
    "elapsed(start, cmt)"
   ]
  },
  {
   "cell_type": "markdown",
   "metadata": {},
   "source": [
    "## Parse Everything"
   ]
  },
  {
   "cell_type": "code",
   "execution_count": null,
   "metadata": {},
   "outputs": [],
   "source": [
    "dbs    = ['AllMusic', 'Discogs', 'MusicBrainz', 'LastFM']\n",
    "#dbs = ['MusicBrainz', 'LastFM']\n",
    "#dbs = [\"AllMusic\"]\n",
    "#dbs = [\"Discogs\", \"MusicBrainz\"]\n",
    "dbs = [\"LastFM\"]\n",
    "#dbs = []\n",
    "start,cmt=clock(\"Parsing Everything\")\n",
    "for db in dbs:\n",
    "    pdb.parse(db, nProcs=3, modVals=list(range(100)), force=True)\n",
    "    #pdb.parse(db, nProcs=3, modVals=list(range(78,90)), force=False)\n",
    "    #pdb.parse(db, nProcs=3, modVals=[0,1,2], force=True)    \n",
    "elapsed(start, cmt)"
   ]
  },
  {
   "cell_type": "markdown",
   "metadata": {},
   "source": [
    "## Parse Single ModVal"
   ]
  },
  {
   "cell_type": "code",
   "execution_count": 4,
   "metadata": {
    "scrolled": true
   },
   "outputs": [
    {
     "name": "stdout",
     "output_type": "stream",
     "text": [
      "Current Time is Tue Oct 13, 2020 21:43:57 for Parsing Single ModVal\n",
      "Parsing LastFM with 1 processes using [[0]] mod values.\n",
      "Parsing Artist Files For ModVal 0\n",
      "Forcing Reloads of ModVal=0\n",
      "  Processing 1125 files.\n",
      "\tProcessed 0/1125 files.\n",
      "\tProcessed 500/1125 files.\n",
      "\tProcessed 1000/1125 files.\n",
      "Saving 1125 new artist IDs to /Users/tgadfort/Music/Discog/artists-lastfm-db/0-DB.p\n",
      "  --> This file is 604.7kB.\n",
      "Saving 1125 new artist IDs name data to /Users/tgadfort/Music/Discog/artists-lastfm-db/metadata/0-Metadata.p\n",
      "  --> This file is 73.1kB.\n",
      "Saving 1125 new artist IDs media data to /Users/tgadfort/Music/Discog/artists-lastfm-db/metadata/0-MediaMetadata.p\n",
      "  --> This file is 355.3kB.\n",
      "Parsing Artist Extra Files For ModVal 0\n",
      "  Found 429 extra files for ModVal 0\n",
      "  Loaded 1125 artist IDs.\n",
      "Saving 7166 new artist media to /Users/tgadfort/Music/Discog/artists-lastfm-db/0-DB.p\n",
      "  --> This file is 975.3kB.\n",
      "Saving 1125 new artist IDs name data to /Users/tgadfort/Music/Discog/artists-lastfm-db/metadata/0-Metadata.p\n",
      "  --> This file is 73.1kB.\n",
      "Saving 1125 new artist IDs media data to /Users/tgadfort/Music/Discog/artists-lastfm-db/metadata/0-MediaMetadata.p\n",
      "  --> This file is 653.8kB.\n",
      "\n",
      "Current Time is Tue Oct 13, 2020 21:45:27 for Done with Parsing Single ModVal\n",
      "Process [Done with Parsing Single ModVal] took 1.5 minutes.\n"
     ]
    }
   ],
   "source": [
    "start,cmt=clock(\"Parsing Single ModVal\")\n",
    "pdb.parse(db=\"LastFM\", modVals=[0], nProcs=1, force=True)\n",
    "elapsed(start, cmt)"
   ]
  },
  {
   "cell_type": "code",
   "execution_count": null,
   "metadata": {},
   "outputs": [],
   "source": [
    "data = getFile('/Volumes/Piggy/Discog/artists-lastfm-db/0-DB.p')"
   ]
  },
  {
   "cell_type": "code",
   "execution_count": null,
   "metadata": {},
   "outputs": [],
   "source": [
    "data['11792020000']"
   ]
  },
  {
   "cell_type": "code",
   "execution_count": null,
   "metadata": {},
   "outputs": [],
   "source": []
  },
  {
   "cell_type": "code",
   "execution_count": null,
   "metadata": {},
   "outputs": [],
   "source": [
    "dbdata[\"LastFM\"][\"Artists\"].parseArtistModValExtraFiles(0, force=True, debug=True)"
   ]
  },
  {
   "cell_type": "code",
   "execution_count": null,
   "metadata": {},
   "outputs": [],
   "source": [
    "from glob import glob\n",
    "glob('/Volumes/Piggy/Discog/artists-lastfm/0/extra/11792020000-*.p')"
   ]
  },
  {
   "cell_type": "code",
   "execution_count": null,
   "metadata": {},
   "outputs": [],
   "source": [
    "bsdata = getHTML(ifile)\n",
    "ols = bsdata.findAll(\"ol\", {\"class\": \"buffer-standard\"})\n",
    "ols"
   ]
  },
  {
   "cell_type": "code",
   "execution_count": null,
   "metadata": {},
   "outputs": [],
   "source": [
    "ifile='/Volumes/Piggy/Discog/artists-lastfm/0/extra/72742897500-2.p'\n",
    "#getFile(ifile)\n",
    "a       = dbdata[\"LastFM\"][\"Artist\"].getData(ifile, debug=False)\n",
    "\n",
    "def info(a):\n",
    "    name    = a.artist.name\n",
    "    ID      = a.ID.ID\n",
    "    url     = a.url.url\n",
    "    pages   = a.pages\n",
    "    media   = a.media\n",
    "    counts  = a.mediaCounts\n",
    "    profile = a.profile\n",
    "\n",
    "    print(\"{0: <10}{1}\".format(\"Name:\", name))\n",
    "    print(\"{0: <10}{1}\".format(\"ID:\", ID))\n",
    "    print(\"{0: <10}{1}\".format(\"URL:\", url))\n",
    "    print(\"{0: <10}{1}\".format(\"Pages:\", pages.get()))\n",
    "    print(\"{0: <10}{1}\".format(\"Profile:\", profile.get()))\n",
    "    print(\"{0: <10}{1}\".format(\"Counts:\", counts.get()))\n",
    "    print(\"{0: <10}\".format(\"Media:\"))\n",
    "    for mediaType,mediaData in media.get()['media'].items():\n",
    "        for mediaInfo in mediaData:\n",
    "            print(\"\\t{0: <10}{1}\".format(mediaType, mediaInfo.get()['album']))"
   ]
  },
  {
   "cell_type": "code",
   "execution_count": null,
   "metadata": {},
   "outputs": [],
   "source": [
    "info(a)"
   ]
  },
  {
   "cell_type": "code",
   "execution_count": null,
   "metadata": {},
   "outputs": [],
   "source": [
    "nProcs = 8\n",
    "%load_ext autoreload\n",
    "%autoreload\n",
    "from mainDB import mainDB\n",
    "maindb = mainDB(mdb=None, create=True, debug=True)\n",
    "start,cmt=clock(\"Parsing All Artists\")\n",
    "start2,cmt2=clock(\"Parallel Artist Parsing\")\n",
    "\n",
    "parseArtistsParallel(db=\"AllMusic\", nProcs=nProcs)\n",
    "maindb.setDBFull(\"AllMusic\")\n",
    "\n",
    "parseArtistsParallel(db=\"MusicBrainz\", nProcs=nProcs)\n",
    "maindb.setDBFull(\"MusicBrainz\")\n",
    "\n",
    "parseArtistsParallel(db=\"Discogs\", nProcs=nProcs)\n",
    "maindb.setDBFull(\"Discogs\")\n",
    "\n",
    "#parseArtistsParallel(db=\"AceBootlegs\", nProcs=1)\n",
    "#parseArtistsParallel(db=\"DatPiff\", nProcs=1)\n",
    "#parseArtistsParallel(db=\"RateYourMusic\", nProcs=3)\n",
    "parseArtistsParallel(db=\"LastFM\", nProcs=nProcs)\n",
    "maindb.setDBFull(\"LastFM\")\n",
    "\n",
    "#parseArtistsParallel(db=\"RockCorner\", nProcs=3)\n",
    "#parseArtistsParallel(db=\"CDandLP\", nProcs=3)\n",
    "#parseArtistsParallel(db=\"MusicStack\", nProcs=1)\n",
    "elapsed(start2, cmt2)\n",
    "elapsed(start, cmt)"
   ]
  },
  {
   "cell_type": "markdown",
   "metadata": {},
   "source": [
    "# Master DB"
   ]
  },
  {
   "cell_type": "code",
   "execution_count": null,
   "metadata": {},
   "outputs": [],
   "source": [
    "\n",
    "print(\"\\n\\n{0}\\n\".format(\"Full DB\"))\n",
    "print(\"\\n\\n{0}\\n\".format(\"Known DB\"))\n",
    "#maindb.setDBKnown() ## Do this to recreate everything\n",
    "#maindb.setDBKnown()\n",
    "#artistDBs = maindb.getKnownArtistDBs()"
   ]
  },
  {
   "cell_type": "markdown",
   "metadata": {},
   "source": [
    "# Download My Known Artists"
   ]
  },
  {
   "cell_type": "code",
   "execution_count": null,
   "metadata": {},
   "outputs": [],
   "source": [
    "mdb = myMusicDBMap(debug=True)"
   ]
  },
  {
   "cell_type": "code",
   "execution_count": null,
   "metadata": {},
   "outputs": [],
   "source": [
    "dbsToGet = [\"AllMusic\", \"Discogs\", \"MusicBrainz\", \"LastFM\", \"RockCorner\", \"CDandLP\"]\n",
    "searches = [dbdata[\"AllMusic\"][\"Artists\"].searchAllMusicForArtist, dbdata[\"Discogs\"][\"Artists\"].searchDiscogForArtist,\n",
    "            dbdata[\"MusicBrainz\"][\"Artists\"].searchMusicBrainzForArtist, dbdata[\"LastFM\"][\"Artists\"].searchLastFMForArtist,\n",
    "            dbdata[\"RockCorner\"][\"Artists\"].searchRockCornerForArtist, dbdata[\"CDandLP\"][\"Artists\"].searchCDandLPForArtist]\n",
    "\n",
    "dbsToGet = [\"AllMusic\"]\n",
    "searches = [dbdata[\"AllMusic\"][\"Artists\"].searchAllMusicForArtist]"
   ]
  },
  {
   "cell_type": "code",
   "execution_count": null,
   "metadata": {},
   "outputs": [],
   "source": [
    "def searchAll(mdb, minI=-1):\n",
    "    nArtists = len(mdb.getArtists())\n",
    "    for i,artistName in enumerate(mdb.getArtists()):\n",
    "        if i <= minI:\n",
    "            continue\n",
    "\n",
    "        print('\\n\\n\\n')\n",
    "        print('-'*130)\n",
    "        print(i,'/',nArtists,'===>\\t',artistName)\n",
    "        print('-'*130)\n",
    "        print('\\n')\n",
    "        \n",
    "        dbdata = mdb.getArtistData(artistName)\n",
    "        if all([dbdata.get(\"LastFM\"), dbdata.get(\"Discogs\"), dbdata.get(\"AllMusic\"), dbdata.get(\"MusicBrainz\")]):\n",
    "            print(\"{0} is well known.\".format(artistName))\n",
    "            continue\n",
    "        else:\n",
    "            print(\"{0} get it!\".format(artistName))\n",
    "\n",
    "        for search in searches:\n",
    "            print(\"====>\",search)\n",
    "            try:\n",
    "                search(artistName)\n",
    "            except:\n",
    "                sleep(3)"
   ]
  },
  {
   "cell_type": "code",
   "execution_count": null,
   "metadata": {},
   "outputs": [],
   "source": [
    "searchAll(mdb, 3404)"
   ]
  },
  {
   "cell_type": "code",
   "execution_count": null,
   "metadata": {},
   "outputs": [],
   "source": [
    "# Refused"
   ]
  },
  {
   "cell_type": "markdown",
   "metadata": {},
   "source": [
    "# Albums"
   ]
  },
  {
   "cell_type": "code",
   "execution_count": null,
   "metadata": {},
   "outputs": [],
   "source": [
    "%load_ext autoreload\n",
    "%autoreload\n",
    "from album import album\n",
    "from albums import albums\n",
    "from discogsBase import discogs\n",
    "\n",
    "disc = discogs()\n",
    "albs = albums(disc)\n",
    "#albs.parseAlbumModValFiles(modVal=27)"
   ]
  },
  {
   "cell_type": "code",
   "execution_count": null,
   "metadata": {},
   "outputs": [],
   "source": [
    "def parseAlbums(modVal):\n",
    "    albs.parseAlbumModValFiles(modVal=modVal)\n",
    "    #albs.createAlbumModValMetadata(modVal)\n",
    "    #albs.createAlbumModValMetadata(modVal=modVal)\n",
    "\n",
    "def parseAlbumsParallel(modVals=None):\n",
    "    if modVals is None:\n",
    "        modVals = [\"NAN\"] + list(range(100))\n",
    "        #modVals = range(100)\n",
    "    nProcs = 2\n",
    "    pool = Pool(processes=nProcs)\n",
    "    result = pool.map_async(parseAlbums, modVals)\n",
    " \n",
    "    start, cmt = clock(\"Processing {0} modVals using {1} processes\".format(modVals, nProcs))\n",
    "    print(\"Runing .\",end=\"\")\n",
    "    while not result.ready():\n",
    "        #print(\".\",end=\"\")\n",
    "        time.sleep(10)\n",
    "    print(\"\")\n",
    "    \n",
    "    elapsed(start, cmt)\n",
    "    return result.get()"
   ]
  },
  {
   "cell_type": "code",
   "execution_count": null,
   "metadata": {},
   "outputs": [],
   "source": [
    "%load_ext autoreload\n",
    "%autoreload\n",
    "from album import album\n",
    "from albums import albums\n",
    "albs = albums(disc)\n",
    "\n",
    "start,cmt=clock(\"Parsing All Albums\")\n",
    "start2,cmt2=clock(\"Parallel Album Parsing\")\n",
    "parseAlbumsParallel()\n",
    "elapsed(start2, cmt2)\n",
    "elapsed(start, cmt)"
   ]
  },
  {
   "cell_type": "markdown",
   "metadata": {},
   "source": [
    "# Download Stuff"
   ]
  },
  {
   "cell_type": "code",
   "execution_count": null,
   "metadata": {},
   "outputs": [],
   "source": [
    "mdb = myMusicDBMap(debug=True)\n",
    "maindb = mainDB(mdb=mdb, create=False, debug=True)\n",
    "dbdata = maindb.dbdata"
   ]
  },
  {
   "cell_type": "code",
   "execution_count": null,
   "metadata": {},
   "outputs": [],
   "source": [
    "ifile = \"unmatchedArtists4.p\"\n",
    "noMatches = getFile(ifile)\n",
    "print(len(noMatches))\n",
    "dbs = ['Discogs', 'AllMusic', 'MusicBrainz', 'LastFM']\n",
    "dbs = ['MusicBrainz']\n",
    "\n",
    "#noMatches=['Go-A', 'PM', 'Qango']\n",
    "\n",
    "from time import sleep\n",
    "maxI = -1\n",
    "for i,artist in enumerate(noMatches):\n",
    "    print(\"=\"*100)\n",
    "    print(\"=\"*100)\n",
    "    print(\"=\"*100)\n",
    "    print(\"=\"*100)\n",
    "    print(i,'/',len(noMatches),'\\t',artist)\n",
    "    if i <= maxI:\n",
    "        continue\n",
    "    for db in dbs:\n",
    "        print(\"=\"*100)\n",
    "        print(i,'/',len(noMatches),'\\t',artist,'===>',db)\n",
    "        try:\n",
    "            dbdata[db][\"Artists\"].searchForArtist(artist)\n",
    "        except:\n",
    "            sleep(5)"
   ]
  },
  {
   "cell_type": "code",
   "execution_count": null,
   "metadata": {},
   "outputs": [],
   "source": []
  }
 ],
 "metadata": {
  "kernelspec": {
   "display_name": "Python 3",
   "language": "python",
   "name": "python3"
  },
  "language_info": {
   "codemirror_mode": {
    "name": "ipython",
    "version": 3
   },
   "file_extension": ".py",
   "mimetype": "text/x-python",
   "name": "python",
   "nbconvert_exporter": "python",
   "pygments_lexer": "ipython3",
   "version": "3.7.7"
  }
 },
 "nbformat": 4,
 "nbformat_minor": 2
}
