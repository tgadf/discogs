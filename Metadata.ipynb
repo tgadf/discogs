{
 "cells": [
  {
   "cell_type": "code",
   "execution_count": 1,
   "metadata": {},
   "outputs": [
    {
     "data": {
      "text/html": [
       "<style>.container { width:100% !important; }</style>"
      ],
      "text/plain": [
       "<IPython.core.display.HTML object>"
      ]
     },
     "metadata": {},
     "output_type": "display_data"
    },
    {
     "data": {
      "text/html": [
       "<style>div.output_area{max-height:10000px;overflow:scroll;}</style>"
      ],
      "text/plain": [
       "<IPython.core.display.HTML object>"
      ]
     },
     "metadata": {},
     "output_type": "display_data"
    },
    {
     "name": "stdout",
     "output_type": "stream",
     "text": [
      "Python: 3.7.3 (default, Mar 27 2019, 16:54:48) \n",
      "[Clang 4.0.1 (tags/RELEASE_401/final)]\n",
      "Notebook Last Run Initiated: 2020-02-22 18:04:39.783507\n"
     ]
    }
   ],
   "source": [
    "## Basic stuff\n",
    "%load_ext autoreload\n",
    "%autoreload\n",
    "from IPython.core.display import display, HTML\n",
    "display(HTML(\"<style>.container { width:100% !important; }</style>\"))\n",
    "display(HTML(\"\"\"<style>div.output_area{max-height:10000px;overflow:scroll;}</style>\"\"\"))\n",
    "\n",
    "## Python Version\n",
    "import sys\n",
    "print(\"Python: {0}\".format(sys.version))\n",
    "\n",
    "from ioUtils import saveJoblib, loadJoblib, saveFile, getFile\n",
    "import urllib\n",
    "from urllib.parse import quote\n",
    "\n",
    "from discogsBase import discogs\n",
    "from discogsUtils import discogsUtils, allmusicUtils\n",
    "from collection import collections\n",
    "from artist import artist\n",
    "from timeUtils import clock, elapsed\n",
    "from fsUtils import moveFile, setFile, setDir, setSubDir, isFile, isDir, mkDir\n",
    "from fileUtils import getFileBasics, getBasename\n",
    "from artists import artists\n",
    "from artistsAM import artistsAM\n",
    "from albums import albums\n",
    "from time import sleep\n",
    "import time\n",
    "from multiprocessing import Pool\n",
    "\n",
    "import datetime as dt\n",
    "start = dt.datetime.now()\n",
    "print(\"Notebook Last Run Initiated: \"+str(start))"
   ]
  },
  {
   "cell_type": "code",
   "execution_count": 3,
   "metadata": {
    "scrolled": true
   },
   "outputs": [
    {
     "name": "stdout",
     "output_type": "stream",
     "text": [
      "The autoreload extension is already loaded. To reload it, use:\n",
      "  %reload_ext autoreload\n"
     ]
    }
   ],
   "source": [
    "%load_ext autoreload\n",
    "%autoreload\n",
    "discAM   = discogs('allmusic')\n",
    "artsAM   = artistsAM(discAM)\n",
    "dutilsAM = allmusicUtils()\n",
    "\n",
    "discDC   = discogs('discogs')\n",
    "artsDC   = artists(discDC)\n",
    "dutilsDC = discogsUtils()"
   ]
  },
  {
   "cell_type": "markdown",
   "metadata": {},
   "source": [
    "# Collections"
   ]
  },
  {
   "cell_type": "code",
   "execution_count": null,
   "metadata": {},
   "outputs": [],
   "source": [
    "%load_ext autoreload\n",
    "%autoreload\n",
    "#col = collections(disc)\n",
    "#col.parseCollections(force=False)\n",
    "#col.createCollectionDBs()"
   ]
  },
  {
   "cell_type": "markdown",
   "metadata": {},
   "source": [
    "# Parse Artists (All Music)"
   ]
  },
  {
   "cell_type": "code",
   "execution_count": null,
   "metadata": {
    "scrolled": true
   },
   "outputs": [],
   "source": [
    "for i in range(100):\n",
    "    artsAM.parseArtistModValFiles(i, force=True)"
   ]
  },
  {
   "cell_type": "markdown",
   "metadata": {},
   "source": [
    "# Parse Artists (Parallel)"
   ]
  },
  {
   "cell_type": "code",
   "execution_count": 8,
   "metadata": {},
   "outputs": [
    {
     "name": "stdout",
     "output_type": "stream",
     "text": [
      "The autoreload extension is already loaded. To reload it, use:\n",
      "  %reload_ext autoreload\n"
     ]
    }
   ],
   "source": [
    "%load_ext autoreload\n",
    "%autoreload\n",
    "discAM   = discogs('allmusic')\n",
    "artsAM   = artistsAM(discAM)\n",
    "dutilsAM = allmusicUtils()\n",
    "\n",
    "discDC   = discogs('discogs')\n",
    "artsDC   = artists(discDC)\n",
    "dutilsDC = discogsUtils()\n",
    "\n",
    "def parseArtistsAM(modVal, force=False, doExtra=False):\n",
    "    artsAM.parseArtistModValFiles(modVal, force=force)\n",
    "\n",
    "def parseArtistsDC(modVal, force=False, doExtra=False):\n",
    "    artsDC.parseArtistModValFiles(modVal, force=force)\n",
    "    \n",
    "def parseArtistsParallel(db, nProcs=3, force=False):\n",
    "    pool = Pool(processes=nProcs)\n",
    "    if db == \"Discogs\":\n",
    "        result = pool.map_async(parseArtistsDC, [29, 30, 31, 32, 33, 34, 35])\n",
    "        #result = pool.map_async(parseArtistsDC, range(100))\n",
    "    elif db == \"AllMusic\":\n",
    "        result = pool.map_async(parseArtistsAM, range(100))\n",
    "    else:\n",
    "        raise ValueError(\"[{0}] is not recognized as a DB\".format(db))\n",
    "\n",
    "    while not result.ready():\n",
    "        if force is True:\n",
    "            time.sleep(10)\n",
    "        else:\n",
    "            time.sleep(1)\n",
    "    print(\"\")\n",
    "    return result.get()"
   ]
  },
  {
   "cell_type": "code",
   "execution_count": 12,
   "metadata": {},
   "outputs": [
    {
     "name": "stdout",
     "output_type": "stream",
     "text": [
      "Parsing Artist Files For ModVal 29\n",
      "Forcing Reloads of ModVal=29\n",
      "  Processing 7126 files.\n",
      "\tProcessed 0/7126 files.\n",
      "\tProcessed 500/7126 files.\n",
      "\tProcessed 1000/7126 files.\n",
      "\tProcessed 1500/7126 files.\n",
      "\tProcessed 2000/7126 files.\n",
      "\tProcessed 2500/7126 files.\n",
      "\tProcessed 3000/7126 files.\n",
      "\tProcessed 3500/7126 files.\n",
      "\tProcessed 4000/7126 files.\n",
      "\tProcessed 4500/7126 files.\n",
      "\tProcessed 5000/7126 files.\n",
      "\tProcessed 5500/7126 files.\n",
      "\tProcessed 6000/7126 files.\n",
      "\tProcessed 6500/7126 files.\n",
      "\tProcessed 7000/7126 files.\n",
      "Saving 7126 new artist IDs to /Volumes/Biggy/Discog/artists-discogs-db/29-DB.p\n",
      "  --> This file is 12.0MB.\n",
      "Saving 7126 new artist IDs name data to /Volumes/Biggy/Discog/artists-discogs-db/metadata/29-Metadata.p\n",
      "  --> This file is 406.1kB.\n",
      "Saving 7126 new artist IDs media data to /Volumes/Biggy/Discog/artists-discogs-db/metadata/29-MediaMetadata.p\n",
      "  --> This file is 3.9MB.\n"
     ]
    },
    {
     "data": {
      "text/plain": [
       "7126"
      ]
     },
     "execution_count": 12,
     "metadata": {},
     "output_type": "execute_result"
    }
   ],
   "source": [
    "artsDC.parseArtistModValFiles(29, force=True)\n",
    "#arts.parseArtistModValFiles(50, force=True)"
   ]
  },
  {
   "cell_type": "code",
   "execution_count": 9,
   "metadata": {},
   "outputs": [
    {
     "name": "stdout",
     "output_type": "stream",
     "text": [
      "Current Time is Sun Feb 23, 2020 11:52:55 for Parsing All Artists\n",
      "Current Time is Sun Feb 23, 2020 11:52:55 for Parallel Artist Parsing\n",
      "Parsing Artist Files For ModVal 30\n",
      "Parsing Artist Files For ModVal 29\n",
      "Parsing Artist Files For ModVal 32\n",
      "Parsing Artist Files For ModVal 31\n",
      "Parsing Artist Files For ModVal 34\n",
      "Parsing Artist Files For ModVal 33\n",
      "Parsing Artist Files For ModVal 35\n",
      "  ===> Found 7126 files. There are 40 new files to parse.\n",
      "  ===> Found 7166 files. There are 46 new files to parse.\n",
      "  ===> Found 7081 files. There are 36 new files to parse.\n",
      "  ===> Found 6970 files. There are 41 new files to parse.\n",
      "  ===> Found 7077 files. There are 41 new files to parse.\n",
      "  ===> Found 7138 files. There are 43 new files to parse.\n",
      "  ===> Found 7209 files. There are 34 new files to parse.\n",
      "Saving 7077 new artist IDs to /Volumes/Biggy/Discog/artists-discogs-db/31-DB.p\n",
      "Saving 6970 new artist IDs to /Volumes/Biggy/Discog/artists-discogs-db/35-DB.p\n",
      "Saving 7138 new artist IDs to /Volumes/Biggy/Discog/artists-discogs-db/30-DB.p\n",
      "Saving 7081 new artist IDs to /Volumes/Biggy/Discog/artists-discogs-db/34-DB.p\n",
      "  --> This file is 11.5MB.\n",
      "Saving 7077 new artist IDs name data to /Volumes/Biggy/Discog/artists-discogs-db/metadata/31-Metadata.p\n",
      "Saving 7209 new artist IDs to /Volumes/Biggy/Discog/artists-discogs-db/32-DB.p\n",
      "  --> This file is 411.4kB.\n",
      "Saving 7077 new artist IDs media data to /Volumes/Biggy/Discog/artists-discogs-db/metadata/31-MediaMetadata.p\n",
      "  --> This file is 3.7MB.\n",
      "Saving 7166 new artist IDs to /Volumes/Biggy/Discog/artists-discogs-db/33-DB.p\n",
      "  --> This file is 11.8MB.\n",
      "Saving 6970 new artist IDs name data to /Volumes/Biggy/Discog/artists-discogs-db/metadata/35-Metadata.p\n",
      "  --> This file is 406.1kB.\n",
      "Saving 6970 new artist IDs media data to /Volumes/Biggy/Discog/artists-discogs-db/metadata/35-MediaMetadata.p\n",
      "  --> This file is 3.9MB.\n",
      "  --> This file is 11.9MB.\n",
      "Saving 7138 new artist IDs name data to /Volumes/Biggy/Discog/artists-discogs-db/metadata/30-Metadata.p\n",
      "  --> This file is 407.9kB.\n",
      "Saving 7138 new artist IDs media data to /Volumes/Biggy/Discog/artists-discogs-db/metadata/30-MediaMetadata.p\n",
      "  --> This file is 3.8MB.\n",
      "  --> This file is 12.0MB.\n",
      "Saving 7081 new artist IDs name data to /Volumes/Biggy/Discog/artists-discogs-db/metadata/34-Metadata.p\n",
      "  --> This file is 409.7kB.\n",
      "Saving 7081 new artist IDs media data to /Volumes/Biggy/Discog/artists-discogs-db/metadata/34-MediaMetadata.p\n",
      "  --> This file is 3.9MB.\n",
      "  --> This file is 12.3MB.\n",
      "Saving 7210 new artist IDs name data to /Volumes/Biggy/Discog/artists-discogs-db/metadata/32-Metadata.p\n",
      "  --> This file is 428.7kB.\n",
      "Saving 7210 new artist IDs media data to /Volumes/Biggy/Discog/artists-discogs-db/metadata/32-MediaMetadata.p\n",
      "  --> This file is 4.0MB.\n",
      "  --> This file is 12.6MB.\n",
      "Saving 7166 new artist IDs name data to /Volumes/Biggy/Discog/artists-discogs-db/metadata/33-Metadata.p\n",
      "  --> This file is 420.3kB.\n",
      "Saving 7166 new artist IDs media data to /Volumes/Biggy/Discog/artists-discogs-db/metadata/33-MediaMetadata.p\n",
      "  --> This file is 4.1MB.\n",
      "\n"
     ]
    },
    {
     "ename": "EOFError",
     "evalue": "",
     "output_type": "error",
     "traceback": [
      "\u001b[0;31m---------------------------------------------------------------------------\u001b[0m",
      "\u001b[0;31mRemoteTraceback\u001b[0m                           Traceback (most recent call last)",
      "\u001b[0;31mRemoteTraceback\u001b[0m: \n\"\"\"\nTraceback (most recent call last):\n  File \"/anaconda3/envs/py37/lib/python3.7/multiprocessing/pool.py\", line 121, in worker\n    result = (True, func(*args, **kwds))\n  File \"/anaconda3/envs/py37/lib/python3.7/multiprocessing/pool.py\", line 44, in mapstar\n    return list(map(*args))\n  File \"<ipython-input-8-3891e917a3d0>\", line 15, in parseArtistsDC\n    artsDC.parseArtistModValFiles(modVal, force=force)\n  File \"/Users/tgadfort/Documents/code/discogs/artists.py\", line 392, in parseArtistModValFiles\n    dbdata = getFile(dbname, version=3)\n  File \"/anaconda3/envs/py37/lib/python3.7/site-packages/utils-0.0.1-py3.7.egg/ioUtils.py\", line 223, in getFile\n    return getPICKLE(pfile=ifile, version=version, debug=debug)\n  File \"/anaconda3/envs/py37/lib/python3.7/site-packages/utils-0.0.1-py3.7.egg/ioUtils.py\", line 189, in getPICKLE\n    data = joblib.load(pfile)\n  File \"/anaconda3/envs/py37/lib/python3.7/site-packages/sklearn/externals/joblib/numpy_pickle.py\", line 598, in load\n    obj = _unpickle(fobj, filename, mmap_mode)\n  File \"/anaconda3/envs/py37/lib/python3.7/site-packages/sklearn/externals/joblib/numpy_pickle.py\", line 526, in _unpickle\n    obj = unpickler.load()\n  File \"/anaconda3/envs/py37/lib/python3.7/pickle.py\", line 1083, in load\n    raise EOFError\nEOFError\n\"\"\"",
      "\nThe above exception was the direct cause of the following exception:\n",
      "\u001b[0;31mEOFError\u001b[0m                                  Traceback (most recent call last)",
      "\u001b[0;32m<ipython-input-9-a5d7cded2c1b>\u001b[0m in \u001b[0;36m<module>\u001b[0;34m\u001b[0m\n\u001b[1;32m      2\u001b[0m \u001b[0mstart2\u001b[0m\u001b[0;34m,\u001b[0m\u001b[0mcmt2\u001b[0m\u001b[0;34m=\u001b[0m\u001b[0mclock\u001b[0m\u001b[0;34m(\u001b[0m\u001b[0;34m\"Parallel Artist Parsing\"\u001b[0m\u001b[0;34m)\u001b[0m\u001b[0;34m\u001b[0m\u001b[0;34m\u001b[0m\u001b[0m\n\u001b[1;32m      3\u001b[0m \u001b[0;31m#parseArtistsParallel(db=\"AllMusic\", nProcs=4)\u001b[0m\u001b[0;34m\u001b[0m\u001b[0;34m\u001b[0m\u001b[0;34m\u001b[0m\u001b[0m\n\u001b[0;32m----> 4\u001b[0;31m \u001b[0mparseArtistsParallel\u001b[0m\u001b[0;34m(\u001b[0m\u001b[0mdb\u001b[0m\u001b[0;34m=\u001b[0m\u001b[0;34m\"Discogs\"\u001b[0m\u001b[0;34m,\u001b[0m \u001b[0mnProcs\u001b[0m\u001b[0;34m=\u001b[0m\u001b[0;36m7\u001b[0m\u001b[0;34m)\u001b[0m\u001b[0;34m\u001b[0m\u001b[0;34m\u001b[0m\u001b[0m\n\u001b[0m\u001b[1;32m      5\u001b[0m \u001b[0melapsed\u001b[0m\u001b[0;34m(\u001b[0m\u001b[0mstart2\u001b[0m\u001b[0;34m,\u001b[0m \u001b[0mcmt2\u001b[0m\u001b[0;34m)\u001b[0m\u001b[0;34m\u001b[0m\u001b[0;34m\u001b[0m\u001b[0m\n\u001b[1;32m      6\u001b[0m \u001b[0melapsed\u001b[0m\u001b[0;34m(\u001b[0m\u001b[0mstart\u001b[0m\u001b[0;34m,\u001b[0m \u001b[0mcmt\u001b[0m\u001b[0;34m)\u001b[0m\u001b[0;34m\u001b[0m\u001b[0;34m\u001b[0m\u001b[0m\n",
      "\u001b[0;32m<ipython-input-8-3891e917a3d0>\u001b[0m in \u001b[0;36mparseArtistsParallel\u001b[0;34m(db, nProcs, force)\u001b[0m\n\u001b[1;32m     31\u001b[0m             \u001b[0mtime\u001b[0m\u001b[0;34m.\u001b[0m\u001b[0msleep\u001b[0m\u001b[0;34m(\u001b[0m\u001b[0;36m1\u001b[0m\u001b[0;34m)\u001b[0m\u001b[0;34m\u001b[0m\u001b[0;34m\u001b[0m\u001b[0m\n\u001b[1;32m     32\u001b[0m     \u001b[0mprint\u001b[0m\u001b[0;34m(\u001b[0m\u001b[0;34m\"\"\u001b[0m\u001b[0;34m)\u001b[0m\u001b[0;34m\u001b[0m\u001b[0;34m\u001b[0m\u001b[0m\n\u001b[0;32m---> 33\u001b[0;31m     \u001b[0;32mreturn\u001b[0m \u001b[0mresult\u001b[0m\u001b[0;34m.\u001b[0m\u001b[0mget\u001b[0m\u001b[0;34m(\u001b[0m\u001b[0;34m)\u001b[0m\u001b[0;34m\u001b[0m\u001b[0;34m\u001b[0m\u001b[0m\n\u001b[0m",
      "\u001b[0;32m/anaconda3/envs/py37/lib/python3.7/multiprocessing/pool.py\u001b[0m in \u001b[0;36mget\u001b[0;34m(self, timeout)\u001b[0m\n\u001b[1;32m    655\u001b[0m             \u001b[0;32mreturn\u001b[0m \u001b[0mself\u001b[0m\u001b[0;34m.\u001b[0m\u001b[0m_value\u001b[0m\u001b[0;34m\u001b[0m\u001b[0;34m\u001b[0m\u001b[0m\n\u001b[1;32m    656\u001b[0m         \u001b[0;32melse\u001b[0m\u001b[0;34m:\u001b[0m\u001b[0;34m\u001b[0m\u001b[0;34m\u001b[0m\u001b[0m\n\u001b[0;32m--> 657\u001b[0;31m             \u001b[0;32mraise\u001b[0m \u001b[0mself\u001b[0m\u001b[0;34m.\u001b[0m\u001b[0m_value\u001b[0m\u001b[0;34m\u001b[0m\u001b[0;34m\u001b[0m\u001b[0m\n\u001b[0m\u001b[1;32m    658\u001b[0m \u001b[0;34m\u001b[0m\u001b[0m\n\u001b[1;32m    659\u001b[0m     \u001b[0;32mdef\u001b[0m \u001b[0m_set\u001b[0m\u001b[0;34m(\u001b[0m\u001b[0mself\u001b[0m\u001b[0;34m,\u001b[0m \u001b[0mi\u001b[0m\u001b[0;34m,\u001b[0m \u001b[0mobj\u001b[0m\u001b[0;34m)\u001b[0m\u001b[0;34m:\u001b[0m\u001b[0;34m\u001b[0m\u001b[0;34m\u001b[0m\u001b[0m\n",
      "\u001b[0;31mEOFError\u001b[0m: "
     ]
    }
   ],
   "source": [
    "start,cmt=clock(\"Parsing All Artists\")\n",
    "start2,cmt2=clock(\"Parallel Artist Parsing\")\n",
    "#parseArtistsParallel(db=\"AllMusic\", nProcs=4)\n",
    "parseArtistsParallel(db=\"Discogs\", nProcs=7)\n",
    "elapsed(start2, cmt2)\n",
    "elapsed(start, cmt)"
   ]
  },
  {
   "cell_type": "code",
   "execution_count": null,
   "metadata": {},
   "outputs": [],
   "source": []
  },
  {
   "cell_type": "code",
   "execution_count": 3,
   "metadata": {},
   "outputs": [
    {
     "name": "stdout",
     "output_type": "stream",
     "text": [
      "The autoreload extension is already loaded. To reload it, use:\n",
      "  %reload_ext autoreload\n"
     ]
    }
   ],
   "source": [
    "\n",
    "from artists import artists\n",
    "discDC   = discogs('discogs')\n",
    "artsDC = artists(discDC)\n",
    "\n",
    "from artistsAM import artistsAM\n",
    "discAM   = discogs('allmusic')\n",
    "artsAM = artistsAM(discAM)"
   ]
  },
  {
   "cell_type": "markdown",
   "metadata": {},
   "source": [
    "# Albums"
   ]
  },
  {
   "cell_type": "code",
   "execution_count": null,
   "metadata": {},
   "outputs": [],
   "source": [
    "%load_ext autoreload\n",
    "%autoreload\n",
    "from album import album\n",
    "from albums import albums\n",
    "from discogsBase import discogs\n",
    "\n",
    "disc = discogs()\n",
    "albs = albums(disc)\n",
    "#albs.parseAlbumModValFiles(modVal=27)"
   ]
  },
  {
   "cell_type": "code",
   "execution_count": null,
   "metadata": {},
   "outputs": [],
   "source": [
    "def parseAlbums(modVal):\n",
    "    albs.parseAlbumModValFiles(modVal=modVal)\n",
    "    #albs.createAlbumModValMetadata(modVal)\n",
    "    #albs.createAlbumModValMetadata(modVal=modVal)\n",
    "\n",
    "def parseAlbumsParallel(modVals=None):\n",
    "    if modVals is None:\n",
    "        modVals = [\"NAN\"] + list(range(100))\n",
    "        #modVals = range(100)\n",
    "    nProcs = 2\n",
    "    pool = Pool(processes=nProcs)\n",
    "    result = pool.map_async(parseAlbums, modVals)\n",
    " \n",
    "    start, cmt = clock(\"Processing {0} modVals using {1} processes\".format(modVals, nProcs))\n",
    "    print(\"Runing .\",end=\"\")\n",
    "    while not result.ready():\n",
    "        #print(\".\",end=\"\")\n",
    "        time.sleep(10)\n",
    "    print(\"\")\n",
    "    \n",
    "    elapsed(start, cmt)\n",
    "    return result.get()"
   ]
  },
  {
   "cell_type": "code",
   "execution_count": null,
   "metadata": {},
   "outputs": [],
   "source": [
    "%load_ext autoreload\n",
    "%autoreload\n",
    "from album import album\n",
    "from albums import albums\n",
    "albs = albums(disc)\n",
    "\n",
    "start,cmt=clock(\"Parsing All Albums\")\n",
    "start2,cmt2=clock(\"Parallel Album Parsing\")\n",
    "parseAlbumsParallel()\n",
    "elapsed(start2, cmt2)\n",
    "elapsed(start, cmt)"
   ]
  },
  {
   "cell_type": "code",
   "execution_count": null,
   "metadata": {},
   "outputs": [],
   "source": [
    "from fsUtils import removeFile"
   ]
  }
 ],
 "metadata": {
  "kernelspec": {
   "display_name": "Python 3",
   "language": "python",
   "name": "python3"
  },
  "language_info": {
   "codemirror_mode": {
    "name": "ipython",
    "version": 3
   },
   "file_extension": ".py",
   "mimetype": "text/x-python",
   "name": "python",
   "nbconvert_exporter": "python",
   "pygments_lexer": "ipython3",
   "version": "3.7.3"
  }
 },
 "nbformat": 4,
 "nbformat_minor": 2
}
