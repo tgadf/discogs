{
 "cells": [
  {
   "cell_type": "code",
   "execution_count": 25,
   "metadata": {},
   "outputs": [
    {
     "name": "stdout",
     "output_type": "stream",
     "text": [
      "The autoreload extension is already loaded. To reload it, use:\n",
      "  %reload_ext autoreload\n"
     ]
    },
    {
     "data": {
      "text/html": [
       "<style>.container { width:100% !important; }</style>"
      ],
      "text/plain": [
       "<IPython.core.display.HTML object>"
      ]
     },
     "metadata": {},
     "output_type": "display_data"
    },
    {
     "data": {
      "text/html": [
       "<style>div.output_area{max-height:10000px;overflow:scroll;}</style>"
      ],
      "text/plain": [
       "<IPython.core.display.HTML object>"
      ]
     },
     "metadata": {},
     "output_type": "display_data"
    },
    {
     "name": "stdout",
     "output_type": "stream",
     "text": [
      "Python: 3.7.3 (default, Mar 27 2019, 16:54:48) \n",
      "[Clang 4.0.1 (tags/RELEASE_401/final)]\n",
      "Notebook Last Run Initiated: 2020-03-19 21:01:42.889012\n"
     ]
    }
   ],
   "source": [
    "## Basic stuff\n",
    "%load_ext autoreload\n",
    "%autoreload\n",
    "from IPython.core.display import display, HTML\n",
    "display(HTML(\"<style>.container { width:100% !important; }</style>\"))\n",
    "display(HTML(\"\"\"<style>div.output_area{max-height:10000px;overflow:scroll;}</style>\"\"\"))\n",
    "\n",
    "## Python Version\n",
    "import sys\n",
    "print(\"Python: {0}\".format(sys.version))\n",
    "\n",
    "\n",
    "################################################################################\n",
    "## General Stuff\n",
    "################################################################################\n",
    "from ioUtils import saveJoblib, loadJoblib, saveFile, getFile\n",
    "import urllib\n",
    "from urllib.parse import quote\n",
    "from collection import collections\n",
    "from timeUtils import clock, elapsed\n",
    "from fsUtils import moveFile, setFile, setDir, setSubDir, isFile, isDir, mkDir\n",
    "from fileUtils import getFileBasics, getBasename\n",
    "from time import sleep\n",
    "import time\n",
    "from multiprocessing import Pool\n",
    "\n",
    "\n",
    "################################################################################\n",
    "## Music Stuff\n",
    "################################################################################\n",
    "\n",
    "## General\n",
    "from discogsBase import discogs\n",
    "\n",
    "## Discogs\n",
    "from artist import artist\n",
    "from artists import artists\n",
    "from discogsUtils import discogsUtils\n",
    "from albums import albums\n",
    "\n",
    "## AllMusic\n",
    "from artistAM import artistAM\n",
    "from artistsAM import artistsAM\n",
    "from discogsUtils import allmusicUtils\n",
    "from artistsAM import artistsAM\n",
    "\n",
    "## MusicBrainz\n",
    "from artistMB import artistMB\n",
    "from artistsMB import artistsMB\n",
    "from discogsUtils import musicbrainzUtils\n",
    "\n",
    "## AceBootlegs\n",
    "from artistAB import artistAB\n",
    "from artistsAB import artistsAB\n",
    "from discogsUtils import acebootlegsUtils\n",
    "\n",
    "\n",
    "\n",
    "import datetime as dt\n",
    "start = dt.datetime.now()\n",
    "print(\"Notebook Last Run Initiated: \"+str(start))"
   ]
  },
  {
   "cell_type": "code",
   "execution_count": 26,
   "metadata": {
    "scrolled": true
   },
   "outputs": [
    {
     "name": "stdout",
     "output_type": "stream",
     "text": [
      "The autoreload extension is already loaded. To reload it, use:\n",
      "  %reload_ext autoreload\n",
      "Current Time is Thu Mar 19, 2020 21:01:48 for Last Run\n"
     ]
    }
   ],
   "source": [
    "%load_ext autoreload\n",
    "%autoreload\n",
    "discAM   = discogs('allmusic')\n",
    "artsAM   = artistsAM(discAM)\n",
    "dutilsAM = allmusicUtils()\n",
    "\n",
    "discDC   = discogs('discogs')\n",
    "artsDC   = artists(discDC)\n",
    "dutilsDC = discogsUtils()\n",
    "\n",
    "discMB   = discogs('musicbrainz')\n",
    "artsMB   = artistsMB(discMB)\n",
    "dutilsMB = musicbrainzUtils()\n",
    "\n",
    "discAB   = discogs('acebootlegs')\n",
    "artsAB   = artistsAB(discAB)\n",
    "dutilsAB = acebootlegsUtils()\n",
    "\n",
    "_, _ = clock(\"Last Run\")"
   ]
  },
  {
   "cell_type": "markdown",
   "metadata": {},
   "source": [
    "# Collections"
   ]
  },
  {
   "cell_type": "code",
   "execution_count": null,
   "metadata": {},
   "outputs": [],
   "source": [
    "%load_ext autoreload\n",
    "%autoreload\n",
    "#col = collections(disc)\n",
    "#col.parseCollections(force=False)\n",
    "#col.createCollectionDBs()"
   ]
  },
  {
   "cell_type": "markdown",
   "metadata": {},
   "source": [
    "# Parse Artists (All Music)"
   ]
  },
  {
   "cell_type": "code",
   "execution_count": null,
   "metadata": {
    "scrolled": true
   },
   "outputs": [],
   "source": [
    "for i in range(100):\n",
    "    artsAM.parseArtistModValFiles(i, force=True)"
   ]
  },
  {
   "cell_type": "code",
   "execution_count": 16,
   "metadata": {},
   "outputs": [
    {
     "data": {
      "text/plain": [
       "{'ID': 148150553282083715092252970758494088400, 'err': None}"
      ]
     },
     "execution_count": 16,
     "metadata": {},
     "output_type": "execute_result"
    }
   ],
   "source": [
    "artMB = artistMB(discMB)\n",
    "retval = artMB.getData(\"/Volumes/Biggy/Discog/artists-musicbrainz/0/148150553282083715092252970758494088400.p\")\n",
    "retval.url.get()\n",
    "retval.ID.get()"
   ]
  },
  {
   "cell_type": "markdown",
   "metadata": {},
   "source": [
    "# Parse Artists (Parallel)"
   ]
  },
  {
   "cell_type": "code",
   "execution_count": 29,
   "metadata": {},
   "outputs": [
    {
     "name": "stdout",
     "output_type": "stream",
     "text": [
      "The autoreload extension is already loaded. To reload it, use:\n",
      "  %reload_ext autoreload\n"
     ]
    }
   ],
   "source": [
    "%load_ext autoreload\n",
    "%autoreload\n",
    "discAM   = discogs('allmusic')\n",
    "artsAM   = artistsAM(discAM)\n",
    "dutilsAM = allmusicUtils()\n",
    "\n",
    "discDC   = discogs('discogs')\n",
    "artsDC   = artists(discDC)\n",
    "dutilsDC = discogsUtils()\n",
    "\n",
    "discMB   = discogs('musicbrainz')\n",
    "artsMB   = artistsMB(discMB)\n",
    "dutilsMB = musicbrainzUtils()\n",
    "\n",
    "discAB   = discogs('acebootlegs')\n",
    "artsAB   = artistsAB(discAB)\n",
    "dutilsAB = acebootlegsUtils()\n",
    "\n",
    "def parseArtistsAM(modVal, force=False, doExtra=False):\n",
    "    artsAM.parseArtistModValFiles(modVal, force=force)\n",
    "\n",
    "def parseArtistsDC(modVal, force=False, doExtra=False):\n",
    "    artsDC.parseArtistModValFiles(modVal, force=force)\n",
    "\n",
    "def parseArtistsMB(modVal, force=False, doExtra=False):\n",
    "    artsMB.parseArtistModValFiles(modVal, force=force)\n",
    "\n",
    "def parseArtistsAB(modVal, force=False, doExtra=False):\n",
    "    artsAB.parseArtistFiles(force=force)\n",
    "\n",
    "    \n",
    "def parseArtistsParallel(db, nProcs=3, force=False):\n",
    "    pool = Pool(processes=nProcs)\n",
    "    if db == \"Discogs\":\n",
    "        #result = pool.map_async(parseArtistsDC, [29, 30, 31, 32, 33, 34, 35])\n",
    "        result = pool.map_async(parseArtistsDC, range(100))\n",
    "    elif db == \"AllMusic\":\n",
    "        result = pool.map_async(parseArtistsAM, range(100))\n",
    "    elif db == \"MusicBrainz\":\n",
    "        result = pool.map_async(parseArtistsMB, range(100))\n",
    "    elif db == \"AceBootlegs\":\n",
    "        result = pool.map_async(parseArtistsAB, [None])\n",
    "    else:\n",
    "        raise ValueError(\"[{0}] is not recognized as a DB\".format(db))\n",
    "\n",
    "    while not result.ready():\n",
    "        if force is True:\n",
    "            time.sleep(10)\n",
    "        else:\n",
    "            time.sleep(1)\n",
    "    print(\"\")\n",
    "    return result.get()"
   ]
  },
  {
   "cell_type": "code",
   "execution_count": 17,
   "metadata": {},
   "outputs": [],
   "source": [
    "#artsDC.parseArtistModValFiles(29, force=True)\n",
    "#arts.parseArtistModValFiles(50, force=True)"
   ]
  },
  {
   "cell_type": "code",
   "execution_count": 31,
   "metadata": {},
   "outputs": [
    {
     "name": "stdout",
     "output_type": "stream",
     "text": [
      "Current Time is Fri Mar 20, 2020 16:52:10 for Parsing All Artists\n",
      "Current Time is Fri Mar 20, 2020 16:52:10 for Parallel Artist Parsing\n",
      "Parsing Artist Files For ModVal 18\n",
      "Parsing Artist Files For ModVal 9\n",
      "Parsing Artist Files For ModVal 0\n",
      "  ===> Found 7217 files, but there are no new files to parse so skipping.\n",
      "  ===> Found 7119 files, but there are no new files to parse so skipping.\n",
      "Parsing Artist Files For ModVal 10\n",
      "Parsing Artist Files For ModVal 1\n",
      "  ===> Found 7223 files, but there are no new files to parse so skipping.\n",
      "Parsing Artist Files For ModVal 19\n",
      "  ===> Found 7185 files, but there are no new files to parse so skipping.\n",
      "Parsing Artist Files For ModVal 20\n",
      "  ===> Found 7166 files, but there are no new files to parse so skipping.\n",
      "Parsing Artist Files For ModVal 11\n",
      "  ===> Found 7380 files, but there are no new files to parse so skipping.\n",
      "Parsing Artist Files For ModVal 2\n",
      "  ===> Found 7214 files, but there are no new files to parse so skipping.\n",
      "Parsing Artist Files For ModVal 21\n",
      "  ===> Found 7254 files, but there are no new files to parse so skipping.\n",
      "Parsing Artist Files For ModVal 12\n",
      "  ===> Found 7169 files, but there are no new files to parse so skipping.\n",
      "Parsing Artist Files For ModVal 3\n",
      "  ===> Found 7198 files, but there are no new files to parse so skipping.\n",
      "Parsing Artist Files For ModVal 22\n",
      "  ===> Found 7273 files, but there are no new files to parse so skipping.\n",
      "Parsing Artist Files For ModVal 13\n",
      "  ===> Found 7422 files, but there are no new files to parse so skipping.\n",
      "Parsing Artist Files For ModVal 4\n",
      "  ===> Found 7232 files, but there are no new files to parse so skipping.\n",
      "Parsing Artist Files For ModVal 23\n",
      "  ===> Found 7330 files, but there are no new files to parse so skipping.\n",
      "Parsing Artist Files For ModVal 14\n",
      "  ===> Found 7239 files, but there are no new files to parse so skipping.\n",
      "Parsing Artist Files For ModVal 5\n",
      "  ===> Found 7210 files, but there are no new files to parse so skipping.\n",
      "Parsing Artist Files For ModVal 24\n",
      "  ===> Found 7075 files, but there are no new files to parse so skipping.\n",
      "Parsing Artist Files For ModVal 15\n",
      "  ===> Found 7089 files, but there are no new files to parse so skipping.\n",
      "Parsing Artist Files For ModVal 6\n",
      "  ===> Found 7006 files, but there are no new files to parse so skipping.\n",
      "Parsing Artist Files For ModVal 25\n",
      "  ===> Found 7139 files, but there are no new files to parse so skipping.\n",
      "Parsing Artist Files For ModVal 7\n",
      "  ===> Found 7204 files, but there are no new files to parse so skipping.\n",
      "Parsing Artist Files For ModVal 16\n",
      "  ===> Found 7182 files, but there are no new files to parse so skipping.\n",
      "Parsing Artist Files For ModVal 26\n",
      "  ===> Found 7182 files, but there are no new files to parse so skipping.\n",
      "Parsing Artist Files For ModVal 8\n",
      "  ===> Found 7128 files, but there are no new files to parse so skipping.\n",
      "Parsing Artist Files For ModVal 17\n",
      "  ===> Found 7304 files, but there are no new files to parse so skipping.\n",
      "Parsing Artist Files For ModVal 27\n",
      "  ===> Found 7227 files, but there are no new files to parse so skipping.\n",
      "Parsing Artist Files For ModVal 36\n",
      "  ===> Found 7224 files, but there are no new files to parse so skipping.\n",
      "Parsing Artist Files For ModVal 45\n",
      "  ===> Found 7100 files, but there are no new files to parse so skipping.\n",
      "Parsing Artist Files For ModVal 28\n",
      "  ===> Found 6990 files, but there are no new files to parse so skipping.\n",
      "Parsing Artist Files For ModVal 46\n",
      "  ===> Found 7264 files, but there are no new files to parse so skipping.\n",
      "Parsing Artist Files For ModVal 37\n",
      "  ===> Found 7214 files, but there are no new files to parse so skipping.\n",
      "Parsing Artist Files For ModVal 29\n",
      "  ===> Found 7083 files, but there are no new files to parse so skipping.\n",
      "Parsing Artist Files For ModVal 47\n",
      "  ===> Found 7054 files, but there are no new files to parse so skipping.\n",
      "Parsing Artist Files For ModVal 38\n",
      "  ===> Found 7140 files, but there are no new files to parse so skipping.\n",
      "Parsing Artist Files For ModVal 30\n",
      "  ===> Found 6931 files, but there are no new files to parse so skipping.\n",
      "Parsing Artist Files For ModVal 48\n",
      "  ===> Found 7089 files, but there are no new files to parse so skipping.\n",
      "Parsing Artist Files For ModVal 39\n",
      "  ===> Found 7148 files, but there are no new files to parse so skipping.\n",
      "Parsing Artist Files For ModVal 31\n",
      "  ===> Found 7277 files, but there are no new files to parse so skipping.\n",
      "Parsing Artist Files For ModVal 49\n",
      "  ===> Found 7069 files, but there are no new files to parse so skipping.\n",
      "Parsing Artist Files For ModVal 40\n",
      "  ===> Found 7087 files, but there are no new files to parse so skipping.\n",
      "Parsing Artist Files For ModVal 32\n",
      "  ===> Found 7060 files, but there are no new files to parse so skipping.\n",
      "Parsing Artist Files For ModVal 41\n",
      "  ===> Found 7186 files, but there are no new files to parse so skipping.\n",
      "Parsing Artist Files For ModVal 50\n",
      "  ===> Found 7224 files, but there are no new files to parse so skipping.\n",
      "Parsing Artist Files For ModVal 33\n",
      "  ===> Found 7292 files, but there are no new files to parse so skipping.\n",
      "Parsing Artist Files For ModVal 42\n",
      "  ===> Found 7148 files, but there are no new files to parse so skipping.\n",
      "Parsing Artist Files For ModVal 51\n",
      "  ===> Found 7179 files, but there are no new files to parse so skipping.\n",
      "Parsing Artist Files For ModVal 34\n",
      "  ===> Found 7157 files, but there are no new files to parse so skipping.\n",
      "Parsing Artist Files For ModVal 43\n",
      "  ===> Found 7217 files, but there are no new files to parse so skipping.\n",
      "Parsing Artist Files For ModVal 52\n",
      "  ===> Found 7099 files, but there are no new files to parse so skipping.\n",
      "Parsing Artist Files For ModVal 35\n",
      "  ===> Found 7170 files, but there are no new files to parse so skipping.\n",
      "Parsing Artist Files For ModVal 44\n",
      "  ===> Found 7273 files, but there are no new files to parse so skipping.\n",
      "Parsing Artist Files For ModVal 53\n",
      "  ===> Found 6978 files, but there are no new files to parse so skipping.\n",
      "Parsing Artist Files For ModVal 54\n",
      "  ===> Found 7036 files, but there are no new files to parse so skipping.\n",
      "Parsing Artist Files For ModVal 63\n",
      "  ===> Found 7212 files, but there are no new files to parse so skipping.\n",
      "Parsing Artist Files For ModVal 72\n",
      "  ===> Found 7299 files. There are 1 new files to parse.\n",
      "  ===> Found 7249 files, but there are no new files to parse so skipping.\n",
      "Parsing Artist Files For ModVal 64\n",
      "  ===> Found 7107 files, but there are no new files to parse so skipping.\n",
      "Parsing Artist Files For ModVal 73\n",
      "  ===> Found 7295 files, but there are no new files to parse so skipping.\n",
      "Parsing Artist Files For ModVal 65\n",
      "  ===> Found 7143 files, but there are no new files to parse so skipping.\n",
      "Parsing Artist Files For ModVal 74\n",
      "  ===> Found 7203 files, but there are no new files to parse so skipping.\n",
      "Parsing Artist Files For ModVal 66\n",
      "  ===> Found 7206 files, but there are no new files to parse so skipping.\n",
      "Parsing Artist Files For ModVal 75\n",
      "  ===> Found 7146 files, but there are no new files to parse so skipping.\n",
      "Parsing Artist Files For ModVal 76\n",
      "  ===> Found 7216 files, but there are no new files to parse so skipping.\n",
      "Parsing Artist Files For ModVal 67\n",
      "  ===> Found 7163 files, but there are no new files to parse so skipping.\n",
      "Parsing Artist Files For ModVal 77\n",
      "  ===> Found 7285 files, but there are no new files to parse so skipping.\n",
      "Parsing Artist Files For ModVal 68\n",
      "  ===> Found 7130 files, but there are no new files to parse so skipping.\n",
      "Parsing Artist Files For ModVal 78\n",
      "  ===> Found 7049 files, but there are no new files to parse so skipping.\n",
      "Parsing Artist Files For ModVal 69\n",
      "  ===> Found 7290 files, but there are no new files to parse so skipping.\n",
      "Parsing Artist Files For ModVal 79\n",
      "  ===> Found 7175 files, but there are no new files to parse so skipping.\n",
      "Parsing Artist Files For ModVal 70\n",
      "Saving 1 new artist IDs to /Volumes/Biggy/Discog/artists-discogs-db/54-DB.p\n",
      "  ===> Found 7193 files, but there are no new files to parse so skipping.\n",
      "Parsing Artist Files For ModVal 80\n",
      "  ===> Found 7084 files, but there are no new files to parse so skipping.\n",
      "Parsing Artist Files For ModVal 71\n",
      "  ===> Found 7222 files, but there are no new files to parse so skipping.\n",
      "Parsing Artist Files For ModVal 81\n",
      "  ===> Found 7097 files, but there are no new files to parse so skipping.\n",
      "Parsing Artist Files For ModVal 90\n"
     ]
    },
    {
     "name": "stdout",
     "output_type": "stream",
     "text": [
      "  ===> Found 7060 files, but there are no new files to parse so skipping.\n",
      "Parsing Artist Files For ModVal 91\n",
      "  ===> Found 7353 files, but there are no new files to parse so skipping.\n",
      "Parsing Artist Files For ModVal 82\n",
      "  ===> Found 7162 files, but there are no new files to parse so skipping.\n",
      "Parsing Artist Files For ModVal 92\n",
      "  ===> Found 7280 files, but there are no new files to parse so skipping.\n",
      "Parsing Artist Files For ModVal 83\n",
      "  ===> Found 7328 files, but there are no new files to parse so skipping.\n",
      "Parsing Artist Files For ModVal 93\n",
      "  ===> Found 7256 files, but there are no new files to parse so skipping.\n",
      "Parsing Artist Files For ModVal 84\n",
      "  ===> Found 7197 files, but there are no new files to parse so skipping.\n",
      "Parsing Artist Files For ModVal 94\n",
      "  ===> Found 7251 files, but there are no new files to parse so skipping.\n",
      "Parsing Artist Files For ModVal 85\n",
      "  ===> Found 7182 files, but there are no new files to parse so skipping.\n",
      "Parsing Artist Files For ModVal 95\n",
      "  ===> Found 7157 files, but there are no new files to parse so skipping.\n",
      "Parsing Artist Files For ModVal 86\n",
      "  ===> Found 7376 files, but there are no new files to parse so skipping.\n",
      "Parsing Artist Files For ModVal 87\n",
      "  ===> Found 7260 files, but there are no new files to parse so skipping.\n",
      "Parsing Artist Files For ModVal 96\n",
      "  ===> Found 7153 files, but there are no new files to parse so skipping.\n",
      "Parsing Artist Files For ModVal 88\n",
      "  ===> Found 7138 files, but there are no new files to parse so skipping.\n",
      "Parsing Artist Files For ModVal 97\n",
      "  --> This file is 12.2MB.\n",
      "Saving 7299 new artist IDs name data to /Volumes/Biggy/Discog/artists-discogs-db/metadata/54-Metadata.p\n",
      "  --> This file is 434.7kB.\n",
      "Saving 7299 new artist IDs media data to /Volumes/Biggy/Discog/artists-discogs-db/metadata/54-MediaMetadata.p\n",
      "  ===> Found 7160 files, but there are no new files to parse so skipping.\n",
      "Parsing Artist Files For ModVal 98\n",
      "  ===> Found 7103 files, but there are no new files to parse so skipping.\n",
      "Parsing Artist Files For ModVal 89\n",
      "  --> This file is 3.9MB.\n",
      "Parsing Artist Files For ModVal 55\n",
      "  ===> Found 7127 files, but there are no new files to parse so skipping.\n",
      "Parsing Artist Files For ModVal 99\n",
      "  ===> Found 7319 files, but there are no new files to parse so skipping.\n",
      "  ===> Found 7191 files, but there are no new files to parse so skipping.\n",
      "Parsing Artist Files For ModVal 56\n",
      "  ===> Found 7221 files, but there are no new files to parse so skipping.\n",
      "  ===> Found 7196 files, but there are no new files to parse so skipping.\n",
      "Parsing Artist Files For ModVal 57\n",
      "  ===> Found 7123 files, but there are no new files to parse so skipping.\n",
      "Parsing Artist Files For ModVal 58\n",
      "  ===> Found 7097 files, but there are no new files to parse so skipping.\n",
      "Parsing Artist Files For ModVal 59\n",
      "  ===> Found 7290 files, but there are no new files to parse so skipping.\n",
      "Parsing Artist Files For ModVal 60\n",
      "  ===> Found 7196 files, but there are no new files to parse so skipping.\n",
      "Parsing Artist Files For ModVal 61\n",
      "  ===> Found 7148 files, but there are no new files to parse so skipping.\n",
      "Parsing Artist Files For ModVal 62\n",
      "  ===> Found 7280 files, but there are no new files to parse so skipping.\n",
      "\n",
      "Current Time is Fri Mar 20, 2020 16:56:22 for Done with Parallel Artist Parsing\n",
      "Process [Done with Parallel Artist Parsing] took 4.2 minutes.\n",
      "Current Time is Fri Mar 20, 2020 16:56:22 for Done with Parsing All Artists\n",
      "Process [Done with Parsing All Artists] took 4.2 minutes.\n"
     ]
    }
   ],
   "source": [
    "start,cmt=clock(\"Parsing All Artists\")\n",
    "start2,cmt2=clock(\"Parallel Artist Parsing\")\n",
    "#parseArtistsParallel(db=\"AllMusic\", nProcs=3)\n",
    "#parseArtistsParallel(db=\"MusicBrainz\", nProcs=3)\n",
    "parseArtistsParallel(db=\"Discogs\", nProcs=3)\n",
    "#parseArtistsParallel(db=\"AceBootlegs\", nProcs=1)\n",
    "elapsed(start2, cmt2)\n",
    "elapsed(start, cmt)"
   ]
  },
  {
   "cell_type": "markdown",
   "metadata": {},
   "source": [
    "# Albums"
   ]
  },
  {
   "cell_type": "code",
   "execution_count": null,
   "metadata": {},
   "outputs": [],
   "source": [
    "%load_ext autoreload\n",
    "%autoreload\n",
    "from album import album\n",
    "from albums import albums\n",
    "from discogsBase import discogs\n",
    "\n",
    "disc = discogs()\n",
    "albs = albums(disc)\n",
    "#albs.parseAlbumModValFiles(modVal=27)"
   ]
  },
  {
   "cell_type": "code",
   "execution_count": null,
   "metadata": {},
   "outputs": [],
   "source": [
    "def parseAlbums(modVal):\n",
    "    albs.parseAlbumModValFiles(modVal=modVal)\n",
    "    #albs.createAlbumModValMetadata(modVal)\n",
    "    #albs.createAlbumModValMetadata(modVal=modVal)\n",
    "\n",
    "def parseAlbumsParallel(modVals=None):\n",
    "    if modVals is None:\n",
    "        modVals = [\"NAN\"] + list(range(100))\n",
    "        #modVals = range(100)\n",
    "    nProcs = 2\n",
    "    pool = Pool(processes=nProcs)\n",
    "    result = pool.map_async(parseAlbums, modVals)\n",
    " \n",
    "    start, cmt = clock(\"Processing {0} modVals using {1} processes\".format(modVals, nProcs))\n",
    "    print(\"Runing .\",end=\"\")\n",
    "    while not result.ready():\n",
    "        #print(\".\",end=\"\")\n",
    "        time.sleep(10)\n",
    "    print(\"\")\n",
    "    \n",
    "    elapsed(start, cmt)\n",
    "    return result.get()"
   ]
  },
  {
   "cell_type": "code",
   "execution_count": null,
   "metadata": {},
   "outputs": [],
   "source": [
    "%load_ext autoreload\n",
    "%autoreload\n",
    "from album import album\n",
    "from albums import albums\n",
    "albs = albums(disc)\n",
    "\n",
    "start,cmt=clock(\"Parsing All Albums\")\n",
    "start2,cmt2=clock(\"Parallel Album Parsing\")\n",
    "parseAlbumsParallel()\n",
    "elapsed(start2, cmt2)\n",
    "elapsed(start, cmt)"
   ]
  },
  {
   "cell_type": "code",
   "execution_count": null,
   "metadata": {},
   "outputs": [],
   "source": [
    "from fsUtils import removeFile"
   ]
  }
 ],
 "metadata": {
  "kernelspec": {
   "display_name": "Python 3",
   "language": "python",
   "name": "python3"
  },
  "language_info": {
   "codemirror_mode": {
    "name": "ipython",
    "version": 3
   },
   "file_extension": ".py",
   "mimetype": "text/x-python",
   "name": "python",
   "nbconvert_exporter": "python",
   "pygments_lexer": "ipython3",
   "version": "3.7.3"
  }
 },
 "nbformat": 4,
 "nbformat_minor": 2
}
