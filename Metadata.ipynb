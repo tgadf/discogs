{
 "cells": [
  {
   "cell_type": "code",
   "execution_count": 5,
   "metadata": {},
   "outputs": [
    {
     "name": "stdout",
     "output_type": "stream",
     "text": [
      "The autoreload extension is already loaded. To reload it, use:\n",
      "  %reload_ext autoreload\n"
     ]
    },
    {
     "data": {
      "text/html": [
       "<style>.container { width:100% !important; }</style>"
      ],
      "text/plain": [
       "<IPython.core.display.HTML object>"
      ]
     },
     "metadata": {},
     "output_type": "display_data"
    },
    {
     "data": {
      "text/html": [
       "<style>div.output_area{max-height:10000px;overflow:scroll;}</style>"
      ],
      "text/plain": [
       "<IPython.core.display.HTML object>"
      ]
     },
     "metadata": {},
     "output_type": "display_data"
    },
    {
     "name": "stdout",
     "output_type": "stream",
     "text": [
      "Python: 3.7.3 (default, Mar 27 2019, 16:54:48) \n",
      "[Clang 4.0.1 (tags/RELEASE_401/final)]\n",
      "Notebook Last Run Initiated: 2020-01-26 19:21:06.962999\n"
     ]
    }
   ],
   "source": [
    "## Basic stuff\n",
    "%load_ext autoreload\n",
    "%autoreload\n",
    "from IPython.core.display import display, HTML\n",
    "display(HTML(\"<style>.container { width:100% !important; }</style>\"))\n",
    "display(HTML(\"\"\"<style>div.output_area{max-height:10000px;overflow:scroll;}</style>\"\"\"))\n",
    "\n",
    "## Python Version\n",
    "import sys\n",
    "print(\"Python: {0}\".format(sys.version))\n",
    "\n",
    "from ioUtils import saveJoblib, loadJoblib, saveFile, getFile\n",
    "import urllib\n",
    "from urllib.parse import quote\n",
    "\n",
    "from discogsBase import discogs\n",
    "from discogsUtils import discogsUtils\n",
    "from collection import collections\n",
    "from artist import artist\n",
    "from timeUtils import clock, elapsed\n",
    "from fsUtils import moveFile, setFile, setDir, setSubDir, isFile, isDir, mkDir\n",
    "from fileUtils import getFileBasics, getBasename\n",
    "from artists import artists\n",
    "from albums import albums\n",
    "from time import sleep\n",
    "import time\n",
    "from multiprocessing import Pool\n",
    "\n",
    "import datetime as dt\n",
    "start = dt.datetime.now()\n",
    "print(\"Notebook Last Run Initiated: \"+str(start))"
   ]
  },
  {
   "cell_type": "code",
   "execution_count": 6,
   "metadata": {
    "scrolled": true
   },
   "outputs": [
    {
     "name": "stdout",
     "output_type": "stream",
     "text": [
      "The autoreload extension is already loaded. To reload it, use:\n",
      "  %reload_ext autoreload\n",
      "Saved Discog Directory /Volumes/Music/Discog is Available\n",
      "Local Discog Directory /Users/tgadfort/Music/Discog is Available\n",
      "/Volumes/Music/Discog/collections exists\n",
      "/Volumes/Music/Discog/artists exists\n",
      "/Volumes/Music/Discog/albums exists\n",
      "/Volumes/Music/Discog/collections-db exists\n",
      "/Volumes/Music/Discog/artists-db exists\n",
      "/Volumes/Music/Discog/albums-db exists\n",
      "/Volumes/Music/Discog/artists-db/metadata exists\n",
      "/Volumes/Music/Discog/albums-db/metadata exists\n",
      "/Volumes/Music/Discog/diagnostic exists\n",
      "/Volumes/Music/Discog/db exists\n"
     ]
    }
   ],
   "source": [
    "%load_ext autoreload\n",
    "%autoreload\n",
    "disc = discogs()\n",
    "arts = artists(disc)\n",
    "albs = albums(disc)\n",
    "dutils = discogsUtils()"
   ]
  },
  {
   "cell_type": "markdown",
   "metadata": {},
   "source": [
    "# Collections"
   ]
  },
  {
   "cell_type": "code",
   "execution_count": null,
   "metadata": {},
   "outputs": [],
   "source": [
    "%load_ext autoreload\n",
    "%autoreload\n",
    "#col = collections(disc)\n",
    "#col.parseCollections(force=False)\n",
    "#col.createCollectionDBs()"
   ]
  },
  {
   "cell_type": "markdown",
   "metadata": {},
   "source": [
    "# Parse Artists (Parallel)"
   ]
  },
  {
   "cell_type": "code",
   "execution_count": 7,
   "metadata": {},
   "outputs": [
    {
     "name": "stdout",
     "output_type": "stream",
     "text": [
      "The autoreload extension is already loaded. To reload it, use:\n",
      "  %reload_ext autoreload\n"
     ]
    }
   ],
   "source": [
    "%load_ext autoreload\n",
    "%autoreload\n",
    "\n",
    "from random import randint\n",
    "\n",
    "from artist import artist\n",
    "from artists import artists\n",
    "arts = artists(disc)\n",
    "\n",
    "def parseArtists(modVal, force=False, doExtra=False):\n",
    "    arts.parseArtistModValFiles(modVal, force=force)\n",
    "    #sleep(randint(1,10))\n",
    "    #arts.parseArtistModValExtraFiles(modVal)\n",
    "    #arts.createArtistModValMetadata(modVal=modVal)\n",
    "    #arts.createArtistAlbumModValMetadata(modVal=modVal)\n",
    "    \n",
    "def parseArtistsParallel(nProcs=3, force=False):\n",
    "    pool = Pool(processes=nProcs)\n",
    "    result = pool.map_async(parseArtists, range(100)) \n",
    "    #result = pool.map_async(parseArtists, [97, 96, 98, 62])\n",
    "\n",
    "    while not result.ready():\n",
    "        if force is True:\n",
    "            time.sleep(10)\n",
    "        else:\n",
    "            time.sleep(1)\n",
    "    print(\"\")\n",
    "    return result.get()"
   ]
  },
  {
   "cell_type": "code",
   "execution_count": 8,
   "metadata": {},
   "outputs": [],
   "source": [
    "#arts.parseArtistModValFiles(27, force=True)\n",
    "#arts.parseArtistModValFiles(50, force=True)"
   ]
  },
  {
   "cell_type": "code",
   "execution_count": 9,
   "metadata": {},
   "outputs": [
    {
     "name": "stdout",
     "output_type": "stream",
     "text": [
      "Current Time is Sun Jan 26, 2020 19:21:37 for Parsing All Artists\n",
      "Current Time is Sun Jan 26, 2020 19:21:37 for Parallel Artist Parsing\n",
      "Parsing Artist Files For ModVal 16\n",
      "Parsing Artist Files For ModVal 8\n",
      "Parsing Artist Files For ModVal 12\n",
      "Parsing Artist Files For ModVal 4\n",
      "Parsing Artist Files For ModVal 0\n",
      "Parsing Artist Files For ModVal 24\n",
      "Parsing Artist Files For ModVal 20\n",
      "Parsing Artist Files For ModVal 28\n",
      "  ===> Found 7176 files, but there are no new files to parse so skipping.\n",
      "Parsing Artist Files For ModVal 5\n",
      "  ===> Found 7042 files, but there are no new files to parse so skipping.\n",
      "Parsing Artist Files For ModVal 1\n",
      "  ===> Found 7067 files, but there are no new files to parse so skipping.\n",
      "Parsing Artist Files For ModVal 17\n",
      "  ===> Found 7186 files, but there are no new files to parse so skipping.\n",
      "Parsing Artist Files For ModVal 13\n",
      "  ===> Found 7148 files, but there are no new files to parse so skipping.\n",
      "Parsing Artist Files For ModVal 29\n",
      "  ===> Found 7157 files, but there are no new files to parse so skipping.\n",
      "Parsing Artist Files For ModVal 21\n",
      "  ===> Found 6952 files, but there are no new files to parse so skipping.\n",
      "Parsing Artist Files For ModVal 25\n",
      "  ===> Found 7165 files, but there are no new files to parse so skipping.\n",
      "Parsing Artist Files For ModVal 9\n",
      "  ===> Found 7170 files, but there are no new files to parse so skipping.\n",
      "Parsing Artist Files For ModVal 18\n",
      "  ===> Found 7135 files, but there are no new files to parse so skipping.\n",
      "Parsing Artist Files For ModVal 22\n",
      "  ===> Found 7291 files, but there are no new files to parse so skipping.\n",
      "Parsing Artist Files For ModVal 2\n",
      "  ===> Found 7035 files, but there are no new files to parse so skipping.\n",
      "Parsing Artist Files For ModVal 6\n",
      "  ===> Found 7115 files, but there are no new files to parse so skipping.\n",
      "Parsing Artist Files For ModVal 26\n",
      "  ===> Found 7086 files, but there are no new files to parse so skipping.\n",
      "Parsing Artist Files For ModVal 30\n",
      "  ===> Found 7154 files, but there are no new files to parse so skipping.\n",
      "Parsing Artist Files For ModVal 10\n",
      "  ===> Found 7228 files, but there are no new files to parse so skipping.\n",
      "Parsing Artist Files For ModVal 14\n",
      "  ===> Found 7165 files, but there are no new files to parse so skipping.\n",
      "Parsing Artist Files For ModVal 19\n",
      "  ===> Found 7166 files, but there are no new files to parse so skipping.\n",
      "Parsing Artist Files For ModVal 23\n",
      "  ===> Found 7077 files, but there are no new files to parse so skipping.\n",
      "Parsing Artist Files For ModVal 11\n",
      "  ===> Found 7112 files, but there are no new files to parse so skipping.\n",
      "Parsing Artist Files For ModVal 3\n",
      "  ===> Found 7076 files, but there are no new files to parse so skipping.\n",
      "Parsing Artist Files For ModVal 7\n",
      "  ===> Found 7095 files, but there are no new files to parse so skipping.\n",
      "Parsing Artist Files For ModVal 31\n",
      "  ===> Found 7000 files, but there are no new files to parse so skipping.\n",
      "Parsing Artist Files For ModVal 15\n",
      "  ===> Found 7243 files, but there are no new files to parse so skipping.\n",
      "Parsing Artist Files For ModVal 27\n",
      "  ===> Found 7133 files, but there are no new files to parse so skipping.\n",
      "Parsing Artist Files For ModVal 32\n",
      "  ===> Found 7141 files, but there are no new files to parse so skipping.\n",
      "Parsing Artist Files For ModVal 36\n",
      "  ===> Found 7178 files, but there are no new files to parse so skipping.\n",
      "Parsing Artist Files For ModVal 40\n",
      "  ===> Found 7128 files, but there are no new files to parse so skipping.\n",
      "Parsing Artist Files For ModVal 44\n",
      "  ===> Found 7046 files, but there are no new files to parse so skipping.\n",
      "Parsing Artist Files For ModVal 48\n",
      "  ===> Found 7036 files, but there are no new files to parse so skipping.\n",
      "Parsing Artist Files For ModVal 52\n",
      "  ===> Found 7369 files, but there are no new files to parse so skipping.\n",
      "Parsing Artist Files For ModVal 56\n",
      "  ===> Found 7136 files, but there are no new files to parse so skipping.\n",
      "Parsing Artist Files For ModVal 60\n",
      "  ===> Found 7175 files, but there are no new files to parse so skipping.\n",
      "Parsing Artist Files For ModVal 33\n",
      "  ===> Found 7221 files, but there are no new files to parse so skipping.\n",
      "Parsing Artist Files For ModVal 37\n",
      "  ===> Found 6988 files, but there are no new files to parse so skipping.\n",
      "Parsing Artist Files For ModVal 41\n",
      "  ===> Found 6980 files, but there are no new files to parse so skipping.\n",
      "Parsing Artist Files For ModVal 45\n",
      "  ===> Found 7237 files, but there are no new files to parse so skipping.\n",
      "Parsing Artist Files For ModVal 49\n",
      "  ===> Found 7209 files, but there are no new files to parse so skipping.\n",
      "Parsing Artist Files For ModVal 53\n",
      "  ===> Found 7138 files, but there are no new files to parse so skipping.\n",
      "Parsing Artist Files For ModVal 57\n",
      "  ===> Found 7142 files, but there are no new files to parse so skipping.\n",
      "Parsing Artist Files For ModVal 61\n",
      "  ===> Found 7120 files, but there are no new files to parse so skipping.\n",
      "Parsing Artist Files For ModVal 34\n",
      "  ===> Found 7000 files, but there are no new files to parse so skipping.\n",
      "Parsing Artist Files For ModVal 38\n",
      "  ===> Found 7233 files, but there are no new files to parse so skipping.\n",
      "Parsing Artist Files For ModVal 42\n",
      "  ===> Found 6945 files, but there are no new files to parse so skipping.\n",
      "Parsing Artist Files For ModVal 46\n",
      "  ===> Found 7121 files, but there are no new files to parse so skipping.\n",
      "Parsing Artist Files For ModVal 50\n",
      "  ===> Found 7045 files, but there are no new files to parse so skipping.\n",
      "Parsing Artist Files For ModVal 35\n",
      "  ===> Found 7101 files, but there are no new files to parse so skipping.\n",
      "Parsing Artist Files For ModVal 43\n",
      "  ===> Found 7068 files, but there are no new files to parse so skipping.\n",
      "Parsing Artist Files For ModVal 58\n",
      "  ===> Found 7085 files, but there are no new files to parse so skipping.\n",
      "Parsing Artist Files For ModVal 62\n",
      "  ===> Found 7166 files, but there are no new files to parse so skipping.\n",
      "Parsing Artist Files For ModVal 54\n",
      "  ===> Found 7037 files, but there are no new files to parse so skipping.\n",
      "Parsing Artist Files For ModVal 39\n",
      "  ===> Found 7019 files, but there are no new files to parse so skipping.\n",
      "Parsing Artist Files For ModVal 47\n",
      "  ===> Found 7094 files, but there are no new files to parse so skipping.\n",
      "Parsing Artist Files For ModVal 51\n",
      "  ===> Found 6929 files, but there are no new files to parse so skipping.\n",
      "Parsing Artist Files For ModVal 64\n",
      "  ===> Found 7045 files, but there are no new files to parse so skipping.\n",
      "Parsing Artist Files For ModVal 59\n",
      "  ===> Found 7111 files, but there are no new files to parse so skipping.\n",
      "Parsing Artist Files For ModVal 68\n",
      "  ===> Found 7005 files, but there are no new files to parse so skipping.\n",
      "Parsing Artist Files For ModVal 72\n",
      "  ===> Found 6877 files, but there are no new files to parse so skipping.\n",
      "Parsing Artist Files For ModVal 76\n",
      "  ===> Found 7257 files, but there are no new files to parse so skipping.\n",
      "Parsing Artist Files For ModVal 55\n",
      "  ===> Found 7155 files, but there are no new files to parse so skipping.\n",
      "Parsing Artist Files For ModVal 80\n",
      "  ===> Found 7218 files, but there are no new files to parse so skipping.\n",
      "Parsing Artist Files For ModVal 63\n",
      "  ===> Found 7232 files, but there are no new files to parse so skipping.\n",
      "Parsing Artist Files For ModVal 65\n",
      "  ===> Found 7225 files, but there are no new files to parse so skipping.\n",
      "Parsing Artist Files For ModVal 84\n",
      "  ===> Found 6999 files, but there are no new files to parse so skipping.\n",
      "Parsing Artist Files For ModVal 69\n",
      "  ===> Found 7134 files, but there are no new files to parse so skipping.\n",
      "Parsing Artist Files For ModVal 88\n",
      "  ===> Found 7115 files, but there are no new files to parse so skipping.\n",
      "Parsing Artist Files For ModVal 77\n",
      "  ===> Found 7054 files, but there are no new files to parse so skipping.\n",
      "Parsing Artist Files For ModVal 73\n",
      "  ===> Found 7173 files, but there are no new files to parse so skipping.\n",
      "Parsing Artist Files For ModVal 81\n",
      "  ===> Found 7202 files, but there are no new files to parse so skipping.\n",
      "Parsing Artist Files For ModVal 92\n",
      "  ===> Found 7144 files, but there are no new files to parse so skipping.\n",
      "Parsing Artist Files For ModVal 66\n",
      "  ===> Found 7194 files, but there are no new files to parse so skipping.\n",
      "Parsing Artist Files For ModVal 85\n",
      "  ===> Found 7126 files, but there are no new files to parse so skipping.\n"
     ]
    },
    {
     "name": "stdout",
     "output_type": "stream",
     "text": [
      "Parsing Artist Files For ModVal 70\n",
      "  ===> Found 7064 files, but there are no new files to parse so skipping.\n",
      "Parsing Artist Files For ModVal 89\n",
      "  ===> Found 7084 files, but there are no new files to parse so skipping.\n",
      "Parsing Artist Files For ModVal 78\n",
      "  ===> Found 7298 files, but there are no new files to parse so skipping.\n",
      "Parsing Artist Files For ModVal 82\n",
      "  ===> Found 7081 files, but there are no new files to parse so skipping.\n",
      "Parsing Artist Files For ModVal 74\n",
      "  ===> Found 7267 files, but there are no new files to parse so skipping.\n",
      "Parsing Artist Files For ModVal 93\n",
      "  ===> Found 7169 files, but there are no new files to parse so skipping.\n",
      "Parsing Artist Files For ModVal 67\n",
      "  ===> Found 7038 files, but there are no new files to parse so skipping.\n",
      "Parsing Artist Files For ModVal 71\n",
      "  ===> Found 7094 files, but there are no new files to parse so skipping.\n",
      "Parsing Artist Files For ModVal 86\n",
      "  ===> Found 7273 files. There are 1 new files to parse.\n",
      "  ===> Found 7230 files, but there are no new files to parse so skipping.\n",
      "Parsing Artist Files For ModVal 79\n",
      "  ===> Found 7218 files, but there are no new files to parse so skipping.\n",
      "Parsing Artist Files For ModVal 83\n",
      "  ===> Found 7141 files, but there are no new files to parse so skipping.\n",
      "Parsing Artist Files For ModVal 75\n",
      "  ===> Found 7033 files, but there are no new files to parse so skipping.\n",
      "Parsing Artist Files For ModVal 96\n",
      "  ===> Found 7236 files, but there are no new files to parse so skipping.\n",
      "  ===> Found 7126 files, but there are no new files to parse so skipping.\n",
      "Parsing Artist Files For ModVal 94\n",
      "  ===> Found 7325 files, but there are no new files to parse so skipping.\n",
      "Parsing Artist Files For ModVal 87\n",
      "  ===> Found 7138 files, but there are no new files to parse so skipping.\n",
      "  ===> Found 7209 files, but there are no new files to parse so skipping.\n",
      "  ===> Found 7084 files, but there are no new files to parse so skipping.\n",
      "  ===> Found 7120 files, but there are no new files to parse so skipping.\n",
      "Parsing Artist Files For ModVal 95\n",
      "  ===> Found 7082 files, but there are no new files to parse so skipping.\n",
      "Parsing Artist Files For ModVal 97\n",
      "  ===> Found 7099 files, but there are no new files to parse so skipping.\n",
      "Saving 1 new artist IDs to /Volumes/Music/Discog/artists-db/89-DB.p\n",
      "  ===> Found 7208 files, but there are no new files to parse so skipping.\n",
      "  ===> Found 7103 files, but there are no new files to parse so skipping.\n",
      "Parsing Artist Files For ModVal 98\n",
      "  ===> Found 7075 files, but there are no new files to parse so skipping.\n",
      "Parsing Artist Files For ModVal 99\n",
      "  ===> Found 7176 files, but there are no new files to parse so skipping.\n",
      "  --> This file is 12.4MB.\n",
      "Saving 7273 new artist IDs name data to /Volumes/Music/Discog/artists-db/metadata/89-Metadata.p\n",
      "  --> This file is 424.4kB.\n",
      "Saving 7273 new artist IDs media data to /Volumes/Music/Discog/artists-db/metadata/89-MediaMetadata.p\n",
      "  --> This file is 4.0MB.\n",
      "Parsing Artist Files For ModVal 90\n",
      "  ===> Found 6998 files, but there are no new files to parse so skipping.\n",
      "Parsing Artist Files For ModVal 91\n",
      "  ===> Found 7105 files, but there are no new files to parse so skipping.\n",
      "\n",
      "Current Time is Sun Jan 26, 2020 19:26:08 for Done with Parallel Artist Parsing\n",
      "Process [{0}] took 4.5 minutes.\n",
      "Current Time is Sun Jan 26, 2020 19:26:08 for Done with Parsing All Artists\n",
      "Process [{0}] took 4.5 minutes.\n"
     ]
    }
   ],
   "source": [
    "start,cmt=clock(\"Parsing All Artists\")\n",
    "start2,cmt2=clock(\"Parallel Artist Parsing\")\n",
    "parseArtistsParallel(nProcs=8)\n",
    "elapsed(start2, cmt2)\n",
    "elapsed(start, cmt)"
   ]
  },
  {
   "cell_type": "markdown",
   "metadata": {},
   "source": [
    "# Albums"
   ]
  },
  {
   "cell_type": "code",
   "execution_count": null,
   "metadata": {},
   "outputs": [],
   "source": [
    "%load_ext autoreload\n",
    "%autoreload\n",
    "from album import album\n",
    "from albums import albums\n",
    "from discogsBase import discogs\n",
    "\n",
    "disc = discogs()\n",
    "albs = albums(disc)\n",
    "#albs.parseAlbumModValFiles(modVal=27)"
   ]
  },
  {
   "cell_type": "code",
   "execution_count": null,
   "metadata": {},
   "outputs": [],
   "source": [
    "def parseAlbums(modVal):\n",
    "    albs.parseAlbumModValFiles(modVal=modVal)\n",
    "    #albs.createAlbumModValMetadata(modVal)\n",
    "    #albs.createAlbumModValMetadata(modVal=modVal)\n",
    "\n",
    "def parseAlbumsParallel(modVals=None):\n",
    "    if modVals is None:\n",
    "        modVals = [\"NAN\"] + list(range(100))\n",
    "        #modVals = range(100)\n",
    "    nProcs = 2\n",
    "    pool = Pool(processes=nProcs)\n",
    "    result = pool.map_async(parseAlbums, modVals)\n",
    " \n",
    "    start, cmt = clock(\"Processing {0} modVals using {1} processes\".format(modVals, nProcs))\n",
    "    print(\"Runing .\",end=\"\")\n",
    "    while not result.ready():\n",
    "        #print(\".\",end=\"\")\n",
    "        time.sleep(10)\n",
    "    print(\"\")\n",
    "    \n",
    "    elapsed(start, cmt)\n",
    "    return result.get()"
   ]
  },
  {
   "cell_type": "code",
   "execution_count": null,
   "metadata": {},
   "outputs": [],
   "source": [
    "%load_ext autoreload\n",
    "%autoreload\n",
    "from album import album\n",
    "from albums import albums\n",
    "albs = albums(disc)\n",
    "\n",
    "start,cmt=clock(\"Parsing All Albums\")\n",
    "start2,cmt2=clock(\"Parallel Album Parsing\")\n",
    "parseAlbumsParallel()\n",
    "elapsed(start2, cmt2)\n",
    "elapsed(start, cmt)"
   ]
  },
  {
   "cell_type": "code",
   "execution_count": null,
   "metadata": {},
   "outputs": [],
   "source": []
  }
 ],
 "metadata": {
  "kernelspec": {
   "display_name": "Python 3",
   "language": "python",
   "name": "python3"
  },
  "language_info": {
   "codemirror_mode": {
    "name": "ipython",
    "version": 3
   },
   "file_extension": ".py",
   "mimetype": "text/x-python",
   "name": "python",
   "nbconvert_exporter": "python",
   "pygments_lexer": "ipython3",
   "version": "3.7.3"
  }
 },
 "nbformat": 4,
 "nbformat_minor": 2
}
