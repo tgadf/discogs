{
 "cells": [
  {
   "cell_type": "code",
   "execution_count": 1,
   "metadata": {},
   "outputs": [
    {
     "data": {
      "text/html": [
       "<style>.container { width:100% !important; }</style>"
      ],
      "text/plain": [
       "<IPython.core.display.HTML object>"
      ]
     },
     "metadata": {},
     "output_type": "display_data"
    },
    {
     "data": {
      "text/html": [
       "<style>div.output_area{max-height:10000px;overflow:scroll;}</style>"
      ],
      "text/plain": [
       "<IPython.core.display.HTML object>"
      ]
     },
     "metadata": {},
     "output_type": "display_data"
    },
    {
     "name": "stdout",
     "output_type": "stream",
     "text": [
      "Python: 3.7.7 (default, Mar 26 2020, 10:32:53) \n",
      "[Clang 4.0.1 (tags/RELEASE_401/final)]\n"
     ]
    },
    {
     "name": "stderr",
     "output_type": "stream",
     "text": [
      "/Users/tgadfort/opt/anaconda3/envs/py37/lib/python3.7/site-packages/sklearn/externals/joblib/__init__.py:15: FutureWarning: sklearn.externals.joblib is deprecated in 0.21 and will be removed in 0.23. Please import this functionality directly from joblib, which can be installed with: pip install joblib. If this warning is raised when loading pickled models, you may need to re-serialize those models with scikit-learn 0.21+.\n",
      "  warnings.warn(msg, category=FutureWarning)\n"
     ]
    },
    {
     "name": "stdout",
     "output_type": "stream",
     "text": [
      "Notebook Last Run Initiated: 2020-12-12 13:27:48.427289\n"
     ]
    }
   ],
   "source": [
    "## Basic stuff\n",
    "%load_ext autoreload\n",
    "%autoreload\n",
    "from IPython.core.display import display, HTML\n",
    "display(HTML(\"<style>.container { width:100% !important; }</style>\"))\n",
    "display(HTML(\"\"\"<style>div.output_area{max-height:10000px;overflow:scroll;}</style>\"\"\"))\n",
    "\n",
    "## Python Version\n",
    "import sys\n",
    "print(\"Python: {0}\".format(sys.version))\n",
    "\n",
    "\n",
    "################################################################################\n",
    "## General Stuff\n",
    "################################################################################\n",
    "from ioUtils import saveJoblib, loadJoblib, saveFile, getFile\n",
    "import urllib\n",
    "from urllib.parse import quote\n",
    "from timeUtils import clock, elapsed\n",
    "from fsUtils import moveFile, setFile, setDir, setSubDir, isFile, isDir, mkDir\n",
    "from fileUtils import getFileBasics, getBasename\n",
    "from webUtils import getHTML\n",
    "from time import sleep\n",
    "import time\n",
    "from multiprocessing import Pool\n",
    "\n",
    "\n",
    "######################################################\n",
    "# Music Stuff\n",
    "######################################################\n",
    "from dbBase import dbBase\n",
    "from multiArtist import multiartist\n",
    "from myMusicDBMap import myMusicDBMap\n",
    "from mainDB import mainDB\n",
    "from parseDBArtistsData import parseDBArtistsData\n",
    "\n",
    "\n",
    "\n",
    "\n",
    "import datetime as dt\n",
    "start = dt.datetime.now()\n",
    "print(\"Notebook Last Run Initiated: \"+str(start))"
   ]
  },
  {
   "cell_type": "markdown",
   "metadata": {},
   "source": [
    "## Parse Artists Base"
   ]
  },
  {
   "cell_type": "code",
   "execution_count": 2,
   "metadata": {},
   "outputs": [
    {
     "name": "stdout",
     "output_type": "stream",
     "text": [
      "The autoreload extension is already loaded. To reload it, use:\n",
      "  %reload_ext autoreload\n",
      "=========================   discogs   =========================\n",
      "=========================   allmusic   =========================\n",
      "=========================   musicbrainz   =========================\n",
      "=========================   lastfm   =========================\n",
      "=========================   rockcorner   =========================\n",
      "=========================   acebootlegs   =========================\n",
      "=========================   cdandlp   =========================\n",
      "=========================   rateyourmusic   =========================\n",
      "=========================   musicstack   =========================\n"
     ]
    }
   ],
   "source": [
    "%load_ext autoreload\n",
    "%autoreload\n",
    "from mainDB import mainDB\n",
    "from parseDBArtistsData import parseDBArtistsData\n",
    "maindb = mainDB(mdb=None, create=True, debug=False)\n",
    "pdb    = parseDBArtistsData(maindb=maindb)\n",
    "dbdata = maindb.dbdata"
   ]
  },
  {
   "cell_type": "code",
   "execution_count": null,
   "metadata": {},
   "outputs": [],
   "source": []
  },
  {
   "cell_type": "markdown",
   "metadata": {},
   "source": [
    "## Create Metadata (Only)"
   ]
  },
  {
   "cell_type": "code",
   "execution_count": null,
   "metadata": {},
   "outputs": [],
   "source": [
    "dbs    = ['AllMusic', 'Discogs', 'MusicBrainz', 'LastFM']\n",
    "dbs    = ['AllMusic']\n",
    "dbs    = []\n",
    "if len(dbs) > 0:\n",
    "    start,cmt=clock(\"Parsing Metadata\")\n",
    "    for db in dbs:\n",
    "        pdb.parseMetadata(db=db, nProcs=3, modVals=list(range(100)), force=True) \n",
    "    elapsed(start, cmt)"
   ]
  },
  {
   "cell_type": "markdown",
   "metadata": {},
   "source": [
    "# Parse Downloads"
   ]
  },
  {
   "cell_type": "code",
   "execution_count": null,
   "metadata": {},
   "outputs": [],
   "source": [
    "dbs = [\"RateYourMusic\", \"MusicStack\"]\n",
    "dbs = [\"RateYourMusic\"]\n",
    "if len(dbs) > 0:\n",
    "    start,cmt=clock(\"Parsing Downloads\")\n",
    "    for db in dbs:\n",
    "        pdb.parseDownloads(db)\n",
    "    elapsed(start, cmt)"
   ]
  },
  {
   "cell_type": "markdown",
   "metadata": {},
   "source": [
    "# Parse Everything"
   ]
  },
  {
   "cell_type": "code",
   "execution_count": null,
   "metadata": {},
   "outputs": [],
   "source": [
    "%load_ext autoreload\n",
    "%autoreload\n",
    "from mainDB import mainDB\n",
    "from parseDBArtistsData import parseDBArtistsData\n",
    "maindb = mainDB(mdb=None, create=True, debug=False)\n",
    "pdb    = parseDBArtistsData(maindb=maindb)\n",
    "\n",
    "\n",
    "dbs    = ['AllMusic', 'Discogs', 'MusicBrainz', 'LastFM']\n",
    "#dbs = ['MusicBrainz', 'LastFM']\n",
    "dbs = [\"Discogs\"]\n",
    "#dbs = [\"Discogs\", \"MusicBrainz\"]\n",
    "dbs = [\"AllMusic\"]\n",
    "#dbs = [\"RateYourMusic\"]\n",
    "#dbs = [\"MusicBrainz\"]\n",
    "#dbs = []\n",
    "start,cmt=clock(\"Parsing Everything\")\n",
    "for db in dbs:\n",
    "    s = 10\n",
    "    #pdb.parse(db, nProcs=3, modVals=list(range(s,s+9)), force=False)\n",
    "    #pdb.parse(db, nProcs=4, modVals=list(range(10,100)), force=True)\n",
    "    #pdb.parse(db, nProcs=3, modVals=list(range(100)), force=False, extra=False)\n",
    "    #pdb.parse(db, nProcs=3, modVals=[88,89,87,37,98,97], force=True, extra=False)\n",
    "    #pdb.parse(db, nProcs=1, modVals=[9], force=True)\n",
    "    pdb.parse(db, nProcs=3, modVals=list(range(100)), force=False, primary=True)\n",
    "    #pdb.parse(db, nProcs=2, modVals=list(range(100)), force=False)\n",
    "elapsed(start, cmt)"
   ]
  },
  {
   "cell_type": "markdown",
   "metadata": {},
   "source": [
    "# Parse Extra Data"
   ]
  },
  {
   "cell_type": "code",
   "execution_count": null,
   "metadata": {},
   "outputs": [],
   "source": [
    "dbs = ['AllMusic', 'Discogs', 'MusicBrainz', 'LastFM']\n",
    "dbs = ['MusicBrainz']\n",
    "\n",
    "%load_ext autoreload\n",
    "%autoreload\n",
    "from parseDBArtistsData import parseDBArtistsData\n",
    "pdb    = parseDBArtistsData(maindb=maindb)\n",
    "\n",
    "start,cmt=clock(\"Parsing Everything\")\n",
    "for db in dbs:\n",
    "    #pdb.parse(db, nProcs=3, modVals=list(range(100)), force=False, extra=True)\n",
    "    #pdb.parse(db, nProcs=1, modVals=list(range(80,100)), force=False, extra=True)\n",
    "    #pdb.parse(db, nProcs=1, modVals=list(range(80)), force=False, extra=True)\n",
    "    pdb.parse(db, nProcs=1, modVals=[79], force=False, extra=True)\n",
    "elapsed(start, cmt)"
   ]
  },
  {
   "cell_type": "markdown",
   "metadata": {},
   "source": [
    "# Parse Credit Data"
   ]
  },
  {
   "cell_type": "code",
   "execution_count": null,
   "metadata": {},
   "outputs": [],
   "source": [
    "dbs = ['AllMusic']\n",
    "#dbs = []\n",
    "\n",
    "%load_ext autoreload\n",
    "%autoreload\n",
    "from parseDBArtistsData import parseDBArtistsData\n",
    "pdb    = parseDBArtistsData(maindb=maindb)\n",
    "\n",
    "start,cmt=clock(\"Parsing Everything\")\n",
    "for db in dbs:\n",
    "    #pdb.parse(db, nProcs=1, modVals=[9], force=False, credit=True)\n",
    "    pdb.parse(db, nProcs=3, modVals=list(range(100)), force=False, credit=True)\n",
    "elapsed(start, cmt)"
   ]
  },
  {
   "cell_type": "markdown",
   "metadata": {},
   "source": [
    "# LastFM"
   ]
  },
  {
   "cell_type": "code",
   "execution_count": null,
   "metadata": {},
   "outputs": [],
   "source": [
    "%load_ext autoreload\n",
    "%autoreload\n",
    "from mainDB import mainDB\n",
    "from parseDBArtistsData import parseDBArtistsData\n",
    "\n",
    "def parseLastFM(modVals=list(range(100)), force=False, primary=False, extra=False, fulldb=False):\n",
    "    db = \"LastFM\"\n",
    "    if isinstance(modVals, int):\n",
    "        modVals = [modVals]\n",
    "    nProcs = min(3, len(modVals))\n",
    "\n",
    "    start,cmt=clock(\"Parsing Everything for {0}\".format(db))\n",
    "    if primary is True:\n",
    "        maindb = mainDB(mdb=None, create=True, debug=False)\n",
    "        pdb    = parseDBArtistsData(maindb=maindb)\n",
    "        pdb.parse(db, nProcs=nProcs, modVals=modVals, force=force, primary=True)  ## Primary\n",
    "\n",
    "    if extra is True:\n",
    "        maindb = mainDB(mdb=None, create=True, debug=False)\n",
    "        pdb    = parseDBArtistsData(maindb=maindb)\n",
    "        pdb.parse(db, nProcs=nProcs, modVals=modVals, force=force, extra=True)  ## Extra\n",
    "    \n",
    "    if fulldb is True:\n",
    "        maindb = mainDB(mdb=None, create=True, debug=True)\n",
    "        maindb.setDBFull(db)\n",
    "        elapsed(start, cmt)    \n",
    "    \n",
    "parseLastFM(primary=True, fulldb=True)"
   ]
  },
  {
   "cell_type": "markdown",
   "metadata": {},
   "source": [
    "# MusicBrainz"
   ]
  },
  {
   "cell_type": "code",
   "execution_count": null,
   "metadata": {},
   "outputs": [],
   "source": [
    "%load_ext autoreload\n",
    "%autoreload\n",
    "from mainDB import mainDB\n",
    "from parseDBArtistsData import parseDBArtistsData\n",
    "\n",
    "def parseMusicBrainz(modVals=list(range(100)), force=False, primary=False, credit=False, extra=False, fulldb=False):\n",
    "    db = \"MusicBrainz\"\n",
    "    if isinstance(modVals, int):\n",
    "        modVals = [modVals]\n",
    "    nProcs = min(3, len(modVals))\n",
    "\n",
    "    start,cmt=clock(\"Parsing Everything for {0}\".format(db))\n",
    "    if primary is True:\n",
    "        maindb = mainDB(mdb=None, create=True, debug=False)\n",
    "        pdb    = parseDBArtistsData(maindb=maindb)\n",
    "        pdb.parse(db, nProcs=nProcs, modVals=modVals, force=force, primary=True)  ## Primary\n",
    "\n",
    "    if extra is True:\n",
    "        maindb = mainDB(mdb=None, create=True, debug=False)\n",
    "        pdb    = parseDBArtistsData(maindb=maindb)\n",
    "        pdb.parse(db, nProcs=nProcs, modVals=modVals, force=force, extra=True)  ## Extra\n",
    "    \n",
    "\n",
    "    if fulldb is True:\n",
    "        maindb = mainDB(mdb=None, create=True, debug=True)\n",
    "        maindb.setDBFull(db)\n",
    "        elapsed(start, cmt)    \n",
    "    \n",
    "parseMusicBrainz(primary=True, fulldb=True)"
   ]
  },
  {
   "cell_type": "markdown",
   "metadata": {},
   "source": [
    "# Discogs"
   ]
  },
  {
   "cell_type": "code",
   "execution_count": null,
   "metadata": {},
   "outputs": [
    {
     "name": "stdout",
     "output_type": "stream",
     "text": [
      "The autoreload extension is already loaded. To reload it, use:\n",
      "  %reload_ext autoreload\n",
      "Current Time is Sat Dec 12, 2020 13:28:13 for Parsing Everything for Discogs\n",
      "=========================   discogs   =========================\n",
      "=========================   allmusic   =========================\n",
      "=========================   musicbrainz   =========================\n",
      "=========================   lastfm   =========================\n",
      "=========================   rockcorner   =========================\n",
      "=========================   acebootlegs   =========================\n",
      "=========================   cdandlp   =========================\n",
      "=========================   rateyourmusic   =========================\n",
      "=========================   musicstack   =========================\n",
      "DB: Discogs --> Primary=True   Extra=False   Credit=False\n",
      "Parsing Discogs with 3 processes using [[0, 1, 2, 3, 4, 5, 6, 7, 8, 9, 10, 11, 12, 13, 14, 15, 16, 17, 18, 19, 20, 21, 22, 23, 24, 25, 26, 27, 28, 29, 30, 31, 32, 33, 34, 35, 36, 37, 38, 39, 40, 41, 42, 43, 44, 45, 46, 47, 48, 49, 50, 51, 52, 53, 54, 55, 56, 57, 58, 59, 60, 61, 62, 63, 64, 65, 66, 67, 68, 69, 70, 71, 72, 73, 74, 75, 76, 77, 78, 79, 80, 81, 82, 83, 84, 85, 86, 87, 88, 89, 90, 91, 92, 93, 94, 95, 96, 97, 98, 99]] mod values.\n",
      "------------------------------------------------------------------------------------------------------------------------------------------------------------------------------------------------------------------------------------------------------------------------------------------------------------\n",
      "\n",
      "\n",
      "Parsing Artist Files For ModVal 0Parsing Artist Files For ModVal 18Parsing Artist Files For ModVal 9\n",
      "\n",
      "\n",
      "  ===> Found new 5 files to parse for modval 0\n",
      "  ===> Found new 4 files to parse for modval 9\n",
      "  ===> Found new 6 files to parse for modval 18\n",
      "Saving 4 new artist IDs to /Users/tgadfort/Music/Discog/artists-discogs-db/9-DB.p\n",
      "Saving 71530 total artist media\n",
      "Saving 5 new artist IDs to /Users/tgadfort/Music/Discog/artists-discogs-db/0-DB.p\n",
      "Saving 69627 total artist media\n",
      "Saving 6 new artist IDs to /Users/tgadfort/Music/Discog/artists-discogs-db/18-DB.p\n",
      "Saving 75258 total artist media\n",
      "  --> This file is 12.6MB.\n",
      "Saving 7550 new artist IDs name data to /Users/tgadfort/Music/Discog/artists-discogs-db/metadata/9-Metadata.p\n",
      "  --> This file is 12.6MB.\n",
      "Saving 7478 new artist IDs name data to /Users/tgadfort/Music/Discog/artists-discogs-db/metadata/0-Metadata.p\n",
      "  --> This file is 438.7kB.\n",
      "Saving 7550 new artist IDs media data to /Users/tgadfort/Music/Discog/artists-discogs-db/metadata/9-MediaMetadata.p\n",
      "  --> This file is 433.0kB.\n",
      "Saving 7478 new artist IDs media data to /Users/tgadfort/Music/Discog/artists-discogs-db/metadata/0-MediaMetadata.p\n",
      "  --> This file is 13.0MB.\n",
      "Saving 7611 new artist IDs name data to /Users/tgadfort/Music/Discog/artists-discogs-db/metadata/18-Metadata.p\n",
      "  --> This file is 441.0kB.\n",
      "Saving 7611 new artist IDs media data to /Users/tgadfort/Music/Discog/artists-discogs-db/metadata/18-MediaMetadata.p\n",
      "  --> This file is 4.1MB.\n",
      "  --> This file is 4.0MB.\n",
      "----------------------------------------------------------------------------------------------------\n",
      "Parsing Artist Files For ModVal 10\n",
      "----------------------------------------------------------------------------------------------------\n",
      "Parsing Artist Files For ModVal 1\n",
      "  --> This file is 4.3MB.\n",
      "----------------------------------------------------------------------------------------------------\n",
      "Parsing Artist Files For ModVal 19\n",
      "  ===> Found new 4 files to parse for modval 10\n",
      "  ===> Found new 3 files to parse for modval 19\n",
      "  ===> Found new 4 files to parse for modval 1\n",
      "Saving 4 new artist IDs to /Users/tgadfort/Music/Discog/artists-discogs-db/10-DB.p\n",
      "Saving 69304 total artist media\n",
      "Saving 3 new artist IDs to /Users/tgadfort/Music/Discog/artists-discogs-db/19-DB.p\n",
      "Saving 76939 total artist media\n",
      "Saving 4 new artist IDs to /Users/tgadfort/Music/Discog/artists-discogs-db/1-DB.p\n",
      "Saving 81203 total artist media\n",
      "  --> This file is 12.3MB.\n",
      "Saving 7558 new artist IDs name data to /Users/tgadfort/Music/Discog/artists-discogs-db/metadata/10-Metadata.p\n",
      "  --> This file is 440.0kB.\n",
      "Saving 7558 new artist IDs media data to /Users/tgadfort/Music/Discog/artists-discogs-db/metadata/10-MediaMetadata.p\n",
      "  --> This file is 4.0MB.\n",
      "----------------------------------------------------------------------------------------------------\n",
      "Parsing Artist Files For ModVal 11\n",
      "  --> This file is 13.5MB.\n",
      "Saving 7539 new artist IDs name data to /Users/tgadfort/Music/Discog/artists-discogs-db/metadata/19-Metadata.p\n",
      "  --> This file is 438.6kB.\n",
      "Saving 7539 new artist IDs media data to /Users/tgadfort/Music/Discog/artists-discogs-db/metadata/19-MediaMetadata.p\n",
      "  --> This file is 4.4MB.\n",
      "----------------------------------------------------------------------------------------------------\n",
      "Parsing Artist Files For ModVal 20\n",
      "  --> This file is 14.5MB.\n",
      "Saving 7766 new artist IDs name data to /Users/tgadfort/Music/Discog/artists-discogs-db/metadata/1-Metadata.p\n",
      "  --> This file is 458.2kB.\n",
      "Saving 7766 new artist IDs media data to /Users/tgadfort/Music/Discog/artists-discogs-db/metadata/1-MediaMetadata.p\n",
      "  --> This file is 4.7MB.\n",
      "----------------------------------------------------------------------------------------------------\n",
      "Parsing Artist Files For ModVal 2\n",
      "  ===> Found new 4 files to parse for modval 11\n",
      "  ===> Found new 3 files to parse for modval 20\n",
      "  ===> Found new 5 files to parse for modval 2\n",
      "Saving 4 new artist IDs to /Users/tgadfort/Music/Discog/artists-discogs-db/11-DB.p\n",
      "Saving 72548 total artist media\n",
      "Saving 3 new artist IDs to /Users/tgadfort/Music/Discog/artists-discogs-db/20-DB.p\n",
      "Saving 73978 total artist media\n",
      "Saving 5 new artist IDs to /Users/tgadfort/Music/Discog/artists-discogs-db/2-DB.p\n",
      "Saving 78668 total artist media\n",
      "  --> This file is 12.9MB.\n",
      "Saving 7601 new artist IDs name data to /Users/tgadfort/Music/Discog/artists-discogs-db/metadata/11-Metadata.p\n",
      "  --> This file is 441.5kB.\n",
      "Saving 7601 new artist IDs media data to /Users/tgadfort/Music/Discog/artists-discogs-db/metadata/11-MediaMetadata.p\n",
      "  --> This file is 4.2MB.\n",
      "  --> This file is 13.0MB.\n",
      "Saving 7591 new artist IDs name data to /Users/tgadfort/Music/Discog/artists-discogs-db/metadata/20-Metadata.p\n",
      "----------------------------------------------------------------------------------------------------\n",
      "Parsing Artist Files For ModVal 12\n",
      "  --> This file is 437.7kB.\n",
      "Saving 7591 new artist IDs media data to /Users/tgadfort/Music/Discog/artists-discogs-db/metadata/20-MediaMetadata.p\n",
      "  --> This file is 4.2MB.\n",
      "----------------------------------------------------------------------------------------------------\n",
      "Parsing Artist Files For ModVal 21\n",
      "  --> This file is 13.7MB.\n",
      "Saving 7528 new artist IDs name data to /Users/tgadfort/Music/Discog/artists-discogs-db/metadata/2-Metadata.p\n",
      "  --> This file is 437.2kB.\n",
      "Saving 7528 new artist IDs media data to /Users/tgadfort/Music/Discog/artists-discogs-db/metadata/2-MediaMetadata.p\n",
      "  --> This file is 4.5MB.\n",
      "----------------------------------------------------------------------------------------------------\n",
      "Parsing Artist Files For ModVal 3\n",
      "  ===> Found new 3 files to parse for modval 21\n",
      "  ===> Found new 5 files to parse for modval 12\n",
      "  ===> Found new 0 files to parse for modval 3\n",
      "Saving 3 new artist IDs to /Users/tgadfort/Music/Discog/artists-discogs-db/21-DB.p\n",
      "Saving 67972 total artist media\n",
      "Saving 5 new artist IDs to /Users/tgadfort/Music/Discog/artists-discogs-db/12-DB.p\n",
      "Saving 72649 total artist media\n",
      "----------------------------------------------------------------------------------------------------\n",
      "Parsing Artist Files For ModVal 4\n",
      "  ===> Found new 3 files to parse for modval 4\n",
      "  --> This file is 12.0MB.\n",
      "Saving 7546 new artist IDs name data to /Users/tgadfort/Music/Discog/artists-discogs-db/metadata/21-Metadata.p\n",
      "  --> This file is 432.4kB.\n",
      "Saving 7546 new artist IDs media data to /Users/tgadfort/Music/Discog/artists-discogs-db/metadata/21-MediaMetadata.p\n",
      "  --> This file is 3.8MB.\n",
      "----------------------------------------------------------------------------------------------------\n",
      "Parsing Artist Files For ModVal 22\n",
      "  --> This file is 12.9MB.\n"
     ]
    },
    {
     "name": "stdout",
     "output_type": "stream",
     "text": [
      "Saving 7640 new artist IDs name data to /Users/tgadfort/Music/Discog/artists-discogs-db/metadata/12-Metadata.p\n",
      "  --> This file is 437.7kB.\n",
      "Saving 7640 new artist IDs media data to /Users/tgadfort/Music/Discog/artists-discogs-db/metadata/12-MediaMetadata.p\n",
      "  --> This file is 4.2MB.\n",
      "----------------------------------------------------------------------------------------------------\n",
      "Parsing Artist Files For ModVal 13\n",
      "Saving 3 new artist IDs to /Users/tgadfort/Music/Discog/artists-discogs-db/4-DB.p\n",
      "Saving 78129 total artist media\n",
      "  ===> Found new 5 files to parse for modval 22\n",
      "  ===> Found new 1 files to parse for modval 13\n",
      "  --> This file is 13.5MB.\n",
      "Saving 7595 new artist IDs name data to /Users/tgadfort/Music/Discog/artists-discogs-db/metadata/4-Metadata.p\n",
      "Saving 1 new artist IDs to /Users/tgadfort/Music/Discog/artists-discogs-db/13-DB.p\n",
      "Saving 71368 total artist media\n",
      "  --> This file is 436.8kB.\n",
      "Saving 7595 new artist IDs media data to /Users/tgadfort/Music/Discog/artists-discogs-db/metadata/4-MediaMetadata.p\n",
      "Saving 5 new artist IDs to /Users/tgadfort/Music/Discog/artists-discogs-db/22-DB.p\n",
      "Saving 71636 total artist media\n",
      "  --> This file is 4.4MB.\n",
      "----------------------------------------------------------------------------------------------------\n",
      "Parsing Artist Files For ModVal 5\n",
      "  ===> Found new 2 files to parse for modval 5\n",
      "  --> This file is 12.6MB.\n",
      "Saving 7683 new artist IDs name data to /Users/tgadfort/Music/Discog/artists-discogs-db/metadata/13-Metadata.p\n",
      "  --> This file is 440.9kB.\n",
      "Saving 7683 new artist IDs media data to /Users/tgadfort/Music/Discog/artists-discogs-db/metadata/13-MediaMetadata.p\n",
      "  --> This file is 12.9MB.\n",
      "Saving 7571 new artist IDs name data to /Users/tgadfort/Music/Discog/artists-discogs-db/metadata/22-Metadata.p\n",
      "  --> This file is 441.1kB.\n",
      "Saving 7571 new artist IDs media data to /Users/tgadfort/Music/Discog/artists-discogs-db/metadata/22-MediaMetadata.p\n",
      "  --> This file is 4.1MB.\n",
      "----------------------------------------------------------------------------------------------------\n",
      "Parsing Artist Files For ModVal 14\n",
      "  --> This file is 4.1MB.\n",
      "----------------------------------------------------------------------------------------------------\n",
      "Parsing Artist Files For ModVal 23\n",
      "Saving 2 new artist IDs to /Users/tgadfort/Music/Discog/artists-discogs-db/5-DB.p\n",
      "Saving 69961 total artist media\n",
      "  ===> Found new 2 files to parse for modval 14\n",
      "  ===> Found new 4 files to parse for modval 23\n",
      "  --> This file is 12.3MB.\n",
      "Saving 7447 new artist IDs name data to /Users/tgadfort/Music/Discog/artists-discogs-db/metadata/5-Metadata.p\n",
      "  --> This file is 430.7kB.\n",
      "Saving 7447 new artist IDs media data to /Users/tgadfort/Music/Discog/artists-discogs-db/metadata/5-MediaMetadata.p\n"
     ]
    }
   ],
   "source": [
    "%load_ext autoreload\n",
    "%autoreload\n",
    "from mainDB import mainDB\n",
    "from parseDBArtistsData import parseDBArtistsData\n",
    "\n",
    "def parseDiscogs(modVals=list(range(100)), force=False, primary=False, credit=False, extra=False, fulldb=False):\n",
    "    db = \"Discogs\"\n",
    "    previousDays=5\n",
    "    if isinstance(modVals, int):\n",
    "        modVals = [modVals]\n",
    "    nProcs = min(3, len(modVals))\n",
    "\n",
    "    start,cmt=clock(\"Parsing Everything for {0}\".format(db))\n",
    "    if primary is True:\n",
    "        maindb = mainDB(mdb=None, create=True, debug=False)\n",
    "        pdb    = parseDBArtistsData(maindb=maindb)\n",
    "        pdb.parse(db, nProcs=nProcs, modVals=modVals, previousDays=previousDays, force=force, primary=True)  ## Primary\n",
    "\n",
    "    if credit is True:\n",
    "        maindb = mainDB(mdb=None, create=True, debug=False)\n",
    "        pdb    = parseDBArtistsData(maindb=maindb)\n",
    "        pdb.parse(db, nProcs=nProcs, modVals=modVals, force=force, credit=True)  ## Credit\n",
    "\n",
    "    if extra is True:\n",
    "        maindb = mainDB(mdb=None, create=True, debug=False)\n",
    "        pdb    = parseDBArtistsData(maindb=maindb)\n",
    "        pdb.parse(db, nProcs=nProcs, modVals=modVals, force=force, extra=True)  ## Extra\n",
    "    \n",
    "\n",
    "    if fulldb is True:\n",
    "        maindb = mainDB(mdb=None, create=True, debug=True)\n",
    "        maindb.setDBFull(db)\n",
    "        elapsed(start, cmt)    \n",
    "    \n",
    "parseDiscogs(primary=True, fulldb=False)"
   ]
  },
  {
   "cell_type": "markdown",
   "metadata": {},
   "source": [
    "# AllMusic"
   ]
  },
  {
   "cell_type": "code",
   "execution_count": null,
   "metadata": {},
   "outputs": [],
   "source": [
    "%load_ext autoreload\n",
    "%autoreload\n",
    "from mainDB import mainDB\n",
    "from parseDBArtistsData import parseDBArtistsData\n",
    "\n",
    "def parseAllMusic(modVals=list(range(100)), force=False, primary=False, credit=False, fulldb=False):\n",
    "    db = \"AllMusic\"\n",
    "    if isinstance(modVals, int):\n",
    "        modVals = [modVals]\n",
    "    nProcs = min(3, len(modVals))\n",
    "\n",
    "    start,cmt=clock(\"Parsing Everything for {0}\".format(db))\n",
    "    if primary is True:\n",
    "        maindb = mainDB(mdb=None, create=True, debug=False)\n",
    "        pdb    = parseDBArtistsData(maindb=maindb)\n",
    "        pdb.parse(db, nProcs=nProcs, modVals=modVals, force=force, primary=True)  ## Primary\n",
    "\n",
    "    if credit is True:\n",
    "        maindb = mainDB(mdb=None, create=True, debug=False)\n",
    "        pdb    = parseDBArtistsData(maindb=maindb)\n",
    "        pdb.parse(db, nProcs=nProcs, modVals=modVals, force=force, credit=True)  ## Credit\n",
    "    \n",
    "\n",
    "    if fulldb is True:\n",
    "        maindb = mainDB(mdb=None, create=True, debug=True)\n",
    "        maindb.setDBFull(db)\n",
    "        elapsed(start, cmt)    \n",
    "    \n",
    "parseAllMusic(primary=True, credit=True, fulldb=True)"
   ]
  },
  {
   "cell_type": "markdown",
   "metadata": {},
   "source": [
    "****\n",
    "****\n",
    "****\n",
    "****"
   ]
  },
  {
   "cell_type": "markdown",
   "metadata": {},
   "source": [
    "# Recreate Artist Names"
   ]
  },
  {
   "cell_type": "code",
   "execution_count": null,
   "metadata": {},
   "outputs": [],
   "source": [
    "start, cmt = clock(\"Creating DB\")\n",
    "maindb = mainDB(mdb=None, create=True, debug=True)\n",
    "maindb.setDBArtists(recreate=False)\n",
    "elapsed(start, cmt)"
   ]
  },
  {
   "cell_type": "code",
   "execution_count": null,
   "metadata": {},
   "outputs": [],
   "source": []
  },
  {
   "cell_type": "markdown",
   "metadata": {},
   "source": [
    "# Master Work"
   ]
  },
  {
   "cell_type": "code",
   "execution_count": null,
   "metadata": {
    "scrolled": true
   },
   "outputs": [],
   "source": [
    "start, cmt = clock(\"Creating DB\")\n",
    "maindb = mainDB(mdb=None, create=True, debug=True)\n",
    "maindb.setDBFull()\n",
    "elapsed(start, cmt)"
   ]
  },
  {
   "cell_type": "code",
   "execution_count": null,
   "metadata": {},
   "outputs": [],
   "source": [
    "df = getFile(\"/Users/tgadfort/Music/Discog/db-rockcorner/MasterSlimArtistDB.p\")\n",
    "df[\"MultiStatus\"].value_counts()"
   ]
  },
  {
   "cell_type": "markdown",
   "metadata": {},
   "source": [
    "## Parse Single ModVal"
   ]
  },
  {
   "cell_type": "code",
   "execution_count": null,
   "metadata": {},
   "outputs": [],
   "source": [
    "for i in range(10):\n",
    "    for j in range(10):\n",
    "        print(\"{0}touch /Volumes/Piggy/Discog/artists-discogs/{1}/0*0*0*\".format(\"!\", i*10+j))\n",
    "        print(\"{0}echo '{1}'\".format(\"!\", i+10*j))"
   ]
  },
  {
   "cell_type": "code",
   "execution_count": null,
   "metadata": {},
   "outputs": [],
   "source": [
    "masterDBDF = maindb.dbdata[\"MusicBrainz\"][\"Disc\"].getMasterSlimArtistDiscogsDB()"
   ]
  },
  {
   "cell_type": "code",
   "execution_count": null,
   "metadata": {},
   "outputs": [],
   "source": [
    "from searchUtils import findExt\n",
    "from fsUtils import setDir, setFile\n",
    "modVal = 99\n",
    "artistDBDir = maindb.dbdata[\"Discogs\"][\"Artists\"].getArtistsDBDir()\n",
    "artistDir   = maindb.dbdata[\"Discogs\"][\"Artists\"].getArtistsDir()\n",
    "dirVal = setDir(artistDir, str(modVal))\n",
    "files  = findExt(dirVal, ext='.p')\n",
    "dbname = setFile(artistDBDir, \"{0}-DB.p\".format(modVal))\n",
    "len(files)"
   ]
  },
  {
   "cell_type": "code",
   "execution_count": null,
   "metadata": {},
   "outputs": [],
   "source": [
    "from datetime import datetime, timedelta    \n",
    "from os import path\n",
    "\n",
    "def getFiles():\n",
    "    from searchUtils import findExt\n",
    "    from fsUtils import setDir, setFile\n",
    "    modVal = 99\n",
    "    artistDBDir = maindb.dbdata[\"Discogs\"][\"Artists\"].getArtistsDBDir()\n",
    "    artistDir   = maindb.dbdata[\"Discogs\"][\"Artists\"].getArtistsDir()\n",
    "    dirVal = setDir(artistDir, str(modVal))\n",
    "    files  = findExt(dirVal, ext='.p')\n",
    "    return files\n",
    "\n",
    "def getNewFiles(dbname, previousDays=5, force=False):\n",
    "    now    = datetime.now()\n",
    "    files  = getFiles()\n",
    "    if isFile(dbname):\n",
    "        lastModified = datetime.fromtimestamp(path.getmtime(dbname))\n",
    "        if force is True:\n",
    "            lastModified = None\n",
    "    else:\n",
    "        lastModified = None\n",
    " \n",
    "    if lastModified is None:\n",
    "        newFiles = files\n",
    "    else:\n",
    "        numNew    = [ifile for ifile in files if (now-datetime.fromtimestamp(path.getmtime(ifile))).days < previousDays]\n",
    "        numRecent = [ifile for ifile in files if datetime.fromtimestamp(path.getmtime(ifile)) > lastModified]\n",
    "        newFiles  = list(set(numNew).union(set(numRecent)))\n",
    "        print(len(files))\n",
    "        print(len(numNew))\n",
    "        print(len(numRecent))\n",
    "    print(len(newFiles))"
   ]
  },
  {
   "cell_type": "code",
   "execution_count": null,
   "metadata": {},
   "outputs": [],
   "source": [
    "artistDBDir = maindb.dbdata[\"Discogs\"][\"Artists\"].getArtistsDBDir()\n",
    "artistDir   = maindb.dbdata[\"Discogs\"][\"Artists\"].getArtistsDir()\n",
    "dirVal = setDir(artistDir, str(modVal))\n",
    "dbname = setFile(artistDBDir, \"{0}-DB.p\".format(modVal))\n",
    "\n",
    "files = getNewFiles(dbname=dbname, previousDays=50, force=True)"
   ]
  },
  {
   "cell_type": "code",
   "execution_count": null,
   "metadata": {},
   "outputs": [],
   "source": [
    "now    = datetime.now()\n"
   ]
  },
  {
   "cell_type": "code",
   "execution_count": null,
   "metadata": {},
   "outputs": [],
   "source": [
    "\n",
    "def parseArtistModValFiles(self, modVal, force=False, debug=False, doExtra=False):        \n",
    "    from os import path\n",
    "    from datetime import datetime, timedelta\n",
    "\n",
    "    print(\"-\"*100)\n",
    "    print(\"Parsing Artist Files For ModVal {0}\".format(modVal))\n",
    "    artistInfo = self.artist\n",
    "\n",
    "    artistDir = self.disc.getArtistsDir()\n",
    "    maxModVal = self.disc.getMaxModVal()\n",
    "\n",
    "    artistDBDir = self.disc.getArtistsDBDir()        \n",
    "\n",
    "    dirVal = setDir(artistDir, str(modVal))\n",
    "    files  = findExt(dirVal, ext='.p')\n",
    "    dbname = setFile(artistDBDir, \"{0}-DB.p\".format(modVal))\n",
    "\n",
    "\n",
    "\n",
    "    ### Check for recent files\n",
    "    if isFile(dbname):\n",
    "        lastModified = datetime.fromtimestamp(path.getmtime(dbname))\n",
    "        now    = datetime.now()            \n",
    "        if force is False:\n",
    "            numRecent = [ifile for ifile in files if datetime.fromtimestamp(path.getmtime(ifile)) > lastModified]\n",
    "            numNew    = [ifile for ifile in files if (now-datetime.fromtimestamp(path.getmtime(ifile))).days < 1]\n",
    "            if len(numRecent) == 0:\n",
    "                print(\"  ===> Found {0} files, but there are no new files to parse so skipping.\".format(len(files)))\n",
    "                return 0\n",
    "            else:\n",
    "                print(\"  ===> Found {0} files. There are {1} new files to parse.\".format(len(files), len(numRecent)))\n",
    "    else:\n",
    "        force = True\n",
    "        lastModified = datetime.fromtimestamp(mktime(gmtime(0)))\n",
    "\n",
    "\n",
    "    if force is False:\n",
    "        dbdata = getFile(dbname, version=3)\n",
    "    else:\n",
    "        print(\"Forcing Reloads of ModVal={0}\".format(modVal))\n",
    "        print(\"  Processing {0} files.\".format(len(files)))\n",
    "        dbdata = {}\n",
    "\n",
    "    saveIt = 0\n",
    "    for j,ifile in enumerate(files):\n",
    "        if force is True:\n",
    "            if j % 500 == 0:\n",
    "                print(\"\\tProcessed {0}/{1} files.\".format(j,len(files)))\n",
    "        artistID = getBaseFilename(ifile)\n",
    "        isKnown  = dbdata.get(artistID)\n",
    "        recent   = datetime.fromtimestamp(path.getctime(ifile))\n",
    "        if isKnown is None or recent > lastModified or force is True:\n",
    "            info   = artistInfo.getData(ifile)\n",
    "\n",
    "            if info.ID.ID != artistID:\n",
    "\n",
    "                # Check Profile\n",
    "                try:\n",
    "                    artistName = info.profile.search\n",
    "                    if artistName is not None:\n",
    "                        self.creditToDownload[artistID] = [artistName,self.getArtistSavename(artistID, credit=True)]\n",
    "                except:\n",
    "                    pass\n",
    "\n",
    "                if debug is False:\n",
    "                    continue\n",
    "                print(\"ID From Name: {0}\".format(artistID))\n",
    "                print(\"ID From File: {0}\".format(info.ID.ID))\n",
    "\n",
    "                print(\"File: {0}\".format(ifile))\n",
    "                print(\"Info: {0}\".format(info.url.get()))\n",
    "                continue\n",
    "                #1/0\n",
    "\n",
    "            saveIt += 1\n",
    "            dbdata[artistID] = info\n",
    "\n",
    "\n",
    "    forceSave = False\n",
    "    if saveIt > 0 and doExtra is True:\n",
    "        print(\"\\tCalling Extra Parsing\")\n",
    "        dbdata = self.parseArtistModValExtraFiles(modVal, dbdata=dbdata, force=force, debug=debug)\n",
    "        forceSave = True\n",
    "        saveIt = len(dbdata)\n",
    "\n",
    "\n",
    "    if len(self.creditToDownload) > 0:\n",
    "        print(\"Found {0} artists that need new downloads.\".format(len(self.creditToDownload)))\n",
    "\n",
    "\n",
    "    if saveIt > 0 or forceSave is True:\n",
    "        savename = setFile(artistDBDir, \"{0}-DB.p\".format(modVal))     \n",
    "        print(\"Saving {0} new artist IDs to {1}\".format(saveIt, savename))\n",
    "        dbNumAlbums = sum([self.getArtistNumAlbums(artistData) for artistData in dbdata.values()])\n",
    "        print(\"Saving {0} total artist media\".format(dbNumAlbums))\n",
    "        saveFile(idata=dbdata, ifile=savename)\n",
    "\n",
    "        self.createArtistModValMetadata(modVal=modVal, db=dbdata, debug=debug)\n",
    "        self.createArtistAlbumModValMetadata(modVal=modVal, db=dbdata, debug=debug)\n",
    "\n",
    "    return saveIt\n",
    "\n"
   ]
  },
  {
   "cell_type": "code",
   "execution_count": null,
   "metadata": {},
   "outputs": [],
   "source": []
  },
  {
   "cell_type": "code",
   "execution_count": null,
   "metadata": {},
   "outputs": [],
   "source": []
  },
  {
   "cell_type": "code",
   "execution_count": null,
   "metadata": {},
   "outputs": [],
   "source": []
  },
  {
   "cell_type": "code",
   "execution_count": null,
   "metadata": {},
   "outputs": [],
   "source": []
  },
  {
   "cell_type": "code",
   "execution_count": null,
   "metadata": {},
   "outputs": [],
   "source": []
  },
  {
   "cell_type": "code",
   "execution_count": null,
   "metadata": {},
   "outputs": [],
   "source": []
  },
  {
   "cell_type": "code",
   "execution_count": null,
   "metadata": {},
   "outputs": [],
   "source": []
  },
  {
   "cell_type": "code",
   "execution_count": null,
   "metadata": {},
   "outputs": [],
   "source": []
  },
  {
   "cell_type": "code",
   "execution_count": null,
   "metadata": {},
   "outputs": [],
   "source": [
    "masterDBDF[~(masterDBDF.DiscArtist == masterDBDF.CleanDiscArtist)]"
   ]
  },
  {
   "cell_type": "code",
   "execution_count": null,
   "metadata": {},
   "outputs": [],
   "source": [
    "data = getFile(\"creditToDownload.p\")"
   ]
  },
  {
   "cell_type": "code",
   "execution_count": null,
   "metadata": {},
   "outputs": [],
   "source": [
    "%load_ext autoreload\n",
    "%autoreload\n",
    "from masterArtistNameDB import masterArtistNameDB\n",
    "manDB = masterArtistNameDB(\"master\")"
   ]
  },
  {
   "cell_type": "code",
   "execution_count": null,
   "metadata": {},
   "outputs": [],
   "source": [
    "manDB.removeArtist(\"NF\")\n",
    "manDB.removeArtist(\"nf\")"
   ]
  },
  {
   "cell_type": "code",
   "execution_count": null,
   "metadata": {},
   "outputs": [],
   "source": [
    "dbrs = getFile(\"dbrenames.yaml\")\n",
    "del dbrs[\"John Myers\"]\n",
    "manDB.addRenames(dbrs)"
   ]
  },
  {
   "cell_type": "code",
   "execution_count": null,
   "metadata": {},
   "outputs": [],
   "source": [
    "manDB.addRenames(getFile(\"dbrenames.yaml\"))"
   ]
  },
  {
   "cell_type": "code",
   "execution_count": null,
   "metadata": {},
   "outputs": [],
   "source": [
    "manDB.save()\n",
    "manDB.saveRenames()"
   ]
  },
  {
   "cell_type": "code",
   "execution_count": null,
   "metadata": {
    "scrolled": true
   },
   "outputs": [],
   "source": [
    "start,cmt=clock(\"Parsing Single ModVal\")\n",
    "pdb.parse(db=\"Discogs\", modVals=[0], nProcs=1, force=False)\n",
    "elapsed(start, cmt)"
   ]
  },
  {
   "cell_type": "code",
   "execution_count": null,
   "metadata": {},
   "outputs": [],
   "source": [
    "data = getFile('/Users/tgadfort/Music/Discog/artists-discogs-db/0-DB.p')"
   ]
  },
  {
   "cell_type": "code",
   "execution_count": null,
   "metadata": {},
   "outputs": [],
   "source": [
    "len(data)"
   ]
  },
  {
   "cell_type": "code",
   "execution_count": null,
   "metadata": {},
   "outputs": [],
   "source": [
    "def getArtistNumAlbums(artistData):\n",
    "    numAlbums = sum([len(x) for x in artistData.media.media.values()])\n",
    "    return numAlbums\n",
    "saveIt = True\n",
    "dbNumAlbums = sum([getArtistNumAlbums(artistData) for artistData in data.values()])\n",
    "print('0', dbNumAlbums)\n"
   ]
  },
  {
   "cell_type": "code",
   "execution_count": null,
   "metadata": {},
   "outputs": [],
   "source": [
    "bsdata = getHTML(\"/Volumes/Piggy/Discog/artists-allmusic/99/0002579199.p\")\n",
    "#bsdata = getHTML(\"/Users/tgadfort/Downloads/DJ Spinz _ Credits _ AllMusic.htm\")"
   ]
  },
  {
   "cell_type": "code",
   "execution_count": null,
   "metadata": {},
   "outputs": [],
   "source": [
    "data = getFile(\"/Users/tgadfort/Music/Discog/artists-allmusic-db/99-DB.p\")"
   ]
  },
  {
   "cell_type": "code",
   "execution_count": null,
   "metadata": {},
   "outputs": [],
   "source": [
    "data['0002579199']"
   ]
  },
  {
   "cell_type": "code",
   "execution_count": null,
   "metadata": {},
   "outputs": [],
   "source": []
  },
  {
   "cell_type": "code",
   "execution_count": null,
   "metadata": {},
   "outputs": [],
   "source": []
  },
  {
   "cell_type": "code",
   "execution_count": null,
   "metadata": {},
   "outputs": [],
   "source": [
    "amcredit = artistAMCredit()"
   ]
  },
  {
   "cell_type": "code",
   "execution_count": null,
   "metadata": {},
   "outputs": [],
   "source": [
    "#amdata = amcredit.getData(\"/Users/tgadfort/Downloads/DJ Spinz _ Credits _ AllMusic.htm\")\n",
    "amdata = maindb.dbdata[\"AllMusic\"][\"Artist\"].getData(\"/Volumes/Piggy/Discog/artists-allmusic/99/0002579199.p\")\n",
    "amdata.show()"
   ]
  },
  {
   "cell_type": "code",
   "execution_count": null,
   "metadata": {},
   "outputs": [],
   "source": [
    "dbdata[\"LastFM\"][\"Artists\"].parseArtistModValExtraFiles(0, force=True, debug=True)"
   ]
  },
  {
   "cell_type": "code",
   "execution_count": null,
   "metadata": {},
   "outputs": [],
   "source": [
    "from glob import glob\n",
    "glob('/Volumes/Piggy/Discog/artists-lastfm/0/extra/11792020000-*.p')"
   ]
  },
  {
   "cell_type": "code",
   "execution_count": null,
   "metadata": {},
   "outputs": [],
   "source": [
    "bsdata = getHTML(ifile)\n",
    "ols = bsdata.findAll(\"ol\", {\"class\": \"buffer-standard\"})\n",
    "ols"
   ]
  },
  {
   "cell_type": "code",
   "execution_count": null,
   "metadata": {},
   "outputs": [],
   "source": [
    "ifile='/Volumes/Piggy/Discog/artists-lastfm/0/extra/72742897500-2.p'\n",
    "#getFile(ifile)\n",
    "a       = dbdata[\"LastFM\"][\"Artist\"].getData(ifile, debug=False)\n",
    "\n",
    "def info(a):\n",
    "    name    = a.artist.name\n",
    "    ID      = a.ID.ID\n",
    "    url     = a.url.url\n",
    "    pages   = a.pages\n",
    "    media   = a.media\n",
    "    counts  = a.mediaCounts\n",
    "    profile = a.profile\n",
    "\n",
    "    print(\"{0: <10}{1}\".format(\"Name:\", name))\n",
    "    print(\"{0: <10}{1}\".format(\"ID:\", ID))\n",
    "    print(\"{0: <10}{1}\".format(\"URL:\", url))\n",
    "    print(\"{0: <10}{1}\".format(\"Pages:\", pages.get()))\n",
    "    print(\"{0: <10}{1}\".format(\"Profile:\", profile.get()))\n",
    "    print(\"{0: <10}{1}\".format(\"Counts:\", counts.get()))\n",
    "    print(\"{0: <10}\".format(\"Media:\"))\n",
    "    for mediaType,mediaData in media.get()['media'].items():\n",
    "        for mediaInfo in mediaData:\n",
    "            print(\"\\t{0: <10}{1}\".format(mediaType, mediaInfo.get()['album']))"
   ]
  },
  {
   "cell_type": "code",
   "execution_count": null,
   "metadata": {},
   "outputs": [],
   "source": [
    "info(a)"
   ]
  },
  {
   "cell_type": "code",
   "execution_count": null,
   "metadata": {},
   "outputs": [],
   "source": [
    "nProcs = 8\n",
    "%load_ext autoreload\n",
    "%autoreload\n",
    "from mainDB import mainDB\n",
    "maindb = mainDB(mdb=None, create=True, debug=True)\n",
    "start,cmt=clock(\"Parsing All Artists\")\n",
    "start2,cmt2=clock(\"Parallel Artist Parsing\")\n",
    "\n",
    "parseArtistsParallel(db=\"AllMusic\", nProcs=nProcs)\n",
    "maindb.setDBFull(\"AllMusic\")\n",
    "\n",
    "parseArtistsParallel(db=\"MusicBrainz\", nProcs=nProcs)\n",
    "maindb.setDBFull(\"MusicBrainz\")\n",
    "\n",
    "parseArtistsParallel(db=\"Discogs\", nProcs=nProcs)\n",
    "maindb.setDBFull(\"Discogs\")\n",
    "\n",
    "#parseArtistsParallel(db=\"AceBootlegs\", nProcs=1)\n",
    "#parseArtistsParallel(db=\"DatPiff\", nProcs=1)\n",
    "#parseArtistsParallel(db=\"RateYourMusic\", nProcs=3)\n",
    "parseArtistsParallel(db=\"LastFM\", nProcs=nProcs)\n",
    "maindb.setDBFull(\"LastFM\")\n",
    "\n",
    "#parseArtistsParallel(db=\"RockCorner\", nProcs=3)\n",
    "#parseArtistsParallel(db=\"CDandLP\", nProcs=3)\n",
    "#parseArtistsParallel(db=\"MusicStack\", nProcs=1)\n",
    "elapsed(start2, cmt2)\n",
    "elapsed(start, cmt)"
   ]
  },
  {
   "cell_type": "markdown",
   "metadata": {},
   "source": [
    "# Master DB"
   ]
  },
  {
   "cell_type": "code",
   "execution_count": null,
   "metadata": {},
   "outputs": [],
   "source": [
    "\n",
    "print(\"\\n\\n{0}\\n\".format(\"Full DB\"))\n",
    "print(\"\\n\\n{0}\\n\".format(\"Known DB\"))\n",
    "#maindb.setDBKnown() ## Do this to recreate everything\n",
    "#maindb.setDBKnown()\n",
    "#artistDBs = maindb.getKnownArtistDBs()"
   ]
  },
  {
   "cell_type": "markdown",
   "metadata": {},
   "source": [
    "# Download My Known Artists"
   ]
  },
  {
   "cell_type": "code",
   "execution_count": null,
   "metadata": {},
   "outputs": [],
   "source": [
    "mdb = myMusicDBMap(debug=True)"
   ]
  },
  {
   "cell_type": "code",
   "execution_count": null,
   "metadata": {},
   "outputs": [],
   "source": [
    "dbsToGet = [\"AllMusic\", \"Discogs\", \"MusicBrainz\", \"LastFM\", \"RockCorner\", \"CDandLP\"]\n",
    "searches = [dbdata[\"AllMusic\"][\"Artists\"].searchAllMusicForArtist, dbdata[\"Discogs\"][\"Artists\"].searchDiscogForArtist,\n",
    "            dbdata[\"MusicBrainz\"][\"Artists\"].searchMusicBrainzForArtist, dbdata[\"LastFM\"][\"Artists\"].searchLastFMForArtist,\n",
    "            dbdata[\"RockCorner\"][\"Artists\"].searchRockCornerForArtist, dbdata[\"CDandLP\"][\"Artists\"].searchCDandLPForArtist]\n",
    "\n",
    "dbsToGet = [\"AllMusic\"]\n",
    "searches = [dbdata[\"AllMusic\"][\"Artists\"].searchAllMusicForArtist]"
   ]
  },
  {
   "cell_type": "code",
   "execution_count": null,
   "metadata": {},
   "outputs": [],
   "source": [
    "def searchAll(mdb, minI=-1):\n",
    "    nArtists = len(mdb.getArtists())\n",
    "    for i,artistName in enumerate(mdb.getArtists()):\n",
    "        if i <= minI:\n",
    "            continue\n",
    "\n",
    "        print('\\n\\n\\n')\n",
    "        print('-'*130)\n",
    "        print(i,'/',nArtists,'===>\\t',artistName)\n",
    "        print('-'*130)\n",
    "        print('\\n')\n",
    "        \n",
    "        dbdata = mdb.getArtistData(artistName)\n",
    "        if all([dbdata.get(\"LastFM\"), dbdata.get(\"Discogs\"), dbdata.get(\"AllMusic\"), dbdata.get(\"MusicBrainz\")]):\n",
    "            print(\"{0} is well known.\".format(artistName))\n",
    "            continue\n",
    "        else:\n",
    "            print(\"{0} get it!\".format(artistName))\n",
    "\n",
    "        for search in searches:\n",
    "            print(\"====>\",search)\n",
    "            try:\n",
    "                search(artistName)\n",
    "            except:\n",
    "                sleep(3)"
   ]
  },
  {
   "cell_type": "code",
   "execution_count": null,
   "metadata": {},
   "outputs": [],
   "source": [
    "searchAll(mdb, 3404)"
   ]
  },
  {
   "cell_type": "code",
   "execution_count": null,
   "metadata": {},
   "outputs": [],
   "source": [
    "# Refused"
   ]
  },
  {
   "cell_type": "markdown",
   "metadata": {},
   "source": [
    "# Albums"
   ]
  },
  {
   "cell_type": "code",
   "execution_count": null,
   "metadata": {},
   "outputs": [],
   "source": [
    "%load_ext autoreload\n",
    "%autoreload\n",
    "from album import album\n",
    "from albums import albums\n",
    "from discogsBase import discogs\n",
    "\n",
    "disc = discogs()\n",
    "albs = albums(disc)\n",
    "#albs.parseAlbumModValFiles(modVal=27)"
   ]
  },
  {
   "cell_type": "code",
   "execution_count": null,
   "metadata": {},
   "outputs": [],
   "source": [
    "def parseAlbums(modVal):\n",
    "    albs.parseAlbumModValFiles(modVal=modVal)\n",
    "    #albs.createAlbumModValMetadata(modVal)\n",
    "    #albs.createAlbumModValMetadata(modVal=modVal)\n",
    "\n",
    "def parseAlbumsParallel(modVals=None):\n",
    "    if modVals is None:\n",
    "        modVals = [\"NAN\"] + list(range(100))\n",
    "        #modVals = range(100)\n",
    "    nProcs = 2\n",
    "    pool = Pool(processes=nProcs)\n",
    "    result = pool.map_async(parseAlbums, modVals)\n",
    " \n",
    "    start, cmt = clock(\"Processing {0} modVals using {1} processes\".format(modVals, nProcs))\n",
    "    print(\"Runing .\",end=\"\")\n",
    "    while not result.ready():\n",
    "        #print(\".\",end=\"\")\n",
    "        time.sleep(10)\n",
    "    print(\"\")\n",
    "    \n",
    "    elapsed(start, cmt)\n",
    "    return result.get()"
   ]
  },
  {
   "cell_type": "code",
   "execution_count": null,
   "metadata": {},
   "outputs": [],
   "source": [
    "%load_ext autoreload\n",
    "%autoreload\n",
    "from album import album\n",
    "from albums import albums\n",
    "albs = albums(disc)\n",
    "\n",
    "start,cmt=clock(\"Parsing All Albums\")\n",
    "start2,cmt2=clock(\"Parallel Album Parsing\")\n",
    "parseAlbumsParallel()\n",
    "elapsed(start2, cmt2)\n",
    "elapsed(start, cmt)"
   ]
  },
  {
   "cell_type": "markdown",
   "metadata": {},
   "source": [
    "# Download Stuff"
   ]
  },
  {
   "cell_type": "code",
   "execution_count": null,
   "metadata": {},
   "outputs": [],
   "source": [
    "mdb = myMusicDBMap(debug=True)\n",
    "maindb = mainDB(mdb=mdb, create=False, debug=True)\n",
    "dbdata = maindb.dbdata"
   ]
  },
  {
   "cell_type": "code",
   "execution_count": null,
   "metadata": {},
   "outputs": [],
   "source": [
    "ifile = \"unmatchedArtists4.p\"\n",
    "noMatches = getFile(ifile)\n",
    "print(len(noMatches))\n",
    "dbs = ['Discogs', 'AllMusic', 'MusicBrainz', 'LastFM']\n",
    "dbs = ['MusicBrainz']\n",
    "\n",
    "#noMatches=['Go-A', 'PM', 'Qango']\n",
    "\n",
    "from time import sleep\n",
    "maxI = -1\n",
    "for i,artist in enumerate(noMatches):\n",
    "    print(\"=\"*100)\n",
    "    print(\"=\"*100)\n",
    "    print(\"=\"*100)\n",
    "    print(\"=\"*100)\n",
    "    print(i,'/',len(noMatches),'\\t',artist)\n",
    "    if i <= maxI:\n",
    "        continue\n",
    "    for db in dbs:\n",
    "        print(\"=\"*100)\n",
    "        print(i,'/',len(noMatches),'\\t',artist,'===>',db)\n",
    "        try:\n",
    "            dbdata[db][\"Artists\"].searchForArtist(artist)\n",
    "        except:\n",
    "            sleep(5)"
   ]
  },
  {
   "cell_type": "code",
   "execution_count": null,
   "metadata": {},
   "outputs": [],
   "source": []
  }
 ],
 "metadata": {
  "kernelspec": {
   "display_name": "Python 3",
   "language": "python",
   "name": "python3"
  },
  "language_info": {
   "codemirror_mode": {
    "name": "ipython",
    "version": 3
   },
   "file_extension": ".py",
   "mimetype": "text/x-python",
   "name": "python",
   "nbconvert_exporter": "python",
   "pygments_lexer": "ipython3",
   "version": "3.7.7"
  }
 },
 "nbformat": 4,
 "nbformat_minor": 2
}
