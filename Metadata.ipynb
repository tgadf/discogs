{
 "cells": [
  {
   "cell_type": "code",
   "execution_count": 1,
   "metadata": {},
   "outputs": [
    {
     "data": {
      "text/html": [
       "<style>.container { width:100% !important; }</style>"
      ],
      "text/plain": [
       "<IPython.core.display.HTML object>"
      ]
     },
     "metadata": {},
     "output_type": "display_data"
    },
    {
     "data": {
      "text/html": [
       "<style>div.output_area{max-height:10000px;overflow:scroll;}</style>"
      ],
      "text/plain": [
       "<IPython.core.display.HTML object>"
      ]
     },
     "metadata": {},
     "output_type": "display_data"
    },
    {
     "name": "stdout",
     "output_type": "stream",
     "text": [
      "Python: 3.7.7 (default, Mar 26 2020, 10:32:53) \n",
      "[Clang 4.0.1 (tags/RELEASE_401/final)]\n"
     ]
    },
    {
     "name": "stderr",
     "output_type": "stream",
     "text": [
      "/Users/tgadfort/opt/anaconda3/envs/py37/lib/python3.7/site-packages/sklearn/externals/joblib/__init__.py:15: FutureWarning: sklearn.externals.joblib is deprecated in 0.21 and will be removed in 0.23. Please import this functionality directly from joblib, which can be installed with: pip install joblib. If this warning is raised when loading pickled models, you may need to re-serialize those models with scikit-learn 0.21+.\n",
      "  warnings.warn(msg, category=FutureWarning)\n"
     ]
    },
    {
     "name": "stdout",
     "output_type": "stream",
     "text": [
      "Notebook Last Run Initiated: 2020-11-16 20:41:54.668243\n"
     ]
    }
   ],
   "source": [
    "## Basic stuff\n",
    "%load_ext autoreload\n",
    "%autoreload\n",
    "from IPython.core.display import display, HTML\n",
    "display(HTML(\"<style>.container { width:100% !important; }</style>\"))\n",
    "display(HTML(\"\"\"<style>div.output_area{max-height:10000px;overflow:scroll;}</style>\"\"\"))\n",
    "\n",
    "## Python Version\n",
    "import sys\n",
    "print(\"Python: {0}\".format(sys.version))\n",
    "\n",
    "\n",
    "################################################################################\n",
    "## General Stuff\n",
    "################################################################################\n",
    "from ioUtils import saveJoblib, loadJoblib, saveFile, getFile\n",
    "import urllib\n",
    "from urllib.parse import quote\n",
    "from timeUtils import clock, elapsed\n",
    "from fsUtils import moveFile, setFile, setDir, setSubDir, isFile, isDir, mkDir\n",
    "from fileUtils import getFileBasics, getBasename\n",
    "from webUtils import getHTML\n",
    "from time import sleep\n",
    "import time\n",
    "from multiprocessing import Pool\n",
    "\n",
    "\n",
    "######################################################\n",
    "# Music Stuff\n",
    "######################################################\n",
    "from dbBase import dbBase\n",
    "from multiArtist import multiartist\n",
    "from myMusicDBMap import myMusicDBMap\n",
    "from mainDB import mainDB\n",
    "from parseDBArtistsData import parseDBArtistsData\n",
    "\n",
    "\n",
    "\n",
    "\n",
    "import datetime as dt\n",
    "start = dt.datetime.now()\n",
    "print(\"Notebook Last Run Initiated: \"+str(start))"
   ]
  },
  {
   "cell_type": "markdown",
   "metadata": {},
   "source": [
    "## Parse Artists Base"
   ]
  },
  {
   "cell_type": "code",
   "execution_count": 2,
   "metadata": {},
   "outputs": [
    {
     "name": "stdout",
     "output_type": "stream",
     "text": [
      "The autoreload extension is already loaded. To reload it, use:\n",
      "  %reload_ext autoreload\n",
      "=========================   discogs   =========================\n",
      "=========================   allmusic   =========================\n",
      "=========================   musicbrainz   =========================\n",
      "=========================   lastfm   =========================\n",
      "=========================   rockcorner   =========================\n",
      "=========================   acebootlegs   =========================\n",
      "=========================   cdandlp   =========================\n",
      "=========================   rateyourmusic   =========================\n",
      "=========================   musicstack   =========================\n"
     ]
    }
   ],
   "source": [
    "%load_ext autoreload\n",
    "%autoreload\n",
    "from mainDB import mainDB\n",
    "from parseDBArtistsData import parseDBArtistsData\n",
    "maindb = mainDB(mdb=None, create=True, debug=False)\n",
    "pdb    = parseDBArtistsData(maindb=maindb)\n",
    "dbdata = maindb.dbdata"
   ]
  },
  {
   "cell_type": "markdown",
   "metadata": {},
   "source": [
    "## Create Metadata (Only)"
   ]
  },
  {
   "cell_type": "code",
   "execution_count": null,
   "metadata": {},
   "outputs": [],
   "source": [
    "dbs    = ['AllMusic', 'Discogs', 'MusicBrainz', 'LastFM']\n",
    "dbs    = ['AllMusic']\n",
    "start,cmt=clock(\"Parsing Metadata\")\n",
    "for db in dbs:\n",
    "    pdb.parseMetadata(db=db, nProcs=3, modVals=list(range(100)), force=True) \n",
    "elapsed(start, cmt)"
   ]
  },
  {
   "cell_type": "markdown",
   "metadata": {},
   "source": [
    "## Parse Everything"
   ]
  },
  {
   "cell_type": "code",
   "execution_count": null,
   "metadata": {},
   "outputs": [],
   "source": [
    "ff   864K Nov 15 00:41 7-DB.p\n",
    "-rwxrwxrwx    1 tgadfort  staff   953K Nov 15 00:41 0-DB.p\n",
    "-rwxrwxrwx    1 tgadfort  staff   1.0M Nov 15 00:43 8-DB.p\n",
    "-rwxrwxrwx    1 tgadfort  staff   884K Nov 15 00:43 1-DB.p\n",
    "-rwxrwxrwx    1 tgadfort  staff   1.0M Nov 15 00:44 2-DB.p\n",
    "-rwxrwxrwx    1 tgadfort  staff   932K Nov 15 00:50 6-DB.p\n",
    "-rwxrwxrwx    1 tgadfort  staff   963K Nov 15 00:51 42-DB.p\n",
    "-rwxrwxrwx    1 tgadfort  staff   1.0M Nov 15 00:53 43-DB.p\n",
    "-rwxrwxrwx    1 tgadfort  staff   996K Nov 15 00:54 44-DB.p\n",
    "-rwxrwxrwx    1 tgadfort  staff   963K Nov 15 00:55 38-DB.p\n",
    "-rwxrwxrwx    1 tgadfort  staff   873K Nov 15 00:57 39-DB.p\n",
    "-rwxrwxrwx    1 tgadfort  staff   978K Nov 15 00:58 40-DB.p\n",
    "-rwxrwxrwx    1 tgadfort  staff   845K Nov 15 01:00 41-DB.p\n",
    "    \n",
    "    \n",
    "    \n",
    "-rwxrwxrwx    1 tgadfort  staff   873K Nov 15 00:57 39-DB.p\n",
    "-rwxrwxrwx    1 tgadfort  staff   1.0M Nov 15 00:43 8-DB.p\n",
    "-rwxrwxrwx    1 tgadfort  staff   864K Nov 15 00:41 7-DB.p\n",
    "\n",
    "    \n",
    "    -rwxrwxrwx    1 tgadfort  staff   956K Nov 16 13:30 88-DB.p\n",
    "-rwxrwxrwx    1 tgadfort  staff   1.1M Nov 16 13:30 98-DB.p\n",
    "-rwxrwxrwx    1 tgadfort  staff   947K Nov 16 13:30 89-DB.p\n",
    "-rwxrwxrwx    1 tgadfort  staff   359K Nov 16 20:23 97-DB.p\n",
    "-rwxrwxrwx    1 tgadfort  staff   355K Nov 16 20:23 87-DB.p\n",
    "-rwxrwxrwx    1 tgadfort  staff   912K Nov 16 20:36 37-DB.p\n"
   ]
  },
  {
   "cell_type": "code",
   "execution_count": 5,
   "metadata": {},
   "outputs": [
    {
     "name": "stdout",
     "output_type": "stream",
     "text": [
      "Current Time is Mon Nov 16, 2020 20:49:10 for Parsing Everything\n",
      "Parsing Discogs with 3 processes using [[0, 1, 2, 3, 4, 5, 6, 7, 8, 9, 10, 11, 12, 13, 14, 15, 16, 17, 18, 19, 20, 21, 22, 23, 24, 25, 26, 27, 28, 29, 30, 31, 32, 33, 34, 35, 36, 37, 38, 39, 40, 41, 42, 43, 44, 45, 46, 47, 48, 49, 50, 51, 52, 53, 54, 55, 56, 57, 58, 59, 60, 61, 62, 63, 64, 65, 66, 67, 68, 69, 70, 71, 72, 73, 74, 75, 76, 77, 78, 79, 80, 81, 82, 83, 84, 85, 86, 87, 88, 89, 90, 91, 92, 93, 94, 95, 96, 97, 98, 99]] mod values.\n",
      "--------------------------------------------------------------------------------------------------------------------------------------------------------------------------------------------------------\n",
      "----------------------------------------------------------------------------------------------------\n",
      "\n",
      "Parsing Artist Files For ModVal 0Parsing Artist Files For ModVal 9Parsing Artist Files For ModVal 18\n",
      "\n",
      "\n",
      "  ===> Found 7532 files, but there are no new files to parse so skipping.\n",
      "----------------------------------------------------------------------------------------------------\n",
      "Parsing Artist Files For ModVal 10\n",
      "  ===> Found 7462 files, but there are no new files to parse so skipping.\n",
      "----------------------------------------------------------------------------------------------------\n",
      "Parsing Artist Files For ModVal 1\n",
      "  ===> Found 7591 files, but there are no new files to parse so skipping.\n",
      "----------------------------------------------------------------------------------------------------\n",
      "Parsing Artist Files For ModVal 19\n",
      "  ===> Found 7523 files, but there are no new files to parse so skipping.\n",
      "----------------------------------------------------------------------------------------------------\n",
      "Parsing Artist Files For ModVal 20\n",
      "  ===> Found 7541 files, but there are no new files to parse so skipping.\n",
      "----------------------------------------------------------------------------------------------------\n",
      "Parsing Artist Files For ModVal 11\n",
      "  ===> Found 7744 files, but there are no new files to parse so skipping.\n",
      "----------------------------------------------------------------------------------------------------\n",
      "Parsing Artist Files For ModVal 2\n",
      "  ===> Found 7516 files, but there are no new files to parse so skipping.\n",
      "----------------------------------------------------------------------------------------------------\n",
      "Parsing Artist Files For ModVal 3\n",
      "  ===> Found 7575 files, but there are no new files to parse so skipping.\n",
      "----------------------------------------------------------------------------------------------------\n",
      "Parsing Artist Files For ModVal 21\n",
      "  ===> Found 7578 files, but there are no new files to parse so skipping.\n",
      "----------------------------------------------------------------------------------------------------\n",
      "Parsing Artist Files For ModVal 12\n",
      "  ===> Found 7530 files, but there are no new files to parse so skipping.\n",
      "----------------------------------------------------------------------------------------------------\n",
      "Parsing Artist Files For ModVal 22\n",
      "  ===> Found 7620 files, but there are no new files to parse so skipping.\n",
      "----------------------------------------------------------------------------------------------------\n",
      "Parsing Artist Files For ModVal 13\n",
      "  ===> Found 7761 files, but there are no new files to parse so skipping.\n",
      "----------------------------------------------------------------------------------------------------\n",
      "Parsing Artist Files For ModVal 4\n",
      "  ===> Found 7541 files, but there are no new files to parse so skipping.\n",
      "  ===> Found 7578 files, but there are no new files to parse so skipping.----------------------------------------------------------------------------------------------------\n",
      "\n",
      "Parsing Artist Files For ModVal 23----------------------------------------------------------------------------------------------------\n",
      "\n",
      "Parsing Artist Files For ModVal 5\n",
      "  ===> Found 7662 files, but there are no new files to parse so skipping.\n",
      "----------------------------------------------------------------------------------------------------\n",
      "Parsing Artist Files For ModVal 14\n",
      "  ===> Found 7421 files, but there are no new files to parse so skipping.\n",
      "----------------------------------------------------------------------------------------------------\n",
      "Parsing Artist Files For ModVal 15\n",
      "  ===> Found 7430 files, but there are no new files to parse so skipping.\n",
      "----------------------------------------------------------------------------------------------------\n",
      "Parsing Artist Files For ModVal 6\n",
      "  ===> Found 7552 files, but there are no new files to parse so skipping.\n",
      "----------------------------------------------------------------------------------------------------\n",
      "Parsing Artist Files For ModVal 24\n",
      "  ===> Found 7358 files, but there are no new files to parse so skipping.\n",
      "----------------------------------------------------------------------------------------------------\n",
      "Parsing Artist Files For ModVal 25\n",
      "  ===> Found 7466 files, but there are no new files to parse so skipping.\n",
      "----------------------------------------------------------------------------------------------------\n",
      "Parsing Artist Files For ModVal 7\n",
      "  ===> Found 7530 files, but there are no new files to parse so skipping.\n",
      "----------------------------------------------------------------------------------------------------\n",
      "Parsing Artist Files For ModVal 16\n",
      "  ===> Found 7469 files, but there are no new files to parse so skipping.\n",
      "----------------------------------------------------------------------------------------------------\n",
      "Parsing Artist Files For ModVal 17\n",
      "  ===> Found 7516 files, but there are no new files to parse so skipping.\n",
      "----------------------------------------------------------------------------------------------------\n",
      "Parsing Artist Files For ModVal 26\n",
      "  ===> Found 7553 files, but there are no new files to parse so skipping.\n",
      "----------------------------------------------------------------------------------------------------\n",
      "Parsing Artist Files For ModVal 8\n",
      "  ===> Found 7565 files, but there are no new files to parse so skipping.\n",
      "----------------------------------------------------------------------------------------------------\n",
      "Parsing Artist Files For ModVal 27\n",
      "  ===> Found 7621 files, but there are no new files to parse so skipping.\n",
      "----------------------------------------------------------------------------------------------------\n",
      "Parsing Artist Files For ModVal 36\n",
      "  ===> Found 7620 files, but there are no new files to parse so skipping.\n",
      "----------------------------------------------------------------------------------------------------\n",
      "Parsing Artist Files For ModVal 45\n",
      "  ===> Found 7318 files. There are 1 new files to parse.\n",
      "  ===> Found 7450 files, but there are no new files to parse so skipping.\n",
      "----------------------------------------------------------------------------------------------------\n",
      "Parsing Artist Files For ModVal 28\n",
      "  ===> Found 7606 files, but there are no new files to parse so skipping.\n",
      "----------------------------------------------------------------------------------------------------\n",
      "Parsing Artist Files For ModVal 37\n",
      "Saving 1 new artist IDs to /Users/tgadfort/Music/Discog/artists-discogs-db/45-DB.p\n",
      "Saving 71530 total artist media\n",
      "  ===> Found 7577 files, but there are no new files to parse so skipping.\n",
      "----------------------------------------------------------------------------------------------------\n",
      "Parsing Artist Files For ModVal 29\n",
      "  ===> Found 7442 files, but there are no new files to parse so skipping.\n",
      "----------------------------------------------------------------------------------------------------\n",
      "Parsing Artist Files For ModVal 38\n",
      "  ===> Found 7396 files, but there are no new files to parse so skipping.\n",
      "----------------------------------------------------------------------------------------------------\n",
      "Parsing Artist Files For ModVal 39\n",
      "  ===> Found 7490 files, but there are no new files to parse so skipping.\n",
      "----------------------------------------------------------------------------------------------------\n",
      "Parsing Artist Files For ModVal 30\n",
      "  --> This file is 12.6MB.\n",
      "Saving 7318 new artist IDs name data to /Users/tgadfort/Music/Discog/artists-discogs-db/metadata/45-Metadata.p\n",
      "  --> This file is 422.5kB.\n"
     ]
    },
    {
     "name": "stdout",
     "output_type": "stream",
     "text": [
      "Saving 7318 new artist IDs media data to /Users/tgadfort/Music/Discog/artists-discogs-db/metadata/45-MediaMetadata.p\n",
      "  --> This file is 4.1MB.\n",
      "----------------------------------------------------------------------------------------------------\n",
      "Parsing Artist Files For ModVal 46\n",
      "  ===> Found 7427 files, but there are no new files to parse so skipping.\n",
      "----------------------------------------------------------------------------------------------------\n",
      "Parsing Artist Files For ModVal 40\n",
      "  ===> Found 7400 files, but there are no new files to parse so skipping.\n",
      "----------------------------------------------------------------------------------------------------\n",
      "Parsing Artist Files For ModVal 47\n",
      "  ===> Found 7500 files, but there are no new files to parse so skipping.\n",
      "----------------------------------------------------------------------------------------------------\n",
      "Parsing Artist Files For ModVal 31\n",
      "  ===> Found 7305 files, but there are no new files to parse so skipping.\n",
      "----------------------------------------------------------------------------------------------------\n",
      "Parsing Artist Files For ModVal 48\n",
      "  ===> Found 7436 files, but there are no new files to parse so skipping.\n",
      "----------------------------------------------------------------------------------------------------\n",
      "Parsing Artist Files For ModVal 32\n",
      "  ===> Found 7440 files, but there are no new files to parse so skipping.\n",
      "----------------------------------------------------------------------------------------------------\n",
      "Parsing Artist Files For ModVal 41\n",
      "  ===> Found 7526 files, but there are no new files to parse so skipping.\n",
      "----------------------------------------------------------------------------------------------------\n",
      "Parsing Artist Files For ModVal 33\n",
      "  ===> Found 7616 files, but there are no new files to parse so skipping.\n",
      "----------------------------------------------------------------------------------------------------\n",
      "Parsing Artist Files For ModVal 49\n",
      "  ===> Found 7648 files, but there are no new files to parse so skipping.\n",
      "----------------------------------------------------------------------------------------------------\n",
      "Parsing Artist Files For ModVal 42\n",
      "  ===> Found 7498 files, but there are no new files to parse so skipping.\n",
      "----------------------------------------------------------------------------------------------------\n",
      "Parsing Artist Files For ModVal 43\n",
      "  ===> Found 7511 files, but there are no new files to parse so skipping.  ===> Found 7549 files, but there are no new files to parse so skipping.\n",
      "\n",
      "--------------------------------------------------------------------------------------------------------------------------------------------------------------------------------------------------------\n",
      "\n",
      "Parsing Artist Files For ModVal 50Parsing Artist Files For ModVal 34\n",
      "\n",
      "  ===> Found 7464 files, but there are no new files to parse so skipping.\n",
      "----------------------------------------------------------------------------------------------------\n",
      "Parsing Artist Files For ModVal 35\n",
      "  ===> Found 7512 files, but there are no new files to parse so skipping.\n",
      "----------------------------------------------------------------------------------------------------\n",
      "Parsing Artist Files For ModVal 44\n",
      "  ===> Found 7509 files, but there are no new files to parse so skipping.\n",
      "----------------------------------------------------------------------------------------------------\n",
      "Parsing Artist Files For ModVal 51\n",
      "  ===> Found 7342 files, but there are no new files to parse so skipping.\n",
      "----------------------------------------------------------------------------------------------------\n",
      "Parsing Artist Files For ModVal 54\n",
      "  ===> Found 7350 files, but there are no new files to parse so skipping.\n",
      "----------------------------------------------------------------------------------------------------\n",
      "Parsing Artist Files For ModVal 63\n",
      "  ===> Found 7574 files, but there are no new files to parse so skipping.\n",
      "----------------------------------------------------------------------------------------------------\n",
      "Parsing Artist Files For ModVal 52\n",
      "  ===> Found 7588 files, but there are no new files to parse so skipping.\n",
      "----------------------------------------------------------------------------------------------------\n",
      "Parsing Artist Files For ModVal 53\n",
      "  ===> Found 7608 files, but there are no new files to parse so skipping.\n",
      "----------------------------------------------------------------------------------------------------\n",
      "Parsing Artist Files For ModVal 64\n",
      "  ===> Found 7634 files, but there are no new files to parse so skipping.\n",
      "----------------------------------------------------------------------------------------------------\n",
      "Parsing Artist Files For ModVal 55\n",
      "  ===> Found 7559 files, but there are no new files to parse so skipping.\n",
      "----------------------------------------------------------------------------------------------------\n",
      "Parsing Artist Files For ModVal 72\n",
      "  ===> Found 7564 files, but there are no new files to parse so skipping.\n",
      "----------------------------------------------------------------------------------------------------\n",
      "Parsing Artist Files For ModVal 56\n",
      "  ===> Found 7670 files, but there are no new files to parse so skipping.\n",
      "----------------------------------------------------------------------------------------------------\n",
      "Parsing Artist Files For ModVal 65\n",
      "  ===> Found 7493 files, but there are no new files to parse so skipping.\n",
      "----------------------------------------------------------------------------------------------------  ===> Found 7583 files, but there are no new files to parse so skipping.\n",
      "----------------------------------------------------------------------------------------------------\n",
      "\n",
      "Parsing Artist Files For ModVal 66\n",
      "Parsing Artist Files For ModVal 73\n",
      "  ===> Found 7531 files, but there are no new files to parse so skipping.\n",
      "----------------------------------------------------------------------------------------------------\n",
      "Parsing Artist Files For ModVal 57\n",
      "  ===> Found 7498 files, but there are no new files to parse so skipping.\n",
      "----------------------------------------------------------------------------------------------------\n",
      "Parsing Artist Files For ModVal 58\n",
      "  ===> Found 7501 files, but there are no new files to parse so skipping.\n",
      "----------------------------------------------------------------------------------------------------\n",
      "Parsing Artist Files For ModVal 74\n",
      "  ===> Found 7546 files, but there are no new files to parse so skipping.\n",
      "----------------------------------------------------------------------------------------------------\n",
      "Parsing Artist Files For ModVal 67\n",
      "  ===> Found 7456 files, but there are no new files to parse so skipping.\n",
      "----------------------------------------------------------------------------------------------------\n",
      "Parsing Artist Files For ModVal 59\n",
      "  ===> Found 7548 files. There are 1 new files to parse.\n",
      "  ===> Found 7625 files, but there are no new files to parse so skipping.\n",
      "----------------------------------------------------------------------------------------------------\n",
      "Parsing Artist Files For ModVal 68\n",
      "Saving 1 new artist IDs to /Users/tgadfort/Music/Discog/artists-discogs-db/74-DB.p\n",
      "Saving 78123 total artist media\n",
      "  ===> Found 7378 files, but there are no new files to parse so skipping.\n",
      "----------------------------------------------------------------------------------------------------\n",
      "Parsing Artist Files For ModVal 69\n",
      "  ===> Found 7647 files, but there are no new files to parse so skipping.\n",
      "----------------------------------------------------------------------------------------------------\n",
      "Parsing Artist Files For ModVal 60\n",
      "  --> This file is 14.1MB.\n",
      "Saving 7548 new artist IDs name data to /Users/tgadfort/Music/Discog/artists-discogs-db/metadata/74-Metadata.p\n",
      "  --> This file is 444.2kB.\n",
      "Saving 7548 new artist IDs media data to /Users/tgadfort/Music/Discog/artists-discogs-db/metadata/74-MediaMetadata.p\n",
      "  ===> Found 7521 files, but there are no new files to parse so skipping.\n",
      "----------------------------------------------------------------------------------------------------\n",
      "Parsing Artist Files For ModVal 70\n",
      "  ===> Found 7548 files, but there are no new files to parse so skipping.\n"
     ]
    },
    {
     "name": "stdout",
     "output_type": "stream",
     "text": [
      "----------------------------------------------------------------------------------------------------\n",
      "Parsing Artist Files For ModVal 61\n",
      "  --> This file is 4.5MB.\n",
      "----------------------------------------------------------------------------------------------------\n",
      "Parsing Artist Files For ModVal 75\n",
      "  ===> Found 7438 files, but there are no new files to parse so skipping.\n",
      "----------------------------------------------------------------------------------------------------\n",
      "Parsing Artist Files For ModVal 71\n",
      "  ===> Found 7521 files, but there are no new files to parse so skipping.\n",
      "----------------------------------------------------------------------------------------------------  ===> Found 7506 files, but there are no new files to parse so skipping.\n",
      "\n",
      "Parsing Artist Files For ModVal 76\n",
      "----------------------------------------------------------------------------------------------------\n",
      "Parsing Artist Files For ModVal 62\n",
      "  ===> Found 7481 files, but there are no new files to parse so skipping.\n",
      "----------------------------------------------------------------------------------------------------\n",
      "Parsing Artist Files For ModVal 77\n",
      "  ===> Found 7468 files, but there are no new files to parse so skipping.\n",
      "----------------------------------------------------------------------------------------------------\n",
      "Parsing Artist Files For ModVal 81\n",
      "  ===> Found 7611 files, but there are no new files to parse so skipping.\n",
      "----------------------------------------------------------------------------------------------------\n",
      "Parsing Artist Files For ModVal 90\n",
      "  ===> Found 7421 files, but there are no new files to parse so skipping.\n",
      "----------------------------------------------------------------------------------------------------\n",
      "Parsing Artist Files For ModVal 91\n",
      "  ===> Found 7484 files, but there are no new files to parse so skipping.\n",
      "----------------------------------------------------------------------------------------------------\n",
      "Parsing Artist Files For ModVal 78\n",
      "  ===> Found 7678 files, but there are no new files to parse so skipping.\n",
      "----------------------------------------------------------------------------------------------------\n",
      "Parsing Artist Files For ModVal 82\n",
      "  ===> Found 7515 files, but there are no new files to parse so skipping.\n",
      "----------------------------------------------------------------------------------------------------\n",
      "Parsing Artist Files For ModVal 92\n",
      "  ===> Found 7620 files, but there are no new files to parse so skipping.\n",
      "----------------------------------------------------------------------------------------------------\n",
      "Parsing Artist Files For ModVal 83\n",
      "  ===> Found 7653 files, but there are no new files to parse so skipping.\n",
      "----------------------------------------------------------------------------------------------------\n",
      "Parsing Artist Files For ModVal 79\n",
      "  ===> Found 7543 files, but there are no new files to parse so skipping.\n",
      "----------------------------------------------------------------------------------------------------\n",
      "Parsing Artist Files For ModVal 80\n",
      "  ===> Found 7627 files, but there are no new files to parse so skipping.\n",
      "----------------------------------------------------------------------------------------------------\n",
      "Parsing Artist Files For ModVal 84\n",
      "  ===> Found 7694 files, but there are no new files to parse so skipping.\n",
      "----------------------------------------------------------------------------------------------------\n",
      "Parsing Artist Files For ModVal 93\n",
      "  ===> Found 7527 files, but there are no new files to parse so skipping.\n",
      "----------------------------------------------------------------------------------------------------\n",
      "Parsing Artist Files For ModVal 94\n",
      "  ===> Found 7556 files, but there are no new files to parse so skipping.\n",
      "----------------------------------------------------------------------------------------------------\n",
      "Parsing Artist Files For ModVal 99\n",
      "  ===> Found 7620 files, but there are no new files to parse so skipping.\n",
      "----------------------------------------------------------------------------------------------------\n",
      "Parsing Artist Files For ModVal 85\n",
      "  ===> Found 7518 files, but there are no new files to parse so skipping.\n",
      "----------------------------------------------------------------------------------------------------\n",
      "Parsing Artist Files For ModVal 86\n",
      "  ===> Found 7558 files, but there are no new files to parse so skipping.\n",
      "  ===> Found 7532 files, but there are no new files to parse so skipping.\n",
      "----------------------------------------------------------------------------------------------------\n",
      "Parsing Artist Files For ModVal 95\n",
      "  ===> Found 7589 files, but there are no new files to parse so skipping.\n",
      "----------------------------------------------------------------------------------------------------\n",
      "Parsing Artist Files For ModVal 96\n",
      "  ===> Found 7730 files, but there are no new files to parse so skipping.\n",
      "----------------------------------------------------------------------------------------------------\n",
      "Parsing Artist Files For ModVal 87\n",
      "  ===> Found 7464 files, but there are no new files to parse so skipping.\n",
      "----------------------------------------------------------------------------------------------------\n",
      "Parsing Artist Files For ModVal 97\n",
      "  ===> Found 7534 files, but there are no new files to parse so skipping.\n",
      "----------------------------------------------------------------------------------------------------\n",
      "Parsing Artist Files For ModVal 88\n",
      "  ===> Found 7519 files, but there are no new files to parse so skipping.\n",
      "----------------------------------------------------------------------------------------------------\n",
      "Parsing Artist Files For ModVal 98\n",
      "  ===> Found 7513 files, but there are no new files to parse so skipping.\n",
      "----------------------------------------------------------------------------------------------------\n",
      "Parsing Artist Files For ModVal 89\n",
      "  ===> Found 7459 files, but there are no new files to parse so skipping.\n",
      "  ===> Found 7660 files, but there are no new files to parse so skipping.\n",
      "\n",
      "Current Time is Mon Nov 16, 2020 21:02:42 for Done with Parsing Everything\n",
      "Process [Done with Parsing Everything] took 13.5 minutes.\n"
     ]
    }
   ],
   "source": [
    "dbs    = ['AllMusic', 'Discogs', 'MusicBrainz', 'LastFM']\n",
    "#dbs = ['MusicBrainz', 'LastFM']\n",
    "dbs = [\"Discogs\"]\n",
    "#dbs = [\"Discogs\", \"MusicBrainz\"]\n",
    "#dbs = [\"AllMusic\"]\n",
    "#dbs = [\"MusicBrainz\"]\n",
    "#dbs = []\n",
    "start,cmt=clock(\"Parsing Everything\")\n",
    "for db in dbs:\n",
    "    s = 10\n",
    "    #pdb.parse(db, nProcs=3, modVals=list(range(s,s+9)), force=False)\n",
    "    #pdb.parse(db, nProcs=4, modVals=list(range(10,100)), force=True)\n",
    "    pdb.parse(db, nProcs=3, modVals=list(range(100)), force=False, extra=False)\n",
    "    #pdb.parse(db, nProcs=3, modVals=[88,89,87,37,98,97], force=True, extra=False)\n",
    "    #pdb.parse(db, nProcs=3, modVals=[3,4,5], force=False)    \n",
    "elapsed(start, cmt)"
   ]
  },
  {
   "cell_type": "code",
   "execution_count": null,
   "metadata": {},
   "outputs": [],
   "source": [
    "data = getFile(\"/Users/tgadfort/Music/Discog/artists-musicbrainz-db/13-DB.p\")"
   ]
  },
  {
   "cell_type": "code",
   "execution_count": null,
   "metadata": {},
   "outputs": [],
   "source": [
    "data[\"134347080492261077195869941664563052313\"]"
   ]
  },
  {
   "cell_type": "code",
   "execution_count": null,
   "metadata": {},
   "outputs": [],
   "source": [
    "dbdata[\"MusicBrainz\"][\"Artists\"].parseArtistModValExtraFiles(13)"
   ]
  },
  {
   "cell_type": "code",
   "execution_count": null,
   "metadata": {},
   "outputs": [],
   "source": [
    "for i in range(71,100):\n",
    "    dbdata[\"MusicBrainz\"][\"Artists\"].assertDBModValExtraData(i, test=False)"
   ]
  },
  {
   "cell_type": "code",
   "execution_count": null,
   "metadata": {},
   "outputs": [],
   "source": [
    "dbdata[\"MusicBrainz\"][\"Artists\"].getData(\"/Users/tgadfort/discogs/artists-musicbrainz/13/134347080492261077195869941664563052313.p\").show()"
   ]
  },
  {
   "cell_type": "code",
   "execution_count": null,
   "metadata": {},
   "outputs": [],
   "source": [
    "dbdata[\"MusicBrainz\"][\"Artists\"].getData(\"/Users/tgadfort/discogs/artists-musicbrainz/13/extra/134347080492261077195869941664563052313-2.p\").show()"
   ]
  },
  {
   "cell_type": "code",
   "execution_count": null,
   "metadata": {},
   "outputs": [],
   "source": [
    "start, cmt = clock(\"Creating DB\")\n",
    "maindb = mainDB(mdb=None, create=True, debug=True)\n",
    "print(\"\\n\\n{0}\\n\".format(\"Full DB\"))\n",
    "maindb.setDBFull(\"AllMusic\")\n",
    "#maindb.setDBFull(\"MusicBrainz\")\n",
    "#maindb.setDBFull(\"Discogs\")\n",
    "#maindb.setDBFull(\"LastFM\")\n",
    "#maindb.setDBFull()\n",
    "print(\"\\n\\n{0}\\n\".format(\"Known DB\"))\n",
    "#maindb.setDBKnown() ## Do this to recreate everything\n",
    "#maindb.setDBKnown()\n",
    "#artistDBs = maindb.getKnownArtistDBs()\n",
    "\n",
    "elapsed(start, cmt)"
   ]
  },
  {
   "cell_type": "markdown",
   "metadata": {},
   "source": [
    "## Parse Single ModVal"
   ]
  },
  {
   "cell_type": "code",
   "execution_count": null,
   "metadata": {},
   "outputs": [],
   "source": [
    "for i in range(10):\n",
    "    for j in range(10):\n",
    "        print(\"{0}touch /Volumes/Piggy/Discog/artists-discogs/{1}/0*0*0*\".format(\"!\", i*10+j))\n",
    "        print(\"{0}echo '{1}'\".format(\"!\", i+10*j))"
   ]
  },
  {
   "cell_type": "code",
   "execution_count": null,
   "metadata": {},
   "outputs": [],
   "source": []
  },
  {
   "cell_type": "code",
   "execution_count": null,
   "metadata": {
    "scrolled": true
   },
   "outputs": [],
   "source": [
    "start,cmt=clock(\"Parsing Single ModVal\")\n",
    "pdb.parse(db=\"Discogs\", modVals=[0], nProcs=1, force=False)\n",
    "elapsed(start, cmt)"
   ]
  },
  {
   "cell_type": "code",
   "execution_count": null,
   "metadata": {},
   "outputs": [],
   "source": [
    "data = getFile('/Users/tgadfort/Music/Discog/artists-discogs-db/0-DB.p')"
   ]
  },
  {
   "cell_type": "code",
   "execution_count": null,
   "metadata": {},
   "outputs": [],
   "source": [
    "len(data)"
   ]
  },
  {
   "cell_type": "code",
   "execution_count": null,
   "metadata": {},
   "outputs": [],
   "source": [
    "def getArtistNumAlbums(artistData):\n",
    "    numAlbums = sum([len(x) for x in artistData.media.media.values()])\n",
    "    return numAlbums\n",
    "saveIt = True\n",
    "dbNumAlbums = sum([getArtistNumAlbums(artistData) for artistData in data.values()])\n",
    "print('0', dbNumAlbums)\n"
   ]
  },
  {
   "cell_type": "code",
   "execution_count": null,
   "metadata": {},
   "outputs": [],
   "source": []
  },
  {
   "cell_type": "code",
   "execution_count": null,
   "metadata": {},
   "outputs": [],
   "source": [
    "data['11792020000']"
   ]
  },
  {
   "cell_type": "code",
   "execution_count": null,
   "metadata": {},
   "outputs": [],
   "source": []
  },
  {
   "cell_type": "code",
   "execution_count": null,
   "metadata": {},
   "outputs": [],
   "source": [
    "dbdata[\"LastFM\"][\"Artists\"].parseArtistModValExtraFiles(0, force=True, debug=True)"
   ]
  },
  {
   "cell_type": "code",
   "execution_count": null,
   "metadata": {},
   "outputs": [],
   "source": [
    "from glob import glob\n",
    "glob('/Volumes/Piggy/Discog/artists-lastfm/0/extra/11792020000-*.p')"
   ]
  },
  {
   "cell_type": "code",
   "execution_count": null,
   "metadata": {},
   "outputs": [],
   "source": [
    "bsdata = getHTML(ifile)\n",
    "ols = bsdata.findAll(\"ol\", {\"class\": \"buffer-standard\"})\n",
    "ols"
   ]
  },
  {
   "cell_type": "code",
   "execution_count": null,
   "metadata": {},
   "outputs": [],
   "source": [
    "ifile='/Volumes/Piggy/Discog/artists-lastfm/0/extra/72742897500-2.p'\n",
    "#getFile(ifile)\n",
    "a       = dbdata[\"LastFM\"][\"Artist\"].getData(ifile, debug=False)\n",
    "\n",
    "def info(a):\n",
    "    name    = a.artist.name\n",
    "    ID      = a.ID.ID\n",
    "    url     = a.url.url\n",
    "    pages   = a.pages\n",
    "    media   = a.media\n",
    "    counts  = a.mediaCounts\n",
    "    profile = a.profile\n",
    "\n",
    "    print(\"{0: <10}{1}\".format(\"Name:\", name))\n",
    "    print(\"{0: <10}{1}\".format(\"ID:\", ID))\n",
    "    print(\"{0: <10}{1}\".format(\"URL:\", url))\n",
    "    print(\"{0: <10}{1}\".format(\"Pages:\", pages.get()))\n",
    "    print(\"{0: <10}{1}\".format(\"Profile:\", profile.get()))\n",
    "    print(\"{0: <10}{1}\".format(\"Counts:\", counts.get()))\n",
    "    print(\"{0: <10}\".format(\"Media:\"))\n",
    "    for mediaType,mediaData in media.get()['media'].items():\n",
    "        for mediaInfo in mediaData:\n",
    "            print(\"\\t{0: <10}{1}\".format(mediaType, mediaInfo.get()['album']))"
   ]
  },
  {
   "cell_type": "code",
   "execution_count": null,
   "metadata": {},
   "outputs": [],
   "source": [
    "info(a)"
   ]
  },
  {
   "cell_type": "code",
   "execution_count": null,
   "metadata": {},
   "outputs": [],
   "source": [
    "nProcs = 8\n",
    "%load_ext autoreload\n",
    "%autoreload\n",
    "from mainDB import mainDB\n",
    "maindb = mainDB(mdb=None, create=True, debug=True)\n",
    "start,cmt=clock(\"Parsing All Artists\")\n",
    "start2,cmt2=clock(\"Parallel Artist Parsing\")\n",
    "\n",
    "parseArtistsParallel(db=\"AllMusic\", nProcs=nProcs)\n",
    "maindb.setDBFull(\"AllMusic\")\n",
    "\n",
    "parseArtistsParallel(db=\"MusicBrainz\", nProcs=nProcs)\n",
    "maindb.setDBFull(\"MusicBrainz\")\n",
    "\n",
    "parseArtistsParallel(db=\"Discogs\", nProcs=nProcs)\n",
    "maindb.setDBFull(\"Discogs\")\n",
    "\n",
    "#parseArtistsParallel(db=\"AceBootlegs\", nProcs=1)\n",
    "#parseArtistsParallel(db=\"DatPiff\", nProcs=1)\n",
    "#parseArtistsParallel(db=\"RateYourMusic\", nProcs=3)\n",
    "parseArtistsParallel(db=\"LastFM\", nProcs=nProcs)\n",
    "maindb.setDBFull(\"LastFM\")\n",
    "\n",
    "#parseArtistsParallel(db=\"RockCorner\", nProcs=3)\n",
    "#parseArtistsParallel(db=\"CDandLP\", nProcs=3)\n",
    "#parseArtistsParallel(db=\"MusicStack\", nProcs=1)\n",
    "elapsed(start2, cmt2)\n",
    "elapsed(start, cmt)"
   ]
  },
  {
   "cell_type": "markdown",
   "metadata": {},
   "source": [
    "# Master DB"
   ]
  },
  {
   "cell_type": "code",
   "execution_count": null,
   "metadata": {},
   "outputs": [],
   "source": [
    "\n",
    "print(\"\\n\\n{0}\\n\".format(\"Full DB\"))\n",
    "print(\"\\n\\n{0}\\n\".format(\"Known DB\"))\n",
    "#maindb.setDBKnown() ## Do this to recreate everything\n",
    "#maindb.setDBKnown()\n",
    "#artistDBs = maindb.getKnownArtistDBs()"
   ]
  },
  {
   "cell_type": "markdown",
   "metadata": {},
   "source": [
    "# Download My Known Artists"
   ]
  },
  {
   "cell_type": "code",
   "execution_count": null,
   "metadata": {},
   "outputs": [],
   "source": [
    "mdb = myMusicDBMap(debug=True)"
   ]
  },
  {
   "cell_type": "code",
   "execution_count": null,
   "metadata": {},
   "outputs": [],
   "source": [
    "dbsToGet = [\"AllMusic\", \"Discogs\", \"MusicBrainz\", \"LastFM\", \"RockCorner\", \"CDandLP\"]\n",
    "searches = [dbdata[\"AllMusic\"][\"Artists\"].searchAllMusicForArtist, dbdata[\"Discogs\"][\"Artists\"].searchDiscogForArtist,\n",
    "            dbdata[\"MusicBrainz\"][\"Artists\"].searchMusicBrainzForArtist, dbdata[\"LastFM\"][\"Artists\"].searchLastFMForArtist,\n",
    "            dbdata[\"RockCorner\"][\"Artists\"].searchRockCornerForArtist, dbdata[\"CDandLP\"][\"Artists\"].searchCDandLPForArtist]\n",
    "\n",
    "dbsToGet = [\"AllMusic\"]\n",
    "searches = [dbdata[\"AllMusic\"][\"Artists\"].searchAllMusicForArtist]"
   ]
  },
  {
   "cell_type": "code",
   "execution_count": null,
   "metadata": {},
   "outputs": [],
   "source": [
    "def searchAll(mdb, minI=-1):\n",
    "    nArtists = len(mdb.getArtists())\n",
    "    for i,artistName in enumerate(mdb.getArtists()):\n",
    "        if i <= minI:\n",
    "            continue\n",
    "\n",
    "        print('\\n\\n\\n')\n",
    "        print('-'*130)\n",
    "        print(i,'/',nArtists,'===>\\t',artistName)\n",
    "        print('-'*130)\n",
    "        print('\\n')\n",
    "        \n",
    "        dbdata = mdb.getArtistData(artistName)\n",
    "        if all([dbdata.get(\"LastFM\"), dbdata.get(\"Discogs\"), dbdata.get(\"AllMusic\"), dbdata.get(\"MusicBrainz\")]):\n",
    "            print(\"{0} is well known.\".format(artistName))\n",
    "            continue\n",
    "        else:\n",
    "            print(\"{0} get it!\".format(artistName))\n",
    "\n",
    "        for search in searches:\n",
    "            print(\"====>\",search)\n",
    "            try:\n",
    "                search(artistName)\n",
    "            except:\n",
    "                sleep(3)"
   ]
  },
  {
   "cell_type": "code",
   "execution_count": null,
   "metadata": {},
   "outputs": [],
   "source": [
    "searchAll(mdb, 3404)"
   ]
  },
  {
   "cell_type": "code",
   "execution_count": null,
   "metadata": {},
   "outputs": [],
   "source": [
    "# Refused"
   ]
  },
  {
   "cell_type": "markdown",
   "metadata": {},
   "source": [
    "# Albums"
   ]
  },
  {
   "cell_type": "code",
   "execution_count": null,
   "metadata": {},
   "outputs": [],
   "source": [
    "%load_ext autoreload\n",
    "%autoreload\n",
    "from album import album\n",
    "from albums import albums\n",
    "from discogsBase import discogs\n",
    "\n",
    "disc = discogs()\n",
    "albs = albums(disc)\n",
    "#albs.parseAlbumModValFiles(modVal=27)"
   ]
  },
  {
   "cell_type": "code",
   "execution_count": null,
   "metadata": {},
   "outputs": [],
   "source": [
    "def parseAlbums(modVal):\n",
    "    albs.parseAlbumModValFiles(modVal=modVal)\n",
    "    #albs.createAlbumModValMetadata(modVal)\n",
    "    #albs.createAlbumModValMetadata(modVal=modVal)\n",
    "\n",
    "def parseAlbumsParallel(modVals=None):\n",
    "    if modVals is None:\n",
    "        modVals = [\"NAN\"] + list(range(100))\n",
    "        #modVals = range(100)\n",
    "    nProcs = 2\n",
    "    pool = Pool(processes=nProcs)\n",
    "    result = pool.map_async(parseAlbums, modVals)\n",
    " \n",
    "    start, cmt = clock(\"Processing {0} modVals using {1} processes\".format(modVals, nProcs))\n",
    "    print(\"Runing .\",end=\"\")\n",
    "    while not result.ready():\n",
    "        #print(\".\",end=\"\")\n",
    "        time.sleep(10)\n",
    "    print(\"\")\n",
    "    \n",
    "    elapsed(start, cmt)\n",
    "    return result.get()"
   ]
  },
  {
   "cell_type": "code",
   "execution_count": null,
   "metadata": {},
   "outputs": [],
   "source": [
    "%load_ext autoreload\n",
    "%autoreload\n",
    "from album import album\n",
    "from albums import albums\n",
    "albs = albums(disc)\n",
    "\n",
    "start,cmt=clock(\"Parsing All Albums\")\n",
    "start2,cmt2=clock(\"Parallel Album Parsing\")\n",
    "parseAlbumsParallel()\n",
    "elapsed(start2, cmt2)\n",
    "elapsed(start, cmt)"
   ]
  },
  {
   "cell_type": "markdown",
   "metadata": {},
   "source": [
    "# Download Stuff"
   ]
  },
  {
   "cell_type": "code",
   "execution_count": null,
   "metadata": {},
   "outputs": [],
   "source": [
    "mdb = myMusicDBMap(debug=True)\n",
    "maindb = mainDB(mdb=mdb, create=False, debug=True)\n",
    "dbdata = maindb.dbdata"
   ]
  },
  {
   "cell_type": "code",
   "execution_count": null,
   "metadata": {},
   "outputs": [],
   "source": [
    "ifile = \"unmatchedArtists4.p\"\n",
    "noMatches = getFile(ifile)\n",
    "print(len(noMatches))\n",
    "dbs = ['Discogs', 'AllMusic', 'MusicBrainz', 'LastFM']\n",
    "dbs = ['MusicBrainz']\n",
    "\n",
    "#noMatches=['Go-A', 'PM', 'Qango']\n",
    "\n",
    "from time import sleep\n",
    "maxI = -1\n",
    "for i,artist in enumerate(noMatches):\n",
    "    print(\"=\"*100)\n",
    "    print(\"=\"*100)\n",
    "    print(\"=\"*100)\n",
    "    print(\"=\"*100)\n",
    "    print(i,'/',len(noMatches),'\\t',artist)\n",
    "    if i <= maxI:\n",
    "        continue\n",
    "    for db in dbs:\n",
    "        print(\"=\"*100)\n",
    "        print(i,'/',len(noMatches),'\\t',artist,'===>',db)\n",
    "        try:\n",
    "            dbdata[db][\"Artists\"].searchForArtist(artist)\n",
    "        except:\n",
    "            sleep(5)"
   ]
  },
  {
   "cell_type": "code",
   "execution_count": null,
   "metadata": {},
   "outputs": [],
   "source": []
  }
 ],
 "metadata": {
  "kernelspec": {
   "display_name": "Python 3",
   "language": "python",
   "name": "python3"
  },
  "language_info": {
   "codemirror_mode": {
    "name": "ipython",
    "version": 3
   },
   "file_extension": ".py",
   "mimetype": "text/x-python",
   "name": "python",
   "nbconvert_exporter": "python",
   "pygments_lexer": "ipython3",
   "version": "3.7.7"
  }
 },
 "nbformat": 4,
 "nbformat_minor": 2
}
