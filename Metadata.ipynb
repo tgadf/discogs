{
 "cells": [
  {
   "cell_type": "code",
   "execution_count": 20,
   "metadata": {},
   "outputs": [
    {
     "name": "stdout",
     "output_type": "stream",
     "text": [
      "The autoreload extension is already loaded. To reload it, use:\n",
      "  %reload_ext autoreload\n"
     ]
    },
    {
     "data": {
      "text/html": [
       "<style>.container { width:100% !important; }</style>"
      ],
      "text/plain": [
       "<IPython.core.display.HTML object>"
      ]
     },
     "metadata": {},
     "output_type": "display_data"
    },
    {
     "data": {
      "text/html": [
       "<style>div.output_area{max-height:10000px;overflow:scroll;}</style>"
      ],
      "text/plain": [
       "<IPython.core.display.HTML object>"
      ]
     },
     "metadata": {},
     "output_type": "display_data"
    },
    {
     "name": "stdout",
     "output_type": "stream",
     "text": [
      "Python: 3.7.3 (default, Mar 27 2019, 16:54:48) \n",
      "[Clang 4.0.1 (tags/RELEASE_401/final)]\n",
      "Notebook Last Run Initiated: 2020-03-27 15:10:30.002465\n"
     ]
    }
   ],
   "source": [
    "## Basic stuff\n",
    "%load_ext autoreload\n",
    "%autoreload\n",
    "from IPython.core.display import display, HTML\n",
    "display(HTML(\"<style>.container { width:100% !important; }</style>\"))\n",
    "display(HTML(\"\"\"<style>div.output_area{max-height:10000px;overflow:scroll;}</style>\"\"\"))\n",
    "\n",
    "## Python Version\n",
    "import sys\n",
    "print(\"Python: {0}\".format(sys.version))\n",
    "\n",
    "\n",
    "################################################################################\n",
    "## General Stuff\n",
    "################################################################################\n",
    "from ioUtils import saveJoblib, loadJoblib, saveFile, getFile\n",
    "import urllib\n",
    "from urllib.parse import quote\n",
    "from collection import collections\n",
    "from timeUtils import clock, elapsed\n",
    "from fsUtils import moveFile, setFile, setDir, setSubDir, isFile, isDir, mkDir\n",
    "from fileUtils import getFileBasics, getBasename\n",
    "from webUtils import getHTML\n",
    "from time import sleep\n",
    "import time\n",
    "from multiprocessing import Pool\n",
    "\n",
    "\n",
    "################################################################################\n",
    "## Music Stuff\n",
    "################################################################################\n",
    "\n",
    "## General\n",
    "from discogsBase import discogs\n",
    "\n",
    "## Discogs\n",
    "from artist import artist\n",
    "from artists import artists\n",
    "from discogsUtils import discogsUtils\n",
    "from albums import albums\n",
    "\n",
    "## AllMusic\n",
    "from artistAM import artistAM\n",
    "from artistsAM import artistsAM\n",
    "from discogsUtils import allmusicUtils\n",
    "from artistsAM import artistsAM\n",
    "\n",
    "## MusicBrainz\n",
    "from artistMB import artistMB\n",
    "from artistsMB import artistsMB\n",
    "from discogsUtils import musicbrainzUtils\n",
    "\n",
    "## AceBootlegs\n",
    "from artistAB import artistAB\n",
    "from artistsAB import artistsAB\n",
    "from discogsUtils import acebootlegsUtils\n",
    "\n",
    "## RateYourMusic\n",
    "from artistRM import artistRM\n",
    "from artistsRM import artistsRM\n",
    "from discogsUtils import rateyourmusicUtils\n",
    "\n",
    "## LastFM\n",
    "from artistLM import artistLM\n",
    "from artistsLM import artistsLM\n",
    "from discogsUtils import lastfmUtils\n",
    "\n",
    "\n",
    "\n",
    "import datetime as dt\n",
    "start = dt.datetime.now()\n",
    "print(\"Notebook Last Run Initiated: \"+str(start))"
   ]
  },
  {
   "cell_type": "code",
   "execution_count": 21,
   "metadata": {
    "scrolled": true
   },
   "outputs": [
    {
     "name": "stdout",
     "output_type": "stream",
     "text": [
      "The autoreload extension is already loaded. To reload it, use:\n",
      "  %reload_ext autoreload\n",
      "Current Time is Fri Mar 27, 2020 15:10:52 for Last Run\n"
     ]
    }
   ],
   "source": [
    "%load_ext autoreload\n",
    "%autoreload\n",
    "discAM   = discogs('allmusic')\n",
    "artsAM   = artistsAM(discAM)\n",
    "dutilsAM = allmusicUtils()\n",
    "\n",
    "discDC   = discogs('discogs')\n",
    "artsDC   = artists(discDC)\n",
    "dutilsDC = discogsUtils()\n",
    "\n",
    "discMB   = discogs('musicbrainz')\n",
    "artsMB   = artistsMB(discMB)\n",
    "dutilsMB = musicbrainzUtils()\n",
    "\n",
    "discAB   = discogs('acebootlegs')\n",
    "artsAB   = artistsAB(discAB)\n",
    "dutilsAB = acebootlegsUtils()\n",
    "\n",
    "discRM   = discogs('rateyourmusic')\n",
    "artsRM   = artistsRM(discRM)\n",
    "dutilsRM = rateyourmusicUtils()\n",
    "\n",
    "discLM   = discogs('lastfm')\n",
    "artsLM   = artistsLM(discLM)\n",
    "dutilsLM = lastfmUtils()\n",
    "\n",
    "_, _ = clock(\"Last Run\")"
   ]
  },
  {
   "cell_type": "markdown",
   "metadata": {},
   "source": [
    "# Collections"
   ]
  },
  {
   "cell_type": "code",
   "execution_count": 3,
   "metadata": {},
   "outputs": [
    {
     "name": "stdout",
     "output_type": "stream",
     "text": [
      "The autoreload extension is already loaded. To reload it, use:\n",
      "  %reload_ext autoreload\n"
     ]
    }
   ],
   "source": [
    "%load_ext autoreload\n",
    "%autoreload\n",
    "#col = collections(disc)\n",
    "#col.parseCollections(force=False)\n",
    "#col.createCollectionDBs()"
   ]
  },
  {
   "cell_type": "markdown",
   "metadata": {},
   "source": [
    "# Parse Artists (All Music)"
   ]
  },
  {
   "cell_type": "code",
   "execution_count": null,
   "metadata": {
    "scrolled": true
   },
   "outputs": [],
   "source": [
    "for i in range(100):\n",
    "    artsAM.parseArtistModValFiles(i, force=True)"
   ]
  },
  {
   "cell_type": "code",
   "execution_count": null,
   "metadata": {},
   "outputs": [],
   "source": [
    "artMB = artistMB(discMB)\n",
    "retval = artMB.getData(\"/Volumes/Biggy/Discog/artists-musicbrainz/0/148150553282083715092252970758494088400.p\")\n",
    "retval.url.get()\n",
    "retval.ID.get()"
   ]
  },
  {
   "cell_type": "markdown",
   "metadata": {},
   "source": [
    "# Parse Artists (Parallel)"
   ]
  },
  {
   "cell_type": "code",
   "execution_count": 26,
   "metadata": {},
   "outputs": [
    {
     "name": "stdout",
     "output_type": "stream",
     "text": [
      "The autoreload extension is already loaded. To reload it, use:\n",
      "  %reload_ext autoreload\n"
     ]
    }
   ],
   "source": [
    "%load_ext autoreload\n",
    "%autoreload\n",
    "discAM   = discogs('allmusic')\n",
    "artsAM   = artistsAM(discAM)\n",
    "dutilsAM = allmusicUtils()\n",
    "\n",
    "discDC   = discogs('discogs')\n",
    "artsDC   = artists(discDC)\n",
    "dutilsDC = discogsUtils()\n",
    "\n",
    "discMB   = discogs('musicbrainz')\n",
    "artsMB   = artistsMB(discMB)\n",
    "dutilsMB = musicbrainzUtils()\n",
    "\n",
    "discAB   = discogs('acebootlegs')\n",
    "artsAB   = artistsAB(discAB)\n",
    "dutilsAB = acebootlegsUtils()\n",
    "\n",
    "discRM   = discogs('rateyourmusic')\n",
    "artsRM   = artistsRM(discRM)\n",
    "dutilsRM = rateyourmusicUtils()\n",
    "\n",
    "discLM   = discogs('lastfm')\n",
    "artsLM   = artistsLM(discLM)\n",
    "dutilsLM = lastfmUtils()\n",
    "\n",
    "def parseArtistsAM(modVal, force=False, doExtra=False):\n",
    "    artsAM.parseArtistModValFiles(modVal, force=force)\n",
    "\n",
    "def parseArtistsDC(modVal, force=False, doExtra=False):\n",
    "    artsDC.parseArtistModValFiles(modVal, force=force)\n",
    "\n",
    "def parseArtistsMB(modVal, force=False, doExtra=False):\n",
    "    artsMB.parseArtistModValFiles(modVal, force=force)\n",
    "\n",
    "def parseArtistsAB(modVal, force=False, doExtra=False):\n",
    "    artsAB.parseArtistFiles(force=force)\n",
    "\n",
    "def parseArtistsRM(modVal, force=False, doExtra=False):\n",
    "    artsRM.parseArtistModValFiles(modVal, force=force)\n",
    "\n",
    "def parseArtistsLM(modVal, force=False, doExtra=False):\n",
    "    artsLM.parseArtistModValFiles(modVal, force=force)\n",
    "\n",
    "    \n",
    "def parseArtistsParallel(db, nProcs=3, force=False):\n",
    "    pool = Pool(processes=nProcs)\n",
    "    if db == \"Discogs\":\n",
    "        result = pool.map_async(parseArtistsDC, range(100))\n",
    "    elif db == \"AllMusic\":\n",
    "        result = pool.map_async(parseArtistsAM, range(100))\n",
    "    elif db == \"MusicBrainz\":\n",
    "        result = pool.map_async(parseArtistsMB, range(100))\n",
    "    elif db == \"AceBootlegs\":\n",
    "        result = pool.map_async(parseArtistsAB, [None])\n",
    "    elif db == \"RateYourMusic\":\n",
    "        result = pool.map_async(parseArtistsRM, range(100))\n",
    "    elif db == \"LastFM\":\n",
    "#        result = pool.map_async(parseArtistsLM, range(56, 64))\n",
    "        result = pool.map_async(parseArtistsLM, range(100))\n",
    "    else:\n",
    "        raise ValueError(\"[{0}] is not recognized as a DB\".format(db))\n",
    "\n",
    "    while not result.ready():\n",
    "        if force is True:\n",
    "            time.sleep(10)\n",
    "        else:\n",
    "            time.sleep(1)\n",
    "    print(\"\")\n",
    "    return result.get()"
   ]
  },
  {
   "cell_type": "code",
   "execution_count": null,
   "metadata": {},
   "outputs": [],
   "source": []
  },
  {
   "cell_type": "code",
   "execution_count": 5,
   "metadata": {},
   "outputs": [],
   "source": [
    "#artsDC.parseArtistModValFiles(29, force=True)\n",
    "#arts.parseArtistModValFiles(50, force=True)\n",
    "#artsLM.parseArtistModValFiles(96)"
   ]
  },
  {
   "cell_type": "code",
   "execution_count": 21,
   "metadata": {},
   "outputs": [],
   "source": [
    "ifile=\"/Volumes/Biggy/Discog/artists-lastfm/0/53902704000.p\"\n",
    "bsdata = getHTML(ifile)\n",
    "artLM = artistLM()\n",
    "#artLM.getData(ifile)"
   ]
  },
  {
   "cell_type": "code",
   "execution_count": null,
   "metadata": {},
   "outputs": [],
   "source": [
    "#bsdata"
   ]
  },
  {
   "cell_type": "code",
   "execution_count": null,
   "metadata": {},
   "outputs": [],
   "source": []
  },
  {
   "cell_type": "code",
   "execution_count": 17,
   "metadata": {},
   "outputs": [],
   "source": [
    "#for modVal in range(100):\n",
    "#    parseArtistsLM(modVal, force=True)"
   ]
  },
  {
   "cell_type": "code",
   "execution_count": 35,
   "metadata": {},
   "outputs": [
    {
     "name": "stdout",
     "output_type": "stream",
     "text": [
      "Current Time is Sat Mar 28, 2020 20:18:24 for Parsing All Artists\n",
      "Current Time is Sat Mar 28, 2020 20:18:24 for Parallel Artist Parsing\n",
      "Parsing Artist Files For ModVal 9\n",
      "Parsing Artist Files For ModVal 0\n",
      "Parsing Artist Files For ModVal 18\n",
      "  ===> Found 466 files, but there are no new files to parse so skipping.\n",
      "  ===> Found 462 files, but there are no new files to parse so skipping.\n",
      "Parsing Artist Files For ModVal 10\n",
      "Parsing Artist Files For ModVal 19\n",
      "  ===> Found 453 files, but there are no new files to parse so skipping.\n",
      "Parsing Artist Files For ModVal 1\n",
      "  ===> Found 464 files, but there are no new files to parse so skipping.\n",
      "  ===> Found 492 files, but there are no new files to parse so skipping.\n",
      "Parsing Artist Files For ModVal 11\n",
      "Parsing Artist Files For ModVal 2\n",
      "  ===> Found 471 files, but there are no new files to parse so skipping.\n",
      "Parsing Artist Files For ModVal 20\n",
      "  ===> Found 472 files, but there are no new files to parse so skipping.\n",
      "Parsing Artist Files For ModVal 12\n",
      "  ===> Found 499 files, but there are no new files to parse so skipping.\n",
      "Parsing Artist Files For ModVal 21\n",
      "  ===> Found 521 files, but there are no new files to parse so skipping.\n",
      "Parsing Artist Files For ModVal 3\n",
      "  ===> Found 492 files, but there are no new files to parse so skipping.\n",
      "Parsing Artist Files For ModVal 13\n",
      "  ===> Found 458 files, but there are no new files to parse so skipping.\n",
      "Parsing Artist Files For ModVal 4\n",
      "  ===> Found 499 files, but there are no new files to parse so skipping.\n",
      "Parsing Artist Files For ModVal 22\n",
      "  ===> Found 466 files, but there are no new files to parse so skipping.\n",
      "Parsing Artist Files For ModVal 5\n",
      "  ===> Found 518 files, but there are no new files to parse so skipping.\n",
      "Parsing Artist Files For ModVal 14\n",
      "  ===> Found 521 files, but there are no new files to parse so skipping.\n",
      "Parsing Artist Files For ModVal 23\n",
      "  ===> Found 481 files, but there are no new files to parse so skipping.\n",
      "Parsing Artist Files For ModVal 6\n",
      "  ===> Found 477 files, but there are no new files to parse so skipping.\n",
      "Parsing Artist Files For ModVal 15\n",
      "  ===> Found 483 files, but there are no new files to parse so skipping.\n",
      "Parsing Artist Files For ModVal 24\n",
      "  ===> Found 480 files, but there are no new files to parse so skipping.\n",
      "Parsing Artist Files For ModVal 16\n",
      "  ===> Found 503 files, but there are no new files to parse so skipping.\n",
      "Parsing Artist Files For ModVal 7\n",
      "  ===> Found 504 files, but there are no new files to parse so skipping.\n",
      "Parsing Artist Files For ModVal 25\n",
      "  ===> Found 478 files, but there are no new files to parse so skipping.\n",
      "Parsing Artist Files For ModVal 26\n",
      "  ===> Found 491 files, but there are no new files to parse so skipping.\n",
      "Parsing Artist Files For ModVal 17\n",
      "  ===> Found 467 files, but there are no new files to parse so skipping.\n",
      "Parsing Artist Files For ModVal 8\n",
      "  ===> Found 443 files. There are 128 new files to parse.\n",
      "  ===> Found 512 files, but there are no new files to parse so skipping.\n",
      "Parsing Artist Files For ModVal 27\n",
      "  ===> Found 472 files, but there are no new files to parse so skipping.\n",
      "Parsing Artist Files For ModVal 36\n",
      "  ===> Found 444 files, but there are no new files to parse so skipping.\n",
      "Parsing Artist Files For ModVal 28\n",
      "  ===> Found 485 files, but there are no new files to parse so skipping.\n",
      "Parsing Artist Files For ModVal 37\n",
      "  ===> Found 485 files, but there are no new files to parse so skipping.\n",
      "Parsing Artist Files For ModVal 29\n",
      "  ===> Found 534 files, but there are no new files to parse so skipping.\n",
      "Parsing Artist Files For ModVal 38\n",
      "  ===> Found 455 files, but there are no new files to parse so skipping.\n",
      "Parsing Artist Files For ModVal 30\n",
      "  ===> Found 510 files, but there are no new files to parse so skipping.\n",
      "Parsing Artist Files For ModVal 39\n",
      "  ===> Found 446 files, but there are no new files to parse so skipping.\n",
      "Parsing Artist Files For ModVal 31\n",
      "  ===> Found 514 files, but there are no new files to parse so skipping.\n",
      "Parsing Artist Files For ModVal 40\n",
      "  ===> Found 470 files, but there are no new files to parse so skipping.\n",
      "Parsing Artist Files For ModVal 32\n",
      "  ===> Found 468 files, but there are no new files to parse so skipping.\n",
      "Parsing Artist Files For ModVal 41\n",
      "  ===> Found 467 files, but there are no new files to parse so skipping.\n",
      "Parsing Artist Files For ModVal 33\n",
      "  ===> Found 490 files, but there are no new files to parse so skipping.\n",
      "Parsing Artist Files For ModVal 42\n",
      "  ===> Found 474 files, but there are no new files to parse so skipping.\n",
      "Parsing Artist Files For ModVal 34\n",
      "  ===> Found 489 files, but there are no new files to parse so skipping.\n",
      "Parsing Artist Files For ModVal 43\n",
      "  ===> Found 486 files, but there are no new files to parse so skipping.\n",
      "Parsing Artist Files For ModVal 35\n",
      "  ===> Found 472 files, but there are no new files to parse so skipping.\n",
      "Parsing Artist Files For ModVal 44\n",
      "  ===> Found 489 files, but there are no new files to parse so skipping.\n",
      "Parsing Artist Files For ModVal 45\n",
      "  ===> Found 483 files, but there are no new files to parse so skipping.\n",
      "Parsing Artist Files For ModVal 54\n",
      "  ===> Found 484 files, but there are no new files to parse so skipping.\n",
      "Parsing Artist Files For ModVal 46\n",
      "  ===> Found 447 files, but there are no new files to parse so skipping.\n",
      "Parsing Artist Files For ModVal 55\n",
      "  ===> Found 474 files, but there are no new files to parse so skipping.\n",
      "Parsing Artist Files For ModVal 47\n",
      "  ===> Found 475 files, but there are no new files to parse so skipping.\n",
      "Parsing Artist Files For ModVal 56\n",
      "  ===> Found 468 files, but there are no new files to parse so skipping.\n",
      "Parsing Artist Files For ModVal 48\n",
      "  ===> Found 513 files, but there are no new files to parse so skipping.\n",
      "Parsing Artist Files For ModVal 57\n",
      "  ===> Found 486 files, but there are no new files to parse so skipping.\n",
      "Parsing Artist Files For ModVal 49\n",
      "  ===> Found 464 files, but there are no new files to parse so skipping.\n",
      "Parsing Artist Files For ModVal 58\n",
      "  ===> Found 481 files, but there are no new files to parse so skipping.\n",
      "Parsing Artist Files For ModVal 50\n",
      "  ===> Found 440 files, but there are no new files to parse so skipping.\n",
      "Parsing Artist Files For ModVal 59\n",
      "  ===> Found 488 files, but there are no new files to parse so skipping.\n",
      "Parsing Artist Files For ModVal 51\n",
      "  ===> Found 520 files, but there are no new files to parse so skipping.\n",
      "Parsing Artist Files For ModVal 60\n",
      "  ===> Found 506 files, but there are no new files to parse so skipping.\n",
      "Parsing Artist Files For ModVal 52\n",
      "  ===> Found 454 files, but there are no new files to parse so skipping.\n",
      "Parsing Artist Files For ModVal 61\n",
      "  ===> Found 476 files, but there are no new files to parse so skipping.\n",
      "Parsing Artist Files For ModVal 53\n",
      "  ===> Found 486 files, but there are no new files to parse so skipping.\n",
      "Parsing Artist Files For ModVal 62\n",
      "  ===> Found 454 files, but there are no new files to parse so skipping.\n",
      "Parsing Artist Files For ModVal 63\n",
      "  ===> Found 463 files, but there are no new files to parse so skipping.\n",
      "Parsing Artist Files For ModVal 72\n",
      "  ===> Found 482 files, but there are no new files to parse so skipping.\n",
      "Parsing Artist Files For ModVal 64\n",
      "  ===> Found 477 files, but there are no new files to parse so skipping.\n",
      "Parsing Artist Files For ModVal 73\n",
      "  ===> Found 476 files, but there are no new files to parse so skipping.\n",
      "Parsing Artist Files For ModVal 65\n",
      "  ===> Found 481 files, but there are no new files to parse so skipping.\n",
      "Parsing Artist Files For ModVal 74\n",
      "  ===> Found 464 files, but there are no new files to parse so skipping.\n",
      "Parsing Artist Files For ModVal 66\n",
      "  ===> Found 467 files, but there are no new files to parse so skipping.\n",
      "Parsing Artist Files For ModVal 75\n",
      "  ===> Found 495 files, but there are no new files to parse so skipping.\n",
      "Parsing Artist Files For ModVal 67\n",
      "  ===> Found 517 files, but there are no new files to parse so skipping.\n",
      "Parsing Artist Files For ModVal 76\n",
      "  ===> Found 475 files, but there are no new files to parse so skipping.\n",
      "Parsing Artist Files For ModVal 68\n",
      "  ===> Found 446 files, but there are no new files to parse so skipping.\n",
      "Parsing Artist Files For ModVal 77\n",
      "  ===> Found 463 files, but there are no new files to parse so skipping.\n",
      "Parsing Artist Files For ModVal 69\n",
      "  ===> Found 467 files, but there are no new files to parse so skipping.\n"
     ]
    },
    {
     "name": "stdout",
     "output_type": "stream",
     "text": [
      "Parsing Artist Files For ModVal 78\n",
      "  ===> Found 480 files, but there are no new files to parse so skipping.\n",
      "Parsing Artist Files For ModVal 70\n",
      "  ===> Found 480 files, but there are no new files to parse so skipping.\n",
      "Parsing Artist Files For ModVal 79\n",
      "  ===> Found 465 files, but there are no new files to parse so skipping.\n",
      "Parsing Artist Files For ModVal 71\n",
      "  ===> Found 486 files, but there are no new files to parse so skipping.\n",
      "Parsing Artist Files For ModVal 80\n",
      "  ===> Found 500 files, but there are no new files to parse so skipping.\n",
      "Parsing Artist Files For ModVal 81\n",
      "  ===> Found 494 files, but there are no new files to parse so skipping.\n",
      "Parsing Artist Files For ModVal 90\n",
      "  ===> Found 460 files, but there are no new files to parse so skipping.\n",
      "Parsing Artist Files For ModVal 82\n",
      "  ===> Found 492 files, but there are no new files to parse so skipping.\n",
      "Parsing Artist Files For ModVal 91\n",
      "  ===> Found 523 files, but there are no new files to parse so skipping.\n",
      "Parsing Artist Files For ModVal 83\n",
      "  ===> Found 423 files, but there are no new files to parse so skipping.\n",
      "Parsing Artist Files For ModVal 92\n",
      "  ===> Found 462 files, but there are no new files to parse so skipping.\n",
      "Parsing Artist Files For ModVal 84\n",
      "  ===> Found 457 files, but there are no new files to parse so skipping.\n",
      "Parsing Artist Files For ModVal 93\n",
      "  ===> Found 512 files, but there are no new files to parse so skipping.\n",
      "Parsing Artist Files For ModVal 85\n",
      "  ===> Found 486 files, but there are no new files to parse so skipping.\n",
      "Parsing Artist Files For ModVal 94\n",
      "Saving 128 new artist IDs to /Volumes/Biggy/Discog/artists-lastfm-db/17-DB.p\n",
      "  ===> Found 514 files, but there are no new files to parse so skipping.\n",
      "Parsing Artist Files For ModVal 86\n",
      "  ===> Found 479 files, but there are no new files to parse so skipping.\n",
      "Parsing Artist Files For ModVal 95\n",
      "  ===> Found 508 files, but there are no new files to parse so skipping.\n",
      "Parsing Artist Files For ModVal 87\n",
      "  ===> Found 463 files, but there are no new files to parse so skipping.\n",
      "Parsing Artist Files For ModVal 96\n",
      "  --> This file is 104.4kB.\n",
      "Saving 443 new artist IDs name data to /Volumes/Biggy/Discog/artists-lastfm-db/metadata/17-Metadata.p\n",
      "  --> This file is 30.7kB.\n",
      "Saving 443 new artist IDs media data to /Volumes/Biggy/Discog/artists-lastfm-db/metadata/17-MediaMetadata.p\n",
      "  --> This file is 34.3kB.\n",
      "Parsing Artist Files For ModVal 99\n",
      "  ===> Found 481 files, but there are no new files to parse so skipping.\n",
      "Parsing Artist Files For ModVal 88\n",
      "  ===> Found 474 files, but there are no new files to parse so skipping.\n",
      "Parsing Artist Files For ModVal 97\n",
      "  ===> Found 497 files, but there are no new files to parse so skipping.\n",
      "  ===> Found 447 files, but there are no new files to parse so skipping.\n",
      "Parsing Artist Files For ModVal 98\n",
      "  ===> Found 498 files, but there are no new files to parse so skipping.\n",
      "Parsing Artist Files For ModVal 89\n",
      "  ===> Found 492 files, but there are no new files to parse so skipping.\n",
      "  ===> Found 481 files, but there are no new files to parse so skipping.\n",
      "\n",
      "Current Time is Sat Mar 28, 2020 20:18:41 for Done with Parallel Artist Parsing\n",
      "Process [Done with Parallel Artist Parsing] took 17 seconds.\n",
      "Current Time is Sat Mar 28, 2020 20:18:41 for Done with Parsing All Artists\n",
      "Process [Done with Parsing All Artists] took 17 seconds.\n"
     ]
    }
   ],
   "source": [
    "start,cmt=clock(\"Parsing All Artists\")\n",
    "start2,cmt2=clock(\"Parallel Artist Parsing\")\n",
    "#parseArtistsParallel(db=\"AllMusic\", nProcs=3)\n",
    "#parseArtistsParallel(db=\"MusicBrainz\", nProcs=3)\n",
    "#parseArtistsParallel(db=\"Discogs\", nProcs=3)\n",
    "#parseArtistsParallel(db=\"AceBootlegs\", nProcs=1)\n",
    "#parseArtistsParallel(db=\"RateYourMusic\", nProcs=4)\n",
    "parseArtistsParallel(db=\"LastFM\", nProcs=3)\n",
    "elapsed(start2, cmt2)\n",
    "elapsed(start, cmt)"
   ]
  },
  {
   "cell_type": "markdown",
   "metadata": {},
   "source": [
    "# Albums"
   ]
  },
  {
   "cell_type": "code",
   "execution_count": null,
   "metadata": {},
   "outputs": [],
   "source": [
    "%load_ext autoreload\n",
    "%autoreload\n",
    "from album import album\n",
    "from albums import albums\n",
    "from discogsBase import discogs\n",
    "\n",
    "disc = discogs()\n",
    "albs = albums(disc)\n",
    "#albs.parseAlbumModValFiles(modVal=27)"
   ]
  },
  {
   "cell_type": "code",
   "execution_count": null,
   "metadata": {},
   "outputs": [],
   "source": [
    "def parseAlbums(modVal):\n",
    "    albs.parseAlbumModValFiles(modVal=modVal)\n",
    "    #albs.createAlbumModValMetadata(modVal)\n",
    "    #albs.createAlbumModValMetadata(modVal=modVal)\n",
    "\n",
    "def parseAlbumsParallel(modVals=None):\n",
    "    if modVals is None:\n",
    "        modVals = [\"NAN\"] + list(range(100))\n",
    "        #modVals = range(100)\n",
    "    nProcs = 2\n",
    "    pool = Pool(processes=nProcs)\n",
    "    result = pool.map_async(parseAlbums, modVals)\n",
    " \n",
    "    start, cmt = clock(\"Processing {0} modVals using {1} processes\".format(modVals, nProcs))\n",
    "    print(\"Runing .\",end=\"\")\n",
    "    while not result.ready():\n",
    "        #print(\".\",end=\"\")\n",
    "        time.sleep(10)\n",
    "    print(\"\")\n",
    "    \n",
    "    elapsed(start, cmt)\n",
    "    return result.get()"
   ]
  },
  {
   "cell_type": "code",
   "execution_count": null,
   "metadata": {},
   "outputs": [],
   "source": [
    "%load_ext autoreload\n",
    "%autoreload\n",
    "from album import album\n",
    "from albums import albums\n",
    "albs = albums(disc)\n",
    "\n",
    "start,cmt=clock(\"Parsing All Albums\")\n",
    "start2,cmt2=clock(\"Parallel Album Parsing\")\n",
    "parseAlbumsParallel()\n",
    "elapsed(start2, cmt2)\n",
    "elapsed(start, cmt)"
   ]
  },
  {
   "cell_type": "code",
   "execution_count": null,
   "metadata": {},
   "outputs": [],
   "source": [
    "from fsUtils import removeFile"
   ]
  }
 ],
 "metadata": {
  "kernelspec": {
   "display_name": "Python 3",
   "language": "python",
   "name": "python3"
  },
  "language_info": {
   "codemirror_mode": {
    "name": "ipython",
    "version": 3
   },
   "file_extension": ".py",
   "mimetype": "text/x-python",
   "name": "python",
   "nbconvert_exporter": "python",
   "pygments_lexer": "ipython3",
   "version": "3.7.3"
  }
 },
 "nbformat": 4,
 "nbformat_minor": 2
}
