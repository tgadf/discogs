{
 "cells": [
  {
   "cell_type": "code",
   "execution_count": 1,
   "metadata": {},
   "outputs": [
    {
     "data": {
      "text/html": [
       "<style>.container { width:100% !important; }</style>"
      ],
      "text/plain": [
       "<IPython.core.display.HTML object>"
      ]
     },
     "metadata": {},
     "output_type": "display_data"
    },
    {
     "data": {
      "text/html": [
       "<style>div.output_area{max-height:10000px;overflow:scroll;}</style>"
      ],
      "text/plain": [
       "<IPython.core.display.HTML object>"
      ]
     },
     "metadata": {},
     "output_type": "display_data"
    },
    {
     "name": "stdout",
     "output_type": "stream",
     "text": [
      "Python: 3.7.3 (default, Mar 27 2019, 16:54:48) \n",
      "[Clang 4.0.1 (tags/RELEASE_401/final)]\n",
      "Notebook Last Run Initiated: 2020-03-15 10:36:50.937287\n"
     ]
    }
   ],
   "source": [
    "## Basic stuff\n",
    "%load_ext autoreload\n",
    "%autoreload\n",
    "from IPython.core.display import display, HTML\n",
    "display(HTML(\"<style>.container { width:100% !important; }</style>\"))\n",
    "display(HTML(\"\"\"<style>div.output_area{max-height:10000px;overflow:scroll;}</style>\"\"\"))\n",
    "\n",
    "## Python Version\n",
    "import sys\n",
    "print(\"Python: {0}\".format(sys.version))\n",
    "\n",
    "################################################################################\n",
    "## General Stuff\n",
    "################################################################################\n",
    "from ioUtils import saveJoblib, loadJoblib, saveFile, getFile\n",
    "import urllib\n",
    "from urllib.parse import quote\n",
    "from collection import collections\n",
    "from timeUtils import clock, elapsed\n",
    "from fsUtils import moveFile, setFile, setDir, setSubDir, isFile, isDir, mkDir\n",
    "from fileUtils import getFileBasics, getBasename\n",
    "from time import sleep\n",
    "import time\n",
    "from multiprocessing import Pool\n",
    "\n",
    "\n",
    "################################################################################\n",
    "## Music Stuff\n",
    "################################################################################\n",
    "\n",
    "## General\n",
    "from discogsBase import discogs\n",
    "\n",
    "## Discogs\n",
    "from artist import artist\n",
    "from artists import artists\n",
    "from discogsUtils import discogsUtils\n",
    "from albums import albums\n",
    "\n",
    "## AllMusic\n",
    "from artistAM import artistAM\n",
    "from artistsAM import artistsAM\n",
    "from discogsUtils import allmusicUtils\n",
    "from artistsAM import artistsAM\n",
    "\n",
    "## MusicBrainz\n",
    "from artistMB import artistMB\n",
    "from artistsMB import artistsMB\n",
    "from discogsUtils import musicbrainzUtils\n",
    "\n",
    "\n",
    "\n",
    "import datetime as dt\n",
    "start = dt.datetime.now()\n",
    "print(\"Notebook Last Run Initiated: \"+str(start))"
   ]
  },
  {
   "cell_type": "code",
   "execution_count": 2,
   "metadata": {
    "scrolled": true
   },
   "outputs": [
    {
     "name": "stdout",
     "output_type": "stream",
     "text": [
      "The autoreload extension is already loaded. To reload it, use:\n",
      "  %reload_ext autoreload\n",
      "Current Time is Sun Mar 15, 2020 10:36:51 for Last Run\n"
     ]
    }
   ],
   "source": [
    "%load_ext autoreload\n",
    "%autoreload\n",
    "discAM   = discogs('allmusic')\n",
    "artsAM   = artistsAM(discAM)\n",
    "dutilsAM = allmusicUtils()\n",
    "\n",
    "discDC   = discogs('discogs')\n",
    "artsDC   = artists(discDC)\n",
    "dutilsDC = discogsUtils()\n",
    "\n",
    "discMB   = discogs('musicbrainz')\n",
    "artsMB   = artistsMB(discMB)\n",
    "dutilsMB = musicbrainzUtils()\n",
    "\n",
    "_, _ = clock(\"Last Run\")"
   ]
  },
  {
   "cell_type": "markdown",
   "metadata": {},
   "source": [
    "# Collections"
   ]
  },
  {
   "cell_type": "code",
   "execution_count": null,
   "metadata": {},
   "outputs": [],
   "source": [
    "%load_ext autoreload\n",
    "%autoreload\n",
    "#col = collections(disc)\n",
    "#col.parseCollections(force=False)\n",
    "#col.createCollectionDBs()"
   ]
  },
  {
   "cell_type": "markdown",
   "metadata": {},
   "source": [
    "# Parse Artists (All Music)"
   ]
  },
  {
   "cell_type": "code",
   "execution_count": null,
   "metadata": {
    "scrolled": true
   },
   "outputs": [],
   "source": [
    "for i in range(100):\n",
    "    artsAM.parseArtistModValFiles(i, force=True)"
   ]
  },
  {
   "cell_type": "code",
   "execution_count": 16,
   "metadata": {},
   "outputs": [
    {
     "data": {
      "text/plain": [
       "{'ID': 148150553282083715092252970758494088400, 'err': None}"
      ]
     },
     "execution_count": 16,
     "metadata": {},
     "output_type": "execute_result"
    }
   ],
   "source": [
    "artMB = artistMB(discMB)\n",
    "retval = artMB.getData(\"/Volumes/Biggy/Discog/artists-musicbrainz/0/148150553282083715092252970758494088400.p\")\n",
    "retval.url.get()\n",
    "retval.ID.get()"
   ]
  },
  {
   "cell_type": "markdown",
   "metadata": {},
   "source": [
    "# Parse Artists (Parallel)"
   ]
  },
  {
   "cell_type": "code",
   "execution_count": 3,
   "metadata": {},
   "outputs": [
    {
     "name": "stdout",
     "output_type": "stream",
     "text": [
      "The autoreload extension is already loaded. To reload it, use:\n",
      "  %reload_ext autoreload\n"
     ]
    }
   ],
   "source": [
    "%load_ext autoreload\n",
    "%autoreload\n",
    "discAM   = discogs('allmusic')\n",
    "artsAM   = artistsAM(discAM)\n",
    "dutilsAM = allmusicUtils()\n",
    "\n",
    "discDC   = discogs('discogs')\n",
    "artsDC   = artists(discDC)\n",
    "dutilsDC = discogsUtils()\n",
    "\n",
    "discMB   = discogs('musicbrainz')\n",
    "artsMB   = artistsMB(discMB)\n",
    "dutilsMB = musicbrainzUtils()\n",
    "\n",
    "def parseArtistsAM(modVal, force=False, doExtra=False):\n",
    "    artsAM.parseArtistModValFiles(modVal, force=force)\n",
    "\n",
    "def parseArtistsDC(modVal, force=False, doExtra=False):\n",
    "    artsDC.parseArtistModValFiles(modVal, force=force)\n",
    "\n",
    "def parseArtistsMB(modVal, force=False, doExtra=False):\n",
    "    artsMB.parseArtistModValFiles(modVal, force=force)\n",
    "    \n",
    "def parseArtistsParallel(db, nProcs=3, force=False):\n",
    "    pool = Pool(processes=nProcs)\n",
    "    if db == \"Discogs\":\n",
    "        #result = pool.map_async(parseArtistsDC, [29, 30, 31, 32, 33, 34, 35])\n",
    "        result = pool.map_async(parseArtistsDC, range(100))\n",
    "    elif db == \"AllMusic\":\n",
    "        result = pool.map_async(parseArtistsAM, range(100))\n",
    "    elif db == \"MusicBrainz\":\n",
    "        result = pool.map_async(parseArtistsMB, range(100))\n",
    "    else:\n",
    "        raise ValueError(\"[{0}] is not recognized as a DB\".format(db))\n",
    "\n",
    "    while not result.ready():\n",
    "        if force is True:\n",
    "            time.sleep(10)\n",
    "        else:\n",
    "            time.sleep(1)\n",
    "    print(\"\")\n",
    "    return result.get()"
   ]
  },
  {
   "cell_type": "code",
   "execution_count": 12,
   "metadata": {},
   "outputs": [
    {
     "name": "stdout",
     "output_type": "stream",
     "text": [
      "Parsing Artist Files For ModVal 29\n",
      "Forcing Reloads of ModVal=29\n",
      "  Processing 7126 files.\n",
      "\tProcessed 0/7126 files.\n",
      "\tProcessed 500/7126 files.\n",
      "\tProcessed 1000/7126 files.\n",
      "\tProcessed 1500/7126 files.\n",
      "\tProcessed 2000/7126 files.\n",
      "\tProcessed 2500/7126 files.\n",
      "\tProcessed 3000/7126 files.\n",
      "\tProcessed 3500/7126 files.\n",
      "\tProcessed 4000/7126 files.\n",
      "\tProcessed 4500/7126 files.\n",
      "\tProcessed 5000/7126 files.\n",
      "\tProcessed 5500/7126 files.\n",
      "\tProcessed 6000/7126 files.\n",
      "\tProcessed 6500/7126 files.\n",
      "\tProcessed 7000/7126 files.\n",
      "Saving 7126 new artist IDs to /Volumes/Biggy/Discog/artists-discogs-db/29-DB.p\n",
      "  --> This file is 12.0MB.\n",
      "Saving 7126 new artist IDs name data to /Volumes/Biggy/Discog/artists-discogs-db/metadata/29-Metadata.p\n",
      "  --> This file is 406.1kB.\n",
      "Saving 7126 new artist IDs media data to /Volumes/Biggy/Discog/artists-discogs-db/metadata/29-MediaMetadata.p\n",
      "  --> This file is 3.9MB.\n"
     ]
    },
    {
     "data": {
      "text/plain": [
       "7126"
      ]
     },
     "execution_count": 12,
     "metadata": {},
     "output_type": "execute_result"
    }
   ],
   "source": [
    "artsDC.parseArtistModValFiles(29, force=True)\n",
    "#arts.parseArtistModValFiles(50, force=True)"
   ]
  },
  {
   "cell_type": "code",
   "execution_count": null,
   "metadata": {},
   "outputs": [
    {
     "name": "stdout",
     "output_type": "stream",
     "text": [
      "Current Time is Sun Mar 15, 2020 10:37:07 for Parsing All Artists\n",
      "Current Time is Sun Mar 15, 2020 10:37:07 for Parallel Artist Parsing\n",
      "Parsing Artist Files For ModVal 9\n",
      "Parsing Artist Files For ModVal 0\n",
      "Parsing Artist Files For ModVal 18\n",
      "  ===> Found 525 files. There are 3 new files to parse.\n",
      "  ===> Found 527 files. There are 6 new files to parse.\n",
      "  ===> Found 553 files. There are 10 new files to parse.\n",
      "Saving 325 new artist IDs to /Volumes/Biggy/Discog/artists-musicbrainz-db/18-DB.p\n",
      "  --> This file is 135.3kB.\n",
      "Saving 204 new artist IDs name data to /Volumes/Biggy/Discog/artists-musicbrainz-db/metadata/18-Metadata.p\n",
      "  --> This file is 17.8kB.\n",
      "Saving 204 new artist IDs media data to /Volumes/Biggy/Discog/artists-musicbrainz-db/metadata/18-MediaMetadata.p\n",
      "  --> This file is 62.5kB.\n",
      "Parsing Artist Files For ModVal 19\n",
      "Saving 341 new artist IDs to /Volumes/Biggy/Discog/artists-musicbrainz-db/9-DB.p\n",
      "  --> This file is 164.6kB.\n",
      "Saving 185 new artist IDs name data to /Volumes/Biggy/Discog/artists-musicbrainz-db/metadata/9-Metadata.p\n",
      "  --> This file is 16.3kB.\n",
      "Saving 185 new artist IDs media data to /Volumes/Biggy/Discog/artists-musicbrainz-db/metadata/9-MediaMetadata.p\n",
      "  ===> Found 580 files. There are 11 new files to parse.\n",
      "  --> This file is 78.2kB.\n",
      "Parsing Artist Files For ModVal 10\n",
      "Saving 364 new artist IDs to /Volumes/Biggy/Discog/artists-musicbrainz-db/0-DB.p\n",
      "  ===> Found 571 files. There are 9 new files to parse.\n",
      "  --> This file is 156.2kB.\n",
      "Saving 195 new artist IDs name data to /Volumes/Biggy/Discog/artists-musicbrainz-db/metadata/0-Metadata.p\n",
      "  --> This file is 16.9kB.\n",
      "Saving 195 new artist IDs media data to /Volumes/Biggy/Discog/artists-musicbrainz-db/metadata/0-MediaMetadata.p\n",
      "  --> This file is 74.6kB.\n",
      "Parsing Artist Files For ModVal 1\n",
      "  ===> Found 548 files. There are 6 new files to parse.\n",
      "Saving 344 new artist IDs to /Volumes/Biggy/Discog/artists-musicbrainz-db/10-DB.p\n",
      "Saving 365 new artist IDs to /Volumes/Biggy/Discog/artists-musicbrainz-db/19-DB.p\n",
      "  --> This file is 185.6kB.\n",
      "Saving 229 new artist IDs name data to /Volumes/Biggy/Discog/artists-musicbrainz-db/metadata/10-Metadata.p\n",
      "  --> This file is 19.8kB.\n",
      "Saving 229 new artist IDs media data to /Volumes/Biggy/Discog/artists-musicbrainz-db/metadata/10-MediaMetadata.p\n",
      "Saving 334 new artist IDs to /Volumes/Biggy/Discog/artists-musicbrainz-db/1-DB.p\n",
      "  --> This file is 89.5kB.\n",
      "Parsing Artist Files For ModVal 11\n",
      "  --> This file is 153.5kB.\n",
      "Saving 218 new artist IDs name data to /Volumes/Biggy/Discog/artists-musicbrainz-db/metadata/19-Metadata.p\n",
      "  --> This file is 18.9kB.\n",
      "Saving 218 new artist IDs media data to /Volumes/Biggy/Discog/artists-musicbrainz-db/metadata/19-MediaMetadata.p\n",
      "  --> This file is 72.7kB.\n",
      "Parsing Artist Files For ModVal 20\n",
      "  ===> Found 572 files. There are 14 new files to parse.\n",
      "  --> This file is 191.3kB.\n",
      "Saving 215 new artist IDs name data to /Volumes/Biggy/Discog/artists-musicbrainz-db/metadata/1-Metadata.p\n",
      "  --> This file is 18.9kB.\n",
      "Saving 215 new artist IDs media data to /Volumes/Biggy/Discog/artists-musicbrainz-db/metadata/1-MediaMetadata.p\n",
      "  --> This file is 94.6kB.\n",
      "Parsing Artist Files For ModVal 2\n",
      "  ===> Found 559 files. There are 12 new files to parse.\n",
      "  ===> Found 562 files. There are 9 new files to parse.\n",
      "Saving 353 new artist IDs to /Volumes/Biggy/Discog/artists-musicbrainz-db/11-DB.p\n",
      "Saving 345 new artist IDs to /Volumes/Biggy/Discog/artists-musicbrainz-db/2-DB.p\n",
      "Saving 355 new artist IDs to /Volumes/Biggy/Discog/artists-musicbrainz-db/20-DB.p\n",
      "  --> This file is 171.0kB.\n",
      "Saving 222 new artist IDs name data to /Volumes/Biggy/Discog/artists-musicbrainz-db/metadata/11-Metadata.p\n",
      "  --> This file is 19.6kB.\n",
      "Saving 222 new artist IDs media data to /Volumes/Biggy/Discog/artists-musicbrainz-db/metadata/11-MediaMetadata.p\n",
      "  --> This file is 82.2kB.\n",
      "Parsing Artist Files For ModVal 12\n",
      "  --> This file is 147.7kB.\n",
      "Saving 218 new artist IDs name data to /Volumes/Biggy/Discog/artists-musicbrainz-db/metadata/2-Metadata.p\n",
      "  --> This file is 19.2kB.\n",
      "Saving 218 new artist IDs media data to /Volumes/Biggy/Discog/artists-musicbrainz-db/metadata/2-MediaMetadata.p\n",
      "  --> This file is 146.4kB.\n",
      "Saving 208 new artist IDs name data to /Volumes/Biggy/Discog/artists-musicbrainz-db/metadata/20-Metadata.p\n",
      "  --> This file is 66.9kB.\n",
      "  --> This file is 18.3kB.\n",
      "Parsing Artist Files For ModVal 3\n",
      "Saving 208 new artist IDs media data to /Volumes/Biggy/Discog/artists-musicbrainz-db/metadata/20-MediaMetadata.p\n",
      "  --> This file is 66.2kB.\n",
      "Parsing Artist Files For ModVal 21\n",
      "  ===> Found 539 files. There are 12 new files to parse.\n",
      "  ===> Found 584 files. There are 11 new files to parse.\n",
      "  ===> Found 566 files. There are 7 new files to parse.\n"
     ]
    }
   ],
   "source": [
    "start,cmt=clock(\"Parsing All Artists\")\n",
    "start2,cmt2=clock(\"Parallel Artist Parsing\")\n",
    "#parseArtistsParallel(db=\"AllMusic\", nProcs=3)\n",
    "parseArtistsParallel(db=\"MusicBrainz\", nProcs=3)\n",
    "#parseArtistsParallel(db=\"Discogs\", nProcs=3)\n",
    "elapsed(start2, cmt2)\n",
    "elapsed(start, cmt)"
   ]
  },
  {
   "cell_type": "code",
   "execution_count": null,
   "metadata": {},
   "outputs": [],
   "source": []
  },
  {
   "cell_type": "code",
   "execution_count": 3,
   "metadata": {},
   "outputs": [
    {
     "name": "stdout",
     "output_type": "stream",
     "text": [
      "The autoreload extension is already loaded. To reload it, use:\n",
      "  %reload_ext autoreload\n"
     ]
    }
   ],
   "source": [
    "\n",
    "from artists import artists\n",
    "discDC   = discogs('discogs')\n",
    "artsDC = artists(discDC)\n",
    "\n",
    "from artistsAM import artistsAM\n",
    "discAM   = discogs('allmusic')\n",
    "artsAM = artistsAM(discAM)"
   ]
  },
  {
   "cell_type": "markdown",
   "metadata": {},
   "source": [
    "# Albums"
   ]
  },
  {
   "cell_type": "code",
   "execution_count": null,
   "metadata": {},
   "outputs": [],
   "source": [
    "%load_ext autoreload\n",
    "%autoreload\n",
    "from album import album\n",
    "from albums import albums\n",
    "from discogsBase import discogs\n",
    "\n",
    "disc = discogs()\n",
    "albs = albums(disc)\n",
    "#albs.parseAlbumModValFiles(modVal=27)"
   ]
  },
  {
   "cell_type": "code",
   "execution_count": null,
   "metadata": {},
   "outputs": [],
   "source": [
    "def parseAlbums(modVal):\n",
    "    albs.parseAlbumModValFiles(modVal=modVal)\n",
    "    #albs.createAlbumModValMetadata(modVal)\n",
    "    #albs.createAlbumModValMetadata(modVal=modVal)\n",
    "\n",
    "def parseAlbumsParallel(modVals=None):\n",
    "    if modVals is None:\n",
    "        modVals = [\"NAN\"] + list(range(100))\n",
    "        #modVals = range(100)\n",
    "    nProcs = 2\n",
    "    pool = Pool(processes=nProcs)\n",
    "    result = pool.map_async(parseAlbums, modVals)\n",
    " \n",
    "    start, cmt = clock(\"Processing {0} modVals using {1} processes\".format(modVals, nProcs))\n",
    "    print(\"Runing .\",end=\"\")\n",
    "    while not result.ready():\n",
    "        #print(\".\",end=\"\")\n",
    "        time.sleep(10)\n",
    "    print(\"\")\n",
    "    \n",
    "    elapsed(start, cmt)\n",
    "    return result.get()"
   ]
  },
  {
   "cell_type": "code",
   "execution_count": null,
   "metadata": {},
   "outputs": [],
   "source": [
    "%load_ext autoreload\n",
    "%autoreload\n",
    "from album import album\n",
    "from albums import albums\n",
    "albs = albums(disc)\n",
    "\n",
    "start,cmt=clock(\"Parsing All Albums\")\n",
    "start2,cmt2=clock(\"Parallel Album Parsing\")\n",
    "parseAlbumsParallel()\n",
    "elapsed(start2, cmt2)\n",
    "elapsed(start, cmt)"
   ]
  },
  {
   "cell_type": "code",
   "execution_count": null,
   "metadata": {},
   "outputs": [],
   "source": [
    "from fsUtils import removeFile"
   ]
  }
 ],
 "metadata": {
  "kernelspec": {
   "display_name": "Python 3",
   "language": "python",
   "name": "python3"
  },
  "language_info": {
   "codemirror_mode": {
    "name": "ipython",
    "version": 3
   },
   "file_extension": ".py",
   "mimetype": "text/x-python",
   "name": "python",
   "nbconvert_exporter": "python",
   "pygments_lexer": "ipython3",
   "version": "3.7.3"
  }
 },
 "nbformat": 4,
 "nbformat_minor": 2
}
