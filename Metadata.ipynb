{
 "cells": [
  {
   "cell_type": "code",
   "execution_count": 1,
   "metadata": {},
   "outputs": [
    {
     "data": {
      "text/html": [
       "<style>.container { width:100% !important; }</style>"
      ],
      "text/plain": [
       "<IPython.core.display.HTML object>"
      ]
     },
     "metadata": {},
     "output_type": "display_data"
    },
    {
     "data": {
      "text/html": [
       "<style>div.output_area{max-height:10000px;overflow:scroll;}</style>"
      ],
      "text/plain": [
       "<IPython.core.display.HTML object>"
      ]
     },
     "metadata": {},
     "output_type": "display_data"
    },
    {
     "name": "stdout",
     "output_type": "stream",
     "text": [
      "Python: 3.7.7 (default, Mar 26 2020, 10:32:53) \n",
      "[Clang 4.0.1 (tags/RELEASE_401/final)]\n"
     ]
    },
    {
     "name": "stderr",
     "output_type": "stream",
     "text": [
      "/Users/tgadfort/opt/anaconda3/envs/py37/lib/python3.7/site-packages/sklearn/externals/joblib/__init__.py:15: FutureWarning: sklearn.externals.joblib is deprecated in 0.21 and will be removed in 0.23. Please import this functionality directly from joblib, which can be installed with: pip install joblib. If this warning is raised when loading pickled models, you may need to re-serialize those models with scikit-learn 0.21+.\n",
      "  warnings.warn(msg, category=FutureWarning)\n"
     ]
    },
    {
     "name": "stdout",
     "output_type": "stream",
     "text": [
      "Notebook Last Run Initiated: 2020-06-27 19:15:53.489071\n"
     ]
    }
   ],
   "source": [
    "## Basic stuff\n",
    "%load_ext autoreload\n",
    "%autoreload\n",
    "from IPython.core.display import display, HTML\n",
    "display(HTML(\"<style>.container { width:100% !important; }</style>\"))\n",
    "display(HTML(\"\"\"<style>div.output_area{max-height:10000px;overflow:scroll;}</style>\"\"\"))\n",
    "\n",
    "## Python Version\n",
    "import sys\n",
    "print(\"Python: {0}\".format(sys.version))\n",
    "\n",
    "\n",
    "################################################################################\n",
    "## General Stuff\n",
    "################################################################################\n",
    "from ioUtils import saveJoblib, loadJoblib, saveFile, getFile\n",
    "import urllib\n",
    "from urllib.parse import quote\n",
    "from timeUtils import clock, elapsed\n",
    "from fsUtils import moveFile, setFile, setDir, setSubDir, isFile, isDir, mkDir\n",
    "from fileUtils import getFileBasics, getBasename\n",
    "from webUtils import getHTML\n",
    "from time import sleep\n",
    "import time\n",
    "from multiprocessing import Pool\n",
    "\n",
    "################################################################################\n",
    "## Music DB\n",
    "################################################################################\n",
    "from myMusicDBMap import myMusicDBMap\n",
    "from mainDB import mainDB\n",
    "\n",
    "\n",
    "import datetime as dt\n",
    "start = dt.datetime.now()\n",
    "print(\"Notebook Last Run Initiated: \"+str(start))"
   ]
  },
  {
   "cell_type": "code",
   "execution_count": 47,
   "metadata": {},
   "outputs": [
    {
     "name": "stdout",
     "output_type": "stream",
     "text": [
      "The autoreload extension is already loaded. To reload it, use:\n",
      "  %reload_ext autoreload\n",
      "=========================   discogs   =========================\n",
      "=========================   allmusic   =========================\n",
      "=========================   musicbrainz   =========================\n",
      "=========================   lastfm   =========================\n",
      "=========================   rockcorner   =========================\n",
      "=========================   datpiff   =========================\n",
      "=========================   acebootlegs   =========================\n",
      "=========================   cdandlp   =========================\n",
      "=========================   rateyourmusic   =========================\n",
      "=========================   musicstack   =========================\n"
     ]
    }
   ],
   "source": [
    "%load_ext autoreload\n",
    "%autoreload\n",
    "from mainDB import mainDB\n",
    "mainDB = mainDB()\n",
    "dbdata = mainDB.dbdata"
   ]
  },
  {
   "cell_type": "code",
   "execution_count": 22,
   "metadata": {},
   "outputs": [],
   "source": [
    "#dbdata\n",
    "#dbdata['DatPiff']['Artists'].getModValDirs()"
   ]
  },
  {
   "cell_type": "code",
   "execution_count": null,
   "metadata": {},
   "outputs": [],
   "source": [
    "###### Parse Artists (Parallel)"
   ]
  },
  {
   "cell_type": "code",
   "execution_count": 43,
   "metadata": {},
   "outputs": [
    {
     "name": "stdout",
     "output_type": "stream",
     "text": [
      "There are 18 new searches\n"
     ]
    }
   ],
   "source": [
    "searchTerms = dbdata['DatPiff']['Artists'].findSearchTerms(100)\n",
    "#dbdata['DatPiff']['Artists'].parseArtistModValFiles(0, force=True)\n",
    "#dbdata['DatPiff']['Artists'].parseArtistFiles()\n",
    "#parseArtistModValFiles('83', force=False)"
   ]
  },
  {
   "cell_type": "code",
   "execution_count": 46,
   "metadata": {},
   "outputs": [
    {
     "name": "stdout",
     "output_type": "stream",
     "text": [
      "\n",
      "\n",
      "===================== Searching For Worm =====================\n",
      "  --> This file is 10.7kB.\n",
      "Saving 52 new artist media to /Volumes/Piggy/Discog/artists-datpiff/62/extra/437462-2.p\n",
      "  --> This file is 5.0kB.\n",
      "\n",
      "\n",
      "===================== Searching For Young Zane =====================\n",
      "  --> This file is 10.7kB.\n",
      "Saving 52 new artist media to /Volumes/Piggy/Discog/artists-datpiff/14/extra/8993414-2.p\n",
      "  --> This file is 6.0kB.\n",
      "\n",
      "\n",
      "===================== Searching For Kwik Money =====================\n",
      "  --> This file is 10.7kB.\n",
      "Saving 52 new artist media to /Volumes/Piggy/Discog/artists-datpiff/46/extra/9323446-2.p\n",
      "  --> This file is 5.7kB.\n",
      "\n",
      "\n",
      "===================== Searching For David Ray =====================\n",
      "  --> This file is 10.7kB.\n",
      "Saving 52 new artist media to /Volumes/Piggy/Discog/artists-datpiff/46/extra/4606846-2.p\n",
      "  --> This file is 6.4kB.\n",
      "\n",
      "\n",
      "===================== Searching For Leelee =====================\n",
      "  --> This file is 10.7kB.\n",
      "Saving 37 new artist media to /Volumes/Piggy/Discog/artists-datpiff/63/extra/5915763-2.p\n",
      "  --> This file is 4.7kB.\n",
      "\n",
      "\n",
      "===================== Searching For Lex Topdollar =====================\n",
      "  --> This file is 10.7kB.\n",
      "Saving 21 new artist media to /Volumes/Piggy/Discog/artists-datpiff/67/extra/5858467-2.p\n",
      "  --> This file is 2.7kB.\n",
      "\n",
      "\n",
      "===================== Searching For Chad Armes =====================\n",
      "  --> This file is 10.7kB.\n",
      "Saving 27 new artist media to /Volumes/Piggy/Discog/artists-datpiff/84/extra/7760584-2.p\n",
      "  --> This file is 2.6kB.\n",
      "\n",
      "\n",
      "===================== Searching For Caskey =====================\n",
      "  --> This file is 10.8kB.\n",
      "Saving 52 new artist media to /Volumes/Piggy/Discog/artists-datpiff/73/extra/4936273-2.p\n",
      "  --> This file is 5.1kB.\n",
      "\n",
      "\n",
      "===================== Searching For Nashville Rap =====================\n",
      "  --> This file is 10.8kB.\n",
      "Saving 18 new artist media to /Volumes/Piggy/Discog/artists-datpiff/44/extra/2840144-2.p\n",
      "  --> This file is 2.3kB.\n",
      "\n",
      "\n",
      "===================== Searching For Wizzle Fizzle =====================\n",
      "  --> This file is 10.8kB.\n",
      "Saving 15 new artist media to /Volumes/Piggy/Discog/artists-datpiff/80/extra/9358480-2.p\n",
      "  --> This file is 2.0kB.\n",
      "\n",
      "\n",
      "===================== Searching For Jayme Pearl =====================\n",
      "  --> This file is 10.8kB.\n",
      "Saving 17 new artist media to /Volumes/Piggy/Discog/artists-datpiff/45/extra/3204145-2.p\n",
      "  --> This file is 2.0kB.\n",
      "\n",
      "\n",
      "===================== Searching For Jackie Chain =====================\n",
      "  --> This file is 10.8kB.\n",
      "Saving 52 new artist media to /Volumes/Piggy/Discog/artists-datpiff/51/extra/6811951-2.p\n",
      "  --> This file is 6.7kB.\n",
      "\n",
      "\n",
      "===================== Searching For Cashville =====================\n",
      "  --> This file is 10.8kB.\n",
      "Saving 52 new artist media to /Volumes/Piggy/Discog/artists-datpiff/57/extra/3296757-2.p\n",
      "  --> This file is 4.5kB.\n",
      "\n",
      "\n",
      "===================== Searching For Gt Garza =====================\n",
      "  --> This file is 10.8kB.\n",
      "Saving 52 new artist media to /Volumes/Piggy/Discog/artists-datpiff/65/extra/2364065-2.p\n",
      "  --> This file is 5.4kB.\n",
      "\n",
      "\n",
      "===================== Searching For Big Pokey =====================\n",
      "  --> This file is 10.8kB.\n",
      "Saving 52 new artist media to /Volumes/Piggy/Discog/artists-datpiff/28/extra/7252928-3.p\n",
      "  --> This file is 6.4kB.\n",
      "\n",
      "\n",
      "===================== Searching For Farruko =====================\n",
      "  --> This file is 10.8kB.\n",
      "Saving 50 new artist media to /Volumes/Piggy/Discog/artists-datpiff/99/extra/3659999-2.p\n",
      "  --> This file is 6.5kB.\n",
      "\n",
      "\n",
      "===================== Searching For I4Ni =====================\n",
      "  --> This file is 10.8kB.\n",
      "Saving 24 new artist media to /Volumes/Piggy/Discog/artists-datpiff/92/265392.p\n",
      "  --> This file is 2.4kB.\n",
      "\n",
      "\n",
      "===================== Searching For Propain =====================\n",
      "  --> This file is 10.8kB.\n",
      "Saving 52 new artist media to /Volumes/Piggy/Discog/artists-datpiff/49/extra/3466349-2.p\n",
      "  --> This file is 6.2kB.\n"
     ]
    }
   ],
   "source": [
    "for artist in searchTerms:\n",
    "    dbdata['DatPiff']['Artists'].searchForArtist(artist)"
   ]
  },
  {
   "cell_type": "code",
   "execution_count": 45,
   "metadata": {},
   "outputs": [
    {
     "name": "stdout",
     "output_type": "stream",
     "text": [
      "\n",
      "\n",
      "===================== Searching For Big Pokey =====================\n",
      "  --> This file is 10.7kB.\n",
      "Saving 52 new artist media to /Volumes/Piggy/Discog/artists-datpiff/28/extra/7252928-2.p\n",
      "  --> This file is 6.4kB.\n"
     ]
    }
   ],
   "source": []
  },
  {
   "cell_type": "code",
   "execution_count": 50,
   "metadata": {},
   "outputs": [],
   "source": [
    "def parseArtistsAM(modVal, force=True, doExtra=False):\n",
    "    dbdata[\"AllMusic\"][\"Artists\"].parseArtistModValFiles(modVal, force=force)\n",
    "    #artsAM.parseArtistModValFiles(modVal, force=force)\n",
    "\n",
    "def parseArtistsDC(modVal, force=False, doExtra=False):\n",
    "    dbdata[\"Discogs\"][\"Artists\"].parseArtistModValFiles(modVal, force=force)\n",
    "    #artsDC.parseArtistModValFiles(modVal, force=force)\n",
    "\n",
    "def parseArtistsMB(modVal, force=False, doExtra=False):\n",
    "    dbdata[\"MusicBrainz\"][\"Artists\"].parseArtistModValFiles(modVal, force=force)\n",
    "    #artsMB.parseArtistModValFiles(modVal, force=force)\n",
    "\n",
    "def parseArtistsAB(modVal, force=False, doExtra=False):\n",
    "    artsAB.parseArtistFiles(force=force)\n",
    "    \n",
    "def parseArtistsDP(modVal, force=False, doExtra=False):\n",
    "    dbdata['DatPiff']['Artists'].parseArtistFiles()\n",
    "    #artsDP.parseArtistFiles(force=force)\n",
    "\n",
    "def parseArtistsRM(modVal, force=False, doExtra=False):\n",
    "    dbdata[\"RateYourMusic\"][\"Artists\"].parseArtistModValFiles(modVal, force=force)\n",
    "    #artsRM.parseArtistModValFiles(modVal, force=force)\n",
    "\n",
    "def parseArtistsLM(modVal, force=False, doExtra=False):\n",
    "    dbdata[\"LastFM\"][\"Artists\"].parseArtistModValFiles(modVal, force=force)\n",
    "    #artsLM.parseArtistModValFiles(modVal, force=force)\n",
    "\n",
    "def parseArtistsRC(modVal, force=False, doExtra=False):\n",
    "    dbdata[\"RockCorner\"][\"Artists\"].parseArtistModValFiles(modVal, force=force)\n",
    "    #artsRC.parseArtistModValFiles(modVal, force=force)\n",
    "\n",
    "def parseArtistsCL(modVal, force=False, doExtra=False):\n",
    "    dbdata[\"CDandLP\"][\"Artists\"].parseArtistModValFiles(modVal, force=force)\n",
    "    #artsCL.parseArtistModValFiles(modVal, force=force)\n",
    "\n",
    "def parseArtistsMS(modVal, force=False, doExtra=False):\n",
    "    artsMS.parseArtistFiles(force=force)\n",
    "\n",
    "def parseArtistsMT(modVal, force=False, doExtra=False):\n",
    "    artsMT.parseArtistModValFiles(modVal, force=force)\n",
    "\n",
    "    \n",
    "def parseArtistsParallel(db, nProcs=3, force=False):\n",
    "    pool = Pool(processes=nProcs)\n",
    "    if db == \"Discogs\":\n",
    "        result = pool.map_async(parseArtistsDC, range(100))\n",
    "    elif db == \"AllMusic\":\n",
    "        result = pool.map_async(parseArtistsAM, range(100))\n",
    "    elif db == \"MusicBrainz\":\n",
    "        result = pool.map_async(parseArtistsMB, range(100))\n",
    "    elif db == \"AceBootlegs\":\n",
    "        result = pool.map_async(parseArtistsAB, [None])\n",
    "    elif db == \"DatPiff\":\n",
    "        result = pool.map_async(parseArtistsDP, [None])\n",
    "    elif db == \"RateYourMusic\":\n",
    "        dbdata[\"RateYourMusic\"][\"Artists\"].parseDownloadedFiles()\n",
    "        result = pool.map_async(parseArtistsRM, range(100))\n",
    "    elif db == \"LastFM\":\n",
    "        result = pool.map_async(parseArtistsLM, range(100))\n",
    "    elif db == \"RockCorner\":\n",
    "        result = pool.map_async(parseArtistsRC, range(100))\n",
    "    elif db == \"CDandLP\":\n",
    "        result = pool.map_async(parseArtistsCL, range(100))\n",
    "        #result = pool.map_async(parseArtistsCL, range(56,72))\n",
    "        #result = pool.map_async(parseArtistsCL, [55,25,26])\n",
    "    elif db == \"MusicStack\":\n",
    "        result = pool.map_async(parseArtistsMS, [None])\n",
    "    elif db == \"MetalStorm\":\n",
    "        result = pool.map_async(parseArtistsMT, range(100))\n",
    "    else:\n",
    "        raise ValueError(\"[{0}] is not recognized as a DB\".format(db))\n",
    "\n",
    "    while not result.ready():\n",
    "        if force is True:\n",
    "            time.sleep(10)\n",
    "        else:\n",
    "            time.sleep(1)\n",
    "    print(\"\")\n",
    "    return result.get()"
   ]
  },
  {
   "cell_type": "code",
   "execution_count": 52,
   "metadata": {},
   "outputs": [
    {
     "name": "stdout",
     "output_type": "stream",
     "text": [
      "Current Time is Sat Jun 27, 2020 19:55:16 for Parsing All Artists\n",
      "Current Time is Sat Jun 27, 2020 19:55:16 for Parallel Artist Parsing\n",
      "Current Time is Sat Jun 27, 2020 19:55:16 for Done with Parallel Artist Parsing\n",
      "Process [Done with Parallel Artist Parsing] took 75 microseconds.\n",
      "Current Time is Sat Jun 27, 2020 19:55:16 for Done with Parsing All Artists\n",
      "Process [Done with Parsing All Artists] took 542 microseconds.\n"
     ]
    }
   ],
   "source": [
    "start,cmt=clock(\"Parsing All Artists\")\n",
    "start2,cmt2=clock(\"Parallel Artist Parsing\")\n",
    "#parseArtistsParallel(db=\"AllMusic\", nProcs=3)\n",
    "#parseArtistsParallel(db=\"MusicBrainz\", nProcs=3)\n",
    "#parseArtistsParallel(db=\"Discogs\", nProcs=3)\n",
    "#parseArtistsParallel(db=\"AceBootlegs\", nProcs=1)\n",
    "#parseArtistsParallel(db=\"DatPiff\", nProcs=1)\n",
    "#parseArtistsParallel(db=\"RateYourMusic\", nProcs=3)\n",
    "#parseArtistsParallel(db=\"LastFM\", nProcs=3)\n",
    "#parseArtistsParallel(db=\"RockCorner\", nProcs=3)\n",
    "#parseArtistsParallel(db=\"CDandLP\", nProcs=3)\n",
    "#parseArtistsParallel(db=\"MusicStack\", nProcs=1)\n",
    "elapsed(start2, cmt2)\n",
    "elapsed(start, cmt)"
   ]
  },
  {
   "cell_type": "code",
   "execution_count": null,
   "metadata": {},
   "outputs": [],
   "source": [
    "from webUtils import getHTML\n",
    "bsdata = getHTML(\"/Volumes/Piggy/Discog/artists-allmusic/93/0003563493.p\")"
   ]
  },
  {
   "cell_type": "code",
   "execution_count": null,
   "metadata": {},
   "outputs": [],
   "source": [
    "bsdata"
   ]
  },
  {
   "cell_type": "markdown",
   "metadata": {},
   "source": [
    "# Download My Known Artists"
   ]
  },
  {
   "cell_type": "code",
   "execution_count": null,
   "metadata": {},
   "outputs": [],
   "source": [
    "mdb = myMusicDBMap(debug=True)"
   ]
  },
  {
   "cell_type": "code",
   "execution_count": null,
   "metadata": {},
   "outputs": [],
   "source": [
    "dbsToGet = [\"AllMusic\", \"Discogs\", \"MusicBrainz\", \"LastFM\", \"RockCorner\", \"CDandLP\"]\n",
    "searches = [dbdata[\"AllMusic\"][\"Artists\"].searchAllMusicForArtist, dbdata[\"Discogs\"][\"Artists\"].searchDiscogForArtist,\n",
    "            dbdata[\"MusicBrainz\"][\"Artists\"].searchMusicBrainzForArtist, dbdata[\"LastFM\"][\"Artists\"].searchLastFMForArtist,\n",
    "            dbdata[\"RockCorner\"][\"Artists\"].searchRockCornerForArtist, dbdata[\"CDandLP\"][\"Artists\"].searchCDandLPForArtist]\n",
    "\n",
    "dbsToGet = [\"AllMusic\"]\n",
    "searches = [dbdata[\"AllMusic\"][\"Artists\"].searchAllMusicForArtist]"
   ]
  },
  {
   "cell_type": "code",
   "execution_count": null,
   "metadata": {},
   "outputs": [],
   "source": [
    "def searchAll(mdb, minI=-1):\n",
    "    nArtists = len(mdb.getArtists())\n",
    "    for i,artistName in enumerate(mdb.getArtists()):\n",
    "        if i <= minI:\n",
    "            continue\n",
    "\n",
    "        print('\\n\\n\\n')\n",
    "        print('-'*130)\n",
    "        print(i,'/',nArtists,'===>\\t',artistName)\n",
    "        print('-'*130)\n",
    "        print('\\n')\n",
    "        \n",
    "        dbdata = mdb.getArtistData(artistName)\n",
    "        if all([dbdata.get(\"LastFM\"), dbdata.get(\"Discogs\"), dbdata.get(\"AllMusic\"), dbdata.get(\"MusicBrainz\")]):\n",
    "            print(\"{0} is well known.\".format(artistName))\n",
    "            continue\n",
    "        else:\n",
    "            print(\"{0} get it!\".format(artistName))\n",
    "\n",
    "        for search in searches:\n",
    "            print(\"====>\",search)\n",
    "            try:\n",
    "                search(artistName)\n",
    "            except:\n",
    "                sleep(3)"
   ]
  },
  {
   "cell_type": "code",
   "execution_count": null,
   "metadata": {},
   "outputs": [],
   "source": [
    "searchAll(mdb, 3404)"
   ]
  },
  {
   "cell_type": "code",
   "execution_count": null,
   "metadata": {},
   "outputs": [],
   "source": [
    "# Refused"
   ]
  },
  {
   "cell_type": "markdown",
   "metadata": {},
   "source": [
    "# Albums"
   ]
  },
  {
   "cell_type": "code",
   "execution_count": null,
   "metadata": {},
   "outputs": [],
   "source": [
    "%load_ext autoreload\n",
    "%autoreload\n",
    "from album import album\n",
    "from albums import albums\n",
    "from discogsBase import discogs\n",
    "\n",
    "disc = discogs()\n",
    "albs = albums(disc)\n",
    "#albs.parseAlbumModValFiles(modVal=27)"
   ]
  },
  {
   "cell_type": "code",
   "execution_count": null,
   "metadata": {},
   "outputs": [],
   "source": [
    "def parseAlbums(modVal):\n",
    "    albs.parseAlbumModValFiles(modVal=modVal)\n",
    "    #albs.createAlbumModValMetadata(modVal)\n",
    "    #albs.createAlbumModValMetadata(modVal=modVal)\n",
    "\n",
    "def parseAlbumsParallel(modVals=None):\n",
    "    if modVals is None:\n",
    "        modVals = [\"NAN\"] + list(range(100))\n",
    "        #modVals = range(100)\n",
    "    nProcs = 2\n",
    "    pool = Pool(processes=nProcs)\n",
    "    result = pool.map_async(parseAlbums, modVals)\n",
    " \n",
    "    start, cmt = clock(\"Processing {0} modVals using {1} processes\".format(modVals, nProcs))\n",
    "    print(\"Runing .\",end=\"\")\n",
    "    while not result.ready():\n",
    "        #print(\".\",end=\"\")\n",
    "        time.sleep(10)\n",
    "    print(\"\")\n",
    "    \n",
    "    elapsed(start, cmt)\n",
    "    return result.get()"
   ]
  },
  {
   "cell_type": "code",
   "execution_count": null,
   "metadata": {},
   "outputs": [],
   "source": [
    "%load_ext autoreload\n",
    "%autoreload\n",
    "from album import album\n",
    "from albums import albums\n",
    "albs = albums(disc)\n",
    "\n",
    "start,cmt=clock(\"Parsing All Albums\")\n",
    "start2,cmt2=clock(\"Parallel Album Parsing\")\n",
    "parseAlbumsParallel()\n",
    "elapsed(start2, cmt2)\n",
    "elapsed(start, cmt)"
   ]
  },
  {
   "cell_type": "code",
   "execution_count": null,
   "metadata": {},
   "outputs": [],
   "source": [
    "from fsUtils import removeFile"
   ]
  }
 ],
 "metadata": {
  "kernelspec": {
   "display_name": "Python 3",
   "language": "python",
   "name": "python3"
  },
  "language_info": {
   "codemirror_mode": {
    "name": "ipython",
    "version": 3
   },
   "file_extension": ".py",
   "mimetype": "text/x-python",
   "name": "python",
   "nbconvert_exporter": "python",
   "pygments_lexer": "ipython3",
   "version": "3.7.7"
  }
 },
 "nbformat": 4,
 "nbformat_minor": 2
}
