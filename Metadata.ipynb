{
 "cells": [
  {
   "cell_type": "code",
   "execution_count": null,
   "metadata": {},
   "outputs": [],
   "source": [
    "## Basic stuff\n",
    "%load_ext autoreload\n",
    "%autoreload\n",
    "from IPython.core.display import display, HTML\n",
    "display(HTML(\"<style>.container { width:100% !important; }</style>\"))\n",
    "display(HTML(\"\"\"<style>div.output_area{max-height:10000px;overflow:scroll;}</style>\"\"\"))\n",
    "\n",
    "## Python Version\n",
    "import sys\n",
    "print(\"Python: {0}\".format(sys.version))\n",
    "\n",
    "from ioUtils import saveJoblib, loadJoblib, saveFile, getFile\n",
    "import urllib\n",
    "from urllib.parse import quote\n",
    "\n",
    "from discogsBase import discogs\n",
    "from discogsUtils import discogsUtils\n",
    "from collection import collections\n",
    "from artist import artist\n",
    "from timeUtils import clock, elapsed\n",
    "from fsUtils import moveFile, setFile, setDir, setSubDir, isFile, isDir, mkDir\n",
    "from fileUtils import getFileBasics, getBasename\n",
    "from artists import artists\n",
    "from albums import albums\n",
    "from time import sleep\n",
    "import time\n",
    "from multiprocessing import Pool\n",
    "\n",
    "import datetime as dt\n",
    "start = dt.datetime.now()\n",
    "print(\"Notebook Last Run Initiated: \"+str(start))"
   ]
  },
  {
   "cell_type": "code",
   "execution_count": null,
   "metadata": {
    "scrolled": true
   },
   "outputs": [],
   "source": [
    "%load_ext autoreload\n",
    "%autoreload\n",
    "disc = discogs()\n",
    "arts = artists(disc)\n",
    "albs = albums(disc)\n",
    "dutils = discogsUtils()"
   ]
  },
  {
   "cell_type": "markdown",
   "metadata": {},
   "source": [
    "# Collections"
   ]
  },
  {
   "cell_type": "code",
   "execution_count": null,
   "metadata": {},
   "outputs": [],
   "source": [
    "%load_ext autoreload\n",
    "%autoreload\n",
    "col = collections(disc)\n",
    "#col.parseCollections(force=False)\n",
    "#col.createCollectionDBs()"
   ]
  },
  {
   "cell_type": "markdown",
   "metadata": {},
   "source": [
    "# Artists"
   ]
  },
  {
   "cell_type": "code",
   "execution_count": null,
   "metadata": {},
   "outputs": [],
   "source": [
    "%load_ext autoreload\n",
    "%autoreload\n",
    "\n",
    "def parseArtists(arts, force=False):\n",
    "    for modVal in range(18,19):\n",
    "        arts.parseArtistModValFiles(modVal, force=force)\n",
    "        arts.parseArtistModValExtraFiles(modVal)\n",
    "\n",
    "from artist import artist\n",
    "from artists import artists\n",
    "arts = artists(disc)\n",
    "\n",
    "#parseArtists(arts, True)\n",
    "#arts.parseArtistFiles(force=False)\n",
    "#if False:\n",
    "#art.searchDiscogForArtist(\"$uicideboy$\")\n",
    "arts.buildMetadata(force=False, doAlbums=True)"
   ]
  },
  {
   "cell_type": "markdown",
   "metadata": {},
   "source": [
    "# New Artists From Albums"
   ]
  },
  {
   "cell_type": "code",
   "execution_count": null,
   "metadata": {},
   "outputs": [],
   "source": [
    "%load_ext autoreload\n",
    "%autoreload\n",
    "from albums import albums\n",
    "\n",
    "disc = discogs()\n",
    "albs = albums(disc)\n",
    "toget = albs.findMissingArtistsFromAlbums()"
   ]
  },
  {
   "cell_type": "code",
   "execution_count": null,
   "metadata": {},
   "outputs": [],
   "source": [
    "from time import sleep\n",
    "togetmap  = toget['togetmap']\n",
    "refstoget = toget['toget']\n",
    "for ia,item in enumerate(refstoget.most_common()):\n",
    "    print('\\n{0}/{1}'.format(ia,len(refstoget)))\n",
    "    artistID, cnt = item[0], item[1]\n",
    "    ref      = togetmap[artistID]\n",
    "    url      = arts.getArtistURL(ref)\n",
    "    savename = arts.getArtistSavename(artistID)\n",
    "    if not isFile(savename):\n",
    "        try:\n",
    "            arts.downloadArtistURL(url, savename, debug=True)\n",
    "        except:\n",
    "            continue\n",
    "        sleep(2)\n",
    "    #print(item)\n",
    "#len(togetmap)"
   ]
  },
  {
   "cell_type": "markdown",
   "metadata": {},
   "source": [
    "# Albums"
   ]
  },
  {
   "cell_type": "code",
   "execution_count": null,
   "metadata": {},
   "outputs": [],
   "source": [
    "def parseAlbums(modVal, force=False):\n",
    "    albs.parseAlbumModValFiles(modVal=modVal, force=force)\n",
    "    \n",
    "%load_ext autoreload\n",
    "%autoreload\n",
    "from album import album\n",
    "from albums import albums\n",
    "albs = albums(disc)\n",
    "\n",
    "\n",
    "def f_amp(modVals=100):\n",
    "    nProcs = 3\n",
    "    pool = Pool(processes=nProcs)\n",
    "    result = pool.map_async(parseAlbums, range(100))\n",
    " \n",
    "    start, cmt = clock(\"Processing {0} modVals using {1} processes\".format(modVals, nProcs))\n",
    "    print(\"Runing .\",end=\"\")\n",
    "    while not result.ready():\n",
    "        #print(\".\",end=\"\")\n",
    "        time.sleep(10)\n",
    "    print(\"\")\n",
    "    \n",
    "    elapsed(start, cmt)\n",
    "    return result.get()\n",
    "\n",
    "start,cmt=clock(\"Parsing All Albums\")\n",
    "start2,cmt2=clock(\"Parallel Album Parsing\")\n",
    "albs.parseAlbumModValFiles(modVal='NAN', force=False)\n",
    "f_amp()\n",
    "elapsed(start2, cmt2)\n",
    "albs.buildMetadata(force=False)\n",
    "elapsed(start, cmt)"
   ]
  },
  {
   "cell_type": "markdown",
   "metadata": {},
   "source": [
    "# New Albums"
   ]
  },
  {
   "cell_type": "code",
   "execution_count": null,
   "metadata": {},
   "outputs": [],
   "source": [
    "%load_ext autoreload\n",
    "%autoreload\n",
    "from albums import albums\n",
    "disc = discogs()\n",
    "albs = albums(disc)\n",
    "albs.downloadAlbumsFromArtists(maxAlbums=3, mediaTypes=None, rand=True)"
   ]
  },
  {
   "cell_type": "code",
   "execution_count": null,
   "metadata": {},
   "outputs": [],
   "source": [
    "for k,v in db.items():\n",
    "    print(k,v)\n",
    "    break"
   ]
  },
  {
   "cell_type": "code",
   "execution_count": null,
   "metadata": {},
   "outputs": [],
   "source": [
    "f1=\"/Volumes/Music/Discog/albums/6/102506/482739.p\"\n",
    "#f2=\"/Volumes/Music/Discog/albums/6/102506/7303693.p\"\n",
    "#albData1 = alb.getData(f1)\n",
    "f2=\"/Volumes/Music/Discog/albums/11/567511/3386791.p\"\n",
    "albData2 = alb.getData(f2)"
   ]
  },
  {
   "cell_type": "code",
   "execution_count": null,
   "metadata": {},
   "outputs": [],
   "source": [
    "albData1.album"
   ]
  },
  {
   "cell_type": "code",
   "execution_count": null,
   "metadata": {},
   "outputs": [],
   "source": [
    "for k,v in albData2.get().items():\n",
    "    try:\n",
    "        print(k,v.get())\n",
    "    except:\n",
    "        print(k,v)"
   ]
  },
  {
   "cell_type": "code",
   "execution_count": null,
   "metadata": {},
   "outputs": [],
   "source": [
    "for k,v in albData1.get().items():\n",
    "    try:\n",
    "        print(k,v.get())\n",
    "    except:\n",
    "        print(k,v)"
   ]
  },
  {
   "cell_type": "code",
   "execution_count": null,
   "metadata": {},
   "outputs": [],
   "source": []
  },
  {
   "cell_type": "code",
   "execution_count": null,
   "metadata": {},
   "outputs": [],
   "source": [
    "from album import album\n",
    "from fileUtils import getsize\n",
    "alb = album()\n",
    "for ifile in files:\n",
    "    print(getsize(ifile))\n",
    "    #alb.getData(ifile)"
   ]
  },
  {
   "cell_type": "code",
   "execution_count": null,
   "metadata": {
    "scrolled": false
   },
   "outputs": [],
   "source": [
    "for modVal in range(58,59):\n",
    "    arts.parseArtistModValFiles(modVal=modVal, force=False)"
   ]
  },
  {
   "cell_type": "markdown",
   "metadata": {},
   "source": [
    "dbArt = disc.getArtistIDToNameData()\n",
    "dbCol = disc.getCollectionIDToRefData()\n",
    "artistDBDir = disc.getArtistsDBDir()"
   ]
  },
  {
   "cell_type": "code",
   "execution_count": null,
   "metadata": {},
   "outputs": [],
   "source": [
    "from time import sleep\n",
    "refs = [dbCol.get('716158')]\n",
    "for ref in refs:\n",
    "    if ref is None:\n",
    "        continue\n",
    "    print(\"REF --> {0}\".format(ref))\n",
    "    href = ref.replace(\"https://www.discogs.com/artist/\", \"\")\n",
    "    artistID = dutils.getArtistID(ref)\n",
    "    modValue = dutils.getDiscIDHashMod(discID=artistID, modval=disc.getMaxModVal())\n",
    "\n",
    "    if True:\n",
    "        dbname  = setFile(artistDBDir, \"{0}-DB.p\".format(modValue))     \n",
    "        print(\"Loading {0}\".format(dbname))\n",
    "        dbdata  = getFile(dbname)\n",
    "\n",
    "        try:\n",
    "            del dbdata[artistID]\n",
    "            print(\"Deleted {0}\".format(artistID))\n",
    "        except:\n",
    "            print(\"Not there...\")\n",
    "\n",
    "        print(\"Saving {0}\".format(dbname))\n",
    "        saveFile(idata=dbdata, ifile=dbname)\n",
    "\n",
    "    url = arts.getArtistURL(ref)\n",
    "    savename = arts.getArtistSavename(artistID)\n",
    "    arts.downloadArtistURL(url=url, savename=savename, parse=True, force=True, debug=True)\n",
    "    sleep(1)"
   ]
  },
  {
   "cell_type": "code",
   "execution_count": null,
   "metadata": {},
   "outputs": [],
   "source": [
    "import time\n",
    "from multiprocessing import Pool\n",
    " \n",
    "def f(a_list):\n",
    "    out = 0\n",
    "    for n in a_list:\n",
    "        out += n*n\n",
    "        time.sleep(0.1)\n",
    " \n",
    "    return out\n",
    " \n",
    "def f_mp(a_list):\n",
    "    chunks = [a_list[i::5] for i in range(5)]\n",
    " \n",
    "    pool = Pool(processes=5)\n",
    " \n",
    "    result = pool.map(f, chunks)\n",
    " \n",
    "    return sum(result)"
   ]
  },
  {
   "cell_type": "code",
   "execution_count": null,
   "metadata": {},
   "outputs": [],
   "source": [
    "import time\n",
    "from multiprocessing import Pool\n",
    " \n",
    "def f(a_list):\n",
    "    out = 0\n",
    "    for n in a_list:\n",
    "        out += n*n\n",
    "        time.sleep(0.1)\n",
    " \n",
    "    return out\n",
    " \n",
    "def f_amp(a_list):\n",
    "    chunks = [a_list[i::5] for i in range(5)]\n",
    " \n",
    "    pool = Pool(processes=5)\n",
    " \n",
    "    result = pool.map_async(f, chunks)\n",
    " \n",
    "    while not result.ready():\n",
    "        print(\"Running...\")\n",
    "        time.sleep(0.5)\n",
    " \n",
    "    return sum(result.get())"
   ]
  },
  {
   "cell_type": "code",
   "execution_count": null,
   "metadata": {},
   "outputs": [],
   "source": [
    "L = [{0: True}, {1: True}, {2: True}, {3: True}, {4: True}]"
   ]
  },
  {
   "cell_type": "code",
   "execution_count": null,
   "metadata": {},
   "outputs": [],
   "source": [
    "{k: v for d in L for k, v in d.items()}"
   ]
  },
  {
   "cell_type": "code",
   "execution_count": null,
   "metadata": {},
   "outputs": [],
   "source": [
    "import time\n",
    "from multiprocessing import Pool\n",
    " \n",
    "artistDir = disc.getArtistsDir()\n",
    "maxModVal = disc.getMaxModVal()\n",
    "artistInfo = artist()\n",
    "artistDBDir = disc.getArtistsDBDir()   "
   ]
  },
  {
   "cell_type": "code",
   "execution_count": null,
   "metadata": {},
   "outputs": [],
   "source": []
  },
  {
   "cell_type": "code",
   "execution_count": null,
   "metadata": {},
   "outputs": [],
   "source": [
    "len(files)"
   ]
  },
  {
   "cell_type": "code",
   "execution_count": null,
   "metadata": {},
   "outputs": [],
   "source": [
    "from fileUtils import getBaseFilename\n",
    "import time\n",
    "from multiprocessing import Pool\n",
    "\n",
    "def f(finput):\n",
    "    a_list = finput[\"Data\"]\n",
    "    dbdata = finput[\"DB\"]\n",
    "    out = []\n",
    "    for ifile in a_list:\n",
    "        discID = getBaseFilename(ifile)\n",
    "        if dbdata.get(discID) is None:\n",
    "            out.append(ifile)\n",
    "            \n",
    "    return out\n",
    "\n",
    "def fDB(modVal):\n",
    "    saveIt = arts.parseArtistModValFiles(modVal, force=True)\n",
    "    \n",
    "    if False:\n",
    "        from searchUtils import findExt\n",
    "        files = findExt(setDir(artistDir, str(modVal)), ext=\"*.p\")\n",
    "        dbname = setFile(artistDBDir, \"{0}-DB.p\".format(modVal))\n",
    "        dbdata = getFile(dbname, version=3)\n",
    "\n",
    "        out = []\n",
    "        saveIt = 0\n",
    "        for ifile in files:\n",
    "            discID = getBaseFilename(ifile)\n",
    "            if dbdata.get(discID) is None:\n",
    "                info   = artistInfo.getData(ifile)\n",
    "                dbdata[discID] = info\n",
    "                saveIt += 1\n",
    "\n",
    "        if saveIt > 0:\n",
    "            savename = setFile(artistDBDir, \"{0}-DB.p\".format(modVal))\n",
    "            print(\"Saving {0} new artist IDs to {1}\".format(saveIt, savename))\n",
    "            saveJoblib(data=dbdata, filename=savename, compress=True)\n",
    "        \n",
    "    return saveIt\n",
    "\n",
    " \n",
    "def f_ampFiles(a_list, dbdata):\n",
    "    nProcs = 1\n",
    "    chunks = [a_list[i::nProcs] for i in range(nProcs)]\n",
    "\n",
    "    for c in chunks:\n",
    "        print(len(c))\n",
    "    \n",
    "    pool = Pool(processes=nProcs)\n",
    "    \n",
    "    \n",
    " \n",
    "    finputs = [{\"Data\": chunk, \"DB\": dbdata} for chunk in chunks]\n",
    "    result = pool.map_async(f, finputs)\n",
    " \n",
    "    start, cmt = clock(\"Processing {0} files using {1} processes\".format(len(files), nProcs))\n",
    "    print(\"Runing .\",end=\"\")\n",
    "    while not result.ready():\n",
    "        print(\".\",end=\"\")\n",
    "        time.sleep(1)\n",
    "    print(\"\")\n",
    "    \n",
    "    elapsed(start, cmt)\n",
    "    return result.get()\n",
    "\n",
    "\n",
    "\n",
    " \n",
    "def f_amp(modVals):\n",
    "    nProcs = 3\n",
    "    pool = Pool(processes=nProcs)\n",
    "    result = pool.map_async(fDB, range(3,modVals))\n",
    " \n",
    "    start, cmt = clock(\"Processing {0} modVals using {1} processes\".format(modVals, nProcs))\n",
    "    print(\"Runing .\",end=\"\")\n",
    "    while not result.ready():\n",
    "        print(\".\",end=\"\")\n",
    "        time.sleep(1)\n",
    "    print(\"\")\n",
    "    \n",
    "    elapsed(start, cmt)\n",
    "    return result.get()"
   ]
  },
  {
   "cell_type": "code",
   "execution_count": null,
   "metadata": {},
   "outputs": [],
   "source": [
    "from timeUtils import clock, elapsed\n",
    "retval = f_amp(100)\n",
    "#flat_list = [item for sublist in retval for item in sublist]\n",
    "#print(len(flat_list))"
   ]
  },
  {
   "cell_type": "code",
   "execution_count": null,
   "metadata": {},
   "outputs": [],
   "source": [
    "dbname = setFile(artistDBDir, \"{0}-DB.p\".format(67))            \n",
    "dbdata = getFile(dbname, version=3)"
   ]
  },
  {
   "cell_type": "code",
   "execution_count": null,
   "metadata": {},
   "outputs": [],
   "source": [
    "modVals = 1\n",
    "nProcs = 1\n",
    "start, cmt = clock(\"Processing {0} modVals using {1} processes\".format(modVals, nProcs))\n",
    "print(\"Runing .\",end=\"\")\n",
    "retval = fDB(modVals)\n",
    "print(\"\")\n",
    "elapsed(start, cmt)\n"
   ]
  },
  {
   "cell_type": "code",
   "execution_count": null,
   "metadata": {},
   "outputs": [],
   "source": [
    "retval"
   ]
  },
  {
   "cell_type": "code",
   "execution_count": null,
   "metadata": {},
   "outputs": [],
   "source": [
    "vals=\"\"\"1,708,466 US\n",
    "1,708,466 UK\n",
    "1,154,284 Germany\n",
    "637,261 France\n",
    "493,079 Japan\n",
    "490,698 Italy\n",
    "434,681 Canada\n",
    "433,543 Europe\n",
    "416,965 Netherlands\n",
    "339,738 Spain\n",
    "320,714 Unknown\n",
    "259,587 Russia\n",
    "259,579 Australia\n",
    "189,431 Sweden\n",
    "164,278 Belgium\n",
    "149,548 Brazil\n",
    "131,106 Greece\n",
    "124,488 Poland\n",
    "121,249 Jamaica\n",
    "105,887 Finland\n",
    "86,538 Switzerland\n",
    "85,145 USSR\n",
    "80,203 Mexico\n",
    "79,972 Denmark\n",
    "77,131 Portugal\n",
    "75,979 Norway\n",
    "75,533 UK & Europe\n",
    "67,292 Austria\n",
    "63,672 Argentina\"\"\""
   ]
  },
  {
   "cell_type": "code",
   "execution_count": null,
   "metadata": {},
   "outputs": [],
   "source": [
    "countries = [\" \".join(x.split()[1:]) for x in vals.split(\"\\n\")]\n",
    "saveFile(idata=countries, ifile=\"countries.p\")"
   ]
  },
  {
   "cell_type": "code",
   "execution_count": null,
   "metadata": {},
   "outputs": [],
   "source": [
    "countries"
   ]
  },
  {
   "cell_type": "code",
   "execution_count": null,
   "metadata": {},
   "outputs": [],
   "source": []
  }
 ],
 "metadata": {
  "kernelspec": {
   "display_name": "Python 3",
   "language": "python",
   "name": "python3"
  },
  "language_info": {
   "codemirror_mode": {
    "name": "ipython",
    "version": 3
   },
   "file_extension": ".py",
   "mimetype": "text/x-python",
   "name": "python",
   "nbconvert_exporter": "python",
   "pygments_lexer": "ipython3",
   "version": "3.7.3"
  }
 },
 "nbformat": 4,
 "nbformat_minor": 2
}
