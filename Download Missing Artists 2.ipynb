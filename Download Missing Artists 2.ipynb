{
 "cells": [
  {
   "cell_type": "markdown",
   "metadata": {},
   "source": [
    "# Discogs"
   ]
  },
  {
   "cell_type": "code",
   "execution_count": 1,
   "metadata": {},
   "outputs": [
    {
     "data": {
      "text/html": [
       "<style>.container { width:100% !important; }</style>"
      ],
      "text/plain": [
       "<IPython.core.display.HTML object>"
      ]
     },
     "metadata": {},
     "output_type": "display_data"
    },
    {
     "data": {
      "text/html": [
       "<style>div.output_area{max-height:10000px;overflow:scroll;}</style>"
      ],
      "text/plain": [
       "<IPython.core.display.HTML object>"
      ]
     },
     "metadata": {},
     "output_type": "display_data"
    },
    {
     "name": "stderr",
     "output_type": "stream",
     "text": [
      "/Users/tgadfort/opt/anaconda3/envs/py37/lib/python3.7/site-packages/sklearn/externals/joblib/__init__.py:15: FutureWarning: sklearn.externals.joblib is deprecated in 0.21 and will be removed in 0.23. Please import this functionality directly from joblib, which can be installed with: pip install joblib. If this warning is raised when loading pickled models, you may need to re-serialize those models with scikit-learn 0.21+.\n",
      "  warnings.warn(msg, category=FutureWarning)\n"
     ]
    },
    {
     "name": "stdout",
     "output_type": "stream",
     "text": [
      "Python: 3.7.7 (default, Mar 26 2020, 10:32:53) \n",
      "[Clang 4.0.1 (tags/RELEASE_401/final)]\n",
      "Notebook Last Run Initiated: 2020-11-12 21:27:28.605726\n"
     ]
    }
   ],
   "source": [
    "######################################################\n",
    "# Juypter\n",
    "######################################################\n",
    "%load_ext autoreload\n",
    "%autoreload\n",
    "from IPython.core.display import display, HTML\n",
    "display(HTML(\"<style>.container { width:100% !important; }</style>\"))\n",
    "display(HTML(\"\"\"<style>div.output_area{max-height:10000px;overflow:scroll;}</style>\"\"\"))\n",
    "\n",
    "\n",
    "######################################################\n",
    "# General\n",
    "######################################################\n",
    "from ioUtils import saveJoblib, loadJoblib, saveFile, getFile\n",
    "import urllib\n",
    "from urllib.parse import quote\n",
    "from timeUtils import clock, elapsed\n",
    "from fsUtils import moveFile, setFile, setDir, setSubDir, isFile, isDir, mkDir\n",
    "from ioUtils import getFile, saveFile\n",
    "from fileUtils import getFileBasics, getBasename\n",
    "from webUtils import getWebData, getHTML, getURL\n",
    "from time import sleep\n",
    "import time\n",
    "from multiprocessing import Pool\n",
    "\n",
    "\n",
    "######################################################\n",
    "# Music Stuff\n",
    "######################################################\n",
    "from dbBase import dbBase\n",
    "from multiArtist import multiartist\n",
    "from myMusicDBMap import myMusicDBMap\n",
    "from mainDB import mainDB\n",
    "from parseDBArtistsData import parseDBArtistsData\n",
    "\n",
    "\n",
    "######################################################\n",
    "# Versions\n",
    "######################################################\n",
    "import sys\n",
    "print(\"Python: {0}\".format(sys.version))\n",
    "import datetime as dt\n",
    "start = dt.datetime.now()\n",
    "print(\"Notebook Last Run Initiated: \"+str(start))"
   ]
  },
  {
   "cell_type": "markdown",
   "metadata": {},
   "source": [
    "# Initialize"
   ]
  },
  {
   "cell_type": "code",
   "execution_count": 7,
   "metadata": {},
   "outputs": [
    {
     "name": "stdout",
     "output_type": "stream",
     "text": [
      "Setting Basic Database Objects\n",
      "=========================   discogs   =========================\n",
      "=========================   allmusic   =========================\n",
      "=========================   musicbrainz   =========================\n",
      "=========================   lastfm   =========================\n",
      "=========================   rockcorner   =========================\n",
      "=========================   acebootlegs   =========================\n",
      "=========================   cdandlp   =========================\n",
      "=========================   rateyourmusic   =========================\n",
      "=========================   musicstack   =========================\n",
      "Database Records:\n",
      "  Creating Database Records for Discogs\n",
      "  Creating Database Records for AllMusic\n",
      "  Creating Database Records for MusicBrainz\n",
      "  Creating Database Records for LastFM\n",
      "  Creating Database Records for RockCorner\n",
      "  Creating Database Records for AceBootlegs\n",
      "  Creating Database Records for CDandLP\n",
      "  Creating Database Records for RateYourMusic\n",
      "  Creating Database Records for MusicStack\n",
      "Available DBs: Discogs, AllMusic, MusicBrainz, LastFM, RockCorner, AceBootlegs, CDandLP, RateYourMusic, MusicStack\n",
      "Help on mainDB in module mainDB object:\n",
      "\n",
      "class mainDB(builtins.object)\n",
      " |  mainDB(mdb=None, create=False, debug=False)\n",
      " |  \n",
      " |  Methods defined here:\n",
      " |  \n",
      " |  __init__(self, mdb=None, create=False, debug=False)\n",
      " |      Initialize self.  See help(type(self)) for accurate signature.\n",
      " |  \n",
      " |  get(self)\n",
      " |  \n",
      " |  getBasicArtistInfo(self, name)\n",
      " |      ############################################################################################################\n",
      " |      # Helper Functions\n",
      " |      ############################################################################################################\n",
      " |  \n",
      " |  getDBData(self, db)\n",
      " |  \n",
      " |  getDBs(self)\n",
      " |  \n",
      " |  getFullArtistAlbumDBs(self)\n",
      " |  \n",
      " |  getFullArtistDBs(self)\n",
      " |  \n",
      " |  getFullArtistInfo(self, name)\n",
      " |  \n",
      " |  getKnownArtistAlbumDBs(self)\n",
      " |  \n",
      " |  getKnownArtistDBs(self)\n",
      " |  \n",
      " |  loadDBDataMap(self)\n",
      " |  \n",
      " |  setDBBasic(self)\n",
      " |  \n",
      " |  setDBFull(self, db=None)\n",
      " |      #################################\n",
      " |      # Known DB Data\n",
      " |      #################################\n",
      " |  \n",
      " |  setDBKnown(self, db=None)\n",
      " |      #################################\n",
      " |      # Known DB Data\n",
      " |      #################################\n",
      " |  \n",
      " |  ----------------------------------------------------------------------\n",
      " |  Data descriptors defined here:\n",
      " |  \n",
      " |  __dict__\n",
      " |      dictionary for instance variables (if defined)\n",
      " |  \n",
      " |  __weakref__\n",
      " |      list of weak references to the object (if defined)\n",
      "\n"
     ]
    }
   ],
   "source": [
    "maindb = mainDB(mdb=None, create=False, debug=True)\n",
    "help(maindb)\n",
    "dbdata = maindb.dbdata"
   ]
  },
  {
   "cell_type": "markdown",
   "metadata": {},
   "source": [
    "# Specific Downloads"
   ]
  },
  {
   "cell_type": "code",
   "execution_count": 11,
   "metadata": {
    "scrolled": true
   },
   "outputs": [
    {
     "name": "stdout",
     "output_type": "stream",
     "text": [
      "1\n",
      "Setting Basic Database Objects\n",
      "=========================   discogs   =========================\n",
      "=========================   allmusic   =========================\n",
      "=========================   musicbrainz   =========================\n",
      "=========================   lastfm   =========================\n",
      "=========================   rockcorner   =========================\n",
      "=========================   acebootlegs   =========================\n",
      "=========================   cdandlp   =========================\n",
      "=========================   rateyourmusic   =========================\n",
      "=========================   musicstack   =========================\n",
      "Database Records:\n",
      "  Creating Database Records for Discogs\n",
      "  Creating Database Records for AllMusic\n",
      "  Creating Database Records for MusicBrainz\n",
      "  Creating Database Records for LastFM\n",
      "  Creating Database Records for RockCorner\n",
      "  Creating Database Records for AceBootlegs\n",
      "  Creating Database Records for CDandLP\n",
      "  Creating Database Records for RateYourMusic\n",
      "  Creating Database Records for MusicStack\n",
      "Available DBs: Discogs, AllMusic, MusicBrainz, LastFM, RockCorner, AceBootlegs, CDandLP, RateYourMusic, MusicStack\n",
      "AllMusic\n",
      "====================================================================================================\n",
      "====================================================================================================\n",
      "0 / 1 \t United Schach Corporation\n",
      "====================================================================================================\n",
      "0 / 1 \t United Schach Corporation ===> AllMusic\n",
      "\n",
      "\n",
      "===================== Searching For United Schach Corporation =====================\n",
      "1 / 1 \t: 0000809424 \t https://www.allmusic.com/artist/united-schach-corporation-mn0000809424/discography/all\n",
      "Downloading again.\n",
      "Saving /Volumes/Piggy/Discog/artists-allmusic/24/0000809424.p (force=True)\n",
      "  --> This file is 14.4kB.\n",
      "Done. Sleeping for 2 seconds\n"
     ]
    }
   ],
   "source": [
    "specificDownloads = True\n",
    "if specificDownloads:\n",
    "    ifile = \"unmatchedArtists4.p\"\n",
    "    #noMatches = getFile(ifile)\n",
    "    #noMatches = ['Ava Max']\n",
    "\n",
    "\n",
    "    #noMatches=['The Tubes', 'Alan Hartwell Big Band', 'Eyeball', 'Jamie Walters', 'Peabo Bryson', 'A-Mase', 'Cribabi', 'Dave Wakeling', 'James Ingram', 'Ranking Roger', 'Roland Gift', 'Rupert Holmes', 'Survivor', 'Tineidae', 'Bananarama', 'Roy Drusky', 'Stardust', 'Stoker', 'Hinder', 'Patrick Swayze', 'Cherie Currie', 'Helen Reddy', 'Vanden Plas', 'Corona', 'Kashmir', 'Ray LaMontagne', 'Starfighter', 'Susan Boyle', 'The Urge', 'Alessia Cara', 'Shakila', 'Tonic']\n",
    "\n",
    "    noMatches=['David Frizzell & Shelly West', 'Matt Monroe', 'Shenandoah', 'Steve Lawrence & Eydie Gorme', 'Aimless', 'André Previn', 'Anthrax', 'Antibalas', 'Antonio Vivaldi', 'Avenged Sevenfold', 'Bernhoft', 'Billy Corgan', 'Calexico', 'Cult', 'DJ Jean', 'Franz Liszt', 'Georges Bizet', 'Hector Berlioz', 'Levon Helm', 'Mieczyslaw Horszowski', 'NRBQ', 'P.O.D.', 'Richard Wagner', 'Robert Schumann', 'Strange Advance', 'Suzanne Haïk Vantoura', 'The Big Wu']\n",
    "    noMatches=[\"Voyage\", \"Bronco: El Gigante De America\", \"The Tahitian Choir\", 'US3', 'Banda Z', 'Juan Gabriel Con Banda El Recodo', 'Renan Almendarez Coello']\n",
    "    noMatches=[\"JT Money\"]\n",
    "    noMatches=[\"Nina Mya\"]\n",
    "    noMatches=[\"Ryan Adams\"]\n",
    "    noMatches=[\"The Misfits\"]\n",
    "    noMatches=[\"Reality Jones\"]\n",
    "    noMatches=[\"The Gap Band\", \"The Lou Gramm Band\", \"Blank Statements\", \"Statement\"]\n",
    "    noMatches+=[\"Gravity Kills\", \"Gravity Wax\", \"Joe King Carrasco & the Crowns\", \"Joe King Carrasco and The El Molino Band\", \"G Herbo\", \"Lil Herb\"]\n",
    "    noMatches+=[\"Albion\", \"Awolnation\", \"Bastille\", \"Burner\", \"Churn\", \"Coro De Monjes Del Monasterio De Santo Domingo De Silos\"]\n",
    "    noMatches+=[\"Dan Melchior's Broke Revue\", \"Ed Thigpen\", \"Pigpen\", \"Rodney Allen\", \"The Incomparable Shakespeare\", \"The Rich Kidz\"]\n",
    "    noMatches+=[\"Certainly, Sir\"]\n",
    "    noMatches=[\"United Schach Corporation\"]\n",
    "    \n",
    "    print(len(noMatches))\n",
    "    #dbs = ['Discogs', 'MusicBrainz', 'LastFM']\n",
    "    dbs = ['AllMusic', 'Discogs', 'MusicBrainz', 'LastFM']\n",
    "    dbs = ['AllMusic']\n",
    "    #dbs = ['AllMusic', 'Discogs', 'MusicBrainz', 'LastFM']\n",
    "    #dbs = ['Discogs']\n",
    "    #dbs = [\"LastFM\"]\n",
    "\n",
    "\n",
    "    maindb = mainDB(mdb=None, create=True, debug=True)\n",
    "    pdb = parseDBArtistsData(maindb=maindb)\n",
    "\n",
    "    from time import sleep\n",
    "    maxI = -1\n",
    "    for db in dbs:\n",
    "        print(db)\n",
    "        for i,artist in enumerate(noMatches):\n",
    "            print(\"=\"*100)\n",
    "            print(\"=\"*100)\n",
    "            print(i,'/',len(noMatches),'\\t',artist)\n",
    "            print(\"=\"*100)\n",
    "            print(i,'/',len(noMatches),'\\t',artist,'===>',db)\n",
    "            #try:\n",
    "            maindb.dbdata[db][\"Artists\"].searchForArtist(artist, force=True)\n",
    "            #except:\n",
    "            #    sleep(5)"
   ]
  },
  {
   "cell_type": "markdown",
   "metadata": {},
   "source": [
    "# Download Extra Data"
   ]
  },
  {
   "cell_type": "code",
   "execution_count": null,
   "metadata": {},
   "outputs": [],
   "source": [
    "aam = dbdata[\"AllMusic\"][\"Artists\"].getData('/Volumes/Piggy/Discog/artists-allmusic/49/0000639849.p')\n",
    "aam.show()"
   ]
  },
  {
   "cell_type": "code",
   "execution_count": null,
   "metadata": {
    "scrolled": true
   },
   "outputs": [],
   "source": [
    "#dbdata[\"LastFM\"][\"Artists\"].assertDBModValExtraData(15, test=False)"
   ]
  },
  {
   "cell_type": "code",
   "execution_count": null,
   "metadata": {},
   "outputs": [],
   "source": [
    "from random import randint, shuffle\n",
    "modVals = list(range(100))\n",
    "shuffle(modVals)\n",
    "for modVal in modVals:\n",
    "    dbdata[\"LastFM\"][\"Artists\"].assertDBModValExtraData(modVal, test=False, maxPages=20)"
   ]
  },
  {
   "cell_type": "markdown",
   "metadata": {},
   "source": [
    "# Download Artist Data"
   ]
  },
  {
   "cell_type": "code",
   "execution_count": null,
   "metadata": {},
   "outputs": [],
   "source": [
    "artsDC.downloadArtistUnofficialFromID(144998)"
   ]
  },
  {
   "cell_type": "code",
   "execution_count": null,
   "metadata": {},
   "outputs": [],
   "source": [
    "maindb.getBasicArtistInfo(\"Black Sabbath\")"
   ]
  },
  {
   "cell_type": "code",
   "execution_count": null,
   "metadata": {},
   "outputs": [],
   "source": [
    "dbdata[\"Discogs\"][\"Artists\"].downloadArtistUnofficialFromID('144998', '/artist/144998-Black-Sabbath')\n",
    "#/artist/144998-Black-Sabbath?type=Unofficial&subtype=Albums&filter_anv=0\"\n",
    "#/artist/144998-Black-Sabbath?sort=year%2Casc&limit=500&type=Unofficial&subtype=Albums&filter_anv=0&page=1"
   ]
  },
  {
   "cell_type": "code",
   "execution_count": null,
   "metadata": {},
   "outputs": [],
   "source": [
    "retval = dbdata[\"Discogs\"][\"Artist\"].getData(\"/Users/tgadfort/Music/Discog/artists-discogs/98/unofficial/144998.p\")"
   ]
  },
  {
   "cell_type": "code",
   "execution_count": null,
   "metadata": {},
   "outputs": [],
   "source": [
    "bsdata = getHTML(\"/Users/tgadfort/Music/Discog/artists-discogs/98/unofficial/144998.p\")"
   ]
  },
  {
   "cell_type": "code",
   "execution_count": null,
   "metadata": {},
   "outputs": [],
   "source": [
    "retval.get()"
   ]
  },
  {
   "cell_type": "code",
   "execution_count": null,
   "metadata": {},
   "outputs": [],
   "source": [
    "retval.get()['artist'].get()"
   ]
  },
  {
   "cell_type": "code",
   "execution_count": null,
   "metadata": {},
   "outputs": [],
   "source": []
  },
  {
   "cell_type": "markdown",
   "metadata": {},
   "source": [
    "# Music DB"
   ]
  },
  {
   "cell_type": "code",
   "execution_count": null,
   "metadata": {},
   "outputs": [],
   "source": [
    "https://www.discogs.com/artist/144998-Black-Sabbath?sort=year%2Casc&limit=500?type=Unofficial&subtype=Albums&filter_anv=0\n",
    "https://www.discogs.com/artist/144998-Black-Sabbath?sort=year%2Casc&limit=500&type=Unofficial&subtype=Albums&filter_anv=0&page=1\n",
    "    \n",
    "artistIDToRef = disc.getArtistIDToRefData()"
   ]
  },
  {
   "cell_type": "code",
   "execution_count": null,
   "metadata": {},
   "outputs": [],
   "source": [
    "myMusicAlbumIDMap = getFile(\"/Users/tgadfort/Documents/code/music/musicDiscogsMap.p\")"
   ]
  },
  {
   "cell_type": "code",
   "execution_count": null,
   "metadata": {},
   "outputs": [],
   "source": [
    "dR=0.2\n",
    "rC=0.8"
   ]
  },
  {
   "cell_type": "code",
   "execution_count": null,
   "metadata": {},
   "outputs": [],
   "source": [
    "from time import sleep\n",
    "N = len(myMusicAlbumIDMap)\n",
    "for i,(artistName,artistVals) in enumerate(myMusicAlbumIDMap.items()):\n",
    "    if artistName.startswith(\"Levl\") is False:\n",
    "        continue\n",
    "    artistID,discogsName = artistVals\n",
    "    print(i,N,'\\t',artistName)\n",
    "    artsDC.searchDiscogForArtist(artistName)\n",
    "    artsAM.searchAllMusicForArtist(artistName)\n",
    "    artsMB.searchMusicBrainzForArtist(artistName)\n",
    "    sleep(3)"
   ]
  },
  {
   "cell_type": "code",
   "execution_count": null,
   "metadata": {},
   "outputs": [],
   "source": [
    "artistIDs = [v[0] for k,v in myMusicAlbumIDMap.items()]\n",
    "arts.rmIDsFromDBs(artistIDs)"
   ]
  },
  {
   "cell_type": "code",
   "execution_count": null,
   "metadata": {},
   "outputs": [],
   "source": [
    "arts.parseArtistModValFiles(96, force=False)\n",
    "arts.parseArtistModValExtraFiles(96)"
   ]
  },
  {
   "cell_type": "code",
   "execution_count": null,
   "metadata": {},
   "outputs": [],
   "source": [
    "files = [savename]\n",
    "from glob import glob\n",
    "from os.path import join\n",
    "from fileUtils import getDirname\n",
    "files += glob(join(getDirname(savename), \"extra\", \"{0}-*.p\".format(artistID)))\n",
    "files"
   ]
  },
  {
   "cell_type": "markdown",
   "metadata": {},
   "source": [
    "# Download Missing Artists"
   ]
  },
  {
   "cell_type": "code",
   "execution_count": null,
   "metadata": {},
   "outputs": [],
   "source": [
    "%load_ext autoreload\n",
    "%autoreload\n",
    "from albums import albums\n",
    "from discogsBase import discogs\n",
    "\n",
    "disc  = discogs()\n",
    "albs  = albums(disc)\n",
    "toget = albs.findMissingArtistsFromAlbums()\n",
    "\n",
    "from ioUtils import saveFile\n",
    "saveFile(idata=toget, ifile=\"missingArtistsFromAlbums.p\")"
   ]
  },
  {
   "cell_type": "code",
   "execution_count": null,
   "metadata": {},
   "outputs": [],
   "source": [
    "%load_ext autoreload\n",
    "%autoreload\n",
    "disc = discogs()\n",
    "arts = artists(disc)\n",
    "\n",
    "from ioUtils import getFile\n",
    "\n",
    "toget = getFile(ifile=\"missingArtistsFromAlbums.p\")\n",
    "\n",
    "from time import sleep\n",
    "togetmap  = toget['togetmap']\n",
    "refstoget = toget['toget']\n",
    "for ia,item in enumerate(refstoget.most_common()):\n",
    "    artistID, cnt = item[0], item[1]\n",
    "    ref      = togetmap[artistID]\n",
    "    url      = arts.getArtistURL(ref)\n",
    "    savename = arts.getArtistSavename(artistID)\n",
    "    if not isFile(savename):\n",
    "        try:\n",
    "            print('\\n{0}/{1}'.format(ia,len(refstoget)))\n",
    "            retval = arts.downloadArtistURL(url, savename, debug=True)\n",
    "            sleep(3)\n",
    "        except:\n",
    "            continue\n",
    "    else:\n",
    "        print(\"{0} known\".format(savename))\n",
    "            \n",
    "    #print(item)\n",
    "#len(togetmap)"
   ]
  },
  {
   "cell_type": "markdown",
   "metadata": {},
   "source": [
    "# Redownload Known Artist"
   ]
  },
  {
   "cell_type": "code",
   "execution_count": null,
   "metadata": {},
   "outputs": [],
   "source": [
    "myMusicMap = getFile(\"/Users/tgadfort/Documents/code/music/myMusicMap.p\")"
   ]
  },
  {
   "cell_type": "code",
   "execution_count": null,
   "metadata": {},
   "outputs": [],
   "source": [
    "musicMap = myMusicMap[\"Ladies of Soul\"]\n",
    "musicMap"
   ]
  },
  {
   "cell_type": "code",
   "execution_count": null,
   "metadata": {},
   "outputs": [],
   "source": [
    "discDCIDToRef = discDC.getArtistIDToRefData()"
   ]
  },
  {
   "cell_type": "code",
   "execution_count": null,
   "metadata": {},
   "outputs": [],
   "source": [
    "artistID  = musicMap['Discogs']['ID']\n",
    "artistRef = discDCIDToRef.get(artistID)\n",
    "artsDC.downloadArtistFromID(artistID=artistID, artistRef=artistRef, force=True)"
   ]
  },
  {
   "cell_type": "markdown",
   "metadata": {},
   "source": [
    "# Download Unmatched Artists"
   ]
  },
  {
   "cell_type": "code",
   "execution_count": null,
   "metadata": {},
   "outputs": [],
   "source": [
    "matchedResults = getFile(\"/Users/tgadfort/Documents/code/music/multiArtists.p\")"
   ]
  },
  {
   "cell_type": "code",
   "execution_count": null,
   "metadata": {},
   "outputs": [],
   "source": [
    "searchForArtist = {\"Discogs\": artsDC.searchDiscogForArtist, \"AllMusic\": artsAM.searchAllMusicForArtist, \"MusicBrainz\": artsMB.searchMusicBrainzForArtist}"
   ]
  },
  {
   "cell_type": "code",
   "execution_count": null,
   "metadata": {},
   "outputs": [],
   "source": [
    "from time import sleep\n",
    "for i,(artistName,artistValues) in enumerate(matchedResults[\"PartiallyUnknown\"].items()):\n",
    "    if i <= 83:\n",
    "        continue\n",
    "    print(\"=========== {0} [{1}/{2}] ===========\".format(artistName, i, len(matchedResults[\"PartiallyUnknown\"])))\n",
    "    for dbKey, dirval in artistValues.items():\n",
    "        print(artistName,'\\t',searchForArtist[dbKey])\n",
    "        searchForArtist[dbKey](artistName)\n",
    "        sleep(1)\n",
    "    sleep(1)"
   ]
  },
  {
   "cell_type": "code",
   "execution_count": null,
   "metadata": {},
   "outputs": [],
   "source": []
  },
  {
   "cell_type": "code",
   "execution_count": null,
   "metadata": {},
   "outputs": [],
   "source": []
  },
  {
   "cell_type": "code",
   "execution_count": null,
   "metadata": {},
   "outputs": [],
   "source": []
  },
  {
   "cell_type": "markdown",
   "metadata": {},
   "source": [
    "# Missing Artists From Albums"
   ]
  },
  {
   "cell_type": "code",
   "execution_count": null,
   "metadata": {},
   "outputs": [],
   "source": [
    "%load_ext autoreload\n",
    "%autoreload\n",
    "from albums import albums\n",
    "from discogsBase import discogs\n",
    "\n",
    "disc  = discogs()\n",
    "albs  = albums(disc)\n",
    "toget = albs.findMissingArtistsFromAlbums()"
   ]
  },
  {
   "cell_type": "code",
   "execution_count": null,
   "metadata": {},
   "outputs": [],
   "source": [
    "%load_ext autoreload\n",
    "%autoreload\n",
    "disc = discogs()\n",
    "arts = artists(disc)\n",
    "\n",
    "from time import sleep\n",
    "togetmap  = toget['togetmap']\n",
    "refstoget = toget['toget']\n",
    "for ia,item in enumerate(refstoget.most_common()):\n",
    "    artistID, cnt = item[0], item[1]\n",
    "    ref      = togetmap[artistID]\n",
    "    url      = arts.getArtistURL(ref)\n",
    "    savename = arts.getArtistSavename(artistID)\n",
    "    if not isFile(savename):\n",
    "        try:\n",
    "            _, _ = clock('\\n{0}/{1}'.format(ia,len(refstoget)))\n",
    "            retval = arts.downloadArtistURL(url, savename, debug=True)\n",
    "        except:\n",
    "            continue\n",
    "    else:\n",
    "        print(\"{0} known\".format(savename))\n",
    "            \n",
    "    #print(item)\n",
    "#len(togetmap)"
   ]
  },
  {
   "cell_type": "markdown",
   "metadata": {},
   "source": [
    "# Artists From Search"
   ]
  },
  {
   "cell_type": "code",
   "execution_count": null,
   "metadata": {},
   "outputs": [],
   "source": [
    "%load_ext autoreload\n",
    "%autoreload\n",
    "disc = discogs()\n",
    "arts = artists(disc)\n",
    "arts.searchDiscogForArtist(\"World of Our Own\")\n",
    "#arts.searchDiscogForArtist(\"Continental Divide\")"
   ]
  },
  {
   "cell_type": "code",
   "execution_count": null,
   "metadata": {},
   "outputs": [],
   "source": [
    "from ioUtils import getFile"
   ]
  },
  {
   "cell_type": "code",
   "execution_count": null,
   "metadata": {},
   "outputs": [],
   "source": [
    "toGet = getFile(ifile=\"/Users/tgadfort/Documents/code/charts/chartCounter.p\", debug=True)"
   ]
  },
  {
   "cell_type": "code",
   "execution_count": null,
   "metadata": {},
   "outputs": [],
   "source": [
    "toGet = getFile(\"~/code/charts/toget.p\")"
   ]
  },
  {
   "cell_type": "code",
   "execution_count": null,
   "metadata": {},
   "outputs": [],
   "source": [
    "for i,val in enumerate(toGet):\n",
    "    if i <= 206:\n",
    "        continue\n",
    "    print('='*30,val,'(',i,'/',len(toGet),')','='*30)\n",
    "    arts.searchDiscogForArtist(val)\n",
    "    print(\"\\n\\n\\n\")\n",
    "    sleep(2)"
   ]
  },
  {
   "cell_type": "code",
   "execution_count": null,
   "metadata": {},
   "outputs": [],
   "source": [
    "from time import sleep\n",
    "vals  = [\"The Souvenirs\", \"The Stand\", f\"The Suicide Kings\", \"The Supremes\", \"The Temptations\", \"The Tomcats\", \"The Tone\", \"The Tourists\", \"The Unseen\", \"The Ventures\", \"The Vikings\", \"The Violents\", \"The Wailers\", \"The Want\", \"The Washingtonians\", \"The Witches\", \"UB40\", \"Underdog\", \"Unearth\", \"Unk\", \"Unscarred\", \"Up Front\", \"Up In Arms\", \"Urban Legends\"]\n",
    "vals += [\"The Pits\", \"The Pressure\", \"The Pretenders\", \"The Prodigy\", \"The Product\", \"The Receptionists\", \"The Retardos\", \"The Revelers\", \"The Romancers\", \"The Roots\", \"The Rosehips\", \"The Ruiners\", \"The Runaways\", \"The Scholars\", \"The Seeds\", \"The Shams\", \"The Sights\", \"The Sillies\", \"The Skunks\", \"The Snowmen\"]\n",
    "vals += [\"The Invisible Men\", \"The Israelites\", \"The Ivory Coast\", \"The Killers\", \"The Manatees\", \"The Marquees\", \"The Masters\", \"The Matrix\", \"The Mixtures\", \"The Moves\", \"The Noisettes\", \"The Nomads\", \"The Orange Peels\", \"The Outcasts\"]\n",
    "vals += [\"The Game\", \"The Generics\", \"The Gits\", \"The Go-Betweens\", \"The Goblins\", \"The Godz\", \"The Great Society\", \"The Haters\", \"The Hilltops\", \"The Hookers\", \"The Immortals\", \"The Impacts\", \"The Inspector\", \"The Invaders\"]\n",
    "vals += [\"The Diamonds\", \"The Diplomats\", \"The Dramatics\", \"The Drifters\", \"The Dust Brothers\", \"The Eagles\", \"The Exceptions\", \"The Fiends\", \"The Fixtures\", \"The Frantics\", \"The Freeze\", \"The Frogs\", \"The Fumes\"]\n",
    "vals += [\"The Cardigans\", \"The Casualties\", \"The Challengers\", \"The Chameleons\", \"The Cheaters\", \"The Chicken Hawks\", \"The Crash\", \"The Crusaders\", \"The Cure\", \"The Darts\", \"The Deuce Coupes\"]\n",
    "vals += [\"The Beat\", \"The Beatles\", \"The Blood Brothers\", \"The Blow Up\", \"The Bollweevils\", \"The Brentwoods\", \"The Broadways\", \"The Brood\", \"The Business\", \"The Busy Signals\"]\n",
    "vals += [\"You\", \"Young Money\", \"Young Pioneers\", \"Zero Zero\"]\n",
    "for val in vals:\n",
    "    print('='*30,val,'='*30)\n",
    "    try:\n",
    "        arts.searchDiscogForArtist(val)\n",
    "    except:\n",
    "        continue\n",
    "    print(\"\\n\\n\\n\")\n",
    "    sleep(10)"
   ]
  },
  {
   "cell_type": "code",
   "execution_count": null,
   "metadata": {},
   "outputs": [],
   "source": []
  },
  {
   "cell_type": "markdown",
   "metadata": {},
   "source": [
    "# New Artists From Albums"
   ]
  },
  {
   "cell_type": "code",
   "execution_count": null,
   "metadata": {},
   "outputs": [],
   "source": [
    "%load_ext autoreload\n",
    "%autoreload\n",
    "from albums import albums\n",
    "\n",
    "disc = discogs()\n",
    "albs = albums(disc)\n",
    "toget = albs.findMissingArtistsFromAlbums()"
   ]
  },
  {
   "cell_type": "code",
   "execution_count": null,
   "metadata": {},
   "outputs": [],
   "source": [
    "from time import sleep\n",
    "togetmap  = toget['togetmap']\n",
    "refstoget = toget['toget']\n",
    "for ia,item in enumerate(refstoget.most_common()):\n",
    "    print('\\n{0}/{1}'.format(ia,len(refstoget)))\n",
    "    artistID, cnt = item[0], item[1]\n",
    "    ref      = togetmap[artistID]\n",
    "    url      = arts.getArtistURL(ref)\n",
    "    savename = arts.getArtistSavename(artistID)\n",
    "    if not isFile(savename):\n",
    "        try:\n",
    "            arts.downloadArtistURL(url, savename, debug=True)\n",
    "        except:\n",
    "            continue\n",
    "        sleep(2)\n",
    "    #print(item)\n",
    "#len(togetmap)"
   ]
  },
  {
   "cell_type": "markdown",
   "metadata": {},
   "source": [
    "# Albums From Known People"
   ]
  },
  {
   "cell_type": "code",
   "execution_count": null,
   "metadata": {},
   "outputs": [],
   "source": [
    "data = getFile(\"/Volumes/Music/MusicDB/toget.p\")"
   ]
  },
  {
   "cell_type": "code",
   "execution_count": null,
   "metadata": {},
   "outputs": [],
   "source": [
    "%load_ext autoreload\n",
    "%autoreload\n",
    "from albums import albums\n",
    "disc = discogs()\n",
    "discdf = disc.getMasterDiscogsDB()\n",
    "print(discdf.shape)\n",
    "discdf = discdf[~discdf['Name'].isna()]\n",
    "print(discdf.shape)\n",
    "\n",
    "artists = list(discdf[\"Artist\"])\n",
    "\n",
    "_ = clock(\"Last Run\")"
   ]
  },
  {
   "cell_type": "code",
   "execution_count": null,
   "metadata": {},
   "outputs": [],
   "source": [
    "def getMusicData(key, artist):\n",
    "    retval = discdf[discdf[key] == artist]\n",
    "    if retval.shape[0] > 0:\n",
    "        return retval\n",
    "    else:\n",
    "        return None\n",
    "    \n",
    "toget={}\n",
    "known={}\n",
    "\n",
    "for ia,artistName in enumerate(data):\n",
    "    #artistID = artistName\n",
    "    artistID = None\n",
    "    if artistID is None:\n",
    "        retval = getMusicData('Name', artistName)\n",
    "        if retval is not None:\n",
    "            artistID = retval.index.values[0]\n",
    "    modValue  = dutils.getDiscIDHashMod(discID=artistID, modval=disc.getMaxModVal())\n",
    "    if toget.get(modValue) is None:\n",
    "        toget[modValue] = {}\n",
    "    toget[modValue][artistID] = True\n",
    "        \n",
    "    if ia % 100 == 0:\n",
    "        print(ia,'/',len(data))"
   ]
  },
  {
   "cell_type": "code",
   "execution_count": null,
   "metadata": {},
   "outputs": [],
   "source": [
    "for modVal in toget.keys():\n",
    "    artistIDs = toget[modVal]\n",
    "    print(modVal,'\\t',len(artistIDs))\n",
    "    dbdata = disc.getArtistsDBModValData(modVal)\n",
    "    for artistID in artistIDs:\n",
    "        print(' ',artistID)\n",
    "        artistData = dbdata[artistID]\n",
    "        albs.downloadAlbumFromArtistData(artistID=artistID, artistData=artistData, mediaTypes=None)"
   ]
  },
  {
   "cell_type": "markdown",
   "metadata": {},
   "source": [
    "# Albums From All Artists"
   ]
  },
  {
   "cell_type": "code",
   "execution_count": null,
   "metadata": {},
   "outputs": [],
   "source": [
    "%load_ext autoreload\n",
    "%autoreload\n",
    "from albums import albums\n",
    "disc = discogs()\n",
    "albs = albums(disc)\n",
    "albs.downloadAlbumsFromArtists(maxAlbums=1, mediaTypes=None, rand=True)"
   ]
  },
  {
   "cell_type": "code",
   "execution_count": null,
   "metadata": {},
   "outputs": [],
   "source": []
  },
  {
   "cell_type": "code",
   "execution_count": null,
   "metadata": {},
   "outputs": [],
   "source": [
    "maindb = mainDB(mdb=mdb, create=False)\n",
    "#maindb.setDBFull() ## Do this to recreate everything\n",
    "maindb.setDBKnown()\n",
    "artistDBs = maindb.getKnownArtistDBs()"
   ]
  },
  {
   "cell_type": "code",
   "execution_count": null,
   "metadata": {},
   "outputs": [],
   "source": []
  },
  {
   "cell_type": "code",
   "execution_count": null,
   "metadata": {},
   "outputs": [],
   "source": []
  },
  {
   "cell_type": "code",
   "execution_count": null,
   "metadata": {},
   "outputs": [],
   "source": []
  },
  {
   "cell_type": "code",
   "execution_count": null,
   "metadata": {},
   "outputs": [],
   "source": []
  },
  {
   "cell_type": "markdown",
   "metadata": {},
   "source": [
    "# Discogs"
   ]
  },
  {
   "cell_type": "code",
   "execution_count": null,
   "metadata": {},
   "outputs": [],
   "source": [
    "%load_ext autoreload\n",
    "%autoreload\n",
    "from dbArtistsDiscogs import dbArtistsDiscogs\n",
    "ad = dbArtistsDiscogs(debug=True)\n",
    "#ad.searchForArtist(\"Dave Matthews\")\n",
    "#ifile=\"/Users/tgadfort/Music/Discog/artists-discogs/98/unofficial/144998.p\"\n",
    "#ifile=\"/Users/tgadfort/Music/Discog/artists-discogs/70/420570.p\"\n",
    "ifile=\"/Users/tgadfort/Music/Discog/artists-discogs/34/386834.p\"\n",
    "retval = ad.getData(ifile)\n",
    "print(retval.get()['artist'].get())\n",
    "#ad.searchForArtist(\"Niel Diamond\")"
   ]
  },
  {
   "cell_type": "markdown",
   "metadata": {},
   "source": [
    "# AllMusic"
   ]
  },
  {
   "cell_type": "code",
   "execution_count": null,
   "metadata": {},
   "outputs": [],
   "source": [
    "%load_ext autoreload\n",
    "%autoreload\n",
    "from dbArtistsAllMusic import dbArtistsAllMusic\n",
    "am = dbArtistsAllMusic(debug=True)\n",
    "#am.searchForArtist(\"Dave Matthews\")\n",
    "ifile=\"/Users/tgadfort/Music/Discog/artists-allmusic/61/0000687561.p\"\n",
    "#ifile=\"/Users/tgadfort/Music/Discog/artists-discogs/98/unofficial/144998.p\"\n",
    "#ifile=\"/Users/tgadfort/Music/Discog/artists-discogs/70/420570.p\"\n",
    "#ifile=\"/Users/tgadfort/Music/Discog/artists-discogs/34/386834.p\"\n",
    "retval = am.getData(ifile)\n",
    "print(retval.get()['artist'].get())"
   ]
  },
  {
   "cell_type": "markdown",
   "metadata": {},
   "source": [
    "# MusicBrainz"
   ]
  },
  {
   "cell_type": "code",
   "execution_count": null,
   "metadata": {},
   "outputs": [],
   "source": [
    "%load_ext autoreload\n",
    "%autoreload\n",
    "from dbArtistsMusicBrainz import dbArtistsMusicBrainz\n",
    "am = dbArtistsMusicBrainz(debug=True)\n",
    "#am.searchForArtist(\"Dave Matthews\")\n",
    "ifile=\"/Users/tgadfort/Music/Discog/artists-musicbrainz/71/100112022548628725831976514629370881371.p\"\n",
    "retval = am.getData(ifile)\n",
    "print(retval.get()['artist'].get())"
   ]
  },
  {
   "cell_type": "markdown",
   "metadata": {},
   "source": [
    "# LastFM"
   ]
  },
  {
   "cell_type": "code",
   "execution_count": null,
   "metadata": {},
   "outputs": [],
   "source": [
    "%load_ext autoreload\n",
    "%autoreload\n",
    "from dbArtistsLastFM import dbArtistsLastFM\n",
    "am = dbArtistsLastFM(debug=True)\n",
    "#am.searchForArtist(\"Dave Matthews Band\")\n",
    "ifile=\"/Users/tgadfort/Music/Discog/artists-lastfm/14/64101467014.p\"\n",
    "retval = am.getData(ifile)\n",
    "print(retval.get()['artist'].get())"
   ]
  },
  {
   "cell_type": "markdown",
   "metadata": {},
   "source": [
    "# RockCorner"
   ]
  },
  {
   "cell_type": "code",
   "execution_count": null,
   "metadata": {},
   "outputs": [],
   "source": [
    "%load_ext autoreload\n",
    "%autoreload\n",
    "from dbArtistsRockCorner import dbArtistsRockCorner\n",
    "am = dbArtistsRockCorner(debug=True)\n",
    "#am.searchForArtist(\"Dave Matthews Band\")\n",
    "ifile=\"/Users/tgadfort/Music/Discog/artists-rockcorner/67/539215767.p\"\n",
    "retval = am.getData(ifile)\n",
    "print(retval.get()['artist'].get())"
   ]
  },
  {
   "cell_type": "markdown",
   "metadata": {},
   "source": [
    "# RateYourMusic"
   ]
  },
  {
   "cell_type": "code",
   "execution_count": null,
   "metadata": {},
   "outputs": [],
   "source": [
    "%load_ext autoreload\n",
    "%autoreload\n",
    "from dbArtistsRockCorner import dbArtistsRockCorner\n",
    "am = dbArtistsRockCorner(debug=True)\n",
    "#am.searchForArtist(\"Dave Matthews Band\")\n",
    "#ifile=\"/Users/tgadfort/Music/Discog/artists-rockcorner/67/539215767.p\"\n",
    "#retval = am.getData(ifile)\n",
    "#print(retval.get()['artist'].get())"
   ]
  },
  {
   "cell_type": "markdown",
   "metadata": {},
   "source": [
    "# CDandLP"
   ]
  },
  {
   "cell_type": "code",
   "execution_count": null,
   "metadata": {},
   "outputs": [],
   "source": [
    "%load_ext autoreload\n",
    "%autoreload\n",
    "from dbArtistsCDandLP import dbArtistsCDandLP\n",
    "am = dbArtistsCDandLP(debug=True)\n",
    "#am.searchForArtist(\"Dave Matthews Band\")\n",
    "#ifile=\"/Users/tgadfort/Music/Discog/artists-rockcorner/67/539215767.p\"\n",
    "#retval = am.getData(ifile)\n",
    "#print(retval.get()['artist'].get())"
   ]
  },
  {
   "cell_type": "markdown",
   "metadata": {},
   "source": [
    "# AceBootlegs"
   ]
  },
  {
   "cell_type": "code",
   "execution_count": null,
   "metadata": {},
   "outputs": [],
   "source": [
    "%load_ext autoreload\n",
    "%autoreload\n",
    "from dbArtistsAceBootlegs import dbArtistsAceBootlegs\n",
    "am = dbArtistsAceBootlegs(debug=True)\n",
    "#am.searchForArtist(\"Dave Matthews Band\")\n",
    "#ifile=\"/Users/tgadfort/Music/Discog/artists-rockcorner/67/539215767.p\"\n",
    "#retval = am.getData(ifile)\n",
    "#print(retval.get()['artist'].get())"
   ]
  },
  {
   "cell_type": "markdown",
   "metadata": {},
   "source": [
    "# DatPiff"
   ]
  },
  {
   "cell_type": "code",
   "execution_count": null,
   "metadata": {},
   "outputs": [],
   "source": [
    "%load_ext autoreload\n",
    "%autoreload\n",
    "from dbArtistsDatPiff import dbArtistsDatPiff\n",
    "am = dbArtistsDatPiff(debug=True)\n",
    "#am.searchForArtist(\"Dave Matthews Band\")\n",
    "#ifile=\"/Users/tgadfort/Music/Discog/artists-rockcorner/67/539215767.p\"\n",
    "#retval = am.getData(ifile)\n",
    "#print(retval.get()['artist'].get())"
   ]
  },
  {
   "cell_type": "markdown",
   "metadata": {},
   "source": [
    "# MusicStack"
   ]
  },
  {
   "cell_type": "code",
   "execution_count": null,
   "metadata": {},
   "outputs": [],
   "source": [
    "%load_ext autoreload\n",
    "%autoreload\n",
    "from dbArtistsMusicStack import dbArtistsMusicStack\n",
    "am = dbArtistsMusicStack(debug=True)\n",
    "#am.searchForArtist(\"Dave Matthews Band\")\n",
    "#ifile=\"/Users/tgadfort/Music/Discog/artists-rockcorner/67/539215767.p\"\n",
    "#retval = am.getData(ifile)\n",
    "#print(retval.get()['artist'].get())"
   ]
  },
  {
   "cell_type": "code",
   "execution_count": null,
   "metadata": {},
   "outputs": [],
   "source": []
  },
  {
   "cell_type": "code",
   "execution_count": null,
   "metadata": {},
   "outputs": [],
   "source": []
  },
  {
   "cell_type": "code",
   "execution_count": null,
   "metadata": {},
   "outputs": [],
   "source": []
  },
  {
   "cell_type": "code",
   "execution_count": null,
   "metadata": {},
   "outputs": [],
   "source": [
    "ad = artistsDiscogs(debug=True)"
   ]
  },
  {
   "cell_type": "code",
   "execution_count": null,
   "metadata": {},
   "outputs": [],
   "source": [
    "ad = artistsDiscogs(debug=True)\n",
    "ifile=\"/Users/tgadfort/Music/Discog/artists-discogs/98/unofficial/144998.p\"\n",
    "retval = ad.getData(ifile)\n",
    "retval.get()['artist'].get()\n",
    "ad.searchForArtist(\"Niel Diamond\")"
   ]
  },
  {
   "cell_type": "code",
   "execution_count": null,
   "metadata": {},
   "outputs": [],
   "source": [
    "retval = ad.getData(ifile)\n",
    "retval.get()['artist'].get()"
   ]
  },
  {
   "cell_type": "code",
   "execution_count": null,
   "metadata": {},
   "outputs": [],
   "source": [
    "ad.searchForArtist(\"Niel Diamond\")"
   ]
  },
  {
   "cell_type": "code",
   "execution_count": null,
   "metadata": {},
   "outputs": [],
   "source": [
    "from artistAM import artistAM\n",
    "from discogsUtils import allmusicUtils\n",
    "\n",
    "class artistsAllMusic(artistsBase):\n",
    "    def __init__(self, debug=False):\n",
    "        self.db     = \"AllMusic\"\n",
    "        self.disc   = discogs(self.db.lower())\n",
    "        self.artist = artistAM(self.disc)\n",
    "        self.dutils = allmusicUtils()\n",
    "        self.debug  = debug\n",
    "        super().__init__(self.db, self.disc, self.artist, self.dutils, debug=debug)\n",
    "\n",
    "        \n",
    "    ##################################################################################################################\n",
    "    # Artist URL\n",
    "    ##################################################################################################################\n",
    "    def getArtistURL(self, artistRef, page=1):\n",
    "        url = \"{0}/discography/all\".format(artistRef)\n",
    "        return url\n",
    "        \n",
    "        if artistRef.startswith(\"http\"):\n",
    "            return artistRef\n",
    "        else:\n",
    "            baseURL = self.disc.discogURL\n",
    "            url     = urllib.parse.urljoin(baseURL, quote(artistRef))\n",
    "            return url\n",
    "\n",
    "            \n",
    "        if artistRef.startswith(\"/artist/\") is False:\n",
    "            print(\"Artist Ref needs to start with /artist/\")\n",
    "            return None\n",
    "        \n",
    "        baseURL = self.disc.discogURL\n",
    "        url     = urllib.parse.urljoin(baseURL, quote(artistRef))\n",
    "        url     = urllib.parse.urljoin(url, \"?sort=year%2Casc&limit=500\") ## Make sure we get 500 entries)\n",
    "        if isinstance(page, int) and page > 1:\n",
    "            pageURL = \"&page={0}\".format(page)\n",
    "            url = \"{0}{1}\".format(url, pageURL)\n",
    "        return url\n",
    "\n",
    "        \n",
    "    \n",
    "    ##################################################################################################################\n",
    "    # Search Functions\n",
    "    ##################################################################################################################\n",
    "    def searchForArtist(self, artist):\n",
    "        print(\"\\n\\n===================== Searching For {0} =====================\".format(artist))\n",
    "        baseURL = self.disc.discogSearchURL\n",
    "        \n",
    "        url = urllib.parse.urljoin(baseURL, \"{0}{1}\".format(\"artists/\", quote(artist)))\n",
    "                  \n",
    "                    \n",
    "        ## Download data\n",
    "        data, response = self.downloadURL(url)\n",
    "        if response != 200:\n",
    "            print(\"Error downloading {0}\".format(url))\n",
    "            return False\n",
    "\n",
    "        \n",
    "        ## Parse data\n",
    "        bsdata = getHTML(data)\n",
    "        \n",
    "        artistDB  = {}\n",
    "        \n",
    "        uls = bsdata.findAll(\"ul\", {\"class\": \"search-results\"})\n",
    "        for ul in uls:\n",
    "            lis = ul.findAll(\"li\", {\"class\": \"artist\"})\n",
    "            for li in lis:\n",
    "                divs = li.findAll(\"div\", {\"class\": \"name\"})\n",
    "                for div in divs:\n",
    "                    link     = div.find(\"a\")\n",
    "                    href     = link.attrs['href']\n",
    "                    tooltip  = link.attrs['data-tooltip']\n",
    "                    try:\n",
    "                        from json import loads\n",
    "                        tooltip = loads(tooltip)\n",
    "                        artistID = tooltip['id']\n",
    "                    except:\n",
    "                        artistID = None\n",
    "            \n",
    "                    if artistDB.get(href) is None:\n",
    "                        artistDB[href] = {\"N\": 0, \"Name\": artist}\n",
    "                    artistDB[href][\"N\"] += 1\n",
    "        \n",
    "    \n",
    "        if self.debug:\n",
    "            print(\"Found {0} artists\".format(len(artistDB)))\n",
    "                \n",
    "        iArtist = 0\n",
    "        for href, hrefData in artistDB.items():\n",
    "            iArtist += 1\n",
    "        \n",
    "            discID   = self.dutils.getArtistID(href)\n",
    "            url      = self.getArtistURL(href)\n",
    "            savename = self.getArtistSavename(discID)\n",
    "\n",
    "            print(iArtist,'/',len(artistDB),'\\t:',discID,'\\t',url)\n",
    "            \n",
    "            if isFile(savename):\n",
    "                continue\n",
    "\n",
    "            self.downloadArtistURL(url, savename)"
   ]
  },
  {
   "cell_type": "code",
   "execution_count": null,
   "metadata": {},
   "outputs": [],
   "source": [
    "am = artistsAllMusic(debug=True)\n",
    "#am.searchForArtist(\"Niel Diamond\")"
   ]
  },
  {
   "cell_type": "code",
   "execution_count": null,
   "metadata": {},
   "outputs": [],
   "source": [
    "from artistMB import artistMB\n",
    "from discogsUtils import musicbrainzUtils\n",
    "from hashlib import md5\n",
    "\n",
    "class artistsMusicBrainz(artistsBase):\n",
    "    def __init__(self, debug=False):\n",
    "        self.db     = \"MusicBrainz\"\n",
    "        self.disc   = discogs(self.db.lower())\n",
    "        self.artist = artistMB(self.disc)\n",
    "        self.dutils = musicbrainzUtils()\n",
    "        self.debug  = debug\n",
    "        super().__init__(self.db, self.disc, self.artist, self.dutils, debug=debug)\n",
    "\n",
    "        \n",
    "    ##################################################################################################################\n",
    "    # Artist URL\n",
    "    ##################################################################################################################\n",
    "    def getArtistURL(self, artistRef, page=1):\n",
    "        baseURL = self.disc.discogURL\n",
    "        url     = urllib.parse.urljoin(baseURL, artistRef)\n",
    "        return url\n",
    "\n",
    "        \n",
    "    ##################################################################################################################\n",
    "    # Search Functions\n",
    "    ##################################################################################################################\n",
    "    def searchForArtist(self, artist):\n",
    "        print(\"\\n\\n===================== Searching For {0} =====================\".format(artist))\n",
    "        baseURL = \"https://musicbrainz.org/\"\n",
    "        extra = \"search?query={0}&type=artist&limit=100&method=indexed\".format(quote(artist))\n",
    "\n",
    "        url = urllib.parse.urljoin(baseURL, extra)         \n",
    "                    \n",
    "        ## Download data\n",
    "        data, response = self.downloadURL(url)\n",
    "        if response != 200:\n",
    "            print(\"Error downloading {0}\".format(url))\n",
    "            return False\n",
    "\n",
    "        \n",
    "        ## Parse data\n",
    "        bsdata = getHTML(data)\n",
    "        \n",
    "        artistDB  = {}\n",
    "\n",
    "        tables = bsdata.findAll(\"table\")\n",
    "        for table in tables:\n",
    "            ths = table.findAll(\"th\")\n",
    "            headers = [x.text for x in ths]\n",
    "            trs = table.findAll(\"tr\")\n",
    "            for tr in trs[1:]:\n",
    "                tds    = tr.findAll(\"td\")\n",
    "                name   = tds[0].find('a').text\n",
    "                href   = tds[0].find('a').attrs['href']\n",
    "            \n",
    "                if artistDB.get(href) is None:\n",
    "                    artistDB[href] = {\"N\": 0, \"Name\": name}\n",
    "                artistDB[href][\"N\"] += 1\n",
    "        \n",
    "    \n",
    "        if self.debug:\n",
    "            print(\"Found {0} artists\".format(len(artistDB)))\n",
    "                \n",
    "        iArtist = 0\n",
    "        for href, hrefData in artistDB.items():\n",
    "            iArtist += 1\n",
    "\n",
    "            discID   = self.dutils.getArtistID(href)\n",
    "            \n",
    "            uuid = href.split('/')[-1]\n",
    "\n",
    "            m = md5()\n",
    "            for val in uuid.split(\"-\"):\n",
    "                m.update(val.encode('utf-8'))\n",
    "            hashval = m.hexdigest()\n",
    "            discID  = str(int(hashval, 16))\n",
    "\n",
    "            url      = self.getArtistURL(href)\n",
    "            savename = self.getArtistSavename(discID)\n",
    "\n",
    "            print(iArtist,'/',len(artistDB),'\\t:',discID,'\\t',url)\n",
    "            \n",
    "            if isFile(savename):\n",
    "                continue\n",
    "\n",
    "            self.downloadArtistURL(url, savename)"
   ]
  },
  {
   "cell_type": "code",
   "execution_count": null,
   "metadata": {},
   "outputs": [],
   "source": [
    "am = artistsMusicBrainz(debug=True)\n",
    "#am.searchForArtist(\"Niel Diamond\")"
   ]
  },
  {
   "cell_type": "code",
   "execution_count": null,
   "metadata": {},
   "outputs": [],
   "source": [
    "from artistLM import artistLM\n",
    "from discogsUtils import lastfmUtils\n",
    "\n",
    "class artistsLastFM(artistsBase):\n",
    "    def __init__(self, debug=False):\n",
    "        self.db     = \"LastFM\"\n",
    "        self.disc   = discogs(self.db.lower())\n",
    "        self.artist = artistLM(self.disc)\n",
    "        self.dutils = lastfmUtils()\n",
    "        self.debug  = debug\n",
    "        super().__init__(self.db, self.disc, self.artist, self.dutils, debug=debug)\n",
    "\n",
    "        \n",
    "    ##################################################################################################################\n",
    "    # Artist URL\n",
    "    ##################################################################################################################\n",
    "    def getArtistURL(self, artistRef, page=1):\n",
    "        #print(\"getArtistURL(\",artistRef,\")\")\n",
    "        if artistRef.startswith(\"http\"):\n",
    "            url = artistRef\n",
    "        else:\n",
    "            baseURL = self.disc.discogURL\n",
    "            if artistRef.startswith(\"/\") is True:\n",
    "                #print(\"Join\", end=\"\\t\")\n",
    "                url     = urllib.parse.urljoin(baseURL, quote(artistRef[1:]))\n",
    "                #print(url)\n",
    "            else:\n",
    "                url     = urllib.parse.urljoin(baseURL, quote(artistRef))\n",
    "            #print(url)\n",
    "                \n",
    "            if url.endswith(\"/\") is False:\n",
    "                url     = \"{0}{1}\".format(url, \"/+albums?order=release_date\")\n",
    "            else:\n",
    "                url     = \"{0}{1}\".format(url, \"+albums?order=release_date\")\n",
    "                \n",
    "            #print(url)\n",
    "        \n",
    "        if isinstance(page, int) and page > 1:\n",
    "            pageURL = \"&page={0}\".format(page)\n",
    "            url = \"{0}{1}\".format(url, pageURL)\n",
    "        return url\n",
    "\n",
    "        \n",
    "    ##################################################################################################################\n",
    "    # Search Functions\n",
    "    ##################################################################################################################\n",
    "    def searchForArtist(self, artist):\n",
    "        print(\"\\n\\n===================== Searching For {0} =====================\".format(artist))\n",
    "        baseURL = self.disc.discogSearchURL\n",
    "        url = urllib.parse.urljoin(baseURL, \"{0}{1}\".format(\"artists?q=\", quote(artist)))\n",
    "                    \n",
    "            \n",
    "        ## Download data\n",
    "        data, response = self.downloadURL(url)\n",
    "        if response != 200:\n",
    "            print(\"Error downloading {0}\".format(url))\n",
    "            return False\n",
    "\n",
    "        \n",
    "        ## Parse data\n",
    "        bsdata = getHTML(data)\n",
    "        \n",
    "        artistDB  = {}\n",
    "        \n",
    "        uls = bsdata.findAll(\"ul\", {\"class\": \"artist-results\"})\n",
    "        for ul in uls:\n",
    "            lis = ul.findAll(\"li\", {\"class\": \"artist-result\"})\n",
    "            for li in lis:\n",
    "                h4 = li.find(\"h4\")\n",
    "                if h4 is None:\n",
    "                    raise ValueError(\"No h4 in list\")\n",
    "                ref = h4.find('a')\n",
    "                if ref is None:\n",
    "                    raise ValueError(\"No ref in h4\")\n",
    "\n",
    "                name = ref.attrs['title']\n",
    "                url  = ref.attrs['href']\n",
    "                artistID = self.dutils.getArtistID(name)\n",
    "        \n",
    "                #print(name,'\\t',url,'\\t',artistID)\n",
    "                if artistDB.get(url) is None:\n",
    "                    artistDB[url] = {\"N\": 0, \"Name\": name}\n",
    "                artistDB[url][\"N\"] += 1\n",
    "        \n",
    "    \n",
    "        if self.debug:\n",
    "            print(\"Found {0} artists\".format(len(artistDB)))\n",
    "                \n",
    "        iArtist = 0\n",
    "        for href, hrefData in artistDB.items():\n",
    "            iArtist += 1\n",
    "        \n",
    "            name     = hrefData[\"Name\"]\n",
    "            discID   = self.dutils.getArtistID(name)\n",
    "            url      = self.getArtistURL(href)\n",
    "            savename = self.getArtistSavename(discID)\n",
    "\n",
    "            print(iArtist,'/',len(artistDB),'\\t:',discID,'\\t',url)\n",
    "            \n",
    "            if isFile(savename):\n",
    "                continue\n",
    "\n",
    "            self.downloadArtistURL(url, savename)\n",
    "                \n",
    "    \n",
    "    def assertDBModValExtraData(self, modVal, maxPages=None):\n",
    "        mulArts             = multiartist()        \n",
    "        \n",
    "        print(\"assertDBModValExtraData(\",modVal,\")\")\n",
    "        artistDBDir = self.disc.getArtistsDBDir()\n",
    "        dbname  = setFile(artistDBDir, \"{0}-DB.p\".format(modVal))     \n",
    "        dbdata  = getFile(dbname)\n",
    "        nerrs = 0\n",
    "        \n",
    "        for artistID,artistData in dbdata.items():\n",
    "            pages = artistData.pages\n",
    "            if pages.more is True:\n",
    "                npages = pages.tot\n",
    "                if maxPages is not None:\n",
    "                    npages = min([npages, maxPages])\n",
    "                artistRef = artistData.url.url\n",
    "                print(artistID,'\\t',artistData.artist.name)\n",
    "                multiValues = mulArts.getArtistNames(artistData.artist.name)\n",
    "                if len(multiValues) > 1:\n",
    "                    print(\"\\tNot downloading multis: {0}\".format(multiValues.keys()))\n",
    "                    continue\n",
    "                for p in range(2, npages+1):\n",
    "                    url      = self.getArtistURL(artistRef, p)\n",
    "                    savename = self.getArtistSavename(artistID, p)\n",
    "                    print(artistID,'\\t',url,'\\t',savename)\n",
    "                    if not isFile(savename):\n",
    "                        self.downloadArtistURL(url=url, savename=savename, force=True, debug=True)\n",
    "                        sleep(3)"
   ]
  },
  {
   "cell_type": "code",
   "execution_count": null,
   "metadata": {},
   "outputs": [],
   "source": [
    "al = artistsLastFM(debug=True)"
   ]
  },
  {
   "cell_type": "code",
   "execution_count": null,
   "metadata": {},
   "outputs": [],
   "source": [
    "#al.searchForArtist(\"Neil Diamond\")"
   ]
  },
  {
   "cell_type": "code",
   "execution_count": null,
   "metadata": {},
   "outputs": [],
   "source": [
    "from artistRC import artistRC\n",
    "from discogsUtils import rockcornerUtils\n",
    "\n",
    "class artistsRockCorner(artistsBase):\n",
    "    def __init__(self, debug=False):\n",
    "        self.db     = \"RockCorner\"\n",
    "        self.disc   = discogs(self.db.lower())\n",
    "        self.artist = artistRC(self.disc)\n",
    "        self.dutils = rockcornerUtils()\n",
    "        self.debug  = debug\n",
    "        super().__init__(self.db, self.disc, self.artist, self.dutils, debug=debug)\n",
    "\n",
    "        \n",
    "    ##################################################################################################################\n",
    "    # Artist URL\n",
    "    ##################################################################################################################\n",
    "    def getArtistURL(self, artistRef, page=1):\n",
    "        if artistRef.startswith(\"http\"):\n",
    "            url = artistRef\n",
    "        else:\n",
    "            baseURL = self.disc.discogURL\n",
    "            if artistRef.startswith(\"/\") is True:\n",
    "                #print(\"Join\", end=\"\\t\")\n",
    "                url     = urllib.parse.urljoin(baseURL, quote(artistRef[1:]))\n",
    "                #print(url)\n",
    "            else:\n",
    "                url     = urllib.parse.urljoin(baseURL, quote(artistRef))\n",
    "                        \n",
    "        if isinstance(page, int) and page > 1:\n",
    "            pageURL = \"&page={0}\".format(page)\n",
    "            url = \"{0}{1}\".format(url, pageURL)\n",
    "        return url\n",
    "\n",
    "        \n",
    "    ##################################################################################################################\n",
    "    # Search Functions\n",
    "    ##################################################################################################################\n",
    "    def searchForArtist(self, artist):\n",
    "\n",
    "        print(\"\\n\\n===================== Searching For {0} =====================\".format(artist))\n",
    "        baseURL = self.disc.discogSearchURL\n",
    "        url = urllib.parse.urljoin(baseURL, \"{0}{1}\".format(\"search?q=\", quote(artist)))\n",
    "                    \n",
    "\n",
    "        ## Download data\n",
    "        data, response = self.downloadURL(url)\n",
    "        if response != 200:\n",
    "            print(\"Error downloading {0}\".format(url))\n",
    "            return False\n",
    "\n",
    "        \n",
    "        ## Parse data\n",
    "        bsdata = getHTML(data)\n",
    "        \n",
    "        artistDB  = {}\n",
    "\n",
    "        songs = bsdata.findAll(\"article\", {\"class\": \"bgl0\"}) + bsdata.findAll(\"article\", {\"class\": \"bgl1\"})\n",
    "        for i,song in enumerate(songs):\n",
    "            label     = song.find(\"label\")\n",
    "            if label is None:\n",
    "                continue\n",
    "            name      = label.text\n",
    "            ref       = song.find(\"a\").attrs['href']\n",
    "            artistURL = \"/\".join(ref.split(\"/\")[:2])\n",
    "\n",
    "            #print(name,'\\t',url,'\\t',artistID)\n",
    "            if artistDB.get(artistURL) is None:\n",
    "                artistDB[artistURL] = {\"N\": 0, \"Name\": name}\n",
    "            artistDB[artistURL][\"N\"] += 1\n",
    "\n",
    "\n",
    "        if self.debug:\n",
    "            print(\"Found {0} artists\".format(len(artistDB)))\n",
    "\n",
    "        iArtist = 0\n",
    "        for href, hrefData in artistDB.items():\n",
    "            iArtist += 1\n",
    "\n",
    "            name     = hrefData[\"Name\"]\n",
    "            discID   = self.dutils.getArtistID(name)\n",
    "            url      = self.getArtistURL(href)\n",
    "            savename = self.getArtistSavename(discID)\n",
    "\n",
    "            print(iArtist,'/',len(artistDB),'\\t:',discID,'\\t',url)\n",
    "            \n",
    "            if isFile(savename):\n",
    "                continue\n",
    "\n",
    "            self.downloadArtistURL(url, savename)"
   ]
  },
  {
   "cell_type": "code",
   "execution_count": null,
   "metadata": {},
   "outputs": [],
   "source": [
    "ar = artistsRockCorner(debug=True)"
   ]
  },
  {
   "cell_type": "code",
   "execution_count": null,
   "metadata": {},
   "outputs": [],
   "source": [
    "#ar.searchForArtist(\"Neil Diamond\")"
   ]
  },
  {
   "cell_type": "code",
   "execution_count": null,
   "metadata": {},
   "outputs": [],
   "source": [
    "from artistRM import artistRM\n",
    "from discogsUtils import rateyourmusicUtils\n",
    "\n",
    "class artistsRateYourMusic(artistsBase):\n",
    "    def __init__(self, debug=False):\n",
    "        self.db     = \"RateYourMusic\"\n",
    "        self.disc   = discogs(self.db.lower())\n",
    "        self.artist = artistRM(self.disc)\n",
    "        self.dutils = rateyourmusicUtils()\n",
    "        self.debug  = debug\n",
    "        super().__init__(self.db, self.disc, self.artist, self.dutils, debug=debug)\n",
    "\n",
    "        \n",
    "    ##################################################################################################################\n",
    "    # Artist URL\n",
    "    ##################################################################################################################\n",
    "    def getArtistURL(self, artistRef, page=1):\n",
    "        baseURL = self.disc.discogURL\n",
    "        url     = urllib.parse.urljoin(baseURL, artistRef)\n",
    "        return url\n",
    "\n",
    "        \n",
    "    ##################################################################################################################\n",
    "    # Search Functions\n",
    "    ##################################################################################################################\n",
    "    def searchForArtist(self, artist):\n",
    "        return"
   ]
  },
  {
   "cell_type": "code",
   "execution_count": null,
   "metadata": {},
   "outputs": [],
   "source": [
    "am = artistsRateYourMusic(debug=True)"
   ]
  },
  {
   "cell_type": "code",
   "execution_count": null,
   "metadata": {},
   "outputs": [],
   "source": [
    "from artistCL import artistCL\n",
    "from discogsUtils import cdandlpUtils\n",
    "\n",
    "class artistsCDandLP(artistsBase):\n",
    "    def __init__(self, debug=False):\n",
    "        self.db     = \"CDandLP\"\n",
    "        self.disc   = discogs(self.db.lower())\n",
    "        self.artist = artistCL(self.disc)\n",
    "        self.dutils = cdandlpUtils()\n",
    "        self.debug  = debug\n",
    "        super().__init__(self.db, self.disc, self.artist, self.dutils, debug=debug)\n",
    "\n",
    "        \n",
    "    ##################################################################################################################\n",
    "    # Artist URL\n",
    "    ##################################################################################################################\n",
    "    def getArtistURL(self, artistRef, page=1):\n",
    "        #print(\"getArtistURL(\",artistRef,\")\")\n",
    "        if artistRef.startswith(\"http\"):\n",
    "            url = artistRef\n",
    "        else:\n",
    "            baseURL = self.disc.discogURL\n",
    "            if artistRef.startswith(\"/\") is True:\n",
    "                #print(\"Join\", end=\"\\t\")\n",
    "                url     = urllib.parse.urljoin(baseURL, quote(artistRef[1:]))\n",
    "                #print(url)\n",
    "            else:\n",
    "                url     = urllib.parse.urljoin(baseURL, quote(artistRef))\n",
    "        \n",
    "        if isinstance(page, int) and page > 1:\n",
    "            pageURL = \"&page={0}\".format(page)\n",
    "            url = \"{0}{1}\".format(url, pageURL)\n",
    "        return url\n",
    "\n",
    "        \n",
    "    ##################################################################################################################\n",
    "    # Search Functions\n",
    "    ##################################################################################################################\n",
    "    def searchForArtist(self, artist):\n",
    "        print(\"\\n\\n===================== Searching For {0} =====================\".format(artist))\n",
    "        baseURL = self.disc.discogSearchURL\n",
    "        url = urllib.parse.urljoin(baseURL, \"{0}{1}\".format(\"?q=\", quote(artist)))\n",
    "\n",
    "\n",
    "        ## Download data\n",
    "        data, response = self.downloadURL(url)\n",
    "        if response != 200:\n",
    "            print(\"Error downloading {0}\".format(url))\n",
    "            return False\n",
    "\n",
    "        \n",
    "        ## Parse data\n",
    "        bsdata = getHTML(data)\n",
    "        \n",
    "        artistDB  = {}\n",
    "        \n",
    "        descrs = bsdata.findAll(\"div\", {\"class\": \"listingDescription\"})\n",
    "        for descr in descrs:\n",
    "            refs = descr.findAll(\"a\", {\"class\": \"listingTitle\"})\n",
    "            for ref in refs:\n",
    "                url      = ref.attrs['href']\n",
    "                fullurl  = \"/\".join(url.split(\"/\")[:-4])\n",
    "                fullurl  = \"{0}/artist\".format(fullurl)\n",
    "                artistID = self.dutils.getArtistID(fullurl)\n",
    "                if artistDB.get(fullurl) is None:\n",
    "                    artistDB[fullurl] = {\"N\": 0, \"ID\": artistID}\n",
    "                artistDB[fullurl][\"N\"] += 1\n",
    "        \n",
    "    \n",
    "        if self.debug:\n",
    "            print(\"Found {0} artists\".format(len(artistDB)))\n",
    "                \n",
    "        iArtist = 0\n",
    "        for href, hrefData in artistDB.items():\n",
    "            iArtist += 1\n",
    "        \n",
    "            discID   = hrefData[\"ID\"]\n",
    "            url      = href\n",
    "            savename = self.getArtistSavename(discID)\n",
    "\n",
    "            print(iArtist,'/',len(artistDB),'\\t:',discID,'\\t',url,'\\t',savename)\n",
    "            \n",
    "            if isFile(savename):\n",
    "                continue\n",
    "\n",
    "            self.downloadArtistURL(url, savename)"
   ]
  },
  {
   "cell_type": "code",
   "execution_count": null,
   "metadata": {},
   "outputs": [],
   "source": [
    "ac = artistsCDandLP(debug=True)"
   ]
  },
  {
   "cell_type": "code",
   "execution_count": null,
   "metadata": {},
   "outputs": [],
   "source": [
    "#ac.searchForArtist(\"Neil Diamond\")"
   ]
  },
  {
   "cell_type": "code",
   "execution_count": null,
   "metadata": {},
   "outputs": [],
   "source": [
    "from artistCL import artistCL\n",
    "from discogsUtils import acebootlegsUtils\n",
    "\n",
    "class artistsAceBootlegs(artistsBase):\n",
    "    def __init__(self, debug=False):\n",
    "        self.db     = \"AceBootlegs\"\n",
    "        self.disc   = discogs(self.db.lower())\n",
    "        self.artist = artistAB(self.disc)\n",
    "        self.dutils = acebootlegsUtils()\n",
    "        self.debug  = debug\n",
    "        super().__init__(self.db, self.disc, self.artist, self.dutils, debug=debug)\n",
    "\n",
    "        \n",
    "    ##################################################################################################################\n",
    "    # Artist URL\n",
    "    ##################################################################################################################\n",
    "    def getArtistURL(self, artistRef, page=1):\n",
    "        baseURL = self.disc.discogURL\n",
    "        url     = urllib.parse.urljoin(baseURL, artistRef)\n",
    "        return url\n",
    "    \n",
    "    def getMainSavename(self):\n",
    "        artistDir = self.disc.getArtistsDir()\n",
    "        savename  = setFile(artistDir, \"main.p\")\n",
    "        return savename\n",
    "    \n",
    "    \n",
    "    ##################################################################################################################\n",
    "    # Main\n",
    "    ##################################################################################################################\n",
    "    def downloadMainArtists(self, force=False, debug=False, sleeptime=2):        \n",
    "        savename = self.getMainSavename()\n",
    "        \n",
    "        ## Parse data\n",
    "        bsdata = getHTML(savename)        \n",
    "        artistDB  = {}\n",
    "        \n",
    "        \n",
    "        ## Find and Download Artists\n",
    "        categories = bsdata.find(\"div\", {\"class\": \"sidebar-widget widget_categories\"})\n",
    "        if categories is None:\n",
    "            raise ValueError(\"Cannot find categories!\")\n",
    "        uls = categories.findAll(\"ul\")\n",
    "        for ul in uls:\n",
    "            lis = ul.findAll(\"li\")\n",
    "            for i, li in enumerate(lis):\n",
    "                try:\n",
    "                    catitem = li.attrs[\"class\"][1]\n",
    "                except:\n",
    "                    raise ValueError(\"Cannot find list class item: {0}\".format(li))\n",
    "                ref  = li.find(\"a\")\n",
    "                if ref is None:\n",
    "                    raise ValueError(\"Cannot find list link!\")\n",
    "                try:\n",
    "                    href = ref.attrs['href']\n",
    "                except:\n",
    "                    raise ValueError(\"Cannot find list href!\")\n",
    "\n",
    "                # check for artist\n",
    "                artistName = href.split('/')[-2]\n",
    "                try:\n",
    "                    int(artistName)\n",
    "                    continue\n",
    "                except:\n",
    "                    if artistName.find(\"parent-category-ii\") == -1:\n",
    "                        pass\n",
    "                    else:\n",
    "                        continue\n",
    "\n",
    "                # get artist ID\n",
    "                artistID = catitem.split('-')[-1]\n",
    "                try:\n",
    "                    int(artistID)\n",
    "                except:\n",
    "                    continue\n",
    "\n",
    "\n",
    "                if force is False and isFile(savename):\n",
    "                    print(\"{0} exists.\".format(savename))\n",
    "                    continue\n",
    "            \n",
    "                url = href\n",
    "                savename = self.getArtistSavename(artistID)\n",
    "                print(i,'\\t',artistID,'\\t',artistName,'\\t',savename)\n",
    "                self.downloadArtistURL(url=url, savename=savename, parse=False)\n",
    "\n",
    "                \n",
    "        \n",
    "        \n",
    "\n",
    "        \n",
    "    ##################################################################################################################\n",
    "    # Search Functions\n",
    "    ##################################################################################################################\n",
    "    def searchForArtist(self, artist):\n",
    "        return"
   ]
  },
  {
   "cell_type": "code",
   "execution_count": null,
   "metadata": {},
   "outputs": [],
   "source": [
    "aa = artistsAceBootlegs(debug=True)"
   ]
  },
  {
   "cell_type": "code",
   "execution_count": null,
   "metadata": {},
   "outputs": [],
   "source": [
    "from artistDP import artistDP\n",
    "from discogsUtils import datpiffUtils\n",
    "\n",
    "class artistsDatPiff(artistsBase):\n",
    "    def __init__(self, debug=False):\n",
    "        self.db     = \"DatPiff\"\n",
    "        self.disc   = discogs(self.db.lower())\n",
    "        self.artist = artistDP(self.disc)\n",
    "        self.dutils = datpiffUtils()\n",
    "        self.debug  = debug\n",
    "        super().__init__(self.db, self.disc, self.artist, self.dutils, debug=debug)\n",
    "\n",
    "        \n",
    "    ##################################################################################################################\n",
    "    # Artist URL\n",
    "    ##################################################################################################################\n",
    "    def getArtistURL(self, artistRef, page=1):\n",
    "        baseURL = self.disc.discogURL\n",
    "        url     = urllib.parse.urljoin(baseURL, artistRef)\n",
    "        return url\n",
    "    \n",
    "\n",
    "    ##################################################################################################################\n",
    "    # Search Functions\n",
    "    ##################################################################################################################\n",
    "    def searchForArtist(self, artist):\n",
    "        print(\"\\n\\n===================== Searching For {0} =====================\".format(artist))\n",
    "        baseURL = self.disc.discogSearchURL\n",
    "        \n",
    "        baseURL = \"https://www.datpiff.com/\"\n",
    "        extra   = \"mixtapes-search?criteria={0}&sort=relevance\".format(quote(artist))\n",
    "\n",
    "        url = urllib.parse.urljoin(baseURL, extra)\n",
    "        print(\"\\tSearch URL: {0}\".format(url))\n",
    "                    \n",
    "        ## Download data\n",
    "        data, response = self.downloadURL(url)\n",
    "        if response != 200:\n",
    "            print(\"Error downloading {0}\".format(url))\n",
    "            return False\n",
    "\n",
    "        \n",
    "        ## Parse data\n",
    "        bsdata = getHTML(data)\n",
    "        \n",
    "        artistDB  = []\n",
    "\n",
    "        contentdivs = bsdata.findAll(\"div\", {\"class\": \"contentItem\"})\n",
    "        for i,contentdiv in enumerate(contentdivs):\n",
    "            artistDiv = contentdiv.find(\"div\", {\"class\": \"artist\"})\n",
    "            if artistDiv is None:\n",
    "                continue\n",
    "            artistName = artistDiv.text\n",
    "\n",
    "            albumDiv = contentdiv.find(\"div\", {\"class\": \"title\"})\n",
    "            if albumDiv is None:\n",
    "                continue\n",
    "            albumName = albumDiv.text\n",
    "            try:\n",
    "                albumURL  = albumDiv.find(\"a\").attrs['href']\n",
    "            except:\n",
    "                albumURL  = None\n",
    "                \n",
    "            #artistID = self.discogsUtils.getArtistID(artistName)\n",
    "\n",
    "            artistDB.append({\"ArtistName\": artistName, \"AlbumName\": albumName, \"AlbumURL\": albumURL})\n",
    "        \n",
    "\n",
    "        artistID = self.discogsUtils.getArtistID(artist)\n",
    "        page     = 1\n",
    "        savename = self.getArtistSavename(artistID, page)\n",
    "        while isFile(savename):\n",
    "            page += 1\n",
    "            savename = self.getArtistSavename(artistID, page)\n",
    "        print(\"Saving {0} new artist media to {1}\".format(len(artistDB), savename))\n",
    "        saveJoblib(data=artistDB, filename=savename, compress=True)"
   ]
  },
  {
   "cell_type": "code",
   "execution_count": null,
   "metadata": {},
   "outputs": [],
   "source": [
    "ad = artistsDatPiff(debug=True)"
   ]
  },
  {
   "cell_type": "code",
   "execution_count": null,
   "metadata": {},
   "outputs": [],
   "source": [
    "from artistMS import artistMS\n",
    "from discogsUtils import musicstackUtils\n",
    "from searchUtils import findPatternExt\n",
    "from fileUtils import getBaseFilename\n",
    "\n",
    "\n",
    "class artistsMusicStack(artistsBase):\n",
    "    def __init__(self, debug=False):\n",
    "        self.db     = \"MusicStack\"\n",
    "        self.disc   = discogs(self.db.lower())\n",
    "        self.artist = artistMS(self.disc)\n",
    "        self.dutils = musicstackUtils()\n",
    "        self.debug  = debug\n",
    "        super().__init__(self.db, self.disc, self.artist, self.dutils, debug=debug)\n",
    "\n",
    "        \n",
    "    ##################################################################################################################\n",
    "    # Artist URL\n",
    "    ##################################################################################################################\n",
    "    def getArtistURL(self, artistRef, page=1):\n",
    "        baseURL = self.disc.discogURL\n",
    "        url     = urllib.parse.urljoin(baseURL, artistRef)\n",
    "        return url\n",
    "    \n",
    "\n",
    "    ##################################################################################################################\n",
    "    # Search Functions\n",
    "    ##################################################################################################################\n",
    "    def searchForArtist(self, artist=None):\n",
    "        files = findPatternExt(\"/Users/tgadfort/Downloads/\", pattern=\"MusicStack\", ext=\".html\")\n",
    "        for ifile in files:\n",
    "            fname  = getBaseFilename(ifile)\n",
    "            artist = fname[:fname.find(\" Vinyl Records\")]\n",
    "            self.parseSearchForArtist(artist=artist, ifile=ifile)\n",
    "    \n",
    "    def parseSearchForArtist(self, artist, ifile):\n",
    "\n",
    "        ## Parse data\n",
    "        bsdata = getHTML(ifile)\n",
    "        \n",
    "        artistDB  = []\n",
    "\n",
    "        tables = bsdata.findAll(\"table\")\n",
    "        if self.debug:\n",
    "            print(\"Found {0} tables\".format(len(tables)))\n",
    "        for i,table in enumerate(tables):\n",
    "            trs = table.findAll(\"tr\")\n",
    "            jj = 0\n",
    "            headers = None\n",
    "            values  = []\n",
    "            for j,tr in enumerate(trs):\n",
    "                tds  = tr.findAll(\"td\")\n",
    "                #print('\\t',len(tds))\n",
    "                #tds  = [list(td.strings) for td in tds]\n",
    "                if len(tds) == 8:\n",
    "                    if jj == 0:\n",
    "                        headers = tds\n",
    "                        if self.debug:\n",
    "                            print(\"  Found Header: {0}\".format(headers))\n",
    "                    else:\n",
    "                        values.append(tds)\n",
    "                        if self.debug:\n",
    "                            print(\"  Found Value: {0}\".format(tds))\n",
    "\n",
    "                    jj += 1\n",
    "\n",
    "            if headers is not None:\n",
    "                keys = []\n",
    "                for header in headers:\n",
    "                    b = header.find(\"b\")\n",
    "                    if b is None:\n",
    "                        keys.append(str(len(keys)))\n",
    "                    else:\n",
    "                        txt = b.text.strip()\n",
    "                        keys.append(txt)\n",
    "                        \n",
    "                if self.debug:\n",
    "                    print(\"  Keys: {0}\".format(keys))\n",
    "                    print(\"  Values: {0}\".format(len(values)))\n",
    "\n",
    "\n",
    "                for value in values:\n",
    "                    value = [x for ix,x in enumerate(value) if keys[ix] in [\"Artist\", \"Title\"]]\n",
    "                    album = dict(zip([\"Artist\", \"Title\"], value))\n",
    "                    album[\"Artist\"] = album[\"Artist\"].text\n",
    "                    album[\"Album\"]  = {\"Name\": album[\"Title\"].text}\n",
    "                    try:\n",
    "                        album[\"Album\"][\"URL\"] = album[\"Title\"].find(\"a\").attrs['href']\n",
    "                    except:\n",
    "                        album[\"Album\"][\"URL\"] = None\n",
    "                    del album[\"Title\"]\n",
    "                    artistDB.append({\"ArtistName\": album[\"Artist\"], \"AlbumName\": album[\"Album\"][\"Name\"], \"AlbumURL\": album[\"Album\"][\"URL\"]})\n",
    "                break\n",
    "\n",
    "        artistID = self.dutils.getArtistID(artist)\n",
    "        page     = 1\n",
    "        savename = self.getArtistSavename(artistID, page)\n",
    "        while isFile(savename) and False:\n",
    "            page += 1\n",
    "            savename = self.getArtistSavename(artistID, page)\n",
    "        print(\"Saving {0} new artist media to {1}\".format(len(artistDB), savename))\n",
    "        saveJoblib(data=artistDB, filename=savename, compress=True)"
   ]
  },
  {
   "cell_type": "code",
   "execution_count": null,
   "metadata": {},
   "outputs": [],
   "source": [
    "am = artistsMusicStack(debug=False)\n",
    "am.searchForArtist()"
   ]
  },
  {
   "cell_type": "code",
   "execution_count": null,
   "metadata": {},
   "outputs": [],
   "source": []
  }
 ],
 "metadata": {
  "kernelspec": {
   "display_name": "Python 3",
   "language": "python",
   "name": "python3"
  },
  "language_info": {
   "codemirror_mode": {
    "name": "ipython",
    "version": 3
   },
   "file_extension": ".py",
   "mimetype": "text/x-python",
   "name": "python",
   "nbconvert_exporter": "python",
   "pygments_lexer": "ipython3",
   "version": "3.7.7"
  }
 },
 "nbformat": 4,
 "nbformat_minor": 2
}
