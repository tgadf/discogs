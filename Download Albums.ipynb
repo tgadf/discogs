{
 "cells": [
  {
   "cell_type": "code",
   "execution_count": null,
   "metadata": {},
   "outputs": [],
   "source": [
    "## Basic stuff\n",
    "%load_ext autoreload\n",
    "%autoreload\n",
    "from IPython.core.display import display, HTML\n",
    "display(HTML(\"<style>.container { width:100% !important; }</style>\"))\n",
    "display(HTML(\"\"\"<style>div.output_area{max-height:10000px;overflow:scroll;}</style>\"\"\"))\n",
    "\n",
    "## Python Version\n",
    "import sys\n",
    "print(\"Python: {0}\".format(sys.version))\n",
    "\n",
    "from ioUtils import saveJoblib, loadJoblib, saveFile, getFile\n",
    "import urllib\n",
    "from urllib.parse import quote\n",
    "\n",
    "from discogsBase import discogs\n",
    "from discogsUtils import discogsUtils\n",
    "from collection import collections\n",
    "from artist import artist\n",
    "from timeUtils import clock, elapsed\n",
    "from fsUtils import moveFile, setFile, setDir, setSubDir, isFile, isDir, mkDir\n",
    "from fileUtils import getFileBasics, getBasename\n",
    "from artists import artists\n",
    "from albums import albums\n",
    "from time import sleep\n",
    "import time\n",
    "from multiprocessing import Pool\n",
    "\n",
    "import datetime as dt\n",
    "start = dt.datetime.now()\n",
    "print(\"Notebook Last Run Initiated: \"+str(start))"
   ]
  },
  {
   "cell_type": "code",
   "execution_count": null,
   "metadata": {},
   "outputs": [],
   "source": [
    "%load_ext autoreload\n",
    "%autoreload\n",
    "disc = discogs()\n",
    "arts = artists(disc)\n",
    "albs = albums(disc)\n",
    "dutils = discogsUtils()"
   ]
  },
  {
   "cell_type": "markdown",
   "metadata": {},
   "source": [
    "# Albums From All Artists"
   ]
  },
  {
   "cell_type": "code",
   "execution_count": null,
   "metadata": {},
   "outputs": [],
   "source": [
    "%load_ext autoreload\n",
    "%autoreload\n",
    "from albums import albums\n",
    "disc = discogs()\n",
    "albs = albums(disc)\n",
    "albs.downloadAlbumsFromArtists(maxAlbums=1, mediaTypes=None, rand=True)"
   ]
  },
  {
   "cell_type": "code",
   "execution_count": null,
   "metadata": {},
   "outputs": [],
   "source": []
  },
  {
   "cell_type": "markdown",
   "metadata": {},
   "source": [
    "# Albums From Known People"
   ]
  },
  {
   "cell_type": "code",
   "execution_count": null,
   "metadata": {},
   "outputs": [],
   "source": [
    "data = getFile(\"/Volumes/Music/MusicDB/toget.p\")"
   ]
  },
  {
   "cell_type": "code",
   "execution_count": null,
   "metadata": {},
   "outputs": [],
   "source": [
    "%load_ext autoreload\n",
    "%autoreload\n",
    "from albums import albums\n",
    "disc = discogs()\n",
    "discdf = disc.getMasterDiscogsDB()\n",
    "print(discdf.shape)\n",
    "discdf = discdf[~discdf['Name'].isna()]\n",
    "print(discdf.shape)\n",
    "\n",
    "artists = list(discdf[\"Artist\"])\n",
    "\n",
    "_ = clock(\"Last Run\")"
   ]
  },
  {
   "cell_type": "code",
   "execution_count": null,
   "metadata": {},
   "outputs": [],
   "source": [
    "def getMusicData(key, artist):\n",
    "    retval = discdf[discdf[key] == artist]\n",
    "    if retval.shape[0] > 0:\n",
    "        return retval\n",
    "    else:\n",
    "        return None\n",
    "    \n",
    "toget={}\n",
    "known={}\n",
    "\n",
    "for ia,artistName in enumerate(data):\n",
    "    #artistID = artistName\n",
    "    artistID = None\n",
    "    if artistID is None:\n",
    "        retval = getMusicData('Name', artistName)\n",
    "        if retval is not None:\n",
    "            artistID = retval.index.values[0]\n",
    "    modValue  = dutils.getDiscIDHashMod(discID=artistID, modval=disc.getMaxModVal())\n",
    "    if toget.get(modValue) is None:\n",
    "        toget[modValue] = {}\n",
    "    toget[modValue][artistID] = True\n",
    "        \n",
    "    if ia % 100 == 0:\n",
    "        print(ia,'/',len(data))"
   ]
  },
  {
   "cell_type": "code",
   "execution_count": null,
   "metadata": {},
   "outputs": [],
   "source": [
    "for modVal in toget.keys():\n",
    "    artistIDs = toget[modVal]\n",
    "    print(modVal,'\\t',len(artistIDs))\n",
    "    dbdata = disc.getArtistsDBModValData(modVal)\n",
    "    for artistID in artistIDs:\n",
    "        print(' ',artistID)\n",
    "        artistData = dbdata[artistID]\n",
    "        albs.downloadAlbumFromArtistData(artistID=artistID, artistData=artistData, mediaTypes=None)"
   ]
  },
  {
   "cell_type": "code",
   "execution_count": null,
   "metadata": {},
   "outputs": [],
   "source": [
    "from ioUtils import getFile\n",
    "data = getFile(\"/Volumes/Music/Discog/diagnostic/albumKnownIDs.p\")"
   ]
  },
  {
   "cell_type": "code",
   "execution_count": null,
   "metadata": {},
   "outputs": [],
   "source": [
    "data"
   ]
  },
  {
   "cell_type": "code",
   "execution_count": null,
   "metadata": {},
   "outputs": [],
   "source": []
  }
 ],
 "metadata": {
  "kernelspec": {
   "display_name": "Python 3",
   "language": "python",
   "name": "python3"
  },
  "language_info": {
   "codemirror_mode": {
    "name": "ipython",
    "version": 3
   },
   "file_extension": ".py",
   "mimetype": "text/x-python",
   "name": "python",
   "nbconvert_exporter": "python",
   "pygments_lexer": "ipython3",
   "version": "3.7.3"
  }
 },
 "nbformat": 4,
 "nbformat_minor": 2
}
