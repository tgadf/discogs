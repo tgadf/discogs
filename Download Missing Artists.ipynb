{
 "cells": [
  {
   "cell_type": "code",
   "execution_count": 1,
   "metadata": {},
   "outputs": [
    {
     "data": {
      "text/html": [
       "<style>.container { width:100% !important; }</style>"
      ],
      "text/plain": [
       "<IPython.core.display.HTML object>"
      ]
     },
     "metadata": {},
     "output_type": "display_data"
    },
    {
     "data": {
      "text/html": [
       "<style>div.output_area{max-height:10000px;overflow:scroll;}</style>"
      ],
      "text/plain": [
       "<IPython.core.display.HTML object>"
      ]
     },
     "metadata": {},
     "output_type": "display_data"
    },
    {
     "name": "stdout",
     "output_type": "stream",
     "text": [
      "Python: 3.7.3 (default, Mar 27 2019, 16:54:48) \n",
      "[Clang 4.0.1 (tags/RELEASE_401/final)]\n",
      "Notebook Last Run Initiated: 2020-02-21 20:34:35.873261\n"
     ]
    }
   ],
   "source": [
    "## Basic stuff\n",
    "%load_ext autoreload\n",
    "%autoreload\n",
    "from IPython.core.display import display, HTML\n",
    "display(HTML(\"<style>.container { width:100% !important; }</style>\"))\n",
    "display(HTML(\"\"\"<style>div.output_area{max-height:10000px;overflow:scroll;}</style>\"\"\"))\n",
    "\n",
    "## Python Version\n",
    "import sys\n",
    "print(\"Python: {0}\".format(sys.version))\n",
    "\n",
    "from ioUtils import saveJoblib, loadJoblib, saveFile, getFile\n",
    "import urllib\n",
    "from urllib.parse import quote\n",
    "\n",
    "from discogsBase import discogs\n",
    "from discogsUtils import discogsUtils\n",
    "from collection import collections\n",
    "from artist import artist\n",
    "from timeUtils import clock, elapsed\n",
    "from fsUtils import moveFile, setFile, setDir, setSubDir, isFile, isDir, mkDir\n",
    "from fileUtils import getFileBasics, getBasename\n",
    "from artists import artists\n",
    "from artistsAM import artistsAM\n",
    "from albums import albums\n",
    "from time import sleep\n",
    "import time\n",
    "from multiprocessing import Pool\n",
    "\n",
    "import datetime as dt\n",
    "start = dt.datetime.now()\n",
    "print(\"Notebook Last Run Initiated: \"+str(start))"
   ]
  },
  {
   "cell_type": "code",
   "execution_count": 3,
   "metadata": {},
   "outputs": [
    {
     "name": "stdout",
     "output_type": "stream",
     "text": [
      "The autoreload extension is already loaded. To reload it, use:\n",
      "  %reload_ext autoreload\n"
     ]
    }
   ],
   "source": [
    "%load_ext autoreload\n",
    "%autoreload\n",
    "discDC = discogs(base='discogs')\n",
    "artsDC = artists(discDC)\n",
    "\n",
    "discAM = discogs(base='allmusic')\n",
    "artsAM = artistsAM(discAM)"
   ]
  },
  {
   "cell_type": "markdown",
   "metadata": {},
   "source": [
    "# Download Discogs Artists"
   ]
  },
  {
   "cell_type": "code",
   "execution_count": 4,
   "metadata": {},
   "outputs": [
    {
     "name": "stdout",
     "output_type": "stream",
     "text": [
      "\n",
      "\n",
      "===================== Searching For Charly Bliss =====================\n",
      "Found 6 artists\n",
      "2 / 6 \t: 7 \t https://www.discogs.com/artist/4279907-Charly-Bliss?sort=year%2Casc&limit=500\n",
      "3 / 6 \t: 7 \t https://www.discogs.com/artist/5746983-Eva-Hendricks?sort=year%2Casc&limit=500\n",
      "4 / 6 \t: 7 \t https://www.discogs.com/artist/5746982-Spencer-Fox?sort=year%2Casc&limit=500\n",
      "  Downloaded 0 Additional URLs\n",
      "Saving /Volumes/Biggy/Discog/artists-discogs/82/5746982.p (force=False)\n",
      "  --> This file is 16.6kB.\n",
      "Done. Sleeping for 2 seconds\n",
      "5 / 6 \t: 7 \t https://www.discogs.com/artist/5746981-Sam-Hendricks-3?sort=year%2Casc&limit=500\n",
      "6 / 6 \t: 6 \t https://www.discogs.com/artist/184266-Dan-Shure?sort=year%2Casc&limit=500\n",
      "  Downloaded 0 Additional URLs\n",
      "Saving /Volumes/Biggy/Discog/artists-discogs/66/184266.p (force=False)\n",
      "  --> This file is 16.2kB.\n",
      "Done. Sleeping for 2 seconds\n"
     ]
    }
   ],
   "source": [
    "artsDC.searchDiscogForArtist(\"Charly Bliss\")"
   ]
  },
  {
   "cell_type": "markdown",
   "metadata": {},
   "source": [
    "# Download AllMusic Artists"
   ]
  },
  {
   "cell_type": "code",
   "execution_count": null,
   "metadata": {},
   "outputs": [],
   "source": [
    "discAM = discogs(base='allmusic')\n",
    "artsAM = artistsAM(discAM)"
   ]
  },
  {
   "cell_type": "code",
   "execution_count": null,
   "metadata": {},
   "outputs": [],
   "source": [
    "\tUnknown (All)     --> Bryan Ferry\n",
    "\tUnknown (All)     --> Cressida\n",
    "\tUnknown (All)     --> Dee-Lite\n",
    "\tUnknown (All)     --> Grand Funk Railroad\n",
    "\tUnknown (All)     --> Koda Kumi\n"
   ]
  },
  {
   "cell_type": "code",
   "execution_count": 7,
   "metadata": {},
   "outputs": [
    {
     "name": "stdout",
     "output_type": "stream",
     "text": [
      "\n",
      "\n",
      "===================== Searching For Grand Funk Railroad =====================\n",
      "Found 4 artists\n",
      "1 / 4 \t: 0000659517 \t https://www.allmusic.com/artist/grand-funk-railroad-mn0000659517/discography/all\n",
      "2 / 4 \t: 0000740416 \t https://www.allmusic.com/artist/grand-funk-mn0000740416/discography/all\n",
      "Saving /Volumes/Biggy/Discog/artists-allmusic/16/0000740416.p (force=False)\n",
      "  --> This file is 16.0kB.\n",
      "Done. Sleeping for 2 seconds\n",
      "3 / 4 \t: 0002580346 \t https://www.allmusic.com/artist/grand-folk-railroad-mn0002580346/discography/all\n",
      "Saving /Volumes/Biggy/Discog/artists-allmusic/46/0002580346.p (force=False)\n",
      "  --> This file is 16.1kB.\n",
      "Done. Sleeping for 2 seconds\n",
      "4 / 4 \t: 0001367429 \t https://www.allmusic.com/artist/imperial-grand-ministers-of-funk-mn0001367429/discography/all\n",
      "Saving /Volumes/Biggy/Discog/artists-allmusic/29/0001367429.p (force=False)\n",
      "  --> This file is 14.1kB.\n",
      "Done. Sleeping for 2 seconds\n",
      "\n",
      "\n",
      "===================== Searching For Grand Funk Railroad =====================\n",
      "Found 40 artists\n",
      "2 / 40 \t: 6 \t https://www.discogs.com/artist/122458-Grand-Funk-Railroad?sort=year%2Casc&limit=500\n",
      "3 / 40 \t: 6 \t https://www.discogs.com/artist/254429-Mark-Farner?sort=year%2Casc&limit=500\n",
      "4 / 40 \t: 6 \t https://www.discogs.com/artist/312311-Mel-Schacher?sort=year%2Casc&limit=500\n",
      "  Downloaded 0 Additional URLs\n",
      "Saving /Volumes/Biggy/Discog/artists-discogs/11/312311.p (force=False)\n",
      "  --> This file is 15.9kB.\n",
      "Done. Sleeping for 2 seconds\n",
      "5 / 40 \t: 6 \t https://www.discogs.com/artist/312312-Don-Brewer?sort=year%2Casc&limit=500\n",
      "6 / 40 \t: 6 \t https://www.discogs.com/artist/581045-Colour-Haze?sort=year%2Casc&limit=500\n",
      "7 / 40 \t: 6 \t https://www.discogs.com/artist/452681-Craig-Frost?sort=year%2Casc&limit=500\n",
      "8 / 40 \t: 6 \t https://www.discogs.com/artist/267659-Cliff-Davies?sort=year%2Casc&limit=500\n",
      "  Downloaded 0 Additional URLs\n",
      "Saving /Volumes/Biggy/Discog/artists-discogs/59/267659.p (force=False)\n",
      "  --> This file is 42.0kB.\n",
      "Done. Sleeping for 2 seconds\n",
      "9 / 40 \t: 6 \t https://www.discogs.com/artist/284087-Terry-Knight?sort=year%2Casc&limit=500\n",
      "10 / 40 \t: 7 \t https://www.discogs.com/artist/1833113-Pacific-Eye-Ear?sort=year%2Casc&limit=500\n",
      "  Downloaded 0 Additional URLs\n",
      "Saving /Volumes/Biggy/Discog/artists-discogs/13/1833113.p (force=False)\n",
      "  --> This file is 46.3kB.\n",
      "Done. Sleeping for 2 seconds\n",
      "11 / 40 \t: 7 \t https://www.discogs.com/artist/4928324-Tim-Cashion?sort=year%2Casc&limit=500\n",
      "12 / 40 \t: 5 \t https://www.discogs.com/artist/34881-Tony-Camillo?sort=year%2Casc&limit=500\n",
      "13 / 40 \t: 7 \t https://www.discogs.com/artist/3633775-Glenn-Townsend?sort=year%2Casc&limit=500\n",
      "14 / 40 \t: 6 \t https://www.discogs.com/artist/592021-Lance-Ong?sort=year%2Casc&limit=500\n",
      "  Downloaded 0 Additional URLs\n",
      "Saving /Volumes/Biggy/Discog/artists-discogs/21/592021.p (force=False)\n",
      "  --> This file is 23.3kB.\n",
      "Done. Sleeping for 2 seconds\n",
      "15 / 40 \t: 7 \t https://www.discogs.com/artist/1311609-Punch-Andrews?sort=year%2Casc&limit=500\n",
      "16 / 40 \t: 7 \t https://www.discogs.com/artist/1289477-Sasquatch-6?sort=year%2Casc&limit=500\n",
      "17 / 40 \t: 7 \t https://www.discogs.com/artist/1220213-Escombros?sort=year%2Casc&limit=500\n",
      "18 / 40 \t: 6 \t https://www.discogs.com/artist/710666-Jerry-Tuttle?sort=year%2Casc&limit=500\n",
      "19 / 40 \t: 6 \t https://www.discogs.com/artist/811318-Bob-Furmanek?sort=year%2Casc&limit=500\n",
      "20 / 40 \t: 6 \t https://www.discogs.com/artist/258400-Soul-Brothers-Six?sort=year%2Casc&limit=500\n",
      "21 / 40 \t: 7 \t https://www.discogs.com/artist/5126406-Steve-Dahl-2?sort=year%2Casc&limit=500\n",
      "22 / 40 \t: 6 \t https://www.discogs.com/artist/325786-John-Gillespie?sort=year%2Casc&limit=500\n",
      "23 / 40 \t: 7 \t https://www.discogs.com/artist/2507595-Heyoka-5?sort=year%2Casc&limit=500\n",
      "24 / 40 \t: 7 \t https://www.discogs.com/artist/3425781-El-Gran-Temor?sort=year%2Casc&limit=500\n",
      "25 / 40 \t: 6 \t https://www.discogs.com/artist/306375-Set-Em-Up-Joe?sort=year%2Casc&limit=500\n",
      "26 / 40 \t: 7 \t https://www.discogs.com/artist/4374292-The-Sonic-Beat-Explosion?sort=year%2Casc&limit=500\n",
      "27 / 40 \t: 7 \t https://www.discogs.com/artist/4242371-Steve-Feldman-8?sort=year%2Casc&limit=500\n",
      "28 / 40 \t: 7 \t https://www.discogs.com/artist/1287843-Heads-Hands-Feet?sort=year%2Casc&limit=500\n",
      "29 / 40 \t: 7 \t https://www.discogs.com/artist/4195638-Next-21?sort=year%2Casc&limit=500\n",
      "  Downloaded 0 Additional URLs\n",
      "Saving /Volumes/Biggy/Discog/artists-discogs/38/4195638.p (force=False)\n",
      "  --> This file is 18.1kB.\n",
      "Done. Sleeping for 2 seconds\n",
      "30 / 40 \t: 7 \t https://www.discogs.com/artist/1548409-Suck-4?sort=year%2Casc&limit=500\n",
      "  Downloaded 0 Additional URLs\n",
      "Saving /Volumes/Biggy/Discog/artists-discogs/9/1548409.p (force=False)\n",
      "  --> This file is 19.4kB.\n",
      "Done. Sleeping for 2 seconds\n",
      "31 / 40 \t: 7 \t https://www.discogs.com/artist/1311743-I-Numi?sort=year%2Casc&limit=500\n",
      "  Downloaded 0 Additional URLs\n",
      "Saving /Volumes/Biggy/Discog/artists-discogs/43/1311743.p (force=False)\n",
      "  --> This file is 18.4kB.\n",
      "Done. Sleeping for 2 seconds\n",
      "32 / 40 \t: 7 \t https://www.discogs.com/artist/1887526-Laurie-Beebe?sort=year%2Casc&limit=500\n",
      "33 / 40 \t: 7 \t https://www.discogs.com/artist/3056341-The-Black-Stones?sort=year%2Casc&limit=500\n",
      "  Downloaded 0 Additional URLs\n",
      "Saving /Volumes/Biggy/Discog/artists-discogs/41/3056341.p (force=False)\n",
      "  --> This file is 15.9kB.\n",
      "Done. Sleeping for 2 seconds\n",
      "34 / 40 \t: 7 \t https://www.discogs.com/artist/6495895-The-Mothercrow?sort=year%2Casc&limit=500\n",
      "35 / 40 \t: 7 \t https://www.discogs.com/artist/5088298-Los-Hombres-Del-Diablo?sort=year%2Casc&limit=500\n",
      "  Downloaded 0 Additional URLs\n",
      "Saving /Volumes/Biggy/Discog/artists-discogs/98/5088298.p (force=False)\n",
      "  --> This file is 15.3kB.\n",
      "Done. Sleeping for 2 seconds\n",
      "36 / 40 \t: 6 \t https://www.discogs.com/artist/504788-James-Forbes?sort=year%2Casc&limit=500\n",
      "37 / 40 \t: 6 \t https://www.discogs.com/artist/582056-Dirty-Americans?sort=year%2Casc&limit=500\n",
      "38 / 40 \t: 7 \t https://www.discogs.com/artist/1854816-Joey-Argiro?sort=year%2Casc&limit=500\n",
      "39 / 40 \t: 7 \t https://www.discogs.com/artist/6351846-Dave-Powers-5?sort=year%2Casc&limit=500\n",
      "40 / 40 \t: 7 \t https://www.discogs.com/artist/7387972-Wagner-Hays?sort=year%2Casc&limit=500\n",
      "\n",
      "\n",
      "===================== Searching For Koda Kumi =====================\n",
      "Found 19 artists\n",
      "1 / 19 \t: 0003359330 \t https://www.allmusic.com/artist/koda-kumi-mn0003359330/discography/all\n",
      "2 / 19 \t: 0000397570 \t https://www.allmusic.com/artist/kumi-koda-mn0000397570/discography/all\n",
      "3 / 19 \t: 0002114899 \t https://www.allmusic.com/artist/kumi-kouda-mn0002114899/discography/all\n",
      "4 / 19 \t: 0000134191 \t https://www.allmusic.com/artist/cub-koda-mn0000134191/discography/all\n",
      "5 / 19 \t: 0001630985 \t https://www.allmusic.com/artist/kumi-arata-mn0001630985/discography/all\n",
      "Saving /Volumes/Biggy/Discog/artists-allmusic/85/0001630985.p (force=False)\n",
      "  --> This file is 15.1kB.\n",
      "Done. Sleeping for 2 seconds\n",
      "6 / 19 \t: 0000108567 \t https://www.allmusic.com/artist/koda-mn0000108567/discography/all\n",
      "7 / 19 \t: 0003250548 \t https://www.allmusic.com/artist/koda-mn0003250548/discography/all\n",
      "8 / 19 \t: 0001664549 \t https://www.allmusic.com/artist/kumi-ogano-mn0001664549/discography/all\n",
      "9 / 19 \t: 0001558344 \t https://www.allmusic.com/artist/kumi-okamoto-mn0001558344/discography/all\n",
      "Saving /Volumes/Biggy/Discog/artists-allmusic/44/0001558344.p (force=False)\n",
      "  --> This file is 15.0kB.\n",
      "Done. Sleeping for 2 seconds\n",
      "10 / 19 \t: 0001576475 \t https://www.allmusic.com/artist/koda-madison-mn0001576475/discography/all\n",
      "Saving /Volumes/Biggy/Discog/artists-allmusic/75/0001576475.p (force=False)\n",
      "  --> This file is 15.5kB.\n",
      "Done. Sleeping for 2 seconds\n",
      "11 / 19 \t: 0001590091 \t https://www.allmusic.com/artist/kumi-mineta-mn0001590091/discography/all\n",
      "Saving /Volumes/Biggy/Discog/artists-allmusic/91/0001590091.p (force=False)\n",
      "  --> This file is 15.0kB.\n",
      "Done. Sleeping for 2 seconds\n",
      "12 / 19 \t: 0001590281 \t https://www.allmusic.com/artist/kumi-craig-mn0001590281/discography/all\n",
      "Saving /Volumes/Biggy/Discog/artists-allmusic/81/0001590281.p (force=False)\n",
      "  --> This file is 15.8kB.\n",
      "Done. Sleeping for 2 seconds\n",
      "13 / 19 \t: 0001786949 \t https://www.allmusic.com/artist/koda-mcclain-mn0001786949/discography/all\n",
      "Saving /Volumes/Biggy/Discog/artists-allmusic/49/0001786949.p (force=False)\n",
      "  --> This file is 15.4kB.\n",
      "Done. Sleeping for 2 seconds\n",
      "14 / 19 \t: 0001893256 \t https://www.allmusic.com/artist/kumi-wakao-mn0001893256/discography/all\n"
     ]
    },
    {
     "name": "stdout",
     "output_type": "stream",
     "text": [
      "Saving /Volumes/Biggy/Discog/artists-allmusic/56/0001893256.p (force=False)\n",
      "  --> This file is 15.1kB.\n",
      "Done. Sleeping for 2 seconds\n",
      "15 / 19 \t: 0001990771 \t https://www.allmusic.com/artist/kumi-tanaka-mn0001990771/discography/all\n",
      "Saving /Volumes/Biggy/Discog/artists-allmusic/71/0001990771.p (force=False)\n",
      "  --> This file is 15.2kB.\n",
      "Done. Sleeping for 2 seconds\n",
      "16 / 19 \t: 0002056848 \t https://www.allmusic.com/artist/kumi-iwamoto-mn0002056848/discography/all\n",
      "17 / 19 \t: 0002099169 \t https://www.allmusic.com/artist/kumi-nakata-mn0002099169/discography/all\n",
      "18 / 19 \t: 0002099865 \t https://www.allmusic.com/artist/kumi-adachi-mn0002099865/discography/all\n",
      "19 / 19 \t: 0002104304 \t https://www.allmusic.com/artist/kumi-takahara-mn0002104304/discography/all\n",
      "Saving /Volumes/Biggy/Discog/artists-allmusic/4/0002104304.p (force=False)\n",
      "  --> This file is 15.0kB.\n",
      "Done. Sleeping for 2 seconds\n",
      "\n",
      "\n",
      "===================== Searching For Koda Kumi =====================\n",
      "Found 10 artists\n",
      "2 / 10 \t: 6 \t https://www.discogs.com/artist/112801-Kumi-Koda?sort=year%2Casc&limit=500\n",
      "3 / 10 \t: 6 \t https://www.discogs.com/artist/113041-Misono?sort=year%2Casc&limit=500\n",
      "4 / 10 \t: 5 \t https://www.discogs.com/artist/49148-m-flo?sort=year%2Casc&limit=500\n",
      "5 / 10 \t: 7 \t https://www.discogs.com/artist/1088821-DJ-Amaya?sort=year%2Casc&limit=500\n",
      "6 / 10 \t: 6 \t https://www.discogs.com/artist/455683-Daisuke-Suzuki-2?sort=year%2Casc&limit=500\n",
      "7 / 10 \t: 7 \t https://www.discogs.com/artist/4745105-The-Star-Onions?sort=year%2Casc&limit=500\n",
      "8 / 10 \t: 6 \t https://www.discogs.com/artist/820244-Davy-Bergier?sort=year%2Casc&limit=500\n",
      "9 / 10 \t: 7 \t https://www.discogs.com/artist/1744493-%E5%80%96%E7%94%B0%E4%BE%86%E6%9C%AA?sort=year%2Casc&limit=500\n",
      "10 / 10 \t: 7 \t https://www.discogs.com/artist/2221350-Charlie-Vox?sort=year%2Casc&limit=500\n"
     ]
    }
   ],
   "source": [
    "names = [\"Dee-Lite\", \"Grand Funk Railroad\", \"Koda Kumi\"]\n",
    "for name in names:\n",
    "    artsAM.searchAllMusicForArtist(name)\n",
    "    artsDC.searchDiscogForArtist(name)"
   ]
  },
  {
   "cell_type": "code",
   "execution_count": null,
   "metadata": {},
   "outputs": [],
   "source": []
  },
  {
   "cell_type": "markdown",
   "metadata": {},
   "source": [
    "# Redownload Matched Artists"
   ]
  },
  {
   "cell_type": "code",
   "execution_count": null,
   "metadata": {},
   "outputs": [],
   "source": [
    "artistIDToRef = disc.getArtistIDToRefData()"
   ]
  },
  {
   "cell_type": "code",
   "execution_count": null,
   "metadata": {},
   "outputs": [],
   "source": [
    "myMusicAlbumIDMap = getFile(\"/Users/tgadfort/Documents/code/music/musicDiscogsMap.p\")"
   ]
  },
  {
   "cell_type": "code",
   "execution_count": null,
   "metadata": {},
   "outputs": [],
   "source": [
    "for i,(artistName,artistVals) in enumerate(myMusicAlbumIDMap.items()):\n",
    "    if i <= 3695:\n",
    "        continue\n",
    "    print(\"\")\n",
    "    print(i,'/',len(myMusicAlbumIDMap),' \\t',artistName,'\\t',artistVals)\n",
    "    artistID,discogsName = artistVals\n",
    "    ref = artistIDToRef[artistID]\n",
    "    arts.downloadArtistFromID(artistID, ref)"
   ]
  },
  {
   "cell_type": "markdown",
   "metadata": {},
   "source": [
    "# Missing Artists From Albums"
   ]
  },
  {
   "cell_type": "code",
   "execution_count": null,
   "metadata": {},
   "outputs": [],
   "source": [
    "%load_ext autoreload\n",
    "%autoreload\n",
    "from albums import albums\n",
    "from discogsBase import discogs\n",
    "\n",
    "disc  = discogs()\n",
    "albs  = albums(disc)\n",
    "toget = albs.findMissingArtistsFromAlbums()\n",
    "\n",
    "from ioUtils import saveFile\n",
    "saveFile(idata=toget, ifile=\"missingArtistsFromAlbums.p\")"
   ]
  },
  {
   "cell_type": "code",
   "execution_count": null,
   "metadata": {},
   "outputs": [],
   "source": [
    "%load_ext autoreload\n",
    "%autoreload\n",
    "disc = discogs()\n",
    "arts = artists(disc)\n",
    "\n",
    "from ioUtils import getFile\n",
    "\n",
    "toget = getFile(ifile=\"missingArtistsFromAlbums.p\")\n",
    "\n",
    "from time import sleep\n",
    "togetmap  = toget['togetmap']\n",
    "refstoget = toget['toget']\n",
    "for ia,item in enumerate(refstoget.most_common()):\n",
    "    artistID, cnt = item[0], item[1]\n",
    "    ref      = togetmap[artistID]\n",
    "    url      = arts.getArtistURL(ref)\n",
    "    savename = arts.getArtistSavename(artistID)\n",
    "    if not isFile(savename):\n",
    "        try:\n",
    "            print('\\n{0}/{1}'.format(ia,len(refstoget)))\n",
    "            retval = arts.downloadArtistURL(url, savename, debug=True)\n",
    "            sleep(2)\n",
    "        except:\n",
    "            continue\n",
    "    else:\n",
    "        print(\"{0} known\".format(savename))\n",
    "            \n",
    "    #print(item)\n",
    "#len(togetmap)"
   ]
  },
  {
   "cell_type": "markdown",
   "metadata": {},
   "source": [
    "# Artists From Search"
   ]
  },
  {
   "cell_type": "code",
   "execution_count": null,
   "metadata": {},
   "outputs": [],
   "source": [
    "# ABC\n",
    "# Creed\n",
    "# Dune"
   ]
  },
  {
   "cell_type": "code",
   "execution_count": null,
   "metadata": {},
   "outputs": [],
   "source": [
    "arts.searchDiscogForArtist(\"Ours\", sleeptime=3)"
   ]
  },
  {
   "cell_type": "code",
   "execution_count": null,
   "metadata": {},
   "outputs": [],
   "source": [
    "from time import sleep\n",
    "vals  = [\"Gladys\", \"Glenn Hughes\", \"Greenhouse\", \"Grimace\", \"Ground Zero\", \"Half Pint\", \"Halo\", \"Haters\", \"Heritage\", \"Highstrung\", \"I.D.K.\", \"Ice Berg\"]\n",
    "vals += [\"J-Love\", \"J-Money\", \"Jason Dietz\", \"Jeff Kelly\", \"Jimmie Rodgers\", \"Joe Nash\", \"Julie Andrews\", \"Kevin Williamson\", \"Kid\", \"Killing Floor\"]\n",
    "vals += [\"Lady\", \"Livin\\' End\", \"Los\", \"Loudspeaker\", \"Lynx\", \"Madeline\", \"Mayday\", \"Michael Rice\", \"Mildred Pierce\", \"Morgan Harris\", \"Motive\"]\n",
    "vals += [\"Nancy Moore\", \"Nero\", \"1982\", \"38 Special\", \"5ive\", \"Oliver Twist\", \"Orwell\", \"Outcry\", \"Ox\"]\n",
    "vals += [\"Pacifier\", \"Painkiller\", \"Passengers\", \"Patrick Williams\", \"Paul Brewster\", \"Peter Ekstr\\\\u00f6m\", \"Physics\", \"Pillbox\", \"Problem\", \"Queensr\\\\u00ffche\"]\n",
    "vals += [\"Ransom\", \"Rigor Mortis\", \"Roccett\", \"Rocko\", \"Rodriguez\", \"Sasha\", \"Scarecrow\", \"Scientist\", \"Scotty\", \"Selena\", \"Silencer\", \"Smoove\", \"Soul Asylum\"]\n",
    "vals += [\"Stackabones\", \"Strangefolk\", \"Sugar Ray\", \"Suge White\", \"Sunchild\", \"Taco\", \"Tam\", \"Tech-9\", \"Tha Joker\", \"Thoth\", \"Tim Reynolds\", \"Torche\", \"Traffic\", \"The Beards\"]\n",
    "for val in vals:\n",
    "    print('='*30,val,'='*30)\n",
    "    try:\n",
    "        arts.searchDiscogForArtist(val, sleeptime=3)\n",
    "    except:\n",
    "        continue\n",
    "    print(\"\\n\\n\\n\")\n",
    "    sleep(2)"
   ]
  },
  {
   "cell_type": "code",
   "execution_count": null,
   "metadata": {},
   "outputs": [],
   "source": []
  },
  {
   "cell_type": "markdown",
   "metadata": {},
   "source": [
    "# New Artists From Albums"
   ]
  },
  {
   "cell_type": "code",
   "execution_count": null,
   "metadata": {},
   "outputs": [],
   "source": [
    "%load_ext autoreload\n",
    "%autoreload\n",
    "from albums import albums\n",
    "\n",
    "disc = discogs()\n",
    "albs = albums(disc)\n",
    "toget = albs.findMissingArtistsFromAlbums()"
   ]
  },
  {
   "cell_type": "code",
   "execution_count": null,
   "metadata": {},
   "outputs": [],
   "source": [
    "from time import sleep\n",
    "togetmap  = toget['togetmap']\n",
    "refstoget = toget['toget']\n",
    "for ia,item in enumerate(refstoget.most_common()):\n",
    "    print('\\n{0}/{1}'.format(ia,len(refstoget)))\n",
    "    artistID, cnt = item[0], item[1]\n",
    "    ref      = togetmap[artistID]\n",
    "    url      = arts.getArtistURL(ref)\n",
    "    savename = arts.getArtistSavename(artistID)\n",
    "    if not isFile(savename):\n",
    "        try:\n",
    "            arts.downloadArtistURL(url, savename, debug=True)\n",
    "        except:\n",
    "            continue\n",
    "        sleep(2)\n",
    "    #print(item)\n",
    "#len(togetmap)"
   ]
  },
  {
   "cell_type": "markdown",
   "metadata": {},
   "source": [
    "# Albums From Known People"
   ]
  },
  {
   "cell_type": "code",
   "execution_count": null,
   "metadata": {},
   "outputs": [],
   "source": [
    "data = getFile(\"/Volumes/Music/MusicDB/toget.p\")"
   ]
  },
  {
   "cell_type": "code",
   "execution_count": null,
   "metadata": {},
   "outputs": [],
   "source": [
    "%load_ext autoreload\n",
    "%autoreload\n",
    "from albums import albums\n",
    "disc = discogs()\n",
    "discdf = disc.getMasterDiscogsDB()\n",
    "print(discdf.shape)\n",
    "discdf = discdf[~discdf['Name'].isna()]\n",
    "print(discdf.shape)\n",
    "\n",
    "artists = list(discdf[\"Artist\"])\n",
    "\n",
    "_ = clock(\"Last Run\")"
   ]
  },
  {
   "cell_type": "code",
   "execution_count": null,
   "metadata": {},
   "outputs": [],
   "source": [
    "def getMusicData(key, artist):\n",
    "    retval = discdf[discdf[key] == artist]\n",
    "    if retval.shape[0] > 0:\n",
    "        return retval\n",
    "    else:\n",
    "        return None\n",
    "    \n",
    "toget={}\n",
    "known={}\n",
    "\n",
    "for ia,artistName in enumerate(data):\n",
    "    #artistID = artistName\n",
    "    artistID = None\n",
    "    if artistID is None:\n",
    "        retval = getMusicData('Name', artistName)\n",
    "        if retval is not None:\n",
    "            artistID = retval.index.values[0]\n",
    "    modValue  = dutils.getDiscIDHashMod(discID=artistID, modval=disc.getMaxModVal())\n",
    "    if toget.get(modValue) is None:\n",
    "        toget[modValue] = {}\n",
    "    toget[modValue][artistID] = True\n",
    "        \n",
    "    if ia % 100 == 0:\n",
    "        print(ia,'/',len(data))"
   ]
  },
  {
   "cell_type": "code",
   "execution_count": null,
   "metadata": {},
   "outputs": [],
   "source": [
    "for modVal in toget.keys():\n",
    "    artistIDs = toget[modVal]\n",
    "    print(modVal,'\\t',len(artistIDs))\n",
    "    dbdata = disc.getArtistsDBModValData(modVal)\n",
    "    for artistID in artistIDs:\n",
    "        print(' ',artistID)\n",
    "        artistData = dbdata[artistID]\n",
    "        albs.downloadAlbumFromArtistData(artistID=artistID, artistData=artistData, mediaTypes=None)"
   ]
  },
  {
   "cell_type": "markdown",
   "metadata": {},
   "source": [
    "# Albums From All Artists"
   ]
  },
  {
   "cell_type": "code",
   "execution_count": null,
   "metadata": {},
   "outputs": [],
   "source": [
    "%load_ext autoreload\n",
    "%autoreload\n",
    "from albums import albums\n",
    "disc = discogs()\n",
    "albs = albums(disc)\n",
    "albs.downloadAlbumsFromArtists(maxAlbums=1, mediaTypes=None, rand=True)"
   ]
  },
  {
   "cell_type": "code",
   "execution_count": null,
   "metadata": {},
   "outputs": [],
   "source": []
  },
  {
   "cell_type": "markdown",
   "metadata": {},
   "source": [
    "# Artists From Collections"
   ]
  },
  {
   "cell_type": "code",
   "execution_count": null,
   "metadata": {},
   "outputs": [],
   "source": [
    "%load_ext autoreload\n",
    "%autoreload\n",
    "\n",
    "from collection import Counter\n",
    "refCounts = Counter(disc.getCollectionRefCountsData())"
   ]
  },
  {
   "cell_type": "code",
   "execution_count": null,
   "metadata": {},
   "outputs": [],
   "source": [
    "artistIDDF = disc.getMasterArtistDiscogsDB()\n",
    "print(artistIDDF[\"Ref\"].shape)\n",
    "artistRefs = {v: k for k, v in artistIDDF[\"Ref\"].to_dict().items()}\n",
    "artistIDs  = {k: v for k, v in artistIDDF[\"Ref\"].to_dict().items()}\n",
    "print(len(artistRefs))"
   ]
  },
  {
   "cell_type": "code",
   "execution_count": null,
   "metadata": {},
   "outputs": [],
   "source": []
  },
  {
   "cell_type": "code",
   "execution_count": null,
   "metadata": {},
   "outputs": [],
   "source": [
    "try:\n",
    "    errFile = setFile(disc.getDiagnosticDir(), \"CollectionErrors.json\")\n",
    "    errs = getFile(errFile)\n",
    "except:\n",
    "    raise ValueError(\"Problem loading collections file\")\n",
    "    \n",
    "print(\"Found {0} errors\".format(len(errs)))\n",
    "nNext = len(errs)\n",
    "\n",
    "n = len(refCounts)\n",
    "nFalse = 0\n",
    "nNone  = 0\n",
    "nTrue  = 0\n",
    "\n",
    "for i,(ref,cnts) in enumerate(refCounts.most_common()):\n",
    "    if i < 286093:\n",
    "        continue\n",
    "    if i % 2500 == 0:\n",
    "        print(\"Processed {0}/{1}  (Errs={2})\".format(i,n, len(errs)))\n",
    "        \n",
    "    if errs.get(ref) is not None:\n",
    "        continue\n",
    "        \n",
    "    artistID = dutils.getArtistID(ref)\n",
    "    if artistID is None:\n",
    "        continue\n",
    "    if artistIDs.get(artistID) is None:\n",
    "        url      = arts.getArtistURL(ref)\n",
    "        savename = arts.getArtistSavename(artistID)\n",
    "        if isFile(savename):\n",
    "            continue\n",
    "            \n",
    "        try:\n",
    "            retval = arts.downloadArtistURL(url=url, savename=savename, parse=True, debug=True)\n",
    "            sleep(1)\n",
    "        except:\n",
    "            retval = None\n",
    "            \n",
    "        if retval is None:\n",
    "            nNone += 1\n",
    "            errs[ref] = \"None\"\n",
    "            print(\"\\t--->Adding None for {0}\".format(artistID))\n",
    "        if retval is False:\n",
    "            nFalse += 1\n",
    "            errs[ref] = \"False\"\n",
    "            print(\"\\t--->Adding False for {0}\".format(artistID))\n",
    "\n",
    "            \n",
    "        sleep(3)\n",
    "\n",
    "    if i % 1000 == 0:\n",
    "        print(\"There have been {0} errors so far...\".format(nNone))\n",
    "        print(\"There have been {0} no saves so far...\".format(nFalse))\n",
    "        print(\"There have been {0} full saves so far...\".format(nTrue))\n",
    "        \n",
    "        errFile = setFile(disc.getDiagnosticDir(), \"CollectionErrors.json\")\n",
    "        saveFile(ifile=errFile, idata=errs, debug=True)\n",
    "\n",
    "\n",
    "            \n",
    "    if len(errs) == nNext + 100:\n",
    "        errFile = setFile(disc.getDiagnosticDir(), \"CollectionErrors.json\")\n",
    "        saveFile(ifile=errFile, idata=errs, debug=True)\n",
    "        print(\"Breaking after 250 errors\")\n",
    "        print(\"Last I = {0}\".format(i))\n",
    "        break"
   ]
  },
  {
   "cell_type": "code",
   "execution_count": null,
   "metadata": {},
   "outputs": [],
   "source": [
    "len(errs)"
   ]
  },
  {
   "cell_type": "code",
   "execution_count": null,
   "metadata": {},
   "outputs": [],
   "source": [
    "disc.getDiagnosticDir()"
   ]
  },
  {
   "cell_type": "code",
   "execution_count": null,
   "metadata": {},
   "outputs": [],
   "source": []
  }
 ],
 "metadata": {
  "kernelspec": {
   "display_name": "Python 3",
   "language": "python",
   "name": "python3"
  },
  "language_info": {
   "codemirror_mode": {
    "name": "ipython",
    "version": 3
   },
   "file_extension": ".py",
   "mimetype": "text/x-python",
   "name": "python",
   "nbconvert_exporter": "python",
   "pygments_lexer": "ipython3",
   "version": "3.7.3"
  }
 },
 "nbformat": 4,
 "nbformat_minor": 2
}
