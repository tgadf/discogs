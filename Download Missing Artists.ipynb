{
 "cells": [
  {
   "cell_type": "markdown",
   "metadata": {},
   "source": [
    "# Discogs"
   ]
  },
  {
   "cell_type": "code",
   "execution_count": 17,
   "metadata": {},
   "outputs": [
    {
     "name": "stdout",
     "output_type": "stream",
     "text": [
      "The autoreload extension is already loaded. To reload it, use:\n",
      "  %reload_ext autoreload\n"
     ]
    },
    {
     "data": {
      "text/html": [
       "<style>.container { width:100% !important; }</style>"
      ],
      "text/plain": [
       "<IPython.core.display.HTML object>"
      ]
     },
     "metadata": {},
     "output_type": "display_data"
    },
    {
     "data": {
      "text/html": [
       "<style>div.output_area{max-height:10000px;overflow:scroll;}</style>"
      ],
      "text/plain": [
       "<IPython.core.display.HTML object>"
      ]
     },
     "metadata": {},
     "output_type": "display_data"
    },
    {
     "name": "stdout",
     "output_type": "stream",
     "text": [
      "Python: 3.7.7 (default, Mar 26 2020, 10:32:53) \n",
      "[Clang 4.0.1 (tags/RELEASE_401/final)]\n",
      "Notebook Last Run Initiated: 2020-06-27 12:20:47.356963\n"
     ]
    }
   ],
   "source": [
    "######################################################\n",
    "# Juypter\n",
    "######################################################\n",
    "%load_ext autoreload\n",
    "%autoreload\n",
    "from IPython.core.display import display, HTML\n",
    "display(HTML(\"<style>.container { width:100% !important; }</style>\"))\n",
    "display(HTML(\"\"\"<style>div.output_area{max-height:10000px;overflow:scroll;}</style>\"\"\"))\n",
    "\n",
    "\n",
    "######################################################\n",
    "# General\n",
    "######################################################\n",
    "from ioUtils import saveJoblib, loadJoblib, saveFile, getFile\n",
    "import urllib\n",
    "from urllib.parse import quote\n",
    "from timeUtils import clock, elapsed\n",
    "from fsUtils import moveFile, setFile, setDir, setSubDir, isFile, isDir, mkDir\n",
    "from ioUtils import getFile, saveFile\n",
    "from fileUtils import getFileBasics, getBasename\n",
    "from webUtils import getWebData, getHTML, getURL\n",
    "from time import sleep\n",
    "import time\n",
    "from multiprocessing import Pool\n",
    "\n",
    "\n",
    "######################################################\n",
    "# Music Stuff\n",
    "######################################################\n",
    "from dbBase import dbBase\n",
    "from multiArtist import multiartist\n",
    "from myMusicDBMap import myMusicDBMap\n",
    "from mainDB import mainDB\n",
    "\n",
    "\n",
    "######################################################\n",
    "# Versions\n",
    "######################################################\n",
    "import sys\n",
    "print(\"Python: {0}\".format(sys.version))\n",
    "import datetime as dt\n",
    "start = dt.datetime.now()\n",
    "print(\"Notebook Last Run Initiated: \"+str(start))"
   ]
  },
  {
   "cell_type": "markdown",
   "metadata": {},
   "source": [
    "# Initialize"
   ]
  },
  {
   "cell_type": "code",
   "execution_count": 18,
   "metadata": {},
   "outputs": [
    {
     "name": "stdout",
     "output_type": "stream",
     "text": [
      "Creating myMusicDBMap()\n",
      "   Loading my music db map: /Users/tgadfort/opt/anaconda3/envs/py37/musicdb/myMusicMap.p\n",
      "   DB keys: ['Discogs', 'AllMusic', 'MusicBrainz', 'AceBootlegs', 'RateYourMusic', 'LastFM', 'DatPiff', 'RockCorner', 'CDandLP', 'MusicStack', 'MetalStorm']\n",
      "Counter({'Discogs': 3941, 'AllMusic': 3896, 'MusicBrainz': 3682, 'LastFM': 2776, 'RockCorner': 468, 'DatPiff': 458, 'AceBootlegs': 175, 'CDandLP': 82, 'RateYourMusic': 30, 'MusicStack': 5, 'MetalStorm': 0})\n"
     ]
    }
   ],
   "source": [
    "mdb = myMusicDBMap(debug=True)"
   ]
  },
  {
   "cell_type": "markdown",
   "metadata": {},
   "source": [
    "# Search"
   ]
  },
  {
   "cell_type": "code",
   "execution_count": 19,
   "metadata": {},
   "outputs": [
    {
     "data": {
      "text/plain": [
       "dict_keys(['Discogs', 'AllMusic', 'MusicBrainz', 'LastFM', 'RockCorner', 'DatPiff', 'AceBootlegs', 'CDandLP', 'RateYourMusic', 'MusicStack'])"
      ]
     },
     "execution_count": 19,
     "metadata": {},
     "output_type": "execute_result"
    }
   ],
   "source": [
    "maindb.getDBs()"
   ]
  },
  {
   "cell_type": "code",
   "execution_count": 22,
   "metadata": {},
   "outputs": [
    {
     "name": "stdout",
     "output_type": "stream",
     "text": [
      "Setting Basic Database Objects\n",
      "=========================   discogs   =========================\n",
      "=========================   allmusic   =========================\n",
      "=========================   musicbrainz   =========================\n",
      "=========================   lastfm   =========================\n",
      "=========================   rockcorner   =========================\n",
      "=========================   datpiff   =========================\n",
      "=========================   acebootlegs   =========================\n",
      "=========================   cdandlp   =========================\n",
      "=========================   rateyourmusic   =========================\n",
      "=========================   musicstack   =========================\n",
      "  Creating Database Records for Discogs\n",
      "  Creating Database Records for AllMusic\n",
      "  Creating Database Records for MusicBrainz\n",
      "  Creating Database Records for LastFM\n",
      "  Creating Database Records for RockCorner\n",
      "  Creating Database Records for DatPiff\n",
      "  Creating Database Records for AceBootlegs\n",
      "  Creating Database Records for CDandLP\n",
      "  Creating Database Records for RateYourMusic\n",
      "  Creating Database Records for MusicStack\n",
      "Available DBs: Discogs, AllMusic, MusicBrainz, LastFM, RockCorner, DatPiff, AceBootlegs, CDandLP, RateYourMusic, MusicStack\n",
      "\n",
      "\n",
      "===================== Searching For Rory Block =====================\n",
      "2 / 3 \t: 6 \t https://www.discogs.com/artist/223609-Rory-Block?sort=year%2Casc&limit=500\n",
      "3 / 3 \t: 7 \t https://www.discogs.com/artist/4312686-Jeff-Cosgrove-2?sort=year%2Casc&limit=500\n",
      "\n",
      "\n",
      "===================== Searching For Rory Block =====================\n",
      "1 / 18 \t: 0000339160 \t https://www.allmusic.com/artist/rory-block-mn0000339160/discography/all\n",
      "Saving /Volumes/Piggy/Discog/artists-allmusic/60/0000339160.p (force=False)\n",
      "  --> This file is 26.4kB.\n",
      "Done. Sleeping for 2 seconds\n",
      "2 / 18 \t: 0000337631 \t https://www.allmusic.com/artist/rory-gallagher-mn0000337631/discography/all\n",
      "Saving /Volumes/Piggy/Discog/artists-allmusic/31/0000337631.p (force=False)\n",
      "  --> This file is 28.5kB.\n",
      "Done. Sleeping for 2 seconds\n",
      "3 / 18 \t: 0000390477 \t https://www.allmusic.com/artist/new-kids-on-the-block-mn0000390477/discography/all\n",
      "4 / 18 \t: 0000339640 \t https://www.allmusic.com/artist/rory-mn0000339640/discography/all\n",
      "Saving /Volumes/Piggy/Discog/artists-allmusic/40/0000339640.p (force=False)\n",
      "  --> This file is 18.9kB.\n",
      "Done. Sleeping for 2 seconds\n",
      "5 / 18 \t: 0001019002 \t https://www.allmusic.com/artist/joey-rory-mn0001019002/discography/all\n",
      "6 / 18 \t: 0003340178 \t https://www.allmusic.com/artist/rag-n-bone-man-mn0003340178/discography/all\n",
      "7 / 18 \t: 0002158427 \t https://www.allmusic.com/artist/block-b-mn0002158427/discography/all\n",
      "Saving /Volumes/Piggy/Discog/artists-allmusic/27/0002158427.p (force=False)\n",
      "  --> This file is 19.0kB.\n",
      "Done. Sleeping for 2 seconds\n",
      "8 / 18 \t: 0000339771 \t https://www.allmusic.com/artist/rory-michael-bourke-mn0000339771/discography/all\n",
      "Saving /Volumes/Piggy/Discog/artists-allmusic/71/0000339771.p (force=False)\n",
      "  --> This file is 14.1kB.\n",
      "Done. Sleeping for 2 seconds\n",
      "9 / 18 \t: 0000339249 \t https://www.allmusic.com/artist/rory-mcleod-mn0000339249/discography/all\n",
      "Saving /Volumes/Piggy/Discog/artists-allmusic/49/0000339249.p (force=False)\n",
      "  --> This file is 19.1kB.\n",
      "Done. Sleeping for 2 seconds\n",
      "10 / 18 \t: 0000051842 \t https://www.allmusic.com/artist/block-burnaz-mn0000051842/discography/all\n",
      "Saving /Volumes/Piggy/Discog/artists-allmusic/42/0000051842.p (force=False)\n",
      "  --> This file is 16.8kB.\n",
      "Done. Sleeping for 2 seconds\n",
      "11 / 18 \t: 0000052485 \t https://www.allmusic.com/artist/block-mccloud-mn0000052485/discography/all\n",
      "Saving /Volumes/Piggy/Discog/artists-allmusic/85/0000052485.p (force=False)\n",
      "  --> This file is 16.8kB.\n",
      "Done. Sleeping for 2 seconds\n",
      "12 / 18 \t: 0000339832 \t https://www.allmusic.com/artist/rory-stuart-mn0000339832/discography/all\n",
      "Saving /Volumes/Piggy/Discog/artists-allmusic/32/0000339832.p (force=False)\n",
      "  --> This file is 16.8kB.\n",
      "Done. Sleeping for 2 seconds\n",
      "13 / 18 \t: 0000381900 \t https://www.allmusic.com/artist/the-block-heads-mn0000381900/discography/all\n",
      "Saving /Volumes/Piggy/Discog/artists-allmusic/0/0000381900.p (force=False)\n",
      "  --> This file is 15.6kB.\n",
      "Done. Sleeping for 2 seconds\n",
      "14 / 18 \t: 0001777867 \t https://www.allmusic.com/artist/rory-comtois-mn0001777867/discography/all\n",
      "Saving /Volumes/Piggy/Discog/artists-allmusic/67/0001777867.p (force=False)\n",
      "  --> This file is 15.6kB.\n",
      "Done. Sleeping for 2 seconds\n",
      "15 / 18 \t: 0002088583 \t https://www.allmusic.com/artist/block-runnas-mn0002088583/discography/all\n",
      "Saving /Volumes/Piggy/Discog/artists-allmusic/83/0002088583.p (force=False)\n",
      "  --> This file is 16.1kB.\n",
      "Done. Sleeping for 2 seconds\n",
      "16 / 18 \t: 0002635968 \t https://www.allmusic.com/artist/rory-kelly-mn0002635968/discography/all\n",
      "Saving /Volumes/Piggy/Discog/artists-allmusic/68/0002635968.p (force=False)\n",
      "  --> This file is 16.8kB.\n",
      "Done. Sleeping for 2 seconds\n",
      "17 / 18 \t: 0002712058 \t https://www.allmusic.com/artist/harry-fraud-mn0002712058/discography/all\n",
      "Saving /Volumes/Piggy/Discog/artists-allmusic/58/0002712058.p (force=False)\n",
      "  --> This file is 18.7kB.\n",
      "Done. Sleeping for 2 seconds\n",
      "18 / 18 \t: 0002878298 \t https://www.allmusic.com/artist/rory-taillon-mn0002878298/discography/all\n",
      "Saving /Volumes/Piggy/Discog/artists-allmusic/98/0002878298.p (force=False)\n",
      "  --> This file is 15.6kB.\n",
      "Done. Sleeping for 2 seconds\n",
      "\n",
      "\n",
      "===================== Searching For Rory Block =====================\n",
      "1 / 100 \t: 324353931949645502177114091282114365261 \t https://musicbrainz.org/artist/1e9aa4bd-9689-4535-9665-7f661d63d1c8\n",
      "Saving /Volumes/Piggy/Discog/artists-musicbrainz/61/324353931949645502177114091282114365261.p (force=False)\n",
      "  --> This file is 119.8kB.\n",
      "Done. Sleeping for 2 seconds\n",
      "2 / 100 \t: 157456689911620800425713259906187899697 \t https://musicbrainz.org/artist/933fdeae-ec68-48e9-a752-8bcfd44bc429\n",
      "Saving /Volumes/Piggy/Discog/artists-musicbrainz/97/157456689911620800425713259906187899697.p (force=False)\n",
      "  --> This file is 119.3kB.\n",
      "Done. Sleeping for 2 seconds\n",
      "3 / 100 \t: 191461667068329119102599260686543840711 \t https://musicbrainz.org/artist/81a877ac-10c8-4bbe-ad6c-b8bb62369215\n",
      "Saving /Volumes/Piggy/Discog/artists-musicbrainz/11/191461667068329119102599260686543840711.p (force=False)\n",
      "  --> This file is 111.4kB.\n",
      "Done. Sleeping for 2 seconds\n",
      "4 / 100 \t: 314247737614073738339425860473288069057 \t https://musicbrainz.org/artist/16e7f3e9-9dd0-4a9c-8b73-8b719659769c\n",
      "5 / 100 \t: 132820293293384498485195440958423627390 \t https://musicbrainz.org/artist/42949e82-0339-49b9-85c5-5480ca84c3f0\n",
      "Saving /Volumes/Piggy/Discog/artists-musicbrainz/90/132820293293384498485195440958423627390.p (force=False)\n",
      "  --> This file is 113.8kB.\n",
      "Done. Sleeping for 2 seconds\n",
      "6 / 100 \t: 251468346915526942572945445318851345074 \t https://musicbrainz.org/artist/20871535-a6d4-43f7-8b14-62442394a777\n",
      "Saving /Volumes/Piggy/Discog/artists-musicbrainz/74/251468346915526942572945445318851345074.p (force=False)\n",
      "  --> This file is 108.6kB.\n",
      "Done. Sleeping for 2 seconds\n",
      "7 / 100 \t: 254780684073706126471582433114124874348 \t https://musicbrainz.org/artist/9d670223-b270-4485-bdfc-d324e8db90b6\n",
      "Saving /Volumes/Piggy/Discog/artists-musicbrainz/48/254780684073706126471582433114124874348.p (force=False)\n",
      "  --> This file is 110.3kB.\n",
      "Done. Sleeping for 2 seconds\n",
      "8 / 100 \t: 273649356326907690398703386817423521406 \t https://musicbrainz.org/artist/448c3217-8c67-4dd4-bba6-476bbfb99c9f\n",
      "9 / 100 \t: 202428351223671601368106689023125959679 \t https://musicbrainz.org/artist/aba73860-102b-4d32-a9ed-631d24da2fd7\n",
      "Saving /Volumes/Piggy/Discog/artists-musicbrainz/79/202428351223671601368106689023125959679.p (force=False)\n",
      "  --> This file is 110.7kB.\n",
      "Done. Sleeping for 2 seconds\n",
      "10 / 100 \t: 329142749414912395440885158693976454788 \t https://musicbrainz.org/artist/b01e7f27-9b0a-4cdb-85eb-3154164e5b81\n",
      "Saving /Volumes/Piggy/Discog/artists-musicbrainz/88/329142749414912395440885158693976454788.p (force=False)\n",
      "  --> This file is 110.5kB.\n",
      "Done. Sleeping for 2 seconds\n",
      "11 / 100 \t: 103273522486640241881740588661381602158 \t https://musicbrainz.org/artist/6d2bce37-fd80-45d4-ba4f-5927dc9b445e\n",
      "Saving /Volumes/Piggy/Discog/artists-musicbrainz/58/103273522486640241881740588661381602158.p (force=False)\n",
      "  --> This file is 111.1kB.\n",
      "Done. Sleeping for 2 seconds\n",
      "12 / 100 \t: 152927272453625539946143623252153477569 \t https://musicbrainz.org/artist/2b01aa0a-151b-42a9-b66e-99844cd43c7e\n"
     ]
    },
    {
     "name": "stdout",
     "output_type": "stream",
     "text": [
      "Saving /Volumes/Piggy/Discog/artists-musicbrainz/69/152927272453625539946143623252153477569.p (force=False)\n",
      "  --> This file is 109.8kB.\n",
      "Done. Sleeping for 2 seconds\n",
      "13 / 100 \t: 149352308805308705552386250276250204686 \t https://musicbrainz.org/artist/26b58c8a-c93a-4d5b-b823-e7da7b9ae66e\n",
      "Saving /Volumes/Piggy/Discog/artists-musicbrainz/86/149352308805308705552386250276250204686.p (force=False)\n",
      "  --> This file is 113.4kB.\n",
      "Done. Sleeping for 2 seconds\n",
      "14 / 100 \t: 107596856441220279157006782688839500659 \t https://musicbrainz.org/artist/8c538f11-c141-4588-8ecb-931083524186\n",
      "Saving /Volumes/Piggy/Discog/artists-musicbrainz/59/107596856441220279157006782688839500659.p (force=False)\n",
      "  --> This file is 117.7kB.\n",
      "Done. Sleeping for 2 seconds\n",
      "15 / 100 \t: 167670734314931489267118175132128877290 \t https://musicbrainz.org/artist/96f4f604-9e3a-43df-9775-f54166e79c56\n",
      "Saving /Volumes/Piggy/Discog/artists-musicbrainz/90/167670734314931489267118175132128877290.p (force=False)\n",
      "  --> This file is 111.8kB.\n",
      "Done. Sleeping for 2 seconds\n",
      "16 / 100 \t: 10908044739110127860660775603249219442 \t https://musicbrainz.org/artist/87ed2bd1-5926-480c-840b-939ca3315eed\n",
      "Saving /Volumes/Piggy/Discog/artists-musicbrainz/42/10908044739110127860660775603249219442.p (force=False)\n",
      "  --> This file is 114.6kB.\n",
      "Done. Sleeping for 2 seconds\n",
      "17 / 100 \t: 328782871908721672696164786598364326260 \t https://musicbrainz.org/artist/109f166e-bffc-43b9-8220-af599218b30c\n",
      "Saving /Volumes/Piggy/Discog/artists-musicbrainz/60/328782871908721672696164786598364326260.p (force=False)\n",
      "  --> This file is 109.1kB.\n",
      "Done. Sleeping for 2 seconds\n",
      "18 / 100 \t: 335502512525296806995003814808949720205 \t https://musicbrainz.org/artist/977e9297-a7e4-449c-94f0-2c500245d07e\n",
      "Saving /Volumes/Piggy/Discog/artists-musicbrainz/5/335502512525296806995003814808949720205.p (force=False)\n",
      "  --> This file is 111.5kB.\n",
      "Done. Sleeping for 2 seconds\n",
      "19 / 100 \t: 266372158718942371245942085516851362695 \t https://musicbrainz.org/artist/447a6547-f5c5-4b81-a0bb-6ff41084dd77\n",
      "Saving /Volumes/Piggy/Discog/artists-musicbrainz/95/266372158718942371245942085516851362695.p (force=False)\n",
      "  --> This file is 114.3kB.\n",
      "Done. Sleeping for 2 seconds\n",
      "20 / 100 \t: 277768072485381142956337029062990462706 \t https://musicbrainz.org/artist/1dbe33b0-7efa-49a2-86d7-84c37a2b0fbb\n",
      "Saving /Volumes/Piggy/Discog/artists-musicbrainz/6/277768072485381142956337029062990462706.p (force=False)\n",
      "  --> This file is 115.5kB.\n",
      "Done. Sleeping for 2 seconds\n",
      "21 / 100 \t: 310661116410501624010382815192274267390 \t https://musicbrainz.org/artist/6c7bea28-c146-4c1d-bda3-bbbb0e18e76b\n",
      "22 / 100 \t: 314125920238462929183017309934117804121 \t https://musicbrainz.org/artist/4071c3cf-954b-43b6-b3ab-679ef414d076\n",
      "Saving /Volumes/Piggy/Discog/artists-musicbrainz/21/314125920238462929183017309934117804121.p (force=False)\n",
      "  --> This file is 114.7kB.\n",
      "Done. Sleeping for 2 seconds\n",
      "23 / 100 \t: 50528456031908544700221195957336897982 \t https://musicbrainz.org/artist/13abb86c-e825-4594-8cbd-fb24a4020068\n",
      "Saving /Volumes/Piggy/Discog/artists-musicbrainz/82/50528456031908544700221195957336897982.p (force=False)\n",
      "  --> This file is 114.2kB.\n",
      "Done. Sleeping for 2 seconds\n",
      "24 / 100 \t: 83890865437144875584859168964782922499 \t https://musicbrainz.org/artist/92ea3504-09a2-4794-b64f-bf22fa541266\n",
      "Saving /Volumes/Piggy/Discog/artists-musicbrainz/99/83890865437144875584859168964782922499.p (force=False)\n",
      "  --> This file is 111.5kB.\n",
      "Done. Sleeping for 2 seconds\n",
      "25 / 100 \t: 194630723037066014891893252611876028375 \t https://musicbrainz.org/artist/aa2f9f5a-f0a5-491a-8c28-679141c985ef\n",
      "Saving /Volumes/Piggy/Discog/artists-musicbrainz/75/194630723037066014891893252611876028375.p (force=False)\n",
      "  --> This file is 112.0kB.\n",
      "Done. Sleeping for 2 seconds\n",
      "26 / 100 \t: 69395303427429346482083508139385141150 \t https://musicbrainz.org/artist/0e3a9fee-e3ed-4a38-9108-0157ef00e059\n",
      "27 / 100 \t: 51866881281203345565974167253670567917 \t https://musicbrainz.org/artist/ee281c14-5420-478c-899e-52beed04ae8a\n",
      "28 / 100 \t: 195303154469435632516272961387331945769 \t https://musicbrainz.org/artist/cf589850-d865-49ce-92d9-5b3f425a2560\n",
      "Saving /Volumes/Piggy/Discog/artists-musicbrainz/69/195303154469435632516272961387331945769.p (force=False)\n",
      "  --> This file is 111.3kB.\n",
      "Done. Sleeping for 2 seconds\n",
      "29 / 100 \t: 152857559512525647509915661898003672387 \t https://musicbrainz.org/artist/3c34302d-29bf-48a3-aeac-333876e89ed0\n",
      "Saving /Volumes/Piggy/Discog/artists-musicbrainz/87/152857559512525647509915661898003672387.p (force=False)\n",
      "  --> This file is 112.2kB.\n",
      "Done. Sleeping for 2 seconds\n",
      "30 / 100 \t: 187558665743248685771337806696783887452 \t https://musicbrainz.org/artist/2f1d2c20-c9b2-47a5-b5e7-7a2e9dbd1df6\n",
      "Saving /Volumes/Piggy/Discog/artists-musicbrainz/52/187558665743248685771337806696783887452.p (force=False)\n",
      "  --> This file is 108.7kB.\n",
      "Done. Sleeping for 2 seconds\n",
      "31 / 100 \t: 121547356600240149701244941651780634498 \t https://musicbrainz.org/artist/e63b4765-65d1-4ef5-ab05-cd7044ac6b0a\n",
      "32 / 100 \t: 279350175684478886163046720615867016003 \t https://musicbrainz.org/artist/fa17a344-8420-40ac-a77f-55744f3f9ec8\n",
      "33 / 100 \t: 337681189181509544336512220940254380722 \t https://musicbrainz.org/artist/13cff9d3-82e3-40e2-9cc1-2a25a15f9d54\n",
      "Saving /Volumes/Piggy/Discog/artists-musicbrainz/22/337681189181509544336512220940254380722.p (force=False)\n",
      "  --> This file is 114.0kB.\n",
      "Done. Sleeping for 2 seconds\n",
      "34 / 100 \t: 26109508118460236472872729526960985521 \t https://musicbrainz.org/artist/ba71f6aa-8c2b-4c0e-a2e6-140356986ae0\n",
      "Saving /Volumes/Piggy/Discog/artists-musicbrainz/21/26109508118460236472872729526960985521.p (force=False)\n",
      "  --> This file is 114.7kB.\n",
      "Done. Sleeping for 2 seconds\n",
      "35 / 100 \t: 49522639570081494595810868581537818757 \t https://musicbrainz.org/artist/dd109b1f-0886-4753-9e61-80aa1e4ab09a\n",
      "Saving /Volumes/Piggy/Discog/artists-musicbrainz/57/49522639570081494595810868581537818757.p (force=False)\n",
      "  --> This file is 112.8kB.\n",
      "Done. Sleeping for 2 seconds\n",
      "36 / 100 \t: 235180505771263484290323737893999817825 \t https://musicbrainz.org/artist/2146d427-a530-446b-8bf9-ba5623cbda1c\n",
      "Saving /Volumes/Piggy/Discog/artists-musicbrainz/25/235180505771263484290323737893999817825.p (force=False)\n",
      "  --> This file is 111.8kB.\n",
      "Done. Sleeping for 2 seconds\n",
      "37 / 100 \t: 200534010247347331491290159614900342341 \t https://musicbrainz.org/artist/ee98398c-b8f7-4059-9c0b-38b0b930a761\n",
      "Saving /Volumes/Piggy/Discog/artists-musicbrainz/41/200534010247347331491290159614900342341.p (force=False)\n",
      "  --> This file is 108.2kB.\n",
      "Done. Sleeping for 2 seconds\n",
      "38 / 100 \t: 248264399457211833431821756989767687593 \t https://musicbrainz.org/artist/96d8b5ee-18d9-4979-b056-8949d7a8e64c\n",
      "Saving /Volumes/Piggy/Discog/artists-musicbrainz/93/248264399457211833431821756989767687593.p (force=False)\n",
      "  --> This file is 113.0kB.\n",
      "Done. Sleeping for 2 seconds\n",
      "39 / 100 \t: 13562283372842035984941082997012917773 \t https://musicbrainz.org/artist/b3aaeaa5-306a-4579-ac75-577cb3d7a3f1\n",
      "Saving /Volumes/Piggy/Discog/artists-musicbrainz/73/13562283372842035984941082997012917773.p (force=False)\n",
      "  --> This file is 111.4kB.\n",
      "Done. Sleeping for 2 seconds\n",
      "40 / 100 \t: 115487658320507238902986055050133251744 \t https://musicbrainz.org/artist/26c60538-3a66-4ba7-8863-6aac89899451\n",
      "Saving /Volumes/Piggy/Discog/artists-musicbrainz/44/115487658320507238902986055050133251744.p (force=False)\n",
      "  --> This file is 111.6kB.\n",
      "Done. Sleeping for 2 seconds\n",
      "41 / 100 \t: 160955027809411094332960583261274187414 \t https://musicbrainz.org/artist/9ade7353-38e0-4519-a3aa-f5619a94655c\n",
      "Saving /Volumes/Piggy/Discog/artists-musicbrainz/14/160955027809411094332960583261274187414.p (force=False)\n",
      "  --> This file is 113.2kB.\n",
      "Done. Sleeping for 2 seconds\n",
      "42 / 100 \t: 150048087468459381275205771959724779130 \t https://musicbrainz.org/artist/ff7b55d9-d487-4de8-80d4-60fa5561fbec\n",
      "Saving /Volumes/Piggy/Discog/artists-musicbrainz/30/150048087468459381275205771959724779130.p (force=False)\n",
      "  --> This file is 110.3kB.\n",
      "Done. Sleeping for 2 seconds\n",
      "43 / 100 \t: 254821191426781715176114582087525775847 \t https://musicbrainz.org/artist/ec45d729-d459-45c7-89b3-22c4caa65ae7\n",
      "Saving /Volumes/Piggy/Discog/artists-musicbrainz/47/254821191426781715176114582087525775847.p (force=False)\n",
      "  --> This file is 112.4kB.\n",
      "Done. Sleeping for 2 seconds\n"
     ]
    },
    {
     "name": "stdout",
     "output_type": "stream",
     "text": [
      "44 / 100 \t: 204216082475807001193249984770713361708 \t https://musicbrainz.org/artist/6e42cbf0-4fae-42cb-8c7c-1482b7b858dc\n",
      "Saving /Volumes/Piggy/Discog/artists-musicbrainz/8/204216082475807001193249984770713361708.p (force=False)\n",
      "  --> This file is 112.9kB.\n",
      "Done. Sleeping for 2 seconds\n",
      "45 / 100 \t: 162484564521008424730146099655774523670 \t https://musicbrainz.org/artist/b1f55d5f-9566-41c3-ac4a-09838c904445\n",
      "Saving /Volumes/Piggy/Discog/artists-musicbrainz/70/162484564521008424730146099655774523670.p (force=False)\n",
      "  --> This file is 112.9kB.\n",
      "Done. Sleeping for 2 seconds\n",
      "46 / 100 \t: 336767733318500029738110317612312783810 \t https://musicbrainz.org/artist/c6ce3e01-9586-4860-88de-39afde581c37\n",
      "Saving /Volumes/Piggy/Discog/artists-musicbrainz/10/336767733318500029738110317612312783810.p (force=False)\n",
      "  --> This file is 110.2kB.\n",
      "Done. Sleeping for 2 seconds\n",
      "47 / 100 \t: 261352619348315858664960547365166910928 \t https://musicbrainz.org/artist/dbd144ad-15ad-467a-89d9-471e9cfa87a4\n",
      "Saving /Volumes/Piggy/Discog/artists-musicbrainz/28/261352619348315858664960547365166910928.p (force=False)\n",
      "  --> This file is 110.7kB.\n",
      "Done. Sleeping for 2 seconds\n",
      "48 / 100 \t: 335772537183607505533058213837738623844 \t https://musicbrainz.org/artist/c7605e00-7364-41b1-8c98-c65c440b1bfd\n",
      "Saving /Volumes/Piggy/Discog/artists-musicbrainz/44/335772537183607505533058213837738623844.p (force=False)\n",
      "  --> This file is 111.6kB.\n",
      "Done. Sleeping for 2 seconds\n",
      "49 / 100 \t: 68878067915130975095124793870900797725 \t https://musicbrainz.org/artist/71a47979-3275-4d63-be3c-357b573c4976\n",
      "Saving /Volumes/Piggy/Discog/artists-musicbrainz/25/68878067915130975095124793870900797725.p (force=False)\n",
      "  --> This file is 110.2kB.\n",
      "Done. Sleeping for 2 seconds\n",
      "50 / 100 \t: 270387402849612099941656309304811840441 \t https://musicbrainz.org/artist/1f9538db-e155-49f3-80a1-d423fa2e5a82\n",
      "Saving /Volumes/Piggy/Discog/artists-musicbrainz/41/270387402849612099941656309304811840441.p (force=False)\n",
      "  --> This file is 111.6kB.\n",
      "Done. Sleeping for 2 seconds\n",
      "51 / 100 \t: 123844384441796667952922250474447397946 \t https://musicbrainz.org/artist/17ea42df-268e-4050-a898-c423aaf59a8f\n",
      "Saving /Volumes/Piggy/Discog/artists-musicbrainz/46/123844384441796667952922250474447397946.p (force=False)\n",
      "  --> This file is 111.7kB.\n",
      "Done. Sleeping for 2 seconds\n",
      "52 / 100 \t: 94124380547785169592130050182866040366 \t https://musicbrainz.org/artist/a796480f-e5d9-47f7-b689-5e454817d780\n",
      "Saving /Volumes/Piggy/Discog/artists-musicbrainz/66/94124380547785169592130050182866040366.p (force=False)\n",
      "  --> This file is 110.7kB.\n",
      "Done. Sleeping for 2 seconds\n",
      "53 / 100 \t: 47869002110972349670741522820685498940 \t https://musicbrainz.org/artist/8100da0b-5b3a-44aa-9afd-27932262f314\n",
      "Saving /Volumes/Piggy/Discog/artists-musicbrainz/40/47869002110972349670741522820685498940.p (force=False)\n",
      "  --> This file is 112.0kB.\n",
      "Done. Sleeping for 2 seconds\n",
      "54 / 100 \t: 110220450145493531642434847465183857877 \t https://musicbrainz.org/artist/0885467b-5495-4ed7-a4c9-453a7fc04fb2\n",
      "Saving /Volumes/Piggy/Discog/artists-musicbrainz/77/110220450145493531642434847465183857877.p (force=False)\n",
      "  --> This file is 111.5kB.\n",
      "Done. Sleeping for 2 seconds\n",
      "55 / 100 \t: 162201916504467119321211446598967368435 \t https://musicbrainz.org/artist/f345c610-3194-4042-8727-f8e441e22dfe\n",
      "56 / 100 \t: 334735260657810941533477252657334114463 \t https://musicbrainz.org/artist/70b053b6-c8af-4434-85ea-58507e173844\n",
      "Saving /Volumes/Piggy/Discog/artists-musicbrainz/63/334735260657810941533477252657334114463.p (force=False)\n",
      "  --> This file is 116.0kB.\n",
      "Done. Sleeping for 2 seconds\n",
      "57 / 100 \t: 10909028477073239054485806816080115669 \t https://musicbrainz.org/artist/31d2cb78-56a0-483e-b2dc-22ea55971135\n",
      "Saving /Volumes/Piggy/Discog/artists-musicbrainz/69/10909028477073239054485806816080115669.p (force=False)\n",
      "  --> This file is 115.4kB.\n",
      "Done. Sleeping for 2 seconds\n",
      "58 / 100 \t: 301574220298055491294374731801457950161 \t https://musicbrainz.org/artist/bfb29713-76b5-413b-87f3-0958b22bac09\n",
      "Saving /Volumes/Piggy/Discog/artists-musicbrainz/61/301574220298055491294374731801457950161.p (force=False)\n",
      "  --> This file is 111.8kB.\n",
      "Done. Sleeping for 2 seconds\n",
      "59 / 100 \t: 244489844891182423323910176949133516110 \t https://musicbrainz.org/artist/efe9b939-a1b9-4e58-91ef-45d398798590\n",
      "60 / 100 \t: 287460020319994501614338570038043634774 \t https://musicbrainz.org/artist/79b75a1f-ecf2-42e9-bf04-5e5f54a67138\n",
      "Saving /Volumes/Piggy/Discog/artists-musicbrainz/74/287460020319994501614338570038043634774.p (force=False)\n",
      "  --> This file is 111.2kB.\n",
      "Done. Sleeping for 2 seconds\n",
      "61 / 100 \t: 166593334036098117853591504522789835664 \t https://musicbrainz.org/artist/f0f6cf9e-7497-4055-b512-0f10eb065da2\n",
      "Saving /Volumes/Piggy/Discog/artists-musicbrainz/64/166593334036098117853591504522789835664.p (force=False)\n",
      "  --> This file is 111.0kB.\n",
      "Done. Sleeping for 2 seconds\n",
      "62 / 100 \t: 136531635544597888760919460390127694839 \t https://musicbrainz.org/artist/7bcb6e89-79bb-4ffd-8981-d538bcb09291\n",
      "Saving /Volumes/Piggy/Discog/artists-musicbrainz/39/136531635544597888760919460390127694839.p (force=False)\n",
      "  --> This file is 111.0kB.\n",
      "Done. Sleeping for 2 seconds\n",
      "63 / 100 \t: 233380380071273721919740249289254894406 \t https://musicbrainz.org/artist/54bef7b9-a5c8-46ea-a1a1-a2eb0b09208d\n",
      "Saving /Volumes/Piggy/Discog/artists-musicbrainz/6/233380380071273721919740249289254894406.p (force=False)\n",
      "  --> This file is 114.5kB.\n",
      "Done. Sleeping for 2 seconds\n",
      "64 / 100 \t: 274922895115257161372669792593311026594 \t https://musicbrainz.org/artist/aaa4fd6e-4feb-4f89-952b-a410287e51a8\n",
      "65 / 100 \t: 79726410175125689178669615946147077012 \t https://musicbrainz.org/artist/51d118c5-0fba-4980-a133-6b86082c95c3\n",
      "Saving /Volumes/Piggy/Discog/artists-musicbrainz/12/79726410175125689178669615946147077012.p (force=False)\n",
      "  --> This file is 113.3kB.\n",
      "Done. Sleeping for 2 seconds\n",
      "66 / 100 \t: 203498370804331055266848348986757600867 \t https://musicbrainz.org/artist/3d9d8acf-3340-4dd6-bdfd-07c0b1919a20\n",
      "Saving /Volumes/Piggy/Discog/artists-musicbrainz/67/203498370804331055266848348986757600867.p (force=False)\n",
      "  --> This file is 110.6kB.\n",
      "Done. Sleeping for 2 seconds\n",
      "67 / 100 \t: 114919527789421242459721572308754370129 \t https://musicbrainz.org/artist/f53017fe-2d25-42ee-8ed4-709faa2fb869\n",
      "Saving /Volumes/Piggy/Discog/artists-musicbrainz/29/114919527789421242459721572308754370129.p (force=False)\n",
      "  --> This file is 110.7kB.\n",
      "Done. Sleeping for 2 seconds\n",
      "68 / 100 \t: 82351769743066946482395814072614161612 \t https://musicbrainz.org/artist/d9a59f79-8466-4de5-996e-29210984e591\n",
      "Saving /Volumes/Piggy/Discog/artists-musicbrainz/12/82351769743066946482395814072614161612.p (force=False)\n",
      "  --> This file is 111.3kB.\n",
      "Done. Sleeping for 2 seconds\n",
      "69 / 100 \t: 245118109068173626341387967111575802735 \t https://musicbrainz.org/artist/477c1c53-0a3a-4f96-91f5-ea688295ddd5\n",
      "70 / 100 \t: 95158877727802118963799239773866022792 \t https://musicbrainz.org/artist/92eaad18-090a-4179-89b8-54e5f35740f8\n",
      "Saving /Volumes/Piggy/Discog/artists-musicbrainz/92/95158877727802118963799239773866022792.p (force=False)\n",
      "  --> This file is 111.7kB.\n",
      "Done. Sleeping for 2 seconds\n",
      "71 / 100 \t: 177677245662098107939420934833784188020 \t https://musicbrainz.org/artist/aaab2df1-4e72-47f0-bc80-5a7e53753d73\n",
      "Saving /Volumes/Piggy/Discog/artists-musicbrainz/20/177677245662098107939420934833784188020.p (force=False)\n",
      "  --> This file is 114.1kB.\n",
      "Done. Sleeping for 2 seconds\n",
      "72 / 100 \t: 159329237781585803279976538602579159812 \t https://musicbrainz.org/artist/2b9bd222-f35f-4b4d-bd47-5bd3a0b03022\n",
      "Saving /Volumes/Piggy/Discog/artists-musicbrainz/12/159329237781585803279976538602579159812.p (force=False)\n",
      "  --> This file is 109.0kB.\n",
      "Done. Sleeping for 2 seconds\n",
      "73 / 100 \t: 238473233270424003740837505641975131169 \t https://musicbrainz.org/artist/10143b13-623c-4672-a6e6-c87cf9974182\n",
      "Saving /Volumes/Piggy/Discog/artists-musicbrainz/69/238473233270424003740837505641975131169.p (force=False)\n",
      "  --> This file is 110.7kB.\n",
      "Done. Sleeping for 2 seconds\n",
      "74 / 100 \t: 208281828751012878475197205496212005076 \t https://musicbrainz.org/artist/71eb7704-d17f-421f-a7b6-5e47c4e66338\n",
      "Saving /Volumes/Piggy/Discog/artists-musicbrainz/76/208281828751012878475197205496212005076.p (force=False)\n",
      "  --> This file is 118.9kB.\n",
      "Done. Sleeping for 2 seconds\n"
     ]
    },
    {
     "name": "stdout",
     "output_type": "stream",
     "text": [
      "75 / 100 \t: 295818634525313440258039268049793374727 \t https://musicbrainz.org/artist/8db4ff1f-9d1d-49ca-a45e-0c0c29e0057f\n",
      "Saving /Volumes/Piggy/Discog/artists-musicbrainz/27/295818634525313440258039268049793374727.p (force=False)\n",
      "  --> This file is 114.0kB.\n",
      "Done. Sleeping for 2 seconds\n",
      "76 / 100 \t: 42661350504363957243371001482689186485 \t https://musicbrainz.org/artist/d8d897c1-ef37-41de-9208-0815c24e96cb\n",
      "Saving /Volumes/Piggy/Discog/artists-musicbrainz/85/42661350504363957243371001482689186485.p (force=False)\n",
      "  --> This file is 108.7kB.\n",
      "Done. Sleeping for 2 seconds\n",
      "77 / 100 \t: 163868480209696087398949680844663171307 \t https://musicbrainz.org/artist/848523ca-72b3-4afe-b1cd-64b203362ed0\n",
      "Saving /Volumes/Piggy/Discog/artists-musicbrainz/7/163868480209696087398949680844663171307.p (force=False)\n",
      "  --> This file is 110.6kB.\n",
      "Done. Sleeping for 2 seconds\n",
      "78 / 100 \t: 50235597980091444000509395419753039240 \t https://musicbrainz.org/artist/6a60e79f-8247-4bfd-b7cc-40fe3851aaf0\n",
      "Saving /Volumes/Piggy/Discog/artists-musicbrainz/40/50235597980091444000509395419753039240.p (force=False)\n",
      "  --> This file is 111.3kB.\n",
      "Done. Sleeping for 2 seconds\n",
      "79 / 100 \t: 249184101301405254112935299123034333175 \t https://musicbrainz.org/artist/f3edaeb8-9e18-41ce-a445-badcd17d53f9\n",
      "Saving /Volumes/Piggy/Discog/artists-musicbrainz/75/249184101301405254112935299123034333175.p (force=False)\n",
      "  --> This file is 114.4kB.\n",
      "Done. Sleeping for 2 seconds\n",
      "80 / 100 \t: 173355131054546908140036912480577357788 \t https://musicbrainz.org/artist/df03bb1f-db94-4674-8199-6a02b12d33bb\n",
      "Saving /Volumes/Piggy/Discog/artists-musicbrainz/88/173355131054546908140036912480577357788.p (force=False)\n",
      "  --> This file is 112.6kB.\n",
      "Done. Sleeping for 2 seconds\n",
      "81 / 100 \t: 299809892209868239739038271348098702768 \t https://musicbrainz.org/artist/cdbb00c1-ae47-4ba0-9d5d-5861cb5e3c6a\n",
      "Saving /Volumes/Piggy/Discog/artists-musicbrainz/68/299809892209868239739038271348098702768.p (force=False)\n",
      "  --> This file is 111.5kB.\n",
      "Done. Sleeping for 2 seconds\n",
      "82 / 100 \t: 869823499814401091300670103156937781 \t https://musicbrainz.org/artist/8271c7d9-4573-471d-8382-9a67b7deaaca\n",
      "Saving /Volumes/Piggy/Discog/artists-musicbrainz/81/869823499814401091300670103156937781.p (force=False)\n",
      "  --> This file is 110.5kB.\n",
      "Done. Sleeping for 2 seconds\n",
      "83 / 100 \t: 196902258575501794732417582473469727902 \t https://musicbrainz.org/artist/8bd9ef5d-e1c1-46ae-8742-abaf30d1b02a\n",
      "Saving /Volumes/Piggy/Discog/artists-musicbrainz/2/196902258575501794732417582473469727902.p (force=False)\n",
      "  --> This file is 112.5kB.\n",
      "Done. Sleeping for 2 seconds\n",
      "84 / 100 \t: 60557858678928330063315897400011129688 \t https://musicbrainz.org/artist/7c8464ab-0514-4a99-b7c1-27c84b7c46ff\n",
      "Saving /Volumes/Piggy/Discog/artists-musicbrainz/88/60557858678928330063315897400011129688.p (force=False)\n",
      "  --> This file is 110.1kB.\n",
      "Done. Sleeping for 2 seconds\n",
      "85 / 100 \t: 210505388875055309687075554287913213076 \t https://musicbrainz.org/artist/8d4fb248-dffa-48f5-be43-948f238f9c45\n",
      "Saving /Volumes/Piggy/Discog/artists-musicbrainz/76/210505388875055309687075554287913213076.p (force=False)\n",
      "  --> This file is 111.3kB.\n",
      "Done. Sleeping for 2 seconds\n",
      "86 / 100 \t: 41480780132393498158007883246516737656 \t https://musicbrainz.org/artist/46584c91-30d4-41d1-af16-aca4f724441e\n",
      "Saving /Volumes/Piggy/Discog/artists-musicbrainz/56/41480780132393498158007883246516737656.p (force=False)\n",
      "  --> This file is 111.1kB.\n",
      "Done. Sleeping for 2 seconds\n",
      "87 / 100 \t: 169797386183293215604489566652257951570 \t https://musicbrainz.org/artist/0bbf33c7-73ad-4a62-b979-2ef5305c1b32\n",
      "Saving /Volumes/Piggy/Discog/artists-musicbrainz/70/169797386183293215604489566652257951570.p (force=False)\n",
      "  --> This file is 112.5kB.\n",
      "Done. Sleeping for 2 seconds\n",
      "88 / 100 \t: 161517173618124623697837555151720537819 \t https://musicbrainz.org/artist/d0b1d2ba-8081-4a7a-93b4-94d56a180eeb\n",
      "Saving /Volumes/Piggy/Discog/artists-musicbrainz/19/161517173618124623697837555151720537819.p (force=False)\n",
      "  --> This file is 114.2kB.\n",
      "Done. Sleeping for 2 seconds\n",
      "89 / 100 \t: 87386417718370871948360260678823822133 \t https://musicbrainz.org/artist/112b8296-bb7a-4821-87c9-9d9e0c1d929c\n",
      "Saving /Volumes/Piggy/Discog/artists-musicbrainz/33/87386417718370871948360260678823822133.p (force=False)\n",
      "  --> This file is 113.8kB.\n",
      "Done. Sleeping for 2 seconds\n",
      "90 / 100 \t: 301516689290471403386612367099697475682 \t https://musicbrainz.org/artist/91a759b0-0b94-4448-9493-33d0160fdc3b\n",
      "Saving /Volumes/Piggy/Discog/artists-musicbrainz/82/301516689290471403386612367099697475682.p (force=False)\n",
      "  --> This file is 109.2kB.\n",
      "Done. Sleeping for 2 seconds\n",
      "91 / 100 \t: 181048659605589907734378666274120693814 \t https://musicbrainz.org/artist/b6ff1fb3-e26d-4900-91c8-404d67ead856\n",
      "Saving /Volumes/Piggy/Discog/artists-musicbrainz/14/181048659605589907734378666274120693814.p (force=False)\n",
      "  --> This file is 111.2kB.\n",
      "Done. Sleeping for 2 seconds\n",
      "92 / 100 \t: 164300695830220644582475890696308220488 \t https://musicbrainz.org/artist/0d0a0af4-1cc6-41c8-bdbf-7cd014744cd1\n",
      "Saving /Volumes/Piggy/Discog/artists-musicbrainz/88/164300695830220644582475890696308220488.p (force=False)\n",
      "  --> This file is 110.5kB.\n",
      "Done. Sleeping for 2 seconds\n",
      "93 / 100 \t: 173713981897867655964620122965335597191 \t https://musicbrainz.org/artist/a775efab-1cf5-4702-914a-0c8899e07645\n",
      "Saving /Volumes/Piggy/Discog/artists-musicbrainz/91/173713981897867655964620122965335597191.p (force=False)\n",
      "  --> This file is 108.3kB.\n",
      "Done. Sleeping for 2 seconds\n",
      "94 / 100 \t: 242095686953738802721722560270036516912 \t https://musicbrainz.org/artist/693b602e-a94f-4d39-8677-e2173e63ae03\n",
      "Saving /Volumes/Piggy/Discog/artists-musicbrainz/12/242095686953738802721722560270036516912.p (force=False)\n",
      "  --> This file is 111.1kB.\n",
      "Done. Sleeping for 2 seconds\n",
      "95 / 100 \t: 337162351110130807734381344897561297487 \t https://musicbrainz.org/artist/e0a16b75-2d03-4be7-948b-db7fbfa73aac\n",
      "Saving /Volumes/Piggy/Discog/artists-musicbrainz/87/337162351110130807734381344897561297487.p (force=False)\n",
      "  --> This file is 110.3kB.\n",
      "Done. Sleeping for 2 seconds\n",
      "96 / 100 \t: 326755332677021619832478884893878721401 \t https://musicbrainz.org/artist/ce65e0b2-1109-49f5-b4e2-3105eef33faa\n",
      "Saving /Volumes/Piggy/Discog/artists-musicbrainz/1/326755332677021619832478884893878721401.p (force=False)\n",
      "  --> This file is 110.6kB.\n",
      "Done. Sleeping for 2 seconds\n",
      "97 / 100 \t: 301922765496768602011371460560349253236 \t https://musicbrainz.org/artist/4b08d7a9-a7ae-4021-aeca-6c7cce409c50\n",
      "Saving /Volumes/Piggy/Discog/artists-musicbrainz/36/301922765496768602011371460560349253236.p (force=False)\n",
      "  --> This file is 110.5kB.\n",
      "Done. Sleeping for 2 seconds\n",
      "98 / 100 \t: 234490690987535359288295488452168159099 \t https://musicbrainz.org/artist/9a0c58cb-f3c2-4e02-95d3-e18f254a9e24\n",
      "Saving /Volumes/Piggy/Discog/artists-musicbrainz/99/234490690987535359288295488452168159099.p (force=False)\n",
      "  --> This file is 110.6kB.\n",
      "Done. Sleeping for 2 seconds\n",
      "99 / 100 \t: 23255116991273141598004803288512953464 \t https://musicbrainz.org/artist/9b2b348d-6e6e-41b1-bdca-0c0e2e13cb30\n",
      "Saving /Volumes/Piggy/Discog/artists-musicbrainz/64/23255116991273141598004803288512953464.p (force=False)\n",
      "  --> This file is 110.3kB.\n",
      "Done. Sleeping for 2 seconds\n",
      "100 / 100 \t: 266928242818387773971026557836101708811 \t https://musicbrainz.org/artist/b8827fa1-7699-4e41-abfd-563879146c43\n",
      "Saving /Volumes/Piggy/Discog/artists-musicbrainz/11/266928242818387773971026557836101708811.p (force=False)\n",
      "  --> This file is 112.9kB.\n",
      "Done. Sleeping for 2 seconds\n",
      "\n",
      "\n",
      "===================== Searching For Rory Block =====================\n",
      "1 / 30 \t: 23019646877 \t https://www.last.fm/music/Rory%2BBlock/+albums?order=release_date\n",
      "Saving /Volumes/Piggy/Discog/artists-lastfm/77/23019646877.p (force=False)\n",
      "  --> This file is 28.1kB.\n",
      "Done. Sleeping for 2 seconds\n",
      "2 / 30 \t: 19847120318 \t https://www.last.fm/music/Eric%2BBibb%2C%2BRory%2BBlock%2B%26%2BMaria%2BMuldaur/+albums?order=release_date\n",
      "Saving /Volumes/Piggy/Discog/artists-lastfm/18/19847120318.p (force=False)\n",
      "  --> This file is 26.1kB.\n",
      "Done. Sleeping for 2 seconds\n",
      "3 / 30 \t: 48342405292 \t https://www.last.fm/music/Rory%2BBlock%2C%2BStefan%2BGrossman/+albums?order=release_date\n",
      "4 / 30 \t: 67733175298 \t https://www.last.fm/music/Eric%2BBibb%2B%252F%2BRory%2BBlock%2B%252F%2BMaria%2BMuldaur/+albums?order=release_date\n"
     ]
    },
    {
     "name": "stdout",
     "output_type": "stream",
     "text": [
      "Saving /Volumes/Piggy/Discog/artists-lastfm/98/67733175298.p (force=False)\n",
      "  --> This file is 22.7kB.\n",
      "Done. Sleeping for 2 seconds\n",
      "5 / 30 \t: 31909277029 \t https://www.last.fm/music/Rory%2BBlock%2B%26%2BStefan%2BGrossman/+albums?order=release_date\n",
      "6 / 30 \t: 19847120318 \t https://www.last.fm/music/Eric%2BBibb%2C%2BRory%2BBlock%2B%26%2B%2BMaria%2BMuldaur/+albums?order=release_date\n",
      "7 / 30 \t: 60241725527 \t https://www.last.fm/music/Rory%2BBlock%2Band%2BStefan%2BGrossman/+albums?order=release_date\n",
      "8 / 30 \t: 69873387970 \t https://www.last.fm/music/Stefan%2BGrossman%2BAnd%2BRory%2BBlock/+albums?order=release_date\n",
      "9 / 30 \t: 63853169710 \t https://www.last.fm/music/Block%2BRory/+albums?order=release_date\n",
      "Saving /Volumes/Piggy/Discog/artists-lastfm/10/63853169710.p (force=False)\n",
      "  --> This file is 23.4kB.\n",
      "Done. Sleeping for 2 seconds\n",
      "10 / 30 \t: 47719449212 \t https://www.last.fm/music/Rory%2BBlock%2B%28Us%29%252FEric%2BBibb%252FMaria%2BMuldaur/+albums?order=release_date\n",
      "Saving /Volumes/Piggy/Discog/artists-lastfm/12/47719449212.p (force=False)\n",
      "  --> This file is 22.9kB.\n",
      "Done. Sleeping for 2 seconds\n",
      "11 / 30 \t: 67733175298 \t https://www.last.fm/music/Eric%2BBibb%252FRory%2BBlock%252FMaria%2BMuldaur/+albums?order=release_date\n",
      "12 / 30 \t: 95677160354 \t https://www.last.fm/music/Rory%2BBlock%2B%26%2BLee%2BBerg/+albums?order=release_date\n",
      "Saving /Volumes/Piggy/Discog/artists-lastfm/54/95677160354.p (force=False)\n",
      "  --> This file is 23.1kB.\n",
      "Done. Sleeping for 2 seconds\n",
      "13 / 30 \t: 5862059839 \t https://www.last.fm/music/Rory%2BBlock%2C%2BEric%2BBibb%2C%2BMaria%2BMuldaur/+albums?order=release_date\n",
      "Saving /Volumes/Piggy/Discog/artists-lastfm/39/5862059839.p (force=False)\n",
      "  --> This file is 20.4kB.\n",
      "Done. Sleeping for 2 seconds\n",
      "14 / 30 \t: 81663099723 \t https://www.last.fm/music/Eric%2BBibb%252FMaria%2BMuldaur%252FRory%2BBlock/+albums?order=release_date\n",
      "Saving /Volumes/Piggy/Discog/artists-lastfm/23/81663099723.p (force=False)\n",
      "  --> This file is 23.6kB.\n",
      "Done. Sleeping for 2 seconds\n",
      "15 / 30 \t: 7369851735 \t https://www.last.fm/music/Rory%2BBlock%2Bwith%2BGaye%2BAdegbabalola/+albums?order=release_date\n",
      "Saving /Volumes/Piggy/Discog/artists-lastfm/35/7369851735.p (force=False)\n",
      "  --> This file is 20.2kB.\n",
      "Done. Sleeping for 2 seconds\n",
      "16 / 30 \t: 44873492296 \t https://www.last.fm/music/RORY%2BBLOCK%2B%26%2BERIC%2BBIBB%2B%26%2BMARIA%2BMULDAR/+albums?order=release_date\n",
      "Saving /Volumes/Piggy/Discog/artists-lastfm/96/44873492296.p (force=False)\n",
      "  --> This file is 19.3kB.\n",
      "Done. Sleeping for 2 seconds\n",
      "17 / 30 \t: 2734230662 \t https://www.last.fm/music/Rory%2BBlock%2Band%2BLee%2BBerg/+albums?order=release_date\n",
      "Saving /Volumes/Piggy/Discog/artists-lastfm/62/2734230662.p (force=False)\n",
      "  --> This file is 22.3kB.\n",
      "Done. Sleeping for 2 seconds\n",
      "18 / 30 \t: 93912292418 \t https://www.last.fm/music/Eric%2BBibb%2C%2BRory%2BBlock%2B%2BMaria%2BMuldaur/+albums?order=release_date\n",
      "Saving /Volumes/Piggy/Discog/artists-lastfm/18/93912292418.p (force=False)\n",
      "  --> This file is 20.0kB.\n",
      "Done. Sleeping for 2 seconds\n",
      "19 / 30 \t: 16594230476 \t https://www.last.fm/music/Rory%2BBlock%2B%252F%2BMaria%2BMuldaur/+albums?order=release_date\n",
      "Saving /Volumes/Piggy/Discog/artists-lastfm/76/16594230476.p (force=False)\n",
      "  --> This file is 20.0kB.\n",
      "Done. Sleeping for 2 seconds\n",
      "20 / 30 \t: 73511470076 \t https://www.last.fm/music/Rory%2BBlock%2B%26%2BMaria%2BMuldaur/+albums?order=release_date\n",
      "Saving /Volumes/Piggy/Discog/artists-lastfm/76/73511470076.p (force=False)\n",
      "  --> This file is 20.4kB.\n",
      "Done. Sleeping for 2 seconds\n",
      "21 / 30 \t: 60095861532 \t https://www.last.fm/music/Eric%2BBibb%252FRory%2BBlock%252FMuldaur/+albums?order=release_date\n",
      "Saving /Volumes/Piggy/Discog/artists-lastfm/32/60095861532.p (force=False)\n",
      "  --> This file is 20.2kB.\n",
      "Done. Sleeping for 2 seconds\n",
      "22 / 30 \t: 75864838255 \t https://www.last.fm/music/Rory%2BBlock%2C%2BEric%2BBibb%2B%26%2BMaria%2BMuldaur/+albums?order=release_date\n",
      "Saving /Volumes/Piggy/Discog/artists-lastfm/55/75864838255.p (force=False)\n",
      "  --> This file is 20.3kB.\n",
      "Done. Sleeping for 2 seconds\n",
      "23 / 30 \t: 85508826216 \t https://www.last.fm/music/Dion%2Bfeat.%2BJohn%2BHammond%2C%2BRory%2BBlock/+albums?order=release_date\n",
      "Saving /Volumes/Piggy/Discog/artists-lastfm/16/85508826216.p (force=False)\n",
      "  --> This file is 22.3kB.\n",
      "Done. Sleeping for 2 seconds\n",
      "24 / 30 \t: 60716908644 \t https://www.last.fm/music/Rory%2BBlock%2B%26%2BStevie%2BWonder/+albums?order=release_date\n",
      "Saving /Volumes/Piggy/Discog/artists-lastfm/44/60716908644.p (force=False)\n",
      "  --> This file is 21.3kB.\n",
      "Done. Sleeping for 2 seconds\n",
      "25 / 30 \t: 18572327075 \t https://www.last.fm/music/Rory%2BBlock%3B%2BMaria%2BMuldaur%3B%2BEric%2BBibb/+albums?order=release_date\n",
      "Saving /Volumes/Piggy/Discog/artists-lastfm/75/18572327075.p (force=False)\n",
      "  --> This file is 20.0kB.\n",
      "Done. Sleeping for 2 seconds\n",
      "26 / 30 \t: 41032242478 \t https://www.last.fm/music/Eric%2BBibb%2BRory%2BBlock%2B%26%2BMaria%2BMuldaur/+albums?order=release_date\n",
      "Saving /Volumes/Piggy/Discog/artists-lastfm/78/41032242478.p (force=False)\n",
      "  --> This file is 20.3kB.\n",
      "Done. Sleeping for 2 seconds\n",
      "27 / 30 \t: 45035918751 \t https://www.last.fm/music/Dion%2C%2BJohn%2BHammond%2C%2BRory%2BBlock/+albums?order=release_date\n",
      "Saving /Volumes/Piggy/Discog/artists-lastfm/51/45035918751.p (force=False)\n",
      "  --> This file is 22.5kB.\n",
      "Done. Sleeping for 2 seconds\n",
      "28 / 30 \t: 83773008281 \t https://www.last.fm/music/Rory%2BBlock%2B%28Children%2527s%29/+albums?order=release_date\n",
      "Saving /Volumes/Piggy/Discog/artists-lastfm/81/83773008281.p (force=False)\n",
      "  --> This file is 22.4kB.\n",
      "Done. Sleeping for 2 seconds\n",
      "29 / 30 \t: 68940413990 \t https://www.last.fm/music/Rick%2BRobbins%2Bwith%2BRory%2BBlock/+albums?order=release_date\n",
      "Saving /Volumes/Piggy/Discog/artists-lastfm/90/68940413990.p (force=False)\n",
      "  --> This file is 20.0kB.\n",
      "Done. Sleeping for 2 seconds\n",
      "30 / 30 \t: 97840489567 \t https://www.last.fm/music/Eric%2BBibb%3B%2BMaria%2BMuldaur%3B%2BRory%2BBlock/+albums?order=release_date\n",
      "Saving /Volumes/Piggy/Discog/artists-lastfm/67/97840489567.p (force=False)\n",
      "  --> This file is 21.9kB.\n",
      "Done. Sleeping for 2 seconds\n",
      "\n",
      "\n",
      "===================== Searching For Rory Block =====================\n"
     ]
    }
   ],
   "source": [
    "maindb = mainDB(mdb=mdb, create=False, debug=True)\n",
    "dbdata = maindb.dbdata\n",
    "for db in ['Discogs', 'AllMusic', 'MusicBrainz', 'LastFM', 'CDandLP']:\n",
    "    dbdata[db][\"Artists\"].searchForArtist(\"Rory Block\")\n",
    "#for db in maindb.getDBs():\n",
    "#    print(db)\n",
    "#    main\n",
    "#searchFuncs = {\"Discogs\": dbdata[\"Discogs\"][\"Artists\"].searchDiscogForArtist,\n",
    "#               \"AllMusic\": dbdata[\"AllMusic\"][\"Artists\"].searchAllMusicForArtist,\n",
    "#               \"MusicBrainz\": dbdata[\"MusicBrainz\"][\"Artists\"].searchMusicBrainzForArtist,\n",
    "#               \"LastFM\": dbdata[\"LastFM\"][\"Artists\"].searchLastFMForArtist}"
   ]
  },
  {
   "cell_type": "markdown",
   "metadata": {},
   "source": [
    "# Download Artist Data"
   ]
  },
  {
   "cell_type": "code",
   "execution_count": null,
   "metadata": {},
   "outputs": [],
   "source": [
    "artsDC.downloadArtistUnofficialFromID(144998)"
   ]
  },
  {
   "cell_type": "code",
   "execution_count": 5,
   "metadata": {},
   "outputs": [
    {
     "data": {
      "text/html": [
       "<div>\n",
       "<style scoped>\n",
       "    .dataframe tbody tr th:only-of-type {\n",
       "        vertical-align: middle;\n",
       "    }\n",
       "\n",
       "    .dataframe tbody tr th {\n",
       "        vertical-align: top;\n",
       "    }\n",
       "\n",
       "    .dataframe thead th {\n",
       "        text-align: right;\n",
       "    }\n",
       "</style>\n",
       "<table border=\"1\" class=\"dataframe\">\n",
       "  <thead>\n",
       "    <tr style=\"text-align: right;\">\n",
       "      <th></th>\n",
       "      <th>ID</th>\n",
       "      <th>Name</th>\n",
       "      <th>Ref</th>\n",
       "      <th>Artist</th>\n",
       "      <th>Num</th>\n",
       "      <th>DiscArtist</th>\n",
       "    </tr>\n",
       "  </thead>\n",
       "  <tbody>\n",
       "    <tr>\n",
       "      <th>Discogs</th>\n",
       "      <td>144998</td>\n",
       "      <td>Black Sabbath</td>\n",
       "      <td>/artist/144998-Black-Sabbath</td>\n",
       "      <td>Black Sabbath</td>\n",
       "      <td>NaN</td>\n",
       "      <td>Black Sabbath</td>\n",
       "    </tr>\n",
       "    <tr>\n",
       "      <th>AllMusic</th>\n",
       "      <td>0000771438</td>\n",
       "      <td>Black Sabbath</td>\n",
       "      <td>/artist/black-sabbath-mn0000771438/discography</td>\n",
       "      <td>Black Sabbath</td>\n",
       "      <td>None</td>\n",
       "      <td>Black Sabbath</td>\n",
       "    </tr>\n",
       "    <tr>\n",
       "      <th>MusicBrainz</th>\n",
       "      <td>133638912340787458619495685266666501922</td>\n",
       "      <td>Black Sabbath</td>\n",
       "      <td>/artist/5182c1d9-c7d2-4dad-afa0-ccfeada921a8</td>\n",
       "      <td>Black Sabbath</td>\n",
       "      <td>None</td>\n",
       "      <td>Black Sabbath</td>\n",
       "    </tr>\n",
       "    <tr>\n",
       "      <th>AceBootlegs</th>\n",
       "      <td>760604981735</td>\n",
       "      <td>Black Sabbath</td>\n",
       "      <td>[https://ace-bootlegs.com/category/black-sabba...</td>\n",
       "      <td>Black Sabbath</td>\n",
       "      <td>None</td>\n",
       "      <td>Black Sabbath</td>\n",
       "    </tr>\n",
       "    <tr>\n",
       "      <th>LastFM</th>\n",
       "      <td>8092241712</td>\n",
       "      <td>Black Sabbath</td>\n",
       "      <td>https://www.last.fm/music/Black%2BSabbath/+alb...</td>\n",
       "      <td>Black Sabbath</td>\n",
       "      <td>NaN</td>\n",
       "      <td>Black Sabbath</td>\n",
       "    </tr>\n",
       "    <tr>\n",
       "      <th>DatPiff</th>\n",
       "      <td>2241712</td>\n",
       "      <td>Black Sabbath</td>\n",
       "      <td>None</td>\n",
       "      <td>Black Sabbath</td>\n",
       "      <td>NaN</td>\n",
       "      <td>Black Sabbath</td>\n",
       "    </tr>\n",
       "    <tr>\n",
       "      <th>RockCorner</th>\n",
       "      <td>92241712</td>\n",
       "      <td>Black Sabbath</td>\n",
       "      <td>http://www.therockcorner.com/black-sabbath/</td>\n",
       "      <td>Black Sabbath</td>\n",
       "      <td>None</td>\n",
       "      <td>Black Sabbath</td>\n",
       "    </tr>\n",
       "  </tbody>\n",
       "</table>\n",
       "</div>"
      ],
      "text/plain": [
       "                                                  ID           Name  \\\n",
       "Discogs                                       144998  Black Sabbath   \n",
       "AllMusic                                  0000771438  Black Sabbath   \n",
       "MusicBrainz  133638912340787458619495685266666501922  Black Sabbath   \n",
       "AceBootlegs                             760604981735  Black Sabbath   \n",
       "LastFM                                    8092241712  Black Sabbath   \n",
       "DatPiff                                      2241712  Black Sabbath   \n",
       "RockCorner                                  92241712  Black Sabbath   \n",
       "\n",
       "                                                           Ref         Artist  \\\n",
       "Discogs                           /artist/144998-Black-Sabbath  Black Sabbath   \n",
       "AllMusic        /artist/black-sabbath-mn0000771438/discography  Black Sabbath   \n",
       "MusicBrainz       /artist/5182c1d9-c7d2-4dad-afa0-ccfeada921a8  Black Sabbath   \n",
       "AceBootlegs  [https://ace-bootlegs.com/category/black-sabba...  Black Sabbath   \n",
       "LastFM       https://www.last.fm/music/Black%2BSabbath/+alb...  Black Sabbath   \n",
       "DatPiff                                                   None  Black Sabbath   \n",
       "RockCorner         http://www.therockcorner.com/black-sabbath/  Black Sabbath   \n",
       "\n",
       "              Num     DiscArtist  \n",
       "Discogs       NaN  Black Sabbath  \n",
       "AllMusic     None  Black Sabbath  \n",
       "MusicBrainz  None  Black Sabbath  \n",
       "AceBootlegs  None  Black Sabbath  \n",
       "LastFM        NaN  Black Sabbath  \n",
       "DatPiff       NaN  Black Sabbath  \n",
       "RockCorner   None  Black Sabbath  "
      ]
     },
     "execution_count": 5,
     "metadata": {},
     "output_type": "execute_result"
    }
   ],
   "source": [
    "maindb.getBasicArtistInfo(\"Black Sabbath\")"
   ]
  },
  {
   "cell_type": "code",
   "execution_count": 27,
   "metadata": {},
   "outputs": [
    {
     "name": "stdout",
     "output_type": "stream",
     "text": [
      "Downloading Artist Data for ID [144998] and Ref [/artist/144998-Black-Sabbath]\n",
      "Saving /Users/tgadfort/Music/Discog/artists-discogs/98/unofficial/144998.p (force=False)\n",
      "  --> This file is 151.0kB.\n",
      "Done. Sleeping for 2 seconds\n"
     ]
    }
   ],
   "source": [
    "dbdata[\"Discogs\"][\"Artists\"].downloadArtistUnofficialFromID('144998', '/artist/144998-Black-Sabbath')\n",
    "#/artist/144998-Black-Sabbath?type=Unofficial&subtype=Albums&filter_anv=0\"\n",
    "#/artist/144998-Black-Sabbath?sort=year%2Casc&limit=500&type=Unofficial&subtype=Albums&filter_anv=0&page=1"
   ]
  },
  {
   "cell_type": "code",
   "execution_count": 69,
   "metadata": {},
   "outputs": [],
   "source": [
    "retval = dbdata[\"Discogs\"][\"Artist\"].getData(\"/Users/tgadfort/Music/Discog/artists-discogs/98/unofficial/144998.p\")"
   ]
  },
  {
   "cell_type": "code",
   "execution_count": 119,
   "metadata": {},
   "outputs": [],
   "source": [
    "bsdata = getHTML(\"/Users/tgadfort/Music/Discog/artists-discogs/98/unofficial/144998.p\")"
   ]
  },
  {
   "cell_type": "code",
   "execution_count": 70,
   "metadata": {},
   "outputs": [
    {
     "data": {
      "text/plain": [
       "{'artist': <artistDC.artistDCNameClass at 0x1a30fe5208>,\n",
       " 'url': <artistDC.artistDCURLClass at 0x1a30fe5828>,\n",
       " 'ID': <artistDC.artistDCIDClass at 0x1a266a3358>,\n",
       " 'pages': <artistDC.artistDCPageClass at 0x1a266a3320>,\n",
       " 'profile': <artistDC.artistDCProfileClass at 0x1a266a3198>,\n",
       " 'media': <artistDC.artistDCMediaClass at 0x1a266a32e8>,\n",
       " 'mediaCounts': <artistDC.artistDCMediaCountsClass at 0x1a266a3278>,\n",
       " 'err': [None, None, None, None, None, None, None]}"
      ]
     },
     "execution_count": 70,
     "metadata": {},
     "output_type": "execute_result"
    }
   ],
   "source": [
    "retval.get()"
   ]
  },
  {
   "cell_type": "code",
   "execution_count": 71,
   "metadata": {},
   "outputs": [
    {
     "data": {
      "text/plain": [
       "{'name': 'Black Sabbath', 'err': None}"
      ]
     },
     "execution_count": 71,
     "metadata": {},
     "output_type": "execute_result"
    }
   ],
   "source": [
    "retval.get()['artist'].get()"
   ]
  },
  {
   "cell_type": "code",
   "execution_count": null,
   "metadata": {},
   "outputs": [],
   "source": []
  },
  {
   "cell_type": "markdown",
   "metadata": {},
   "source": [
    "# Music DB"
   ]
  },
  {
   "cell_type": "code",
   "execution_count": null,
   "metadata": {},
   "outputs": [],
   "source": [
    "https://www.discogs.com/artist/144998-Black-Sabbath?sort=year%2Casc&limit=500?type=Unofficial&subtype=Albums&filter_anv=0\n",
    "https://www.discogs.com/artist/144998-Black-Sabbath?sort=year%2Casc&limit=500&type=Unofficial&subtype=Albums&filter_anv=0&page=1\n",
    "    \n",
    "artistIDToRef = disc.getArtistIDToRefData()"
   ]
  },
  {
   "cell_type": "code",
   "execution_count": null,
   "metadata": {},
   "outputs": [],
   "source": [
    "myMusicAlbumIDMap = getFile(\"/Users/tgadfort/Documents/code/music/musicDiscogsMap.p\")"
   ]
  },
  {
   "cell_type": "code",
   "execution_count": null,
   "metadata": {},
   "outputs": [],
   "source": [
    "dR=0.2\n",
    "rC=0.8"
   ]
  },
  {
   "cell_type": "code",
   "execution_count": null,
   "metadata": {},
   "outputs": [],
   "source": [
    "from time import sleep\n",
    "N = len(myMusicAlbumIDMap)\n",
    "for i,(artistName,artistVals) in enumerate(myMusicAlbumIDMap.items()):\n",
    "    if artistName.startswith(\"Levl\") is False:\n",
    "        continue\n",
    "    artistID,discogsName = artistVals\n",
    "    print(i,N,'\\t',artistName)\n",
    "    artsDC.searchDiscogForArtist(artistName)\n",
    "    artsAM.searchAllMusicForArtist(artistName)\n",
    "    artsMB.searchMusicBrainzForArtist(artistName)\n",
    "    sleep(3)"
   ]
  },
  {
   "cell_type": "code",
   "execution_count": null,
   "metadata": {},
   "outputs": [],
   "source": [
    "artistIDs = [v[0] for k,v in myMusicAlbumIDMap.items()]\n",
    "arts.rmIDsFromDBs(artistIDs)"
   ]
  },
  {
   "cell_type": "code",
   "execution_count": null,
   "metadata": {},
   "outputs": [],
   "source": [
    "arts.parseArtistModValFiles(96, force=False)\n",
    "arts.parseArtistModValExtraFiles(96)"
   ]
  },
  {
   "cell_type": "code",
   "execution_count": null,
   "metadata": {},
   "outputs": [],
   "source": [
    "files = [savename]\n",
    "from glob import glob\n",
    "from os.path import join\n",
    "from fileUtils import getDirname\n",
    "files += glob(join(getDirname(savename), \"extra\", \"{0}-*.p\".format(artistID)))\n",
    "files"
   ]
  },
  {
   "cell_type": "markdown",
   "metadata": {},
   "source": [
    "# Download Missing Artists"
   ]
  },
  {
   "cell_type": "code",
   "execution_count": null,
   "metadata": {},
   "outputs": [],
   "source": [
    "%load_ext autoreload\n",
    "%autoreload\n",
    "from albums import albums\n",
    "from discogsBase import discogs\n",
    "\n",
    "disc  = discogs()\n",
    "albs  = albums(disc)\n",
    "toget = albs.findMissingArtistsFromAlbums()\n",
    "\n",
    "from ioUtils import saveFile\n",
    "saveFile(idata=toget, ifile=\"missingArtistsFromAlbums.p\")"
   ]
  },
  {
   "cell_type": "code",
   "execution_count": null,
   "metadata": {},
   "outputs": [],
   "source": [
    "%load_ext autoreload\n",
    "%autoreload\n",
    "disc = discogs()\n",
    "arts = artists(disc)\n",
    "\n",
    "from ioUtils import getFile\n",
    "\n",
    "toget = getFile(ifile=\"missingArtistsFromAlbums.p\")\n",
    "\n",
    "from time import sleep\n",
    "togetmap  = toget['togetmap']\n",
    "refstoget = toget['toget']\n",
    "for ia,item in enumerate(refstoget.most_common()):\n",
    "    artistID, cnt = item[0], item[1]\n",
    "    ref      = togetmap[artistID]\n",
    "    url      = arts.getArtistURL(ref)\n",
    "    savename = arts.getArtistSavename(artistID)\n",
    "    if not isFile(savename):\n",
    "        try:\n",
    "            print('\\n{0}/{1}'.format(ia,len(refstoget)))\n",
    "            retval = arts.downloadArtistURL(url, savename, debug=True)\n",
    "            sleep(3)\n",
    "        except:\n",
    "            continue\n",
    "    else:\n",
    "        print(\"{0} known\".format(savename))\n",
    "            \n",
    "    #print(item)\n",
    "#len(togetmap)"
   ]
  },
  {
   "cell_type": "markdown",
   "metadata": {},
   "source": [
    "# Redownload Known Artist"
   ]
  },
  {
   "cell_type": "code",
   "execution_count": null,
   "metadata": {},
   "outputs": [],
   "source": [
    "myMusicMap = getFile(\"/Users/tgadfort/Documents/code/music/myMusicMap.p\")"
   ]
  },
  {
   "cell_type": "code",
   "execution_count": null,
   "metadata": {},
   "outputs": [],
   "source": [
    "musicMap = myMusicMap[\"Ladies of Soul\"]\n",
    "musicMap"
   ]
  },
  {
   "cell_type": "code",
   "execution_count": null,
   "metadata": {},
   "outputs": [],
   "source": [
    "discDCIDToRef = discDC.getArtistIDToRefData()"
   ]
  },
  {
   "cell_type": "code",
   "execution_count": null,
   "metadata": {},
   "outputs": [],
   "source": [
    "artistID  = musicMap['Discogs']['ID']\n",
    "artistRef = discDCIDToRef.get(artistID)\n",
    "artsDC.downloadArtistFromID(artistID=artistID, artistRef=artistRef, force=True)"
   ]
  },
  {
   "cell_type": "markdown",
   "metadata": {},
   "source": [
    "# Download Unmatched Artists"
   ]
  },
  {
   "cell_type": "code",
   "execution_count": null,
   "metadata": {},
   "outputs": [],
   "source": [
    "matchedResults = getFile(\"/Users/tgadfort/Documents/code/music/multiArtists.p\")"
   ]
  },
  {
   "cell_type": "code",
   "execution_count": null,
   "metadata": {},
   "outputs": [],
   "source": [
    "searchForArtist = {\"Discogs\": artsDC.searchDiscogForArtist, \"AllMusic\": artsAM.searchAllMusicForArtist, \"MusicBrainz\": artsMB.searchMusicBrainzForArtist}"
   ]
  },
  {
   "cell_type": "code",
   "execution_count": null,
   "metadata": {},
   "outputs": [],
   "source": [
    "from time import sleep\n",
    "for i,(artistName,artistValues) in enumerate(matchedResults[\"PartiallyUnknown\"].items()):\n",
    "    if i <= 83:\n",
    "        continue\n",
    "    print(\"=========== {0} [{1}/{2}] ===========\".format(artistName, i, len(matchedResults[\"PartiallyUnknown\"])))\n",
    "    for dbKey, dirval in artistValues.items():\n",
    "        print(artistName,'\\t',searchForArtist[dbKey])\n",
    "        searchForArtist[dbKey](artistName)\n",
    "        sleep(1)\n",
    "    sleep(1)"
   ]
  },
  {
   "cell_type": "code",
   "execution_count": null,
   "metadata": {},
   "outputs": [],
   "source": []
  },
  {
   "cell_type": "code",
   "execution_count": null,
   "metadata": {},
   "outputs": [],
   "source": []
  },
  {
   "cell_type": "code",
   "execution_count": null,
   "metadata": {},
   "outputs": [],
   "source": []
  },
  {
   "cell_type": "markdown",
   "metadata": {},
   "source": [
    "# Missing Artists From Albums"
   ]
  },
  {
   "cell_type": "code",
   "execution_count": null,
   "metadata": {},
   "outputs": [],
   "source": [
    "%load_ext autoreload\n",
    "%autoreload\n",
    "from albums import albums\n",
    "from discogsBase import discogs\n",
    "\n",
    "disc  = discogs()\n",
    "albs  = albums(disc)\n",
    "toget = albs.findMissingArtistsFromAlbums()"
   ]
  },
  {
   "cell_type": "code",
   "execution_count": null,
   "metadata": {},
   "outputs": [],
   "source": [
    "%load_ext autoreload\n",
    "%autoreload\n",
    "disc = discogs()\n",
    "arts = artists(disc)\n",
    "\n",
    "from time import sleep\n",
    "togetmap  = toget['togetmap']\n",
    "refstoget = toget['toget']\n",
    "for ia,item in enumerate(refstoget.most_common()):\n",
    "    artistID, cnt = item[0], item[1]\n",
    "    ref      = togetmap[artistID]\n",
    "    url      = arts.getArtistURL(ref)\n",
    "    savename = arts.getArtistSavename(artistID)\n",
    "    if not isFile(savename):\n",
    "        try:\n",
    "            _, _ = clock('\\n{0}/{1}'.format(ia,len(refstoget)))\n",
    "            retval = arts.downloadArtistURL(url, savename, debug=True)\n",
    "        except:\n",
    "            continue\n",
    "    else:\n",
    "        print(\"{0} known\".format(savename))\n",
    "            \n",
    "    #print(item)\n",
    "#len(togetmap)"
   ]
  },
  {
   "cell_type": "markdown",
   "metadata": {},
   "source": [
    "# Artists From Search"
   ]
  },
  {
   "cell_type": "code",
   "execution_count": null,
   "metadata": {},
   "outputs": [],
   "source": [
    "%load_ext autoreload\n",
    "%autoreload\n",
    "disc = discogs()\n",
    "arts = artists(disc)\n",
    "arts.searchDiscogForArtist(\"World of Our Own\")\n",
    "#arts.searchDiscogForArtist(\"Continental Divide\")"
   ]
  },
  {
   "cell_type": "code",
   "execution_count": null,
   "metadata": {},
   "outputs": [],
   "source": [
    "from ioUtils import getFile"
   ]
  },
  {
   "cell_type": "code",
   "execution_count": null,
   "metadata": {},
   "outputs": [],
   "source": [
    "toGet = getFile(ifile=\"/Users/tgadfort/Documents/code/charts/chartCounter.p\", debug=True)"
   ]
  },
  {
   "cell_type": "code",
   "execution_count": null,
   "metadata": {},
   "outputs": [],
   "source": [
    "toGet = getFile(\"~/code/charts/toget.p\")"
   ]
  },
  {
   "cell_type": "code",
   "execution_count": null,
   "metadata": {},
   "outputs": [],
   "source": [
    "for i,val in enumerate(toGet):\n",
    "    if i <= 206:\n",
    "        continue\n",
    "    print('='*30,val,'(',i,'/',len(toGet),')','='*30)\n",
    "    arts.searchDiscogForArtist(val)\n",
    "    print(\"\\n\\n\\n\")\n",
    "    sleep(2)"
   ]
  },
  {
   "cell_type": "code",
   "execution_count": null,
   "metadata": {},
   "outputs": [],
   "source": [
    "from time import sleep\n",
    "vals  = [\"The Souvenirs\", \"The Stand\", f\"The Suicide Kings\", \"The Supremes\", \"The Temptations\", \"The Tomcats\", \"The Tone\", \"The Tourists\", \"The Unseen\", \"The Ventures\", \"The Vikings\", \"The Violents\", \"The Wailers\", \"The Want\", \"The Washingtonians\", \"The Witches\", \"UB40\", \"Underdog\", \"Unearth\", \"Unk\", \"Unscarred\", \"Up Front\", \"Up In Arms\", \"Urban Legends\"]\n",
    "vals += [\"The Pits\", \"The Pressure\", \"The Pretenders\", \"The Prodigy\", \"The Product\", \"The Receptionists\", \"The Retardos\", \"The Revelers\", \"The Romancers\", \"The Roots\", \"The Rosehips\", \"The Ruiners\", \"The Runaways\", \"The Scholars\", \"The Seeds\", \"The Shams\", \"The Sights\", \"The Sillies\", \"The Skunks\", \"The Snowmen\"]\n",
    "vals += [\"The Invisible Men\", \"The Israelites\", \"The Ivory Coast\", \"The Killers\", \"The Manatees\", \"The Marquees\", \"The Masters\", \"The Matrix\", \"The Mixtures\", \"The Moves\", \"The Noisettes\", \"The Nomads\", \"The Orange Peels\", \"The Outcasts\"]\n",
    "vals += [\"The Game\", \"The Generics\", \"The Gits\", \"The Go-Betweens\", \"The Goblins\", \"The Godz\", \"The Great Society\", \"The Haters\", \"The Hilltops\", \"The Hookers\", \"The Immortals\", \"The Impacts\", \"The Inspector\", \"The Invaders\"]\n",
    "vals += [\"The Diamonds\", \"The Diplomats\", \"The Dramatics\", \"The Drifters\", \"The Dust Brothers\", \"The Eagles\", \"The Exceptions\", \"The Fiends\", \"The Fixtures\", \"The Frantics\", \"The Freeze\", \"The Frogs\", \"The Fumes\"]\n",
    "vals += [\"The Cardigans\", \"The Casualties\", \"The Challengers\", \"The Chameleons\", \"The Cheaters\", \"The Chicken Hawks\", \"The Crash\", \"The Crusaders\", \"The Cure\", \"The Darts\", \"The Deuce Coupes\"]\n",
    "vals += [\"The Beat\", \"The Beatles\", \"The Blood Brothers\", \"The Blow Up\", \"The Bollweevils\", \"The Brentwoods\", \"The Broadways\", \"The Brood\", \"The Business\", \"The Busy Signals\"]\n",
    "vals += [\"You\", \"Young Money\", \"Young Pioneers\", \"Zero Zero\"]\n",
    "for val in vals:\n",
    "    print('='*30,val,'='*30)\n",
    "    try:\n",
    "        arts.searchDiscogForArtist(val)\n",
    "    except:\n",
    "        continue\n",
    "    print(\"\\n\\n\\n\")\n",
    "    sleep(10)"
   ]
  },
  {
   "cell_type": "code",
   "execution_count": null,
   "metadata": {},
   "outputs": [],
   "source": []
  },
  {
   "cell_type": "markdown",
   "metadata": {},
   "source": [
    "# New Artists From Albums"
   ]
  },
  {
   "cell_type": "code",
   "execution_count": null,
   "metadata": {},
   "outputs": [],
   "source": [
    "%load_ext autoreload\n",
    "%autoreload\n",
    "from albums import albums\n",
    "\n",
    "disc = discogs()\n",
    "albs = albums(disc)\n",
    "toget = albs.findMissingArtistsFromAlbums()"
   ]
  },
  {
   "cell_type": "code",
   "execution_count": null,
   "metadata": {},
   "outputs": [],
   "source": [
    "from time import sleep\n",
    "togetmap  = toget['togetmap']\n",
    "refstoget = toget['toget']\n",
    "for ia,item in enumerate(refstoget.most_common()):\n",
    "    print('\\n{0}/{1}'.format(ia,len(refstoget)))\n",
    "    artistID, cnt = item[0], item[1]\n",
    "    ref      = togetmap[artistID]\n",
    "    url      = arts.getArtistURL(ref)\n",
    "    savename = arts.getArtistSavename(artistID)\n",
    "    if not isFile(savename):\n",
    "        try:\n",
    "            arts.downloadArtistURL(url, savename, debug=True)\n",
    "        except:\n",
    "            continue\n",
    "        sleep(2)\n",
    "    #print(item)\n",
    "#len(togetmap)"
   ]
  },
  {
   "cell_type": "markdown",
   "metadata": {},
   "source": [
    "# Albums From Known People"
   ]
  },
  {
   "cell_type": "code",
   "execution_count": null,
   "metadata": {},
   "outputs": [],
   "source": [
    "data = getFile(\"/Volumes/Music/MusicDB/toget.p\")"
   ]
  },
  {
   "cell_type": "code",
   "execution_count": null,
   "metadata": {},
   "outputs": [],
   "source": [
    "%load_ext autoreload\n",
    "%autoreload\n",
    "from albums import albums\n",
    "disc = discogs()\n",
    "discdf = disc.getMasterDiscogsDB()\n",
    "print(discdf.shape)\n",
    "discdf = discdf[~discdf['Name'].isna()]\n",
    "print(discdf.shape)\n",
    "\n",
    "artists = list(discdf[\"Artist\"])\n",
    "\n",
    "_ = clock(\"Last Run\")"
   ]
  },
  {
   "cell_type": "code",
   "execution_count": null,
   "metadata": {},
   "outputs": [],
   "source": [
    "def getMusicData(key, artist):\n",
    "    retval = discdf[discdf[key] == artist]\n",
    "    if retval.shape[0] > 0:\n",
    "        return retval\n",
    "    else:\n",
    "        return None\n",
    "    \n",
    "toget={}\n",
    "known={}\n",
    "\n",
    "for ia,artistName in enumerate(data):\n",
    "    #artistID = artistName\n",
    "    artistID = None\n",
    "    if artistID is None:\n",
    "        retval = getMusicData('Name', artistName)\n",
    "        if retval is not None:\n",
    "            artistID = retval.index.values[0]\n",
    "    modValue  = dutils.getDiscIDHashMod(discID=artistID, modval=disc.getMaxModVal())\n",
    "    if toget.get(modValue) is None:\n",
    "        toget[modValue] = {}\n",
    "    toget[modValue][artistID] = True\n",
    "        \n",
    "    if ia % 100 == 0:\n",
    "        print(ia,'/',len(data))"
   ]
  },
  {
   "cell_type": "code",
   "execution_count": null,
   "metadata": {},
   "outputs": [],
   "source": [
    "for modVal in toget.keys():\n",
    "    artistIDs = toget[modVal]\n",
    "    print(modVal,'\\t',len(artistIDs))\n",
    "    dbdata = disc.getArtistsDBModValData(modVal)\n",
    "    for artistID in artistIDs:\n",
    "        print(' ',artistID)\n",
    "        artistData = dbdata[artistID]\n",
    "        albs.downloadAlbumFromArtistData(artistID=artistID, artistData=artistData, mediaTypes=None)"
   ]
  },
  {
   "cell_type": "markdown",
   "metadata": {},
   "source": [
    "# Albums From All Artists"
   ]
  },
  {
   "cell_type": "code",
   "execution_count": null,
   "metadata": {},
   "outputs": [],
   "source": [
    "%load_ext autoreload\n",
    "%autoreload\n",
    "from albums import albums\n",
    "disc = discogs()\n",
    "albs = albums(disc)\n",
    "albs.downloadAlbumsFromArtists(maxAlbums=1, mediaTypes=None, rand=True)"
   ]
  },
  {
   "cell_type": "code",
   "execution_count": null,
   "metadata": {},
   "outputs": [],
   "source": []
  },
  {
   "cell_type": "code",
   "execution_count": null,
   "metadata": {},
   "outputs": [],
   "source": [
    "maindb = mainDB(mdb=mdb, create=False)\n",
    "#maindb.setDBFull() ## Do this to recreate everything\n",
    "maindb.setDBKnown()\n",
    "artistDBs = maindb.getKnownArtistDBs()"
   ]
  },
  {
   "cell_type": "code",
   "execution_count": null,
   "metadata": {},
   "outputs": [],
   "source": []
  },
  {
   "cell_type": "code",
   "execution_count": null,
   "metadata": {},
   "outputs": [],
   "source": []
  },
  {
   "cell_type": "code",
   "execution_count": null,
   "metadata": {},
   "outputs": [],
   "source": []
  },
  {
   "cell_type": "code",
   "execution_count": 18,
   "metadata": {},
   "outputs": [
    {
     "name": "stdout",
     "output_type": "stream",
     "text": [
      "The autoreload extension is already loaded. To reload it, use:\n",
      "  %reload_ext autoreload\n"
     ]
    }
   ],
   "source": []
  },
  {
   "cell_type": "markdown",
   "metadata": {},
   "source": [
    "# Discogs"
   ]
  },
  {
   "cell_type": "code",
   "execution_count": 51,
   "metadata": {},
   "outputs": [
    {
     "name": "stdout",
     "output_type": "stream",
     "text": [
      "The autoreload extension is already loaded. To reload it, use:\n",
      "  %reload_ext autoreload\n",
      "=========================   discogs   =========================\n",
      "{'name': 'Dave Matthews (3)', 'err': None}\n"
     ]
    }
   ],
   "source": [
    "%load_ext autoreload\n",
    "%autoreload\n",
    "from dbArtistsDiscogs import dbArtistsDiscogs\n",
    "ad = dbArtistsDiscogs(debug=True)\n",
    "#ad.searchForArtist(\"Dave Matthews\")\n",
    "#ifile=\"/Users/tgadfort/Music/Discog/artists-discogs/98/unofficial/144998.p\"\n",
    "#ifile=\"/Users/tgadfort/Music/Discog/artists-discogs/70/420570.p\"\n",
    "ifile=\"/Users/tgadfort/Music/Discog/artists-discogs/34/386834.p\"\n",
    "retval = ad.getData(ifile)\n",
    "print(retval.get()['artist'].get())\n",
    "#ad.searchForArtist(\"Niel Diamond\")"
   ]
  },
  {
   "cell_type": "markdown",
   "metadata": {},
   "source": [
    "# AllMusic"
   ]
  },
  {
   "cell_type": "code",
   "execution_count": 58,
   "metadata": {},
   "outputs": [
    {
     "name": "stdout",
     "output_type": "stream",
     "text": [
      "The autoreload extension is already loaded. To reload it, use:\n",
      "  %reload_ext autoreload\n",
      "=========================   allmusic   =========================\n",
      "{'name': 'Dave Matthews', 'err': None}\n"
     ]
    }
   ],
   "source": [
    "%load_ext autoreload\n",
    "%autoreload\n",
    "from dbArtistsAllMusic import dbArtistsAllMusic\n",
    "am = dbArtistsAllMusic(debug=True)\n",
    "#am.searchForArtist(\"Dave Matthews\")\n",
    "ifile=\"/Users/tgadfort/Music/Discog/artists-allmusic/61/0000687561.p\"\n",
    "#ifile=\"/Users/tgadfort/Music/Discog/artists-discogs/98/unofficial/144998.p\"\n",
    "#ifile=\"/Users/tgadfort/Music/Discog/artists-discogs/70/420570.p\"\n",
    "#ifile=\"/Users/tgadfort/Music/Discog/artists-discogs/34/386834.p\"\n",
    "retval = am.getData(ifile)\n",
    "print(retval.get()['artist'].get())"
   ]
  },
  {
   "cell_type": "markdown",
   "metadata": {},
   "source": [
    "# MusicBrainz"
   ]
  },
  {
   "cell_type": "code",
   "execution_count": 62,
   "metadata": {},
   "outputs": [
    {
     "name": "stdout",
     "output_type": "stream",
     "text": [
      "The autoreload extension is already loaded. To reload it, use:\n",
      "  %reload_ext autoreload\n",
      "=========================   musicbrainz   =========================\n",
      "{'name': 'Dave Matthews', 'err': None}\n"
     ]
    }
   ],
   "source": [
    "%load_ext autoreload\n",
    "%autoreload\n",
    "from dbArtistsMusicBrainz import dbArtistsMusicBrainz\n",
    "am = dbArtistsMusicBrainz(debug=True)\n",
    "#am.searchForArtist(\"Dave Matthews\")\n",
    "ifile=\"/Users/tgadfort/Music/Discog/artists-musicbrainz/71/100112022548628725831976514629370881371.p\"\n",
    "retval = am.getData(ifile)\n",
    "print(retval.get()['artist'].get())"
   ]
  },
  {
   "cell_type": "markdown",
   "metadata": {},
   "source": [
    "# LastFM"
   ]
  },
  {
   "cell_type": "code",
   "execution_count": 64,
   "metadata": {},
   "outputs": [
    {
     "name": "stdout",
     "output_type": "stream",
     "text": [
      "The autoreload extension is already loaded. To reload it, use:\n",
      "  %reload_ext autoreload\n",
      "=========================   lastfm   =========================\n",
      "{'name': 'Dave Matthews Band', 'err': None}\n"
     ]
    }
   ],
   "source": [
    "%load_ext autoreload\n",
    "%autoreload\n",
    "from dbArtistsLastFM import dbArtistsLastFM\n",
    "am = dbArtistsLastFM(debug=True)\n",
    "#am.searchForArtist(\"Dave Matthews Band\")\n",
    "ifile=\"/Users/tgadfort/Music/Discog/artists-lastfm/14/64101467014.p\"\n",
    "retval = am.getData(ifile)\n",
    "print(retval.get()['artist'].get())"
   ]
  },
  {
   "cell_type": "markdown",
   "metadata": {},
   "source": [
    "# RockCorner"
   ]
  },
  {
   "cell_type": "code",
   "execution_count": 68,
   "metadata": {},
   "outputs": [
    {
     "name": "stdout",
     "output_type": "stream",
     "text": [
      "The autoreload extension is already loaded. To reload it, use:\n",
      "  %reload_ext autoreload\n",
      "=========================   rockcorner   =========================\n",
      "{'name': 'Carlos Santana', 'err': None}\n"
     ]
    }
   ],
   "source": [
    "%load_ext autoreload\n",
    "%autoreload\n",
    "from dbArtistsRockCorner import dbArtistsRockCorner\n",
    "am = dbArtistsRockCorner(debug=True)\n",
    "#am.searchForArtist(\"Dave Matthews Band\")\n",
    "ifile=\"/Users/tgadfort/Music/Discog/artists-rockcorner/67/539215767.p\"\n",
    "retval = am.getData(ifile)\n",
    "print(retval.get()['artist'].get())"
   ]
  },
  {
   "cell_type": "markdown",
   "metadata": {},
   "source": [
    "# RateYourMusic"
   ]
  },
  {
   "cell_type": "code",
   "execution_count": 71,
   "metadata": {},
   "outputs": [
    {
     "name": "stdout",
     "output_type": "stream",
     "text": [
      "The autoreload extension is already loaded. To reload it, use:\n",
      "  %reload_ext autoreload\n",
      "=========================   rockcorner   =========================\n"
     ]
    }
   ],
   "source": [
    "%load_ext autoreload\n",
    "%autoreload\n",
    "from dbArtistsRockCorner import dbArtistsRockCorner\n",
    "am = dbArtistsRockCorner(debug=True)\n",
    "#am.searchForArtist(\"Dave Matthews Band\")\n",
    "#ifile=\"/Users/tgadfort/Music/Discog/artists-rockcorner/67/539215767.p\"\n",
    "#retval = am.getData(ifile)\n",
    "#print(retval.get()['artist'].get())"
   ]
  },
  {
   "cell_type": "markdown",
   "metadata": {},
   "source": [
    "# CDandLP"
   ]
  },
  {
   "cell_type": "code",
   "execution_count": 72,
   "metadata": {},
   "outputs": [
    {
     "name": "stdout",
     "output_type": "stream",
     "text": [
      "The autoreload extension is already loaded. To reload it, use:\n",
      "  %reload_ext autoreload\n",
      "=========================   cdandlp   =========================\n"
     ]
    }
   ],
   "source": [
    "%load_ext autoreload\n",
    "%autoreload\n",
    "from dbArtistsCDandLP import dbArtistsCDandLP\n",
    "am = dbArtistsCDandLP(debug=True)\n",
    "#am.searchForArtist(\"Dave Matthews Band\")\n",
    "#ifile=\"/Users/tgadfort/Music/Discog/artists-rockcorner/67/539215767.p\"\n",
    "#retval = am.getData(ifile)\n",
    "#print(retval.get()['artist'].get())"
   ]
  },
  {
   "cell_type": "markdown",
   "metadata": {},
   "source": [
    "# AceBootlegs"
   ]
  },
  {
   "cell_type": "code",
   "execution_count": 78,
   "metadata": {},
   "outputs": [
    {
     "name": "stdout",
     "output_type": "stream",
     "text": [
      "The autoreload extension is already loaded. To reload it, use:\n",
      "  %reload_ext autoreload\n",
      "=========================   acebootlegs   =========================\n"
     ]
    }
   ],
   "source": [
    "%load_ext autoreload\n",
    "%autoreload\n",
    "from dbArtistsAceBootlegs import dbArtistsAceBootlegs\n",
    "am = dbArtistsAceBootlegs(debug=True)\n",
    "#am.searchForArtist(\"Dave Matthews Band\")\n",
    "#ifile=\"/Users/tgadfort/Music/Discog/artists-rockcorner/67/539215767.p\"\n",
    "#retval = am.getData(ifile)\n",
    "#print(retval.get()['artist'].get())"
   ]
  },
  {
   "cell_type": "markdown",
   "metadata": {},
   "source": [
    "# DatPiff"
   ]
  },
  {
   "cell_type": "code",
   "execution_count": 80,
   "metadata": {},
   "outputs": [
    {
     "name": "stdout",
     "output_type": "stream",
     "text": [
      "The autoreload extension is already loaded. To reload it, use:\n",
      "  %reload_ext autoreload\n",
      "=========================   datpiff   =========================\n",
      "Creating /Users/tgadfort/Music/Discog/artists-datpiff\n",
      "Creating /Users/tgadfort/Music/Discog/artists-datpiff\n",
      "Creating /Users/tgadfort/Music/Discog/albums-datpiff\n",
      "Creating /Users/tgadfort/Music/Discog/albums-datpiff\n",
      "Creating /Users/tgadfort/Music/Discog/artists-datpiff-db\n",
      "Creating /Users/tgadfort/Music/Discog/artists-datpiff-db\n",
      "Creating /Users/tgadfort/Music/Discog/albums-datpiff-db\n",
      "Creating /Users/tgadfort/Music/Discog/albums-datpiff-db\n",
      "Creating /Users/tgadfort/Music/Discog/artists-datpiff-db/metadata\n",
      "Creating /Users/tgadfort/Music/Discog/artists-datpiff-db/metadata\n",
      "Creating /Users/tgadfort/Music/Discog/albums-datpiff-db/metadata\n",
      "Creating /Users/tgadfort/Music/Discog/albums-datpiff-db/metadata\n"
     ]
    }
   ],
   "source": [
    "%load_ext autoreload\n",
    "%autoreload\n",
    "from dbArtistsDatPiff import dbArtistsDatPiff\n",
    "am = dbArtistsDatPiff(debug=True)\n",
    "#am.searchForArtist(\"Dave Matthews Band\")\n",
    "#ifile=\"/Users/tgadfort/Music/Discog/artists-rockcorner/67/539215767.p\"\n",
    "#retval = am.getData(ifile)\n",
    "#print(retval.get()['artist'].get())"
   ]
  },
  {
   "cell_type": "markdown",
   "metadata": {},
   "source": [
    "# MusicStack"
   ]
  },
  {
   "cell_type": "code",
   "execution_count": 83,
   "metadata": {},
   "outputs": [
    {
     "name": "stdout",
     "output_type": "stream",
     "text": [
      "The autoreload extension is already loaded. To reload it, use:\n",
      "  %reload_ext autoreload\n",
      "=========================   musicstack   =========================\n",
      "Creating /Users/tgadfort/Music/Discog/artists-musicstack\n",
      "Creating /Users/tgadfort/Music/Discog/artists-musicstack\n",
      "Creating /Users/tgadfort/Music/Discog/albums-musicstack\n",
      "Creating /Users/tgadfort/Music/Discog/albums-musicstack\n",
      "Creating /Users/tgadfort/Music/Discog/artists-musicstack-db\n",
      "Creating /Users/tgadfort/Music/Discog/artists-musicstack-db\n",
      "Creating /Users/tgadfort/Music/Discog/albums-musicstack-db\n",
      "Creating /Users/tgadfort/Music/Discog/albums-musicstack-db\n",
      "Creating /Users/tgadfort/Music/Discog/artists-musicstack-db/metadata\n",
      "Creating /Users/tgadfort/Music/Discog/artists-musicstack-db/metadata\n",
      "Creating /Users/tgadfort/Music/Discog/albums-musicstack-db/metadata\n",
      "Creating /Users/tgadfort/Music/Discog/albums-musicstack-db/metadata\n"
     ]
    }
   ],
   "source": [
    "%load_ext autoreload\n",
    "%autoreload\n",
    "from dbArtistsMusicStack import dbArtistsMusicStack\n",
    "am = dbArtistsMusicStack(debug=True)\n",
    "#am.searchForArtist(\"Dave Matthews Band\")\n",
    "#ifile=\"/Users/tgadfort/Music/Discog/artists-rockcorner/67/539215767.p\"\n",
    "#retval = am.getData(ifile)\n",
    "#print(retval.get()['artist'].get())"
   ]
  },
  {
   "cell_type": "code",
   "execution_count": null,
   "metadata": {},
   "outputs": [],
   "source": []
  },
  {
   "cell_type": "code",
   "execution_count": null,
   "metadata": {},
   "outputs": [],
   "source": []
  },
  {
   "cell_type": "code",
   "execution_count": 145,
   "metadata": {},
   "outputs": [],
   "source": []
  },
  {
   "cell_type": "code",
   "execution_count": 146,
   "metadata": {},
   "outputs": [
    {
     "name": "stdout",
     "output_type": "stream",
     "text": [
      "Warning! Saved Discog Directory None is not Available\n"
     ]
    }
   ],
   "source": [
    "ad = artistsDiscogs(debug=True)"
   ]
  },
  {
   "cell_type": "code",
   "execution_count": 120,
   "metadata": {},
   "outputs": [],
   "source": [
    "ad = artistsDiscogs(debug=True)\n",
    "ifile=\"/Users/tgadfort/Music/Discog/artists-discogs/98/unofficial/144998.p\"\n",
    "retval = ad.getData(ifile)\n",
    "retval.get()['artist'].get()\n",
    "ad.searchForArtist(\"Niel Diamond\")"
   ]
  },
  {
   "cell_type": "code",
   "execution_count": 124,
   "metadata": {},
   "outputs": [
    {
     "data": {
      "text/plain": [
       "{'name': 'Black Sabbath', 'err': None}"
      ]
     },
     "execution_count": 124,
     "metadata": {},
     "output_type": "execute_result"
    }
   ],
   "source": [
    "retval = ad.getData(ifile)\n",
    "retval.get()['artist'].get()"
   ]
  },
  {
   "cell_type": "code",
   "execution_count": 147,
   "metadata": {},
   "outputs": [
    {
     "name": "stdout",
     "output_type": "stream",
     "text": [
      "\n",
      "\n",
      "===================== Searching For Niel Diamond =====================\n",
      "Now Downloading https://www.discogs.com/search/?q=Niel%20Diamond&limit=25&type=artist\n",
      "Found 3 artists\n",
      "2 / 3 \t: 6 \t https://www.discogs.com/artist/271516-Neil-Diamond?sort=year%2Casc&limit=500\n",
      "Now Downloading https://www.discogs.com/artist/271516-Neil-Diamond?sort=year%2Casc&limit=500\n",
      "Saving /Users/tgadfort/Music/Discog/artists-discogs/16/271516.p (force=False)\n",
      "  --> This file is 160.1kB.\n",
      "Done. Sleeping for 2 seconds\n",
      "3 / 3 \t: 6 \t https://www.discogs.com/artist/420570-Nick-Diamonds?sort=year%2Casc&limit=500\n",
      "Now Downloading https://www.discogs.com/artist/420570-Nick-Diamonds?sort=year%2Casc&limit=500\n",
      "Saving /Users/tgadfort/Music/Discog/artists-discogs/70/420570.p (force=False)\n",
      "  --> This file is 18.0kB.\n",
      "Done. Sleeping for 2 seconds\n"
     ]
    }
   ],
   "source": [
    "ad.searchForArtist(\"Niel Diamond\")"
   ]
  },
  {
   "cell_type": "code",
   "execution_count": 158,
   "metadata": {},
   "outputs": [],
   "source": [
    "from artistAM import artistAM\n",
    "from discogsUtils import allmusicUtils\n",
    "\n",
    "class artistsAllMusic(artistsBase):\n",
    "    def __init__(self, debug=False):\n",
    "        self.db     = \"AllMusic\"\n",
    "        self.disc   = discogs(self.db.lower())\n",
    "        self.artist = artistAM(self.disc)\n",
    "        self.dutils = allmusicUtils()\n",
    "        self.debug  = debug\n",
    "        super().__init__(self.db, self.disc, self.artist, self.dutils, debug=debug)\n",
    "\n",
    "        \n",
    "    ##################################################################################################################\n",
    "    # Artist URL\n",
    "    ##################################################################################################################\n",
    "    def getArtistURL(self, artistRef, page=1):\n",
    "        url = \"{0}/discography/all\".format(artistRef)\n",
    "        return url\n",
    "        \n",
    "        if artistRef.startswith(\"http\"):\n",
    "            return artistRef\n",
    "        else:\n",
    "            baseURL = self.disc.discogURL\n",
    "            url     = urllib.parse.urljoin(baseURL, quote(artistRef))\n",
    "            return url\n",
    "\n",
    "            \n",
    "        if artistRef.startswith(\"/artist/\") is False:\n",
    "            print(\"Artist Ref needs to start with /artist/\")\n",
    "            return None\n",
    "        \n",
    "        baseURL = self.disc.discogURL\n",
    "        url     = urllib.parse.urljoin(baseURL, quote(artistRef))\n",
    "        url     = urllib.parse.urljoin(url, \"?sort=year%2Casc&limit=500\") ## Make sure we get 500 entries)\n",
    "        if isinstance(page, int) and page > 1:\n",
    "            pageURL = \"&page={0}\".format(page)\n",
    "            url = \"{0}{1}\".format(url, pageURL)\n",
    "        return url\n",
    "\n",
    "        \n",
    "    \n",
    "    ##################################################################################################################\n",
    "    # Search Functions\n",
    "    ##################################################################################################################\n",
    "    def searchForArtist(self, artist):\n",
    "        print(\"\\n\\n===================== Searching For {0} =====================\".format(artist))\n",
    "        baseURL = self.disc.discogSearchURL\n",
    "        \n",
    "        url = urllib.parse.urljoin(baseURL, \"{0}{1}\".format(\"artists/\", quote(artist)))\n",
    "                  \n",
    "                    \n",
    "        ## Download data\n",
    "        data, response = self.downloadURL(url)\n",
    "        if response != 200:\n",
    "            print(\"Error downloading {0}\".format(url))\n",
    "            return False\n",
    "\n",
    "        \n",
    "        ## Parse data\n",
    "        bsdata = getHTML(data)\n",
    "        \n",
    "        artistDB  = {}\n",
    "        \n",
    "        uls = bsdata.findAll(\"ul\", {\"class\": \"search-results\"})\n",
    "        for ul in uls:\n",
    "            lis = ul.findAll(\"li\", {\"class\": \"artist\"})\n",
    "            for li in lis:\n",
    "                divs = li.findAll(\"div\", {\"class\": \"name\"})\n",
    "                for div in divs:\n",
    "                    link     = div.find(\"a\")\n",
    "                    href     = link.attrs['href']\n",
    "                    tooltip  = link.attrs['data-tooltip']\n",
    "                    try:\n",
    "                        from json import loads\n",
    "                        tooltip = loads(tooltip)\n",
    "                        artistID = tooltip['id']\n",
    "                    except:\n",
    "                        artistID = None\n",
    "            \n",
    "                    if artistDB.get(href) is None:\n",
    "                        artistDB[href] = {\"N\": 0, \"Name\": artist}\n",
    "                    artistDB[href][\"N\"] += 1\n",
    "        \n",
    "    \n",
    "        if self.debug:\n",
    "            print(\"Found {0} artists\".format(len(artistDB)))\n",
    "                \n",
    "        iArtist = 0\n",
    "        for href, hrefData in artistDB.items():\n",
    "            iArtist += 1\n",
    "        \n",
    "            discID   = self.dutils.getArtistID(href)\n",
    "            url      = self.getArtistURL(href)\n",
    "            savename = self.getArtistSavename(discID)\n",
    "\n",
    "            print(iArtist,'/',len(artistDB),'\\t:',discID,'\\t',url)\n",
    "            \n",
    "            if isFile(savename):\n",
    "                continue\n",
    "\n",
    "            self.downloadArtistURL(url, savename)"
   ]
  },
  {
   "cell_type": "code",
   "execution_count": 160,
   "metadata": {},
   "outputs": [
    {
     "name": "stdout",
     "output_type": "stream",
     "text": [
      "Warning! Saved Discog Directory None is not Available\n"
     ]
    }
   ],
   "source": [
    "am = artistsAllMusic(debug=True)\n",
    "#am.searchForArtist(\"Niel Diamond\")"
   ]
  },
  {
   "cell_type": "code",
   "execution_count": 170,
   "metadata": {},
   "outputs": [],
   "source": [
    "from artistMB import artistMB\n",
    "from discogsUtils import musicbrainzUtils\n",
    "from hashlib import md5\n",
    "\n",
    "class artistsMusicBrainz(artistsBase):\n",
    "    def __init__(self, debug=False):\n",
    "        self.db     = \"MusicBrainz\"\n",
    "        self.disc   = discogs(self.db.lower())\n",
    "        self.artist = artistMB(self.disc)\n",
    "        self.dutils = musicbrainzUtils()\n",
    "        self.debug  = debug\n",
    "        super().__init__(self.db, self.disc, self.artist, self.dutils, debug=debug)\n",
    "\n",
    "        \n",
    "    ##################################################################################################################\n",
    "    # Artist URL\n",
    "    ##################################################################################################################\n",
    "    def getArtistURL(self, artistRef, page=1):\n",
    "        baseURL = self.disc.discogURL\n",
    "        url     = urllib.parse.urljoin(baseURL, artistRef)\n",
    "        return url\n",
    "\n",
    "        \n",
    "    ##################################################################################################################\n",
    "    # Search Functions\n",
    "    ##################################################################################################################\n",
    "    def searchForArtist(self, artist):\n",
    "        print(\"\\n\\n===================== Searching For {0} =====================\".format(artist))\n",
    "        baseURL = \"https://musicbrainz.org/\"\n",
    "        extra = \"search?query={0}&type=artist&limit=100&method=indexed\".format(quote(artist))\n",
    "\n",
    "        url = urllib.parse.urljoin(baseURL, extra)         \n",
    "                    \n",
    "        ## Download data\n",
    "        data, response = self.downloadURL(url)\n",
    "        if response != 200:\n",
    "            print(\"Error downloading {0}\".format(url))\n",
    "            return False\n",
    "\n",
    "        \n",
    "        ## Parse data\n",
    "        bsdata = getHTML(data)\n",
    "        \n",
    "        artistDB  = {}\n",
    "\n",
    "        tables = bsdata.findAll(\"table\")\n",
    "        for table in tables:\n",
    "            ths = table.findAll(\"th\")\n",
    "            headers = [x.text for x in ths]\n",
    "            trs = table.findAll(\"tr\")\n",
    "            for tr in trs[1:]:\n",
    "                tds    = tr.findAll(\"td\")\n",
    "                name   = tds[0].find('a').text\n",
    "                href   = tds[0].find('a').attrs['href']\n",
    "            \n",
    "                if artistDB.get(href) is None:\n",
    "                    artistDB[href] = {\"N\": 0, \"Name\": name}\n",
    "                artistDB[href][\"N\"] += 1\n",
    "        \n",
    "    \n",
    "        if self.debug:\n",
    "            print(\"Found {0} artists\".format(len(artistDB)))\n",
    "                \n",
    "        iArtist = 0\n",
    "        for href, hrefData in artistDB.items():\n",
    "            iArtist += 1\n",
    "\n",
    "            discID   = self.dutils.getArtistID(href)\n",
    "            \n",
    "            uuid = href.split('/')[-1]\n",
    "\n",
    "            m = md5()\n",
    "            for val in uuid.split(\"-\"):\n",
    "                m.update(val.encode('utf-8'))\n",
    "            hashval = m.hexdigest()\n",
    "            discID  = str(int(hashval, 16))\n",
    "\n",
    "            url      = self.getArtistURL(href)\n",
    "            savename = self.getArtistSavename(discID)\n",
    "\n",
    "            print(iArtist,'/',len(artistDB),'\\t:',discID,'\\t',url)\n",
    "            \n",
    "            if isFile(savename):\n",
    "                continue\n",
    "\n",
    "            self.downloadArtistURL(url, savename)"
   ]
  },
  {
   "cell_type": "code",
   "execution_count": 173,
   "metadata": {},
   "outputs": [
    {
     "name": "stdout",
     "output_type": "stream",
     "text": [
      "Warning! Saved Discog Directory None is not Available\n"
     ]
    }
   ],
   "source": [
    "am = artistsMusicBrainz(debug=True)\n",
    "#am.searchForArtist(\"Niel Diamond\")"
   ]
  },
  {
   "cell_type": "code",
   "execution_count": 174,
   "metadata": {},
   "outputs": [],
   "source": [
    "from artistLM import artistLM\n",
    "from discogsUtils import lastfmUtils\n",
    "\n",
    "class artistsLastFM(artistsBase):\n",
    "    def __init__(self, debug=False):\n",
    "        self.db     = \"LastFM\"\n",
    "        self.disc   = discogs(self.db.lower())\n",
    "        self.artist = artistLM(self.disc)\n",
    "        self.dutils = lastfmUtils()\n",
    "        self.debug  = debug\n",
    "        super().__init__(self.db, self.disc, self.artist, self.dutils, debug=debug)\n",
    "\n",
    "        \n",
    "    ##################################################################################################################\n",
    "    # Artist URL\n",
    "    ##################################################################################################################\n",
    "    def getArtistURL(self, artistRef, page=1):\n",
    "        #print(\"getArtistURL(\",artistRef,\")\")\n",
    "        if artistRef.startswith(\"http\"):\n",
    "            url = artistRef\n",
    "        else:\n",
    "            baseURL = self.disc.discogURL\n",
    "            if artistRef.startswith(\"/\") is True:\n",
    "                #print(\"Join\", end=\"\\t\")\n",
    "                url     = urllib.parse.urljoin(baseURL, quote(artistRef[1:]))\n",
    "                #print(url)\n",
    "            else:\n",
    "                url     = urllib.parse.urljoin(baseURL, quote(artistRef))\n",
    "            #print(url)\n",
    "                \n",
    "            if url.endswith(\"/\") is False:\n",
    "                url     = \"{0}{1}\".format(url, \"/+albums?order=release_date\")\n",
    "            else:\n",
    "                url     = \"{0}{1}\".format(url, \"+albums?order=release_date\")\n",
    "                \n",
    "            #print(url)\n",
    "        \n",
    "        if isinstance(page, int) and page > 1:\n",
    "            pageURL = \"&page={0}\".format(page)\n",
    "            url = \"{0}{1}\".format(url, pageURL)\n",
    "        return url\n",
    "\n",
    "        \n",
    "    ##################################################################################################################\n",
    "    # Search Functions\n",
    "    ##################################################################################################################\n",
    "    def searchForArtist(self, artist):\n",
    "        print(\"\\n\\n===================== Searching For {0} =====================\".format(artist))\n",
    "        baseURL = self.disc.discogSearchURL\n",
    "        url = urllib.parse.urljoin(baseURL, \"{0}{1}\".format(\"artists?q=\", quote(artist)))\n",
    "                    \n",
    "            \n",
    "        ## Download data\n",
    "        data, response = self.downloadURL(url)\n",
    "        if response != 200:\n",
    "            print(\"Error downloading {0}\".format(url))\n",
    "            return False\n",
    "\n",
    "        \n",
    "        ## Parse data\n",
    "        bsdata = getHTML(data)\n",
    "        \n",
    "        artistDB  = {}\n",
    "        \n",
    "        uls = bsdata.findAll(\"ul\", {\"class\": \"artist-results\"})\n",
    "        for ul in uls:\n",
    "            lis = ul.findAll(\"li\", {\"class\": \"artist-result\"})\n",
    "            for li in lis:\n",
    "                h4 = li.find(\"h4\")\n",
    "                if h4 is None:\n",
    "                    raise ValueError(\"No h4 in list\")\n",
    "                ref = h4.find('a')\n",
    "                if ref is None:\n",
    "                    raise ValueError(\"No ref in h4\")\n",
    "\n",
    "                name = ref.attrs['title']\n",
    "                url  = ref.attrs['href']\n",
    "                artistID = self.dutils.getArtistID(name)\n",
    "        \n",
    "                #print(name,'\\t',url,'\\t',artistID)\n",
    "                if artistDB.get(url) is None:\n",
    "                    artistDB[url] = {\"N\": 0, \"Name\": name}\n",
    "                artistDB[url][\"N\"] += 1\n",
    "        \n",
    "    \n",
    "        if self.debug:\n",
    "            print(\"Found {0} artists\".format(len(artistDB)))\n",
    "                \n",
    "        iArtist = 0\n",
    "        for href, hrefData in artistDB.items():\n",
    "            iArtist += 1\n",
    "        \n",
    "            name     = hrefData[\"Name\"]\n",
    "            discID   = self.dutils.getArtistID(name)\n",
    "            url      = self.getArtistURL(href)\n",
    "            savename = self.getArtistSavename(discID)\n",
    "\n",
    "            print(iArtist,'/',len(artistDB),'\\t:',discID,'\\t',url)\n",
    "            \n",
    "            if isFile(savename):\n",
    "                continue\n",
    "\n",
    "            self.downloadArtistURL(url, savename)\n",
    "                \n",
    "    \n",
    "    def assertDBModValExtraData(self, modVal, maxPages=None):\n",
    "        mulArts             = multiartist()        \n",
    "        \n",
    "        print(\"assertDBModValExtraData(\",modVal,\")\")\n",
    "        artistDBDir = self.disc.getArtistsDBDir()\n",
    "        dbname  = setFile(artistDBDir, \"{0}-DB.p\".format(modVal))     \n",
    "        dbdata  = getFile(dbname)\n",
    "        nerrs = 0\n",
    "        \n",
    "        for artistID,artistData in dbdata.items():\n",
    "            pages = artistData.pages\n",
    "            if pages.more is True:\n",
    "                npages = pages.tot\n",
    "                if maxPages is not None:\n",
    "                    npages = min([npages, maxPages])\n",
    "                artistRef = artistData.url.url\n",
    "                print(artistID,'\\t',artistData.artist.name)\n",
    "                multiValues = mulArts.getArtistNames(artistData.artist.name)\n",
    "                if len(multiValues) > 1:\n",
    "                    print(\"\\tNot downloading multis: {0}\".format(multiValues.keys()))\n",
    "                    continue\n",
    "                for p in range(2, npages+1):\n",
    "                    url      = self.getArtistURL(artistRef, p)\n",
    "                    savename = self.getArtistSavename(artistID, p)\n",
    "                    print(artistID,'\\t',url,'\\t',savename)\n",
    "                    if not isFile(savename):\n",
    "                        self.downloadArtistURL(url=url, savename=savename, force=True, debug=True)\n",
    "                        sleep(3)"
   ]
  },
  {
   "cell_type": "code",
   "execution_count": 175,
   "metadata": {},
   "outputs": [
    {
     "name": "stdout",
     "output_type": "stream",
     "text": [
      "Warning! Saved Discog Directory None is not Available\n"
     ]
    }
   ],
   "source": [
    "al = artistsLastFM(debug=True)"
   ]
  },
  {
   "cell_type": "code",
   "execution_count": 177,
   "metadata": {},
   "outputs": [],
   "source": [
    "#al.searchForArtist(\"Neil Diamond\")"
   ]
  },
  {
   "cell_type": "code",
   "execution_count": 181,
   "metadata": {},
   "outputs": [],
   "source": [
    "from artistRC import artistRC\n",
    "from discogsUtils import rockcornerUtils\n",
    "\n",
    "class artistsRockCorner(artistsBase):\n",
    "    def __init__(self, debug=False):\n",
    "        self.db     = \"RockCorner\"\n",
    "        self.disc   = discogs(self.db.lower())\n",
    "        self.artist = artistRC(self.disc)\n",
    "        self.dutils = rockcornerUtils()\n",
    "        self.debug  = debug\n",
    "        super().__init__(self.db, self.disc, self.artist, self.dutils, debug=debug)\n",
    "\n",
    "        \n",
    "    ##################################################################################################################\n",
    "    # Artist URL\n",
    "    ##################################################################################################################\n",
    "    def getArtistURL(self, artistRef, page=1):\n",
    "        if artistRef.startswith(\"http\"):\n",
    "            url = artistRef\n",
    "        else:\n",
    "            baseURL = self.disc.discogURL\n",
    "            if artistRef.startswith(\"/\") is True:\n",
    "                #print(\"Join\", end=\"\\t\")\n",
    "                url     = urllib.parse.urljoin(baseURL, quote(artistRef[1:]))\n",
    "                #print(url)\n",
    "            else:\n",
    "                url     = urllib.parse.urljoin(baseURL, quote(artistRef))\n",
    "                        \n",
    "        if isinstance(page, int) and page > 1:\n",
    "            pageURL = \"&page={0}\".format(page)\n",
    "            url = \"{0}{1}\".format(url, pageURL)\n",
    "        return url\n",
    "\n",
    "        \n",
    "    ##################################################################################################################\n",
    "    # Search Functions\n",
    "    ##################################################################################################################\n",
    "    def searchForArtist(self, artist):\n",
    "\n",
    "        print(\"\\n\\n===================== Searching For {0} =====================\".format(artist))\n",
    "        baseURL = self.disc.discogSearchURL\n",
    "        url = urllib.parse.urljoin(baseURL, \"{0}{1}\".format(\"search?q=\", quote(artist)))\n",
    "                    \n",
    "\n",
    "        ## Download data\n",
    "        data, response = self.downloadURL(url)\n",
    "        if response != 200:\n",
    "            print(\"Error downloading {0}\".format(url))\n",
    "            return False\n",
    "\n",
    "        \n",
    "        ## Parse data\n",
    "        bsdata = getHTML(data)\n",
    "        \n",
    "        artistDB  = {}\n",
    "\n",
    "        songs = bsdata.findAll(\"article\", {\"class\": \"bgl0\"}) + bsdata.findAll(\"article\", {\"class\": \"bgl1\"})\n",
    "        for i,song in enumerate(songs):\n",
    "            label     = song.find(\"label\")\n",
    "            if label is None:\n",
    "                continue\n",
    "            name      = label.text\n",
    "            ref       = song.find(\"a\").attrs['href']\n",
    "            artistURL = \"/\".join(ref.split(\"/\")[:2])\n",
    "\n",
    "            #print(name,'\\t',url,'\\t',artistID)\n",
    "            if artistDB.get(artistURL) is None:\n",
    "                artistDB[artistURL] = {\"N\": 0, \"Name\": name}\n",
    "            artistDB[artistURL][\"N\"] += 1\n",
    "\n",
    "\n",
    "        if self.debug:\n",
    "            print(\"Found {0} artists\".format(len(artistDB)))\n",
    "\n",
    "        iArtist = 0\n",
    "        for href, hrefData in artistDB.items():\n",
    "            iArtist += 1\n",
    "\n",
    "            name     = hrefData[\"Name\"]\n",
    "            discID   = self.dutils.getArtistID(name)\n",
    "            url      = self.getArtistURL(href)\n",
    "            savename = self.getArtistSavename(discID)\n",
    "\n",
    "            print(iArtist,'/',len(artistDB),'\\t:',discID,'\\t',url)\n",
    "            \n",
    "            if isFile(savename):\n",
    "                continue\n",
    "\n",
    "            self.downloadArtistURL(url, savename)"
   ]
  },
  {
   "cell_type": "code",
   "execution_count": 182,
   "metadata": {},
   "outputs": [
    {
     "name": "stdout",
     "output_type": "stream",
     "text": [
      "Warning! Saved Discog Directory None is not Available\n"
     ]
    }
   ],
   "source": [
    "ar = artistsRockCorner(debug=True)"
   ]
  },
  {
   "cell_type": "code",
   "execution_count": 184,
   "metadata": {},
   "outputs": [],
   "source": [
    "#ar.searchForArtist(\"Neil Diamond\")"
   ]
  },
  {
   "cell_type": "code",
   "execution_count": 185,
   "metadata": {},
   "outputs": [],
   "source": [
    "from artistRM import artistRM\n",
    "from discogsUtils import rateyourmusicUtils\n",
    "\n",
    "class artistsRateYourMusic(artistsBase):\n",
    "    def __init__(self, debug=False):\n",
    "        self.db     = \"RateYourMusic\"\n",
    "        self.disc   = discogs(self.db.lower())\n",
    "        self.artist = artistRM(self.disc)\n",
    "        self.dutils = rateyourmusicUtils()\n",
    "        self.debug  = debug\n",
    "        super().__init__(self.db, self.disc, self.artist, self.dutils, debug=debug)\n",
    "\n",
    "        \n",
    "    ##################################################################################################################\n",
    "    # Artist URL\n",
    "    ##################################################################################################################\n",
    "    def getArtistURL(self, artistRef, page=1):\n",
    "        baseURL = self.disc.discogURL\n",
    "        url     = urllib.parse.urljoin(baseURL, artistRef)\n",
    "        return url\n",
    "\n",
    "        \n",
    "    ##################################################################################################################\n",
    "    # Search Functions\n",
    "    ##################################################################################################################\n",
    "    def searchForArtist(self, artist):\n",
    "        return"
   ]
  },
  {
   "cell_type": "code",
   "execution_count": 186,
   "metadata": {},
   "outputs": [
    {
     "name": "stdout",
     "output_type": "stream",
     "text": [
      "Warning! Saved Discog Directory None is not Available\n"
     ]
    }
   ],
   "source": [
    "am = artistsRateYourMusic(debug=True)"
   ]
  },
  {
   "cell_type": "code",
   "execution_count": 192,
   "metadata": {},
   "outputs": [],
   "source": [
    "from artistCL import artistCL\n",
    "from discogsUtils import cdandlpUtils\n",
    "\n",
    "class artistsCDandLP(artistsBase):\n",
    "    def __init__(self, debug=False):\n",
    "        self.db     = \"CDandLP\"\n",
    "        self.disc   = discogs(self.db.lower())\n",
    "        self.artist = artistCL(self.disc)\n",
    "        self.dutils = cdandlpUtils()\n",
    "        self.debug  = debug\n",
    "        super().__init__(self.db, self.disc, self.artist, self.dutils, debug=debug)\n",
    "\n",
    "        \n",
    "    ##################################################################################################################\n",
    "    # Artist URL\n",
    "    ##################################################################################################################\n",
    "    def getArtistURL(self, artistRef, page=1):\n",
    "        #print(\"getArtistURL(\",artistRef,\")\")\n",
    "        if artistRef.startswith(\"http\"):\n",
    "            url = artistRef\n",
    "        else:\n",
    "            baseURL = self.disc.discogURL\n",
    "            if artistRef.startswith(\"/\") is True:\n",
    "                #print(\"Join\", end=\"\\t\")\n",
    "                url     = urllib.parse.urljoin(baseURL, quote(artistRef[1:]))\n",
    "                #print(url)\n",
    "            else:\n",
    "                url     = urllib.parse.urljoin(baseURL, quote(artistRef))\n",
    "        \n",
    "        if isinstance(page, int) and page > 1:\n",
    "            pageURL = \"&page={0}\".format(page)\n",
    "            url = \"{0}{1}\".format(url, pageURL)\n",
    "        return url\n",
    "\n",
    "        \n",
    "    ##################################################################################################################\n",
    "    # Search Functions\n",
    "    ##################################################################################################################\n",
    "    def searchForArtist(self, artist):\n",
    "        print(\"\\n\\n===================== Searching For {0} =====================\".format(artist))\n",
    "        baseURL = self.disc.discogSearchURL\n",
    "        url = urllib.parse.urljoin(baseURL, \"{0}{1}\".format(\"?q=\", quote(artist)))\n",
    "\n",
    "\n",
    "        ## Download data\n",
    "        data, response = self.downloadURL(url)\n",
    "        if response != 200:\n",
    "            print(\"Error downloading {0}\".format(url))\n",
    "            return False\n",
    "\n",
    "        \n",
    "        ## Parse data\n",
    "        bsdata = getHTML(data)\n",
    "        \n",
    "        artistDB  = {}\n",
    "        \n",
    "        descrs = bsdata.findAll(\"div\", {\"class\": \"listingDescription\"})\n",
    "        for descr in descrs:\n",
    "            refs = descr.findAll(\"a\", {\"class\": \"listingTitle\"})\n",
    "            for ref in refs:\n",
    "                url      = ref.attrs['href']\n",
    "                fullurl  = \"/\".join(url.split(\"/\")[:-4])\n",
    "                fullurl  = \"{0}/artist\".format(fullurl)\n",
    "                artistID = self.dutils.getArtistID(fullurl)\n",
    "                if artistDB.get(fullurl) is None:\n",
    "                    artistDB[fullurl] = {\"N\": 0, \"ID\": artistID}\n",
    "                artistDB[fullurl][\"N\"] += 1\n",
    "        \n",
    "    \n",
    "        if self.debug:\n",
    "            print(\"Found {0} artists\".format(len(artistDB)))\n",
    "                \n",
    "        iArtist = 0\n",
    "        for href, hrefData in artistDB.items():\n",
    "            iArtist += 1\n",
    "        \n",
    "            discID   = hrefData[\"ID\"]\n",
    "            url      = href\n",
    "            savename = self.getArtistSavename(discID)\n",
    "\n",
    "            print(iArtist,'/',len(artistDB),'\\t:',discID,'\\t',url,'\\t',savename)\n",
    "            \n",
    "            if isFile(savename):\n",
    "                continue\n",
    "\n",
    "            self.downloadArtistURL(url, savename)"
   ]
  },
  {
   "cell_type": "code",
   "execution_count": 193,
   "metadata": {},
   "outputs": [
    {
     "name": "stdout",
     "output_type": "stream",
     "text": [
      "Warning! Saved Discog Directory None is not Available\n"
     ]
    }
   ],
   "source": [
    "ac = artistsCDandLP(debug=True)"
   ]
  },
  {
   "cell_type": "code",
   "execution_count": 195,
   "metadata": {},
   "outputs": [],
   "source": [
    "#ac.searchForArtist(\"Neil Diamond\")"
   ]
  },
  {
   "cell_type": "code",
   "execution_count": 196,
   "metadata": {},
   "outputs": [],
   "source": [
    "from artistCL import artistCL\n",
    "from discogsUtils import acebootlegsUtils\n",
    "\n",
    "class artistsAceBootlegs(artistsBase):\n",
    "    def __init__(self, debug=False):\n",
    "        self.db     = \"AceBootlegs\"\n",
    "        self.disc   = discogs(self.db.lower())\n",
    "        self.artist = artistAB(self.disc)\n",
    "        self.dutils = acebootlegsUtils()\n",
    "        self.debug  = debug\n",
    "        super().__init__(self.db, self.disc, self.artist, self.dutils, debug=debug)\n",
    "\n",
    "        \n",
    "    ##################################################################################################################\n",
    "    # Artist URL\n",
    "    ##################################################################################################################\n",
    "    def getArtistURL(self, artistRef, page=1):\n",
    "        baseURL = self.disc.discogURL\n",
    "        url     = urllib.parse.urljoin(baseURL, artistRef)\n",
    "        return url\n",
    "    \n",
    "    def getMainSavename(self):\n",
    "        artistDir = self.disc.getArtistsDir()\n",
    "        savename  = setFile(artistDir, \"main.p\")\n",
    "        return savename\n",
    "    \n",
    "    \n",
    "    ##################################################################################################################\n",
    "    # Main\n",
    "    ##################################################################################################################\n",
    "    def downloadMainArtists(self, force=False, debug=False, sleeptime=2):        \n",
    "        savename = self.getMainSavename()\n",
    "        \n",
    "        ## Parse data\n",
    "        bsdata = getHTML(savename)        \n",
    "        artistDB  = {}\n",
    "        \n",
    "        \n",
    "        ## Find and Download Artists\n",
    "        categories = bsdata.find(\"div\", {\"class\": \"sidebar-widget widget_categories\"})\n",
    "        if categories is None:\n",
    "            raise ValueError(\"Cannot find categories!\")\n",
    "        uls = categories.findAll(\"ul\")\n",
    "        for ul in uls:\n",
    "            lis = ul.findAll(\"li\")\n",
    "            for i, li in enumerate(lis):\n",
    "                try:\n",
    "                    catitem = li.attrs[\"class\"][1]\n",
    "                except:\n",
    "                    raise ValueError(\"Cannot find list class item: {0}\".format(li))\n",
    "                ref  = li.find(\"a\")\n",
    "                if ref is None:\n",
    "                    raise ValueError(\"Cannot find list link!\")\n",
    "                try:\n",
    "                    href = ref.attrs['href']\n",
    "                except:\n",
    "                    raise ValueError(\"Cannot find list href!\")\n",
    "\n",
    "                # check for artist\n",
    "                artistName = href.split('/')[-2]\n",
    "                try:\n",
    "                    int(artistName)\n",
    "                    continue\n",
    "                except:\n",
    "                    if artistName.find(\"parent-category-ii\") == -1:\n",
    "                        pass\n",
    "                    else:\n",
    "                        continue\n",
    "\n",
    "                # get artist ID\n",
    "                artistID = catitem.split('-')[-1]\n",
    "                try:\n",
    "                    int(artistID)\n",
    "                except:\n",
    "                    continue\n",
    "\n",
    "\n",
    "                if force is False and isFile(savename):\n",
    "                    print(\"{0} exists.\".format(savename))\n",
    "                    continue\n",
    "            \n",
    "                url = href\n",
    "                savename = self.getArtistSavename(artistID)\n",
    "                print(i,'\\t',artistID,'\\t',artistName,'\\t',savename)\n",
    "                self.downloadArtistURL(url=url, savename=savename, parse=False)\n",
    "\n",
    "                \n",
    "        \n",
    "        \n",
    "\n",
    "        \n",
    "    ##################################################################################################################\n",
    "    # Search Functions\n",
    "    ##################################################################################################################\n",
    "    def searchForArtist(self, artist):\n",
    "        return"
   ]
  },
  {
   "cell_type": "code",
   "execution_count": 197,
   "metadata": {},
   "outputs": [
    {
     "name": "stdout",
     "output_type": "stream",
     "text": [
      "Warning! Saved Discog Directory None is not Available\n"
     ]
    }
   ],
   "source": [
    "aa = artistsAceBootlegs(debug=True)"
   ]
  },
  {
   "cell_type": "code",
   "execution_count": 198,
   "metadata": {},
   "outputs": [],
   "source": [
    "from artistDP import artistDP\n",
    "from discogsUtils import datpiffUtils\n",
    "\n",
    "class artistsDatPiff(artistsBase):\n",
    "    def __init__(self, debug=False):\n",
    "        self.db     = \"DatPiff\"\n",
    "        self.disc   = discogs(self.db.lower())\n",
    "        self.artist = artistDP(self.disc)\n",
    "        self.dutils = datpiffUtils()\n",
    "        self.debug  = debug\n",
    "        super().__init__(self.db, self.disc, self.artist, self.dutils, debug=debug)\n",
    "\n",
    "        \n",
    "    ##################################################################################################################\n",
    "    # Artist URL\n",
    "    ##################################################################################################################\n",
    "    def getArtistURL(self, artistRef, page=1):\n",
    "        baseURL = self.disc.discogURL\n",
    "        url     = urllib.parse.urljoin(baseURL, artistRef)\n",
    "        return url\n",
    "    \n",
    "\n",
    "    ##################################################################################################################\n",
    "    # Search Functions\n",
    "    ##################################################################################################################\n",
    "    def searchForArtist(self, artist):\n",
    "        print(\"\\n\\n===================== Searching For {0} =====================\".format(artist))\n",
    "        baseURL = self.disc.discogSearchURL\n",
    "        \n",
    "        baseURL = \"https://www.datpiff.com/\"\n",
    "        extra   = \"mixtapes-search?criteria={0}&sort=relevance\".format(quote(artist))\n",
    "\n",
    "        url = urllib.parse.urljoin(baseURL, extra)\n",
    "        print(\"\\tSearch URL: {0}\".format(url))\n",
    "                    \n",
    "        ## Download data\n",
    "        data, response = self.downloadURL(url)\n",
    "        if response != 200:\n",
    "            print(\"Error downloading {0}\".format(url))\n",
    "            return False\n",
    "\n",
    "        \n",
    "        ## Parse data\n",
    "        bsdata = getHTML(data)\n",
    "        \n",
    "        artistDB  = []\n",
    "\n",
    "        contentdivs = bsdata.findAll(\"div\", {\"class\": \"contentItem\"})\n",
    "        for i,contentdiv in enumerate(contentdivs):\n",
    "            artistDiv = contentdiv.find(\"div\", {\"class\": \"artist\"})\n",
    "            if artistDiv is None:\n",
    "                continue\n",
    "            artistName = artistDiv.text\n",
    "\n",
    "            albumDiv = contentdiv.find(\"div\", {\"class\": \"title\"})\n",
    "            if albumDiv is None:\n",
    "                continue\n",
    "            albumName = albumDiv.text\n",
    "            try:\n",
    "                albumURL  = albumDiv.find(\"a\").attrs['href']\n",
    "            except:\n",
    "                albumURL  = None\n",
    "                \n",
    "            #artistID = self.discogsUtils.getArtistID(artistName)\n",
    "\n",
    "            artistDB.append({\"ArtistName\": artistName, \"AlbumName\": albumName, \"AlbumURL\": albumURL})\n",
    "        \n",
    "\n",
    "        artistID = self.discogsUtils.getArtistID(artist)\n",
    "        page     = 1\n",
    "        savename = self.getArtistSavename(artistID, page)\n",
    "        while isFile(savename):\n",
    "            page += 1\n",
    "            savename = self.getArtistSavename(artistID, page)\n",
    "        print(\"Saving {0} new artist media to {1}\".format(len(artistDB), savename))\n",
    "        saveJoblib(data=artistDB, filename=savename, compress=True)"
   ]
  },
  {
   "cell_type": "code",
   "execution_count": 199,
   "metadata": {},
   "outputs": [
    {
     "name": "stdout",
     "output_type": "stream",
     "text": [
      "Warning! Saved Discog Directory None is not Available\n"
     ]
    }
   ],
   "source": [
    "ad = artistsDatPiff(debug=True)"
   ]
  },
  {
   "cell_type": "code",
   "execution_count": 210,
   "metadata": {},
   "outputs": [],
   "source": [
    "from artistMS import artistMS\n",
    "from discogsUtils import musicstackUtils\n",
    "from searchUtils import findPatternExt\n",
    "from fileUtils import getBaseFilename\n",
    "\n",
    "\n",
    "class artistsMusicStack(artistsBase):\n",
    "    def __init__(self, debug=False):\n",
    "        self.db     = \"MusicStack\"\n",
    "        self.disc   = discogs(self.db.lower())\n",
    "        self.artist = artistMS(self.disc)\n",
    "        self.dutils = musicstackUtils()\n",
    "        self.debug  = debug\n",
    "        super().__init__(self.db, self.disc, self.artist, self.dutils, debug=debug)\n",
    "\n",
    "        \n",
    "    ##################################################################################################################\n",
    "    # Artist URL\n",
    "    ##################################################################################################################\n",
    "    def getArtistURL(self, artistRef, page=1):\n",
    "        baseURL = self.disc.discogURL\n",
    "        url     = urllib.parse.urljoin(baseURL, artistRef)\n",
    "        return url\n",
    "    \n",
    "\n",
    "    ##################################################################################################################\n",
    "    # Search Functions\n",
    "    ##################################################################################################################\n",
    "    def searchForArtist(self, artist=None):\n",
    "        files = findPatternExt(\"/Users/tgadfort/Downloads/\", pattern=\"MusicStack\", ext=\".html\")\n",
    "        for ifile in files:\n",
    "            fname  = getBaseFilename(ifile)\n",
    "            artist = fname[:fname.find(\" Vinyl Records\")]\n",
    "            self.parseSearchForArtist(artist=artist, ifile=ifile)\n",
    "    \n",
    "    def parseSearchForArtist(self, artist, ifile):\n",
    "\n",
    "        ## Parse data\n",
    "        bsdata = getHTML(ifile)\n",
    "        \n",
    "        artistDB  = []\n",
    "\n",
    "        tables = bsdata.findAll(\"table\")\n",
    "        if self.debug:\n",
    "            print(\"Found {0} tables\".format(len(tables)))\n",
    "        for i,table in enumerate(tables):\n",
    "            trs = table.findAll(\"tr\")\n",
    "            jj = 0\n",
    "            headers = None\n",
    "            values  = []\n",
    "            for j,tr in enumerate(trs):\n",
    "                tds  = tr.findAll(\"td\")\n",
    "                #print('\\t',len(tds))\n",
    "                #tds  = [list(td.strings) for td in tds]\n",
    "                if len(tds) == 8:\n",
    "                    if jj == 0:\n",
    "                        headers = tds\n",
    "                        if self.debug:\n",
    "                            print(\"  Found Header: {0}\".format(headers))\n",
    "                    else:\n",
    "                        values.append(tds)\n",
    "                        if self.debug:\n",
    "                            print(\"  Found Value: {0}\".format(tds))\n",
    "\n",
    "                    jj += 1\n",
    "\n",
    "            if headers is not None:\n",
    "                keys = []\n",
    "                for header in headers:\n",
    "                    b = header.find(\"b\")\n",
    "                    if b is None:\n",
    "                        keys.append(str(len(keys)))\n",
    "                    else:\n",
    "                        txt = b.text.strip()\n",
    "                        keys.append(txt)\n",
    "                        \n",
    "                if self.debug:\n",
    "                    print(\"  Keys: {0}\".format(keys))\n",
    "                    print(\"  Values: {0}\".format(len(values)))\n",
    "\n",
    "\n",
    "                for value in values:\n",
    "                    value = [x for ix,x in enumerate(value) if keys[ix] in [\"Artist\", \"Title\"]]\n",
    "                    album = dict(zip([\"Artist\", \"Title\"], value))\n",
    "                    album[\"Artist\"] = album[\"Artist\"].text\n",
    "                    album[\"Album\"]  = {\"Name\": album[\"Title\"].text}\n",
    "                    try:\n",
    "                        album[\"Album\"][\"URL\"] = album[\"Title\"].find(\"a\").attrs['href']\n",
    "                    except:\n",
    "                        album[\"Album\"][\"URL\"] = None\n",
    "                    del album[\"Title\"]\n",
    "                    artistDB.append({\"ArtistName\": album[\"Artist\"], \"AlbumName\": album[\"Album\"][\"Name\"], \"AlbumURL\": album[\"Album\"][\"URL\"]})\n",
    "                break\n",
    "\n",
    "        artistID = self.dutils.getArtistID(artist)\n",
    "        page     = 1\n",
    "        savename = self.getArtistSavename(artistID, page)\n",
    "        while isFile(savename) and False:\n",
    "            page += 1\n",
    "            savename = self.getArtistSavename(artistID, page)\n",
    "        print(\"Saving {0} new artist media to {1}\".format(len(artistDB), savename))\n",
    "        saveJoblib(data=artistDB, filename=savename, compress=True)"
   ]
  },
  {
   "cell_type": "code",
   "execution_count": 211,
   "metadata": {},
   "outputs": [
    {
     "name": "stdout",
     "output_type": "stream",
     "text": [
      "Warning! Saved Discog Directory None is not Available\n",
      "Saving 4 new artist media to /Users/tgadfort/Music/Discog/artists-musicstack/80/81725824809680.p\n",
      "  --> This file is 284B.\n",
      "Saving 303 new artist media to /Users/tgadfort/Music/Discog/artists-musicstack/24/79760796749124.p\n",
      "  --> This file is 11.8kB.\n",
      "Saving 225 new artist media to /Users/tgadfort/Music/Discog/artists-musicstack/91/35718167793591.p\n",
      "  --> This file is 7.8kB.\n"
     ]
    }
   ],
   "source": [
    "am = artistsMusicStack(debug=False)\n",
    "am.searchForArtist()"
   ]
  },
  {
   "cell_type": "code",
   "execution_count": null,
   "metadata": {},
   "outputs": [],
   "source": []
  }
 ],
 "metadata": {
  "kernelspec": {
   "display_name": "Python 3",
   "language": "python",
   "name": "python3"
  },
  "language_info": {
   "codemirror_mode": {
    "name": "ipython",
    "version": 3
   },
   "file_extension": ".py",
   "mimetype": "text/x-python",
   "name": "python",
   "nbconvert_exporter": "python",
   "pygments_lexer": "ipython3",
   "version": "3.7.7"
  }
 },
 "nbformat": 4,
 "nbformat_minor": 2
}
