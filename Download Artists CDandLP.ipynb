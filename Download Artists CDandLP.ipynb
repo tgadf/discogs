{
 "cells": [
  {
   "cell_type": "markdown",
   "metadata": {},
   "source": [
    "# CD and LP"
   ]
  },
  {
   "cell_type": "code",
   "execution_count": 250,
   "metadata": {},
   "outputs": [
    {
     "name": "stdout",
     "output_type": "stream",
     "text": [
      "The autoreload extension is already loaded. To reload it, use:\n",
      "  %reload_ext autoreload\n"
     ]
    },
    {
     "data": {
      "text/html": [
       "<style>.container { width:100% !important; }</style>"
      ],
      "text/plain": [
       "<IPython.core.display.HTML object>"
      ]
     },
     "metadata": {},
     "output_type": "display_data"
    },
    {
     "data": {
      "text/html": [
       "<style>div.output_area{max-height:10000px;overflow:scroll;}</style>"
      ],
      "text/plain": [
       "<IPython.core.display.HTML object>"
      ]
     },
     "metadata": {},
     "output_type": "display_data"
    },
    {
     "name": "stdout",
     "output_type": "stream",
     "text": [
      "Python: 3.7.3 (default, Mar 27 2019, 16:54:48) \n",
      "[Clang 4.0.1 (tags/RELEASE_401/final)]\n",
      "Notebook Last Run Initiated: 2020-04-03 19:49:40.861414\n"
     ]
    }
   ],
   "source": [
    "######################################################\n",
    "# Juypter\n",
    "######################################################\n",
    "%load_ext autoreload\n",
    "%autoreload\n",
    "from IPython.core.display import display, HTML\n",
    "display(HTML(\"<style>.container { width:100% !important; }</style>\"))\n",
    "display(HTML(\"\"\"<style>div.output_area{max-height:10000px;overflow:scroll;}</style>\"\"\"))\n",
    "\n",
    "\n",
    "######################################################\n",
    "# General\n",
    "######################################################\n",
    "from ioUtils import saveJoblib, loadJoblib, saveFile, getFile\n",
    "import urllib\n",
    "from urllib.parse import quote\n",
    "from collection import collections\n",
    "from artist import artist\n",
    "from timeUtils import clock, elapsed\n",
    "from fsUtils import moveFile, setFile, setDir, setSubDir, isFile, isDir, mkDir\n",
    "from ioUtils import getFile, saveFile\n",
    "from fileUtils import getFileBasics, getBasename\n",
    "from webUtils import getWebData, getHTML, getURL\n",
    "from time import sleep\n",
    "import time\n",
    "from multiprocessing import Pool\n",
    "\n",
    "\n",
    "######################################################\n",
    "# Music Stuff\n",
    "######################################################\n",
    "from discogsBase import discogs\n",
    "from artistCL import artistCL\n",
    "from artistsCL import artistsCL\n",
    "from discogsUtils import cdandlpUtils\n",
    "from multiArtist import multiartist\n",
    "from myMusicDBMap import myMusicDBMap\n",
    "\n",
    "\n",
    "######################################################\n",
    "# Versions\n",
    "######################################################\n",
    "import sys\n",
    "print(\"Python: {0}\".format(sys.version))\n",
    "import datetime as dt\n",
    "start = dt.datetime.now()\n",
    "print(\"Notebook Last Run Initiated: \"+str(start))"
   ]
  },
  {
   "cell_type": "markdown",
   "metadata": {},
   "source": [
    "# Initialize"
   ]
  },
  {
   "cell_type": "code",
   "execution_count": 276,
   "metadata": {},
   "outputs": [
    {
     "name": "stdout",
     "output_type": "stream",
     "text": [
      "The autoreload extension is already loaded. To reload it, use:\n",
      "  %reload_ext autoreload\n"
     ]
    }
   ],
   "source": [
    "%load_ext autoreload\n",
    "%autoreload\n",
    "discCL = discogs('cdandlp')\n",
    "dutils = cdandlpUtils()\n",
    "artCL  = artistCL()\n",
    "artsCL = artistsCL(discCL)"
   ]
  },
  {
   "cell_type": "markdown",
   "metadata": {},
   "source": [
    "# Music DB"
   ]
  },
  {
   "cell_type": "code",
   "execution_count": 236,
   "metadata": {},
   "outputs": [
    {
     "name": "stdout",
     "output_type": "stream",
     "text": [
      "Creating myMusicDBMap()\n",
      "/Users/tgadfort/Documents/code/discogs\n",
      "   Loading my music db map: /anaconda3/envs/py37/musicdb/myMusicMap.p\n",
      "   DB keys: ['Discogs', 'AllMusic', 'MusicBrainz', 'AceBootlegs', 'RateYourMusic', 'LastFM', 'DatPiff', 'RockCorner']\n",
      "Counter({'Discogs': 3851, 'AllMusic': 3760, 'MusicBrainz': 3622, 'LastFM': 1480, 'AceBootlegs': 80, 'DatPiff': 56, 'RateYourMusic': 22, 'RockCorner': 3})\n"
     ]
    }
   ],
   "source": [
    "mdb = myMusicDBMap(debug=True)"
   ]
  },
  {
   "cell_type": "markdown",
   "metadata": {},
   "source": [
    "# Search"
   ]
  },
  {
   "cell_type": "code",
   "execution_count": 277,
   "metadata": {},
   "outputs": [],
   "source": [
    "#artsCL.searchCDandLPForArtist(\"Anal Cunt\", data=data)"
   ]
  },
  {
   "cell_type": "markdown",
   "metadata": {},
   "source": [
    "# Download All Music"
   ]
  },
  {
   "cell_type": "code",
   "execution_count": 278,
   "metadata": {},
   "outputs": [],
   "source": [
    "def downloadCDandLPArtists(minI=-1):\n",
    "    artists = mdb.getArtists()\n",
    "    for i,artistName in enumerate(artists):\n",
    "        if i <= minI:\n",
    "            continue\n",
    "        print(\"====>\",i,\"/\",len(artists),\"  : \",artistName)\n",
    "        artsCL.searchCDandLPForArtist(artistName, sleeptime=15)"
   ]
  },
  {
   "cell_type": "code",
   "execution_count": 280,
   "metadata": {},
   "outputs": [
    {
     "name": "stdout",
     "output_type": "stream",
     "text": [
      "====> 29 / 3942   :  And Oceans\n",
      "\n",
      "\n",
      "===================== Searching For And Oceans =====================\n",
      "Found 20 artists\n",
      "1 / 20 \t: 58265960848480 \t https://www.cdandlp.com/en/oceans/artist \t /Volumes/Biggy/Discog/artists-cdandlp/80/58265960848480.p\n",
      "Saving /Volumes/Biggy/Discog/artists-cdandlp/80/58265960848480.p (force=False)\n",
      "  --> This file is 56.2kB.\n",
      "Done. Sleeping for 15 seconds\n",
      "2 / 20 \t: 40072406627476 \t https://www.cdandlp.com/en/oceans-of-love-giuggiola/artist \t /Volumes/Biggy/Discog/artists-cdandlp/76/40072406627476.p\n",
      "Saving /Volumes/Biggy/Discog/artists-cdandlp/76/40072406627476.p (force=False)\n",
      "  --> This file is 37.0kB.\n",
      "Done. Sleeping for 15 seconds\n",
      "3 / 20 \t: 58821994515384 \t https://www.cdandlp.com/en/oceans-of-silver-blood/artist \t /Volumes/Biggy/Discog/artists-cdandlp/84/58821994515384.p\n",
      "Saving /Volumes/Biggy/Discog/artists-cdandlp/84/58821994515384.p (force=False)\n",
      "  --> This file is 37.0kB.\n",
      "Done. Sleeping for 15 seconds\n",
      "4 / 20 \t: 36740688802736 \t https://www.cdandlp.com/en/boney-m.-oceans-of-fantasy/artist \t /Volumes/Biggy/Discog/artists-cdandlp/36/36740688802736.p\n",
      "Saving /Volumes/Biggy/Discog/artists-cdandlp/36/36740688802736.p (force=False)\n",
      "  --> This file is 39.1kB.\n",
      "Done. Sleeping for 15 seconds\n",
      "5 / 20 \t: 90395008822087 \t https://www.cdandlp.com/en/boney-m.-oceans-of-fantasy-lp-album-gat/artist \t /Volumes/Biggy/Discog/artists-cdandlp/87/90395008822087.p\n",
      "Saving /Volumes/Biggy/Discog/artists-cdandlp/87/90395008822087.p (force=False)\n",
      "  --> This file is 37.8kB.\n",
      "Done. Sleeping for 15 seconds\n",
      "6 / 20 \t: 45811338490025 \t https://www.cdandlp.com/en/the-oceans-bad-guy-good-guy-12-re/artist \t /Volumes/Biggy/Discog/artists-cdandlp/25/45811338490025.p\n",
      "Saving /Volumes/Biggy/Discog/artists-cdandlp/25/45811338490025.p (force=False)\n",
      "  --> This file is 37.1kB.\n",
      "Done. Sleeping for 15 seconds\n",
      "7 / 20 \t: 3540804547233 \t https://www.cdandlp.com/en/yes-tales-from-topographic-oceans/artist \t /Volumes/Biggy/Discog/artists-cdandlp/33/3540804547233.p\n",
      "Saving /Volumes/Biggy/Discog/artists-cdandlp/33/3540804547233.p (force=False)\n",
      "  --> This file is 37.0kB.\n",
      "Done. Sleeping for 15 seconds\n",
      "8 / 20 \t: 29554302294576 \t https://www.cdandlp.com/en/oceans-of-the-moon/artist \t /Volumes/Biggy/Discog/artists-cdandlp/76/29554302294576.p\n",
      "Saving /Volumes/Biggy/Discog/artists-cdandlp/76/29554302294576.p (force=False)\n",
      "  --> This file is 37.5kB.\n",
      "Done. Sleeping for 15 seconds\n",
      "9 / 20 \t: 73324210804491 \t https://www.cdandlp.com/en/interview-big-oceans-lp-album/artist \t /Volumes/Biggy/Discog/artists-cdandlp/91/73324210804491.p\n",
      "Saving /Volumes/Biggy/Discog/artists-cdandlp/91/73324210804491.p (force=False)\n",
      "  --> This file is 37.0kB.\n",
      "Done. Sleeping for 15 seconds\n",
      "10 / 20 \t: 74926783373809 \t https://www.cdandlp.com/en/john-fahey-rain-forests-oceans-and-other-themes/artist \t /Volumes/Biggy/Discog/artists-cdandlp/9/74926783373809.p\n",
      "Saving /Volumes/Biggy/Discog/artists-cdandlp/9/74926783373809.p (force=False)\n",
      "  --> This file is 37.2kB.\n",
      "Done. Sleeping for 15 seconds\n",
      "11 / 20 \t: 80998193625607 \t https://www.cdandlp.com/en/me-and-oceans/artist \t /Volumes/Biggy/Discog/artists-cdandlp/7/80998193625607.p\n",
      "Saving /Volumes/Biggy/Discog/artists-cdandlp/7/80998193625607.p (force=False)\n",
      "  --> This file is 37.3kB.\n",
      "Done. Sleeping for 15 seconds\n",
      "12 / 20 \t: 24452883353238 \t https://www.cdandlp.com/en/sonny-oceans/artist \t /Volumes/Biggy/Discog/artists-cdandlp/38/24452883353238.p\n",
      "Saving /Volumes/Biggy/Discog/artists-cdandlp/38/24452883353238.p (force=False)\n",
      "  --> This file is 37.9kB.\n",
      "Done. Sleeping for 15 seconds\n",
      "13 / 20 \t: 57637167726519 \t https://www.cdandlp.com/en/the-fantastic-oceans/artist \t /Volumes/Biggy/Discog/artists-cdandlp/19/57637167726519.p\n",
      "Saving /Volumes/Biggy/Discog/artists-cdandlp/19/57637167726519.p (force=False)\n",
      "  --> This file is 38.6kB.\n",
      "Done. Sleeping for 15 seconds\n",
      "14 / 20 \t: 2095434514998 \t https://www.cdandlp.com/en/the-oceans/artist \t /Volumes/Biggy/Discog/artists-cdandlp/98/2095434514998.p\n",
      "Saving /Volumes/Biggy/Discog/artists-cdandlp/98/2095434514998.p (force=False)\n",
      "  --> This file is 56.2kB.\n",
      "Done. Sleeping for 15 seconds\n",
      "15 / 20 \t: 57288206697041 \t https://www.cdandlp.com/en/...and-oceans/artist \t /Volumes/Biggy/Discog/artists-cdandlp/41/57288206697041.p\n",
      "Saving /Volumes/Biggy/Discog/artists-cdandlp/41/57288206697041.p (force=False)\n",
      "  --> This file is 41.4kB.\n",
      "Done. Sleeping for 15 seconds\n",
      "16 / 20 \t: 1051906076202 \t https://www.cdandlp.com/en/oceans-the-string-quartet/artist \t /Volumes/Biggy/Discog/artists-cdandlp/2/1051906076202.p\n",
      "Saving /Volumes/Biggy/Discog/artists-cdandlp/2/1051906076202.p (force=False)\n",
      "  --> This file is 36.9kB.\n",
      "Done. Sleeping for 15 seconds\n",
      "17 / 20 \t: 67462589600012 \t https://www.cdandlp.com/en/ron-lowis-smith-oceans-liners-band/artist \t /Volumes/Biggy/Discog/artists-cdandlp/12/67462589600012.p\n",
      "Saving /Volumes/Biggy/Discog/artists-cdandlp/12/67462589600012.p (force=False)\n",
      "  --> This file is 37.1kB.\n",
      "Done. Sleeping for 15 seconds\n",
      "18 / 20 \t: 8298449565605 \t https://www.cdandlp.com/en/oceans-eleven/artist \t /Volumes/Biggy/Discog/artists-cdandlp/5/8298449565605.p\n",
      "Saving /Volumes/Biggy/Discog/artists-cdandlp/5/8298449565605.p (force=False)\n",
      "  --> This file is 38.1kB.\n",
      "Done. Sleeping for 15 seconds\n",
      "19 / 20 \t: 39539835578211 \t https://www.cdandlp.com/en/oceans-of-slumber/artist \t /Volumes/Biggy/Discog/artists-cdandlp/11/39539835578211.p\n",
      "Saving /Volumes/Biggy/Discog/artists-cdandlp/11/39539835578211.p (force=False)\n",
      "  --> This file is 40.1kB.\n",
      "Done. Sleeping for 15 seconds\n",
      "20 / 20 \t: 6521810621937 \t https://www.cdandlp.com/en/oceans-the/artist \t /Volumes/Biggy/Discog/artists-cdandlp/37/6521810621937.p\n",
      "Saving /Volumes/Biggy/Discog/artists-cdandlp/37/6521810621937.p (force=False)\n",
      "  --> This file is 56.2kB.\n",
      "Done. Sleeping for 15 seconds\n",
      "====> 30 / 3942   :  Andrea Marcovicci\n",
      "\n",
      "\n",
      "===================== Searching For Andrea Marcovicci =====================\n",
      "Found 2 artists\n",
      "1 / 2 \t: 72698645918407 \t https://www.cdandlp.com/en/marcovicci-andrea/artist \t /Volumes/Biggy/Discog/artists-cdandlp/7/72698645918407.p\n",
      "Saving /Volumes/Biggy/Discog/artists-cdandlp/7/72698645918407.p (force=False)\n",
      "  --> This file is 43.6kB.\n",
      "Done. Sleeping for 15 seconds\n",
      "2 / 2 \t: 55202478374589 \t https://www.cdandlp.com/en/andrea-marcovicci/artist \t /Volumes/Biggy/Discog/artists-cdandlp/89/55202478374589.p\n",
      "Saving /Volumes/Biggy/Discog/artists-cdandlp/89/55202478374589.p (force=False)\n",
      "  --> This file is 43.6kB.\n",
      "Done. Sleeping for 15 seconds\n",
      "====> 31 / 3942   :  Angizia\n",
      "\n",
      "\n",
      "===================== Searching For Angizia =====================\n",
      "Found 1 artists\n",
      "1 / 1 \t: 32988099355158 \t https://www.cdandlp.com/en/angizia/artist \t /Volumes/Biggy/Discog/artists-cdandlp/58/32988099355158.p\n",
      "Saving /Volumes/Biggy/Discog/artists-cdandlp/58/32988099355158.p (force=False)\n",
      "  --> This file is 39.5kB.\n",
      "Done. Sleeping for 15 seconds\n",
      "====> 32 / 3942   :  Ani DiFranco\n",
      "\n",
      "\n",
      "===================== Searching For Ani DiFranco =====================\n",
      "Found 4 artists\n",
      "1 / 4 \t: 78353573040297 \t https://www.cdandlp.com/en/ani-difranco/artist \t /Volumes/Biggy/Discog/artists-cdandlp/97/78353573040297.p\n",
      "Saving /Volumes/Biggy/Discog/artists-cdandlp/97/78353573040297.p (force=False)\n",
      "  --> This file is 55.9kB.\n",
      "Done. Sleeping for 15 seconds\n",
      "2 / 4 \t: 82599934909803 \t https://www.cdandlp.com/en/difranco-ani/artist \t /Volumes/Biggy/Discog/artists-cdandlp/3/82599934909803.p\n",
      "Saving /Volumes/Biggy/Discog/artists-cdandlp/3/82599934909803.p (force=False)\n",
      "  --> This file is 55.9kB.\n",
      "Done. Sleeping for 15 seconds\n",
      "3 / 4 \t: 49735951455551 \t https://www.cdandlp.com/en/ani-difranco-promised-land-cdr-single-promo/artist \t /Volumes/Biggy/Discog/artists-cdandlp/51/49735951455551.p\n",
      "Saving /Volumes/Biggy/Discog/artists-cdandlp/51/49735951455551.p (force=False)\n",
      "  --> This file is 37.1kB.\n",
      "Done. Sleeping for 15 seconds\n",
      "4 / 4 \t: 86658783411528 \t https://www.cdandlp.com/en/massive-attack-prodigy-ani-difranco-fatboy-slim/artist \t /Volumes/Biggy/Discog/artists-cdandlp/28/86658783411528.p\n",
      "Saving /Volumes/Biggy/Discog/artists-cdandlp/28/86658783411528.p (force=False)\n",
      "  --> This file is 37.3kB.\n",
      "Done. Sleeping for 15 seconds\n",
      "====> 33 / 3942   :  Anita Baker\n",
      "\n",
      "\n",
      "===================== Searching For Anita Baker =====================\n",
      "Found 3 artists\n",
      "1 / 3 \t: 3500081655889 \t https://www.cdandlp.com/en/anita-baker/artist \t /Volumes/Biggy/Discog/artists-cdandlp/89/3500081655889.p\n"
     ]
    },
    {
     "name": "stdout",
     "output_type": "stream",
     "text": [
      "Saving /Volumes/Biggy/Discog/artists-cdandlp/89/3500081655889.p (force=False)\n",
      "  --> This file is 54.4kB.\n",
      "Done. Sleeping for 15 seconds\n",
      "2 / 3 \t: 47776581850481 \t https://www.cdandlp.com/en/anita-baker-caught-up-in-the-rapture-7-single/artist \t /Volumes/Biggy/Discog/artists-cdandlp/81/47776581850481.p\n",
      "Saving /Volumes/Biggy/Discog/artists-cdandlp/81/47776581850481.p (force=False)\n",
      "  --> This file is 37.2kB.\n",
      "Done. Sleeping for 15 seconds\n",
      "3 / 3 \t: 43686060300774 \t https://www.cdandlp.com/en/winans-featuring-anita-baker/artist \t /Volumes/Biggy/Discog/artists-cdandlp/74/43686060300774.p\n",
      "Saving /Volumes/Biggy/Discog/artists-cdandlp/74/43686060300774.p (force=False)\n",
      "  --> This file is 48.4kB.\n",
      "Done. Sleeping for 15 seconds\n",
      "====> 34 / 3942   :  Annie Lennox\n",
      "\n",
      "\n",
      "===================== Searching For Annie Lennox =====================\n",
      "Found 7 artists\n",
      "1 / 7 \t: 7187428964295 \t https://www.cdandlp.com/en/eurythmics-annie-lennox/artist \t /Volumes/Biggy/Discog/artists-cdandlp/95/7187428964295.p\n",
      "Saving /Volumes/Biggy/Discog/artists-cdandlp/95/7187428964295.p (force=False)\n",
      "  --> This file is 51.6kB.\n",
      "Done. Sleeping for 15 seconds\n",
      "2 / 7 \t: 70109211272780 \t https://www.cdandlp.com/en/annie-lennox/artist \t /Volumes/Biggy/Discog/artists-cdandlp/80/70109211272780.p\n",
      "Saving /Volumes/Biggy/Discog/artists-cdandlp/80/70109211272780.p (force=False)\n",
      "  --> This file is 55.7kB.\n",
      "Done. Sleeping for 15 seconds\n",
      "3 / 7 \t: 12701173764267 \t https://www.cdandlp.com/en/lennox-annie/artist \t /Volumes/Biggy/Discog/artists-cdandlp/67/12701173764267.p\n",
      "Saving /Volumes/Biggy/Discog/artists-cdandlp/67/12701173764267.p (force=False)\n",
      "  --> This file is 55.7kB.\n",
      "Done. Sleeping for 15 seconds\n",
      "4 / 7 \t: 30329379952927 \t https://www.cdandlp.com/en/annie-lennox-walking-on-broken-glass-cd-single/artist \t /Volumes/Biggy/Discog/artists-cdandlp/27/30329379952927.p\n",
      "Saving /Volumes/Biggy/Discog/artists-cdandlp/27/30329379952927.p (force=False)\n",
      "  --> This file is 37.2kB.\n",
      "Done. Sleeping for 15 seconds\n",
      "5 / 7 \t: 72968804437989 \t https://www.cdandlp.com/en/lustral-annie-lennox/artist \t /Volumes/Biggy/Discog/artists-cdandlp/89/72968804437989.p\n",
      "Saving /Volumes/Biggy/Discog/artists-cdandlp/89/72968804437989.p (force=False)\n",
      "  --> This file is 36.9kB.\n",
      "Done. Sleeping for 15 seconds\n",
      "6 / 7 \t: 62890467362415 \t https://www.cdandlp.com/en/annie-lennox-al-green/artist \t /Volumes/Biggy/Discog/artists-cdandlp/15/62890467362415.p\n",
      "Saving /Volumes/Biggy/Discog/artists-cdandlp/15/62890467362415.p (force=False)\n",
      "  --> This file is 53.5kB.\n",
      "Done. Sleeping for 15 seconds\n",
      "7 / 7 \t: 75468906658264 \t https://www.cdandlp.com/en/abba-annie-lennox-bananarama-erasure-u.a/artist \t /Volumes/Biggy/Discog/artists-cdandlp/64/75468906658264.p\n",
      "Saving /Volumes/Biggy/Discog/artists-cdandlp/64/75468906658264.p (force=False)\n",
      "  --> This file is 37.2kB.\n",
      "Done. Sleeping for 15 seconds\n",
      "====> 35 / 3942   :  Anvil\n",
      "\n",
      "\n",
      "===================== Searching For Anvil =====================\n",
      "Found 6 artists\n",
      "1 / 6 \t: 86899280324513 \t https://www.cdandlp.com/en/anvil/artist \t /Volumes/Biggy/Discog/artists-cdandlp/13/86899280324513.p\n",
      "Saving /Volumes/Biggy/Discog/artists-cdandlp/13/86899280324513.p (force=False)\n",
      "  --> This file is 53.7kB.\n",
      "Done. Sleeping for 15 seconds\n",
      "2 / 6 \t: 86827726318725 \t https://www.cdandlp.com/en/anvil-band/artist \t /Volumes/Biggy/Discog/artists-cdandlp/25/86827726318725.p\n",
      "Saving /Volumes/Biggy/Discog/artists-cdandlp/25/86827726318725.p (force=False)\n",
      "  --> This file is 37.2kB.\n",
      "Done. Sleeping for 15 seconds\n",
      "3 / 6 \t: 92223498296237 \t https://www.cdandlp.com/en/the-kids-anvil-chorus-lp-album/artist \t /Volumes/Biggy/Discog/artists-cdandlp/37/92223498296237.p\n",
      "Saving /Volumes/Biggy/Discog/artists-cdandlp/37/92223498296237.p (force=False)\n",
      "  --> This file is 37.1kB.\n",
      "Done. Sleeping for 15 seconds\n",
      "4 / 6 \t: 13178011402586 \t https://www.cdandlp.com/en/anvil-strykez/artist \t /Volumes/Biggy/Discog/artists-cdandlp/86/13178011402586.p\n",
      "Saving /Volumes/Biggy/Discog/artists-cdandlp/86/13178011402586.p (force=False)\n",
      "  --> This file is 37.9kB.\n",
      "Done. Sleeping for 15 seconds\n",
      "5 / 6 \t: 49356618496697 \t https://www.cdandlp.com/en/anvil-chorus/artist \t /Volumes/Biggy/Discog/artists-cdandlp/97/49356618496697.p\n",
      "Saving /Volumes/Biggy/Discog/artists-cdandlp/97/49356618496697.p (force=False)\n",
      "  --> This file is 40.0kB.\n",
      "Done. Sleeping for 15 seconds\n",
      "6 / 6 \t: 84060286193983 \t https://www.cdandlp.com/en/devil-s-anvil/artist \t /Volumes/Biggy/Discog/artists-cdandlp/83/84060286193983.p\n",
      "Saving /Volumes/Biggy/Discog/artists-cdandlp/83/84060286193983.p (force=False)\n",
      "  --> This file is 41.4kB.\n",
      "Done. Sleeping for 15 seconds\n",
      "====> 36 / 3942   :  Aqua\n",
      "\n",
      "\n",
      "===================== Searching For Aqua =====================\n",
      "Found 9 artists\n",
      "1 / 9 \t: 60674057279097 \t https://www.cdandlp.com/en/the-aqua-velvets/artist \t /Volumes/Biggy/Discog/artists-cdandlp/97/60674057279097.p\n",
      "Saving /Volumes/Biggy/Discog/artists-cdandlp/97/60674057279097.p (force=False)\n",
      "  --> This file is 39.6kB.\n",
      "Done. Sleeping for 15 seconds\n",
      "2 / 9 \t: 18183178754332 \t https://www.cdandlp.com/en/aqua-nebula-oscillator/artist \t /Volumes/Biggy/Discog/artists-cdandlp/32/18183178754332.p\n",
      "Saving /Volumes/Biggy/Discog/artists-cdandlp/32/18183178754332.p (force=False)\n",
      "  --> This file is 44.8kB.\n",
      "Done. Sleeping for 15 seconds\n",
      "3 / 9 \t: 82537447186023 \t https://www.cdandlp.com/en/aqua/artist \t /Volumes/Biggy/Discog/artists-cdandlp/23/82537447186023.p\n",
      "Saving /Volumes/Biggy/Discog/artists-cdandlp/23/82537447186023.p (force=False)\n",
      "  --> This file is 54.6kB.\n",
      "Done. Sleeping for 15 seconds\n",
      "4 / 9 \t: 59667661709657 \t https://www.cdandlp.com/en/aqua-8/artist \t /Volumes/Biggy/Discog/artists-cdandlp/57/59667661709657.p\n",
      "Saving /Volumes/Biggy/Discog/artists-cdandlp/57/59667661709657.p (force=False)\n",
      "  --> This file is 36.7kB.\n",
      "Done. Sleeping for 15 seconds\n",
      "5 / 9 \t: 96687491655317 \t https://www.cdandlp.com/en/aqua-italian/artist \t /Volumes/Biggy/Discog/artists-cdandlp/17/96687491655317.p\n",
      "Saving /Volumes/Biggy/Discog/artists-cdandlp/17/96687491655317.p (force=False)\n",
      "  --> This file is 37.3kB.\n",
      "Done. Sleeping for 15 seconds\n",
      "6 / 9 \t: 56062401836353 \t https://www.cdandlp.com/en/aqua-ardens/artist \t /Volumes/Biggy/Discog/artists-cdandlp/53/56062401836353.p\n",
      "Saving /Volumes/Biggy/Discog/artists-cdandlp/53/56062401836353.p (force=False)\n",
      "  --> This file is 36.7kB.\n",
      "Done. Sleeping for 15 seconds\n",
      "7 / 9 \t: 84142929101611 \t https://www.cdandlp.com/en/aqua-people/artist \t /Volumes/Biggy/Discog/artists-cdandlp/11/84142929101611.p\n",
      "Saving /Volumes/Biggy/Discog/artists-cdandlp/11/84142929101611.p (force=False)\n",
      "  --> This file is 37.2kB.\n",
      "Done. Sleeping for 15 seconds\n",
      "8 / 9 \t: 10932430620754 \t https://www.cdandlp.com/en/aqua-string-band/artist \t /Volumes/Biggy/Discog/artists-cdandlp/54/10932430620754.p\n",
      "Saving /Volumes/Biggy/Discog/artists-cdandlp/54/10932430620754.p (force=False)\n",
      "  --> This file is 38.9kB.\n",
      "Done. Sleeping for 15 seconds\n",
      "9 / 9 \t: 51409610235574 \t https://www.cdandlp.com/en/aqua-velvets/artist \t /Volumes/Biggy/Discog/artists-cdandlp/74/51409610235574.p\n",
      "Saving /Volumes/Biggy/Discog/artists-cdandlp/74/51409610235574.p (force=False)\n",
      "  --> This file is 39.6kB.\n",
      "Done. Sleeping for 15 seconds\n",
      "====> 37 / 3942   :  Arctic Monkeys\n",
      "\n",
      "\n",
      "===================== Searching For Arctic Monkeys =====================\n",
      "Found 6 artists\n",
      "1 / 6 \t: 96629988020402 \t https://www.cdandlp.com/en/arctic-monkeys/artist \t /Volumes/Biggy/Discog/artists-cdandlp/2/96629988020402.p\n",
      "Saving /Volumes/Biggy/Discog/artists-cdandlp/2/96629988020402.p (force=False)\n",
      "  --> This file is 54.3kB.\n",
      "Done. Sleeping for 15 seconds\n",
      "2 / 6 \t: 96433605888382 \t https://www.cdandlp.com/en/arctic-monkeys-humbug-vinyl/artist \t /Volumes/Biggy/Discog/artists-cdandlp/82/96433605888382.p\n",
      "Saving /Volumes/Biggy/Discog/artists-cdandlp/82/96433605888382.p (force=False)\n",
      "  --> This file is 37.0kB.\n",
      "Done. Sleeping for 15 seconds\n",
      "3 / 6 \t: 64994624598818 \t https://www.cdandlp.com/en/arctic-monkeys-suck-it-and-see/artist \t /Volumes/Biggy/Discog/artists-cdandlp/18/64994624598818.p\n",
      "Saving /Volumes/Biggy/Discog/artists-cdandlp/18/64994624598818.p (force=False)\n",
      "  --> This file is 36.9kB.\n",
      "Done. Sleeping for 15 seconds\n",
      "4 / 6 \t: 1161041848477 \t https://www.cdandlp.com/en/arctic-monkeys-death-ramps/artist \t /Volumes/Biggy/Discog/artists-cdandlp/77/1161041848477.p\n",
      "Saving /Volumes/Biggy/Discog/artists-cdandlp/77/1161041848477.p (force=False)\n",
      "  --> This file is 38.0kB.\n",
      "Done. Sleeping for 15 seconds\n"
     ]
    },
    {
     "name": "stdout",
     "output_type": "stream",
     "text": [
      "5 / 6 \t: 68878222790690 \t https://www.cdandlp.com/en/foo-fighters-deftones-archive-arctic-monkeys/artist \t /Volumes/Biggy/Discog/artists-cdandlp/90/68878222790690.p\n",
      "Saving /Volumes/Biggy/Discog/artists-cdandlp/90/68878222790690.p (force=False)\n",
      "  --> This file is 37.0kB.\n",
      "Done. Sleeping for 15 seconds\n",
      "6 / 6 \t: 23790843557529 \t https://www.cdandlp.com/en/mark-lanegan-suzanne-vega-arctic-monkeys/artist \t /Volumes/Biggy/Discog/artists-cdandlp/29/23790843557529.p\n",
      "Saving /Volumes/Biggy/Discog/artists-cdandlp/29/23790843557529.p (force=False)\n",
      "  --> This file is 37.1kB.\n",
      "Done. Sleeping for 15 seconds\n",
      "====> 38 / 3942   :  A Global Threat\n",
      "\n",
      "\n",
      "===================== Searching For A Global Threat =====================\n",
      "Found 0 artists\n",
      "====> 39 / 3942   :  Amy Rigby\n",
      "\n",
      "\n",
      "===================== Searching For Amy Rigby =====================\n",
      "Found 6 artists\n",
      "1 / 6 \t: 95859033418888 \t https://www.cdandlp.com/en/amy-rigby/artist \t /Volumes/Biggy/Discog/artists-cdandlp/88/95859033418888.p\n",
      "Saving /Volumes/Biggy/Discog/artists-cdandlp/88/95859033418888.p (force=False)\n",
      "  --> This file is 40.2kB.\n",
      "Done. Sleeping for 15 seconds\n",
      "2 / 6 \t: 1261389349650 \t https://www.cdandlp.com/en/amy-mcmahon-rigby/artist \t /Volumes/Biggy/Discog/artists-cdandlp/50/1261389349650.p\n",
      "Saving /Volumes/Biggy/Discog/artists-cdandlp/50/1261389349650.p (force=False)\n",
      "  --> This file is 37.3kB.\n",
      "Done. Sleeping for 15 seconds\n",
      "3 / 6 \t: 67135743796119 \t https://www.cdandlp.com/en/eric-wreckless-amy-rigby/artist \t /Volumes/Biggy/Discog/artists-cdandlp/19/67135743796119.p\n",
      "Saving /Volumes/Biggy/Discog/artists-cdandlp/19/67135743796119.p (force=False)\n",
      "  --> This file is 36.9kB.\n",
      "Done. Sleeping for 15 seconds\n",
      "4 / 6 \t: 77255792902973 \t https://www.cdandlp.com/en/rigby-amy/artist \t /Volumes/Biggy/Discog/artists-cdandlp/73/77255792902973.p\n",
      "Saving /Volumes/Biggy/Discog/artists-cdandlp/73/77255792902973.p (force=False)\n",
      "  --> This file is 40.2kB.\n",
      "Done. Sleeping for 15 seconds\n",
      "5 / 6 \t: 32669611106145 \t https://www.cdandlp.com/en/new-country-3-09-1996/artist \t /Volumes/Biggy/Discog/artists-cdandlp/45/32669611106145.p\n",
      "Saving /Volumes/Biggy/Discog/artists-cdandlp/45/32669611106145.p (force=False)\n",
      "  --> This file is 36.9kB.\n",
      "Done. Sleeping for 15 seconds\n",
      "6 / 6 \t: 66554968530078 \t https://www.cdandlp.com/en/uprooted-best-of-roots-country-singer-songwriters/artist \t /Volumes/Biggy/Discog/artists-cdandlp/78/66554968530078.p\n",
      "Saving /Volumes/Biggy/Discog/artists-cdandlp/78/66554968530078.p (force=False)\n",
      "  --> This file is 37.1kB.\n",
      "Done. Sleeping for 15 seconds\n",
      "====> 40 / 3942   :  Anacrusis\n",
      "\n",
      "\n",
      "===================== Searching For Anacrusis =====================\n",
      "Found 3 artists\n",
      "1 / 3 \t: 89012357557183 \t https://www.cdandlp.com/en/anacrusis/artist \t /Volumes/Biggy/Discog/artists-cdandlp/83/89012357557183.p\n",
      "Saving /Volumes/Biggy/Discog/artists-cdandlp/83/89012357557183.p (force=False)\n",
      "  --> This file is 49.9kB.\n",
      "Done. Sleeping for 15 seconds\n",
      "2 / 3 \t: 69566901220900 \t https://www.cdandlp.com/en/anacrusis-2/artist \t /Volumes/Biggy/Discog/artists-cdandlp/0/69566901220900.p\n",
      "Saving /Volumes/Biggy/Discog/artists-cdandlp/0/69566901220900.p (force=False)\n",
      "  --> This file is 37.5kB.\n",
      "Done. Sleeping for 15 seconds\n",
      "3 / 3 \t: 85472998546422 \t https://www.cdandlp.com/en/anacrusis-usa/artist \t /Volumes/Biggy/Discog/artists-cdandlp/22/85472998546422.p\n",
      "Saving /Volumes/Biggy/Discog/artists-cdandlp/22/85472998546422.p (force=False)\n",
      "  --> This file is 37.2kB.\n",
      "Done. Sleeping for 15 seconds\n",
      "====> 41 / 3942   :  Anata\n",
      "\n",
      "\n",
      "===================== Searching For Anata =====================\n",
      "Found 16 artists\n",
      "1 / 16 \t: 87132329677109 \t https://www.cdandlp.com/en/anata/artist \t /Volumes/Biggy/Discog/artists-cdandlp/9/87132329677109.p\n",
      "Saving /Volumes/Biggy/Discog/artists-cdandlp/9/87132329677109.p (force=False)\n",
      "  --> This file is 42.4kB.\n",
      "Done. Sleeping for 15 seconds\n",
      "2 / 16 \t: 74331280680909 \t https://www.cdandlp.com/en/anata-bethzaida/artist \t /Volumes/Biggy/Discog/artists-cdandlp/9/74331280680909.p\n",
      "Saving /Volumes/Biggy/Discog/artists-cdandlp/9/74331280680909.p (force=False)\n",
      "  --> This file is 37.3kB.\n",
      "Done. Sleeping for 15 seconds\n",
      "3 / 16 \t: 76643472788328 \t https://www.cdandlp.com/en/kiyoko-suizenji/artist \t /Volumes/Biggy/Discog/artists-cdandlp/28/76643472788328.p\n",
      "Saving /Volumes/Biggy/Discog/artists-cdandlp/28/76643472788328.p (force=False)\n",
      "  --> This file is 54.2kB.\n",
      "Done. Sleeping for 15 seconds\n",
      "4 / 16 \t: 32461110497653 \t https://www.cdandlp.com/en/takeshi-terauchi-amp-blue-jeans/artist \t /Volumes/Biggy/Discog/artists-cdandlp/53/32461110497653.p\n",
      "Saving /Volumes/Biggy/Discog/artists-cdandlp/53/32461110497653.p (force=False)\n",
      "  --> This file is 41.3kB.\n",
      "Done. Sleeping for 15 seconds\n",
      "5 / 16 \t: 11048659345554 \t https://www.cdandlp.com/en/yamasuki-singers/artist \t /Volumes/Biggy/Discog/artists-cdandlp/54/11048659345554.p\n",
      "Saving /Volumes/Biggy/Discog/artists-cdandlp/54/11048659345554.p (force=False)\n",
      "  --> This file is 38.4kB.\n",
      "Done. Sleeping for 15 seconds\n",
      "6 / 16 \t: 3946939776963 \t https://www.cdandlp.com/en/herbie-mann/artist \t /Volumes/Biggy/Discog/artists-cdandlp/63/3946939776963.p\n",
      "Saving /Volumes/Biggy/Discog/artists-cdandlp/63/3946939776963.p (force=False)\n",
      "  --> This file is 56.4kB.\n",
      "Done. Sleeping for 15 seconds\n",
      "7 / 16 \t: 8372050522732 \t https://www.cdandlp.com/en/mari-henmi/artist \t /Volumes/Biggy/Discog/artists-cdandlp/32/8372050522732.p\n",
      "Saving /Volumes/Biggy/Discog/artists-cdandlp/32/8372050522732.p (force=False)\n",
      "  --> This file is 38.9kB.\n",
      "Done. Sleeping for 15 seconds\n",
      "8 / 16 \t: 37155925809865 \t https://www.cdandlp.com/en/miyuki-takada/artist \t /Volumes/Biggy/Discog/artists-cdandlp/65/37155925809865.p\n",
      "Saving /Volumes/Biggy/Discog/artists-cdandlp/65/37155925809865.p (force=False)\n",
      "  --> This file is 37.3kB.\n",
      "Done. Sleeping for 15 seconds\n",
      "9 / 16 \t: 71987692638572 \t https://www.cdandlp.com/en/romi-yamada/artist \t /Volumes/Biggy/Discog/artists-cdandlp/72/71987692638572.p\n",
      "Saving /Volumes/Biggy/Discog/artists-cdandlp/72/71987692638572.p (force=False)\n",
      "  --> This file is 37.2kB.\n",
      "Done. Sleeping for 15 seconds\n",
      "10 / 16 \t: 23984072354898 \t https://www.cdandlp.com/en/shigeru-katsumi/artist \t /Volumes/Biggy/Discog/artists-cdandlp/98/23984072354898.p\n",
      "Saving /Volumes/Biggy/Discog/artists-cdandlp/98/23984072354898.p (force=False)\n",
      "  --> This file is 38.0kB.\n",
      "Done. Sleeping for 15 seconds\n",
      "11 / 16 \t: 83243128710134 \t https://www.cdandlp.com/en/akiko-wada/artist \t /Volumes/Biggy/Discog/artists-cdandlp/34/83243128710134.p\n",
      "Saving /Volumes/Biggy/Discog/artists-cdandlp/34/83243128710134.p (force=False)\n",
      "  --> This file is 43.6kB.\n",
      "Done. Sleeping for 15 seconds\n",
      "12 / 16 \t: 41627335317535 \t https://www.cdandlp.com/en/dreamy-mood-orchestra/artist \t /Volumes/Biggy/Discog/artists-cdandlp/35/41627335317535.p\n",
      "Saving /Volumes/Biggy/Discog/artists-cdandlp/35/41627335317535.p (force=False)\n",
      "  --> This file is 37.0kB.\n",
      "Done. Sleeping for 15 seconds\n",
      "13 / 16 \t: 37097716140433 \t https://www.cdandlp.com/en/kiyohiko-ozaki/artist \t /Volumes/Biggy/Discog/artists-cdandlp/33/37097716140433.p\n",
      "Saving /Volumes/Biggy/Discog/artists-cdandlp/33/37097716140433.p (force=False)\n",
      "  --> This file is 47.6kB.\n",
      "Done. Sleeping for 15 seconds\n",
      "14 / 16 \t: 32687085071261 \t https://www.cdandlp.com/en/the-yamasuki-singers/artist \t /Volumes/Biggy/Discog/artists-cdandlp/61/32687085071261.p\n",
      "Saving /Volumes/Biggy/Discog/artists-cdandlp/61/32687085071261.p (force=False)\n",
      "  --> This file is 38.4kB.\n",
      "Done. Sleeping for 15 seconds\n",
      "15 / 16 \t: 52720906661047 \t https://www.cdandlp.com/en/tsutsui-mari-津々井まり/artist \t /Volumes/Biggy/Discog/artists-cdandlp/47/52720906661047.p\n"
     ]
    },
    {
     "ename": "UnicodeEncodeError",
     "evalue": "'ascii' codec can't encode characters in position 21-25: ordinal not in range(128)",
     "output_type": "error",
     "traceback": [
      "\u001b[0;31m---------------------------------------------------------------------------\u001b[0m",
      "\u001b[0;31mUnicodeEncodeError\u001b[0m                        Traceback (most recent call last)",
      "\u001b[0;32m<ipython-input-280-992177a5d8b6>\u001b[0m in \u001b[0;36m<module>\u001b[0;34m\u001b[0m\n\u001b[0;32m----> 1\u001b[0;31m \u001b[0mdownloadCDandLPArtists\u001b[0m\u001b[0;34m(\u001b[0m\u001b[0;36m28\u001b[0m\u001b[0;34m)\u001b[0m\u001b[0;34m\u001b[0m\u001b[0;34m\u001b[0m\u001b[0m\n\u001b[0m",
      "\u001b[0;32m<ipython-input-278-bce5b42d11e8>\u001b[0m in \u001b[0;36mdownloadCDandLPArtists\u001b[0;34m(minI)\u001b[0m\n\u001b[1;32m      5\u001b[0m             \u001b[0;32mcontinue\u001b[0m\u001b[0;34m\u001b[0m\u001b[0;34m\u001b[0m\u001b[0m\n\u001b[1;32m      6\u001b[0m         \u001b[0mprint\u001b[0m\u001b[0;34m(\u001b[0m\u001b[0;34m\"====>\"\u001b[0m\u001b[0;34m,\u001b[0m\u001b[0mi\u001b[0m\u001b[0;34m,\u001b[0m\u001b[0;34m\"/\"\u001b[0m\u001b[0;34m,\u001b[0m\u001b[0mlen\u001b[0m\u001b[0;34m(\u001b[0m\u001b[0martists\u001b[0m\u001b[0;34m)\u001b[0m\u001b[0;34m,\u001b[0m\u001b[0;34m\"  : \"\u001b[0m\u001b[0;34m,\u001b[0m\u001b[0martistName\u001b[0m\u001b[0;34m)\u001b[0m\u001b[0;34m\u001b[0m\u001b[0;34m\u001b[0m\u001b[0m\n\u001b[0;32m----> 7\u001b[0;31m         \u001b[0martsCL\u001b[0m\u001b[0;34m.\u001b[0m\u001b[0msearchCDandLPForArtist\u001b[0m\u001b[0;34m(\u001b[0m\u001b[0martistName\u001b[0m\u001b[0;34m,\u001b[0m \u001b[0msleeptime\u001b[0m\u001b[0;34m=\u001b[0m\u001b[0;36m15\u001b[0m\u001b[0;34m)\u001b[0m\u001b[0;34m\u001b[0m\u001b[0;34m\u001b[0m\u001b[0m\n\u001b[0m",
      "\u001b[0;32m~/Documents/code/discogs/artistsCL.py\u001b[0m in \u001b[0;36msearchCDandLPForArtist\u001b[0;34m(self, artist, debug, sleeptime, data)\u001b[0m\n\u001b[1;32m    231\u001b[0m                 \u001b[0;32mcontinue\u001b[0m\u001b[0;34m\u001b[0m\u001b[0;34m\u001b[0m\u001b[0m\n\u001b[1;32m    232\u001b[0m \u001b[0;34m\u001b[0m\u001b[0m\n\u001b[0;32m--> 233\u001b[0;31m             \u001b[0mself\u001b[0m\u001b[0;34m.\u001b[0m\u001b[0mdownloadArtistURL\u001b[0m\u001b[0;34m(\u001b[0m\u001b[0murl\u001b[0m\u001b[0;34m,\u001b[0m \u001b[0msavename\u001b[0m\u001b[0;34m,\u001b[0m \u001b[0msleeptime\u001b[0m\u001b[0;34m=\u001b[0m\u001b[0msleeptime\u001b[0m\u001b[0;34m)\u001b[0m\u001b[0;34m\u001b[0m\u001b[0;34m\u001b[0m\u001b[0m\n\u001b[0m\u001b[1;32m    234\u001b[0m \u001b[0;34m\u001b[0m\u001b[0m\n\u001b[1;32m    235\u001b[0m \u001b[0;34m\u001b[0m\u001b[0m\n",
      "\u001b[0;32m~/Documents/code/discogs/artistsCL.py\u001b[0m in \u001b[0;36mdownloadArtistURL\u001b[0;34m(self, url, savename, parse, force, debug, sleeptime)\u001b[0m\n\u001b[1;32m    129\u001b[0m \u001b[0;34m\u001b[0m\u001b[0m\n\u001b[1;32m    130\u001b[0m         \u001b[0;31m## Download data\u001b[0m\u001b[0;34m\u001b[0m\u001b[0;34m\u001b[0m\u001b[0;34m\u001b[0m\u001b[0m\n\u001b[0;32m--> 131\u001b[0;31m         \u001b[0mdata\u001b[0m\u001b[0;34m,\u001b[0m \u001b[0mresponse\u001b[0m \u001b[0;34m=\u001b[0m \u001b[0mself\u001b[0m\u001b[0;34m.\u001b[0m\u001b[0mdownloadURL\u001b[0m\u001b[0;34m(\u001b[0m\u001b[0murl\u001b[0m\u001b[0;34m)\u001b[0m\u001b[0;34m\u001b[0m\u001b[0;34m\u001b[0m\u001b[0m\n\u001b[0m\u001b[1;32m    132\u001b[0m         \u001b[0;32mif\u001b[0m \u001b[0mresponse\u001b[0m \u001b[0;34m!=\u001b[0m \u001b[0;36m200\u001b[0m\u001b[0;34m:\u001b[0m\u001b[0;34m\u001b[0m\u001b[0;34m\u001b[0m\u001b[0m\n\u001b[1;32m    133\u001b[0m             \u001b[0mprint\u001b[0m\u001b[0;34m(\u001b[0m\u001b[0;34m\"Response is {0}. Error downloading {0}\"\u001b[0m\u001b[0;34m.\u001b[0m\u001b[0mformat\u001b[0m\u001b[0;34m(\u001b[0m\u001b[0mresponse\u001b[0m\u001b[0;34m,\u001b[0m \u001b[0murl\u001b[0m\u001b[0;34m)\u001b[0m\u001b[0;34m)\u001b[0m\u001b[0;34m\u001b[0m\u001b[0;34m\u001b[0m\u001b[0m\n",
      "\u001b[0;32m~/Documents/code/discogs/artistsCL.py\u001b[0m in \u001b[0;36mdownloadURL\u001b[0;34m(self, url, debug)\u001b[0m\n\u001b[1;32m    105\u001b[0m \u001b[0;34m\u001b[0m\u001b[0m\n\u001b[1;32m    106\u001b[0m         \u001b[0mrequest\u001b[0m\u001b[0;34m=\u001b[0m\u001b[0murllib\u001b[0m\u001b[0;34m.\u001b[0m\u001b[0mrequest\u001b[0m\u001b[0;34m.\u001b[0m\u001b[0mRequest\u001b[0m\u001b[0;34m(\u001b[0m\u001b[0murl\u001b[0m\u001b[0;34m,\u001b[0m\u001b[0;32mNone\u001b[0m\u001b[0;34m,\u001b[0m\u001b[0mheaders\u001b[0m\u001b[0;34m)\u001b[0m \u001b[0;31m#The assembled request\u001b[0m\u001b[0;34m\u001b[0m\u001b[0;34m\u001b[0m\u001b[0m\n\u001b[0;32m--> 107\u001b[0;31m         \u001b[0mresponse\u001b[0m \u001b[0;34m=\u001b[0m \u001b[0murllib\u001b[0m\u001b[0;34m.\u001b[0m\u001b[0mrequest\u001b[0m\u001b[0;34m.\u001b[0m\u001b[0murlopen\u001b[0m\u001b[0;34m(\u001b[0m\u001b[0mrequest\u001b[0m\u001b[0;34m)\u001b[0m\u001b[0;34m\u001b[0m\u001b[0;34m\u001b[0m\u001b[0m\n\u001b[0m\u001b[1;32m    108\u001b[0m         \u001b[0mdata\u001b[0m \u001b[0;34m=\u001b[0m \u001b[0mresponse\u001b[0m\u001b[0;34m.\u001b[0m\u001b[0mread\u001b[0m\u001b[0;34m(\u001b[0m\u001b[0;34m)\u001b[0m \u001b[0;31m# The data u need\u001b[0m\u001b[0;34m\u001b[0m\u001b[0;34m\u001b[0m\u001b[0m\n\u001b[1;32m    109\u001b[0m \u001b[0;34m\u001b[0m\u001b[0m\n",
      "\u001b[0;32m/anaconda3/envs/py37/lib/python3.7/urllib/request.py\u001b[0m in \u001b[0;36murlopen\u001b[0;34m(url, data, timeout, cafile, capath, cadefault, context)\u001b[0m\n\u001b[1;32m    220\u001b[0m     \u001b[0;32melse\u001b[0m\u001b[0;34m:\u001b[0m\u001b[0;34m\u001b[0m\u001b[0;34m\u001b[0m\u001b[0m\n\u001b[1;32m    221\u001b[0m         \u001b[0mopener\u001b[0m \u001b[0;34m=\u001b[0m \u001b[0m_opener\u001b[0m\u001b[0;34m\u001b[0m\u001b[0;34m\u001b[0m\u001b[0m\n\u001b[0;32m--> 222\u001b[0;31m     \u001b[0;32mreturn\u001b[0m \u001b[0mopener\u001b[0m\u001b[0;34m.\u001b[0m\u001b[0mopen\u001b[0m\u001b[0;34m(\u001b[0m\u001b[0murl\u001b[0m\u001b[0;34m,\u001b[0m \u001b[0mdata\u001b[0m\u001b[0;34m,\u001b[0m \u001b[0mtimeout\u001b[0m\u001b[0;34m)\u001b[0m\u001b[0;34m\u001b[0m\u001b[0;34m\u001b[0m\u001b[0m\n\u001b[0m\u001b[1;32m    223\u001b[0m \u001b[0;34m\u001b[0m\u001b[0m\n\u001b[1;32m    224\u001b[0m \u001b[0;32mdef\u001b[0m \u001b[0minstall_opener\u001b[0m\u001b[0;34m(\u001b[0m\u001b[0mopener\u001b[0m\u001b[0;34m)\u001b[0m\u001b[0;34m:\u001b[0m\u001b[0;34m\u001b[0m\u001b[0;34m\u001b[0m\u001b[0m\n",
      "\u001b[0;32m/anaconda3/envs/py37/lib/python3.7/urllib/request.py\u001b[0m in \u001b[0;36mopen\u001b[0;34m(self, fullurl, data, timeout)\u001b[0m\n\u001b[1;32m    523\u001b[0m             \u001b[0mreq\u001b[0m \u001b[0;34m=\u001b[0m \u001b[0mmeth\u001b[0m\u001b[0;34m(\u001b[0m\u001b[0mreq\u001b[0m\u001b[0;34m)\u001b[0m\u001b[0;34m\u001b[0m\u001b[0;34m\u001b[0m\u001b[0m\n\u001b[1;32m    524\u001b[0m \u001b[0;34m\u001b[0m\u001b[0m\n\u001b[0;32m--> 525\u001b[0;31m         \u001b[0mresponse\u001b[0m \u001b[0;34m=\u001b[0m \u001b[0mself\u001b[0m\u001b[0;34m.\u001b[0m\u001b[0m_open\u001b[0m\u001b[0;34m(\u001b[0m\u001b[0mreq\u001b[0m\u001b[0;34m,\u001b[0m \u001b[0mdata\u001b[0m\u001b[0;34m)\u001b[0m\u001b[0;34m\u001b[0m\u001b[0;34m\u001b[0m\u001b[0m\n\u001b[0m\u001b[1;32m    526\u001b[0m \u001b[0;34m\u001b[0m\u001b[0m\n\u001b[1;32m    527\u001b[0m         \u001b[0;31m# post-process response\u001b[0m\u001b[0;34m\u001b[0m\u001b[0;34m\u001b[0m\u001b[0;34m\u001b[0m\u001b[0m\n",
      "\u001b[0;32m/anaconda3/envs/py37/lib/python3.7/urllib/request.py\u001b[0m in \u001b[0;36m_open\u001b[0;34m(self, req, data)\u001b[0m\n\u001b[1;32m    541\u001b[0m         \u001b[0mprotocol\u001b[0m \u001b[0;34m=\u001b[0m \u001b[0mreq\u001b[0m\u001b[0;34m.\u001b[0m\u001b[0mtype\u001b[0m\u001b[0;34m\u001b[0m\u001b[0;34m\u001b[0m\u001b[0m\n\u001b[1;32m    542\u001b[0m         result = self._call_chain(self.handle_open, protocol, protocol +\n\u001b[0;32m--> 543\u001b[0;31m                                   '_open', req)\n\u001b[0m\u001b[1;32m    544\u001b[0m         \u001b[0;32mif\u001b[0m \u001b[0mresult\u001b[0m\u001b[0;34m:\u001b[0m\u001b[0;34m\u001b[0m\u001b[0;34m\u001b[0m\u001b[0m\n\u001b[1;32m    545\u001b[0m             \u001b[0;32mreturn\u001b[0m \u001b[0mresult\u001b[0m\u001b[0;34m\u001b[0m\u001b[0;34m\u001b[0m\u001b[0m\n",
      "\u001b[0;32m/anaconda3/envs/py37/lib/python3.7/urllib/request.py\u001b[0m in \u001b[0;36m_call_chain\u001b[0;34m(self, chain, kind, meth_name, *args)\u001b[0m\n\u001b[1;32m    501\u001b[0m         \u001b[0;32mfor\u001b[0m \u001b[0mhandler\u001b[0m \u001b[0;32min\u001b[0m \u001b[0mhandlers\u001b[0m\u001b[0;34m:\u001b[0m\u001b[0;34m\u001b[0m\u001b[0;34m\u001b[0m\u001b[0m\n\u001b[1;32m    502\u001b[0m             \u001b[0mfunc\u001b[0m \u001b[0;34m=\u001b[0m \u001b[0mgetattr\u001b[0m\u001b[0;34m(\u001b[0m\u001b[0mhandler\u001b[0m\u001b[0;34m,\u001b[0m \u001b[0mmeth_name\u001b[0m\u001b[0;34m)\u001b[0m\u001b[0;34m\u001b[0m\u001b[0;34m\u001b[0m\u001b[0m\n\u001b[0;32m--> 503\u001b[0;31m             \u001b[0mresult\u001b[0m \u001b[0;34m=\u001b[0m \u001b[0mfunc\u001b[0m\u001b[0;34m(\u001b[0m\u001b[0;34m*\u001b[0m\u001b[0margs\u001b[0m\u001b[0;34m)\u001b[0m\u001b[0;34m\u001b[0m\u001b[0;34m\u001b[0m\u001b[0m\n\u001b[0m\u001b[1;32m    504\u001b[0m             \u001b[0;32mif\u001b[0m \u001b[0mresult\u001b[0m \u001b[0;32mis\u001b[0m \u001b[0;32mnot\u001b[0m \u001b[0;32mNone\u001b[0m\u001b[0;34m:\u001b[0m\u001b[0;34m\u001b[0m\u001b[0;34m\u001b[0m\u001b[0m\n\u001b[1;32m    505\u001b[0m                 \u001b[0;32mreturn\u001b[0m \u001b[0mresult\u001b[0m\u001b[0;34m\u001b[0m\u001b[0;34m\u001b[0m\u001b[0m\n",
      "\u001b[0;32m/anaconda3/envs/py37/lib/python3.7/urllib/request.py\u001b[0m in \u001b[0;36mhttps_open\u001b[0;34m(self, req)\u001b[0m\n\u001b[1;32m   1358\u001b[0m         \u001b[0;32mdef\u001b[0m \u001b[0mhttps_open\u001b[0m\u001b[0;34m(\u001b[0m\u001b[0mself\u001b[0m\u001b[0;34m,\u001b[0m \u001b[0mreq\u001b[0m\u001b[0;34m)\u001b[0m\u001b[0;34m:\u001b[0m\u001b[0;34m\u001b[0m\u001b[0;34m\u001b[0m\u001b[0m\n\u001b[1;32m   1359\u001b[0m             return self.do_open(http.client.HTTPSConnection, req,\n\u001b[0;32m-> 1360\u001b[0;31m                 context=self._context, check_hostname=self._check_hostname)\n\u001b[0m\u001b[1;32m   1361\u001b[0m \u001b[0;34m\u001b[0m\u001b[0m\n\u001b[1;32m   1362\u001b[0m         \u001b[0mhttps_request\u001b[0m \u001b[0;34m=\u001b[0m \u001b[0mAbstractHTTPHandler\u001b[0m\u001b[0;34m.\u001b[0m\u001b[0mdo_request_\u001b[0m\u001b[0;34m\u001b[0m\u001b[0;34m\u001b[0m\u001b[0m\n",
      "\u001b[0;32m/anaconda3/envs/py37/lib/python3.7/urllib/request.py\u001b[0m in \u001b[0;36mdo_open\u001b[0;34m(self, http_class, req, **http_conn_args)\u001b[0m\n\u001b[1;32m   1315\u001b[0m             \u001b[0;32mtry\u001b[0m\u001b[0;34m:\u001b[0m\u001b[0;34m\u001b[0m\u001b[0;34m\u001b[0m\u001b[0m\n\u001b[1;32m   1316\u001b[0m                 h.request(req.get_method(), req.selector, req.data, headers,\n\u001b[0;32m-> 1317\u001b[0;31m                           encode_chunked=req.has_header('Transfer-encoding'))\n\u001b[0m\u001b[1;32m   1318\u001b[0m             \u001b[0;32mexcept\u001b[0m \u001b[0mOSError\u001b[0m \u001b[0;32mas\u001b[0m \u001b[0merr\u001b[0m\u001b[0;34m:\u001b[0m \u001b[0;31m# timeout error\u001b[0m\u001b[0;34m\u001b[0m\u001b[0;34m\u001b[0m\u001b[0m\n\u001b[1;32m   1319\u001b[0m                 \u001b[0;32mraise\u001b[0m \u001b[0mURLError\u001b[0m\u001b[0;34m(\u001b[0m\u001b[0merr\u001b[0m\u001b[0;34m)\u001b[0m\u001b[0;34m\u001b[0m\u001b[0;34m\u001b[0m\u001b[0m\n",
      "\u001b[0;32m/anaconda3/envs/py37/lib/python3.7/http/client.py\u001b[0m in \u001b[0;36mrequest\u001b[0;34m(self, method, url, body, headers, encode_chunked)\u001b[0m\n\u001b[1;32m   1227\u001b[0m                 encode_chunked=False):\n\u001b[1;32m   1228\u001b[0m         \u001b[0;34m\"\"\"Send a complete request to the server.\"\"\"\u001b[0m\u001b[0;34m\u001b[0m\u001b[0;34m\u001b[0m\u001b[0m\n\u001b[0;32m-> 1229\u001b[0;31m         \u001b[0mself\u001b[0m\u001b[0;34m.\u001b[0m\u001b[0m_send_request\u001b[0m\u001b[0;34m(\u001b[0m\u001b[0mmethod\u001b[0m\u001b[0;34m,\u001b[0m \u001b[0murl\u001b[0m\u001b[0;34m,\u001b[0m \u001b[0mbody\u001b[0m\u001b[0;34m,\u001b[0m \u001b[0mheaders\u001b[0m\u001b[0;34m,\u001b[0m \u001b[0mencode_chunked\u001b[0m\u001b[0;34m)\u001b[0m\u001b[0;34m\u001b[0m\u001b[0;34m\u001b[0m\u001b[0m\n\u001b[0m\u001b[1;32m   1230\u001b[0m \u001b[0;34m\u001b[0m\u001b[0m\n\u001b[1;32m   1231\u001b[0m     \u001b[0;32mdef\u001b[0m \u001b[0m_send_request\u001b[0m\u001b[0;34m(\u001b[0m\u001b[0mself\u001b[0m\u001b[0;34m,\u001b[0m \u001b[0mmethod\u001b[0m\u001b[0;34m,\u001b[0m \u001b[0murl\u001b[0m\u001b[0;34m,\u001b[0m \u001b[0mbody\u001b[0m\u001b[0;34m,\u001b[0m \u001b[0mheaders\u001b[0m\u001b[0;34m,\u001b[0m \u001b[0mencode_chunked\u001b[0m\u001b[0;34m)\u001b[0m\u001b[0;34m:\u001b[0m\u001b[0;34m\u001b[0m\u001b[0;34m\u001b[0m\u001b[0m\n",
      "\u001b[0;32m/anaconda3/envs/py37/lib/python3.7/http/client.py\u001b[0m in \u001b[0;36m_send_request\u001b[0;34m(self, method, url, body, headers, encode_chunked)\u001b[0m\n\u001b[1;32m   1238\u001b[0m             \u001b[0mskips\u001b[0m\u001b[0;34m[\u001b[0m\u001b[0;34m'skip_accept_encoding'\u001b[0m\u001b[0;34m]\u001b[0m \u001b[0;34m=\u001b[0m \u001b[0;36m1\u001b[0m\u001b[0;34m\u001b[0m\u001b[0;34m\u001b[0m\u001b[0m\n\u001b[1;32m   1239\u001b[0m \u001b[0;34m\u001b[0m\u001b[0m\n\u001b[0;32m-> 1240\u001b[0;31m         \u001b[0mself\u001b[0m\u001b[0;34m.\u001b[0m\u001b[0mputrequest\u001b[0m\u001b[0;34m(\u001b[0m\u001b[0mmethod\u001b[0m\u001b[0;34m,\u001b[0m \u001b[0murl\u001b[0m\u001b[0;34m,\u001b[0m \u001b[0;34m**\u001b[0m\u001b[0mskips\u001b[0m\u001b[0;34m)\u001b[0m\u001b[0;34m\u001b[0m\u001b[0;34m\u001b[0m\u001b[0m\n\u001b[0m\u001b[1;32m   1241\u001b[0m \u001b[0;34m\u001b[0m\u001b[0m\n\u001b[1;32m   1242\u001b[0m         \u001b[0;31m# chunked encoding will happen if HTTP/1.1 is used and either\u001b[0m\u001b[0;34m\u001b[0m\u001b[0;34m\u001b[0m\u001b[0;34m\u001b[0m\u001b[0m\n",
      "\u001b[0;32m/anaconda3/envs/py37/lib/python3.7/http/client.py\u001b[0m in \u001b[0;36mputrequest\u001b[0;34m(self, method, url, skip_host, skip_accept_encoding)\u001b[0m\n\u001b[1;32m   1105\u001b[0m \u001b[0;34m\u001b[0m\u001b[0m\n\u001b[1;32m   1106\u001b[0m         \u001b[0;31m# Non-ASCII characters should have been eliminated earlier\u001b[0m\u001b[0;34m\u001b[0m\u001b[0;34m\u001b[0m\u001b[0;34m\u001b[0m\u001b[0m\n\u001b[0;32m-> 1107\u001b[0;31m         \u001b[0mself\u001b[0m\u001b[0;34m.\u001b[0m\u001b[0m_output\u001b[0m\u001b[0;34m(\u001b[0m\u001b[0mrequest\u001b[0m\u001b[0;34m.\u001b[0m\u001b[0mencode\u001b[0m\u001b[0;34m(\u001b[0m\u001b[0;34m'ascii'\u001b[0m\u001b[0;34m)\u001b[0m\u001b[0;34m)\u001b[0m\u001b[0;34m\u001b[0m\u001b[0;34m\u001b[0m\u001b[0m\n\u001b[0m\u001b[1;32m   1108\u001b[0m \u001b[0;34m\u001b[0m\u001b[0m\n\u001b[1;32m   1109\u001b[0m         \u001b[0;32mif\u001b[0m \u001b[0mself\u001b[0m\u001b[0;34m.\u001b[0m\u001b[0m_http_vsn\u001b[0m \u001b[0;34m==\u001b[0m \u001b[0;36m11\u001b[0m\u001b[0;34m:\u001b[0m\u001b[0;34m\u001b[0m\u001b[0;34m\u001b[0m\u001b[0m\n",
      "\u001b[0;31mUnicodeEncodeError\u001b[0m: 'ascii' codec can't encode characters in position 21-25: ordinal not in range(128)"
     ]
    }
   ],
   "source": [
    "downloadCDandLPArtists(28)"
   ]
  },
  {
   "cell_type": "code",
   "execution_count": 274,
   "metadata": {},
   "outputs": [],
   "source": [
    "#data = getFile(\"Search A Flock Of Seagulls on CDandLP.html\")"
   ]
  },
  {
   "cell_type": "code",
   "execution_count": 275,
   "metadata": {},
   "outputs": [],
   "source": [
    "#artsCL.searchCDandLPForArtist(\"A Flock Of Seagulls\", data=data)"
   ]
  },
  {
   "cell_type": "code",
   "execution_count": 263,
   "metadata": {},
   "outputs": [],
   "source": [
    "retval = artCL.getData(\"/Volumes/Biggy/Discog/artists-cdandlp/65/63161947632565.p\")"
   ]
  },
  {
   "cell_type": "code",
   "execution_count": null,
   "metadata": {},
   "outputs": [],
   "source": []
  },
  {
   "cell_type": "code",
   "execution_count": 264,
   "metadata": {
    "scrolled": false
   },
   "outputs": [],
   "source": [
    "#retval = artCL.getData(\"dmb_en.html\")"
   ]
  },
  {
   "cell_type": "code",
   "execution_count": 265,
   "metadata": {},
   "outputs": [
    {
     "data": {
      "text/plain": [
       "{'name': 'A Flock Of Seagulls', 'err': None}"
      ]
     },
     "execution_count": 265,
     "metadata": {},
     "output_type": "execute_result"
    }
   ],
   "source": [
    "retval.artist.get()"
   ]
  },
  {
   "cell_type": "code",
   "execution_count": 266,
   "metadata": {},
   "outputs": [
    {
     "data": {
      "text/plain": [
       "'63161947632565'"
      ]
     },
     "execution_count": 266,
     "metadata": {},
     "output_type": "execute_result"
    }
   ],
   "source": [
    "dutils.getArtistID(\"https://www.cdandlp.com/en/a-flock-of-seagulls/artist/\")"
   ]
  },
  {
   "cell_type": "code",
   "execution_count": 267,
   "metadata": {},
   "outputs": [
    {
     "data": {
      "text/plain": [
       "{'url': 'https://www.cdandlp.com/en/a-flock-of-seagulls/artist/', 'err': None}"
      ]
     },
     "execution_count": 267,
     "metadata": {},
     "output_type": "execute_result"
    }
   ],
   "source": [
    "retval.url.get()"
   ]
  },
  {
   "cell_type": "code",
   "execution_count": 268,
   "metadata": {},
   "outputs": [
    {
     "data": {
      "text/plain": [
       "{'ID': '63161947632565', 'err': None}"
      ]
     },
     "execution_count": 268,
     "metadata": {},
     "output_type": "execute_result"
    }
   ],
   "source": [
    "retval.ID.get()"
   ]
  },
  {
   "cell_type": "code",
   "execution_count": 269,
   "metadata": {},
   "outputs": [
    {
     "data": {
      "text/plain": [
       "{'ppp': 1, 'tot': 10, 'pages': 10, 'err': None, 'more': True, 'redo': False}"
      ]
     },
     "execution_count": 269,
     "metadata": {},
     "output_type": "execute_result"
    }
   ],
   "source": [
    "retval.pages.get()"
   ]
  },
  {
   "cell_type": "code",
   "execution_count": 270,
   "metadata": {},
   "outputs": [
    {
     "name": "stdout",
     "output_type": "stream",
     "text": [
      "{'album': \"(It'S Not Me) Talking (1983)\", 'url': 'https://www.cdandlp.com/en/a-flock-of-seagulls/it-s-not-me-talking-1983/7inch-sp/r3446051686/', 'aclass': None, 'aformat': None, 'artist': ['A Flock Of Seagulls'], 'code': '98207858416772', 'year': None, 'err': None}\n",
      "{'album': \"(It'S Not Me) Talking / I Ran (Live)\", 'url': 'https://www.cdandlp.com/en/a-flock-of-seagulls/it-s-not-me-talking-i-ran-live/7inch/r3100688049/', 'aclass': None, 'aformat': None, 'artist': ['A Flock Of Seagulls'], 'code': '4757513217180', 'year': None, 'err': None}\n",
      "{'album': \"(It'S Not Me) Talking\", 'url': 'https://www.cdandlp.com/en/a-flock-of-seagulls/it-s-not-me-talking/lp/r3109042535/', 'aclass': None, 'aformat': None, 'artist': ['A Flock Of Seagulls'], 'code': '55769514039938', 'year': None, 'err': None}\n",
      "{'album': 'Jive– Hop 201 - Uk - 1982', 'url': 'https://www.cdandlp.com/en/a-flock-of-seagulls-a-flock-of-seagulls/a-flock-of-seagulls-a-flock-of-seagulls/lp/r119628061/', 'aclass': None, 'aformat': None, 'artist': ['A Flock Of Seagulls'], 'code': '68160441899129', 'year': None, 'err': None}\n",
      "{'album': 'Beta Record C.A - Lpbs-1080 - Venezuela - 1982', 'url': 'https://www.cdandlp.com/en/a-flock-of-seagulls-a-flock-of-seagulls/a-flock-of-seagulls-a-flock-of-seagulls/lp/r119777656/', 'aclass': None, 'aformat': None, 'artist': ['A Flock Of Seagulls'], 'code': '79160209782564', 'year': None, 'err': None}\n",
      "{'album': 'A Flock Of Seagulls(180Gr,Audiophile)', 'url': 'https://www.cdandlp.com/en/a-flock-of-seagulls/a-flock-of-seagulls-180gr-audiophile/lp/r1548843166/', 'aclass': None, 'aformat': None, 'artist': ['A Flock Of Seagulls'], 'code': '72059472391168', 'year': None, 'err': None}\n",
      "{'album': 'Jive', 'url': 'https://www.cdandlp.com/en/a-flock-of-seagulls/a-flock-of-seagulls/lp/r1266068306/', 'aclass': None, 'aformat': None, 'artist': ['A Flock Of Seagulls'], 'code': '40029009263802', 'year': None, 'err': None}\n",
      "{'album': 'Jive - Hop 201', 'url': 'https://www.cdandlp.com/en/a-flock-of-seagulls/a-flock-of-seagulls/lp/r1259241330/', 'aclass': None, 'aformat': None, 'artist': ['A Flock Of Seagulls'], 'code': '46096644615943', 'year': None, 'err': None}\n",
      "{'album': 'X', 'url': 'https://www.cdandlp.com/en/a-flock-of-seagulls/a-flock-of-seagulls/lp/r907240473/', 'aclass': None, 'aformat': None, 'artist': ['A Flock Of Seagulls'], 'code': '71592070656899', 'year': None, 'err': None}\n",
      "{'album': 'Epic - Epc 85884 - Greece - 1982', 'url': 'https://www.cdandlp.com/en/a-flock-of-seagulls/a-flock-of-seagulls/lp/r1142666823/', 'aclass': None, 'aformat': None, 'artist': ['A Flock Of Seagulls'], 'code': '45989301976161', 'year': None, 'err': None}\n",
      "{'album': 'Jive - Scandinavia - 1982', 'url': 'https://www.cdandlp.com/en/a-flock-of-seagulls/a-flock-of-seagulls/lp/r3447788103/', 'aclass': None, 'aformat': None, 'artist': ['A Flock Of Seagulls'], 'code': '82075461950694', 'year': None, 'err': None}\n",
      "{'album': 'A Flock Of Seagulls', 'url': 'https://www.cdandlp.com/en/a-flock-of-seagulls/a-flock-of-seagulls/lp/r3106250561/', 'aclass': None, 'aformat': None, 'artist': ['A Flock Of Seagulls'], 'code': '34385668330643', 'year': None, 'err': None}\n",
      "{'album': 'Jive - 6.25 100 - Deutschland', 'url': 'https://www.cdandlp.com/en/a-flock-of-seagulls/a-flock-of-seagulls/lp/r118472336/', 'aclass': None, 'aformat': None, 'artist': ['A Flock Of Seagulls'], 'code': '31182697925810', 'year': None, 'err': None}\n",
      "{'album': 'Jive - Germany - 6.25000 Ao - 1982', 'url': 'https://www.cdandlp.com/en/a-flock-of-seagulls/a-flock-of-seagulls/lp/r3111422094/', 'aclass': None, 'aformat': None, 'artist': ['A Flock Of Seagulls'], 'code': '99708551683117', 'year': None, 'err': None}\n",
      "{'album': 'Jive - Uk - Hop 201 - 1982', 'url': 'https://www.cdandlp.com/en/a-flock-of-seagulls/a-flock-of-seagulls/lp/r3111429525/', 'aclass': None, 'aformat': None, 'artist': ['A Flock Of Seagulls'], 'code': '74452790090371', 'year': None, 'err': None}\n",
      "{'album': 'Jive - Germany - 6.25384 Ap - 1982', 'url': 'https://www.cdandlp.com/en/a-flock-of-seagulls/a-flock-of-seagulls/lp/r3110539264/', 'aclass': None, 'aformat': None, 'artist': ['A Flock Of Seagulls'], 'code': '50497423489877', 'year': None, 'err': None}\n",
      "{'album': 'Jive - 6.25384 Ap - Germany - 1982', 'url': 'https://www.cdandlp.com/en/a-flock-of-seagulls/a-flock-of-seagulls/lp/r1543687842/', 'aclass': None, 'aformat': None, 'artist': ['A Flock Of Seagulls'], 'code': '10033486401273', 'year': None, 'err': None}\n",
      "{'album': 'Germany', 'url': 'https://www.cdandlp.com/en/a-flock-of-seagulls/a-flock-of-seagulls/lp/r113304070/', 'aclass': None, 'aformat': None, 'artist': ['A Flock Of Seagulls'], 'code': '68134696149071', 'year': None, 'err': None}\n",
      "{'album': 'Cbs/Sony - 25Ap 2475', 'url': 'https://www.cdandlp.com/en/a-flock-of-seagulls/a-flock-of-seagulls/lp/r119401454/', 'aclass': None, 'aformat': None, 'artist': ['A Flock Of Seagulls'], 'code': '61296389227403', 'year': None, 'err': None}\n",
      "{'album': 'Cbs/Sony - 25Ap-2475', 'url': 'https://www.cdandlp.com/en/a-flock-of-seagulls/a-flock-of-seagulls/lp/r119401456/', 'aclass': None, 'aformat': None, 'artist': ['A Flock Of Seagulls'], 'code': '40107694793888', 'year': None, 'err': None}\n",
      "{'album': 'Cherry Red - Crpop79 - 5013929427921 - 1981', 'url': 'https://www.cdandlp.com/en/a-flock-of-seagulls/a-flock-of-seagulls/cd/r1548843165/', 'aclass': None, 'aformat': None, 'artist': ['A Flock Of Seagulls'], 'code': '76312605383327', 'year': None, 'err': None}\n",
      "{'album': 'Cherry Red - Crpop79 - 21-3-2011', 'url': None, 'aclass': None, 'aformat': None, 'artist': ['A Flock Of Seagulls'], 'code': '80332510237804', 'year': None, 'err': None}\n",
      "{'album': 'A Frock Of Seagulls', 'url': 'https://www.cdandlp.com/en/a-flock-of-seagulls/a-frock-of-seagulls/lp/r119496018/', 'aclass': None, 'aformat': None, 'artist': ['A Flock Of Seagulls'], 'code': '32644074889074', 'year': None, 'err': None}\n",
      "{'album': 'Ascension - Sealed + Autographed Postcards', 'url': 'https://www.cdandlp.com/en/a-flock-of-seagulls/ascension-sealed-autographed-postcards/cd/r3110673907/', 'aclass': None, 'aformat': None, 'artist': ['A Flock Of Seagulls'], 'code': '77334764320864', 'year': None, 'err': None}\n",
      "{'album': 'Ascension', 'url': None, 'aclass': None, 'aformat': None, 'artist': ['A Flock Of Seagulls'], 'code': '77596643663844', 'year': None, 'err': None}\n",
      "{'album': 'Best Of (1986, #Chip41)', 'url': 'https://www.cdandlp.com/en/a-flock-of-seagulls/best-of-1986-chip41/cd/r3449081653/', 'aclass': None, 'aformat': None, 'artist': ['A Flock Of Seagulls'], 'code': '11028366619820', 'year': None, 'err': None}\n"
     ]
    }
   ],
   "source": [
    "for k,v in retval.media.media.items():\n",
    "    for v2 in v:\n",
    "        print(v2.get())"
   ]
  }
 ],
 "metadata": {
  "kernelspec": {
   "display_name": "Python 3",
   "language": "python",
   "name": "python3"
  },
  "language_info": {
   "codemirror_mode": {
    "name": "ipython",
    "version": 3
   },
   "file_extension": ".py",
   "mimetype": "text/x-python",
   "name": "python",
   "nbconvert_exporter": "python",
   "pygments_lexer": "ipython3",
   "version": "3.7.3"
  }
 },
 "nbformat": 4,
 "nbformat_minor": 2
}
