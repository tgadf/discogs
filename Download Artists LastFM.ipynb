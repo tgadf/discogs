{
 "cells": [
  {
   "cell_type": "code",
   "execution_count": 1,
   "metadata": {},
   "outputs": [
    {
     "data": {
      "text/html": [
       "<style>.container { width:100% !important; }</style>"
      ],
      "text/plain": [
       "<IPython.core.display.HTML object>"
      ]
     },
     "metadata": {},
     "output_type": "display_data"
    },
    {
     "data": {
      "text/html": [
       "<style>div.output_area{max-height:10000px;overflow:scroll;}</style>"
      ],
      "text/plain": [
       "<IPython.core.display.HTML object>"
      ]
     },
     "metadata": {},
     "output_type": "display_data"
    },
    {
     "name": "stderr",
     "output_type": "stream",
     "text": [
      "/Users/tgadfort/opt/anaconda3/envs/py37/lib/python3.7/site-packages/sklearn/externals/joblib/__init__.py:15: FutureWarning: sklearn.externals.joblib is deprecated in 0.21 and will be removed in 0.23. Please import this functionality directly from joblib, which can be installed with: pip install joblib. If this warning is raised when loading pickled models, you may need to re-serialize those models with scikit-learn 0.21+.\n",
      "  warnings.warn(msg, category=FutureWarning)\n"
     ]
    },
    {
     "name": "stdout",
     "output_type": "stream",
     "text": [
      "Python: 3.7.7 (default, Mar 26 2020, 10:32:53) \n",
      "[Clang 4.0.1 (tags/RELEASE_401/final)]\n",
      "Notebook Last Run Initiated: 2020-11-09 18:43:56.280704\n"
     ]
    }
   ],
   "source": [
    "## Basic stuff\n",
    "%load_ext autoreload\n",
    "%autoreload\n",
    "from IPython.core.display import display, HTML\n",
    "display(HTML(\"<style>.container { width:100% !important; }</style>\"))\n",
    "display(HTML(\"\"\"<style>div.output_area{max-height:10000px;overflow:scroll;}</style>\"\"\"))\n",
    "\n",
    "\n",
    "######################################################\n",
    "# General\n",
    "######################################################\n",
    "from ioUtils import saveJoblib, loadJoblib, saveFile, getFile\n",
    "import urllib\n",
    "from urllib.parse import quote\n",
    "from timeUtils import clock, elapsed\n",
    "from fsUtils import moveFile, setFile, setDir, setSubDir, isFile, isDir, mkDir\n",
    "from ioUtils import getFile, saveFile\n",
    "from fileUtils import getFileBasics, getBasename\n",
    "from webUtils import getWebData, getHTML, getURL\n",
    "from time import sleep\n",
    "import time\n",
    "from multiprocessing import Pool\n",
    "\n",
    "\n",
    "######################################################\n",
    "# Music Stuff\n",
    "######################################################\n",
    "from dbBase import dbBase\n",
    "from multiArtist import multiartist\n",
    "from myMusicDBMap import myMusicDBMap\n",
    "from mainDB import mainDB\n",
    "from parseDBArtistsData import parseDBArtistsData\n",
    "\n",
    "\n",
    "######################################################\n",
    "# Versions\n",
    "######################################################\n",
    "import sys\n",
    "print(\"Python: {0}\".format(sys.version))\n",
    "import datetime as dt\n",
    "start = dt.datetime.now()\n",
    "print(\"Notebook Last Run Initiated: \"+str(start))"
   ]
  },
  {
   "cell_type": "markdown",
   "metadata": {},
   "source": [
    "# Initialize"
   ]
  },
  {
   "cell_type": "code",
   "execution_count": 2,
   "metadata": {},
   "outputs": [
    {
     "name": "stdout",
     "output_type": "stream",
     "text": [
      "The autoreload extension is already loaded. To reload it, use:\n",
      "  %reload_ext autoreload\n"
     ]
    },
    {
     "ename": "NameError",
     "evalue": "name 'discogs' is not defined",
     "output_type": "error",
     "traceback": [
      "\u001b[0;31m---------------------------------------------------------------------------\u001b[0m",
      "\u001b[0;31mNameError\u001b[0m                                 Traceback (most recent call last)",
      "\u001b[0;32m<ipython-input-2-d7c1e8b9e50b>\u001b[0m in \u001b[0;36m<module>\u001b[0;34m\u001b[0m\n\u001b[1;32m      1\u001b[0m \u001b[0mget_ipython\u001b[0m\u001b[0;34m(\u001b[0m\u001b[0;34m)\u001b[0m\u001b[0;34m.\u001b[0m\u001b[0mrun_line_magic\u001b[0m\u001b[0;34m(\u001b[0m\u001b[0;34m'load_ext'\u001b[0m\u001b[0;34m,\u001b[0m \u001b[0;34m'autoreload'\u001b[0m\u001b[0;34m)\u001b[0m\u001b[0;34m\u001b[0m\u001b[0;34m\u001b[0m\u001b[0m\n\u001b[1;32m      2\u001b[0m \u001b[0mget_ipython\u001b[0m\u001b[0;34m(\u001b[0m\u001b[0;34m)\u001b[0m\u001b[0;34m.\u001b[0m\u001b[0mrun_line_magic\u001b[0m\u001b[0;34m(\u001b[0m\u001b[0;34m'autoreload'\u001b[0m\u001b[0;34m,\u001b[0m \u001b[0;34m''\u001b[0m\u001b[0;34m)\u001b[0m\u001b[0;34m\u001b[0m\u001b[0;34m\u001b[0m\u001b[0m\n\u001b[0;32m----> 3\u001b[0;31m \u001b[0mdiscLM\u001b[0m \u001b[0;34m=\u001b[0m \u001b[0mdiscogs\u001b[0m\u001b[0;34m(\u001b[0m\u001b[0;34m'lastfm'\u001b[0m\u001b[0;34m)\u001b[0m\u001b[0;34m\u001b[0m\u001b[0;34m\u001b[0m\u001b[0m\n\u001b[0m\u001b[1;32m      4\u001b[0m \u001b[0mdutils\u001b[0m \u001b[0;34m=\u001b[0m \u001b[0mlastfmUtils\u001b[0m\u001b[0;34m(\u001b[0m\u001b[0;34m)\u001b[0m\u001b[0;34m\u001b[0m\u001b[0;34m\u001b[0m\u001b[0m\n\u001b[1;32m      5\u001b[0m \u001b[0martLM\u001b[0m  \u001b[0;34m=\u001b[0m \u001b[0martistLM\u001b[0m\u001b[0;34m(\u001b[0m\u001b[0;34m)\u001b[0m\u001b[0;34m\u001b[0m\u001b[0;34m\u001b[0m\u001b[0m\n",
      "\u001b[0;31mNameError\u001b[0m: name 'discogs' is not defined"
     ]
    }
   ],
   "source": [
    "%load_ext autoreload\n",
    "%autoreload\n",
    "discLM = discogs('lastfm')\n",
    "dutils = lastfmUtils()\n",
    "artLM  = artistLM()\n",
    "artsLM = artistsLM(discLM)"
   ]
  },
  {
   "cell_type": "markdown",
   "metadata": {},
   "source": [
    "# Download Known Artists"
   ]
  },
  {
   "cell_type": "code",
   "execution_count": null,
   "metadata": {},
   "outputs": [],
   "source": [
    "def getMyMusicDBMap():\n",
    "    myMusicMap = getFile(ifile=\"/Users/tgadfort/Documents/code/music/myMusicMap.p\")\n",
    "    print(\"Found {0} entries\".format(len(myMusicMap)))\n",
    "    return myMusicMap\n",
    "\n",
    "myMusicMap = getMyMusicDBMap()"
   ]
  },
  {
   "cell_type": "code",
   "execution_count": null,
   "metadata": {},
   "outputs": [],
   "source": [
    "def downloadSearchResults(maxI=-1):\n",
    "    for i,artistName in enumerate(myMusicMap.keys()):\n",
    "        if i <= maxI:\n",
    "            continue\n",
    "        print(\"====>\",i,\"/\",len(myMusicMap),\"  : \",artistName)\n",
    "#        try:\n",
    "        artsLM.searchLastFMForArtist(artistName, sleeptime=3)\n",
    "#        except:\n",
    "#            sleep(3)\n",
    "        sleep(3)"
   ]
  },
  {
   "cell_type": "code",
   "execution_count": null,
   "metadata": {},
   "outputs": [],
   "source": [
    "downloadSearchResults(3544)"
   ]
  },
  {
   "cell_type": "markdown",
   "metadata": {},
   "source": [
    "# Download Extra Artist Files"
   ]
  },
  {
   "cell_type": "code",
   "execution_count": null,
   "metadata": {},
   "outputs": [],
   "source": [
    "#artsLM.assertDBModValExtraData(1, maxPages=3)"
   ]
  },
  {
   "cell_type": "code",
   "execution_count": 5,
   "metadata": {},
   "outputs": [
    {
     "name": "stdout",
     "output_type": "stream",
     "text": [
      "Creating myMusicDBMap()\n",
      "   Loading my music db map: /Users/tgadfort/opt/anaconda3/envs/py37/musicdb/myMusicMap.p\n",
      "   DB keys: ['Discogs', 'AllMusic', 'MusicBrainz', 'AceBootlegs', 'RateYourMusic', 'LastFM', 'DatPiff', 'RockCorner', 'CDandLP', 'MusicStack', 'MetalStorm']\n",
      "Found 4739 artist entries\n",
      "Counter({'Discogs': 4739, 'AllMusic': 4739, 'MusicBrainz': 4739, 'AceBootlegs': 4739, 'RateYourMusic': 4739, 'LastFM': 4739, 'DatPiff': 4739, 'RockCorner': 4739, 'CDandLP': 4739, 'MusicStack': 4739, 'MetalStorm': 4739})\n",
      "Counter({'Discogs': 4739, 'AllMusic': 4739, 'MusicBrainz': 4739, 'AceBootlegs': 4739, 'RateYourMusic': 4739, 'LastFM': 4739, 'DatPiff': 4739, 'RockCorner': 4739, 'CDandLP': 4739, 'MusicStack': 4739, 'MetalStorm': 4739})\n",
      "  MusicDB is ok\n",
      "  Reverse MusicDB is ok\n",
      "Setting Basic Database Objects\n",
      "=========================   discogs   =========================\n",
      "Directory Information:\n",
      "  Raw:  /Volumes/Piggy/Discog\n",
      "  Meta: /Users/tgadfort/Music/Discog\n",
      "  DB:   /Users/tgadfort/Music/Discog\n",
      "=========================   allmusic   =========================\n",
      "Directory Information:\n",
      "  Raw:  /Volumes/Piggy/Discog\n",
      "  Meta: /Users/tgadfort/Music/Discog\n",
      "  DB:   /Users/tgadfort/Music/Discog\n",
      "=========================   musicbrainz   =========================\n",
      "Directory Information:\n",
      "  Raw:  /Volumes/Piggy/Discog\n",
      "  Meta: /Users/tgadfort/Music/Discog\n",
      "  DB:   /Users/tgadfort/Music/Discog\n",
      "=========================   lastfm   =========================\n",
      "Directory Information:\n",
      "  Raw:  /Volumes/Piggy/Discog\n",
      "  Meta: /Users/tgadfort/Music/Discog\n",
      "  DB:   /Users/tgadfort/Music/Discog\n",
      "=========================   rockcorner   =========================\n",
      "Directory Information:\n",
      "  Raw:  /Volumes/Piggy/Discog\n",
      "  Meta: /Users/tgadfort/Music/Discog\n",
      "  DB:   /Users/tgadfort/Music/Discog\n",
      "=========================   acebootlegs   =========================\n",
      "Directory Information:\n",
      "  Raw:  /Volumes/Piggy/Discog\n",
      "  Meta: /Users/tgadfort/Music/Discog\n",
      "  DB:   /Users/tgadfort/Music/Discog\n",
      "=========================   cdandlp   =========================\n",
      "Directory Information:\n",
      "  Raw:  /Volumes/Piggy/Discog\n",
      "  Meta: /Users/tgadfort/Music/Discog\n",
      "  DB:   /Users/tgadfort/Music/Discog\n",
      "=========================   rateyourmusic   =========================\n",
      "Directory Information:\n",
      "  Raw:  /Volumes/Piggy/Discog\n",
      "  Meta: /Users/tgadfort/Music/Discog\n",
      "  DB:   /Users/tgadfort/Music/Discog\n",
      "=========================   musicstack   =========================\n",
      "Directory Information:\n",
      "  Raw:  /Volumes/Piggy/Discog\n",
      "  Meta: /Users/tgadfort/Music/Discog\n",
      "  DB:   /Users/tgadfort/Music/Discog\n",
      "Database Records:\n",
      "  Creating Database Records for Discogs\n",
      "  Creating Database Records for AllMusic\n",
      "  Creating Database Records for MusicBrainz\n",
      "  Creating Database Records for LastFM\n",
      "  Creating Database Records for RockCorner\n",
      "  Creating Database Records for AceBootlegs\n",
      "  Creating Database Records for CDandLP\n",
      "  Creating Database Records for RateYourMusic\n",
      "  Creating Database Records for MusicStack\n",
      "Available DBs: Discogs, AllMusic, MusicBrainz, LastFM, RockCorner, AceBootlegs, CDandLP, RateYourMusic, MusicStack\n"
     ]
    }
   ],
   "source": [
    "mdb = myMusicDBMap(debug=True)\n",
    "maindb = mainDB(mdb=mdb, create=False, debug=True)\n",
    "dbdata = maindb.dbdata\n",
    "pdb = parseDBArtistsData(maindb=maindb)"
   ]
  },
  {
   "cell_type": "code",
   "execution_count": null,
   "metadata": {},
   "outputs": [],
   "source": []
  },
  {
   "cell_type": "code",
   "execution_count": null,
   "metadata": {},
   "outputs": [],
   "source": [
    "from random import shuffle\n",
    "modVals = list(range(100))\n",
    "shuffle(modVals)\n",
    "for modVal in modVals:\n",
    "    artsLM.assertDBModValExtraData(modVal, maxPages=25)\n",
    "    continue\n",
    "    #except:\n",
    "    #    continue"
   ]
  },
  {
   "cell_type": "code",
   "execution_count": null,
   "metadata": {},
   "outputs": [],
   "source": [
    "artsLM.assertDBModValExtraData(61)"
   ]
  },
  {
   "cell_type": "code",
   "execution_count": null,
   "metadata": {},
   "outputs": [],
   "source": [
    "retval = artLM.getData(\"/Volumes/Biggy/Discog/artists-lastfm/51/34806831451.p\")"
   ]
  },
  {
   "cell_type": "code",
   "execution_count": null,
   "metadata": {},
   "outputs": [],
   "source": [
    "artsLM.parseArtistFiles()"
   ]
  },
  {
   "cell_type": "code",
   "execution_count": null,
   "metadata": {},
   "outputs": [],
   "source": [
    "dutils.getArtistID(\"Coldplay vs. The Killers vs. Kelly Clarkson vs. Bon Jovi vs. Empire Of The Sun vs. Muse\")  # 99596595167\n",
    "dutils.getArtistID(\"Coldplay vs. The Killers vs. Kelly Clarkson vs. Bon…\")   # 93496498096"
   ]
  },
  {
   "cell_type": "code",
   "execution_count": null,
   "metadata": {},
   "outputs": [],
   "source": []
  },
  {
   "cell_type": "code",
   "execution_count": null,
   "metadata": {},
   "outputs": [],
   "source": [
    "url=\"https://www.last.fm/search/artists?q=Coldplay\"\n",
    "savename=\"lm_search.p\"\n",
    "artsLM.downloadArtistURL(url=url, savename=savename)"
   ]
  },
  {
   "cell_type": "code",
   "execution_count": null,
   "metadata": {},
   "outputs": [],
   "source": [
    "bsdata = getHTML(\"lm_search.p\")"
   ]
  },
  {
   "cell_type": "code",
   "execution_count": null,
   "metadata": {},
   "outputs": [],
   "source": [
    "uls = bsdata.findAll(\"ul\", {\"class\": \"artist-results\"})\n",
    "for ul in uls:\n",
    "    lis = ul.findAll(\"li\", {\"class\": \"artist-result\"})\n",
    "    for li in lis:\n",
    "        h4 = li.find(\"h4\")\n",
    "        if h4 is None:\n",
    "            raise ValueError(\"No h4 in list\")\n",
    "        result   = artLM.getNamesAndURLs(h4)\n",
    "        name     = result[0].name\n",
    "        url      = result[0].url\n",
    "        artistID = dutils.getArtistID(name)\n",
    "        print(name,'\\t',url,'\\t',artistID)"
   ]
  },
  {
   "cell_type": "code",
   "execution_count": null,
   "metadata": {},
   "outputs": [],
   "source": []
  },
  {
   "cell_type": "code",
   "execution_count": null,
   "metadata": {},
   "outputs": [],
   "source": [
    "#bsdata"
   ]
  },
  {
   "cell_type": "code",
   "execution_count": null,
   "metadata": {},
   "outputs": [],
   "source": [
    "retval = artLM.getData(\"lastfm.p\")"
   ]
  },
  {
   "cell_type": "code",
   "execution_count": null,
   "metadata": {},
   "outputs": [],
   "source": [
    "retval.artist.get()"
   ]
  },
  {
   "cell_type": "code",
   "execution_count": null,
   "metadata": {},
   "outputs": [],
   "source": [
    "retval.pages.get()"
   ]
  },
  {
   "cell_type": "code",
   "execution_count": null,
   "metadata": {},
   "outputs": [],
   "source": [
    "retval.url.get()"
   ]
  },
  {
   "cell_type": "code",
   "execution_count": null,
   "metadata": {},
   "outputs": [],
   "source": [
    "retval.ID.get()"
   ]
  },
  {
   "cell_type": "code",
   "execution_count": null,
   "metadata": {},
   "outputs": [],
   "source": [
    "retval.profile.get()"
   ]
  },
  {
   "cell_type": "code",
   "execution_count": null,
   "metadata": {},
   "outputs": [],
   "source": [
    "for album in retval.media.media[\"Albums\"]:\n",
    "    print(album.get())"
   ]
  },
  {
   "cell_type": "code",
   "execution_count": null,
   "metadata": {},
   "outputs": [],
   "source": [
    "retval.mediaCounts.get()"
   ]
  },
  {
   "cell_type": "code",
   "execution_count": null,
   "metadata": {},
   "outputs": [],
   "source": []
  },
  {
   "cell_type": "code",
   "execution_count": null,
   "metadata": {},
   "outputs": [],
   "source": [
    "%load_ext autoreload\n",
    "%autoreload\n",
    "disc = discogs('lastfm')\n",
    "arts = artists(disc)\n",
    "#arts.searchDiscogForArtist(\"The Whispers\")"
   ]
  },
  {
   "cell_type": "code",
   "execution_count": null,
   "metadata": {},
   "outputs": [],
   "source": [
    "from webUtils import getWebData\n",
    "url=\"https://www.last.fm/music/Coldplay/+albums\"\n",
    "url=\"https://www.last.fm/music/Coldplay/+albums?order=release_date\"\n",
    "url=\"https://www.last.fm/music/Coldplay/+albums?order=release_date\"\n",
    "savename=\"lastfm.p\"\n",
    "getWebData(base=url, savename=savename, useSafari=False)"
   ]
  },
  {
   "cell_type": "code",
   "execution_count": null,
   "metadata": {},
   "outputs": [],
   "source": [
    "url=\"https://www.datpiff.com/mixtapes-search?criteria=yo%20gotti&sort=relevance\"\n",
    "savename = \"dp_search.p\"\n",
    "getWebData(base=url, savename=savename, useSafari=False)"
   ]
  },
  {
   "cell_type": "code",
   "execution_count": null,
   "metadata": {},
   "outputs": [],
   "source": [
    "getWebData"
   ]
  },
  {
   "cell_type": "code",
   "execution_count": null,
   "metadata": {},
   "outputs": [],
   "source": [
    "bsdata = getHTML(\"dp_search.p\")"
   ]
  },
  {
   "cell_type": "code",
   "execution_count": null,
   "metadata": {},
   "outputs": [],
   "source": [
    "bsdata"
   ]
  },
  {
   "cell_type": "code",
   "execution_count": null,
   "metadata": {},
   "outputs": [],
   "source": [
    "contentdivs = bsdata.findAll(\"div\", {\"class\": \"contentItem\"})\n",
    "for i,contentdiv in enumerate(contentdivs):\n",
    "    artistDiv = contentdiv.find(\"div\", {\"class\": \"artist\"})\n",
    "    if artistDiv is None:\n",
    "        raise ValueError(\"There is no artist div\")\n",
    "    artistName = artistDiv.text\n",
    "    \n",
    "    albumDiv = contentdiv.find(\"div\", {\"class\": \"title\"})\n",
    "    if albumDiv is None:\n",
    "        raise ValueError(\"There is no title div\")\n",
    "    albumName = albumDiv.text\n",
    "    try:\n",
    "        albumURL  = albumDiv.find(\"a\").attrs['href']\n",
    "    except:\n",
    "        albumURL  = None\n",
    "        \n",
    "    print(artistName,'\\t',albumName)"
   ]
  },
  {
   "cell_type": "code",
   "execution_count": null,
   "metadata": {},
   "outputs": [],
   "source": [
    "divs[1]"
   ]
  },
  {
   "cell_type": "code",
   "execution_count": null,
   "metadata": {},
   "outputs": [],
   "source": []
  }
 ],
 "metadata": {
  "kernelspec": {
   "display_name": "Python 3",
   "language": "python",
   "name": "python3"
  },
  "language_info": {
   "codemirror_mode": {
    "name": "ipython",
    "version": 3
   },
   "file_extension": ".py",
   "mimetype": "text/x-python",
   "name": "python",
   "nbconvert_exporter": "python",
   "pygments_lexer": "ipython3",
   "version": "3.7.7"
  }
 },
 "nbformat": 4,
 "nbformat_minor": 2
}
