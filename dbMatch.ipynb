{
 "cells": [
  {
   "cell_type": "markdown",
   "metadata": {},
   "source": [
    "# Master Discogs Database"
   ]
  },
  {
   "cell_type": "code",
   "execution_count": 1,
   "metadata": {},
   "outputs": [
    {
     "data": {
      "text/html": [
       "<style>.container { width:100% !important; }</style>"
      ],
      "text/plain": [
       "<IPython.core.display.HTML object>"
      ]
     },
     "metadata": {},
     "output_type": "display_data"
    },
    {
     "data": {
      "text/html": [
       "<style>div.output_area{max-height:10000px;overflow:scroll;}</style>"
      ],
      "text/plain": [
       "<IPython.core.display.HTML object>"
      ]
     },
     "metadata": {},
     "output_type": "display_data"
    },
    {
     "name": "stdout",
     "output_type": "stream",
     "text": [
      "Python: 3.7.7 (default, Mar 26 2020, 10:32:53) \n",
      "[Clang 4.0.1 (tags/RELEASE_401/final)]\n"
     ]
    },
    {
     "name": "stderr",
     "output_type": "stream",
     "text": [
      "/Users/tgadfort/opt/anaconda3/envs/py37/lib/python3.7/site-packages/sklearn/externals/joblib/__init__.py:15: FutureWarning: sklearn.externals.joblib is deprecated in 0.21 and will be removed in 0.23. Please import this functionality directly from joblib, which can be installed with: pip install joblib. If this warning is raised when loading pickled models, you may need to re-serialize those models with scikit-learn 0.21+.\n",
      "  warnings.warn(msg, category=FutureWarning)\n"
     ]
    },
    {
     "name": "stdout",
     "output_type": "stream",
     "text": [
      "Notebook Last Run Initiated: 2020-11-17 19:03:38.116357\n"
     ]
    }
   ],
   "source": [
    "## Basic stuff\n",
    "%load_ext autoreload\n",
    "%autoreload\n",
    "from IPython.core.display import display, HTML\n",
    "display(HTML(\"<style>.container { width:100% !important; }</style>\"))\n",
    "display(HTML(\"\"\"<style>div.output_area{max-height:10000px;overflow:scroll;}</style>\"\"\"))\n",
    "\n",
    "## Python Version\n",
    "import sys\n",
    "print(\"Python: {0}\".format(sys.version))\n",
    "\n",
    "\n",
    "################################################################################\n",
    "## General Stuff\n",
    "################################################################################\n",
    "from ioUtils import saveJoblib, loadJoblib, saveFile, getFile\n",
    "import urllib\n",
    "from urllib.parse import quote\n",
    "from collections import Counter\n",
    "from searchUtils import findExt, findSubExt, findPatternExt, findNearest\n",
    "from timeUtils import clock, elapsed\n",
    "from fsUtils import moveFile, setFile, setDir, setSubDir, isFile, isDir, mkDir\n",
    "from fileUtils import getFileBasics, getBasename\n",
    "from listUtils import getFlatList\n",
    "from time import sleep\n",
    "\n",
    "\n",
    "################################################################################\n",
    "## Music Stuff\n",
    "################################################################################\n",
    "\n",
    "### MultiArtist\n",
    "from multiArtist import multiartist\n",
    "\n",
    "### My Music DB\n",
    "from myMusicDBMap import myMusicDBMap\n",
    "from musicDBMap import musicDBMap\n",
    "from matchDBArtist import matchDBArtist\n",
    "from masterDBMatchClass import masterDBMatchClass\n",
    "\n",
    "### Master DB code\n",
    "from masterdb import masterdb\n",
    "from mainDB import mainDB\n",
    "\n",
    "\n",
    "import datetime as dt\n",
    "start = dt.datetime.now()\n",
    "print(\"Notebook Last Run Initiated: \"+str(start))"
   ]
  },
  {
   "cell_type": "markdown",
   "metadata": {},
   "source": [
    "# Main DB"
   ]
  },
  {
   "cell_type": "code",
   "execution_count": 2,
   "metadata": {},
   "outputs": [
    {
     "name": "stdout",
     "output_type": "stream",
     "text": [
      "The autoreload extension is already loaded. To reload it, use:\n",
      "  %reload_ext autoreload\n",
      "=========================   discogs   =========================\n",
      "=========================   allmusic   =========================\n",
      "=========================   musicbrainz   =========================\n",
      "=========================   lastfm   =========================\n",
      "=========================   rockcorner   =========================\n",
      "=========================   acebootlegs   =========================\n",
      "=========================   cdandlp   =========================\n",
      "=========================   rateyourmusic   =========================\n",
      "=========================   musicstack   =========================\n",
      "=========================   discogs   =========================\n",
      "Summary Statistics For DB: Discogs\n",
      "    Using Known Artists: False\n",
      "    Found 753273 ID -> Name entries\n",
      "    Found 687680 Name -> ID entries\n",
      "    Found 0 Albums\n",
      "=========================   allmusic   =========================\n",
      "Summary Statistics For DB: AllMusic\n",
      "    Using Known Artists: False\n",
      "    Found 55336 ID -> Name entries\n",
      "    Found 51377 Name -> ID entries\n",
      "    Found 233001 Albums\n",
      "=========================   musicbrainz   =========================\n",
      "Summary Statistics For DB: MusicBrainz\n",
      "    Using Known Artists: False\n",
      "    Found 136886 ID -> Name entries\n",
      "    Found 115427 Name -> ID entries\n",
      "    Found 0 Albums\n",
      "=========================   lastfm   =========================\n",
      "Summary Statistics For DB: LastFM\n",
      "    Using Known Artists: False\n",
      "    Found 115953 ID -> Name entries\n",
      "    Found 115789 Name -> ID entries\n",
      "    Found 992668 Albums\n",
      "=========================   rockcorner   =========================\n",
      "Summary Statistics For DB: RockCorner\n",
      "    Using Known Artists: False\n",
      "    Found 1262 ID -> Name entries\n",
      "    Found 1262 Name -> ID entries\n",
      "    Found 14481 Albums\n",
      "=========================   acebootlegs   =========================\n",
      "Summary Statistics For DB: AceBootlegs\n",
      "    Using Known Artists: False\n",
      "    Found 341 ID -> Name entries\n",
      "    Found 341 Name -> ID entries\n",
      "    Found 2838 Albums\n",
      "=========================   cdandlp   =========================\n",
      "Summary Statistics For DB: CDandLP\n",
      "    Using Known Artists: False\n",
      "    Found 4977 ID -> Name entries\n",
      "    Found 4936 Name -> ID entries\n",
      "    Found 39600 Albums\n",
      "=========================   rateyourmusic   =========================\n",
      "Summary Statistics For DB: RateYourMusic\n",
      "    Using Known Artists: False\n",
      "    Found 77 ID -> Name entries\n",
      "    Found 76 Name -> ID entries\n",
      "    Found 0 Albums\n",
      "=========================   musicstack   =========================\n",
      "Summary Statistics For DB: MusicStack\n",
      "    Using Known Artists: False\n",
      "    Found 187 ID -> Name entries\n",
      "    Found 186 Name -> ID entries\n",
      "    Found 579 Albums\n"
     ]
    }
   ],
   "source": [
    "### Master DB code\n",
    "%load_ext autoreload\n",
    "%autoreload\n",
    "from masterdb import masterdb\n",
    "from mainDB import mainDB\n",
    "maindb = mainDB(mdb=None, create=False, debug=False)\n",
    "maindb.loadDBDataMap()"
   ]
  },
  {
   "cell_type": "code",
   "execution_count": 3,
   "metadata": {},
   "outputs": [
    {
     "name": "stdout",
     "output_type": "stream",
     "text": [
      "  Loaded 4732 previously matched entries\n"
     ]
    }
   ],
   "source": [
    "mdbmap = musicDBMap(\"Music\", init=False)"
   ]
  },
  {
   "cell_type": "code",
   "execution_count": 4,
   "metadata": {},
   "outputs": [
    {
     "data": {
      "text/plain": [
       "{'AllMusic': 'AM',\n",
       " 'Discogs': 'DC',\n",
       " 'MusicBrainz': 'MB',\n",
       " 'LastFM': 'LM',\n",
       " 'RockCorner': 'RC',\n",
       " 'MusicStack': 'MS',\n",
       " 'CDandLP': 'CL',\n",
       " 'AceBootlegs': 'AB',\n",
       " 'RateYourMusic': 'RM'}"
      ]
     },
     "execution_count": 4,
     "metadata": {},
     "output_type": "execute_result"
    }
   ],
   "source": [
    "dbDict = {}\n",
    "dbDict[\"AllMusic\"]      = \"AM\"\n",
    "dbDict[\"Discogs\"]       = \"DC\"\n",
    "dbDict[\"MusicBrainz\"]   = \"MB\"\n",
    "dbDict[\"LastFM\"]        = \"LM\"\n",
    "dbDict[\"RockCorner\"]    = \"RC\"\n",
    "dbDict[\"MusicStack\"]    = \"MS\"\n",
    "dbDict[\"CDandLP\"]       = \"CL\"\n",
    "dbDict[\"AceBootlegs\"]   = \"AB\"\n",
    "dbDict[\"RateYourMusic\"] = \"RM\"\n",
    "dbDict"
   ]
  },
  {
   "cell_type": "code",
   "execution_count": 5,
   "metadata": {},
   "outputs": [
    {
     "name": "stdout",
     "output_type": "stream",
     "text": [
      "  Loaded 34416 previously matched entries\n"
     ]
    }
   ],
   "source": [
    "loadAll = False\n",
    "if loadAll:\n",
    "    mdbmaps = {}\n",
    "    for db in maindb.getDBs():\n",
    "        print(\"{0: <30}\".format(db), end=\"\")\n",
    "        mdbmaps[db] = musicDBMap(db, init=False)\n",
    "    #mdbmaps = {db: musicDBMap(db, init=False) for db in maindb.getDBs()}\n",
    "else:\n",
    "    mdbmaps = {}\n",
    "    #mdbmaps[\"AllMusic\"] = musicDBMap(\"AllMusic\", init=False)\n",
    "    #mdbmaps[\"MusicBrainz\"] = musicDBMap(\"MusicBrainz\", init=False)\n",
    "    mdbmaps[\"Discogs\"] = musicDBMap(\"Discogs\", init=False)\n",
    "    if False:\n",
    "        mdbmaps[\"AllMusic\"] = musicDBMap(\"AllMusic\", init=False)\n",
    "        mdbmaps[\"MusicBrainz\"] = musicDBMap(\"MusicBrainz\", init=False)\n",
    "        mdbmaps[\"LastFM\"] = musicDBMap(\"LastFM\", init=False)\n",
    "        mdbmaps[\"RockCorner\"] = musicDBMap(\"RockCorner\", init=False)\n",
    "        mdbmaps[\"AceBootlegs\"] = musicDBMap(\"AceBootlegs\", init=False)\n",
    "        mdbmaps[\"MusicStack\"] = musicDBMap(\"MusicStack\", init=False)\n",
    "        mdbmaps[\"CDandLP\"] = musicDBMap(\"CDandLP\", init=False)"
   ]
  },
  {
   "cell_type": "markdown",
   "metadata": {},
   "source": [
    "****"
   ]
  },
  {
   "cell_type": "markdown",
   "metadata": {},
   "source": [
    "# Primary DB Matching"
   ]
  },
  {
   "cell_type": "code",
   "execution_count": 6,
   "metadata": {},
   "outputs": [
    {
     "name": "stdout",
     "output_type": "stream",
     "text": [
      "Loading Artist Names\n"
     ]
    }
   ],
   "source": [
    "mdbmc = masterDBMatchClass(maindb, mdbmaps)"
   ]
  },
  {
   "cell_type": "code",
   "execution_count": null,
   "metadata": {},
   "outputs": [],
   "source": [
    "matchData = mdbmc.getDBMatchData(\"Discogs\", returnData=False)"
   ]
  },
  {
   "cell_type": "code",
   "execution_count": null,
   "metadata": {},
   "outputs": [],
   "source": [
    "toMatch = mdbmc.getDataToMatch(\"Discogs\", maxValues=1000000, maxAlbums=1000000)"
   ]
  },
  {
   "cell_type": "code",
   "execution_count": null,
   "metadata": {},
   "outputs": [],
   "source": [
    "ddf = mdbmaps[\"Discogs\"].getDF().T"
   ]
  },
  {
   "cell_type": "code",
   "execution_count": null,
   "metadata": {},
   "outputs": [],
   "source": [
    "ddf"
   ]
  },
  {
   "cell_type": "code",
   "execution_count": null,
   "metadata": {},
   "outputs": [],
   "source": [
    "mdbmaps[\"Discogs\"] = musicDBMap(\"Discogs\", init=True)"
   ]
  },
  {
   "cell_type": "code",
   "execution_count": null,
   "metadata": {},
   "outputs": [],
   "source": [
    "toMatchKeys = {primKey[1]: (primKey[0],primKey[1]) for primKey in toMatch[\"Discogs\"]}"
   ]
  },
  {
   "cell_type": "code",
   "execution_count": null,
   "metadata": {},
   "outputs": [],
   "source": [
    "amdf = getDBDF(mdbmc, \"AllMusic\", dbDict[\"AllMusic\"])"
   ]
  },
  {
   "cell_type": "code",
   "execution_count": null,
   "metadata": {},
   "outputs": [],
   "source": [
    "amdf = getDBDF(mdbmc, \"MusicBrainz\", dbDict[\"MusicBrainz\"])"
   ]
  },
  {
   "cell_type": "code",
   "execution_count": null,
   "metadata": {},
   "outputs": [],
   "source": [
    "primaryInfo = (\"AllMusic\", \"AM\")\n",
    "primaryInfo = (\"MusicBrainz\", \"MB\")\n",
    "secondaryInfo = (\"Discogs\", \"DC\")\n"
   ]
  },
  {
   "cell_type": "code",
   "execution_count": null,
   "metadata": {},
   "outputs": [],
   "source": [
    "amrcdf = amdf[~amdf[secondaryDBName].isna()][[primaryDBArtistName, primaryDBKey, secondaryDBName]]"
   ]
  },
  {
   "cell_type": "code",
   "execution_count": null,
   "metadata": {},
   "outputs": [],
   "source": [
    "amrcdf"
   ]
  },
  {
   "cell_type": "code",
   "execution_count": null,
   "metadata": {},
   "outputs": [],
   "source": []
  },
  {
   "cell_type": "code",
   "execution_count": null,
   "metadata": {},
   "outputs": [],
   "source": [
    "matchData\n",
    "mdbmc"
   ]
  },
  {
   "cell_type": "markdown",
   "metadata": {},
   "source": [
    "# Match Mutual DBs"
   ]
  },
  {
   "cell_type": "code",
   "execution_count": 7,
   "metadata": {},
   "outputs": [],
   "source": [
    "from difflib import SequenceMatcher\n",
    "from pandas import Series, DataFrame, isna, isnull\n",
    "\n",
    "def getDBDF(mdbmc, dbName, dbShort, keepNA=False):\n",
    "    amdf = DataFrame(mdbmaps[dbName].getDF().T)\n",
    "    print(\"Total Size: {0}\".format(amdf.shape[0]))\n",
    "    dbcols = amdf.columns\n",
    "\n",
    "    matchData  =  mdbmc.getDBMatchData(dbName)\n",
    "    mAlbDF = DataFrame(Series({primaryKey: len(albums) for primaryKey,albums in matchData.items()}))\n",
    "\n",
    "    amdf = amdf.join(mAlbDF)\n",
    "    cols = list(amdf.columns)\n",
    "    cols[-1] = \"{0}Albums\".format(dbShort)\n",
    "    amdf.columns = cols\n",
    "\n",
    "    amdf.reset_index(inplace=True)\n",
    "    columns = list(amdf.columns)\n",
    "    columns[0] = \"{0}ArtistName\".format(dbShort)\n",
    "    columns[1] = \"{0}Key\".format(dbShort)\n",
    "    amdf.columns = columns\n",
    "    if keepNA is False:\n",
    "        amdf = amdf[~amdf[dbName].isna()]\n",
    "\n",
    "    colOrder = columns[:2] + [columns[-1]] + list(dbcols)\n",
    "    amdf = amdf[colOrder]\n",
    "\n",
    "    amdf = amdf.sort_values(\"{0}Albums\".format(dbShort), ascending=False)\n",
    "\n",
    "    print(\" Good Size: {0}\".format(amdf.shape[0]))\n",
    "    return amdf\n",
    "\n",
    "\n",
    "def checkDBIDMatch(amdf, dbName, dbShort):\n",
    "    wrong = amdf[amdf[\"{0}Key\".format(dbShort)] != amdf[dbName]]\n",
    "    idxs  = list(wrong.index)\n",
    "    print(\"Found {0} wrongly assigned index\".format(len(idxs)))\n",
    "    return idxs\n",
    " \n",
    "    \n",
    "#####################################################################################################################\n",
    "# Fill Matched DB Data From Overlapping Data In A Previously Matched DB\n",
    "#####################################################################################################################\n",
    "def mutualMatch(amdf, mdbmaps, primaryInfo, secondaryInfo, debug=False, test=True, ratioCut=0.9):\n",
    "    primaryDBName  = primaryInfo[0]\n",
    "    primaryDBShort = primaryInfo[1]\n",
    "    primaryDBArtistName = \"{0}ArtistName\".format(primaryDBShort)\n",
    "    primaryDBKey        = \"{0}Key\".format(primaryDBShort)\n",
    "\n",
    "    secondaryDBName  = secondaryInfo[0]\n",
    "    secondaryDBShort = secondaryInfo[1]\n",
    "\n",
    "    debug = debug\n",
    "    amrcdf = amdf[~amdf[secondaryDBName].isna()][[primaryDBArtistName, primaryDBKey, secondaryDBName]]\n",
    "    for i,row in amrcdf.iterrows():\n",
    "\n",
    "        ## Primary DB Key --> Secondary ID\n",
    "        amDBName = row[primaryDBArtistName]\n",
    "        amDBKey  = row[primaryDBKey]\n",
    "        rcDBKey  = row[secondaryDBName]\n",
    "\n",
    "        ## Secondary ID --> Secondary DB Key\n",
    "        primKey  = mdbmaps[secondaryDBName].getPrimaryKeyFromID(rcDBKey)\n",
    "        if primKey is None:\n",
    "            continue\n",
    "        rcDBName = primKey[0]\n",
    "        rcDBKey  = primKey[1]\n",
    "\n",
    "\n",
    "        s = SequenceMatcher(None, str(amDBName), str(rcDBName))\n",
    "\n",
    "        if debug is True:\n",
    "            print(\"{0: <30}{1: <30}{2: <30}{3}\".format(\"\", primaryDBName, secondaryDBName, \"Match\"))\n",
    "            print(\"{0: <30}{1: <30}{2: <30}{3}\".format(\"{0} ID   --> {1} ID\".format(primaryDBShort, secondaryDBShort), amDBKey, rcDBKey, round(s.ratio(),2)))\n",
    "            print(\"{0: <30}{1: <30}{2: <30}\".format(\"{0} Name --> {1} Name\".format(primaryDBShort, secondaryDBShort), amDBName, rcDBName))\n",
    "\n",
    "\n",
    "        amDBData = mdbmaps[primaryDBName].getArtistData(amDBName, amDBKey)\n",
    "        rcDBData = mdbmaps[secondaryDBName].getArtistData(rcDBName, rcDBKey)\n",
    "\n",
    "        amRCDBKey = rcDBKey\n",
    "        rcAMDBKey = rcDBData.getDBID(primaryDBName)\n",
    "        if debug is True:\n",
    "            print(\"{0: <30}{1: <30}{2: <30}\".format(\"{0} ID   --> {1} ID\".format(secondaryDBShort, primaryDBShort), str(rcAMDBKey), str(amRCDBKey)))    \n",
    "\n",
    "        if s.ratio() > ratioCut:\n",
    "            if rcAMDBKey != amDBKey:\n",
    "                print(\"{0: <50}{1: <75}\\t--->\\t[{2}/{3}]\".format(\"Setting {0} DBData For {1}\".format(secondaryDBName,primaryDBName),\"[{0: <30} {1: <4} {2: >30}]\".format(amDBName,round(s.ratio(),2),rcDBName),amDBKey,rcDBKey))\n",
    "                if test is True:\n",
    "                    continue\n",
    "                mdbmaps[secondaryDBName].addArtistData(rcDBName, rcDBKey, primaryDBName, amDBKey)\n",
    "\n",
    "        if debug:\n",
    "            print(\"\\n\")\n",
    "\n",
    "    if test is True:\n",
    "        return\n",
    "    mdbmaps[secondaryDBName].save()\n",
    "    \n",
    "    \n",
    "    \n",
    "#####################################################################################################################\n",
    "# Fill Fresh DB Data From A Previously Matched DB\n",
    "#####################################################################################################################\n",
    "def mutualMatchFromPreviousDBMatch(amdf, mdbmaps, primaryInfo, secondaryInfo, debug=False, test=True, ratioCut=0.9):\n",
    "\n",
    "    primaryDBName  = primaryInfo[0]\n",
    "    primaryDBShort = primaryInfo[1]\n",
    "    primaryDBArtistName = \"{0}ArtistName\".format(primaryDBShort)\n",
    "    primaryDBKey        = \"{0}Key\".format(primaryDBShort)\n",
    "\n",
    "    secondaryDBName  = secondaryInfo[0]\n",
    "    secondaryDBShort = secondaryInfo[1]\n",
    "\n",
    "\n",
    "\n",
    "    amrcdf = amdf[~amdf[secondaryDBName].isna()][[primaryDBArtistName, primaryDBKey, secondaryDBName]]\n",
    "    for i,row in amrcdf.iterrows():\n",
    "\n",
    "        ## Primary DB Key --> Secondary ID\n",
    "        amDBName = row[primaryDBArtistName]\n",
    "        amDBKey  = row[primaryDBKey]\n",
    "        rcDBKey  = row[secondaryDBName]\n",
    "\n",
    "        if amDBKey is None:\n",
    "            continue\n",
    "\n",
    "        #if debug is True:\n",
    "        #    print(amDBName,'\\t',amDBKey,'\\t',rcDBKey,'\\t-->\\t',end=\"\")\n",
    "\n",
    "        ## Secondary ID --> Secondary DB Key\n",
    "        primKey = toMatchKeys.get(rcDBKey)\n",
    "        #if debug is True:\n",
    "        #    print(primKey)\n",
    "        #primKey  = mdbmaps[secondaryDBName].getPrimaryKeyFromID(rcDBKey)\n",
    "\n",
    "        if primKey is None:\n",
    "            continue\n",
    "        rcDBName = primKey[0]\n",
    "        rcDBKey  = primKey[1]\n",
    "\n",
    "\n",
    "\n",
    "        s = SequenceMatcher(None, str(amDBName), str(rcDBName))\n",
    "\n",
    "        if debug is True:\n",
    "            print(\"{0: <30}{1: <30}{2: <30}{3}\".format(\"\", primaryDBName, secondaryDBName, \"Match\"))\n",
    "            print(\"{0: <30}{1: <30}{2: <30}{3}\".format(\"{0} ID   --> {1} ID\".format(primaryDBShort, secondaryDBShort), amDBKey, rcDBKey, round(s.ratio(),2)))\n",
    "            print(\"{0: <30}{1: <30}{2: <30}\".format(\"{0} Name --> {1} Name\".format(primaryDBShort, secondaryDBShort), amDBName, rcDBName))\n",
    "\n",
    "        continue\n",
    "        if not mdbmaps[secondaryDBName].isKnown(rcDBName, rcDBKey):\n",
    "            mdbmaps[secondaryDBName].addArtist(rcDBName, rcDBKey)\n",
    "            mdbmaps[secondaryDBName].addArtistData(rcDBName, rcDBKey, secondaryDBName, rcDBKey)\n",
    "\n",
    "\n",
    "        amDBData = mdbmaps[primaryDBName].getArtistData(amDBName, amDBKey)\n",
    "        rcDBData = mdbmaps[secondaryDBName].getArtistData(rcDBName, rcDBKey)\n",
    "\n",
    "        amRCDBKey = rcDBKey\n",
    "        rcAMDBKey = rcDBData.getDBID(primaryDBName)\n",
    "        if debug is True:\n",
    "            print(\"{0: <30}{1: <30}{2: <30}\".format(\"{0} ID   --> {1} ID\".format(secondaryDBShort, primaryDBShort), str(rcAMDBKey), str(amRCDBKey)))    \n",
    "\n",
    "        if s.ratio() > ratioCut:\n",
    "            if rcAMDBKey != amDBKey:\n",
    "                print(\"{0: <50}{1: <75}\\t--->\\t[{2}/{3}]\".format(\"Setting {0} DBData For {1}\".format(secondaryDBName,primaryDBName),\"[{0: <30} {1: <4} {2: >30}]\".format(amDBName,round(s.ratio(),2),rcDBName),amDBKey,rcDBKey))\n",
    "                if test is True:\n",
    "                    continue\n",
    "                mdbmaps[secondaryDBName].addArtistData(rcDBName, rcDBKey, primaryDBName, amDBKey)\n",
    "\n",
    "\n",
    "        if debug:\n",
    "            print(\"\\n\")\n",
    "\n",
    "    if test is False:\n",
    "        mdbmaps[secondaryDBName].save()    \n",
    "    \n",
    "    \n",
    "\n",
    "def isSame(x):\n",
    "    name  = x.MyArtistName\n",
    "    match = x[\"{0}ArtistName\".format(dbShort)]\n",
    "    if not all([name,match]):\n",
    "        return None\n",
    "    if any([isna(x) for x in [name,match]]):\n",
    "        return None\n",
    "\n",
    "    same = False\n",
    "    if all([name,match]):\n",
    "        if str(name) == str(match):\n",
    "            same = True\n",
    "    else:\n",
    "        raise ValueError([name,match])\n",
    "    return same\n",
    "\n",
    "def ratio(x):\n",
    "    name  = x.MyArtistName\n",
    "    match = x[\"{0}ArtistName\".format(dbShort)]\n",
    "    same  = x.Same\n",
    "    if same is None:\n",
    "        return None\n",
    "    else:\n",
    "        if all([name,match]):\n",
    "            s = SequenceMatcher(None, str(name), str(match))\n",
    "            return s.ratio()\n",
    "        return -1.0"
   ]
  },
  {
   "cell_type": "code",
   "execution_count": null,
   "metadata": {},
   "outputs": [],
   "source": [
    "mdbmaps[\"Discogs\"].getDF().T"
   ]
  },
  {
   "cell_type": "code",
   "execution_count": null,
   "metadata": {},
   "outputs": [],
   "source": []
  },
  {
   "cell_type": "code",
   "execution_count": null,
   "metadata": {},
   "outputs": [],
   "source": [
    "amdf = getDBDF(mdbmc, \"AllMusic\", dbDict[\"AllMusic\"])"
   ]
  },
  {
   "cell_type": "code",
   "execution_count": null,
   "metadata": {},
   "outputs": [],
   "source": [
    "mutualMatch(amdf, mdbmaps, (\"AllMusic\", \"AM\"), (\"Discogs\", \"DC\"), debug=False, test=True)"
   ]
  },
  {
   "cell_type": "code",
   "execution_count": null,
   "metadata": {},
   "outputs": [],
   "source": []
  },
  {
   "cell_type": "markdown",
   "metadata": {},
   "source": [
    "# Matching Code"
   ]
  },
  {
   "cell_type": "code",
   "execution_count": 8,
   "metadata": {},
   "outputs": [],
   "source": [
    "from tqdm import tqdm\n",
    "from multiprocessing import Pool\n",
    "from functools import partial\n",
    "import time\n",
    "\n",
    "def matchDBArtistWithAlbums(item, *args, **kwargs):    \n",
    "    #time.sleep(0.0025)\n",
    "\n",
    "    artistName   = item[0]\n",
    "    artistID     = item[1]\n",
    "    artistAlbums = item[2]\n",
    "    \n",
    "    mdbMatcher = matchDBArtist(maindb)\n",
    "    mdbMatcher.setArtistInfo(artistName, artistID, artistAlbums)\n",
    "    mcs    = mdbMatcher.findPotentialArtistAlbumMatches()\n",
    "    retval = [artistName,artistID,mcs]\n",
    "    return retval\n",
    "    #result = findNearest(name, artists, 1, kwargs['cutoff'])\n",
    "\n",
    "\n",
    "def multiProc(func, argument_list, num_processes):\n",
    "    pool = Pool(processes=num_processes)\n",
    "    result_list_tqdm = []\n",
    "    for result in tqdm(pool.imap(func=func, iterable=argument_list), total=len(argument_list)):\n",
    "        result_list_tqdm.append(result)\n",
    "    return result_list_tqdm\n",
    "\n",
    "\n",
    "\n",
    "def saveMapData(mdbmap, result_list):\n",
    "    for item in result_list:\n",
    "        artistName = item[0]\n",
    "        artistID   = item[1]\n",
    "        mcs        = item[2]\n",
    "        mdbmap.addArtist(artistName, artistID)\n",
    "        for db,mc in mcs.items():\n",
    "            matchID    = mc.matchID\n",
    "            matchScore = mc.matchScore\n",
    "            if matchID is not None:\n",
    "                mdbmap.addArtistData(artistName, artistID, db, matchID)\n",
    "\n",
    "    mdbmap.save()"
   ]
  },
  {
   "cell_type": "code",
   "execution_count": null,
   "metadata": {},
   "outputs": [],
   "source": [
    "mdbmc = masterDBMatchClass(maindb, mdbmaps)"
   ]
  },
  {
   "cell_type": "code",
   "execution_count": null,
   "metadata": {},
   "outputs": [],
   "source": [
    "toMatch   = mdbmc.getDataToMatch(\"Discogs\", maxValues=500, maxAlbums=1000)"
   ]
  },
  {
   "cell_type": "code",
   "execution_count": null,
   "metadata": {},
   "outputs": [],
   "source": [
    "toMatch"
   ]
  },
  {
   "cell_type": "code",
   "execution_count": null,
   "metadata": {},
   "outputs": [
    {
     "name": "stdout",
     "output_type": "stream",
     "text": [
      "Loading Artist Names\n",
      "Loading Artist Albums\n",
      "ToMatch   -> 2500\n",
      "MaxAlbums -> 2060\n",
      "Known     -> 34416\n",
      "Total     -> 753273\n",
      "Running imap multiprocessing for 2500 artists ...\n"
     ]
    },
    {
     "name": "stderr",
     "output_type": "stream",
     "text": [
      " 43%|████▎     | 1078/2500 [31:07<1:13:07,  3.09s/it]"
     ]
    }
   ],
   "source": [
    "mdbmc = masterDBMatchClass(maindb, mdbmaps)\n",
    "for i in range(100):\n",
    "    #for db in [\"AllMusic\", \"MusicBrainz\", \"LastFM\", \"RockCorner\", \"CDandLP\", \"RateYourMusic\", \"MusicStack\"]:\n",
    "    for db in [\"Discogs\"]: #, \"MusicBrainz\", \"LastFM\", \"RockCorner\", \"CDandLP\", \"RateYourMusic\", \"MusicStack\"]:\n",
    "        toMatch   = mdbmc.getDataToMatch(db, maxValues=2500, maxAlbums=250)\n",
    "        \n",
    "        if len(toMatch) == 0:\n",
    "            continue\n",
    "        \n",
    "\n",
    "        num_processes = 3\n",
    "        func = matchDBArtistWithAlbums\n",
    "        pfunc = partial(matchDBArtistWithAlbums, cutoff=0.95) # Giving some arguments for kwargs\n",
    "        #argument_list = list(inputs.items()) # [random.randint(0, 100) for _ in range(num_jobs)]\n",
    "        dbName = list(toMatch.keys())[0]\n",
    "        argument_list = toMatch[dbName]\n",
    "        if len(argument_list) == 0:\n",
    "            break\n",
    "        print(\"Running imap multiprocessing for {0} artists ...\".format(len(argument_list)))\n",
    "        result_list = multiProc(func=pfunc, argument_list=argument_list,\n",
    "                                               num_processes=num_processes)\n",
    "\n",
    "\n",
    "        break\n",
    "        saveMapData(mdbmaps[dbName], result_list)\n",
    "        sleep(10)\n",
    "\n",
    "        #mdbmc.matchMutualMaps()"
   ]
  },
  {
   "cell_type": "code",
   "execution_count": null,
   "metadata": {},
   "outputs": [],
   "source": [
    "result_list"
   ]
  },
  {
   "cell_type": "code",
   "execution_count": null,
   "metadata": {},
   "outputs": [],
   "source": [
    "toMatch"
   ]
  },
  {
   "cell_type": "code",
   "execution_count": null,
   "metadata": {},
   "outputs": [],
   "source": [
    "mbdf = mdbmaps[\"MusicBrainz\"].getDF().T"
   ]
  },
  {
   "cell_type": "code",
   "execution_count": null,
   "metadata": {},
   "outputs": [],
   "source": [
    "maindb.dbdata[\"MusicBrainz\"][\"Utils\"].getArtistID(\"1660fbb6-c55e-4ad3-8342-c424162c30a6\")"
   ]
  },
  {
   "cell_type": "code",
   "execution_count": null,
   "metadata": {},
   "outputs": [],
   "source": [
    "maindb.dbdata[\"MusicBrainz\"][\"Utils\"].getArtistID(\"c685765c-b778-4ed6-9035-8f7088431765\")"
   ]
  },
  {
   "cell_type": "code",
   "execution_count": null,
   "metadata": {},
   "outputs": [],
   "source": [
    "maindb.dbdata[\"MusicBrainz\"][\"Utils\"].getArtistID(\"5bf05dd4-3ac1-4b8b-b9a1-163790d10192\")"
   ]
  },
  {
   "cell_type": "code",
   "execution_count": null,
   "metadata": {},
   "outputs": [],
   "source": [
    "mdbmaps[\"MusicBrainz\"].addArtist(\"The Highwomen\", \"286831209235815715269312378569239355331\")\n",
    "mdbmaps[\"MusicBrainz\"].addArtistData(\"The Highwomen\", \"286831209235815715269312378569239355331\", \"MusicBrainz\", \"286831209235815715269312378569239355331\")\n",
    "mdbmaps[\"MusicBrainz\"].addArtistData(\"The Highwomen\", \"286831209235815715269312378569239355331\", \"AllMusic\", \"0003859078\")\n",
    "mdbmaps[\"MusicBrainz\"].save()"
   ]
  },
  {
   "cell_type": "code",
   "execution_count": null,
   "metadata": {},
   "outputs": [],
   "source": [
    "for idx in mbdf.index:\n",
    "    if idx[0].find(\"Highway\") != -1:\n",
    "        print(idx)"
   ]
  },
  {
   "cell_type": "code",
   "execution_count": null,
   "metadata": {},
   "outputs": [],
   "source": [
    "toget   = getFile(ifile=\"togetMB.p\")\n",
    "for primaryKey in toget:\n",
    "    mdbmaps[\"MusicBrainz\"].removeArtist(primaryKey[0], primaryKey[1])\n",
    "mdbmaps[\"MusicBrainz\"].save()"
   ]
  },
  {
   "cell_type": "code",
   "execution_count": null,
   "metadata": {},
   "outputs": [],
   "source": [
    "if False:\n",
    "    results = {}\n",
    "    for item in matchData[:100]:\n",
    "        print(item[0])\n",
    "        mdbMatcher.setArtistInfo(artistName, artistID, artistAlbums)\n",
    "        #mdbMatcher.findPotentialArtistNameMatches()\n",
    "        #mc = mdbMatcher.findPotentialArtistAlbumMatchesByDB('Discogs')\n",
    "        mcs = mdbMatcher.findPotentialArtistAlbumMatches()\n",
    "        results[(artistName,artistID)] = {db: [mc.matchID, mc.matchScore] for db, mc in mcs.items()}"
   ]
  },
  {
   "cell_type": "code",
   "execution_count": null,
   "metadata": {},
   "outputs": [],
   "source": [
    "df = mdbmap.getDF().T"
   ]
  },
  {
   "cell_type": "code",
   "execution_count": null,
   "metadata": {},
   "outputs": [],
   "source": [
    "from pandas import Series\n",
    "matchData  = mdbmc.getDBMatchData(\"AllMusic\")\n",
    "sortedData = Series({primaryKey: len(albums) for primaryKey,albums in matchData.items()}).sort_values(ascending=False).to_dict()"
   ]
  },
  {
   "cell_type": "code",
   "execution_count": null,
   "metadata": {},
   "outputs": [],
   "source": [
    "sortedData"
   ]
  },
  {
   "cell_type": "code",
   "execution_count": null,
   "metadata": {},
   "outputs": [],
   "source": [
    "matchData"
   ]
  }
 ],
 "metadata": {
  "kernelspec": {
   "display_name": "Python 3",
   "language": "python",
   "name": "python3"
  },
  "language_info": {
   "codemirror_mode": {
    "name": "ipython",
    "version": 3
   },
   "file_extension": ".py",
   "mimetype": "text/x-python",
   "name": "python",
   "nbconvert_exporter": "python",
   "pygments_lexer": "ipython3",
   "version": "3.7.7"
  }
 },
 "nbformat": 4,
 "nbformat_minor": 2
}
