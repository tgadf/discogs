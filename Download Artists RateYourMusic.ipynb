{
 "cells": [
  {
   "cell_type": "code",
   "execution_count": 1,
   "metadata": {},
   "outputs": [
    {
     "data": {
      "text/html": [
       "<style>.container { width:100% !important; }</style>"
      ],
      "text/plain": [
       "<IPython.core.display.HTML object>"
      ]
     },
     "metadata": {},
     "output_type": "display_data"
    },
    {
     "data": {
      "text/html": [
       "<style>div.output_area{max-height:10000px;overflow:scroll;}</style>"
      ],
      "text/plain": [
       "<IPython.core.display.HTML object>"
      ]
     },
     "metadata": {},
     "output_type": "display_data"
    },
    {
     "name": "stdout",
     "output_type": "stream",
     "text": [
      "Python: 3.7.3 (default, Mar 27 2019, 16:54:48) \n",
      "[Clang 4.0.1 (tags/RELEASE_401/final)]\n",
      "Notebook Last Run Initiated: 2020-04-12 19:37:43.324873\n"
     ]
    }
   ],
   "source": [
    "## Basic stuff\n",
    "%load_ext autoreload\n",
    "%autoreload\n",
    "from IPython.core.display import display, HTML\n",
    "display(HTML(\"<style>.container { width:100% !important; }</style>\"))\n",
    "display(HTML(\"\"\"<style>div.output_area{max-height:10000px;overflow:scroll;}</style>\"\"\"))\n",
    "\n",
    "## Python Version\n",
    "import sys\n",
    "print(\"Python: {0}\".format(sys.version))\n",
    "\n",
    "from ioUtils import saveJoblib, loadJoblib, saveFile, getFile\n",
    "import urllib\n",
    "from urllib.parse import quote\n",
    "\n",
    "from discogsBase import discogs\n",
    "from discogsUtils import rateyourmusicUtils\n",
    "from collection import collections\n",
    "from artist import artist\n",
    "from timeUtils import clock, elapsed\n",
    "from fsUtils import moveFile, setFile, setDir, setSubDir, isFile, isDir, mkDir\n",
    "from ioUtils import getFile, saveFile\n",
    "from fileUtils import getFileBasics, getBasename\n",
    "from webUtils import getWebData, getHTML, getURL\n",
    "from artistsRM import artistsRM\n",
    "from artistRM import artistRM\n",
    "from albums import albums\n",
    "from time import sleep\n",
    "import time\n",
    "from multiprocessing import Pool\n",
    "import re\n",
    "\n",
    "\n",
    "\n",
    "import datetime as dt\n",
    "start = dt.datetime.now()\n",
    "print(\"Notebook Last Run Initiated: \"+str(start))"
   ]
  },
  {
   "cell_type": "markdown",
   "metadata": {},
   "source": [
    "# Initialize"
   ]
  },
  {
   "cell_type": "code",
   "execution_count": 2,
   "metadata": {},
   "outputs": [
    {
     "name": "stdout",
     "output_type": "stream",
     "text": [
      "The autoreload extension is already loaded. To reload it, use:\n",
      "  %reload_ext autoreload\n"
     ]
    }
   ],
   "source": [
    "%load_ext autoreload\n",
    "%autoreload\n",
    "discRM = discogs('rateyourmusic')\n",
    "dutils = rateyourmusicUtils()\n",
    "artRM  = artistRM()\n",
    "artsRM = artistsRM(discRM)"
   ]
  },
  {
   "cell_type": "markdown",
   "metadata": {},
   "source": [
    "# Parse Downloads"
   ]
  },
  {
   "cell_type": "code",
   "execution_count": 3,
   "metadata": {},
   "outputs": [
    {
     "name": "stdout",
     "output_type": "stream",
     "text": [
      "Saving data to /Volumes/Biggy/Discog/artists-rateyourmusic/45/745.p\n",
      "  --> This file is 41.6kB.\n",
      "Saved data to /Volumes/Biggy/Discog/artists-rateyourmusic/45/745.p\n",
      "  --> This file is 41.6kB.\n",
      "Saving data to /Volumes/Biggy/Discog/artists-rateyourmusic/90/1390.p\n",
      "  --> This file is 39.8kB.\n",
      "Saved data to /Volumes/Biggy/Discog/artists-rateyourmusic/90/1390.p\n",
      "  --> This file is 39.8kB.\n",
      "Saving data to /Volumes/Biggy/Discog/artists-rateyourmusic/23/25423.p\n",
      "  --> This file is 25.5kB.\n",
      "Saved data to /Volumes/Biggy/Discog/artists-rateyourmusic/23/25423.p\n",
      "  --> This file is 25.5kB.\n",
      "Saving data to /Volumes/Biggy/Discog/artists-rateyourmusic/26/14626.p\n",
      "  --> This file is 28.4kB.\n",
      "Saved data to /Volumes/Biggy/Discog/artists-rateyourmusic/26/14626.p\n",
      "  --> This file is 28.4kB.\n",
      "Saving data to /Volumes/Biggy/Discog/artists-rateyourmusic/52/1247752.p\n",
      "  --> This file is 16.9kB.\n",
      "Saved data to /Volumes/Biggy/Discog/artists-rateyourmusic/52/1247752.p\n",
      "  --> This file is 16.9kB.\n",
      "Saving data to /Volumes/Biggy/Discog/artists-rateyourmusic/98/798.p\n",
      "  --> This file is 42.5kB.\n",
      "Saved data to /Volumes/Biggy/Discog/artists-rateyourmusic/98/798.p\n",
      "  --> This file is 42.5kB.\n",
      "Saving data to /Volumes/Biggy/Discog/artists-rateyourmusic/22/521822.p\n",
      "  --> This file is 22.8kB.\n",
      "Saved data to /Volumes/Biggy/Discog/artists-rateyourmusic/22/521822.p\n",
      "  --> This file is 22.8kB.\n",
      "Saving data to /Volumes/Biggy/Discog/artists-rateyourmusic/4/2604.p\n",
      "  --> This file is 36.8kB.\n",
      "Saved data to /Volumes/Biggy/Discog/artists-rateyourmusic/4/2604.p\n",
      "  --> This file is 36.8kB.\n",
      "Saving data to /Volumes/Biggy/Discog/artists-rateyourmusic/88/8688.p\n",
      "  --> This file is 27.8kB.\n",
      "Saved data to /Volumes/Biggy/Discog/artists-rateyourmusic/88/8688.p\n",
      "  --> This file is 27.8kB.\n",
      "Saving data to /Volumes/Biggy/Discog/artists-rateyourmusic/98/98.p\n",
      "  --> This file is 39.7kB.\n",
      "Saved data to /Volumes/Biggy/Discog/artists-rateyourmusic/98/98.p\n",
      "  --> This file is 39.7kB.\n",
      "Saving data to /Volumes/Biggy/Discog/artists-rateyourmusic/74/2574.p\n",
      "  --> This file is 41.4kB.\n",
      "Saved data to /Volumes/Biggy/Discog/artists-rateyourmusic/74/2574.p\n",
      "  --> This file is 41.4kB.\n",
      "Saving data to /Volumes/Biggy/Discog/artists-rateyourmusic/60/726860.p\n",
      "  --> This file is 36.2kB.\n",
      "Saved data to /Volumes/Biggy/Discog/artists-rateyourmusic/60/726860.p\n",
      "  --> This file is 36.2kB.\n",
      "Saving data to /Volumes/Biggy/Discog/artists-rateyourmusic/66/1666.p\n",
      "  --> This file is 43.6kB.\n",
      "Saved data to /Volumes/Biggy/Discog/artists-rateyourmusic/66/1666.p\n",
      "  --> This file is 43.6kB.\n",
      "Saving data to /Volumes/Biggy/Discog/artists-rateyourmusic/89/789.p\n",
      "  --> This file is 46.6kB.\n",
      "Saved data to /Volumes/Biggy/Discog/artists-rateyourmusic/89/789.p\n",
      "  --> This file is 46.6kB.\n",
      "Saving data to /Volumes/Biggy/Discog/artists-rateyourmusic/10/7410.p\n",
      "  --> This file is 39.7kB.\n",
      "Saved data to /Volumes/Biggy/Discog/artists-rateyourmusic/10/7410.p\n",
      "  --> This file is 39.7kB.\n",
      "Saving data to /Volumes/Biggy/Discog/artists-rateyourmusic/41/87341.p\n",
      "  --> This file is 16.8kB.\n",
      "Saved data to /Volumes/Biggy/Discog/artists-rateyourmusic/41/87341.p\n",
      "  --> This file is 16.8kB.\n",
      "Saving data to /Volumes/Biggy/Discog/artists-rateyourmusic/16/417216.p\n",
      "  --> This file is 20.1kB.\n",
      "Saved data to /Volumes/Biggy/Discog/artists-rateyourmusic/16/417216.p\n",
      "  --> This file is 20.1kB.\n",
      "Saving data to /Volumes/Biggy/Discog/artists-rateyourmusic/50/2650.p\n",
      "  --> This file is 39.3kB.\n",
      "Saved data to /Volumes/Biggy/Discog/artists-rateyourmusic/50/2650.p\n",
      "  --> This file is 39.3kB.\n",
      "Saving data to /Volumes/Biggy/Discog/artists-rateyourmusic/3/503.p\n",
      "  --> This file is 43.1kB.\n",
      "Saved data to /Volumes/Biggy/Discog/artists-rateyourmusic/3/503.p\n",
      "  --> This file is 43.1kB.\n",
      "Saving data to /Volumes/Biggy/Discog/artists-rateyourmusic/0/755800.p\n",
      "  --> This file is 22.5kB.\n",
      "Saved data to /Volumes/Biggy/Discog/artists-rateyourmusic/0/755800.p\n",
      "  --> This file is 22.5kB.\n",
      "Saving data to /Volumes/Biggy/Discog/artists-rateyourmusic/76/4876.p\n",
      "  --> This file is 42.7kB.\n",
      "Saved data to /Volumes/Biggy/Discog/artists-rateyourmusic/76/4876.p\n",
      "  --> This file is 42.7kB.\n",
      "Saving data to /Volumes/Biggy/Discog/artists-rateyourmusic/28/828.p\n",
      "  --> This file is 31.4kB.\n",
      "Saved data to /Volumes/Biggy/Discog/artists-rateyourmusic/28/828.p\n",
      "  --> This file is 31.4kB.\n",
      "Saving data to /Volumes/Biggy/Discog/artists-rateyourmusic/56/56.p\n",
      "  --> This file is 46.0kB.\n",
      "Saved data to /Volumes/Biggy/Discog/artists-rateyourmusic/56/56.p\n",
      "  --> This file is 46.0kB.\n",
      "Saving data to /Volumes/Biggy/Discog/artists-rateyourmusic/92/492.p\n",
      "  --> This file is 32.4kB.\n",
      "Saved data to /Volumes/Biggy/Discog/artists-rateyourmusic/92/492.p\n",
      "  --> This file is 32.4kB.\n",
      "Saving data to /Volumes/Biggy/Discog/artists-rateyourmusic/9/12309.p\n",
      "  --> This file is 29.1kB.\n",
      "Saved data to /Volumes/Biggy/Discog/artists-rateyourmusic/9/12309.p\n",
      "  --> This file is 29.1kB.\n",
      "Saving data to /Volumes/Biggy/Discog/artists-rateyourmusic/33/807933.p\n",
      "  --> This file is 17.1kB.\n",
      "Saved data to /Volumes/Biggy/Discog/artists-rateyourmusic/33/807933.p\n",
      "  --> This file is 17.1kB.\n",
      "Saving data to /Volumes/Biggy/Discog/artists-rateyourmusic/16/416.p\n",
      "  --> This file is 47.4kB.\n",
      "Saved data to /Volumes/Biggy/Discog/artists-rateyourmusic/16/416.p\n",
      "  --> This file is 47.4kB.\n",
      "Saving data to /Volumes/Biggy/Discog/artists-rateyourmusic/48/548.p\n",
      "  --> This file is 44.1kB.\n",
      "Saved data to /Volumes/Biggy/Discog/artists-rateyourmusic/48/548.p\n",
      "  --> This file is 44.1kB.\n",
      "Saving data to /Volumes/Biggy/Discog/artists-rateyourmusic/33/10933.p\n",
      "  --> This file is 37.3kB.\n",
      "Saved data to /Volumes/Biggy/Discog/artists-rateyourmusic/33/10933.p\n",
      "  --> This file is 37.3kB.\n",
      "Saving data to /Volumes/Biggy/Discog/artists-rateyourmusic/43/5343.p\n",
      "  --> This file is 36.3kB.\n",
      "Saved data to /Volumes/Biggy/Discog/artists-rateyourmusic/43/5343.p\n",
      "  --> This file is 36.3kB.\n",
      "Saving data to /Volumes/Biggy/Discog/artists-rateyourmusic/21/721.p\n",
      "  --> This file is 43.2kB.\n",
      "Saved data to /Volumes/Biggy/Discog/artists-rateyourmusic/21/721.p\n",
      "  --> This file is 43.2kB.\n",
      "Saving data to /Volumes/Biggy/Discog/artists-rateyourmusic/42/4842.p\n",
      "  --> This file is 41.2kB.\n",
      "Saved data to /Volumes/Biggy/Discog/artists-rateyourmusic/42/4842.p\n",
      "  --> This file is 41.2kB.\n",
      "Saving data to /Volumes/Biggy/Discog/artists-rateyourmusic/57/557.p\n",
      "  --> This file is 46.2kB.\n",
      "Saved data to /Volumes/Biggy/Discog/artists-rateyourmusic/57/557.p\n",
      "  --> This file is 46.2kB.\n",
      "Saving data to /Volumes/Biggy/Discog/artists-rateyourmusic/86/13586.p\n",
      "  --> This file is 31.1kB.\n",
      "Saved data to /Volumes/Biggy/Discog/artists-rateyourmusic/86/13586.p\n",
      "  --> This file is 31.1kB.\n",
      "Saving data to /Volumes/Biggy/Discog/artists-rateyourmusic/82/3482.p\n",
      "  --> This file is 39.6kB.\n",
      "Saved data to /Volumes/Biggy/Discog/artists-rateyourmusic/82/3482.p\n",
      "  --> This file is 39.6kB.\n",
      "Saving data to /Volumes/Biggy/Discog/artists-rateyourmusic/45/963345.p\n",
      "  --> This file is 24.3kB.\n",
      "Saved data to /Volumes/Biggy/Discog/artists-rateyourmusic/45/963345.p\n",
      "  --> This file is 24.3kB.\n",
      "Saving data to /Volumes/Biggy/Discog/artists-rateyourmusic/77/7777.p\n",
      "  --> This file is 32.0kB.\n",
      "Saved data to /Volumes/Biggy/Discog/artists-rateyourmusic/77/7777.p\n",
      "  --> This file is 32.0kB.\n",
      "Saving data to /Volumes/Biggy/Discog/artists-rateyourmusic/47/23347.p\n",
      "  --> This file is 22.7kB.\n",
      "Saved data to /Volumes/Biggy/Discog/artists-rateyourmusic/47/23347.p\n",
      "  --> This file is 22.7kB.\n",
      "Saving data to /Volumes/Biggy/Discog/artists-rateyourmusic/77/13977.p\n",
      "  --> This file is 37.3kB.\n",
      "Saved data to /Volumes/Biggy/Discog/artists-rateyourmusic/77/13977.p\n",
      "  --> This file is 37.3kB.\n",
      "Saving data to /Volumes/Biggy/Discog/artists-rateyourmusic/27/3127.p\n",
      "  --> This file is 38.5kB.\n",
      "Saved data to /Volumes/Biggy/Discog/artists-rateyourmusic/27/3127.p\n",
      "  --> This file is 38.5kB.\n",
      "Saving data to /Volumes/Biggy/Discog/artists-rateyourmusic/72/472.p\n",
      "  --> This file is 43.1kB.\n",
      "Saved data to /Volumes/Biggy/Discog/artists-rateyourmusic/72/472.p\n",
      "  --> This file is 43.1kB.\n",
      "Saving data to /Volumes/Biggy/Discog/artists-rateyourmusic/85/185.p\n",
      "  --> This file is 44.8kB.\n",
      "Saved data to /Volumes/Biggy/Discog/artists-rateyourmusic/85/185.p\n",
      "  --> This file is 44.8kB.\n",
      "Saving data to /Volumes/Biggy/Discog/artists-rateyourmusic/18/54218.p\n",
      "  --> This file is 27.6kB.\n",
      "Saved data to /Volumes/Biggy/Discog/artists-rateyourmusic/18/54218.p\n",
      "  --> This file is 27.6kB.\n"
     ]
    },
    {
     "name": "stdout",
     "output_type": "stream",
     "text": [
      "Saving data to /Volumes/Biggy/Discog/artists-rateyourmusic/8/8.p\n",
      "  --> This file is 53.5kB.\n",
      "Saved data to /Volumes/Biggy/Discog/artists-rateyourmusic/8/8.p\n",
      "  --> This file is 53.5kB.\n",
      "Saving data to /Volumes/Biggy/Discog/artists-rateyourmusic/60/3360.p\n",
      "  --> This file is 25.0kB.\n",
      "Saved data to /Volumes/Biggy/Discog/artists-rateyourmusic/60/3360.p\n",
      "  --> This file is 25.0kB.\n",
      "Saving data to /Volumes/Biggy/Discog/artists-rateyourmusic/96/42496.p\n",
      "  --> This file is 17.5kB.\n",
      "Saved data to /Volumes/Biggy/Discog/artists-rateyourmusic/96/42496.p\n",
      "  --> This file is 17.5kB.\n",
      "Saving data to /Volumes/Biggy/Discog/artists-rateyourmusic/0/8700.p\n",
      "  --> This file is 37.7kB.\n",
      "Saved data to /Volumes/Biggy/Discog/artists-rateyourmusic/0/8700.p\n",
      "  --> This file is 37.7kB.\n",
      "Saving data to /Volumes/Biggy/Discog/artists-rateyourmusic/64/195164.p\n",
      "  --> This file is 18.2kB.\n",
      "Saved data to /Volumes/Biggy/Discog/artists-rateyourmusic/64/195164.p\n",
      "  --> This file is 18.2kB.\n",
      "Saving data to /Volumes/Biggy/Discog/artists-rateyourmusic/65/665.p\n",
      "  --> This file is 44.6kB.\n",
      "Saved data to /Volumes/Biggy/Discog/artists-rateyourmusic/65/665.p\n",
      "  --> This file is 44.6kB.\n",
      "Saving data to /Volumes/Biggy/Discog/artists-rateyourmusic/18/5918.p\n",
      "  --> This file is 50.8kB.\n",
      "Saved data to /Volumes/Biggy/Discog/artists-rateyourmusic/18/5918.p\n",
      "  --> This file is 50.8kB.\n",
      "Saving data to /Volumes/Biggy/Discog/artists-rateyourmusic/95/895.p\n",
      "  --> This file is 42.9kB.\n",
      "Saved data to /Volumes/Biggy/Discog/artists-rateyourmusic/95/895.p\n",
      "  --> This file is 42.9kB.\n",
      "Saving data to /Volumes/Biggy/Discog/artists-rateyourmusic/68/15868.p\n",
      "  --> This file is 27.6kB.\n",
      "Saved data to /Volumes/Biggy/Discog/artists-rateyourmusic/68/15868.p\n",
      "  --> This file is 27.6kB.\n",
      "Saving data to /Volumes/Biggy/Discog/artists-rateyourmusic/0/7900.p\n",
      "  --> This file is 41.0kB.\n",
      "Saved data to /Volumes/Biggy/Discog/artists-rateyourmusic/0/7900.p\n",
      "  --> This file is 41.0kB.\n"
     ]
    }
   ],
   "source": [
    "from ioUtils import getFile, saveFile\n",
    "from searchUtils import findPatternExt\n",
    "\n",
    "artRM = artistRM()\n",
    "files = findPatternExt(\"/Volumes/Biggy/Discog/artists-rateyourmusic/data/\", pattern=\"Rate Your Music\", ext=\".html\")\n",
    "for ifile in files:\n",
    "    htmldata = getFile(ifile)\n",
    "    retval = artRM.getData(ifile)\n",
    "    artistID = retval.ID.ID\n",
    "    savename = artsRM.getArtistSavename(artistID)\n",
    "    saveFile(idata=htmldata, ifile=savename, debug=True)"
   ]
  },
  {
   "cell_type": "markdown",
   "metadata": {},
   "source": [
    "# Download Known Artists"
   ]
  },
  {
   "cell_type": "code",
   "execution_count": 46,
   "metadata": {},
   "outputs": [
    {
     "name": "stdout",
     "output_type": "stream",
     "text": [
      "Found 3942 entries\n"
     ]
    }
   ],
   "source": [
    "def getMyMusicDBMap():\n",
    "    myMusicMap = getFile(ifile=\"/Users/tgadfort/Documents/code/music/myMusicMap.p\")\n",
    "    print(\"Found {0} entries\".format(len(myMusicMap)))\n",
    "    return myMusicMap\n",
    "\n",
    "myMusicMap = getMyMusicDBMap()"
   ]
  },
  {
   "cell_type": "code",
   "execution_count": 53,
   "metadata": {},
   "outputs": [],
   "source": [
    "def downloadSearchResults(maxI=-1):\n",
    "    for i,artistName in enumerate(myMusicMap.keys()):\n",
    "        if i <= maxI:\n",
    "            continue\n",
    "        print(\"====>\",i,\"/\",len(myMusicMap),\"  : \",artistName)\n",
    "        artsRM.searchRateYourMusicForArtist(artistName, sleeptime=10)\n",
    "        break\n",
    "        sleep(5)"
   ]
  },
  {
   "cell_type": "code",
   "execution_count": 45,
   "metadata": {},
   "outputs": [],
   "source": [
    "#downloadSearchResults(3)"
   ]
  },
  {
   "cell_type": "code",
   "execution_count": null,
   "metadata": {},
   "outputs": [],
   "source": [
    "%load_ext autoreload\n",
    "%autoreload\n",
    "discRM = discogs('rateyourmusic')\n",
    "dutils = rateyourmusicUtils()\n",
    "artsRM = artistsRM(discRM)\n",
    "artRM  = artistRM()\n",
    "\n",
    "retval = artRM.getData(\"rym.p\")"
   ]
  },
  {
   "cell_type": "code",
   "execution_count": 52,
   "metadata": {},
   "outputs": [
    {
     "name": "stdout",
     "output_type": "stream",
     "text": [
      "\n",
      "\n",
      "===================== Searching For Beatles =====================\n",
      "\tSearch URL: https://rateyourmusic.com/search?searchtype=a&searchterm=Beatles\n"
     ]
    },
    {
     "ename": "HTTPError",
     "evalue": "HTTP Error 503: Service Unavailable",
     "output_type": "error",
     "traceback": [
      "\u001b[0;31m---------------------------------------------------------------------------\u001b[0m",
      "\u001b[0;31mHTTPError\u001b[0m                                 Traceback (most recent call last)",
      "\u001b[0;32m<ipython-input-52-68a4e8b5af86>\u001b[0m in \u001b[0;36m<module>\u001b[0;34m\u001b[0m\n\u001b[0;32m----> 1\u001b[0;31m \u001b[0martsRM\u001b[0m\u001b[0;34m.\u001b[0m\u001b[0msearchRateYourMusicForArtist\u001b[0m\u001b[0;34m(\u001b[0m\u001b[0;34m\"Beatles\"\u001b[0m\u001b[0;34m)\u001b[0m\u001b[0;34m\u001b[0m\u001b[0;34m\u001b[0m\u001b[0m\n\u001b[0m",
      "\u001b[0;32m~/Documents/code/discogs/artistsRM.py\u001b[0m in \u001b[0;36msearchRateYourMusicForArtist\u001b[0;34m(self, artist, debug, sleeptime)\u001b[0m\n\u001b[1;32m    207\u001b[0m \u001b[0;34m\u001b[0m\u001b[0m\n\u001b[1;32m    208\u001b[0m         \u001b[0;31m## Download data\u001b[0m\u001b[0;34m\u001b[0m\u001b[0;34m\u001b[0m\u001b[0;34m\u001b[0m\u001b[0m\n\u001b[0;32m--> 209\u001b[0;31m         \u001b[0mdata\u001b[0m\u001b[0;34m,\u001b[0m \u001b[0mresponse\u001b[0m \u001b[0;34m=\u001b[0m \u001b[0mself\u001b[0m\u001b[0;34m.\u001b[0m\u001b[0mdownloadURL\u001b[0m\u001b[0;34m(\u001b[0m\u001b[0murl\u001b[0m\u001b[0;34m)\u001b[0m\u001b[0;34m\u001b[0m\u001b[0;34m\u001b[0m\u001b[0m\n\u001b[0m\u001b[1;32m    210\u001b[0m         \u001b[0;32mif\u001b[0m \u001b[0mresponse\u001b[0m \u001b[0;34m!=\u001b[0m \u001b[0;36m200\u001b[0m\u001b[0;34m:\u001b[0m\u001b[0;34m\u001b[0m\u001b[0;34m\u001b[0m\u001b[0m\n\u001b[1;32m    211\u001b[0m             \u001b[0mprint\u001b[0m\u001b[0;34m(\u001b[0m\u001b[0;34m\"Error downloading {0}\"\u001b[0m\u001b[0;34m.\u001b[0m\u001b[0mformat\u001b[0m\u001b[0;34m(\u001b[0m\u001b[0murl\u001b[0m\u001b[0;34m)\u001b[0m\u001b[0;34m)\u001b[0m\u001b[0;34m\u001b[0m\u001b[0;34m\u001b[0m\u001b[0m\n",
      "\u001b[0;32m~/Documents/code/discogs/artistsRM.py\u001b[0m in \u001b[0;36mdownloadURL\u001b[0;34m(self, url, debug)\u001b[0m\n\u001b[1;32m    118\u001b[0m \u001b[0;34m\u001b[0m\u001b[0m\n\u001b[1;32m    119\u001b[0m         \u001b[0mrequest\u001b[0m\u001b[0;34m=\u001b[0m\u001b[0murllib\u001b[0m\u001b[0;34m.\u001b[0m\u001b[0mrequest\u001b[0m\u001b[0;34m.\u001b[0m\u001b[0mRequest\u001b[0m\u001b[0;34m(\u001b[0m\u001b[0murl\u001b[0m\u001b[0;34m,\u001b[0m\u001b[0;32mNone\u001b[0m\u001b[0;34m,\u001b[0m\u001b[0mheaders\u001b[0m\u001b[0;34m)\u001b[0m \u001b[0;31m#The assembled request\u001b[0m\u001b[0;34m\u001b[0m\u001b[0;34m\u001b[0m\u001b[0m\n\u001b[0;32m--> 120\u001b[0;31m         \u001b[0mresponse\u001b[0m \u001b[0;34m=\u001b[0m \u001b[0murllib\u001b[0m\u001b[0;34m.\u001b[0m\u001b[0mrequest\u001b[0m\u001b[0;34m.\u001b[0m\u001b[0murlopen\u001b[0m\u001b[0;34m(\u001b[0m\u001b[0mrequest\u001b[0m\u001b[0;34m)\u001b[0m\u001b[0;34m\u001b[0m\u001b[0;34m\u001b[0m\u001b[0m\n\u001b[0m\u001b[1;32m    121\u001b[0m         \u001b[0mdata\u001b[0m \u001b[0;34m=\u001b[0m \u001b[0mresponse\u001b[0m\u001b[0;34m.\u001b[0m\u001b[0mread\u001b[0m\u001b[0;34m(\u001b[0m\u001b[0;34m)\u001b[0m \u001b[0;31m# The data u need\u001b[0m\u001b[0;34m\u001b[0m\u001b[0;34m\u001b[0m\u001b[0m\n\u001b[1;32m    122\u001b[0m \u001b[0;34m\u001b[0m\u001b[0m\n",
      "\u001b[0;32m/anaconda3/envs/py37/lib/python3.7/urllib/request.py\u001b[0m in \u001b[0;36murlopen\u001b[0;34m(url, data, timeout, cafile, capath, cadefault, context)\u001b[0m\n\u001b[1;32m    220\u001b[0m     \u001b[0;32melse\u001b[0m\u001b[0;34m:\u001b[0m\u001b[0;34m\u001b[0m\u001b[0;34m\u001b[0m\u001b[0m\n\u001b[1;32m    221\u001b[0m         \u001b[0mopener\u001b[0m \u001b[0;34m=\u001b[0m \u001b[0m_opener\u001b[0m\u001b[0;34m\u001b[0m\u001b[0;34m\u001b[0m\u001b[0m\n\u001b[0;32m--> 222\u001b[0;31m     \u001b[0;32mreturn\u001b[0m \u001b[0mopener\u001b[0m\u001b[0;34m.\u001b[0m\u001b[0mopen\u001b[0m\u001b[0;34m(\u001b[0m\u001b[0murl\u001b[0m\u001b[0;34m,\u001b[0m \u001b[0mdata\u001b[0m\u001b[0;34m,\u001b[0m \u001b[0mtimeout\u001b[0m\u001b[0;34m)\u001b[0m\u001b[0;34m\u001b[0m\u001b[0;34m\u001b[0m\u001b[0m\n\u001b[0m\u001b[1;32m    223\u001b[0m \u001b[0;34m\u001b[0m\u001b[0m\n\u001b[1;32m    224\u001b[0m \u001b[0;32mdef\u001b[0m \u001b[0minstall_opener\u001b[0m\u001b[0;34m(\u001b[0m\u001b[0mopener\u001b[0m\u001b[0;34m)\u001b[0m\u001b[0;34m:\u001b[0m\u001b[0;34m\u001b[0m\u001b[0;34m\u001b[0m\u001b[0m\n",
      "\u001b[0;32m/anaconda3/envs/py37/lib/python3.7/urllib/request.py\u001b[0m in \u001b[0;36mopen\u001b[0;34m(self, fullurl, data, timeout)\u001b[0m\n\u001b[1;32m    529\u001b[0m         \u001b[0;32mfor\u001b[0m \u001b[0mprocessor\u001b[0m \u001b[0;32min\u001b[0m \u001b[0mself\u001b[0m\u001b[0;34m.\u001b[0m\u001b[0mprocess_response\u001b[0m\u001b[0;34m.\u001b[0m\u001b[0mget\u001b[0m\u001b[0;34m(\u001b[0m\u001b[0mprotocol\u001b[0m\u001b[0;34m,\u001b[0m \u001b[0;34m[\u001b[0m\u001b[0;34m]\u001b[0m\u001b[0;34m)\u001b[0m\u001b[0;34m:\u001b[0m\u001b[0;34m\u001b[0m\u001b[0;34m\u001b[0m\u001b[0m\n\u001b[1;32m    530\u001b[0m             \u001b[0mmeth\u001b[0m \u001b[0;34m=\u001b[0m \u001b[0mgetattr\u001b[0m\u001b[0;34m(\u001b[0m\u001b[0mprocessor\u001b[0m\u001b[0;34m,\u001b[0m \u001b[0mmeth_name\u001b[0m\u001b[0;34m)\u001b[0m\u001b[0;34m\u001b[0m\u001b[0;34m\u001b[0m\u001b[0m\n\u001b[0;32m--> 531\u001b[0;31m             \u001b[0mresponse\u001b[0m \u001b[0;34m=\u001b[0m \u001b[0mmeth\u001b[0m\u001b[0;34m(\u001b[0m\u001b[0mreq\u001b[0m\u001b[0;34m,\u001b[0m \u001b[0mresponse\u001b[0m\u001b[0;34m)\u001b[0m\u001b[0;34m\u001b[0m\u001b[0;34m\u001b[0m\u001b[0m\n\u001b[0m\u001b[1;32m    532\u001b[0m \u001b[0;34m\u001b[0m\u001b[0m\n\u001b[1;32m    533\u001b[0m         \u001b[0;32mreturn\u001b[0m \u001b[0mresponse\u001b[0m\u001b[0;34m\u001b[0m\u001b[0;34m\u001b[0m\u001b[0m\n",
      "\u001b[0;32m/anaconda3/envs/py37/lib/python3.7/urllib/request.py\u001b[0m in \u001b[0;36mhttp_response\u001b[0;34m(self, request, response)\u001b[0m\n\u001b[1;32m    639\u001b[0m         \u001b[0;32mif\u001b[0m \u001b[0;32mnot\u001b[0m \u001b[0;34m(\u001b[0m\u001b[0;36m200\u001b[0m \u001b[0;34m<=\u001b[0m \u001b[0mcode\u001b[0m \u001b[0;34m<\u001b[0m \u001b[0;36m300\u001b[0m\u001b[0;34m)\u001b[0m\u001b[0;34m:\u001b[0m\u001b[0;34m\u001b[0m\u001b[0;34m\u001b[0m\u001b[0m\n\u001b[1;32m    640\u001b[0m             response = self.parent.error(\n\u001b[0;32m--> 641\u001b[0;31m                 'http', request, response, code, msg, hdrs)\n\u001b[0m\u001b[1;32m    642\u001b[0m \u001b[0;34m\u001b[0m\u001b[0m\n\u001b[1;32m    643\u001b[0m         \u001b[0;32mreturn\u001b[0m \u001b[0mresponse\u001b[0m\u001b[0;34m\u001b[0m\u001b[0;34m\u001b[0m\u001b[0m\n",
      "\u001b[0;32m/anaconda3/envs/py37/lib/python3.7/urllib/request.py\u001b[0m in \u001b[0;36merror\u001b[0;34m(self, proto, *args)\u001b[0m\n\u001b[1;32m    567\u001b[0m         \u001b[0;32mif\u001b[0m \u001b[0mhttp_err\u001b[0m\u001b[0;34m:\u001b[0m\u001b[0;34m\u001b[0m\u001b[0;34m\u001b[0m\u001b[0m\n\u001b[1;32m    568\u001b[0m             \u001b[0margs\u001b[0m \u001b[0;34m=\u001b[0m \u001b[0;34m(\u001b[0m\u001b[0mdict\u001b[0m\u001b[0;34m,\u001b[0m \u001b[0;34m'default'\u001b[0m\u001b[0;34m,\u001b[0m \u001b[0;34m'http_error_default'\u001b[0m\u001b[0;34m)\u001b[0m \u001b[0;34m+\u001b[0m \u001b[0morig_args\u001b[0m\u001b[0;34m\u001b[0m\u001b[0;34m\u001b[0m\u001b[0m\n\u001b[0;32m--> 569\u001b[0;31m             \u001b[0;32mreturn\u001b[0m \u001b[0mself\u001b[0m\u001b[0;34m.\u001b[0m\u001b[0m_call_chain\u001b[0m\u001b[0;34m(\u001b[0m\u001b[0;34m*\u001b[0m\u001b[0margs\u001b[0m\u001b[0;34m)\u001b[0m\u001b[0;34m\u001b[0m\u001b[0;34m\u001b[0m\u001b[0m\n\u001b[0m\u001b[1;32m    570\u001b[0m \u001b[0;34m\u001b[0m\u001b[0m\n\u001b[1;32m    571\u001b[0m \u001b[0;31m# XXX probably also want an abstract factory that knows when it makes\u001b[0m\u001b[0;34m\u001b[0m\u001b[0;34m\u001b[0m\u001b[0;34m\u001b[0m\u001b[0m\n",
      "\u001b[0;32m/anaconda3/envs/py37/lib/python3.7/urllib/request.py\u001b[0m in \u001b[0;36m_call_chain\u001b[0;34m(self, chain, kind, meth_name, *args)\u001b[0m\n\u001b[1;32m    501\u001b[0m         \u001b[0;32mfor\u001b[0m \u001b[0mhandler\u001b[0m \u001b[0;32min\u001b[0m \u001b[0mhandlers\u001b[0m\u001b[0;34m:\u001b[0m\u001b[0;34m\u001b[0m\u001b[0;34m\u001b[0m\u001b[0m\n\u001b[1;32m    502\u001b[0m             \u001b[0mfunc\u001b[0m \u001b[0;34m=\u001b[0m \u001b[0mgetattr\u001b[0m\u001b[0;34m(\u001b[0m\u001b[0mhandler\u001b[0m\u001b[0;34m,\u001b[0m \u001b[0mmeth_name\u001b[0m\u001b[0;34m)\u001b[0m\u001b[0;34m\u001b[0m\u001b[0;34m\u001b[0m\u001b[0m\n\u001b[0;32m--> 503\u001b[0;31m             \u001b[0mresult\u001b[0m \u001b[0;34m=\u001b[0m \u001b[0mfunc\u001b[0m\u001b[0;34m(\u001b[0m\u001b[0;34m*\u001b[0m\u001b[0margs\u001b[0m\u001b[0;34m)\u001b[0m\u001b[0;34m\u001b[0m\u001b[0;34m\u001b[0m\u001b[0m\n\u001b[0m\u001b[1;32m    504\u001b[0m             \u001b[0;32mif\u001b[0m \u001b[0mresult\u001b[0m \u001b[0;32mis\u001b[0m \u001b[0;32mnot\u001b[0m \u001b[0;32mNone\u001b[0m\u001b[0;34m:\u001b[0m\u001b[0;34m\u001b[0m\u001b[0;34m\u001b[0m\u001b[0m\n\u001b[1;32m    505\u001b[0m                 \u001b[0;32mreturn\u001b[0m \u001b[0mresult\u001b[0m\u001b[0;34m\u001b[0m\u001b[0;34m\u001b[0m\u001b[0m\n",
      "\u001b[0;32m/anaconda3/envs/py37/lib/python3.7/urllib/request.py\u001b[0m in \u001b[0;36mhttp_error_default\u001b[0;34m(self, req, fp, code, msg, hdrs)\u001b[0m\n\u001b[1;32m    647\u001b[0m \u001b[0;32mclass\u001b[0m \u001b[0mHTTPDefaultErrorHandler\u001b[0m\u001b[0;34m(\u001b[0m\u001b[0mBaseHandler\u001b[0m\u001b[0;34m)\u001b[0m\u001b[0;34m:\u001b[0m\u001b[0;34m\u001b[0m\u001b[0;34m\u001b[0m\u001b[0m\n\u001b[1;32m    648\u001b[0m     \u001b[0;32mdef\u001b[0m \u001b[0mhttp_error_default\u001b[0m\u001b[0;34m(\u001b[0m\u001b[0mself\u001b[0m\u001b[0;34m,\u001b[0m \u001b[0mreq\u001b[0m\u001b[0;34m,\u001b[0m \u001b[0mfp\u001b[0m\u001b[0;34m,\u001b[0m \u001b[0mcode\u001b[0m\u001b[0;34m,\u001b[0m \u001b[0mmsg\u001b[0m\u001b[0;34m,\u001b[0m \u001b[0mhdrs\u001b[0m\u001b[0;34m)\u001b[0m\u001b[0;34m:\u001b[0m\u001b[0;34m\u001b[0m\u001b[0;34m\u001b[0m\u001b[0m\n\u001b[0;32m--> 649\u001b[0;31m         \u001b[0;32mraise\u001b[0m \u001b[0mHTTPError\u001b[0m\u001b[0;34m(\u001b[0m\u001b[0mreq\u001b[0m\u001b[0;34m.\u001b[0m\u001b[0mfull_url\u001b[0m\u001b[0;34m,\u001b[0m \u001b[0mcode\u001b[0m\u001b[0;34m,\u001b[0m \u001b[0mmsg\u001b[0m\u001b[0;34m,\u001b[0m \u001b[0mhdrs\u001b[0m\u001b[0;34m,\u001b[0m \u001b[0mfp\u001b[0m\u001b[0;34m)\u001b[0m\u001b[0;34m\u001b[0m\u001b[0;34m\u001b[0m\u001b[0m\n\u001b[0m\u001b[1;32m    650\u001b[0m \u001b[0;34m\u001b[0m\u001b[0m\n\u001b[1;32m    651\u001b[0m \u001b[0;32mclass\u001b[0m \u001b[0mHTTPRedirectHandler\u001b[0m\u001b[0;34m(\u001b[0m\u001b[0mBaseHandler\u001b[0m\u001b[0;34m)\u001b[0m\u001b[0;34m:\u001b[0m\u001b[0;34m\u001b[0m\u001b[0;34m\u001b[0m\u001b[0m\n",
      "\u001b[0;31mHTTPError\u001b[0m: HTTP Error 503: Service Unavailable"
     ]
    }
   ],
   "source": [
    "artsRM.searchRateYourMusicForArtist(\"Beatles\")"
   ]
  },
  {
   "cell_type": "code",
   "execution_count": null,
   "metadata": {},
   "outputs": [],
   "source": [
    "retval.artist.get()"
   ]
  },
  {
   "cell_type": "code",
   "execution_count": null,
   "metadata": {},
   "outputs": [],
   "source": [
    "retval.url.get()"
   ]
  },
  {
   "cell_type": "code",
   "execution_count": null,
   "metadata": {},
   "outputs": [],
   "source": [
    "retval.ID.get()"
   ]
  },
  {
   "cell_type": "code",
   "execution_count": null,
   "metadata": {},
   "outputs": [],
   "source": [
    "retval.profile.get()"
   ]
  },
  {
   "cell_type": "code",
   "execution_count": null,
   "metadata": {},
   "outputs": [],
   "source": [
    "for mediaType,mediaTypeData in retval.media.media.items():\n",
    "    for album in mediaTypeData:\n",
    "        print(mediaType,'\\t',album.get())"
   ]
  },
  {
   "cell_type": "code",
   "execution_count": null,
   "metadata": {},
   "outputs": [],
   "source": [
    "retval.mediaCounts.get()"
   ]
  },
  {
   "cell_type": "code",
   "execution_count": null,
   "metadata": {},
   "outputs": [],
   "source": []
  },
  {
   "cell_type": "code",
   "execution_count": null,
   "metadata": {},
   "outputs": [],
   "source": []
  },
  {
   "cell_type": "code",
   "execution_count": 40,
   "metadata": {},
   "outputs": [],
   "source": []
  },
  {
   "cell_type": "code",
   "execution_count": 44,
   "metadata": {},
   "outputs": [
    {
     "name": "stdout",
     "output_type": "stream",
     "text": [
      "Saving data to /Volumes/Biggy/Discog/artists-rateyourmusic/45/745.p\n",
      "  --> This file is 41.6kB.\n",
      "Saved data to /Volumes/Biggy/Discog/artists-rateyourmusic/45/745.p\n",
      "  --> This file is 41.6kB.\n",
      "Saving data to /Volumes/Biggy/Discog/artists-rateyourmusic/23/25423.p\n",
      "  --> This file is 25.5kB.\n",
      "Saved data to /Volumes/Biggy/Discog/artists-rateyourmusic/23/25423.p\n",
      "  --> This file is 25.5kB.\n",
      "Saving data to /Volumes/Biggy/Discog/artists-rateyourmusic/52/1247752.p\n",
      "  --> This file is 16.9kB.\n",
      "Saved data to /Volumes/Biggy/Discog/artists-rateyourmusic/52/1247752.p\n",
      "  --> This file is 16.9kB.\n",
      "Saving data to /Volumes/Biggy/Discog/artists-rateyourmusic/22/521822.p\n",
      "  --> This file is 22.8kB.\n",
      "Saved data to /Volumes/Biggy/Discog/artists-rateyourmusic/22/521822.p\n",
      "  --> This file is 22.8kB.\n",
      "Saving data to /Volumes/Biggy/Discog/artists-rateyourmusic/88/8688.p\n",
      "  --> This file is 27.8kB.\n",
      "Saved data to /Volumes/Biggy/Discog/artists-rateyourmusic/88/8688.p\n",
      "  --> This file is 27.8kB.\n",
      "Saving data to /Volumes/Biggy/Discog/artists-rateyourmusic/98/98.p\n",
      "  --> This file is 39.7kB.\n",
      "Saved data to /Volumes/Biggy/Discog/artists-rateyourmusic/98/98.p\n",
      "  --> This file is 39.7kB.\n",
      "Saving data to /Volumes/Biggy/Discog/artists-rateyourmusic/41/87341.p\n",
      "  --> This file is 16.8kB.\n",
      "Saved data to /Volumes/Biggy/Discog/artists-rateyourmusic/41/87341.p\n",
      "  --> This file is 16.8kB.\n",
      "Saving data to /Volumes/Biggy/Discog/artists-rateyourmusic/16/417216.p\n",
      "  --> This file is 20.1kB.\n",
      "Saved data to /Volumes/Biggy/Discog/artists-rateyourmusic/16/417216.p\n",
      "  --> This file is 20.1kB.\n",
      "Saving data to /Volumes/Biggy/Discog/artists-rateyourmusic/76/4876.p\n",
      "  --> This file is 42.7kB.\n",
      "Saved data to /Volumes/Biggy/Discog/artists-rateyourmusic/76/4876.p\n",
      "  --> This file is 42.7kB.\n",
      "Saving data to /Volumes/Biggy/Discog/artists-rateyourmusic/28/828.p\n",
      "  --> This file is 31.4kB.\n",
      "Saved data to /Volumes/Biggy/Discog/artists-rateyourmusic/28/828.p\n",
      "  --> This file is 31.4kB.\n",
      "Saving data to /Volumes/Biggy/Discog/artists-rateyourmusic/9/12309.p\n",
      "  --> This file is 29.1kB.\n",
      "Saved data to /Volumes/Biggy/Discog/artists-rateyourmusic/9/12309.p\n",
      "  --> This file is 29.1kB.\n",
      "Saving data to /Volumes/Biggy/Discog/artists-rateyourmusic/33/807933.p\n",
      "  --> This file is 17.1kB.\n",
      "Saved data to /Volumes/Biggy/Discog/artists-rateyourmusic/33/807933.p\n",
      "  --> This file is 17.1kB.\n",
      "Saving data to /Volumes/Biggy/Discog/artists-rateyourmusic/16/416.p\n",
      "  --> This file is 47.4kB.\n",
      "Saved data to /Volumes/Biggy/Discog/artists-rateyourmusic/16/416.p\n",
      "  --> This file is 47.4kB.\n",
      "Saving data to /Volumes/Biggy/Discog/artists-rateyourmusic/57/557.p\n",
      "  --> This file is 46.2kB.\n",
      "Saved data to /Volumes/Biggy/Discog/artists-rateyourmusic/57/557.p\n",
      "  --> This file is 46.2kB.\n",
      "Saving data to /Volumes/Biggy/Discog/artists-rateyourmusic/86/13586.p\n",
      "  --> This file is 31.1kB.\n",
      "Saved data to /Volumes/Biggy/Discog/artists-rateyourmusic/86/13586.p\n",
      "  --> This file is 31.1kB.\n",
      "Saving data to /Volumes/Biggy/Discog/artists-rateyourmusic/82/3482.p\n",
      "  --> This file is 39.6kB.\n",
      "Saved data to /Volumes/Biggy/Discog/artists-rateyourmusic/82/3482.p\n",
      "  --> This file is 39.6kB.\n",
      "Saving data to /Volumes/Biggy/Discog/artists-rateyourmusic/45/963345.p\n",
      "  --> This file is 24.3kB.\n",
      "Saved data to /Volumes/Biggy/Discog/artists-rateyourmusic/45/963345.p\n",
      "  --> This file is 24.3kB.\n",
      "Saving data to /Volumes/Biggy/Discog/artists-rateyourmusic/77/7777.p\n",
      "  --> This file is 32.0kB.\n",
      "Saved data to /Volumes/Biggy/Discog/artists-rateyourmusic/77/7777.p\n",
      "  --> This file is 32.0kB.\n",
      "Saving data to /Volumes/Biggy/Discog/artists-rateyourmusic/47/23347.p\n",
      "  --> This file is 22.7kB.\n",
      "Saved data to /Volumes/Biggy/Discog/artists-rateyourmusic/47/23347.p\n",
      "  --> This file is 22.7kB.\n",
      "Saving data to /Volumes/Biggy/Discog/artists-rateyourmusic/27/3127.p\n",
      "  --> This file is 38.5kB.\n",
      "Saved data to /Volumes/Biggy/Discog/artists-rateyourmusic/27/3127.p\n",
      "  --> This file is 38.5kB.\n",
      "Saving data to /Volumes/Biggy/Discog/artists-rateyourmusic/8/8.p\n",
      "  --> This file is 53.5kB.\n",
      "Saved data to /Volumes/Biggy/Discog/artists-rateyourmusic/8/8.p\n",
      "  --> This file is 53.5kB.\n",
      "Saving data to /Volumes/Biggy/Discog/artists-rateyourmusic/60/3360.p\n",
      "  --> This file is 25.0kB.\n",
      "Saved data to /Volumes/Biggy/Discog/artists-rateyourmusic/60/3360.p\n",
      "  --> This file is 25.0kB.\n",
      "Saving data to /Volumes/Biggy/Discog/artists-rateyourmusic/96/42496.p\n",
      "  --> This file is 17.5kB.\n",
      "Saved data to /Volumes/Biggy/Discog/artists-rateyourmusic/96/42496.p\n",
      "  --> This file is 17.5kB.\n",
      "Saving data to /Volumes/Biggy/Discog/artists-rateyourmusic/0/8700.p\n",
      "  --> This file is 37.7kB.\n",
      "Saved data to /Volumes/Biggy/Discog/artists-rateyourmusic/0/8700.p\n",
      "  --> This file is 37.7kB.\n",
      "Saving data to /Volumes/Biggy/Discog/artists-rateyourmusic/64/195164.p\n",
      "  --> This file is 18.2kB.\n",
      "Saved data to /Volumes/Biggy/Discog/artists-rateyourmusic/64/195164.p\n",
      "  --> This file is 18.2kB.\n"
     ]
    }
   ],
   "source": []
  },
  {
   "cell_type": "code",
   "execution_count": 37,
   "metadata": {},
   "outputs": [],
   "source": []
  },
  {
   "cell_type": "code",
   "execution_count": 38,
   "metadata": {},
   "outputs": [
    {
     "name": "stdout",
     "output_type": "stream",
     "text": [
      "Saving data to /Volumes/Biggy/Discog/artists-rateyourmusic/45/745.p\n",
      "  --> This file is 41.6kB.\n",
      "Saved data to /Volumes/Biggy/Discog/artists-rateyourmusic/45/745.p\n",
      "  --> This file is 41.6kB.\n"
     ]
    }
   ],
   "source": []
  },
  {
   "cell_type": "code",
   "execution_count": 12,
   "metadata": {},
   "outputs": [],
   "source": []
  },
  {
   "cell_type": "code",
   "execution_count": 15,
   "metadata": {},
   "outputs": [
    {
     "data": {
      "text/plain": [
       "'/Volumes/Biggy/Discog/artists-rateyourmusic/98/98.p'"
      ]
     },
     "execution_count": 15,
     "metadata": {},
     "output_type": "execute_result"
    }
   ],
   "source": []
  },
  {
   "cell_type": "code",
   "execution_count": null,
   "metadata": {},
   "outputs": [],
   "source": [
    "savename = \"rym_search.p\"\n",
    "artsRM.downloadArtistURL(url=url, savename=savename, parse=False)"
   ]
  },
  {
   "cell_type": "code",
   "execution_count": null,
   "metadata": {},
   "outputs": [],
   "source": [
    "bsdata = getHTML(\"rym_search.p\")"
   ]
  },
  {
   "cell_type": "code",
   "execution_count": null,
   "metadata": {},
   "outputs": [],
   "source": [
    "results = []\n",
    "\n",
    "tables = bsdata.findAll(\"table\") #<tr class=\"infobox\">\")\n",
    "for i,table in enumerate(tables):\n",
    "    isInfoBox = table.find(\"tr\", {\"class\": \"infobox\"})\n",
    "    if isInfoBox is None:\n",
    "        continue\n",
    "    if i % 2 == 0:\n",
    "        continue\n",
    "    for j,subtable in enumerate(table.findAll(\"table\")):\n",
    "        for tr in subtable.findAll(\"tr\"):\n",
    "            values   = artRM.getNamesAndURLs(tr)\n",
    "            name     = values[0].name\n",
    "            url      = values[0].url\n",
    "            ref      = tr.find(\"a\")\n",
    "            artistID = dutils.getArtistID(ref.attrs['title'])\n",
    "            results.append({\"Name\": name, \"URL\": url, \"ID\": artistID})\n",
    "            \n",
    "results"
   ]
  },
  {
   "cell_type": "code",
   "execution_count": null,
   "metadata": {},
   "outputs": [],
   "source": []
  },
  {
   "cell_type": "code",
   "execution_count": null,
   "metadata": {},
   "outputs": [],
   "source": []
  },
  {
   "cell_type": "code",
   "execution_count": null,
   "metadata": {},
   "outputs": [],
   "source": []
  },
  {
   "cell_type": "markdown",
   "metadata": {},
   "source": [
    "# Artists From Search"
   ]
  },
  {
   "cell_type": "code",
   "execution_count": null,
   "metadata": {},
   "outputs": [],
   "source": [
    "dbFull  = [\"Discogs\", \"AllMusic\"]\n",
    "dbNames = [x.lower() for x in dbFull]\n",
    "dbKeys  = []\n",
    "for item in list(zip(dbFull, dbNames)):\n",
    "    dbKeys.append({\"Key\": item[0], \"Name\": item[1]})\n",
    "print(dbKeys)\n",
    "\n",
    "\n",
    "def getMyMusicDBMap():\n",
    "    myMusicMap = getFile(ifile=\"/Users/tgadfort/Documents/code/music/myMusicMap.p\")\n",
    "    print(\"Found {0} entries\".format(len(myMusicMap)))\n",
    "    showMyMusicMap(myMusicMap)\n",
    "    return myMusicMap\n",
    "\n",
    "\n",
    "def showMyMusicMap(myMusicMap):\n",
    "    cntrs = {\"Discogs\": 0, \"AllMusic\": 0, \"MusicBrainz\": 0}\n",
    "    for myArtistName, myArtistData in myMusicMap.items():\n",
    "        if myArtistData[\"Discogs\"] is not None:\n",
    "            cntrs[\"Discogs\"] += 1\n",
    "        if myArtistData[\"AllMusic\"] is not None:\n",
    "            cntrs[\"AllMusic\"] += 1\n",
    "        if myArtistData[\"MusicBrainz\"] is not None:\n",
    "            cntrs[\"MusicBrainz\"] += 1\n",
    "    print(cntrs)"
   ]
  },
  {
   "cell_type": "code",
   "execution_count": null,
   "metadata": {},
   "outputs": [],
   "source": [
    "myMusicMap = getMyMusicDBMap()"
   ]
  },
  {
   "cell_type": "code",
   "execution_count": null,
   "metadata": {},
   "outputs": [],
   "source": [
    "%load_ext autoreload\n",
    "%autoreload\n",
    "discMB = discogs('musicbrainz')\n",
    "artsMB = artistsMB(discMB)\n",
    "\n",
    "for i,(artistName,artistData) in enumerate(myMusicMap.items()):\n",
    "    if i <= 683:\n",
    "        continue\n",
    "    try:\n",
    "        mbval = artistData.get(\"MusicBrainz\")\n",
    "    except:\n",
    "        mbval = None\n",
    "\n",
    "    if mbval is not None:\n",
    "        continue\n",
    "    print(\"===========\",i,'/',len(myMusicMap),'\\t',artistName,\"===========\")\n",
    "    artsMB.searchMusicBrainzForArtist(artistName)\n",
    "    sleep(3)"
   ]
  },
  {
   "cell_type": "code",
   "execution_count": null,
   "metadata": {},
   "outputs": [],
   "source": [
    "from webUtils import getWebData\n",
    "url=\"https://musicbrainz.org/artist/cc197bad-dc9c-440d-a5b5-d52ba2e14234\"\n",
    "savename=\"musicbrainz.p\"\n",
    "getWebData(base=url, savename=savename, useSafari=False)"
   ]
  },
  {
   "cell_type": "markdown",
   "metadata": {},
   "source": [
    "# Testing"
   ]
  },
  {
   "cell_type": "code",
   "execution_count": null,
   "metadata": {},
   "outputs": [],
   "source": [
    "%load_ext autoreload\n",
    "%autoreload\n",
    "discAM = discogs(base='allmusic')\n",
    "artsAM = artistsAM(discAM)"
   ]
  },
  {
   "cell_type": "code",
   "execution_count": null,
   "metadata": {},
   "outputs": [],
   "source": [
    "artsAM.searchAllMusicForArtist('Creed')"
   ]
  },
  {
   "cell_type": "code",
   "execution_count": null,
   "metadata": {},
   "outputs": [],
   "source": [
    "artistRef = \"https://www.allmusic.com/artist/creed-warner-mn0003293932\"\n",
    "artistRef = \"{0}/discography\".format(artistRef)\n",
    "artistRef\n",
    "#urllib.parse.urljoin(artistRef) #, \"/discography\")"
   ]
  },
  {
   "cell_type": "code",
   "execution_count": null,
   "metadata": {},
   "outputs": [],
   "source": []
  },
  {
   "cell_type": "code",
   "execution_count": null,
   "metadata": {},
   "outputs": [],
   "source": [
    "#from discogsUtils import allmusicUtils\n",
    "# Basic stuff\n",
    "%load_ext autoreload\n",
    "%autoreload\n",
    "from discogsUtils import allmusicUtils\n",
    "\n",
    "discUtils = allmusicUtils()\n",
    "artistID = discUtils.getArtistID('https://www.allmusic.com/artist/bliss-mn0001514655', debug=True)\n",
    "print(\"retval = \",artistID)"
   ]
  },
  {
   "cell_type": "code",
   "execution_count": null,
   "metadata": {},
   "outputs": [],
   "source": [
    "allMusicIDMap = {}\n",
    "savename = \"collections/allMusicIDMap.p\"\n",
    "allMusicIDMap = getFile(savename)\n",
    "len(allMusicIDMap)"
   ]
  },
  {
   "cell_type": "code",
   "execution_count": null,
   "metadata": {},
   "outputs": [],
   "source": [
    "%load_ext autoreload\n",
    "%autoreload\n",
    "discAM = discogs(base='allmusic')\n",
    "artsAM = artistsAM(discAM)"
   ]
  },
  {
   "cell_type": "code",
   "execution_count": null,
   "metadata": {},
   "outputs": [],
   "source": [
    "allMusicIDMap['MN0000986327']"
   ]
  },
  {
   "cell_type": "code",
   "execution_count": null,
   "metadata": {},
   "outputs": [],
   "source": [
    "from time import sleep\n",
    "for i,(artistID,artistVals) in enumerate(allMusicIDMap.items()):\n",
    "    if i <= 49496:\n",
    "        continue\n",
    "    artistName,ref = artistVals\n",
    "    print(i,'/',len(allMusicIDMap),'\\t',artistName,'\\t',ref)\n",
    "    url      = artsAM.getArtistURL(ref)\n",
    "    savename = artsAM.getArtistSavename(artistID)\n",
    "    artsAM.downloadArtistURL(url, savename, force=True)"
   ]
  },
  {
   "cell_type": "code",
   "execution_count": null,
   "metadata": {},
   "outputs": [],
   "source": [
    "data = artsAM.getData('/Users/tgadfort/Music/Discog/artists-allmusic/62/0000567862.p')"
   ]
  },
  {
   "cell_type": "code",
   "execution_count": null,
   "metadata": {},
   "outputs": [],
   "source": []
  },
  {
   "cell_type": "code",
   "execution_count": null,
   "metadata": {},
   "outputs": [],
   "source": [
    "file = \"/Volumes/Music/Discog/artists-allmusic/68/0000782768.p\"\n",
    "file = \"MN0000961234.p\"\n",
    "file = \"/Users/tgadfort/Music/Discog/artists-allmusic/27/0000986327.p\"\n",
    "artAM = artistAM()\n",
    "data = artAM.getData(file)"
   ]
  },
  {
   "cell_type": "code",
   "execution_count": null,
   "metadata": {},
   "outputs": [],
   "source": [
    "data"
   ]
  },
  {
   "cell_type": "code",
   "execution_count": null,
   "metadata": {},
   "outputs": [],
   "source": [
    "print(\"Artist\")\n",
    "info = data.artist.get()\n",
    "for k,v in info.items():\n",
    "    print(\"\\t\",k,'\\t',v)\n",
    "\n",
    "print(\"URL\")\n",
    "info = data.url.get()\n",
    "for k,v in info.items():\n",
    "    print(\"\\t\",k,'\\t',v)\n",
    "\n",
    "print(\"ID\")\n",
    "info = data.ID.get()\n",
    "for k,v in info.items():\n",
    "    print(\"\\t\",k,'\\t',v)\n",
    "\n",
    "print(\"Pages\")\n",
    "info = data.pages.get()\n",
    "for k,v in info.items():\n",
    "    print(\"\\t\",k,'\\t',v)\n",
    "\n",
    "print(\"Profile\")\n",
    "info = data.profile.get()\n",
    "for k,v in info.items():\n",
    "    if k == \"profile\":\n",
    "        print(\"\\t\",k)\n",
    "        for k2,v2 in v.items():\n",
    "            print(\"\\t\\t\",k2)\n",
    "            for v3 in v2:\n",
    "                for k4,v4 in v3.get().items():\n",
    "                    if v4 is None:\n",
    "                        print(\"\\t\\t\\t\",k4,'\\t',v4)\n",
    "                    elif isinstance(v4, str):\n",
    "                        print(\"\\t\\t\\t\",k4,'\\t',v4)\n",
    "                    else:\n",
    "                        print(\"\\t\\t\\t\",k4)\n",
    "                        for k5,v5 in v4.get().items():\n",
    "                            print(\"\\t\\t\\t\\t\",k5,'\\t',v5)\n",
    "    elif k == \"members\":\n",
    "        print(\"\\t\",k)\n",
    "        for v2 in v:\n",
    "            print(\"\\t\\t\",v2)\n",
    "    else:\n",
    "        print('\\t',k,'\\t',v)\n",
    "            \n",
    "\n",
    "print(\"Media\")\n",
    "info = data.media.get()\n",
    "for k,v in info.items():\n",
    "    if k == \"media\":\n",
    "        print(\"\\t\",k)\n",
    "        for k2,v2 in v.items():\n",
    "            print(\"\\t\\t\",k2)\n",
    "            for v3 in v2:\n",
    "                for k4,v4 in v3.get().items():\n",
    "                    if v4 is None:\n",
    "                        print(\"\\t\\t\\t\",k4,'\\t',v4)\n",
    "                    elif isinstance(v4, str):\n",
    "                        print(\"\\t\\t\\t\",k4,'\\t',v4)\n",
    "                    else:\n",
    "                        print(\"\\t\\t\\t\",k4)\n",
    "                        for k5,v5 in v4.get().items():\n",
    "                            print(\"\\t\\t\\t\\t\",k5,'\\t',v5)\n",
    "\n",
    "\n",
    "print(\"MediaCounts\")\n",
    "info = data.mediaCounts.get()\n",
    "for k,v in info.items():\n",
    "    print(\"\\t\",k,'\\t',v)"
   ]
  },
  {
   "cell_type": "code",
   "execution_count": null,
   "metadata": {},
   "outputs": [],
   "source": []
  }
 ],
 "metadata": {
  "kernelspec": {
   "display_name": "Python 3",
   "language": "python",
   "name": "python3"
  },
  "language_info": {
   "codemirror_mode": {
    "name": "ipython",
    "version": 3
   },
   "file_extension": ".py",
   "mimetype": "text/x-python",
   "name": "python",
   "nbconvert_exporter": "python",
   "pygments_lexer": "ipython3",
   "version": "3.7.3"
  }
 },
 "nbformat": 4,
 "nbformat_minor": 2
}
