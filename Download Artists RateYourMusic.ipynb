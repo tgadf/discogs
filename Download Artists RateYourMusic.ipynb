{
 "cells": [
  {
   "cell_type": "code",
   "execution_count": 113,
   "metadata": {},
   "outputs": [
    {
     "name": "stdout",
     "output_type": "stream",
     "text": [
      "The autoreload extension is already loaded. To reload it, use:\n",
      "  %reload_ext autoreload\n"
     ]
    },
    {
     "data": {
      "text/html": [
       "<style>.container { width:100% !important; }</style>"
      ],
      "text/plain": [
       "<IPython.core.display.HTML object>"
      ]
     },
     "metadata": {},
     "output_type": "display_data"
    },
    {
     "data": {
      "text/html": [
       "<style>div.output_area{max-height:10000px;overflow:scroll;}</style>"
      ],
      "text/plain": [
       "<IPython.core.display.HTML object>"
      ]
     },
     "metadata": {},
     "output_type": "display_data"
    },
    {
     "name": "stdout",
     "output_type": "stream",
     "text": [
      "Python: 3.7.3 (default, Mar 27 2019, 16:54:48) \n",
      "[Clang 4.0.1 (tags/RELEASE_401/final)]\n",
      "Notebook Last Run Initiated: 2020-03-20 21:29:46.179010\n"
     ]
    }
   ],
   "source": [
    "## Basic stuff\n",
    "%load_ext autoreload\n",
    "%autoreload\n",
    "from IPython.core.display import display, HTML\n",
    "display(HTML(\"<style>.container { width:100% !important; }</style>\"))\n",
    "display(HTML(\"\"\"<style>div.output_area{max-height:10000px;overflow:scroll;}</style>\"\"\"))\n",
    "\n",
    "## Python Version\n",
    "import sys\n",
    "print(\"Python: {0}\".format(sys.version))\n",
    "\n",
    "from ioUtils import saveJoblib, loadJoblib, saveFile, getFile\n",
    "import urllib\n",
    "from urllib.parse import quote\n",
    "\n",
    "from discogsBase import discogs\n",
    "from discogsUtils import acebootlegsUtils\n",
    "from collection import collections\n",
    "from artist import artist\n",
    "from timeUtils import clock, elapsed\n",
    "from fsUtils import moveFile, setFile, setDir, setSubDir, isFile, isDir, mkDir\n",
    "from ioUtils import getFile, saveFile\n",
    "from fileUtils import getFileBasics, getBasename\n",
    "from webUtils import getWebData, getHTML, getURL\n",
    "from artists import artists\n",
    "#from artistsAB import artistsAB\n",
    "from artistRM import artistRM\n",
    "from albums import albums\n",
    "from time import sleep\n",
    "import time\n",
    "from multiprocessing import Pool\n",
    "import re\n",
    "\n",
    "\n",
    "\n",
    "import datetime as dt\n",
    "start = dt.datetime.now()\n",
    "print(\"Notebook Last Run Initiated: \"+str(start))"
   ]
  },
  {
   "cell_type": "code",
   "execution_count": 115,
   "metadata": {},
   "outputs": [
    {
     "name": "stdout",
     "output_type": "stream",
     "text": [
      "The autoreload extension is already loaded. To reload it, use:\n",
      "  %reload_ext autoreload\n",
      "Warning! Saved Discog Directory None is not Available\n"
     ]
    },
    {
     "ename": "NameError",
     "evalue": "name 'artistsAB' is not defined",
     "output_type": "error",
     "traceback": [
      "\u001b[0;31m---------------------------------------------------------------------------\u001b[0m",
      "\u001b[0;31mNameError\u001b[0m                                 Traceback (most recent call last)",
      "\u001b[0;32m<ipython-input-115-199694a12ba1>\u001b[0m in \u001b[0;36m<module>\u001b[0;34m\u001b[0m\n\u001b[1;32m      3\u001b[0m \u001b[0mdiscAB\u001b[0m \u001b[0;34m=\u001b[0m \u001b[0mdiscogs\u001b[0m\u001b[0;34m(\u001b[0m\u001b[0;34m'acebootlegs'\u001b[0m\u001b[0;34m)\u001b[0m\u001b[0;34m\u001b[0m\u001b[0;34m\u001b[0m\u001b[0m\n\u001b[1;32m      4\u001b[0m \u001b[0mdutils\u001b[0m \u001b[0;34m=\u001b[0m \u001b[0macebootlegsUtils\u001b[0m\u001b[0;34m(\u001b[0m\u001b[0;34m)\u001b[0m\u001b[0;34m\u001b[0m\u001b[0;34m\u001b[0m\u001b[0m\n\u001b[0;32m----> 5\u001b[0;31m \u001b[0martsAB\u001b[0m \u001b[0;34m=\u001b[0m \u001b[0martistsAB\u001b[0m\u001b[0;34m(\u001b[0m\u001b[0mdiscAB\u001b[0m\u001b[0;34m)\u001b[0m\u001b[0;34m\u001b[0m\u001b[0;34m\u001b[0m\u001b[0m\n\u001b[0m",
      "\u001b[0;31mNameError\u001b[0m: name 'artistsAB' is not defined"
     ]
    }
   ],
   "source": [
    "%load_ext autoreload\n",
    "%autoreload\n",
    "discAB = discogs('acebootlegs')\n",
    "dutils = acebootlegsUtils()\n",
    "artsAB = artistsAB(discAB)"
   ]
  },
  {
   "cell_type": "code",
   "execution_count": 171,
   "metadata": {},
   "outputs": [],
   "source": []
  },
  {
   "cell_type": "code",
   "execution_count": null,
   "metadata": {},
   "outputs": [],
   "source": []
  },
  {
   "cell_type": "code",
   "execution_count": 172,
   "metadata": {},
   "outputs": [
    {
     "name": "stdout",
     "output_type": "stream",
     "text": [
      "The autoreload extension is already loaded. To reload it, use:\n",
      "  %reload_ext autoreload\n",
      "Warning! Saved Discog Directory None is not Available\n"
     ]
    }
   ],
   "source": [
    "%load_ext autoreload\n",
    "%autoreload\n",
    "discRM = discogs('rateyourmusic')\n",
    "dutils = rateyourmusicUtils()\n",
    "artsRM = artistsRM(discRM)\n",
    "artRM  = artistRM()\n",
    "\n",
    "retval = artRM.getData(\"rym.p\")"
   ]
  },
  {
   "cell_type": "code",
   "execution_count": 173,
   "metadata": {},
   "outputs": [
    {
     "name": "stdout",
     "output_type": "stream",
     "text": [
      "\n",
      "\n",
      "===================== Searching For Gravity Wax =====================\n",
      "Found 23 artists\n",
      "1 / 23 \t: 83626 \t https://rateyourmusic.com/artist/gravity_wax\n",
      "Saving /Users/tgadfort/Music/Discog/artists-rateyourmusic/26/83626.p (force=False)\n",
      "  --> This file is 17.7kB.\n",
      "Done. Sleeping for 2 seconds\n",
      "2 / 23 \t: 586 \t https://rateyourmusic.com/artist/gravity_kills\n",
      "Saving /Users/tgadfort/Music/Discog/artists-rateyourmusic/86/586.p (force=False)\n",
      "  --> This file is 23.5kB.\n",
      "Done. Sleeping for 2 seconds\n",
      "3 / 23 \t: 43851 \t https://rateyourmusic.com/artist/gravity_and_henry\n",
      "Saving /Users/tgadfort/Music/Discog/artists-rateyourmusic/51/43851.p (force=False)\n",
      "  --> This file is 16.2kB.\n",
      "Done. Sleeping for 2 seconds\n",
      "4 / 23 \t: 65365 \t https://rateyourmusic.com/artist/gravity_co_\n",
      "Saving /Users/tgadfort/Music/Discog/artists-rateyourmusic/65/65365.p (force=False)\n",
      "  --> This file is 16.3kB.\n",
      "Done. Sleeping for 2 seconds\n",
      "5 / 23 \t: 115259 \t https://rateyourmusic.com/artist/gravity\n",
      "Saving /Users/tgadfort/Music/Discog/artists-rateyourmusic/59/115259.p (force=False)\n",
      "  --> This file is 17.4kB.\n",
      "Done. Sleeping for 2 seconds\n",
      "6 / 23 \t: 121904 \t https://rateyourmusic.com/artist/gravity_propulsion_system\n",
      "Saving /Users/tgadfort/Music/Discog/artists-rateyourmusic/4/121904.p (force=False)\n",
      "  --> This file is 18.2kB.\n",
      "Done. Sleeping for 2 seconds\n",
      "7 / 23 \t: 130438 \t https://rateyourmusic.com/artist/grav\n",
      "Saving /Users/tgadfort/Music/Discog/artists-rateyourmusic/38/130438.p (force=False)\n",
      "  --> This file is 18.0kB.\n",
      "Done. Sleeping for 2 seconds\n",
      "8 / 23 \t: 130985 \t https://rateyourmusic.com/artist/gravity_hill\n",
      "Saving /Users/tgadfort/Music/Discog/artists-rateyourmusic/85/130985.p (force=False)\n",
      "  --> This file is 15.6kB.\n",
      "Done. Sleeping for 2 seconds\n",
      "9 / 23 \t: 147893 \t https://rateyourmusic.com/artist/gravity-adjusters-expansion-band\n",
      "Saving /Users/tgadfort/Music/Discog/artists-rateyourmusic/93/147893.p (force=False)\n",
      "  --> This file is 16.9kB.\n",
      "Done. Sleeping for 2 seconds\n",
      "10 / 23 \t: 156546 \t https://rateyourmusic.com/artist/as_gravity_fades\n",
      "Saving /Users/tgadfort/Music/Discog/artists-rateyourmusic/46/156546.p (force=False)\n",
      "  --> This file is 16.5kB.\n",
      "Done. Sleeping for 2 seconds\n",
      "11 / 23 \t: 161310 \t https://rateyourmusic.com/artist/gravity__2_\n",
      "Saving /Users/tgadfort/Music/Discog/artists-rateyourmusic/10/161310.p (force=False)\n",
      "  --> This file is 16.3kB.\n",
      "Done. Sleeping for 2 seconds\n",
      "12 / 23 \t: 186528 \t https://rateyourmusic.com/artist/gravity_tree\n",
      "Saving /Users/tgadfort/Music/Discog/artists-rateyourmusic/28/186528.p (force=False)\n",
      "  --> This file is 16.3kB.\n",
      "Done. Sleeping for 2 seconds\n",
      "13 / 23 \t: 224786 \t https://rateyourmusic.com/artist/gravity_f3\n",
      "Saving /Users/tgadfort/Music/Discog/artists-rateyourmusic/86/224786.p (force=False)\n",
      "  --> This file is 16.0kB.\n",
      "Done. Sleeping for 2 seconds\n",
      "14 / 23 \t: 244663 \t https://rateyourmusic.com/artist/the_gravity_guild\n",
      "Saving /Users/tgadfort/Music/Discog/artists-rateyourmusic/63/244663.p (force=False)\n",
      "  --> This file is 16.5kB.\n",
      "Done. Sleeping for 2 seconds\n",
      "15 / 23 \t: 251808 \t https://rateyourmusic.com/artist/scott_mac\n",
      "Saving /Users/tgadfort/Music/Discog/artists-rateyourmusic/8/251808.p (force=False)\n",
      "  --> This file is 18.4kB.\n",
      "Done. Sleeping for 2 seconds\n",
      "16 / 23 \t: 252613 \t https://rateyourmusic.com/artist/gravity_keeps_the_hours\n",
      "Saving /Users/tgadfort/Music/Discog/artists-rateyourmusic/13/252613.p (force=False)\n",
      "  --> This file is 14.3kB.\n",
      "Done. Sleeping for 2 seconds\n",
      "17 / 23 \t: 261396 \t https://rateyourmusic.com/artist/gravity_pirates\n",
      "Saving /Users/tgadfort/Music/Discog/artists-rateyourmusic/96/261396.p (force=False)\n",
      "  --> This file is 16.6kB.\n",
      "Done. Sleeping for 2 seconds\n",
      "18 / 23 \t: 275289 \t https://rateyourmusic.com/artist/gravity_slaves\n",
      "Saving /Users/tgadfort/Music/Discog/artists-rateyourmusic/89/275289.p (force=False)\n",
      "  --> This file is 17.7kB.\n",
      "Done. Sleeping for 2 seconds\n",
      "19 / 23 \t: 283418 \t https://rateyourmusic.com/artist/big-iron\n",
      "Saving /Users/tgadfort/Music/Discog/artists-rateyourmusic/18/283418.p (force=False)\n",
      "  --> This file is 16.7kB.\n",
      "Done. Sleeping for 2 seconds\n",
      "20 / 23 \t: 288681 \t https://rateyourmusic.com/artist/gravity_music_library\n"
     ]
    },
    {
     "ename": "HTTPError",
     "evalue": "HTTP Error 503: Service Unavailable",
     "output_type": "error",
     "traceback": [
      "\u001b[0;31m---------------------------------------------------------------------------\u001b[0m",
      "\u001b[0;31mHTTPError\u001b[0m                                 Traceback (most recent call last)",
      "\u001b[0;32m<ipython-input-173-6d2ec6e7293e>\u001b[0m in \u001b[0;36m<module>\u001b[0;34m\u001b[0m\n\u001b[0;32m----> 1\u001b[0;31m \u001b[0martsRM\u001b[0m\u001b[0;34m.\u001b[0m\u001b[0msearchRateYourMusicForArtist\u001b[0m\u001b[0;34m(\u001b[0m\u001b[0;34m\"Gravity Wax\"\u001b[0m\u001b[0;34m)\u001b[0m\u001b[0;34m\u001b[0m\u001b[0;34m\u001b[0m\u001b[0m\n\u001b[0m",
      "\u001b[0;32m<ipython-input-171-f6f3a7bd2cea>\u001b[0m in \u001b[0;36msearchRateYourMusicForArtist\u001b[0;34m(self, artist, debug, sleeptime)\u001b[0m\n\u001b[1;32m    253\u001b[0m                 \u001b[0;32mcontinue\u001b[0m\u001b[0;34m\u001b[0m\u001b[0;34m\u001b[0m\u001b[0m\n\u001b[1;32m    254\u001b[0m \u001b[0;34m\u001b[0m\u001b[0m\n\u001b[0;32m--> 255\u001b[0;31m             \u001b[0mself\u001b[0m\u001b[0;34m.\u001b[0m\u001b[0mdownloadArtistURL\u001b[0m\u001b[0;34m(\u001b[0m\u001b[0murl\u001b[0m\u001b[0;34m,\u001b[0m \u001b[0msavename\u001b[0m\u001b[0;34m,\u001b[0m \u001b[0msleeptime\u001b[0m\u001b[0;34m=\u001b[0m\u001b[0msleeptime\u001b[0m\u001b[0;34m)\u001b[0m\u001b[0;34m\u001b[0m\u001b[0;34m\u001b[0m\u001b[0m\n\u001b[0m\u001b[1;32m    256\u001b[0m \u001b[0;34m\u001b[0m\u001b[0m\n\u001b[1;32m    257\u001b[0m \u001b[0;34m\u001b[0m\u001b[0m\n",
      "\u001b[0;32m<ipython-input-171-f6f3a7bd2cea>\u001b[0m in \u001b[0;36mdownloadArtistURL\u001b[0;34m(self, url, savename, parse, force, debug, sleeptime)\u001b[0m\n\u001b[1;32m    141\u001b[0m \u001b[0;34m\u001b[0m\u001b[0m\n\u001b[1;32m    142\u001b[0m         \u001b[0;31m## Download data\u001b[0m\u001b[0;34m\u001b[0m\u001b[0;34m\u001b[0m\u001b[0;34m\u001b[0m\u001b[0m\n\u001b[0;32m--> 143\u001b[0;31m         \u001b[0mdata\u001b[0m\u001b[0;34m,\u001b[0m \u001b[0mresponse\u001b[0m \u001b[0;34m=\u001b[0m \u001b[0mself\u001b[0m\u001b[0;34m.\u001b[0m\u001b[0mdownloadURL\u001b[0m\u001b[0;34m(\u001b[0m\u001b[0murl\u001b[0m\u001b[0;34m)\u001b[0m\u001b[0;34m\u001b[0m\u001b[0;34m\u001b[0m\u001b[0m\n\u001b[0m\u001b[1;32m    144\u001b[0m         \u001b[0;32mif\u001b[0m \u001b[0mresponse\u001b[0m \u001b[0;34m!=\u001b[0m \u001b[0;36m200\u001b[0m\u001b[0;34m:\u001b[0m\u001b[0;34m\u001b[0m\u001b[0;34m\u001b[0m\u001b[0m\n\u001b[1;32m    145\u001b[0m             \u001b[0mprint\u001b[0m\u001b[0;34m(\u001b[0m\u001b[0;34m\"Response is {0}. Error downloading {0}\"\u001b[0m\u001b[0;34m.\u001b[0m\u001b[0mformat\u001b[0m\u001b[0;34m(\u001b[0m\u001b[0mresponse\u001b[0m\u001b[0;34m,\u001b[0m \u001b[0murl\u001b[0m\u001b[0;34m)\u001b[0m\u001b[0;34m)\u001b[0m\u001b[0;34m\u001b[0m\u001b[0;34m\u001b[0m\u001b[0m\n",
      "\u001b[0;32m<ipython-input-171-f6f3a7bd2cea>\u001b[0m in \u001b[0;36mdownloadURL\u001b[0;34m(self, url, debug)\u001b[0m\n\u001b[1;32m    117\u001b[0m \u001b[0;34m\u001b[0m\u001b[0m\n\u001b[1;32m    118\u001b[0m         \u001b[0mrequest\u001b[0m\u001b[0;34m=\u001b[0m\u001b[0murllib\u001b[0m\u001b[0;34m.\u001b[0m\u001b[0mrequest\u001b[0m\u001b[0;34m.\u001b[0m\u001b[0mRequest\u001b[0m\u001b[0;34m(\u001b[0m\u001b[0murl\u001b[0m\u001b[0;34m,\u001b[0m\u001b[0;32mNone\u001b[0m\u001b[0;34m,\u001b[0m\u001b[0mheaders\u001b[0m\u001b[0;34m)\u001b[0m \u001b[0;31m#The assembled request\u001b[0m\u001b[0;34m\u001b[0m\u001b[0;34m\u001b[0m\u001b[0m\n\u001b[0;32m--> 119\u001b[0;31m         \u001b[0mresponse\u001b[0m \u001b[0;34m=\u001b[0m \u001b[0murllib\u001b[0m\u001b[0;34m.\u001b[0m\u001b[0mrequest\u001b[0m\u001b[0;34m.\u001b[0m\u001b[0murlopen\u001b[0m\u001b[0;34m(\u001b[0m\u001b[0mrequest\u001b[0m\u001b[0;34m)\u001b[0m\u001b[0;34m\u001b[0m\u001b[0;34m\u001b[0m\u001b[0m\n\u001b[0m\u001b[1;32m    120\u001b[0m         \u001b[0mdata\u001b[0m \u001b[0;34m=\u001b[0m \u001b[0mresponse\u001b[0m\u001b[0;34m.\u001b[0m\u001b[0mread\u001b[0m\u001b[0;34m(\u001b[0m\u001b[0;34m)\u001b[0m \u001b[0;31m# The data u need\u001b[0m\u001b[0;34m\u001b[0m\u001b[0;34m\u001b[0m\u001b[0m\n\u001b[1;32m    121\u001b[0m \u001b[0;34m\u001b[0m\u001b[0m\n",
      "\u001b[0;32m/anaconda3/envs/py37/lib/python3.7/urllib/request.py\u001b[0m in \u001b[0;36murlopen\u001b[0;34m(url, data, timeout, cafile, capath, cadefault, context)\u001b[0m\n\u001b[1;32m    220\u001b[0m     \u001b[0;32melse\u001b[0m\u001b[0;34m:\u001b[0m\u001b[0;34m\u001b[0m\u001b[0;34m\u001b[0m\u001b[0m\n\u001b[1;32m    221\u001b[0m         \u001b[0mopener\u001b[0m \u001b[0;34m=\u001b[0m \u001b[0m_opener\u001b[0m\u001b[0;34m\u001b[0m\u001b[0;34m\u001b[0m\u001b[0m\n\u001b[0;32m--> 222\u001b[0;31m     \u001b[0;32mreturn\u001b[0m \u001b[0mopener\u001b[0m\u001b[0;34m.\u001b[0m\u001b[0mopen\u001b[0m\u001b[0;34m(\u001b[0m\u001b[0murl\u001b[0m\u001b[0;34m,\u001b[0m \u001b[0mdata\u001b[0m\u001b[0;34m,\u001b[0m \u001b[0mtimeout\u001b[0m\u001b[0;34m)\u001b[0m\u001b[0;34m\u001b[0m\u001b[0;34m\u001b[0m\u001b[0m\n\u001b[0m\u001b[1;32m    223\u001b[0m \u001b[0;34m\u001b[0m\u001b[0m\n\u001b[1;32m    224\u001b[0m \u001b[0;32mdef\u001b[0m \u001b[0minstall_opener\u001b[0m\u001b[0;34m(\u001b[0m\u001b[0mopener\u001b[0m\u001b[0;34m)\u001b[0m\u001b[0;34m:\u001b[0m\u001b[0;34m\u001b[0m\u001b[0;34m\u001b[0m\u001b[0m\n",
      "\u001b[0;32m/anaconda3/envs/py37/lib/python3.7/urllib/request.py\u001b[0m in \u001b[0;36mopen\u001b[0;34m(self, fullurl, data, timeout)\u001b[0m\n\u001b[1;32m    529\u001b[0m         \u001b[0;32mfor\u001b[0m \u001b[0mprocessor\u001b[0m \u001b[0;32min\u001b[0m \u001b[0mself\u001b[0m\u001b[0;34m.\u001b[0m\u001b[0mprocess_response\u001b[0m\u001b[0;34m.\u001b[0m\u001b[0mget\u001b[0m\u001b[0;34m(\u001b[0m\u001b[0mprotocol\u001b[0m\u001b[0;34m,\u001b[0m \u001b[0;34m[\u001b[0m\u001b[0;34m]\u001b[0m\u001b[0;34m)\u001b[0m\u001b[0;34m:\u001b[0m\u001b[0;34m\u001b[0m\u001b[0;34m\u001b[0m\u001b[0m\n\u001b[1;32m    530\u001b[0m             \u001b[0mmeth\u001b[0m \u001b[0;34m=\u001b[0m \u001b[0mgetattr\u001b[0m\u001b[0;34m(\u001b[0m\u001b[0mprocessor\u001b[0m\u001b[0;34m,\u001b[0m \u001b[0mmeth_name\u001b[0m\u001b[0;34m)\u001b[0m\u001b[0;34m\u001b[0m\u001b[0;34m\u001b[0m\u001b[0m\n\u001b[0;32m--> 531\u001b[0;31m             \u001b[0mresponse\u001b[0m \u001b[0;34m=\u001b[0m \u001b[0mmeth\u001b[0m\u001b[0;34m(\u001b[0m\u001b[0mreq\u001b[0m\u001b[0;34m,\u001b[0m \u001b[0mresponse\u001b[0m\u001b[0;34m)\u001b[0m\u001b[0;34m\u001b[0m\u001b[0;34m\u001b[0m\u001b[0m\n\u001b[0m\u001b[1;32m    532\u001b[0m \u001b[0;34m\u001b[0m\u001b[0m\n\u001b[1;32m    533\u001b[0m         \u001b[0;32mreturn\u001b[0m \u001b[0mresponse\u001b[0m\u001b[0;34m\u001b[0m\u001b[0;34m\u001b[0m\u001b[0m\n",
      "\u001b[0;32m/anaconda3/envs/py37/lib/python3.7/urllib/request.py\u001b[0m in \u001b[0;36mhttp_response\u001b[0;34m(self, request, response)\u001b[0m\n\u001b[1;32m    639\u001b[0m         \u001b[0;32mif\u001b[0m \u001b[0;32mnot\u001b[0m \u001b[0;34m(\u001b[0m\u001b[0;36m200\u001b[0m \u001b[0;34m<=\u001b[0m \u001b[0mcode\u001b[0m \u001b[0;34m<\u001b[0m \u001b[0;36m300\u001b[0m\u001b[0;34m)\u001b[0m\u001b[0;34m:\u001b[0m\u001b[0;34m\u001b[0m\u001b[0;34m\u001b[0m\u001b[0m\n\u001b[1;32m    640\u001b[0m             response = self.parent.error(\n\u001b[0;32m--> 641\u001b[0;31m                 'http', request, response, code, msg, hdrs)\n\u001b[0m\u001b[1;32m    642\u001b[0m \u001b[0;34m\u001b[0m\u001b[0m\n\u001b[1;32m    643\u001b[0m         \u001b[0;32mreturn\u001b[0m \u001b[0mresponse\u001b[0m\u001b[0;34m\u001b[0m\u001b[0;34m\u001b[0m\u001b[0m\n",
      "\u001b[0;32m/anaconda3/envs/py37/lib/python3.7/urllib/request.py\u001b[0m in \u001b[0;36merror\u001b[0;34m(self, proto, *args)\u001b[0m\n\u001b[1;32m    567\u001b[0m         \u001b[0;32mif\u001b[0m \u001b[0mhttp_err\u001b[0m\u001b[0;34m:\u001b[0m\u001b[0;34m\u001b[0m\u001b[0;34m\u001b[0m\u001b[0m\n\u001b[1;32m    568\u001b[0m             \u001b[0margs\u001b[0m \u001b[0;34m=\u001b[0m \u001b[0;34m(\u001b[0m\u001b[0mdict\u001b[0m\u001b[0;34m,\u001b[0m \u001b[0;34m'default'\u001b[0m\u001b[0;34m,\u001b[0m \u001b[0;34m'http_error_default'\u001b[0m\u001b[0;34m)\u001b[0m \u001b[0;34m+\u001b[0m \u001b[0morig_args\u001b[0m\u001b[0;34m\u001b[0m\u001b[0;34m\u001b[0m\u001b[0m\n\u001b[0;32m--> 569\u001b[0;31m             \u001b[0;32mreturn\u001b[0m \u001b[0mself\u001b[0m\u001b[0;34m.\u001b[0m\u001b[0m_call_chain\u001b[0m\u001b[0;34m(\u001b[0m\u001b[0;34m*\u001b[0m\u001b[0margs\u001b[0m\u001b[0;34m)\u001b[0m\u001b[0;34m\u001b[0m\u001b[0;34m\u001b[0m\u001b[0m\n\u001b[0m\u001b[1;32m    570\u001b[0m \u001b[0;34m\u001b[0m\u001b[0m\n\u001b[1;32m    571\u001b[0m \u001b[0;31m# XXX probably also want an abstract factory that knows when it makes\u001b[0m\u001b[0;34m\u001b[0m\u001b[0;34m\u001b[0m\u001b[0;34m\u001b[0m\u001b[0m\n",
      "\u001b[0;32m/anaconda3/envs/py37/lib/python3.7/urllib/request.py\u001b[0m in \u001b[0;36m_call_chain\u001b[0;34m(self, chain, kind, meth_name, *args)\u001b[0m\n\u001b[1;32m    501\u001b[0m         \u001b[0;32mfor\u001b[0m \u001b[0mhandler\u001b[0m \u001b[0;32min\u001b[0m \u001b[0mhandlers\u001b[0m\u001b[0;34m:\u001b[0m\u001b[0;34m\u001b[0m\u001b[0;34m\u001b[0m\u001b[0m\n\u001b[1;32m    502\u001b[0m             \u001b[0mfunc\u001b[0m \u001b[0;34m=\u001b[0m \u001b[0mgetattr\u001b[0m\u001b[0;34m(\u001b[0m\u001b[0mhandler\u001b[0m\u001b[0;34m,\u001b[0m \u001b[0mmeth_name\u001b[0m\u001b[0;34m)\u001b[0m\u001b[0;34m\u001b[0m\u001b[0;34m\u001b[0m\u001b[0m\n\u001b[0;32m--> 503\u001b[0;31m             \u001b[0mresult\u001b[0m \u001b[0;34m=\u001b[0m \u001b[0mfunc\u001b[0m\u001b[0;34m(\u001b[0m\u001b[0;34m*\u001b[0m\u001b[0margs\u001b[0m\u001b[0;34m)\u001b[0m\u001b[0;34m\u001b[0m\u001b[0;34m\u001b[0m\u001b[0m\n\u001b[0m\u001b[1;32m    504\u001b[0m             \u001b[0;32mif\u001b[0m \u001b[0mresult\u001b[0m \u001b[0;32mis\u001b[0m \u001b[0;32mnot\u001b[0m \u001b[0;32mNone\u001b[0m\u001b[0;34m:\u001b[0m\u001b[0;34m\u001b[0m\u001b[0;34m\u001b[0m\u001b[0m\n\u001b[1;32m    505\u001b[0m                 \u001b[0;32mreturn\u001b[0m \u001b[0mresult\u001b[0m\u001b[0;34m\u001b[0m\u001b[0;34m\u001b[0m\u001b[0m\n",
      "\u001b[0;32m/anaconda3/envs/py37/lib/python3.7/urllib/request.py\u001b[0m in \u001b[0;36mhttp_error_default\u001b[0;34m(self, req, fp, code, msg, hdrs)\u001b[0m\n\u001b[1;32m    647\u001b[0m \u001b[0;32mclass\u001b[0m \u001b[0mHTTPDefaultErrorHandler\u001b[0m\u001b[0;34m(\u001b[0m\u001b[0mBaseHandler\u001b[0m\u001b[0;34m)\u001b[0m\u001b[0;34m:\u001b[0m\u001b[0;34m\u001b[0m\u001b[0;34m\u001b[0m\u001b[0m\n\u001b[1;32m    648\u001b[0m     \u001b[0;32mdef\u001b[0m \u001b[0mhttp_error_default\u001b[0m\u001b[0;34m(\u001b[0m\u001b[0mself\u001b[0m\u001b[0;34m,\u001b[0m \u001b[0mreq\u001b[0m\u001b[0;34m,\u001b[0m \u001b[0mfp\u001b[0m\u001b[0;34m,\u001b[0m \u001b[0mcode\u001b[0m\u001b[0;34m,\u001b[0m \u001b[0mmsg\u001b[0m\u001b[0;34m,\u001b[0m \u001b[0mhdrs\u001b[0m\u001b[0;34m)\u001b[0m\u001b[0;34m:\u001b[0m\u001b[0;34m\u001b[0m\u001b[0;34m\u001b[0m\u001b[0m\n\u001b[0;32m--> 649\u001b[0;31m         \u001b[0;32mraise\u001b[0m \u001b[0mHTTPError\u001b[0m\u001b[0;34m(\u001b[0m\u001b[0mreq\u001b[0m\u001b[0;34m.\u001b[0m\u001b[0mfull_url\u001b[0m\u001b[0;34m,\u001b[0m \u001b[0mcode\u001b[0m\u001b[0;34m,\u001b[0m \u001b[0mmsg\u001b[0m\u001b[0;34m,\u001b[0m \u001b[0mhdrs\u001b[0m\u001b[0;34m,\u001b[0m \u001b[0mfp\u001b[0m\u001b[0;34m)\u001b[0m\u001b[0;34m\u001b[0m\u001b[0;34m\u001b[0m\u001b[0m\n\u001b[0m\u001b[1;32m    650\u001b[0m \u001b[0;34m\u001b[0m\u001b[0m\n\u001b[1;32m    651\u001b[0m \u001b[0;32mclass\u001b[0m \u001b[0mHTTPRedirectHandler\u001b[0m\u001b[0;34m(\u001b[0m\u001b[0mBaseHandler\u001b[0m\u001b[0;34m)\u001b[0m\u001b[0;34m:\u001b[0m\u001b[0;34m\u001b[0m\u001b[0;34m\u001b[0m\u001b[0m\n",
      "\u001b[0;31mHTTPError\u001b[0m: HTTP Error 503: Service Unavailable"
     ]
    }
   ],
   "source": [
    "artsRM.searchRateYourMusicForArtist(\"Gravity Wax\")"
   ]
  },
  {
   "cell_type": "code",
   "execution_count": 159,
   "metadata": {},
   "outputs": [
    {
     "data": {
      "text/plain": [
       "{'name': 'Gravity Wax', 'err': None}"
      ]
     },
     "execution_count": 159,
     "metadata": {},
     "output_type": "execute_result"
    }
   ],
   "source": [
    "retval.artist.get()"
   ]
  },
  {
   "cell_type": "code",
   "execution_count": 160,
   "metadata": {},
   "outputs": [
    {
     "data": {
      "text/plain": [
       "{'url': 'https://rateyourmusic.com/artist/gravity_wax', 'err': None}"
      ]
     },
     "execution_count": 160,
     "metadata": {},
     "output_type": "execute_result"
    }
   ],
   "source": [
    "retval.url.get()"
   ]
  },
  {
   "cell_type": "code",
   "execution_count": 161,
   "metadata": {},
   "outputs": [
    {
     "data": {
      "text/plain": [
       "{'ID': '83626', 'err': None}"
      ]
     },
     "execution_count": 161,
     "metadata": {},
     "output_type": "execute_result"
    }
   ],
   "source": [
    "retval.ID.get()"
   ]
  },
  {
   "cell_type": "code",
   "execution_count": 162,
   "metadata": {},
   "outputs": [
    {
     "data": {
      "text/plain": [
       "{'profile': 'Detroit, MI, United States',\n",
       " 'aliases': None,\n",
       " 'members': 'Erik Kassab (bass, moog, percussion, vocals), John Hardin (guitar, moog, percussion, vocals)',\n",
       " 'sites': None,\n",
       " 'groups': None,\n",
       " 'variations': None,\n",
       " 'err': None}"
      ]
     },
     "execution_count": 162,
     "metadata": {},
     "output_type": "execute_result"
    }
   ],
   "source": [
    "retval.profile.get()"
   ]
  },
  {
   "cell_type": "code",
   "execution_count": 163,
   "metadata": {},
   "outputs": [
    {
     "name": "stdout",
     "output_type": "stream",
     "text": [
      "EP \t {'album': 'Toma Coast', 'url': '/release/ep/gravity_wax/toma_coast/', 'aclass': None, 'aformat': None, 'artist': [<artistRM.artistRMURLInfo object at 0x1a20d53860>], 'code': '367244', 'year': '1994', 'err': None}\n",
      "EP \t {'album': 'PhaseFace', 'url': '/release/ep/gravity_wax/phaseface/', 'aclass': None, 'aformat': None, 'artist': [<artistRM.artistRMURLInfo object at 0x1a20d538d0>], 'code': '5987702', 'year': '1995', 'err': None}\n",
      "EP \t {'album': 'Acoustically Inert Dense Gravity Mechanism', 'url': '/release/ep/gravity_wax/acoustically_inert_dense_gravity_mechanism/', 'aclass': None, 'aformat': None, 'artist': [<artistRM.artistRMURLInfo object at 0x1a20d53be0>], 'code': '3703615', 'year': '1997', 'err': None}\n",
      "EP \t {'album': 'Gravity Wax', 'url': '/release/ep/gravity_wax/gravity_wax/', 'aclass': None, 'aformat': None, 'artist': [<artistRM.artistRMURLInfo object at 0x1a20d53400>], 'code': '1347353', 'year': '1999', 'err': None}\n",
      "Single \t {'album': 'Füxa / Gravity Wax', 'url': '/release/single/fuxa-gravity-wax/fuxa-gravity-wax/', 'aclass': None, 'aformat': None, 'artist': [<artistRM.artistRMURLInfo object at 0x1a20e774a8>, <artistRM.artistRMURLInfo object at 0x1a20e77ac8>], 'code': '2062286', 'year': '1995', 'err': None}\n",
      "Single \t {'album': 'Stolen Ecstasy 45 Chapter Five', 'url': '/release/single/tunic-gravity-wax/stolen-ecstasy-45-chapter-five/', 'aclass': None, 'aformat': None, 'artist': [<artistRM.artistRMURLInfo object at 0x1a20e775f8>, <artistRM.artistRMURLInfo object at 0x1a20e778d0>], 'code': '2411306', 'year': None, 'err': None}\n",
      "Appears On \t {'album': 'Mind Expansion, Vol. 3', 'url': '/release/single/various-artists/mind-expansion-vol-3/', 'aclass': None, 'aformat': None, 'artist': [<artistRM.artistRMURLInfo object at 0x1a20e776d8>], 'code': '367832', 'year': '1998', 'err': None}\n",
      "Compilation \t {'album': 'Low Energy Particulate', 'url': '/release/comp/gravity_wax/low_energy_particulate/', 'aclass': None, 'aformat': None, 'artist': [<artistRM.artistRMURLInfo object at 0x1a20e77b38>], 'code': '518514', 'year': '1997', 'err': None}\n"
     ]
    }
   ],
   "source": [
    "for mediaType,mediaTypeData in retval.media.media.items():\n",
    "    for album in mediaTypeData:\n",
    "        print(mediaType,'\\t',album.get())"
   ]
  },
  {
   "cell_type": "code",
   "execution_count": 164,
   "metadata": {},
   "outputs": [
    {
     "data": {
      "text/plain": [
       "{'counts': {'Releases': {'EP': 4,\n",
       "   'Single': 2,\n",
       "   'Appears On': 1,\n",
       "   'Compilation': 1}},\n",
       " 'err': None}"
      ]
     },
     "execution_count": 164,
     "metadata": {},
     "output_type": "execute_result"
    }
   ],
   "source": [
    "retval.mediaCounts.get()"
   ]
  },
  {
   "cell_type": "code",
   "execution_count": null,
   "metadata": {},
   "outputs": [],
   "source": []
  },
  {
   "cell_type": "code",
   "execution_count": 165,
   "metadata": {},
   "outputs": [],
   "source": [
    "bsdata = getHTML(\"rym.p\")"
   ]
  },
  {
   "cell_type": "code",
   "execution_count": null,
   "metadata": {},
   "outputs": [],
   "source": []
  },
  {
   "cell_type": "code",
   "execution_count": 166,
   "metadata": {},
   "outputs": [
    {
     "ename": "NameError",
     "evalue": "name 'artsAB' is not defined",
     "output_type": "error",
     "traceback": [
      "\u001b[0;31m---------------------------------------------------------------------------\u001b[0m",
      "\u001b[0;31mNameError\u001b[0m                                 Traceback (most recent call last)",
      "\u001b[0;32m<ipython-input-166-30ceed7ef922>\u001b[0m in \u001b[0;36m<module>\u001b[0;34m\u001b[0m\n\u001b[0;32m----> 1\u001b[0;31m \u001b[0martsAB\u001b[0m\u001b[0;34m.\u001b[0m\u001b[0mparseArtistFiles\u001b[0m\u001b[0;34m(\u001b[0m\u001b[0;34m)\u001b[0m\u001b[0;34m\u001b[0m\u001b[0;34m\u001b[0m\u001b[0m\n\u001b[0m",
      "\u001b[0;31mNameError\u001b[0m: name 'artsAB' is not defined"
     ]
    }
   ],
   "source": [
    "artsAB.parseArtistFiles()"
   ]
  },
  {
   "cell_type": "code",
   "execution_count": 167,
   "metadata": {},
   "outputs": [],
   "source": [
    "\n",
    "url=\"https://rateyourmusic.com/artist/gravity_wax\"\n",
    "url=\"https://rateyourmusic.com/search?searchtype=a&searchterm=Gravity+Wax\""
   ]
  },
  {
   "cell_type": "code",
   "execution_count": 125,
   "metadata": {},
   "outputs": [
    {
     "name": "stdout",
     "output_type": "stream",
     "text": [
      "Saving rym_search.p (force=False)\n",
      "  --> This file is 15.5kB.\n",
      "Done. Sleeping for 2 seconds\n"
     ]
    },
    {
     "data": {
      "text/plain": [
       "True"
      ]
     },
     "execution_count": 125,
     "metadata": {},
     "output_type": "execute_result"
    }
   ],
   "source": [
    "savename = \"rym_search.p\"\n",
    "artsRM.downloadArtistURL(url=url, savename=savename, parse=False)"
   ]
  },
  {
   "cell_type": "code",
   "execution_count": 168,
   "metadata": {},
   "outputs": [],
   "source": [
    "bsdata = getHTML(\"rym_search.p\")"
   ]
  },
  {
   "cell_type": "code",
   "execution_count": 170,
   "metadata": {},
   "outputs": [
    {
     "data": {
      "text/plain": [
       "[{'Name': 'Gravity Wax', 'URL': '/artist/gravity_wax', 'ID': '83626'},\n",
       " {'Name': 'Gravity Kills', 'URL': '/artist/gravity_kills', 'ID': '586'},\n",
       " {'Name': 'Gravity and Henry',\n",
       "  'URL': '/artist/gravity_and_henry',\n",
       "  'ID': '43851'},\n",
       " {'Name': 'Gravity Co.', 'URL': '/artist/gravity_co_', 'ID': '65365'},\n",
       " {'Name': 'Gravity', 'URL': '/artist/gravity', 'ID': '115259'},\n",
       " {'Name': 'Gravity Propulsion System',\n",
       "  'URL': '/artist/gravity_propulsion_system',\n",
       "  'ID': '121904'},\n",
       " {'Name': 'Grav', 'URL': '/artist/grav', 'ID': '130438'},\n",
       " {'Name': 'Gravity Hill', 'URL': '/artist/gravity_hill', 'ID': '130985'},\n",
       " {'Name': 'Gravity Adjusters Expansion Band',\n",
       "  'URL': '/artist/gravity-adjusters-expansion-band',\n",
       "  'ID': '147893'},\n",
       " {'Name': 'As Gravity Fades',\n",
       "  'URL': '/artist/as_gravity_fades',\n",
       "  'ID': '156546'},\n",
       " {'Name': 'Gravity [2]', 'URL': '/artist/gravity__2_', 'ID': '161310'},\n",
       " {'Name': 'Gravity Tree', 'URL': '/artist/gravity_tree', 'ID': '186528'},\n",
       " {'Name': 'Gravity', 'URL': '/artist/gravity_f3', 'ID': '224786'},\n",
       " {'Name': 'The Gravity Guild',\n",
       "  'URL': '/artist/the_gravity_guild',\n",
       "  'ID': '244663'},\n",
       " {'Name': 'Scott Mac', 'URL': '/artist/scott_mac', 'ID': '251808'},\n",
       " {'Name': 'Gravity Keeps the Hours',\n",
       "  'URL': '/artist/gravity_keeps_the_hours',\n",
       "  'ID': '252613'},\n",
       " {'Name': 'Gravity Pirates', 'URL': '/artist/gravity_pirates', 'ID': '261396'},\n",
       " {'Name': 'Gravity Slaves', 'URL': '/artist/gravity_slaves', 'ID': '275289'},\n",
       " {'Name': 'Big Iron', 'URL': '/artist/big-iron', 'ID': '283418'},\n",
       " {'Name': 'Gravity Music Library',\n",
       "  'URL': '/artist/gravity_music_library',\n",
       "  'ID': '288681'},\n",
       " {'Name': 'Gravity Euphonic',\n",
       "  'URL': '/artist/gravity_euphonic',\n",
       "  'ID': '311492'},\n",
       " {'Name': 'Gravity [AUS]', 'URL': '/artist/gravity__aus_', 'ID': '325703'},\n",
       " {'Name': 'Gravity [US]', 'URL': '/artist/gravity__us_', 'ID': '354066'}]"
      ]
     },
     "execution_count": 170,
     "metadata": {},
     "output_type": "execute_result"
    }
   ],
   "source": [
    "results = []\n",
    "\n",
    "tables = bsdata.findAll(\"table\") #<tr class=\"infobox\">\")\n",
    "for i,table in enumerate(tables):\n",
    "    isInfoBox = table.find(\"tr\", {\"class\": \"infobox\"})\n",
    "    if isInfoBox is None:\n",
    "        continue\n",
    "    if i % 2 == 0:\n",
    "        continue\n",
    "    for j,subtable in enumerate(table.findAll(\"table\")):\n",
    "        for tr in subtable.findAll(\"tr\"):\n",
    "            values   = artRM.getNamesAndURLs(tr)\n",
    "            name     = values[0].name\n",
    "            url      = values[0].url\n",
    "            ref      = tr.find(\"a\")\n",
    "            artistID = dutils.getArtistID(ref.attrs['title'])\n",
    "            results.append({\"Name\": name, \"URL\": url, \"ID\": artistID})\n",
    "            \n",
    "results"
   ]
  },
  {
   "cell_type": "code",
   "execution_count": null,
   "metadata": {},
   "outputs": [],
   "source": []
  },
  {
   "cell_type": "code",
   "execution_count": null,
   "metadata": {},
   "outputs": [],
   "source": []
  },
  {
   "cell_type": "code",
   "execution_count": null,
   "metadata": {},
   "outputs": [],
   "source": []
  },
  {
   "cell_type": "markdown",
   "metadata": {},
   "source": [
    "# Artists From Search"
   ]
  },
  {
   "cell_type": "code",
   "execution_count": null,
   "metadata": {},
   "outputs": [],
   "source": [
    "dbFull  = [\"Discogs\", \"AllMusic\"]\n",
    "dbNames = [x.lower() for x in dbFull]\n",
    "dbKeys  = []\n",
    "for item in list(zip(dbFull, dbNames)):\n",
    "    dbKeys.append({\"Key\": item[0], \"Name\": item[1]})\n",
    "print(dbKeys)\n",
    "\n",
    "\n",
    "def getMyMusicDBMap():\n",
    "    myMusicMap = getFile(ifile=\"/Users/tgadfort/Documents/code/music/myMusicMap.p\")\n",
    "    print(\"Found {0} entries\".format(len(myMusicMap)))\n",
    "    showMyMusicMap(myMusicMap)\n",
    "    return myMusicMap\n",
    "\n",
    "\n",
    "def showMyMusicMap(myMusicMap):\n",
    "    cntrs = {\"Discogs\": 0, \"AllMusic\": 0, \"MusicBrainz\": 0}\n",
    "    for myArtistName, myArtistData in myMusicMap.items():\n",
    "        if myArtistData[\"Discogs\"] is not None:\n",
    "            cntrs[\"Discogs\"] += 1\n",
    "        if myArtistData[\"AllMusic\"] is not None:\n",
    "            cntrs[\"AllMusic\"] += 1\n",
    "        if myArtistData[\"MusicBrainz\"] is not None:\n",
    "            cntrs[\"MusicBrainz\"] += 1\n",
    "    print(cntrs)"
   ]
  },
  {
   "cell_type": "code",
   "execution_count": null,
   "metadata": {},
   "outputs": [],
   "source": [
    "myMusicMap = getMyMusicDBMap()"
   ]
  },
  {
   "cell_type": "code",
   "execution_count": null,
   "metadata": {},
   "outputs": [],
   "source": [
    "%load_ext autoreload\n",
    "%autoreload\n",
    "discMB = discogs('musicbrainz')\n",
    "artsMB = artistsMB(discMB)\n",
    "\n",
    "for i,(artistName,artistData) in enumerate(myMusicMap.items()):\n",
    "    if i <= 683:\n",
    "        continue\n",
    "    try:\n",
    "        mbval = artistData.get(\"MusicBrainz\")\n",
    "    except:\n",
    "        mbval = None\n",
    "\n",
    "    if mbval is not None:\n",
    "        continue\n",
    "    print(\"===========\",i,'/',len(myMusicMap),'\\t',artistName,\"===========\")\n",
    "    artsMB.searchMusicBrainzForArtist(artistName)\n",
    "    sleep(3)"
   ]
  },
  {
   "cell_type": "code",
   "execution_count": null,
   "metadata": {},
   "outputs": [],
   "source": [
    "from webUtils import getWebData\n",
    "url=\"https://musicbrainz.org/artist/cc197bad-dc9c-440d-a5b5-d52ba2e14234\"\n",
    "savename=\"musicbrainz.p\"\n",
    "getWebData(base=url, savename=savename, useSafari=False)"
   ]
  },
  {
   "cell_type": "markdown",
   "metadata": {},
   "source": [
    "# Testing"
   ]
  },
  {
   "cell_type": "code",
   "execution_count": null,
   "metadata": {},
   "outputs": [],
   "source": [
    "%load_ext autoreload\n",
    "%autoreload\n",
    "discAM = discogs(base='allmusic')\n",
    "artsAM = artistsAM(discAM)"
   ]
  },
  {
   "cell_type": "code",
   "execution_count": null,
   "metadata": {},
   "outputs": [],
   "source": [
    "artsAM.searchAllMusicForArtist('Creed')"
   ]
  },
  {
   "cell_type": "code",
   "execution_count": null,
   "metadata": {},
   "outputs": [],
   "source": [
    "artistRef = \"https://www.allmusic.com/artist/creed-warner-mn0003293932\"\n",
    "artistRef = \"{0}/discography\".format(artistRef)\n",
    "artistRef\n",
    "#urllib.parse.urljoin(artistRef) #, \"/discography\")"
   ]
  },
  {
   "cell_type": "code",
   "execution_count": null,
   "metadata": {},
   "outputs": [],
   "source": []
  },
  {
   "cell_type": "code",
   "execution_count": null,
   "metadata": {},
   "outputs": [],
   "source": [
    "#from discogsUtils import allmusicUtils\n",
    "# Basic stuff\n",
    "%load_ext autoreload\n",
    "%autoreload\n",
    "from discogsUtils import allmusicUtils\n",
    "\n",
    "discUtils = allmusicUtils()\n",
    "artistID = discUtils.getArtistID('https://www.allmusic.com/artist/bliss-mn0001514655', debug=True)\n",
    "print(\"retval = \",artistID)"
   ]
  },
  {
   "cell_type": "code",
   "execution_count": null,
   "metadata": {},
   "outputs": [],
   "source": [
    "allMusicIDMap = {}\n",
    "savename = \"collections/allMusicIDMap.p\"\n",
    "allMusicIDMap = getFile(savename)\n",
    "len(allMusicIDMap)"
   ]
  },
  {
   "cell_type": "code",
   "execution_count": null,
   "metadata": {},
   "outputs": [],
   "source": [
    "%load_ext autoreload\n",
    "%autoreload\n",
    "discAM = discogs(base='allmusic')\n",
    "artsAM = artistsAM(discAM)"
   ]
  },
  {
   "cell_type": "code",
   "execution_count": null,
   "metadata": {},
   "outputs": [],
   "source": [
    "allMusicIDMap['MN0000986327']"
   ]
  },
  {
   "cell_type": "code",
   "execution_count": null,
   "metadata": {},
   "outputs": [],
   "source": [
    "from time import sleep\n",
    "for i,(artistID,artistVals) in enumerate(allMusicIDMap.items()):\n",
    "    if i <= 49496:\n",
    "        continue\n",
    "    artistName,ref = artistVals\n",
    "    print(i,'/',len(allMusicIDMap),'\\t',artistName,'\\t',ref)\n",
    "    url      = artsAM.getArtistURL(ref)\n",
    "    savename = artsAM.getArtistSavename(artistID)\n",
    "    artsAM.downloadArtistURL(url, savename, force=True)"
   ]
  },
  {
   "cell_type": "code",
   "execution_count": null,
   "metadata": {},
   "outputs": [],
   "source": [
    "data = artsAM.getData('/Users/tgadfort/Music/Discog/artists-allmusic/62/0000567862.p')"
   ]
  },
  {
   "cell_type": "code",
   "execution_count": null,
   "metadata": {},
   "outputs": [],
   "source": []
  },
  {
   "cell_type": "code",
   "execution_count": null,
   "metadata": {},
   "outputs": [],
   "source": [
    "file = \"/Volumes/Music/Discog/artists-allmusic/68/0000782768.p\"\n",
    "file = \"MN0000961234.p\"\n",
    "file = \"/Users/tgadfort/Music/Discog/artists-allmusic/27/0000986327.p\"\n",
    "artAM = artistAM()\n",
    "data = artAM.getData(file)"
   ]
  },
  {
   "cell_type": "code",
   "execution_count": null,
   "metadata": {},
   "outputs": [],
   "source": [
    "data"
   ]
  },
  {
   "cell_type": "code",
   "execution_count": null,
   "metadata": {},
   "outputs": [],
   "source": [
    "print(\"Artist\")\n",
    "info = data.artist.get()\n",
    "for k,v in info.items():\n",
    "    print(\"\\t\",k,'\\t',v)\n",
    "\n",
    "print(\"URL\")\n",
    "info = data.url.get()\n",
    "for k,v in info.items():\n",
    "    print(\"\\t\",k,'\\t',v)\n",
    "\n",
    "print(\"ID\")\n",
    "info = data.ID.get()\n",
    "for k,v in info.items():\n",
    "    print(\"\\t\",k,'\\t',v)\n",
    "\n",
    "print(\"Pages\")\n",
    "info = data.pages.get()\n",
    "for k,v in info.items():\n",
    "    print(\"\\t\",k,'\\t',v)\n",
    "\n",
    "print(\"Profile\")\n",
    "info = data.profile.get()\n",
    "for k,v in info.items():\n",
    "    if k == \"profile\":\n",
    "        print(\"\\t\",k)\n",
    "        for k2,v2 in v.items():\n",
    "            print(\"\\t\\t\",k2)\n",
    "            for v3 in v2:\n",
    "                for k4,v4 in v3.get().items():\n",
    "                    if v4 is None:\n",
    "                        print(\"\\t\\t\\t\",k4,'\\t',v4)\n",
    "                    elif isinstance(v4, str):\n",
    "                        print(\"\\t\\t\\t\",k4,'\\t',v4)\n",
    "                    else:\n",
    "                        print(\"\\t\\t\\t\",k4)\n",
    "                        for k5,v5 in v4.get().items():\n",
    "                            print(\"\\t\\t\\t\\t\",k5,'\\t',v5)\n",
    "    elif k == \"members\":\n",
    "        print(\"\\t\",k)\n",
    "        for v2 in v:\n",
    "            print(\"\\t\\t\",v2)\n",
    "    else:\n",
    "        print('\\t',k,'\\t',v)\n",
    "            \n",
    "\n",
    "print(\"Media\")\n",
    "info = data.media.get()\n",
    "for k,v in info.items():\n",
    "    if k == \"media\":\n",
    "        print(\"\\t\",k)\n",
    "        for k2,v2 in v.items():\n",
    "            print(\"\\t\\t\",k2)\n",
    "            for v3 in v2:\n",
    "                for k4,v4 in v3.get().items():\n",
    "                    if v4 is None:\n",
    "                        print(\"\\t\\t\\t\",k4,'\\t',v4)\n",
    "                    elif isinstance(v4, str):\n",
    "                        print(\"\\t\\t\\t\",k4,'\\t',v4)\n",
    "                    else:\n",
    "                        print(\"\\t\\t\\t\",k4)\n",
    "                        for k5,v5 in v4.get().items():\n",
    "                            print(\"\\t\\t\\t\\t\",k5,'\\t',v5)\n",
    "\n",
    "\n",
    "print(\"MediaCounts\")\n",
    "info = data.mediaCounts.get()\n",
    "for k,v in info.items():\n",
    "    print(\"\\t\",k,'\\t',v)"
   ]
  },
  {
   "cell_type": "code",
   "execution_count": null,
   "metadata": {},
   "outputs": [],
   "source": []
  }
 ],
 "metadata": {
  "kernelspec": {
   "display_name": "Python 3",
   "language": "python",
   "name": "python3"
  },
  "language_info": {
   "codemirror_mode": {
    "name": "ipython",
    "version": 3
   },
   "file_extension": ".py",
   "mimetype": "text/x-python",
   "name": "python",
   "nbconvert_exporter": "python",
   "pygments_lexer": "ipython3",
   "version": "3.7.3"
  }
 },
 "nbformat": 4,
 "nbformat_minor": 2
}
