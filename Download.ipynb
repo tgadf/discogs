{
 "cells": [
  {
   "cell_type": "code",
   "execution_count": 1,
   "metadata": {},
   "outputs": [
    {
     "data": {
      "text/html": [
       "<style>.container { width:100% !important; }</style>"
      ],
      "text/plain": [
       "<IPython.core.display.HTML object>"
      ]
     },
     "metadata": {},
     "output_type": "display_data"
    },
    {
     "data": {
      "text/html": [
       "<style>div.output_area{max-height:10000px;overflow:scroll;}</style>"
      ],
      "text/plain": [
       "<IPython.core.display.HTML object>"
      ]
     },
     "metadata": {},
     "output_type": "display_data"
    },
    {
     "name": "stdout",
     "output_type": "stream",
     "text": [
      "Python: 3.7.3 (default, Mar 27 2019, 16:54:48) \n",
      "[Clang 4.0.1 (tags/RELEASE_401/final)]\n",
      "Notebook Last Run Initiated: 2019-11-11 20:01:40.193118\n"
     ]
    }
   ],
   "source": [
    "## Basic stuff\n",
    "%load_ext autoreload\n",
    "%autoreload\n",
    "from IPython.core.display import display, HTML\n",
    "display(HTML(\"<style>.container { width:100% !important; }</style>\"))\n",
    "display(HTML(\"\"\"<style>div.output_area{max-height:10000px;overflow:scroll;}</style>\"\"\"))\n",
    "\n",
    "## Python Version\n",
    "import sys\n",
    "print(\"Python: {0}\".format(sys.version))\n",
    "\n",
    "from ioUtils import saveJoblib, loadJoblib, saveFile, getFile\n",
    "import urllib\n",
    "from urllib.parse import quote\n",
    "\n",
    "from discogsBase import discogs\n",
    "from discogsUtils import discogsUtils\n",
    "from collection import collections\n",
    "from artist import artist\n",
    "from timeUtils import clock, elapsed\n",
    "from fsUtils import moveFile, setFile, setDir, setSubDir, isFile, isDir, mkDir\n",
    "from fileUtils import getFileBasics, getBasename\n",
    "from artists import artists\n",
    "from albums import albums\n",
    "from time import sleep\n",
    "import time\n",
    "from multiprocessing import Pool\n",
    "\n",
    "import datetime as dt\n",
    "start = dt.datetime.now()\n",
    "print(\"Notebook Last Run Initiated: \"+str(start))"
   ]
  },
  {
   "cell_type": "code",
   "execution_count": 2,
   "metadata": {},
   "outputs": [
    {
     "name": "stdout",
     "output_type": "stream",
     "text": [
      "The autoreload extension is already loaded. To reload it, use:\n",
      "  %reload_ext autoreload\n",
      "Saved Discog Directory /Volumes/Music/Discog is Available\n",
      "Local Discog Directory /Users/tgadfort/Music/Discog is Available\n",
      "/Volumes/Music/Discog/collections exists\n",
      "/Volumes/Music/Discog/artists exists\n",
      "/Volumes/Music/Discog/albums exists\n",
      "/Volumes/Music/Discog/collections-db exists\n",
      "/Volumes/Music/Discog/artists-db exists\n",
      "/Volumes/Music/Discog/albums-db exists\n",
      "/Volumes/Music/Discog/artists-db/metadata exists\n",
      "/Volumes/Music/Discog/albums-db/metadata exists\n",
      "/Volumes/Music/Discog/diagnostic exists\n",
      "/Volumes/Music/Discog/db exists\n"
     ]
    }
   ],
   "source": [
    "%load_ext autoreload\n",
    "%autoreload\n",
    "disc = discogs()\n",
    "arts = artists(disc)\n",
    "albs = albums(disc)\n",
    "dutils = discogsUtils()"
   ]
  },
  {
   "cell_type": "markdown",
   "metadata": {},
   "source": [
    "# Missing Artists From Albums"
   ]
  },
  {
   "cell_type": "code",
   "execution_count": 5,
   "metadata": {},
   "outputs": [
    {
     "name": "stdout",
     "output_type": "stream",
     "text": [
      "The autoreload extension is already loaded. To reload it, use:\n",
      "  %reload_ext autoreload\n",
      "Saved Discog Directory /Volumes/Music/Discog is Available\n",
      "Local Discog Directory /Users/tgadfort/Music/Discog is Available\n",
      "/Volumes/Music/Discog/collections exists\n",
      "/Volumes/Music/Discog/artists exists\n",
      "/Volumes/Music/Discog/albums exists\n",
      "/Volumes/Music/Discog/collections-db exists\n",
      "/Volumes/Music/Discog/artists-db exists\n",
      "/Volumes/Music/Discog/albums-db exists\n",
      "/Volumes/Music/Discog/artists-db/metadata exists\n",
      "/Volumes/Music/Discog/albums-db/metadata exists\n",
      "/Volumes/Music/Discog/diagnostic exists\n",
      "/Volumes/Music/Discog/db exists\n"
     ]
    }
   ],
   "source": [
    "%load_ext autoreload\n",
    "%autoreload\n",
    "from albums import albums\n",
    "from discogsBase import discogs\n",
    "\n",
    "disc  = discogs()\n",
    "albs  = albums(disc)\n",
    "#toget = albs.findMissingArtistsFromAlbums()"
   ]
  },
  {
   "cell_type": "code",
   "execution_count": 6,
   "metadata": {},
   "outputs": [
    {
     "ename": "ZeroDivisionError",
     "evalue": "division by zero",
     "output_type": "error",
     "traceback": [
      "\u001b[0;31m---------------------------------------------------------------------------\u001b[0m",
      "\u001b[0;31mZeroDivisionError\u001b[0m                         Traceback (most recent call last)",
      "\u001b[0;32m<ipython-input-6-9d275f7f6988>\u001b[0m in \u001b[0;36m<module>\u001b[0;34m\u001b[0m\n\u001b[1;32m      1\u001b[0m \u001b[0;32mfrom\u001b[0m \u001b[0mtime\u001b[0m \u001b[0;32mimport\u001b[0m \u001b[0msleep\u001b[0m\u001b[0;34m\u001b[0m\u001b[0;34m\u001b[0m\u001b[0m\n\u001b[0;32m----> 2\u001b[0;31m \u001b[0;36m1\u001b[0m\u001b[0;34m/\u001b[0m\u001b[0;36m0\u001b[0m\u001b[0;34m\u001b[0m\u001b[0;34m\u001b[0m\u001b[0m\n\u001b[0m\u001b[1;32m      3\u001b[0m \u001b[0mtogetmap\u001b[0m  \u001b[0;34m=\u001b[0m \u001b[0mtoget\u001b[0m\u001b[0;34m[\u001b[0m\u001b[0;34m'togetmap'\u001b[0m\u001b[0;34m]\u001b[0m\u001b[0;34m\u001b[0m\u001b[0;34m\u001b[0m\u001b[0m\n\u001b[1;32m      4\u001b[0m \u001b[0mrefstoget\u001b[0m \u001b[0;34m=\u001b[0m \u001b[0mtoget\u001b[0m\u001b[0;34m[\u001b[0m\u001b[0;34m'toget'\u001b[0m\u001b[0;34m]\u001b[0m\u001b[0;34m\u001b[0m\u001b[0;34m\u001b[0m\u001b[0m\n\u001b[1;32m      5\u001b[0m \u001b[0;32mfor\u001b[0m \u001b[0mia\u001b[0m\u001b[0;34m,\u001b[0m\u001b[0mitem\u001b[0m \u001b[0;32min\u001b[0m \u001b[0menumerate\u001b[0m\u001b[0;34m(\u001b[0m\u001b[0mrefstoget\u001b[0m\u001b[0;34m.\u001b[0m\u001b[0mmost_common\u001b[0m\u001b[0;34m(\u001b[0m\u001b[0;34m)\u001b[0m\u001b[0;34m)\u001b[0m\u001b[0;34m:\u001b[0m\u001b[0;34m\u001b[0m\u001b[0;34m\u001b[0m\u001b[0m\n",
      "\u001b[0;31mZeroDivisionError\u001b[0m: division by zero"
     ]
    }
   ],
   "source": [
    "from time import sleep\n",
    "togetmap  = toget['togetmap']\n",
    "refstoget = toget['toget']\n",
    "for ia,item in enumerate(refstoget.most_common()):\n",
    "    artistID, cnt = item[0], item[1]\n",
    "    ref      = togetmap[artistID]\n",
    "    url      = arts.getArtistURL(ref)\n",
    "    savename = arts.getArtistSavename(artistID)\n",
    "    if not isFile(savename):\n",
    "        try:\n",
    "            print('\\n{0}/{1}'.format(ia,len(refstoget)))\n",
    "            retval = arts.downloadArtistURL(url, savename, debug=True)\n",
    "            sleep(2)\n",
    "        except:\n",
    "            continue\n",
    "            \n",
    "    #print(item)\n",
    "#len(togetmap)"
   ]
  },
  {
   "cell_type": "markdown",
   "metadata": {},
   "source": [
    "# Artists From Search"
   ]
  },
  {
   "cell_type": "code",
   "execution_count": null,
   "metadata": {},
   "outputs": [],
   "source": [
    "arts.searchDiscogForArtist(\"Dodo And The Dodo's\")"
   ]
  },
  {
   "cell_type": "markdown",
   "metadata": {},
   "source": [
    "# Albums From Known People"
   ]
  },
  {
   "cell_type": "code",
   "execution_count": 7,
   "metadata": {},
   "outputs": [],
   "source": [
    "data = getFile(\"/Volumes/Music/MusicDB/toget.p\")"
   ]
  },
  {
   "cell_type": "code",
   "execution_count": null,
   "metadata": {},
   "outputs": [],
   "source": [
    "%load_ext autoreload\n",
    "%autoreload\n",
    "from albums import albums\n",
    "disc = discogs()\n",
    "discdf = disc.getMasterDiscogsDB()\n",
    "print(discdf.shape)\n",
    "discdf = discdf[~discdf['Name'].isna()]\n",
    "print(discdf.shape)\n",
    "\n",
    "artists = list(discdf[\"Artist\"])\n",
    "\n",
    "_ = clock(\"Last Run\")"
   ]
  },
  {
   "cell_type": "code",
   "execution_count": null,
   "metadata": {},
   "outputs": [],
   "source": [
    "def getMusicData(key, artist):\n",
    "    retval = discdf[discdf[key] == artist]\n",
    "    if retval.shape[0] > 0:\n",
    "        return retval\n",
    "    else:\n",
    "        return None\n",
    "    \n",
    "toget={}\n",
    "known={}\n",
    "\n",
    "for ia,artistName in enumerate(data):\n",
    "    #artistID = artistName\n",
    "    artistID = None\n",
    "    if artistID is None:\n",
    "        retval = getMusicData('Name', artistName)\n",
    "        if retval is not None:\n",
    "            artistID = retval.index.values[0]\n",
    "    modValue  = dutils.getDiscIDHashMod(discID=artistID, modval=disc.getMaxModVal())\n",
    "    if toget.get(modValue) is None:\n",
    "        toget[modValue] = {}\n",
    "    toget[modValue][artistID] = True\n",
    "        \n",
    "    if ia % 100 == 0:\n",
    "        print(ia,'/',len(data))"
   ]
  },
  {
   "cell_type": "code",
   "execution_count": null,
   "metadata": {},
   "outputs": [],
   "source": [
    "for modVal in toget.keys():\n",
    "    artistIDs = toget[modVal]\n",
    "    print(modVal,'\\t',len(artistIDs))\n",
    "    dbdata = disc.getArtistsDBModValData(modVal)\n",
    "    for artistID in artistIDs:\n",
    "        print(' ',artistID)\n",
    "        artistData = dbdata[artistID]\n",
    "        albs.downloadAlbumFromArtistData(artistID=artistID, artistData=artistData, mediaTypes=None)"
   ]
  },
  {
   "cell_type": "markdown",
   "metadata": {},
   "source": [
    "# Albums From All Artists"
   ]
  },
  {
   "cell_type": "code",
   "execution_count": null,
   "metadata": {},
   "outputs": [],
   "source": [
    "%load_ext autoreload\n",
    "%autoreload\n",
    "from albums import albums\n",
    "disc = discogs()\n",
    "albs = albums(disc)\n",
    "albs.downloadAlbumsFromArtists(maxAlbums=1, mediaTypes=None, rand=True)"
   ]
  },
  {
   "cell_type": "code",
   "execution_count": null,
   "metadata": {},
   "outputs": [],
   "source": []
  },
  {
   "cell_type": "markdown",
   "metadata": {},
   "source": [
    "# Artists From Collections"
   ]
  },
  {
   "cell_type": "code",
   "execution_count": 9,
   "metadata": {},
   "outputs": [
    {
     "name": "stdout",
     "output_type": "stream",
     "text": [
      "The autoreload extension is already loaded. To reload it, use:\n",
      "  %reload_ext autoreload\n",
      "Loading data from /Volumes/Music/Discog/db/CollectionRefCounts.p\n",
      "  --> This file is 27.1MB.\n",
      "Loading /Volumes/Music/Discog/db/CollectionRefCounts.p\n"
     ]
    }
   ],
   "source": [
    "%load_ext autoreload\n",
    "%autoreload\n",
    "\n",
    "from collection import Counter\n",
    "\n",
    "refCounts = Counter(disc.getCollectionRefCountsData())"
   ]
  },
  {
   "cell_type": "code",
   "execution_count": 29,
   "metadata": {},
   "outputs": [
    {
     "name": "stdout",
     "output_type": "stream",
     "text": [
      "Found 0 errors\n"
     ]
    }
   ],
   "source": [
    "try:\n",
    "    errFile = setFile(disc.getDiagnosticDir(), \"CollectionErrorsX.json\")\n",
    "    errs = getFile(errFile)\n",
    "except:\n",
    "    errs = {}\n",
    "    \n",
    "print(\"Found {0} errors\".format(len(errs)))\n",
    "nNext = len(errs)"
   ]
  },
  {
   "cell_type": "code",
   "execution_count": 30,
   "metadata": {},
   "outputs": [
    {
     "name": "stdout",
     "output_type": "stream",
     "text": [
      "Loading data from /Volumes/Music/Discog/db/ArtistIDToRef.p\n",
      "  --> This file is 12.2MB.\n",
      "Loading /Volumes/Music/Discog/db/ArtistIDToRef.p\n",
      "Processed 0/1490722  (Errs=0)\n",
      "Processed 2500/1490722  (Errs=0)\n",
      "Processed 5000/1490722  (Errs=0)\n",
      "Now Downloading in Artists(): https://www.discogs.com/artist/332344-Clarence-Brown?sort=year%2Casc&limit=500\n",
      "                   Saving as: /Volumes/Music/Discog/artists/44/332344.p\n",
      "Processed 7500/1490722  (Errs=1)\n",
      "Processed 10000/1490722  (Errs=1)\n",
      "Processed 12500/1490722  (Errs=1)\n",
      "Processed 15000/1490722  (Errs=1)\n",
      "Processed 17500/1490722  (Errs=1)\n",
      "Processed 20000/1490722  (Errs=1)\n",
      "Now Downloading in Artists(): https://www.discogs.com/artist/540538-Tlahoun-G%C3%83%C2%A8ss%C3%83%C2%A8ss%C3%83%C2%A8?sort=year%2Casc&limit=500\n",
      "                   Saving as: /Volumes/Music/Discog/artists/38/540538.p\n",
      "Now Downloading in Artists(): https://www.discogs.com/artist/488305-The-Benedictine-Monks-Of-Santo-Domingo-De-Silos?sort=year%2Casc&limit=500\n",
      "                   Saving as: /Volumes/Music/Discog/artists/5/488305.p\n",
      "Processed 22500/1490722  (Errs=3)\n",
      "Now Downloading in Artists(): https://www.discogs.com/artist/489429-Al%C3%83%C2%A8may%C3%83%C2%A8hu-Esh%C3%83%C2%A8t%C3%83%C2%A9?sort=year%2Casc&limit=500\n",
      "                   Saving as: /Volumes/Music/Discog/artists/29/489429.p\n",
      "Processed 25000/1490722  (Errs=4)\n",
      "Processed 27500/1490722  (Errs=4)\n",
      "Processed 30000/1490722  (Errs=4)\n",
      "Processed 32500/1490722  (Errs=4)\n",
      "Processed 35000/1490722  (Errs=4)\n",
      "Processed 37500/1490722  (Errs=4)\n",
      "Processed 40000/1490722  (Errs=4)\n",
      "Processed 42500/1490722  (Errs=4)\n",
      "Now Downloading in Artists(): https://www.discogs.com/artist/563985-G%C3%83%C2%A9tatch%C3%83%C2%A8w-M%C3%83%C2%A8kurya?sort=year%2Casc&limit=500\n",
      "                   Saving as: /Volumes/Music/Discog/artists/85/563985.p\n",
      "Processed 45000/1490722  (Errs=5)\n",
      "Processed 47500/1490722  (Errs=5)\n",
      "Processed 50000/1490722  (Errs=5)\n",
      "Processed 52500/1490722  (Errs=5)\n",
      "Now Downloading in Artists(): https://www.discogs.com/artist/92815-Mama-Cass?sort=year%2Casc&limit=500\n",
      "                   Saving as: /Volumes/Music/Discog/artists/15/92815.p\n",
      "Now Downloading in Artists(): https://www.discogs.com/artist/2959656-Katsutaro-Kouta?sort=year%2Casc&limit=500\n",
      "                   Saving as: /Volumes/Music/Discog/artists/56/2959656.p\n"
     ]
    },
    {
     "name": "stderr",
     "output_type": "stream",
     "text": [
      "ERROR:root:Internal Python error in the inspect module.\n",
      "Below is the traceback from this internal error.\n",
      "\n"
     ]
    },
    {
     "name": "stdout",
     "output_type": "stream",
     "text": [
      "Traceback (most recent call last):\n",
      "  File \"/anaconda3/envs/py37/lib/python3.7/site-packages/IPython/core/interactiveshell.py\", line 3296, in run_code\n",
      "    exec(code_obj, self.user_global_ns, self.user_ns)\n",
      "  File \"<ipython-input-30-8212f2f97486>\", line 35, in <module>\n",
      "    sleep(3)\n",
      "KeyboardInterrupt\n",
      "\n",
      "During handling of the above exception, another exception occurred:\n",
      "\n",
      "Traceback (most recent call last):\n",
      "  File \"/anaconda3/envs/py37/lib/python3.7/site-packages/IPython/core/interactiveshell.py\", line 2033, in showtraceback\n",
      "    stb = value._render_traceback_()\n",
      "AttributeError: 'KeyboardInterrupt' object has no attribute '_render_traceback_'\n",
      "\n",
      "During handling of the above exception, another exception occurred:\n",
      "\n",
      "Traceback (most recent call last):\n",
      "  File \"/anaconda3/envs/py37/lib/python3.7/site-packages/IPython/core/ultratb.py\", line 1095, in get_records\n",
      "    return _fixed_getinnerframes(etb, number_of_lines_of_context, tb_offset)\n",
      "  File \"/anaconda3/envs/py37/lib/python3.7/site-packages/IPython/core/ultratb.py\", line 313, in wrapped\n",
      "    return f(*args, **kwargs)\n",
      "  File \"/anaconda3/envs/py37/lib/python3.7/site-packages/IPython/core/ultratb.py\", line 347, in _fixed_getinnerframes\n",
      "    records = fix_frame_records_filenames(inspect.getinnerframes(etb, context))\n",
      "  File \"/anaconda3/envs/py37/lib/python3.7/inspect.py\", line 1502, in getinnerframes\n",
      "    frameinfo = (tb.tb_frame,) + getframeinfo(tb, context)\n",
      "  File \"/anaconda3/envs/py37/lib/python3.7/inspect.py\", line 1460, in getframeinfo\n",
      "    filename = getsourcefile(frame) or getfile(frame)\n",
      "  File \"/anaconda3/envs/py37/lib/python3.7/inspect.py\", line 696, in getsourcefile\n",
      "    if getattr(getmodule(object, filename), '__loader__', None) is not None:\n",
      "  File \"/anaconda3/envs/py37/lib/python3.7/inspect.py\", line 733, in getmodule\n",
      "    if ismodule(module) and hasattr(module, '__file__'):\n",
      "KeyboardInterrupt\n"
     ]
    },
    {
     "ename": "KeyboardInterrupt",
     "evalue": "",
     "output_type": "error",
     "traceback": [
      "\u001b[0;31m---------------------------------------------------------------------------\u001b[0m"
     ]
    }
   ],
   "source": [
    "n = len(refCounts)\n",
    "nFalse = 0\n",
    "nNone  = 0\n",
    "nTrue  = 0\n",
    "artistIDs = disc.getArtistIDToRefData()\n",
    "\n",
    "for i,(ref,cnts) in enumerate(refCounts.most_common()):\n",
    "    if i % 2500 == 0:\n",
    "        print(\"Processed {0}/{1}  (Errs={2})\".format(i,n, len(errs)))\n",
    "        \n",
    "    if errs.get(ref) is not None:\n",
    "        continue\n",
    "        \n",
    "    artistID = dutils.getArtistID(ref)\n",
    "    if artistID is None:\n",
    "        continue\n",
    "    if artistIDs.get(artistID) is None:\n",
    "        url      = arts.getArtistURL(ref)\n",
    "        savename = arts.getArtistSavename(artistID)\n",
    "        if isFile(savename):\n",
    "            continue\n",
    "            \n",
    "        try:\n",
    "            retval = arts.downloadArtistURL(url=url, savename=savename, parse=True, debug=True)\n",
    "        except:\n",
    "            retval = None\n",
    "            \n",
    "        if retval is None:\n",
    "            nNone += 1\n",
    "            errs[ref] = \"None\"\n",
    "        if retval is False:\n",
    "            nFalse += 1\n",
    "            errs[ref] = \"False\"\n",
    "            \n",
    "        sleep(3)\n",
    "\n",
    "    if (nNone % 100 == 0 or nFalse % 100 == 0) and (nNone > 0 and nFalse > 0):\n",
    "        print(\"There have been {0} errors so far...\".format(nNone))\n",
    "        print(\"There have been {0} no saves so far...\".format(nFalse))\n",
    "        print(\"There have been {0} full saves so far...\".format(nTrue))\n",
    "        \n",
    "        errFile = setFile(disc.getDiagnosticDir(), \"CollectionErrors.json\")\n",
    "        saveFile(ifile=errFile, idata=errs)\n",
    "\n",
    "\n",
    "            \n",
    "    if len(errs) == nNext + 250:\n",
    "        errFile = setFile(disc.getDiagnosticDir(), \"CollectionErrors.json\")\n",
    "        saveFile(ifile=errFile, idata=errs)\n",
    "        print(\"Breaking after 250 errors\")\n",
    "        break"
   ]
  },
  {
   "cell_type": "code",
   "execution_count": 24,
   "metadata": {},
   "outputs": [
    {
     "data": {
      "text/plain": [
       "500"
      ]
     },
     "execution_count": 24,
     "metadata": {},
     "output_type": "execute_result"
    }
   ],
   "source": [
    "len(errs)"
   ]
  },
  {
   "cell_type": "code",
   "execution_count": 25,
   "metadata": {},
   "outputs": [
    {
     "data": {
      "text/plain": [
       "'/Volumes/Music/Discog/diagnostic'"
      ]
     },
     "execution_count": 25,
     "metadata": {},
     "output_type": "execute_result"
    }
   ],
   "source": [
    "disc.getDiagnosticDir()"
   ]
  },
  {
   "cell_type": "code",
   "execution_count": null,
   "metadata": {},
   "outputs": [],
   "source": []
  }
 ],
 "metadata": {
  "kernelspec": {
   "display_name": "Python 3",
   "language": "python",
   "name": "python3"
  },
  "language_info": {
   "codemirror_mode": {
    "name": "ipython",
    "version": 3
   },
   "file_extension": ".py",
   "mimetype": "text/x-python",
   "name": "python",
   "nbconvert_exporter": "python",
   "pygments_lexer": "ipython3",
   "version": "3.7.3"
  }
 },
 "nbformat": 4,
 "nbformat_minor": 2
}
