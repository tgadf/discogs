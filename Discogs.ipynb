{
 "cells": [
  {
   "cell_type": "markdown",
   "metadata": {},
   "source": [
    "# Discogs Functions"
   ]
  },
  {
   "cell_type": "code",
   "execution_count": null,
   "metadata": {},
   "outputs": [],
   "source": [
    "## Basic stuff\n",
    "%load_ext autoreload\n",
    "%autoreload\n",
    "from IPython.core.display import display, HTML\n",
    "display(HTML(\"<style>.container { width:100% !important; }</style>\"))\n",
    "display(HTML(\"\"\"<style>div.output_area{max-height:10000px;overflow:scroll;}</style>\"\"\"))\n",
    "\n",
    "## Python Version\n",
    "import sys\n",
    "print(\"Python: {0}\".format(sys.version))\n",
    "\n",
    "from ioUtils import saveJoblib, loadJoblib, saveFile, getFile\n",
    "import urllib\n",
    "from urllib.parse import quote\n",
    "\n",
    "from discogsBase import discogs\n",
    "from discogsUtils import discogsUtils\n",
    "from collection import collections\n",
    "from artist import artist\n",
    "from timeUtils import clock, elapsed\n",
    "from fsUtils import moveFile, setFile, setDir, setSubDir, isFile, isDir, mkDir\n",
    "from fileUtils import getFileBasics, getBasename\n",
    "from artists import artists\n",
    "from artist import artist\n",
    "from albums import albums\n",
    "from album import album, albumURLInfo\n",
    "from time import sleep\n",
    "\n",
    "import datetime as dt\n",
    "start = dt.datetime.now()\n",
    "print(\"Notebook Last Run Initiated: \"+str(start))"
   ]
  },
  {
   "cell_type": "code",
   "execution_count": null,
   "metadata": {},
   "outputs": [],
   "source": [
    "%load_ext autoreload\n",
    "%autoreload\n",
    "disc = discogs()\n",
    "arts = artists(disc)\n",
    "art  = artist()\n",
    "albs = albums(disc)\n",
    "alb  = album()\n",
    "dutils = discogsUtils()"
   ]
  },
  {
   "cell_type": "markdown",
   "metadata": {},
   "source": [
    "# Artist Section"
   ]
  },
  {
   "cell_type": "markdown",
   "metadata": {},
   "source": [
    "# Parse Artists (Parallel)"
   ]
  },
  {
   "cell_type": "code",
   "execution_count": null,
   "metadata": {},
   "outputs": [],
   "source": [
    "for modVal in range(50):\n",
    "    parseArtists(modVal)"
   ]
  },
  {
   "cell_type": "code",
   "execution_count": null,
   "metadata": {},
   "outputs": [],
   "source": [
    "%load_ext autoreload\n",
    "%autoreload\n",
    "\n",
    "from artist import artist\n",
    "from artists import artists\n",
    "arts = artists(disc)\n",
    "\n",
    "def parseArtists(modVal, force=False, doExtra=False):\n",
    "    #arts.parseArtistModValFiles(modVal, force=force)\n",
    "    arts.parseArtistModValExtraFiles(modVal)\n",
    "\n",
    "\n",
    "def parseArtistsParallel(nProc=3, force=False):\n",
    "    pool = Pool(processes=nProcs)\n",
    "    result = pool.map_async(parseArtists, range(100)) \n",
    "    start, cmt = clock(\"Processing {0} modVals using {1} processes\".format(modVals, nProcs))\n",
    "    while not result.ready():\n",
    "        if force is True:\n",
    "            time.sleep(10)\n",
    "        else:\n",
    "            time.sleep(1)\n",
    "    print(\"\")\n",
    "    \n",
    "    elapsed(start, cmt)\n",
    "    return result.get()\n",
    "\n",
    "start,cmt=clock(\"Parsing All Artists\")\n",
    "start2,cmt2=clock(\"Parallel Artist Parsing\")\n",
    "#parseArtistsParallel()\n",
    "elapsed(start2, cmt2)\n",
    "#arts.buildMetadata(force=False, doAlbums=False)\n",
    "elapsed(start, cmt)"
   ]
  },
  {
   "cell_type": "markdown",
   "metadata": {},
   "source": [
    "# Download Artist Albums"
   ]
  },
  {
   "cell_type": "code",
   "execution_count": null,
   "metadata": {},
   "outputs": [],
   "source": [
    "disc.getDiagnosticAlbumIDs()"
   ]
  },
  {
   "cell_type": "code",
   "execution_count": null,
   "metadata": {
    "scrolled": true
   },
   "outputs": [],
   "source": [
    "%load_ext autoreload\n",
    "%autoreload\n",
    "from albums import albums\n",
    "disc = discogs()\n",
    "albs = albums(disc)\n",
    "albs.downloadAlbumsFromArtists(maxAlbums=25, mediaTypes=None, rand=True)"
   ]
  },
  {
   "cell_type": "code",
   "execution_count": null,
   "metadata": {},
   "outputs": [],
   "source": []
  },
  {
   "cell_type": "markdown",
   "metadata": {},
   "source": [
    "# Download Searched Artist"
   ]
  },
  {
   "cell_type": "code",
   "execution_count": null,
   "metadata": {},
   "outputs": [],
   "source": [
    "%load_ext autoreload\n",
    "%autoreload\n",
    "from albums import albums\n",
    "disc = discogs()\n",
    "arts = artists(disc)"
   ]
  },
  {
   "cell_type": "code",
   "execution_count": null,
   "metadata": {},
   "outputs": [],
   "source": [
    "arts.searchDiscogForArtist(\"Melanie Sparks\")"
   ]
  },
  {
   "cell_type": "markdown",
   "metadata": {},
   "source": [
    "# Download Old Artist"
   ]
  },
  {
   "cell_type": "code",
   "execution_count": null,
   "metadata": {},
   "outputs": [],
   "source": [
    "from time import ctime\n",
    "from os import stat\n",
    "from os.path import getctime\n",
    "from timeUtils import getDateTime\n",
    "from searchUtils import findDirs, findExt\n",
    "\n",
    "artistIDs = {}\n",
    "for dirval in findDirs(\"/Volumes/Music/Discog/artists/\"):\n",
    "    print(dirval,end=\"\\t\")\n",
    "    for ifile in findExt(dirval, ext=\".p\"):\n",
    "        mtime = ctime(getctime(ifile))\n",
    "        dtime = getDateTime(mtime)        \n",
    "        if dtime.year < 2019:\n",
    "            artistIDs[ifile] = True\n",
    "            continue\n",
    "            artData = arts.getData(ifile)\n",
    "            ID  = artData.ID.ID\n",
    "            url = artData.url.url\n",
    "            artistIDs[ID] = url\n",
    "    print(len(artistIDs))"
   ]
  },
  {
   "cell_type": "code",
   "execution_count": null,
   "metadata": {},
   "outputs": [],
   "source": [
    "artistIDtoName = disc.getArtistIDToNameData()\n",
    "artistIDtoRef  = disc.getArtistIDToRefData()"
   ]
  },
  {
   "cell_type": "code",
   "execution_count": null,
   "metadata": {},
   "outputs": [],
   "source": [
    "from fileUtils import getBaseFilename"
   ]
  },
  {
   "cell_type": "code",
   "execution_count": null,
   "metadata": {},
   "outputs": [],
   "source": [
    "for ifile,artistURL in artistIDs.items():\n",
    "    artistID = getBaseFilename(ifile)\n",
    "    try:\n",
    "        name = artistIDtoName[artistID]\n",
    "    except:\n",
    "        continue\n",
    "    try:\n",
    "        ref = artistIDtoRef[artistID]\n",
    "    except:\n",
    "        continue\n",
    "        \n",
    "    #print(artistID,name,ref,ifile)\n",
    "    #1/0\n",
    "        \n",
    "    if len(name) != len(name.encode()):\n",
    "        print(artistID,'\\t',name)\n",
    "        url = arts.getArtistURL(ref)\n",
    "        savename = arts.getArtistSavename(artistID)\n",
    "        try:\n",
    "            arts.downloadArtistURL(url=url, savename=savename, force=True, sleeptime=1.75)\n",
    "        except:\n",
    "            continue"
   ]
  },
  {
   "cell_type": "code",
   "execution_count": null,
   "metadata": {},
   "outputs": [],
   "source": []
  },
  {
   "cell_type": "code",
   "execution_count": null,
   "metadata": {},
   "outputs": [],
   "source": []
  },
  {
   "cell_type": "code",
   "execution_count": null,
   "metadata": {},
   "outputs": [],
   "source": [
    "arts.parseArtistModValFiles(38, force=True)\n",
    "#arts.buildMetadata"
   ]
  },
  {
   "cell_type": "code",
   "execution_count": null,
   "metadata": {},
   "outputs": [],
   "source": [
    "db38 = disc.getArtistsDBModValData(38)"
   ]
  },
  {
   "cell_type": "code",
   "execution_count": null,
   "metadata": {},
   "outputs": [],
   "source": [
    "db38['216138'].artist.get()"
   ]
  },
  {
   "cell_type": "code",
   "execution_count": null,
   "metadata": {},
   "outputs": [],
   "source": [
    "#[db38[x].artist.get()['name'] for x in db38.keys()]\n",
    "discDB = disc.getArtistIDToNameData()"
   ]
  },
  {
   "cell_type": "code",
   "execution_count": null,
   "metadata": {},
   "outputs": [],
   "source": [
    "discDB['216138']"
   ]
  },
  {
   "cell_type": "code",
   "execution_count": null,
   "metadata": {},
   "outputs": [],
   "source": [
    "%load_ext autoreload\n",
    "%autoreload\n",
    "\n",
    "from artists import artists\n",
    "disc = discogs()\n",
    "arts = artists(disc)\n",
    "arts.buildMetadata(doAlbums=False, force=True)"
   ]
  },
  {
   "cell_type": "markdown",
   "metadata": {},
   "source": [
    "# Download Most Common Artist Albums"
   ]
  },
  {
   "cell_type": "code",
   "execution_count": null,
   "metadata": {},
   "outputs": [],
   "source": [
    "from collections import Counter\n",
    "db = Counter(disc.getCollectionRefCountsData())\n",
    "coreAlbumsRefs = disc.getArtistIDCoreAlbumRefs()\n",
    "artistMetaData = disc.getAlbumArtistMetaData()\n",
    "albumDB = disc.getAlbumIDToRefData()"
   ]
  },
  {
   "cell_type": "code",
   "execution_count": null,
   "metadata": {},
   "outputs": [],
   "source": [
    "toget = {}\n",
    "for item in db.most_common(1000):\n",
    "    ref,cnt  = item[0],item[1]\n",
    "    artistID = dutils.getArtistID(ref)\n",
    "    modVal   = str(int(artistID[-2:]))\n",
    "    \n",
    "    try:\n",
    "        genre = artistMetaData[artistID]['Genre'].most_common(1)[0][0]\n",
    "    except:\n",
    "        continue\n",
    "    #if genre not in [\"Rock\", \"Pop\", \"Hip Hop\"]:\n",
    "    #    continue\n",
    "\n",
    "    if toget.get(artistID) is None:\n",
    "        toget[artistID] = {}\n",
    "        \n",
    "    \n",
    "    coreAlbums = coreAlbumsRefs.get(artistID)\n",
    "    #if len(coreAlbums) % 25 == 0:\n",
    "    #print(\"{0: <50}{1: <30}{2: <10}{3}\".format(ref,genre,artistID,len(coreAlbums)))\n",
    "        \n",
    "    for albumID,albumRef in coreAlbums.items():\n",
    "        haveIt = albumDB.get(albumID)\n",
    "        #print(\"\\t{0: <15}{1}\".format(albumID,haveIt))\n",
    "        if haveIt is None:\n",
    "            toget[artistID][albumID] = albumRef\n",
    "            \n",
    "    print(\"{0: <15}{1: <30}{2: <5}{3: <5}\".format(artistID, genre, len(toget[artistID]), len(coreAlbums)))\n",
    "        \n",
    "    continue\n",
    "    if False:\n",
    "        print(artistID,'\\t',ref)\n",
    "        arts.rmIDFromDB(artistID)\n",
    "        url = arts.getArtistURL(ref)\n",
    "        savename = arts.getArtistSavename(artistID)\n",
    "        arts.downloadArtistURL(url=url, savename=savename)\n",
    "        sleep(2)\n",
    "    #print(artistID,item,len(coreAlbums))"
   ]
  },
  {
   "cell_type": "code",
   "execution_count": null,
   "metadata": {},
   "outputs": [],
   "source": [
    "len(toget)"
   ]
  },
  {
   "cell_type": "code",
   "execution_count": null,
   "metadata": {},
   "outputs": [],
   "source": [
    "known = {}"
   ]
  },
  {
   "cell_type": "code",
   "execution_count": null,
   "metadata": {},
   "outputs": [],
   "source": [
    "# Ignore 0-311 (start with Carl Perkins)\n",
    "known = getFile(\"ignoreAlbum.p\")\n",
    "for ia,(artistID,albumRefs) in enumerate(toget.items()):\n",
    "    print(\"\\n|\\n| {0} \\t {1}\\n|\\n\".format(ia,artistID))\n",
    "    for i,(albumID,albumRef) in enumerate(albumRefs.items()):\n",
    "        url = albs.getAlbumURL(albumRef)\n",
    "            \n",
    "        savename = albs.getAlbumSavename(artistID, albumID)\n",
    "        if isFile(savename):\n",
    "            continue\n",
    "\n",
    "        if ia != 563:\n",
    "            if known.get(url) is True:\n",
    "                continue\n",
    "\n",
    "        if False:\n",
    "            known[url] = True\n",
    "            continue\n",
    "            \n",
    "        print(artistID,'\\t',ia,'\\t',len(toget),'\\t\\t',i,'/',len(albumRefs),'\\t',artistID)\n",
    "        print(\"\\tGetting: {0}\".format(savename))\n",
    "        retval = albs.downloadAlbumURLData(url=url, savename=savename, artistID=artistID, sleeptime=1.75)\n",
    "        if retval is False:\n",
    "            known[url] = True\n",
    "            if len(known) % 5 == 0:\n",
    "                print(\"\\n====>    There are now {0} known downloaded albums    <====\\n\".format(len(known)))\n",
    "                saveFile(idata=known, ifile=\"ignoreAlbum.p\")"
   ]
  },
  {
   "cell_type": "code",
   "execution_count": null,
   "metadata": {},
   "outputs": [],
   "source": [
    "len(known)"
   ]
  },
  {
   "cell_type": "code",
   "execution_count": null,
   "metadata": {},
   "outputs": [],
   "source": [
    "saveFile(idata=known, ifile=\"ignoreAlbum.p\")"
   ]
  },
  {
   "cell_type": "code",
   "execution_count": null,
   "metadata": {},
   "outputs": [],
   "source": [
    "known = getFile(\"ignoreAlbum.p\")"
   ]
  },
  {
   "cell_type": "code",
   "execution_count": null,
   "metadata": {},
   "outputs": [],
   "source": [
    "for artistID,artistRefs in toget.items():\n",
    "    print(artistID,len(artistRefs))"
   ]
  },
  {
   "cell_type": "code",
   "execution_count": null,
   "metadata": {},
   "outputs": [],
   "source": [
    "tmp = disc.getAlbumIDToArtistIDData()"
   ]
  },
  {
   "cell_type": "code",
   "execution_count": null,
   "metadata": {},
   "outputs": [],
   "source": [
    "db30 = disc.getAlbumsDBModValData(44)\n",
    "from collections import Counter"
   ]
  },
  {
   "cell_type": "code",
   "execution_count": null,
   "metadata": {},
   "outputs": [],
   "source": [
    "artistMetaData = {}\n",
    "for artistID,artistData in db30.items():\n",
    "    print(artistID)\n",
    "    artistMetaData[artistID] = {\"Genre\": Counter(), \"Artists\": Counter(), \"Style\": Counter()}\n",
    "    for albumID,albumData in artistData.items():\n",
    "        genres = albumData.profile.genre\n",
    "        if not isinstance(genres, list):\n",
    "            genres = [genres]\n",
    "        for genre in genres:\n",
    "            artistMetaData[artistID]['Genre'][genre.name] += 1\n",
    "        \n",
    "        artists = albumData.artist.artists\n",
    "        for artist in artists:\n",
    "            artistMetaData[artistID]['Artists'][artist.name] += 1\n",
    "        \n",
    "        styles = albumData.profile.style\n",
    "        if not isinstance(styles, list):\n",
    "            styles = [styles]\n",
    "        for style in styles:\n",
    "            artistMetaData[artistID]['Style'][style.name] += 1"
   ]
  },
  {
   "cell_type": "code",
   "execution_count": null,
   "metadata": {},
   "outputs": [],
   "source": [
    "artistMetaData"
   ]
  },
  {
   "cell_type": "code",
   "execution_count": null,
   "metadata": {},
   "outputs": [],
   "source": [
    "albdata = albs.getData(ifile)"
   ]
  },
  {
   "cell_type": "code",
   "execution_count": null,
   "metadata": {},
   "outputs": [],
   "source": [
    "for k,v in albdata.get().items():\n",
    "    print(k,'\\t',v.get())"
   ]
  },
  {
   "cell_type": "code",
   "execution_count": null,
   "metadata": {},
   "outputs": [],
   "source": [
    "ArtistAlbums = disc.getArtistIDCoreAlbumIDs()\n",
    "AlbumIDToName = disc.getAlbumIDToNameData()"
   ]
  },
  {
   "cell_type": "code",
   "execution_count": null,
   "metadata": {},
   "outputs": [],
   "source": [
    "from string import ascii_uppercase, digits, punctuation\n",
    "vals = \"{0}{1}{2}\".format(ascii_uppercase, digits, punctuation)\n",
    "AsciiToName = {val: [x for x in NameToIDs.keys() if (x.startswith(val) or x.startswith(val.lower()))] for val in vals}"
   ]
  },
  {
   "cell_type": "code",
   "execution_count": null,
   "metadata": {},
   "outputs": [],
   "source": [
    "ddb = discdb(disc)\n",
    "ddb.loadArtistDBs(IDToName=IDToName, NameToIDs=NameToIDs, AsciiToName=AsciiToName)\n",
    "ddb.loadAlbumDBs(ArtistAlbums=ArtistAlbums, AlbumIDToName=AlbumIDToName)\n",
    "ddb.findArtist(\"Prince\", num=1)\n",
    "ddb.findArtistAlbums()"
   ]
  },
  {
   "cell_type": "code",
   "execution_count": null,
   "metadata": {},
   "outputs": [],
   "source": [
    "%load_ext autoreload\n",
    "%autoreload\n",
    "disc   = discogs()\n",
    "arts   = artists(disc)\n",
    "albs   = albums(disc)\n",
    "dutils = discogsUtils()\n",
    "col    = collections(disc)\n",
    "\n",
    "for modVal in list(range(99, 50, -1)):\n",
    "    albs.downloadAlbumModValData(modVal, maxAlbums=1)"
   ]
  },
  {
   "cell_type": "code",
   "execution_count": null,
   "metadata": {},
   "outputs": [],
   "source": [
    "IDToName    = disc.getArtistIDToNameData()\n",
    "IDToRef     = disc.getArtistIDToRefData()\n",
    "AlbIDToName = disc.getAlbumIDToNameData()\n",
    "AlbIDToRef  = disc.getAlbumIDToRefData()\n",
    "\n",
    "IDToCoreAlbID = disc.getArtistIDCoreAlbumIDs()\n",
    "IDToAlbID     = disc.getArtistIDAlbumIDs()"
   ]
  },
  {
   "cell_type": "code",
   "execution_count": null,
   "metadata": {},
   "outputs": [],
   "source": [
    "df = DataFrame.fromIDToCoreAlbID"
   ]
  },
  {
   "cell_type": "code",
   "execution_count": null,
   "metadata": {},
   "outputs": [],
   "source": [
    "x   = {k: \":\".join(v) for k,v in IDToCoreAlbID.items()}\n",
    "pdf = DataFrame.from_dict(x, orient='index')"
   ]
  },
  {
   "cell_type": "code",
   "execution_count": null,
   "metadata": {},
   "outputs": [],
   "source": [
    "pdf"
   ]
  },
  {
   "cell_type": "code",
   "execution_count": null,
   "metadata": {},
   "outputs": [],
   "source": [
    "from itertools import islice\n",
    "def takeN(n, iterable):\n",
    "    if isinstance(iterable, dict):\n",
    "        \"Return first n items of the iterable as a list\"\n",
    "        #keys = takeN(n, iterable.keys())\n",
    "        keys = list(islice(iterable, n))        \n",
    "        return {k: iterable[k] for k in keys}\n",
    "    elif isinstance(iterable, list):\n",
    "        \"Return first n items of the iterable as a list\"\n",
    "        return list(islice(iterable, n))\n",
    "    else:\n",
    "        print(\"No idea about {0}\".format(type(iterable)))\n",
    "        return None\n",
    "\n",
    "\n",
    "#n_items = takeN(500000, ddb.NameToIDs.keys())\n",
    "#n_items = ddb.NameToIDs.keys()"
   ]
  },
  {
   "cell_type": "code",
   "execution_count": null,
   "metadata": {},
   "outputs": [],
   "source": []
  },
  {
   "cell_type": "code",
   "execution_count": null,
   "metadata": {},
   "outputs": [],
   "source": [
    "from itertools import islice\n",
    "def takeN(n, iterable):\n",
    "    \"Return first n items of the iterable as a list\"\n",
    "    return list(islice(iterable, n))\n",
    "\n",
    "n_items = takeN(500000, ddb.NameToIDs.keys())\n",
    "n_items = ddb.NameToIDs.keys()"
   ]
  },
  {
   "cell_type": "code",
   "execution_count": null,
   "metadata": {},
   "outputs": [],
   "source": [
    "db38 = disc.getArtistsDBModValData(38)\n",
    "db38['1032538']"
   ]
  },
  {
   "cell_type": "code",
   "execution_count": null,
   "metadata": {},
   "outputs": [],
   "source": [
    "db38['1032538'].artist.get()"
   ]
  },
  {
   "cell_type": "code",
   "execution_count": null,
   "metadata": {},
   "outputs": [],
   "source": [
    "artistIDtoName  = disc.getArtistIDToNameData()"
   ]
  },
  {
   "cell_type": "code",
   "execution_count": null,
   "metadata": {},
   "outputs": [],
   "source": [
    "artistIDtoName['1032538']"
   ]
  },
  {
   "cell_type": "code",
   "execution_count": null,
   "metadata": {},
   "outputs": [],
   "source": [
    "adc = arts.getData('/Volumes/Music/Discog/artists/38/1032538.p')\n",
    "adc.artist.get()"
   ]
  },
  {
   "cell_type": "code",
   "execution_count": null,
   "metadata": {
    "scrolled": false
   },
   "outputs": [],
   "source": [
    "#col.createCollectionsData()\n",
    "#col.downloadCollections()\n",
    "#col.parseCollections()\n",
    "#col.mergeCollections(debug=True, force=True)\n",
    "#col.createCollectionDBs(debug=True)"
   ]
  },
  {
   "cell_type": "code",
   "execution_count": null,
   "metadata": {
    "scrolled": true
   },
   "outputs": [],
   "source": [
    "disc.moveAlbumFilesToNewModValue(newModValue=100, oldModValue=500)"
   ]
  },
  {
   "cell_type": "markdown",
   "metadata": {},
   "source": [
    "# Artist Section"
   ]
  },
  {
   "cell_type": "code",
   "execution_count": null,
   "metadata": {},
   "outputs": [],
   "source": [
    "db = disc.getArtistNameToIDsData()"
   ]
  },
  {
   "cell_type": "code",
   "execution_count": null,
   "metadata": {
    "scrolled": true
   },
   "outputs": [],
   "source": [
    "#arts = artists(disc)\n",
    "#art.findKnownArtists(debug=True)\n",
    "#art.findUnknownArtists(minVal=200, debug=True)\n",
    "#art.downloadUnknownArtists(debug=True)\n",
    "#arts.parseArtistFiles()\n",
    "#art.searchDiscogForArtist(\"Melanie Sparks\")\n",
    "#arts.buildMetadata()"
   ]
  },
  {
   "cell_type": "markdown",
   "metadata": {},
   "source": [
    "# Albums Metadata"
   ]
  },
  {
   "cell_type": "code",
   "execution_count": null,
   "metadata": {},
   "outputs": [],
   "source": [
    "artistNameToID   = disc.getArtistNameToIDData()\n",
    "artistNameToIDs  = disc.getArtistNameToIDsData()\n",
    "artistIDToName   = disc.getArtistIDToNameData()        \n",
    "artistRefToID    = disc.getArtistRefToIDData()\n",
    "artistIDToRef    = disc.getArtistIDToRefData()\n",
    "artistRefToName  = disc.getArtistRefToNameData()\n",
    "artistNameToRef  = disc.getArtistNameToRefData()\n",
    "artistNameToRefs = disc.getArtistNameToRefsData()"
   ]
  },
  {
   "cell_type": "code",
   "execution_count": null,
   "metadata": {},
   "outputs": [],
   "source": []
  },
  {
   "cell_type": "code",
   "execution_count": null,
   "metadata": {},
   "outputs": [],
   "source": [
    "albumRefToName  = disc.getAlbumRefToNameData()\n",
    "albumNameToRef  = disc.getAlbumNameToRefData()\n",
    "\n",
    "artistIDCoreAlbumIDs   = disc.getArtistIDCoreAlbumNames()\n",
    "artistIDAlbumIDs       = disc.getArtistIDAlbumNames()\n",
    "\n"
   ]
  },
  {
   "cell_type": "code",
   "execution_count": null,
   "metadata": {
    "scrolled": false
   },
   "outputs": [],
   "source": [
    "from collections import Counter\n",
    "core = [\"Albums\"]\n",
    "albumCntr = Counter()\n",
    "\n",
    "\n",
    "print(\"{0: <4}{1: <50}{2: <15}{3: <15}{4: <12}{5: <12}{6: <12}{7: <12}{8: <12}{9: <12}\".format(\n",
    "    \"#\",\"File\",\"Core IDs-IDs\",\"IDs-IDs\",\"Name-IDs\",\"Name-Refs\",\"ID-Names\",\"ID-Refs\",\"Ref-IDs\",\"Ref-Names\"))\n",
    "\n",
    "\n",
    "for i,dbfile in enumerate(dbfiles):\n",
    "    db = getFile(dbfile)\n",
    "    for artistID,artistData in db.items():\n",
    "        artist      = artistData['Artist']\n",
    "        artistName  = dutils.getArtistName(artist)\n",
    "        artistRef   = artistData['URL']\n",
    "        #print(\"{0: <20}{1: <50}{2}\".format(artistID,artist,artistRef))\n",
    "        \n",
    "    print(\"{0: <4}{1: <50}{2: <15}{3: <15}{4: <12}{5: <12}{6: <12}{7: <12}{8: <12}{9: <12}\".format(\n",
    "        i,dbfile,\n",
    "        len(artistIDCoreAlbumIDs),len(artistIDAlbumIDs),\n",
    "        len(albumNameToID),len(albumNameToRef),len(albumIDToName),\n",
    "        len(albumIDToRef),len(albumRefToID),len(albumRefToName)))\n",
    "\n"
   ]
  },
  {
   "cell_type": "code",
   "execution_count": null,
   "metadata": {},
   "outputs": [],
   "source": [
    "ifile=\"/Volumes/Music/Discog/artists/0/9900.p\"\n",
    "fdata = getHTML(getFile(ifile, version=2))\n",
    "an = artistName(fdata)\n",
    "an.getArtist()\n",
    "#name = artistName(fdata)\n",
    "#name\n"
   ]
  },
  {
   "cell_type": "code",
   "execution_count": null,
   "metadata": {},
   "outputs": [],
   "source": [
    "cnts   = [x.split()[0] for x in vals.split(\"\\n\")]\n",
    "styles = [\" \".join(x.split()[1:]) for x in vals.split(\"\\n\")]\n",
    "d2000  = dict(zip(cnts, styles))\n",
    "saveFile(idata=d2000, ifile=\"soundtracks.p\")"
   ]
  },
  {
   "cell_type": "markdown",
   "metadata": {},
   "source": [
    "# Albums"
   ]
  },
  {
   "cell_type": "code",
   "execution_count": null,
   "metadata": {
    "scrolled": true
   },
   "outputs": [],
   "source": [
    "albs = albums(disc)\n",
    "albs.parseAlbumFiles()"
   ]
  },
  {
   "cell_type": "code",
   "execution_count": null,
   "metadata": {},
   "outputs": [],
   "source": [
    "getFile('/Volumes/Music/Discog/albums-db/NAN-DB.p')"
   ]
  },
  {
   "cell_type": "code",
   "execution_count": null,
   "metadata": {
    "scrolled": true
   },
   "outputs": [],
   "source": [
    "import random\n",
    "albs = albums(disc)\n",
    "nErrs = False\n",
    "while nErrs is False:\n",
    "    nErrs = True\n",
    "    albs.downloadAlbumDataData(int(random.uniform(0,disc.getMaxModVal()))) #, mediaTypes=None)        \n",
    "    if False:\n",
    "        nErrs = False\n",
    "        print(\"Sleeping for 60 seconds...\")\n",
    "        sleep(60)\n",
    "#art.findKnownArtists(debug=True)\n",
    "#art.findUnknownArtists(minVal=200, debug=True)\n",
    "#art.downloadUnknownArtists(debug=True)\n",
    "#arts.parseArtistFiles()\n",
    "#art.searchDiscogForArtist(\"$uicideboy$\")\n",
    "#arts.buildMetadata()"
   ]
  },
  {
   "cell_type": "code",
   "execution_count": null,
   "metadata": {},
   "outputs": [],
   "source": [
    "%load_ext autoreload\n",
    "%autoreload\n",
    "\n",
    "from artist import artist\n",
    "from artists import artists\n",
    "art = artist()\n",
    "arts = artists(disc)\n",
    "\n",
    "toget=getFile(ifile=\"toget3.p\")\n",
    "done = {}\n",
    "i = 0\n",
    "errs = {}\n",
    "n = len(toget)\n",
    "for artistID,artistRef in toget.items():\n",
    "    i += 1\n",
    "    ifile = arts.getArtistSavename(artistID)\n",
    "    print(i,'/',n,'\\t',ifile)\n",
    "    info  = art.getData(ifile)\n",
    "    pages = info.pages\n",
    "    \n",
    "    if pages.redo is True:\n",
    "        url      = arts.getArtistURL(artistRef, 1)\n",
    "        savename = arts.getArtistSavename(artistID, 1)\n",
    "        try:\n",
    "            arts.downloadArtistURL(url=url, savename=savename, force=True, debug=True)            \n",
    "        except:\n",
    "            errs[artistID] = artistRef\n",
    "            print(\"\\tErr with {0}\".format(artistRef))"
   ]
  },
  {
   "cell_type": "code",
   "execution_count": null,
   "metadata": {},
   "outputs": [],
   "source": []
  },
  {
   "cell_type": "code",
   "execution_count": null,
   "metadata": {},
   "outputs": [],
   "source": [
    "db = disc.getArtistsDBModValData(38)"
   ]
  },
  {
   "cell_type": "code",
   "execution_count": null,
   "metadata": {},
   "outputs": [],
   "source": []
  }
 ],
 "metadata": {
  "kernelspec": {
   "display_name": "Python 3",
   "language": "python",
   "name": "python3"
  },
  "language_info": {
   "codemirror_mode": {
    "name": "ipython",
    "version": 3
   },
   "file_extension": ".py",
   "mimetype": "text/x-python",
   "name": "python",
   "nbconvert_exporter": "python",
   "pygments_lexer": "ipython3",
   "version": "3.7.3"
  }
 },
 "nbformat": 4,
 "nbformat_minor": 2
}
