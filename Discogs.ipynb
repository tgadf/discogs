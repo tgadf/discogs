{
 "cells": [
  {
   "cell_type": "markdown",
   "metadata": {},
   "source": [
    "# Discogs Functions"
   ]
  },
  {
   "cell_type": "code",
   "execution_count": null,
   "metadata": {},
   "outputs": [],
   "source": [
    "## Basic stuff\n",
    "%load_ext autoreload\n",
    "%autoreload\n",
    "from IPython.core.display import display, HTML\n",
    "display(HTML(\"<style>.container { width:100% !important; }</style>\"))\n",
    "display(HTML(\"\"\"<style>div.output_area{max-height:10000px;overflow:scroll;}</style>\"\"\"))\n",
    "\n",
    "## Python Version\n",
    "import sys\n",
    "print(\"Python: {0}\".format(sys.version))\n",
    "\n",
    "from ioUtils import saveJoblib, loadJoblib, saveFile, getFile\n",
    "import urllib\n",
    "from urllib.parse import quote\n",
    "\n",
    "from discogs import discogs\n",
    "from discogsUtils import discogsUtils\n",
    "from collection import collections\n",
    "from artist import artist\n",
    "from timeUtils import clock, elapsed\n",
    "from fsUtils import moveFile, setFile, setDir, setSubDir, isFile, isDir, mkDir\n",
    "from fileUtils import getFileBasics, getBasename\n",
    "from artists import artists\n",
    "from albums import albums\n",
    "\n",
    "import datetime as dt\n",
    "start = dt.datetime.now()\n",
    "print(\"Notebook Last Run Initiated: \"+str(start))"
   ]
  },
  {
   "cell_type": "markdown",
   "metadata": {},
   "source": [
    "# Discogs Base Class"
   ]
  },
  {
   "cell_type": "code",
   "execution_count": null,
   "metadata": {},
   "outputs": [],
   "source": [
    "%load_ext autoreload\n",
    "%autoreload\n",
    "disc = discogs()\n",
    "arts = artists(disc)\n",
    "dutils = discogsUtils()"
   ]
  },
  {
   "cell_type": "markdown",
   "metadata": {},
   "source": [
    "# Collection Section"
   ]
  },
  {
   "cell_type": "code",
   "execution_count": null,
   "metadata": {},
   "outputs": [],
   "source": [
    "%load_ext autoreload\n",
    "%autoreload\n",
    "col = collections(disc)"
   ]
  },
  {
   "cell_type": "code",
   "execution_count": null,
   "metadata": {
    "scrolled": false
   },
   "outputs": [],
   "source": [
    "#col = collections(disc)\n",
    "decades=['1920', '1930', '1940', '1950', '1960', '1970', '1980', '1990', '2000', '2010']\n",
    "decades=['1960', '1970', '1980', '1990', '2000', '2010']\n",
    "fmat=\"Compilation\"\n",
    "country=\"US\"\n",
    "style=\"Soundtrack\"\n",
    "for decade in decades:\n",
    "    col.downloadCollection(maxPages=30, style=style, country=\"US\", decade=decade) #, fmat=fmat)\n",
    "#for year in range(1950, 2018):\n",
    "#    col.downloadCollectionsByYear(maxPages=2, year=str(year), Ncountries=50, Ngenres=100, Nstyles=100)\n",
    "\n",
    "#https://www.discogs.com/search/?style_exact=Soundtrack&format_exact=Compilation&limit=250&page=1&country_exact=US\n",
    "#https://www.discogs.com/search/?limit=250&sort=have%2Cdesc&layout=sm&style_exact=Soundtrack&country_exact=US&format_exact=Compilation&decade=2010&page=1\n",
    "#https://www.discogs.com/search/?limit=250&sort=have%2Cdesc&layout=sm&style_exact=Soundtrack&country_exact=US&format_exact=Compilation&decade=2010&page=1"
   ]
  },
  {
   "cell_type": "code",
   "execution_count": null,
   "metadata": {
    "scrolled": true
   },
   "outputs": [],
   "source": [
    "ifile = \"/Volumes/Music/Discog/collections/US-1960-Soundtrack-9.p\"\n",
    "from webUtils import getWebData, getHTML\n",
    "from searchUtils import findPatternExt\n",
    "verydebug=False\n",
    "fdata  = getFile(ifile)\n",
    "bsdata = getHTML(fdata)\n",
    "\n",
    "albumsDir = disc.getAlbumsDir()\n",
    "\n",
    "albs = albums(disc)\n",
    "\n",
    "\n",
    "if True:\n",
    "    collectionsDir  = col.getCollectionsDir()\n",
    "    collectionFiles = findPatternExt(collectionsDir, pattern=\".\", ext=\".p\")\n",
    "    print(\"Found {0} downloaded collection files\".format(len(collectionFiles)))\n",
    "    \n",
    "    artsDowns = {}\n",
    "    albsDowns = {}\n",
    "    \n",
    "    for i,ifile in enumerate(reversed(collectionFiles)):\n",
    "        print(\"\\n\\n\\n\")\n",
    "        print(\"Parsing {0}/{1}: {2}\".format(i,len(collectionFiles), ifile))\n",
    "        \n",
    "        bsdata = getHTML(ifile)\n",
    "        artistDB  = {}\n",
    "\n",
    "        h4s = bsdata.findAll(\"h4\")\n",
    "        if verydebug:\n",
    "            print(\"Found {0} h4 tags\".format(len(h4s)))\n",
    "        \n",
    "        for ih4,h4 in enumerate(h4s):\n",
    "            spans = h4.findAll(\"span\")\n",
    "            \n",
    "            #### Get Artist\n",
    "            ref   = None\n",
    "            if len(spans) == 0:\n",
    "                ref = h4.find(\"a\")\n",
    "            else:\n",
    "                ref = spans[0].find(\"a\")\n",
    "                \n",
    "            if ref is None:\n",
    "                continue\n",
    "                \n",
    "            if artsDowns.get(ref) is True:\n",
    "                continue\n",
    "                \n",
    "            try:\n",
    "                artisthref = ref.attrs.get('href')\n",
    "                artist     = ref.text.strip()\n",
    "            except:\n",
    "                print(\"Could not get artist/href from {0}\".format(ref))\n",
    "                continue\n",
    "                \n",
    "            \n",
    "            #### Get Album\n",
    "        \n",
    "            try:\n",
    "                ref        = h4.find(\"a\", {\"class\": \"search_result_title\"})\n",
    "                albumhref  = ref.attrs.get('href')\n",
    "                album      = ref.text.strip()\n",
    "            except:\n",
    "                print(\"Could not get album/href from {0}\".format(ref))\n",
    "                continue\n",
    "\n",
    "            \n",
    "            #print(\"Artist: {0} ---> {1}\".format(artist,artisthref))\n",
    "            #print(\"Album:  {0} ---> {1}\".format(album,albumhref))\n",
    "\n",
    "            artistID  = arts.discogsUtils.getArtistID(artisthref)\n",
    "            modValue  = arts.discogsUtils.getDiscIDHashMod(discID=artistID, modval=disc.getMaxModVal())\n",
    "            \n",
    "            \n",
    "            ##### Download Artist Data\n",
    "            url      = arts.getArtistRef(artisthref)\n",
    "            savename = arts.getArtistSavename(artistID)\n",
    "            if savename is not None:\n",
    "                if not isFile(savename):\n",
    "                    try:\n",
    "                        arts.downloadArtistURL(url, savename)\n",
    "                    except:\n",
    "                        artsDowns[url] = True\n",
    "                        continue\n",
    "                #print('\\t',url)\n",
    "                #print('\\t',savename)\n",
    "                \n",
    "        \n",
    "            if modValue is None:\n",
    "                artistModDir = setDir(albumsDir, \"NAN\")\n",
    "                artistIDDir = setDir(artistModDir, \"NAN\")\n",
    "            else:\n",
    "                artistModDir = setDir(albumsDir, str(modValue))\n",
    "                artistIDDir = setDir(artistModDir, artistID)\n",
    "\n",
    "\n",
    "            ##### Download Album Data\n",
    "            try:\n",
    "                mediaID = int(getBasename(albumhref))\n",
    "            except:\n",
    "                raise ValueError(\"Not sure about {0}\".format(h4))\n",
    "\n",
    "            #print('\\tAlbumDir:',artistIDDir)\n",
    "            #print('\\tMediaID: ',mediaID)\n",
    "\n",
    "            if not isDir(artistIDDir):\n",
    "                mkDir(artistIDDir)\n",
    "            savename = setFile(artistIDDir, \"{0}.p\".format(mediaID))\n",
    "            #print('\\tSavename:',savename)\n",
    "            if isFile(savename):\n",
    "                continue\n",
    "     \n",
    "            #print('\\t',savename)\n",
    "            #print(\"\")\n",
    "            #continue\n",
    "\n",
    "            baseURL = disc.discogURL\n",
    "            url     = urllib.parse.urljoin(baseURL, quote(albumhref))\n",
    "            \n",
    "            \n",
    "            if albsDowns.get(url) is True:\n",
    "                continue\n",
    "                \n",
    "            try:\n",
    "                albs.downloadAlbumURL(url, savename)\n",
    "            except:\n",
    "                albsDowns[url] = True\n",
    "                continue"
   ]
  },
  {
   "cell_type": "code",
   "execution_count": null,
   "metadata": {},
   "outputs": [],
   "source": []
  },
  {
   "cell_type": "code",
   "execution_count": null,
   "metadata": {
    "scrolled": false
   },
   "outputs": [],
   "source": [
    "#col.createCollectionsData()\n",
    "#col.downloadCollections()\n",
    "#col.parseCollections()\n",
    "#col.mergeCollections(debug=True, force=True)\n",
    "#col.createCollectionDBs(debug=True)"
   ]
  },
  {
   "cell_type": "code",
   "execution_count": null,
   "metadata": {
    "scrolled": true
   },
   "outputs": [],
   "source": [
    "disc.moveAlbumFilesToNewModValue(newModValue=100, oldModValue=500)"
   ]
  },
  {
   "cell_type": "markdown",
   "metadata": {},
   "source": [
    "# Artist Section"
   ]
  },
  {
   "cell_type": "code",
   "execution_count": null,
   "metadata": {},
   "outputs": [],
   "source": [
    "db = disc.getArtistNameToIDsData()"
   ]
  },
  {
   "cell_type": "code",
   "execution_count": null,
   "metadata": {
    "scrolled": true
   },
   "outputs": [],
   "source": [
    "#arts = artists(disc)\n",
    "#art.findKnownArtists(debug=True)\n",
    "#art.findUnknownArtists(minVal=200, debug=True)\n",
    "#art.downloadUnknownArtists(debug=True)\n",
    "#arts.parseArtistFiles()\n",
    "#art.searchDiscogForArtist(\"$uicideboy$\")\n",
    "#arts.buildMetadata()"
   ]
  },
  {
   "cell_type": "markdown",
   "metadata": {},
   "source": [
    "# Albums Metadata"
   ]
  },
  {
   "cell_type": "code",
   "execution_count": null,
   "metadata": {},
   "outputs": [],
   "source": [
    "artistNameToID   = disc.getArtistNameToIDData()\n",
    "artistNameToIDs  = disc.getArtistNameToIDsData()\n",
    "artistIDToName   = disc.getArtistIDToNameData()        \n",
    "artistRefToID    = disc.getArtistRefToIDData()\n",
    "artistIDToRef    = disc.getArtistIDToRefData()\n",
    "artistRefToName  = disc.getArtistRefToNameData()\n",
    "artistNameToRef  = disc.getArtistNameToRefData()\n",
    "artistNameToRefs = disc.getArtistNameToRefsData()"
   ]
  },
  {
   "cell_type": "code",
   "execution_count": null,
   "metadata": {},
   "outputs": [],
   "source": []
  },
  {
   "cell_type": "code",
   "execution_count": null,
   "metadata": {},
   "outputs": [],
   "source": [
    "albumRefToName  = disc.getAlbumRefToNameData()\n",
    "albumNameToRef  = disc.getAlbumNameToRefData()\n",
    "\n",
    "artistIDCoreAlbumIDs   = disc.getArtistIDCoreAlbumNames()\n",
    "artistIDAlbumIDs       = disc.getArtistIDAlbumNames()\n",
    "\n"
   ]
  },
  {
   "cell_type": "code",
   "execution_count": null,
   "metadata": {
    "scrolled": false
   },
   "outputs": [],
   "source": [
    "from collections import Counter\n",
    "core = [\"Albums\"]\n",
    "albumCntr = Counter()\n",
    "\n",
    "\n",
    "print(\"{0: <4}{1: <50}{2: <15}{3: <15}{4: <12}{5: <12}{6: <12}{7: <12}{8: <12}{9: <12}\".format(\n",
    "    \"#\",\"File\",\"Core IDs-IDs\",\"IDs-IDs\",\"Name-IDs\",\"Name-Refs\",\"ID-Names\",\"ID-Refs\",\"Ref-IDs\",\"Ref-Names\"))\n",
    "\n",
    "\n",
    "for i,dbfile in enumerate(dbfiles):\n",
    "    db = getFile(dbfile)\n",
    "    for artistID,artistData in db.items():\n",
    "        artist      = artistData['Artist']\n",
    "        artistName  = dutils.getArtistName(artist)\n",
    "        artistRef   = artistData['URL']\n",
    "        #print(\"{0: <20}{1: <50}{2}\".format(artistID,artist,artistRef))\n",
    "        \n",
    "    print(\"{0: <4}{1: <50}{2: <15}{3: <15}{4: <12}{5: <12}{6: <12}{7: <12}{8: <12}{9: <12}\".format(\n",
    "        i,dbfile,\n",
    "        len(artistIDCoreAlbumIDs),len(artistIDAlbumIDs),\n",
    "        len(albumNameToID),len(albumNameToRef),len(albumIDToName),\n",
    "        len(albumIDToRef),len(albumRefToID),len(albumRefToName)))\n",
    "\n"
   ]
  },
  {
   "cell_type": "code",
   "execution_count": null,
   "metadata": {},
   "outputs": [],
   "source": [
    "ifile=\"/Volumes/Music/Discog/artists/0/9900.p\"\n",
    "fdata = getHTML(getFile(ifile, version=2))\n",
    "an = artistName(fdata)\n",
    "an.getArtist()\n",
    "#name = artistName(fdata)\n",
    "#name\n"
   ]
  },
  {
   "cell_type": "markdown",
   "metadata": {},
   "source": [
    "# Albums"
   ]
  },
  {
   "cell_type": "code",
   "execution_count": null,
   "metadata": {
    "scrolled": true
   },
   "outputs": [],
   "source": [
    "albs = albums(disc)\n",
    "albs.parseAlbumFiles()"
   ]
  },
  {
   "cell_type": "code",
   "execution_count": null,
   "metadata": {},
   "outputs": [],
   "source": [
    "getFile('/Volumes/Music/Discog/albums-db/NAN-DB.p')"
   ]
  },
  {
   "cell_type": "code",
   "execution_count": null,
   "metadata": {
    "scrolled": true
   },
   "outputs": [],
   "source": [
    "import random\n",
    "albs = albums(disc)\n",
    "nErrs = False\n",
    "while nErrs is False:\n",
    "    nErrs = True\n",
    "    albs.downloadAlbumDataData(int(random.uniform(0,disc.getMaxModVal()))) #, mediaTypes=None)        \n",
    "    if False:\n",
    "        nErrs = False\n",
    "        print(\"Sleeping for 60 seconds...\")\n",
    "        sleep(60)\n",
    "#art.findKnownArtists(debug=True)\n",
    "#art.findUnknownArtists(minVal=200, debug=True)\n",
    "#art.downloadUnknownArtists(debug=True)\n",
    "#arts.parseArtistFiles()\n",
    "#art.searchDiscogForArtist(\"$uicideboy$\")\n",
    "#arts.buildMetadata()"
   ]
  }
 ],
 "metadata": {
  "kernelspec": {
   "display_name": "Python 3",
   "language": "python",
   "name": "python3"
  },
  "language_info": {
   "codemirror_mode": {
    "name": "ipython",
    "version": 3
   },
   "file_extension": ".py",
   "mimetype": "text/x-python",
   "name": "python",
   "nbconvert_exporter": "python",
   "pygments_lexer": "ipython3",
   "version": "3.7.3"
  }
 },
 "nbformat": 4,
 "nbformat_minor": 2
}
