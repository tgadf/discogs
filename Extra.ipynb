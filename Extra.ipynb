{
 "cells": [
  {
   "cell_type": "code",
   "execution_count": null,
   "metadata": {},
   "outputs": [],
   "source": [
    "def isSoundtrack(styles):\n",
    "    if \"Soundtrack\" in styles:\n",
    "        return True\n",
    "    return False\n",
    "\n",
    "def getStyles(vals):\n",
    "    retvals = []\n",
    "    styles = vals.get(\"Style\")\n",
    "    if styles is None:\n",
    "        return retvals\n",
    "    elif isinstance(styles, list):\n",
    "        retvals = [x[0] for x in styles]\n",
    "\n",
    "    return retvals\n",
    "\n",
    "def getArtists(vals):\n",
    "    retvals = [x[0] for x in vals]\n",
    "    return retvals\n",
    "\n",
    "### Get Soundtracks\n",
    "tmp = df[df['Profile'].apply(getStyles).apply(isSoundtrack) == True]\n",
    "\n",
    "### Set Artists\n",
    "df[\"Artists\"] = df['Artist'].apply(getArtists)"
   ]
  },
  {
   "cell_type": "code",
   "execution_count": null,
   "metadata": {},
   "outputs": [],
   "source": []
  },
  {
   "cell_type": "code",
   "execution_count": null,
   "metadata": {},
   "outputs": [],
   "source": [
    "soundtracks = sorted(list(set(tmp[\"Album\"].to_list())))\n",
    "\n",
    "term = \"Walt Disney's \"\n",
    "soundtracks = [x.replace(term, \"\") if x.startswith(term) else x for x in soundtracks]\n",
    "term=\"Music From The Motion Picture Sound Track \"\n",
    "soundtracks = [x.replace(term, \"\") if x.startswith(term) else x for x in soundtracks]\n",
    "term=\"Music From The Motion Picture Soundtrack \"\n",
    "soundtracks = [x.replace(term, \"\") if x.startswith(term) else x for x in soundtracks]\n",
    "term=\"Music From The Original Motion Picture Soundtrack \"\n",
    "soundtracks = [x.replace(term, \"\") if x.startswith(term) else x for x in soundtracks]\n",
    "term=\"Music From The Original Sound Track \"\n",
    "soundtracks = [x.replace(term, \"\") if x.startswith(term) else x for x in soundtracks]\n",
    "term=\"Music From The Soundtrack Of \"\n",
    "soundtracks = [x.replace(term, \"\") if x.startswith(term) else x for x in soundtracks]\n",
    "\n",
    "terms = []\n",
    "terms.append(\" (Original Cast Sound Track)\")\n",
    "terms.append(\" (Original Cast Soundtrack)\")\n",
    "terms.append(\" (Music From The Original Motion Picture Sound Track)\")\n",
    "terms.append(\" (Music From The Soundtrack)\")\n",
    "terms.append(\" (Music from the soundtrack of)\")\n",
    "terms.append(\" (Original Motion Picture Soundtrack)\")\n",
    "terms.append(\" (Original Sound Track Recording)\")\n",
    "terms.append(\" (Original Soundtrack)\")\n",
    "terms.append(\" (Original Sound Track Recording)\")\n",
    "terms.append(\" (The Original Sound Track Recording)\")\n",
    "terms.append(\" (Original Soundtrack)\")\n",
    "terms.append(\" (Original Soundtrack Recording)\")\n",
    "terms.append(\" (Music From The Motion Picture Sound Track)\")\n",
    "terms.append(\" (Music From The Motion Picture Soundtrack)\")\n",
    "terms.append(\":  Music From The Original Motion Picture Soundtrack\")\n",
    "terms.append(\" - Music From The Original Motion Picture Soundtrack\")\n",
    "terms.append(\" (Music From The Motion Picture)\")\n",
    "terms.append(\" (An Original Soundtrack Recording)\")\n",
    "terms.append(\"  (An Original Soundtrack Recording)\")\n",
    "terms.append(\" Original Motion Picture Soundtrack\")\n",
    "\n",
    "terms+=['(Original Television Soundtrack Recording)',\n",
    " '(Motion Picture Soundtrack)',\n",
    " '(The Original Motion Picture Soundtrack)',\n",
    " \"(The Original Motion Picture Soundtrack)\",\n",
    " '(Music From The Original Motion Picture Soundtrack)',\n",
    " '(Original Motion Picture Soundtrack Album)',\n",
    " \"(Music From The Original Motion Picture Soundtrack)\",\n",
    " \"(Original TV Soundtrack)\",\n",
    " \"(From The Motion Picture Soundtrack)\",\n",
    " '(Soundtrack)',\n",
    " '(Limited Event Series Soundtrack)',\n",
    " '(Music From The Original Motion Picture Soundtrack)',\n",
    " '(Music Composed For The Original Motion Picture Soundtrack)',\n",
    " '(Music From The Original Motion Picture Soundtrack)',\n",
    " '(The Original Soundtrack Recording)',\n",
    " '(original Soundtrack From The Movie)',\n",
    " '(The Original Movie Soundtrack)',\n",
    " '(The Original Soundtrack From The Motion Picture)',\n",
    " '(Music From The Original Motion Picture Soundtrack)',\n",
    " '(Music From The Original Soundtrack)',\n",
    " '(From The Original Motion Picture Soundtrack)'\n",
    " ' - Original Soundtrack Recording',\n",
    " ' (An Original Sound Track Recording)',\n",
    " ' - Music from the soundtrack of the Motion Picture',\n",
    " ' Original Soundtrack',\n",
    " ' Original Cast Sound Track Album',\n",
    " ' - Original Cast Sound Track Album',\n",
    " ' (From The Original Sound Track)',\n",
    " ' - Music From The Original Motion Picture Sound Track',\n",
    " ' (The Original Motion Picture Sound Track)',\n",
    " ' - Original Sound Track Recording',\n",
    " ': Original Cast Soundtrack',\n",
    " ':  Original Cast Soundtrack',\n",
    " ' (Original Cast Sound Track Album)']\n",
    "for term in terms:\n",
    "    soundtracks = [x.replace(term, \"\").strip() if x.endswith(term) else x for x in soundtracks]\n",
    "\n",
    "print(len(soundtracks))\n",
    "soundtracks = set(soundtracks)\n",
    "print(len(soundtracks))\n",
    "soundtracks"
   ]
  },
  {
   "cell_type": "code",
   "execution_count": null,
   "metadata": {},
   "outputs": [],
   "source": []
  },
  {
   "cell_type": "code",
   "execution_count": null,
   "metadata": {},
   "outputs": [],
   "source": [
    "[y for y in [x for x in soundtracks if x.find(\"Soundtrack\") != -1] if y.find(\"(\") != -1]"
   ]
  },
  {
   "cell_type": "code",
   "execution_count": null,
   "metadata": {},
   "outputs": [],
   "source": [
    "def getStyles(vals):\n",
    "    retvals = []\n",
    "    if vals is None:\n",
    "        return retval\n",
    "    if isinstance(vals, str):\n",
    "        vals = json.loads(vals)\n",
    "    if isinstance(vals, dict):\n",
    "        styles = vals.get(\"Style\")\n",
    "        if styles is None:\n",
    "            return retvals\n",
    "        elif isinstance(styles, list):\n",
    "            retvals = [x[0] for x in styles]\n",
    "            \n",
    "    return retvals"
   ]
  },
  {
   "cell_type": "code",
   "execution_count": null,
   "metadata": {},
   "outputs": [],
   "source": [
    "x = str(vals)\n",
    "json.loads(x)\n",
    "#getStyles(vals)"
   ]
  },
  {
   "cell_type": "code",
   "execution_count": 1,
   "metadata": {},
   "outputs": [
    {
     "data": {
      "text/html": [
       "<style>.container { width:100% !important; }</style>"
      ],
      "text/plain": [
       "<IPython.core.display.HTML object>"
      ]
     },
     "metadata": {},
     "output_type": "display_data"
    },
    {
     "data": {
      "text/html": [
       "<style>div.output_area{max-height:10000px;overflow:scroll;}</style>"
      ],
      "text/plain": [
       "<IPython.core.display.HTML object>"
      ]
     },
     "metadata": {},
     "output_type": "display_data"
    },
    {
     "name": "stdout",
     "output_type": "stream",
     "text": [
      "Python: 3.7.3 (default, Mar 27 2019, 16:54:48) \n",
      "[Clang 4.0.1 (tags/RELEASE_401/final)]\n",
      "Notebook Last Run Initiated: 2019-08-01 23:50:40.689217\n"
     ]
    }
   ],
   "source": [
    "## Basic stuff\n",
    "%load_ext autoreload\n",
    "%autoreload\n",
    "from IPython.core.display import display, HTML\n",
    "display(HTML(\"<style>.container { width:100% !important; }</style>\"))\n",
    "display(HTML(\"\"\"<style>div.output_area{max-height:10000px;overflow:scroll;}</style>\"\"\"))\n",
    "\n",
    "## Python Version\n",
    "import sys\n",
    "print(\"Python: {0}\".format(sys.version))\n",
    "\n",
    "from ioUtils import saveJoblib, loadJoblib, saveFile, getFile\n",
    "import urllib\n",
    "from urllib.parse import quote\n",
    "\n",
    "from discogsBase import discogs\n",
    "from discogsUtils import discogsUtils\n",
    "from collection import collections\n",
    "from artist import artist\n",
    "from timeUtils import clock, elapsed\n",
    "from fsUtils import moveFile, setFile, setDir, setSubDir, isFile, isDir, mkDir\n",
    "from fileUtils import getFileBasics, getBasename\n",
    "from artists import artists\n",
    "from albums import albums\n",
    "from time import sleep\n",
    "\n",
    "import datetime as dt\n",
    "start = dt.datetime.now()\n",
    "print(\"Notebook Last Run Initiated: \"+str(start))"
   ]
  },
  {
   "cell_type": "code",
   "execution_count": 2,
   "metadata": {},
   "outputs": [
    {
     "name": "stdout",
     "output_type": "stream",
     "text": [
      "The autoreload extension is already loaded. To reload it, use:\n",
      "  %reload_ext autoreload\n",
      "Saved Discog Directory /Volumes/Music/Discog is Available\n",
      "Warning! Local Discog Directory /Users/tgadfort/Documents/music/Discog is not Available\n",
      "/Volumes/Music/Discog/base exists\n",
      "/Volumes/Music/Discog/collections exists\n",
      "/Volumes/Music/Discog/artists exists\n",
      "/Volumes/Music/Discog/albums exists\n",
      "/Volumes/Music/Discog/base-db exists\n",
      "/Volumes/Music/Discog/collections-db exists\n",
      "/Volumes/Music/Discog/artists-db exists\n",
      "/Volumes/Music/Discog/albums-db exists\n",
      "/Volumes/Music/Discog/artists-extra exists\n",
      "/Volumes/Music/Discog/search exists\n",
      "/Volumes/Music/Discog/search-artists exists\n",
      "/Volumes/Music/Discog/special exists\n",
      "/Volumes/Music/Discog/artist-special exists\n",
      "/Volumes/Music/Discog/db exists\n",
      "Found 100 artist DB files and that is equal to the max mod value\n"
     ]
    }
   ],
   "source": [
    "%load_ext autoreload\n",
    "%autoreload\n",
    "disc = discogs()\n",
    "arts = artists(disc)\n",
    "dutils = discogsUtils()\n",
    "col    = collections(disc)"
   ]
  },
  {
   "cell_type": "code",
   "execution_count": 14,
   "metadata": {
    "scrolled": true
   },
   "outputs": [
    {
     "name": "stdout",
     "output_type": "stream",
     "text": [
      "Parsing Artist Files For ModVal 93\n",
      "Forcing Reloads of ModVal=93\n",
      "  Processing 3819 files.\n",
      "\tProcessed 0/3819 files.\n",
      "\tProcessed 250/3819 files.\n",
      "\tProcessed 500/3819 files.\n",
      "\tProcessed 750/3819 files.\n",
      "\tProcessed 1000/3819 files.\n",
      "\tProcessed 1250/3819 files.\n",
      "\tProcessed 1500/3819 files.\n",
      "\tProcessed 1750/3819 files.\n",
      "\tProcessed 2000/3819 files.\n",
      "\tProcessed 2250/3819 files.\n",
      "\tProcessed 2500/3819 files.\n",
      "\tProcessed 2750/3819 files.\n",
      "\tProcessed 3000/3819 files.\n",
      "\tProcessed 3250/3819 files.\n",
      "\tProcessed 3500/3819 files.\n",
      "\tProcessed 3750/3819 files.\n",
      "Saving 3819 new artist IDs to /Volumes/Music/Discog/artists-db/93-DB.p\n",
      "  --> This file is 6.7MB.\n",
      "Parsing Artist Files For ModVal 94\n",
      "Forcing Reloads of ModVal=94\n",
      "  Processing 3842 files.\n",
      "\tProcessed 0/3842 files.\n",
      "\tProcessed 250/3842 files.\n",
      "\tProcessed 500/3842 files.\n",
      "\tProcessed 750/3842 files.\n",
      "\tProcessed 1000/3842 files.\n",
      "\tProcessed 1250/3842 files.\n",
      "\tProcessed 1500/3842 files.\n",
      "\tProcessed 1750/3842 files.\n",
      "\tProcessed 2000/3842 files.\n",
      "\tProcessed 2250/3842 files.\n",
      "\tProcessed 2500/3842 files.\n",
      "\tProcessed 2750/3842 files.\n",
      "\tProcessed 3000/3842 files.\n",
      "\tProcessed 3250/3842 files.\n",
      "\tProcessed 3500/3842 files.\n",
      "\tProcessed 3750/3842 files.\n",
      "Saving 3842 new artist IDs to /Volumes/Music/Discog/artists-db/94-DB.p\n",
      "  --> This file is 6.9MB.\n"
     ]
    }
   ],
   "source": [
    "for modVal in range(93,95):\n",
    "    arts.parseArtistModValFiles(modVal=modVal, force=True)"
   ]
  },
  {
   "cell_type": "code",
   "execution_count": null,
   "metadata": {},
   "outputs": [],
   "source": [
    "dbArt = disc.getArtistIDToNameData()\n",
    "dbCol = disc.getCollectionIDToRefData()\n",
    "artistDBDir = disc.getArtistsDBDir()"
   ]
  },
  {
   "cell_type": "code",
   "execution_count": 11,
   "metadata": {},
   "outputs": [
    {
     "name": "stdout",
     "output_type": "stream",
     "text": [
      "REF --> /artist/489428-AyalÃ©w-MÃ¨sfin\n",
      "/Volumes/Music/Discog/artists/28/489428.p exists.\n",
      "Downloading again.\n",
      "Now Downloading in Artists(): https://www.discogs.com/artist/489428-Ayal%C3%83%C2%A9w-M%C3%83%C2%A8sfin?sort=year%2Casc&limit=500\n",
      "  File ID != Artist ID. Renaming to /Volumes/Music/Discog/artists/11/1973611.p\n",
      "Saving /Volumes/Music/Discog/artists/11/1973611.p\n",
      "  --> This file is 21.8kB.\n",
      "Done. Sleeping for 2 seconds\n"
     ]
    }
   ],
   "source": [
    "\n",
    "refs = [dbCol.get('489428')]\n",
    "for ref in refs:\n",
    "    if ref is None:\n",
    "        continue\n",
    "    print(\"REF --> {0}\".format(ref))\n",
    "    href = ref.replace(\"https://www.discogs.com/artist/\", \"\")\n",
    "    artistID = dutils.getArtistID(ref)\n",
    "    modValue = dutils.getDiscIDHashMod(discID=artistID, modval=disc.getMaxModVal())\n",
    "\n",
    "    if False:\n",
    "        dbname  = setFile(artistDBDir, \"{0}-DB.p\".format(modValue))     \n",
    "        print(\"Loading {0}\".format(dbname))\n",
    "        dbdata  = getFile(dbname)\n",
    "\n",
    "        try:\n",
    "            del dbdata[artistID]\n",
    "            print(\"Deleted {0}\".format(artistID))\n",
    "        except:\n",
    "            print(\"Not there...\")\n",
    "\n",
    "        print(\"Saving {0}\".format(dbname))\n",
    "        saveFile(idata=dbdata, ifile=dbname)\n",
    "\n",
    "    url = arts.getArtistURL(ref)\n",
    "    savename = arts.getArtistSavename(artistID)\n",
    "    arts.downloadArtistURL(url=url, savename=savename, parse=True, force=True, debug=True)\n",
    "    sleep(1)"
   ]
  },
  {
   "cell_type": "code",
   "execution_count": null,
   "metadata": {},
   "outputs": [],
   "source": [
    "vals = [\"1166600\", \"1324400\", \"1340600\", \"15800\", \"1626700\", \"1691500\", \"2006300\", \"211200\", \"23500\", \"2360300\", \"2701000\", \"29300\", \"40000\", \"4300900\", \"437700\", \"444000\", \"4731500\", \"563200\", \"6400\", \"72800\", \"90800\"]"
   ]
  },
  {
   "cell_type": "code",
   "execution_count": null,
   "metadata": {},
   "outputs": [],
   "source": [
    "modVal=0\n",
    "\n",
    "artistDBDir = disc.getArtistsDBDir()\n",
    "dbname  = setFile(artistDBDir, \"{0}-DB.p\".format(modVal))     \n",
    "dbdata  = getFile(dbname)\n",
    "print(\"Found {0} artist IDs in {1}\".format(len(dbdata), dbname))\n",
    "\n",
    "for val in vals:\n",
    "    del dbdata[val]\n",
    "\n",
    "savename = setFile(artistDBDir, \"{0}-DB.p\".format(modVal))     \n",
    "print(\"Saving {0} new artist IDs to {1}\".format(len(dbdata), savename))\n",
    "saveJoblib(data=dbdata, filename=savename, compress=True)\n"
   ]
  },
  {
   "cell_type": "code",
   "execution_count": null,
   "metadata": {},
   "outputs": [],
   "source": [
    "for modVal in range(0,100):\n",
    "    try:\n",
    "        arts.assertDBModValExtraData(modVal)\n",
    "    except:\n",
    "        pass"
   ]
  },
  {
   "cell_type": "code",
   "execution_count": 5,
   "metadata": {},
   "outputs": [],
   "source": [
    "vals=\"\"\"Downloading: https://www.discogs.com/artist/302000-Ballard-MacDonald?sort=year%2Casc&limit=500&page=2\n",
    "Downloading: https://www.discogs.com/artist/75910-Stephen-W-Tayler?sort=year%2Casc&limit=500&page=2\n",
    "Downloading: https://www.discogs.com/artist/11415-Bob-Clearmountain?sort=year%2Casc&limit=500&page=2\n",
    "Downloading: https://www.discogs.com/artist/834222-Paul-Myers-2?sort=year%2Casc&limit=500&page=2\n",
    "Downloading: https://www.discogs.com/artist/674125-Ram%C3%83%C2%B3n-Arcusa?sort=year%2Casc&limit=500&page=2\n",
    "Downloading: https://www.discogs.com/artist/253127-Fredrik-Nordstr%C3%83%C2%B6m?sort=year%2Casc&limit=500&page=2\n",
    "Downloading: https://www.discogs.com/artist/449529-Denny-Purcell?sort=year%2Casc&limit=500&page=2\n",
    "Downloading: https://www.discogs.com/artist/273544-Angus-Young?sort=year%2Casc&limit=500&page=2\n",
    "Downloading: https://www.discogs.com/artist/1641558-Jacques-Fournier?sort=year%2Casc&limit=500&page=2\n",
    "Downloading: https://www.discogs.com/artist/252962-Alfred-Lion?sort=year%2Casc&limit=500&page=2\n",
    "Downloading: https://www.discogs.com/artist/244167-Brendan-OBrien?sort=year%2Casc&limit=500&page=2\n",
    "Downloading: https://www.discogs.com/artist/27468-Bill-Bottrell?sort=year%2Casc&limit=500&page=2\n",
    "Downloading: https://www.discogs.com/artist/382969-Fred-Kevorkian?sort=year%2Casc&limit=500&page=2\n",
    "Downloading: https://www.discogs.com/artist/142073-Bernard-Edwards-Nile-Rodgers?sort=year%2Casc&limit=500&page=2\n",
    "Downloading: https://www.discogs.com/artist/255681-Bill-Szymczyk?sort=year%2Casc&limit=500&page=2\n",
    "Downloading: https://www.discogs.com/artist/332586-Ralph-Bass?sort=year%2Casc&limit=500&page=2\n",
    "Downloading: https://www.discogs.com/artist/180298-Tom-Dowd?sort=year%2Casc&limit=500&page=2\"\"\""
   ]
  },
  {
   "cell_type": "code",
   "execution_count": 27,
   "metadata": {},
   "outputs": [
    {
     "name": "stdout",
     "output_type": "stream",
     "text": [
      "/Volumes/Music/Discog/artists/0/302000.p exists.\n",
      "Downloading again.\n",
      "Now Downloading in Artists(): https://www.discogs.com/artist/302000-Ballard-MacDonald\n",
      "Saving /Volumes/Music/Discog/artists/0/302000.p\n",
      "  --> This file is 17.1kB.\n",
      "Done. Sleeping for 2 seconds\n",
      "/Volumes/Music/Discog/artists/10/75910.p exists.\n",
      "Downloading again.\n",
      "Now Downloading in Artists(): https://www.discogs.com/artist/75910-Stephen-W-Tayler\n",
      "Saving /Volumes/Music/Discog/artists/10/75910.p\n",
      "  --> This file is 17.6kB.\n",
      "Done. Sleeping for 2 seconds\n",
      "/Volumes/Music/Discog/artists/15/11415.p exists.\n",
      "Downloading again.\n",
      "Now Downloading in Artists(): https://www.discogs.com/artist/11415-Bob-Clearmountain\n",
      "Saving /Volumes/Music/Discog/artists/15/11415.p\n",
      "  --> This file is 17.8kB.\n",
      "Done. Sleeping for 2 seconds\n",
      "/Volumes/Music/Discog/artists/22/834222.p exists.\n",
      "Downloading again.\n",
      "Now Downloading in Artists(): https://www.discogs.com/artist/834222-Paul-Myers-2\n",
      "Saving /Volumes/Music/Discog/artists/22/834222.p\n",
      "  --> This file is 16.2kB.\n",
      "Done. Sleeping for 2 seconds\n",
      "/Volumes/Music/Discog/artists/25/674125.p exists.\n",
      "Downloading again.\n",
      "Now Downloading in Artists(): https://www.discogs.com/artist/674125-Ram%C3%83%C2%B3n-Arcusa\n",
      "Saving /Volumes/Music/Discog/artists/25/674125.p\n",
      "  --> This file is 17.2kB.\n",
      "Done. Sleeping for 2 seconds\n",
      "/Volumes/Music/Discog/artists/27/253127.p exists.\n",
      "Downloading again.\n",
      "Now Downloading in Artists(): https://www.discogs.com/artist/253127-Fredrik-Nordstr%C3%83%C2%B6m\n",
      "Saving /Volumes/Music/Discog/artists/27/253127.p\n",
      "  --> This file is 16.8kB.\n",
      "Done. Sleeping for 2 seconds\n",
      "/Volumes/Music/Discog/artists/29/449529.p exists.\n",
      "Downloading again.\n",
      "Now Downloading in Artists(): https://www.discogs.com/artist/449529-Denny-Purcell\n",
      "Saving /Volumes/Music/Discog/artists/29/449529.p\n",
      "  --> This file is 16.2kB.\n",
      "Done. Sleeping for 2 seconds\n",
      "/Volumes/Music/Discog/artists/44/273544.p exists.\n",
      "Downloading again.\n",
      "Now Downloading in Artists(): https://www.discogs.com/artist/273544-Angus-Young\n",
      "Saving /Volumes/Music/Discog/artists/44/273544.p\n",
      "  --> This file is 18.2kB.\n",
      "Done. Sleeping for 2 seconds\n",
      "/Volumes/Music/Discog/artists/58/1641558.p exists.\n",
      "Downloading again.\n",
      "Now Downloading in Artists(): https://www.discogs.com/artist/1641558-Jacques-Fournier\n",
      "Saving /Volumes/Music/Discog/artists/58/1641558.p\n",
      "  --> This file is 16.0kB.\n",
      "Done. Sleeping for 2 seconds\n",
      "/Volumes/Music/Discog/artists/62/252962.p exists.\n",
      "Downloading again.\n",
      "Now Downloading in Artists(): https://www.discogs.com/artist/252962-Alfred-Lion\n",
      "Saving /Volumes/Music/Discog/artists/62/252962.p\n",
      "  --> This file is 16.5kB.\n",
      "Done. Sleeping for 2 seconds\n",
      "/Volumes/Music/Discog/artists/67/244167.p exists.\n",
      "Downloading again.\n",
      "Now Downloading in Artists(): https://www.discogs.com/artist/244167-Brendan-OBrien\n",
      "Saving /Volumes/Music/Discog/artists/67/244167.p\n",
      "  --> This file is 17.0kB.\n",
      "Done. Sleeping for 2 seconds\n",
      "/Volumes/Music/Discog/artists/68/27468.p exists.\n",
      "Downloading again.\n",
      "Now Downloading in Artists(): https://www.discogs.com/artist/27468-Bill-Bottrell\n",
      "Saving /Volumes/Music/Discog/artists/68/27468.p\n",
      "  --> This file is 17.0kB.\n",
      "Done. Sleeping for 2 seconds\n",
      "/Volumes/Music/Discog/artists/69/382969.p exists.\n",
      "Downloading again.\n",
      "Now Downloading in Artists(): https://www.discogs.com/artist/382969-Fred-Kevorkian\n",
      "Saving /Volumes/Music/Discog/artists/69/382969.p\n",
      "  --> This file is 16.3kB.\n",
      "Done. Sleeping for 2 seconds\n",
      "/Volumes/Music/Discog/artists/73/142073.p exists.\n",
      "Downloading again.\n",
      "Now Downloading in Artists(): https://www.discogs.com/artist/142073-Bernard-Edwards-Nile-Rodgers\n",
      "Saving /Volumes/Music/Discog/artists/73/142073.p\n",
      "  --> This file is 20.3kB.\n",
      "Done. Sleeping for 2 seconds\n",
      "/Volumes/Music/Discog/artists/81/255681.p exists.\n",
      "Downloading again.\n",
      "Now Downloading in Artists(): https://www.discogs.com/artist/255681-Bill-Szymczyk\n",
      "Saving /Volumes/Music/Discog/artists/81/255681.p\n",
      "  --> This file is 17.3kB.\n",
      "Done. Sleeping for 2 seconds\n",
      "/Volumes/Music/Discog/artists/86/332586.p exists.\n",
      "Downloading again.\n",
      "Now Downloading in Artists(): https://www.discogs.com/artist/332586-Ralph-Bass\n",
      "Saving /Volumes/Music/Discog/artists/86/332586.p\n",
      "  --> This file is 16.5kB.\n",
      "Done. Sleeping for 2 seconds\n",
      "/Volumes/Music/Discog/artists/98/180298.p exists.\n",
      "Downloading again.\n",
      "Now Downloading in Artists(): https://www.discogs.com/artist/180298-Tom-Dowd\n",
      "Saving /Volumes/Music/Discog/artists/98/180298.p\n",
      "  --> This file is 16.5kB.\n",
      "Done. Sleeping for 2 seconds\n"
     ]
    }
   ],
   "source": [
    "\n",
    "artistDBDir = disc.getArtistsDBDir()\n",
    "\n",
    "/artist/67340-Yaki-Da\n",
    "\n",
    "urls = vals.split('\\n')\n",
    "for url in urls:\n",
    "    ref = url.split('?')[0]\n",
    "\n",
    "\n",
    "    href = ref.replace(\"https://www.discogs.com/artist/\", \"\")\n",
    "    artistID = dutils.getArtistID(url)\n",
    "    modValue = dutils.getDiscIDHashMod(discID=artistID, modval=disc.getMaxModVal())\n",
    "\n",
    "    if False:\n",
    "        dbname  = setFile(artistDBDir, \"{0}-DB.p\".format(modValue))     \n",
    "        print(\"Loading {0}\".format(dbname))\n",
    "        dbdata  = getFile(dbname)\n",
    "\n",
    "        try:\n",
    "            del dbdata[artistID]\n",
    "            print(\"Deleted {0}\".format(artistID))\n",
    "        except:\n",
    "            print(\"Not there...\")\n",
    "\n",
    "        print(\"Saving {0}\".format(dbname))\n",
    "        saveFile(idata=dbdata, ifile=dbname)\n",
    "    \n",
    "    url = ref.replace(\"Downloading: \", \"\")\n",
    "    savename = arts.getArtistSavename(artistID)\n",
    "    arts.downloadArtistURL(url=url, savename=savename, force=True, debug=True)\n",
    "    sleep(1)"
   ]
  },
  {
   "cell_type": "code",
   "execution_count": null,
   "metadata": {},
   "outputs": [],
   "source": []
  },
  {
   "cell_type": "code",
   "execution_count": null,
   "metadata": {},
   "outputs": [],
   "source": [
    "for modVal in range(1,100):\n",
    "    try:\n",
    "        arts.assertDBModValData(modVal)\n",
    "    except:\n",
    "        pass"
   ]
  },
  {
   "cell_type": "code",
   "execution_count": null,
   "metadata": {},
   "outputs": [],
   "source": [
    "for modVal in [1]:\n",
    "    start, cmt = clock(\"Processing {0}\".format(modVal))\n",
    "    arts.parseArtistModValFiles(modVal, force=True)\n",
    "    elapsed(start, cmt)"
   ]
  },
  {
   "cell_type": "code",
   "execution_count": null,
   "metadata": {},
   "outputs": [],
   "source": [
    "data = getFile(\"/Volumes/Music/Discog/artists-db/1-DB.p\")"
   ]
  },
  {
   "cell_type": "code",
   "execution_count": null,
   "metadata": {},
   "outputs": [],
   "source": [
    "artistIDtoRefData = disc.getArtistIDToRefData()"
   ]
  },
  {
   "cell_type": "code",
   "execution_count": null,
   "metadata": {},
   "outputs": [],
   "source": [
    "for modVal in range(20,60):\n",
    "    start, cmt = clock(\"Processing {0}\".format(modVal))\n",
    "    arts.parseArtistModValFiles(modVal, force=True)\n",
    "    elapsed(start, cmt)"
   ]
  },
  {
   "cell_type": "code",
   "execution_count": null,
   "metadata": {},
   "outputs": [],
   "source": [
    "x = str(artistData.url.url)"
   ]
  },
  {
   "cell_type": "code",
   "execution_count": null,
   "metadata": {},
   "outputs": [],
   "source": [
    "x.Contains(\"x\")"
   ]
  },
  {
   "cell_type": "code",
   "execution_count": null,
   "metadata": {
    "scrolled": true
   },
   "outputs": [],
   "source": [
    "errs=getFile(\"errs.p\")\n",
    "print(\"Found {0} err files\".format(len(errs)))\n",
    "from collections import Counter\n",
    "n = 0\n",
    "for item in Counter(refCounts).most_common():\n",
    "    n += 1\n",
    "    ref      = item[0]\n",
    "    cnts     = item[1]\n",
    "    if errs.get(ref):\n",
    "        continue\n",
    "    discID   = arts.discogsUtils.getArtistID(ref)\n",
    "    url      = arts.getArtistRef(ref)\n",
    "    savename = arts.getArtistSavename(discID)\n",
    "    if isFile(savename):\n",
    "        continue\n",
    "    try:\n",
    "        arts.downloadArtistURL(url, savename)\n",
    "        sleep(1)\n",
    "    except:\n",
    "        print(\"Adding {0} to errs\".format(ref))\n",
    "        errs[ref] = True\n",
    "        if len(errs) % 10 == 0:\n",
    "            saveFile(idata=errs, ifile=\"errs.p\", debug=True)\n",
    "        pass\n",
    "    \n",
    "    print(\"----------> {0} \\t {1}\".format(cnts,n)\n",
    "    print(\"\")\n",
    "\n"
   ]
  },
  {
   "cell_type": "code",
   "execution_count": null,
   "metadata": {},
   "outputs": [],
   "source": [
    "import time\n",
    "from multiprocessing import Pool\n",
    " \n",
    "artistDir = disc.getArtistsDir()\n",
    "maxModVal = disc.getMaxModVal()\n",
    "\n",
    "artistDBDir = disc.getArtistsDBDir()        \n",
    "\n",
    "def f(a_list):\n",
    "    out = None\n",
    "    for n in a_list:\n",
    "        dbname = setFile(artistDBDir, \"{0}-DB.p\".format(i))            \n",
    "        dbdata = getFile(dbname, version=3)\n",
    "        return dbdata\n",
    "        if out is None:\n",
    "            out = dbdata\n",
    "        else:\n",
    "            out.update(dbdata)\n",
    " \n",
    "    return out\n",
    " \n",
    "def f_amp(a_list):\n",
    "    chunks = [a_list[i::5] for i in range(5)]\n",
    " \n",
    "    print(chunks)\n",
    "    pool = Pool(processes=5)\n",
    " \n",
    "    result = pool.map_async(f, chunks)\n",
    "    print(result)\n",
    " \n",
    "    while not result.ready():\n",
    "        print(\"Running...\")\n",
    "        time.sleep(5)\n",
    " \n",
    "    return result.get()\n",
    "    #return sum(result.get())\n",
    "    \n",
    "f_amp(files[:5])"
   ]
  },
  {
   "cell_type": "code",
   "execution_count": null,
   "metadata": {},
   "outputs": [],
   "source": [
    "f_amp(range(100))"
   ]
  },
  {
   "cell_type": "code",
   "execution_count": null,
   "metadata": {},
   "outputs": [],
   "source": [
    "from searchUtils import findExt\n",
    "\n",
    "artistDir = disc.getArtistsDir()\n",
    "maxModVal = disc.getMaxModVal()\n",
    "\n",
    "artistDBDir = disc.getArtistsDBDir()        \n",
    "\n",
    "totalSaves = 0\n",
    "for i in range(maxModVal):\n",
    "    dirVal = setDir(artistDir, str(i))\n",
    "    files  = findExt(dirVal, ext='.p')\n",
    "    break\n",
    "\n",
    "    #dbname = setFile(artistDBDir, \"{0}-DB.p\".format(i))            \n",
    "    #dbdata = getFile(dbname, version=3)"
   ]
  },
  {
   "cell_type": "code",
   "execution_count": null,
   "metadata": {},
   "outputs": [],
   "source": [
    "len(files)"
   ]
  },
  {
   "cell_type": "code",
   "execution_count": null,
   "metadata": {},
   "outputs": [],
   "source": [
    "chunks = [files[:10][i::5] for i in range(5)]"
   ]
  },
  {
   "cell_type": "code",
   "execution_count": null,
   "metadata": {},
   "outputs": [],
   "source": [
    "[len(x) for x in chunks]"
   ]
  },
  {
   "cell_type": "code",
   "execution_count": null,
   "metadata": {},
   "outputs": [],
   "source": []
  },
  {
   "cell_type": "code",
   "execution_count": null,
   "metadata": {},
   "outputs": [],
   "source": [
    "%load_ext autoreload\n",
    "%autoreload\n",
    "disc = discogs()\n",
    "arts = artists(disc)\n",
    "dutils = discogsUtils()\n",
    "col = collections(disc)"
   ]
  },
  {
   "cell_type": "code",
   "execution_count": null,
   "metadata": {},
   "outputs": [],
   "source": [
    "from time import sleep\n",
    "stracks = getFile(\"soundtracks.p\")\n",
    "from numpy import ceil\n",
    "for cnt,style in stracks.items():\n",
    "    print(cnt,'\\t',style)\n",
    "    maxmp = int(ceil(int(cnt.replace(',', \"\"))/250))\n",
    "    col.downloadCollection(maxPages=min([15,maxmp]), style=[\"Soundtrack\",style], master=True) #, fmat=fmat)"
   ]
  },
  {
   "cell_type": "code",
   "execution_count": null,
   "metadata": {},
   "outputs": [],
   "source": [
    "import time\n",
    "from multiprocessing import Pool\n",
    " \n",
    "artistDir = disc.getArtistsDir()\n",
    "maxModVal = disc.getMaxModVal()\n",
    "\n",
    "artistDBDir = disc.getArtistsDBDir()   "
   ]
  },
  {
   "cell_type": "code",
   "execution_count": null,
   "metadata": {},
   "outputs": [],
   "source": [
    "def f(a_list, dbdata):\n",
    "    out = []\n",
    "    for ifile in a_list:\n",
    "        discID = getBaseFilename(ifile)\n",
    "        if dbdata.get(discID) is None:\n",
    "            out.append(ifile)\n",
    "            \n",
    "    return out\n",
    " \n",
    "def f_amp(a_list):\n",
    "    chunks = [a_list[i::5] for i in range(5)]\n",
    " \n",
    "    print(chunks)\n",
    "    pool = Pool(processes=5)\n",
    "    \n",
    "    \n",
    "    dbname = setFile(artistDBDir, \"{0}-DB.p\".format(67))            \n",
    "    dbdata = getFile(dbname, version=3)\n",
    " \n",
    "    result = pool.map_async(f, chunks)\n",
    "    print(result)\n",
    " \n",
    "    while not result.ready():\n",
    "        print(\"Running...\")\n",
    "        time.sleep(5)\n",
    " \n",
    "    return sum(result.get())\n",
    "    #return sum(result.get())\n",
    "    \n",
    "f_amp(files[:5])"
   ]
  },
  {
   "cell_type": "code",
   "execution_count": null,
   "metadata": {},
   "outputs": [],
   "source": [
    "a1 = \"Duke Ellington\"\n",
    "a2 = \"Coleman Hawkins\""
   ]
  },
  {
   "cell_type": "code",
   "execution_count": null,
   "metadata": {},
   "outputs": [],
   "source": [
    "disc     = discogs()\n",
    "artistDB = disc.getArtistVariationNameToIDsData()"
   ]
  },
  {
   "cell_type": "code",
   "execution_count": null,
   "metadata": {},
   "outputs": [],
   "source": [
    "artistDB[a1]"
   ]
  },
  {
   "cell_type": "code",
   "execution_count": null,
   "metadata": {},
   "outputs": [],
   "source": [
    "artistDB[a2]"
   ]
  },
  {
   "cell_type": "code",
   "execution_count": null,
   "metadata": {},
   "outputs": [],
   "source": [
    "artistIDToName = disc.getArtistIDToNameData()\n",
    "artistIDToRef = disc.getArtistIDToRefData()"
   ]
  },
  {
   "cell_type": "code",
   "execution_count": null,
   "metadata": {},
   "outputs": [],
   "source": [
    "artistIDToRef['284747']"
   ]
  },
  {
   "cell_type": "code",
   "execution_count": null,
   "metadata": {},
   "outputs": [],
   "source": [
    "artistIDToName['284747-1']"
   ]
  },
  {
   "cell_type": "code",
   "execution_count": null,
   "metadata": {},
   "outputs": [],
   "source": [
    "from artists import artists\n",
    "from artist import artist"
   ]
  },
  {
   "cell_type": "code",
   "execution_count": null,
   "metadata": {},
   "outputs": [],
   "source": [
    "art = artist()\n",
    "arts = artists(disc)"
   ]
  },
  {
   "cell_type": "code",
   "execution_count": null,
   "metadata": {},
   "outputs": [],
   "source": [
    "ifile = '/Volumes/Music/Discog/artists/47/284747.p'\n",
    "info = art.getData(ifile)"
   ]
  },
  {
   "cell_type": "code",
   "execution_count": null,
   "metadata": {},
   "outputs": [],
   "source": [
    "len(info['Media'][\"Albums\"])"
   ]
  },
  {
   "cell_type": "code",
   "execution_count": null,
   "metadata": {},
   "outputs": [],
   "source": [
    "discID   = '284747'\n",
    "href     = artistIDToRef[discID]\n",
    "url      = arts.getArtistRef(href)\n",
    "savename = arts.getArtistSavename(discID)\n",
    "print(url)\n",
    "url=\"{0}/?sort=year%2Casc&limit=500\".format(url)\n",
    "arts.downloadArtistURL(url, savename, force=True)"
   ]
  },
  {
   "cell_type": "code",
   "execution_count": null,
   "metadata": {},
   "outputs": [],
   "source": [
    "html = str(getFile(ifile))\n",
    "type(html)\n",
    "html.find(\"1,221\")"
   ]
  },
  {
   "cell_type": "code",
   "execution_count": null,
   "metadata": {},
   "outputs": [],
   "source": [
    "len(html)"
   ]
  },
  {
   "cell_type": "code",
   "execution_count": null,
   "metadata": {},
   "outputs": [],
   "source": [
    "info.keys()\n",
    "\n",
    "for key in info.keys():\n",
    "    print(\"\\n\\n\\n{0}\".format(key))\n",
    "    val = info[key]\n",
    "    if isinstance(val, dict):\n",
    "        for key2,val2 in val.items():\n",
    "            if isinstance(val2, list):\n",
    "                print(\"\\t{0}\".format(key2))\n",
    "                for key3 in val2:\n",
    "                    print(\"\\t\\t{0}\".format(key3))\n",
    "            elif isinstance(val2, dict):\n",
    "                print(\"\\t{0}\".format(key2))\n",
    "                for key3,val3 in val2.items():\n",
    "                    print(\"\\t\\t{0}\".format(key3))\n",
    "                    print(\"\\t\\t\\t{0}\".format(val3))\n",
    "            else:\n",
    "                print(\"\\t{0}:\\t{1}\".format(key2,val2))\n",
    "    else:\n",
    "        print(info[key])"
   ]
  },
  {
   "cell_type": "code",
   "execution_count": null,
   "metadata": {
    "scrolled": false
   },
   "outputs": [],
   "source": []
  },
  {
   "cell_type": "code",
   "execution_count": null,
   "metadata": {},
   "outputs": [],
   "source": [
    "a = artist()"
   ]
  },
  {
   "cell_type": "code",
   "execution_count": null,
   "metadata": {},
   "outputs": [],
   "source": [
    "x = a.getData(ifile)"
   ]
  },
  {
   "cell_type": "code",
   "execution_count": null,
   "metadata": {},
   "outputs": [],
   "source": [
    "bsdata = getHTML(ifile)"
   ]
  },
  {
   "cell_type": "code",
   "execution_count": null,
   "metadata": {},
   "outputs": [],
   "source": [
    "x['']"
   ]
  },
  {
   "cell_type": "code",
   "execution_count": null,
   "metadata": {},
   "outputs": [],
   "source": []
  },
  {
   "cell_type": "code",
   "execution_count": null,
   "metadata": {},
   "outputs": [],
   "source": [
    "apc.err"
   ]
  },
  {
   "cell_type": "code",
   "execution_count": null,
   "metadata": {},
   "outputs": [],
   "source": [
    "apc.__dict__"
   ]
  },
  {
   "cell_type": "code",
   "execution_count": null,
   "metadata": {},
   "outputs": [],
   "source": []
  },
  {
   "cell_type": "code",
   "execution_count": null,
   "metadata": {},
   "outputs": [],
   "source": []
  },
  {
   "cell_type": "code",
   "execution_count": null,
   "metadata": {},
   "outputs": [],
   "source": []
  },
  {
   "cell_type": "code",
   "execution_count": null,
   "metadata": {},
   "outputs": [],
   "source": []
  },
  {
   "cell_type": "code",
   "execution_count": null,
   "metadata": {},
   "outputs": [],
   "source": [
    "bsdata = getHTML(ifile)"
   ]
  },
  {
   "cell_type": "code",
   "execution_count": null,
   "metadata": {},
   "outputs": [],
   "source": []
  },
  {
   "cell_type": "code",
   "execution_count": null,
   "metadata": {},
   "outputs": [],
   "source": []
  },
  {
   "cell_type": "code",
   "execution_count": null,
   "metadata": {},
   "outputs": [],
   "source": [
    "pages"
   ]
  },
  {
   "cell_type": "code",
   "execution_count": null,
   "metadata": {},
   "outputs": [],
   "source": []
  },
  {
   "cell_type": "code",
   "execution_count": null,
   "metadata": {},
   "outputs": [],
   "source": [
    "tot"
   ]
  },
  {
   "cell_type": "code",
   "execution_count": null,
   "metadata": {},
   "outputs": [],
   "source": [
    "int(ceil(tot/ppp))"
   ]
  },
  {
   "cell_type": "code",
   "execution_count": null,
   "metadata": {},
   "outputs": [],
   "source": [
    "artistDir = disc.getArtistsDir()\n",
    "maxModVal = disc.getMaxModVal()\n",
    "\n",
    "artistDBDir = disc.getArtistsDBDir()\n",
    "\n",
    "artistIDToRef = disc.getArtistIDToRefData()"
   ]
  },
  {
   "cell_type": "code",
   "execution_count": null,
   "metadata": {},
   "outputs": [],
   "source": [
    "\n",
    "%load_ext autoreload\n",
    "%autoreload\n",
    "\n",
    "from artist import artist\n",
    "from searchUtils import findExt\n",
    "from fileUtils import getBaseFilename\n",
    "artistInfo = artist()\n",
    "toget={}\n",
    "extras={}\n",
    "totalSaves = 0\n",
    "for i in range(19,maxModVal):\n",
    "    dirVal = setDir(artistDir, str(i))\n",
    "    files  = findExt(dirVal, ext='.p')\n",
    "\n",
    "    saveIt = 0\n",
    "    nf = len(files)\n",
    "    for j,ifile in enumerate(files):\n",
    "        artistID = getBaseFilename(ifile)\n",
    "        if toget.get(artistID) is not None:\n",
    "            continue\n",
    "            \n",
    "        info     = artistInfo.getData(ifile)\n",
    "\n",
    "        ID       = info.ID.ID\n",
    "            \n",
    "        if artistID != ID:\n",
    "            extras[ifile] = info\n",
    "            continue\n",
    "            \n",
    "        ref = info.url.url\n",
    "            \n",
    "        pages  = info.pages\n",
    "        if pages.redo is True:\n",
    "            toget[artistID] = ref\n",
    "            if len(toget) % 25 == 0:\n",
    "                print(j,'/',nf,'\\t',i,'\\t',len(toget),'\\t',ID,'\\t',ref)\n",
    "                \n",
    "    saveFile(idata=toget, ifile=\"toget3.p\")"
   ]
  },
  {
   "cell_type": "code",
   "execution_count": null,
   "metadata": {},
   "outputs": [],
   "source": [
    "\n",
    "%load_ext autoreload\n",
    "%autoreload\n",
    "\n",
    "from artist import artist\n",
    "from artists import artists\n",
    "\n",
    "from searchUtils import findExt\n",
    "from fileUtils import getBaseFilename\n",
    "artistInfo = artist()\n",
    "\n",
    "redo={}\n",
    "more={}\n",
    "extras={}\n",
    "totalSaves = 0\n",
    "for i in range(1, 8):\n",
    "    dirVal = setDir(artistDir, str(i))\n",
    "    files  = findExt(dirVal, ext='.p')\n",
    "\n",
    "    saveIt = 0\n",
    "    nf = len(files)\n",
    "    for j,ifile in enumerate(files):\n",
    "        artistID = getBaseFilename(ifile)\n",
    "        if redo.get(artistID) is not None:\n",
    "            continue\n",
    "        if more.get(artistID) is not None:\n",
    "            continue\n",
    "            \n",
    "        info     = artistInfo.getData(ifile)\n",
    "\n",
    "        ID       = info.ID.ID\n",
    "            \n",
    "        if artistID != ID:\n",
    "            extras[ifile] = info\n",
    "            continue\n",
    "            \n",
    "        ref    = info.url.url\n",
    "        pages  = info.pages\n",
    "        if pages.redo is True:\n",
    "            redo[artistID] = ref\n",
    "            print(j,'/',nf,'\\t',i,'\\t',len(toget),'\\t',ID,'\\t',ref,'\\t',pages.get())\n",
    "            \n",
    "        if pages.more is True:\n",
    "            more[artistID] = ref\n",
    "            print(j,'/',nf,'\\t',i,'\\t',len(toget),'\\t',ID,'\\t',ref,'\\t',pages.get())\n",
    "\n",
    "                \n",
    "    #saveFile(idata=toget, ifile=\"toget.p\")"
   ]
  },
  {
   "cell_type": "code",
   "execution_count": null,
   "metadata": {},
   "outputs": [],
   "source": []
  },
  {
   "cell_type": "code",
   "execution_count": null,
   "metadata": {},
   "outputs": [],
   "source": [
    "%load_ext autoreload\n",
    "%autoreload\n",
    "\n",
    "from artist import artist\n",
    "from artists import artists\n",
    "\n",
    "for artistID,artistRef in more.items():\n",
    "    ifile = arts.getArtistSavename(artistID)\n",
    "    info  = art.getData(ifile)\n",
    "    pages = info.pages\n",
    "    \n",
    "    npages = pages.pages\n",
    "\n",
    "    print(ifile,'\\t',artistRef,'\\t',pages.get())\n",
    "\n",
    "    for p in range(2, npages+1):\n",
    "        url      = arts.getArtistURL(artistRef, p)\n",
    "        savename = arts.getArtistSavename(artistID, p)\n",
    "        if not isFile(savename):\n",
    "            arts.downloadArtistURL(url=url, savename=savename, force=True, debug=True)"
   ]
  },
  {
   "cell_type": "code",
   "execution_count": null,
   "metadata": {},
   "outputs": [],
   "source": [
    "tmp = {k: redo[k] for k in ['1028302', '1323902', '1411102', '200402', '2159702', '228202']}\n",
    "tmp"
   ]
  },
  {
   "cell_type": "code",
   "execution_count": null,
   "metadata": {},
   "outputs": [],
   "source": [
    "redo = tmp.copy()\n",
    "redo"
   ]
  },
  {
   "cell_type": "code",
   "execution_count": null,
   "metadata": {},
   "outputs": [],
   "source": [
    "redo"
   ]
  },
  {
   "cell_type": "code",
   "execution_count": null,
   "metadata": {},
   "outputs": [],
   "source": []
  },
  {
   "cell_type": "code",
   "execution_count": null,
   "metadata": {},
   "outputs": [],
   "source": [
    "%load_ext autoreload\n",
    "%autoreload\n",
    "\n",
    "redo={\"780701\": \"/artist/780701-Whitfield-Strong\"}\n",
    "\n",
    "from artist import artist\n",
    "from artists import artists\n",
    "\n",
    "from searchUtils import findExt\n",
    "from fileUtils import getBaseFilename\n",
    "artistInfo = artist()\n",
    "arts = artists(disc)\n",
    "\n",
    "from time import sleep\n",
    "for artistID,artistRef in redo.items():\n",
    "    url = arts.getArtistURL(artistRef)\n",
    "    savename = arts.getArtistSavename(artistID)\n",
    "    arts.downloadArtistURL(url=url, savename=savename, force=True)\n",
    "    sleep(1)"
   ]
  }
 ],
 "metadata": {
  "kernelspec": {
   "display_name": "Python 3",
   "language": "python",
   "name": "python3"
  },
  "language_info": {
   "codemirror_mode": {
    "name": "ipython",
    "version": 3
   },
   "file_extension": ".py",
   "mimetype": "text/x-python",
   "name": "python",
   "nbconvert_exporter": "python",
   "pygments_lexer": "ipython3",
   "version": "3.7.3"
  }
 },
 "nbformat": 4,
 "nbformat_minor": 2
}
