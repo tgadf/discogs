{
 "cells": [
  {
   "cell_type": "code",
   "execution_count": 1,
   "metadata": {},
   "outputs": [
    {
     "data": {
      "text/html": [
       "<style>.container { width:100% !important; }</style>"
      ],
      "text/plain": [
       "<IPython.core.display.HTML object>"
      ]
     },
     "metadata": {},
     "output_type": "display_data"
    },
    {
     "data": {
      "text/html": [
       "<style>div.output_area{max-height:10000px;overflow:scroll;}</style>"
      ],
      "text/plain": [
       "<IPython.core.display.HTML object>"
      ]
     },
     "metadata": {},
     "output_type": "display_data"
    },
    {
     "name": "stdout",
     "output_type": "stream",
     "text": [
      "Python: 3.7.3 (default, Mar 27 2019, 16:54:48) \n",
      "[Clang 4.0.1 (tags/RELEASE_401/final)]\n",
      "Notebook Last Run Initiated: 2020-01-15 19:26:33.561036\n"
     ]
    }
   ],
   "source": [
    "## Basic stuff\n",
    "%load_ext autoreload\n",
    "%autoreload\n",
    "from IPython.core.display import display, HTML\n",
    "display(HTML(\"<style>.container { width:100% !important; }</style>\"))\n",
    "display(HTML(\"\"\"<style>div.output_area{max-height:10000px;overflow:scroll;}</style>\"\"\"))\n",
    "\n",
    "## Python Version\n",
    "import sys\n",
    "print(\"Python: {0}\".format(sys.version))\n",
    "\n",
    "from ioUtils import saveJoblib, loadJoblib, saveFile, getFile\n",
    "import urllib\n",
    "from urllib.parse import quote\n",
    "\n",
    "from discogsBase import discogs\n",
    "from discogsUtils import discogsUtils\n",
    "from collection import collections\n",
    "from artist import artist\n",
    "from timeUtils import clock, elapsed\n",
    "from fsUtils import moveFile, setFile, setDir, setSubDir, isFile, isDir, mkDir\n",
    "from fileUtils import getFileBasics, getBasename\n",
    "from artists import artists\n",
    "from albums import albums\n",
    "from time import sleep\n",
    "\n",
    "import datetime as dt\n",
    "start = dt.datetime.now()\n",
    "print(\"Notebook Last Run Initiated: \"+str(start))"
   ]
  },
  {
   "cell_type": "code",
   "execution_count": 2,
   "metadata": {},
   "outputs": [
    {
     "name": "stdout",
     "output_type": "stream",
     "text": [
      "The autoreload extension is already loaded. To reload it, use:\n",
      "  %reload_ext autoreload\n",
      "Saved Discog Directory /Volumes/Music/Discog is Available\n",
      "Local Discog Directory /Users/tgadfort/Music/Discog is Available\n",
      "/Volumes/Music/Discog/collections exists\n",
      "/Volumes/Music/Discog/artists exists\n",
      "/Volumes/Music/Discog/albums exists\n",
      "/Volumes/Music/Discog/collections-db exists\n",
      "/Volumes/Music/Discog/artists-db exists\n",
      "/Volumes/Music/Discog/albums-db exists\n",
      "/Volumes/Music/Discog/artists-db/metadata exists\n",
      "/Volumes/Music/Discog/albums-db/metadata exists\n",
      "/Volumes/Music/Discog/diagnostic exists\n",
      "/Volumes/Music/Discog/db exists\n"
     ]
    }
   ],
   "source": [
    "%load_ext autoreload\n",
    "%autoreload\n",
    "disc   = discogs()\n",
    "arts   = artists(disc)\n",
    "albs   = albums(disc)\n",
    "dutils = discogsUtils()\n",
    "col    = collections(disc)"
   ]
  },
  {
   "cell_type": "markdown",
   "metadata": {},
   "source": [
    "# Parse Artists DB"
   ]
  },
  {
   "cell_type": "code",
   "execution_count": 3,
   "metadata": {},
   "outputs": [
    {
     "name": "stdout",
     "output_type": "stream",
     "text": [
      "Parsing Artist Files For ModVal 65\n",
      "Forcing Reloads of ModVal=65\n",
      "  Processing 6704 files.\n",
      "\tProcessed 0/6704 files.\n",
      "\tProcessed 500/6704 files.\n",
      "\tProcessed 1000/6704 files.\n",
      "\tProcessed 1500/6704 files.\n",
      "\tProcessed 2000/6704 files.\n",
      "\tProcessed 2500/6704 files.\n",
      "\tProcessed 3000/6704 files.\n",
      "\tProcessed 3500/6704 files.\n",
      "\tProcessed 4000/6704 files.\n",
      "\tProcessed 4500/6704 files.\n",
      "\tProcessed 5000/6704 files.\n",
      "\tProcessed 5500/6704 files.\n",
      "\tProcessed 6000/6704 files.\n",
      "\tProcessed 6500/6704 files.\n",
      "Saving 6704 new artist IDs to /Volumes/Music/Discog/artists-db/65-DB.p\n",
      "  --> This file is 12.3MB.\n",
      "Saving 6704 new artist IDs name data to /Volumes/Music/Discog/artists-db/metadata/65-Metadata.p\n",
      "  --> This file is 391.5kB.\n",
      "Saving 6704 new artist IDs media data to /Volumes/Music/Discog/artists-db/metadata/65-MediaMetadata.p\n",
      "  --> This file is 4.0MB.\n"
     ]
    },
    {
     "data": {
      "text/plain": [
       "6704"
      ]
     },
     "execution_count": 3,
     "metadata": {},
     "output_type": "execute_result"
    }
   ],
   "source": [
    "#arts.parseArtistModValFiles(65, force=True)"
   ]
  },
  {
   "cell_type": "markdown",
   "metadata": {},
   "source": [
    "# Missing Artists From Albums"
   ]
  },
  {
   "cell_type": "code",
   "execution_count": null,
   "metadata": {},
   "outputs": [],
   "source": [
    "%load_ext autoreload\n",
    "%autoreload\n",
    "from albums import albums\n",
    "from discogsBase import discogs\n",
    "\n",
    "disc  = discogs()\n",
    "albs  = albums(disc)\n",
    "toget = albs.findMissingArtistsFromAlbums()"
   ]
  },
  {
   "cell_type": "code",
   "execution_count": null,
   "metadata": {},
   "outputs": [],
   "source": [
    "from time import sleep\n",
    "togetmap  = toget['togetmap']\n",
    "refstoget = toget['toget']\n",
    "for ia,item in enumerate(refstoget.most_common()):\n",
    "    artistID, cnt = item[0], item[1]\n",
    "    ref      = togetmap[artistID]\n",
    "    url      = arts.getArtistURL(ref)\n",
    "    savename = arts.getArtistSavename(artistID)\n",
    "    if not isFile(savename):\n",
    "        try:\n",
    "            print('\\n{0}/{1}'.format(ia,len(refstoget)))\n",
    "            retval = arts.downloadArtistURL(url, savename, debug=True)\n",
    "            sleep(2)\n",
    "        except:\n",
    "            continue\n",
    "            \n",
    "    #print(item)\n",
    "#len(togetmap)"
   ]
  },
  {
   "cell_type": "markdown",
   "metadata": {},
   "source": [
    "# Albums "
   ]
  },
  {
   "cell_type": "code",
   "execution_count": null,
   "metadata": {},
   "outputs": [],
   "source": [
    "#arts.parseArtistModValFiles(98, force=True)\n",
    "arts.parseArtistModValFiles(49, force=True)\n",
    "#for modVal in range(92,100):\n",
    "#    parseArtists(modVal)"
   ]
  },
  {
   "cell_type": "markdown",
   "metadata": {},
   "source": [
    "# Download Artist Albums"
   ]
  },
  {
   "cell_type": "code",
   "execution_count": null,
   "metadata": {},
   "outputs": [],
   "source": [
    "arts.searchDiscogForArtist(\"Royce Lovett\")\n",
    "arts.searchDiscogForArtist(\"Melanie Sparks\")"
   ]
  },
  {
   "cell_type": "code",
   "execution_count": null,
   "metadata": {},
   "outputs": [],
   "source": [
    "%load_ext autoreload\n",
    "%autoreload\n",
    "from albums import albums\n",
    "disc = discogs()\n",
    "albs = albums(disc)\n",
    "albs.downloadAlbumsFromArtists(maxAlbums=1, mediaTypes=None, rand=True)"
   ]
  },
  {
   "cell_type": "markdown",
   "metadata": {},
   "source": [
    "# Parallel Parse Artists"
   ]
  },
  {
   "cell_type": "code",
   "execution_count": null,
   "metadata": {},
   "outputs": [],
   "source": [
    "%load_ext autoreload\n",
    "%autoreload\n",
    "\n",
    "from artist import artist\n",
    "from artists import artists\n",
    "arts = artists(disc)\n",
    "\n",
    "def parseArtists(modVal, force=False, doExtra=False):\n",
    "    arts.parseArtistModValFiles(modVal, force=force)\n",
    "    #arts.parseArtistModValExtraFiles(modVal)\n",
    "\n",
    "\n",
    "def parseArtistsParallel(nProc=3, force=False):\n",
    "    pool = Pool(processes=nProcs)\n",
    "    result = pool.map_async(parseArtists, range(100)) \n",
    "    start, cmt = clock(\"Processing {0} modVals using {1} processes\".format(modVals, nProcs))\n",
    "    while not result.ready():\n",
    "        if force is True:\n",
    "            time.sleep(10)\n",
    "        else:\n",
    "            time.sleep(1)\n",
    "    print(\"\")\n",
    "    \n",
    "    elapsed(start, cmt)\n",
    "    return result.get()\n",
    "\n",
    "start,cmt=clock(\"Parsing All Artists\")\n",
    "start2,cmt2=clock(\"Parallel Artist Parsing\")\n",
    "#parseArtistsParallel()\n",
    "elapsed(start2, cmt2)\n",
    "#arts.buildMetadata(force=False, doAlbums=False)\n",
    "elapsed(start, cmt)"
   ]
  },
  {
   "cell_type": "markdown",
   "metadata": {},
   "source": [
    "# Missing Artists From Albums"
   ]
  },
  {
   "cell_type": "code",
   "execution_count": null,
   "metadata": {},
   "outputs": [],
   "source": [
    "%load_ext autoreload\n",
    "%autoreload\n",
    "from albums import albums\n",
    "from discogsBase import discogs\n",
    "\n",
    "disc  = discogs()\n",
    "albs  = albums(disc)\n",
    "toget = albs.findMissingArtistsFromAlbums()"
   ]
  },
  {
   "cell_type": "code",
   "execution_count": null,
   "metadata": {},
   "outputs": [],
   "source": [
    "from time import sleep\n",
    "togetmap  = toget['togetmap']\n",
    "refstoget = toget['toget']\n",
    "for ia,item in enumerate(refstoget.most_common()):\n",
    "    artistID, cnt = item[0], item[1]\n",
    "    ref      = togetmap[artistID]\n",
    "    url      = arts.getArtistURL(ref)\n",
    "    savename = arts.getArtistSavename(artistID)\n",
    "    if not isFile(savename):\n",
    "        try:\n",
    "            print('\\n{0}/{1}'.format(ia,len(refstoget)))\n",
    "            retval = arts.downloadArtistURL(url, savename, debug=True)\n",
    "        except:\n",
    "            continue\n",
    "            \n",
    "        sleep(2)\n",
    "    #print(item)\n",
    "#len(togetmap)"
   ]
  },
  {
   "cell_type": "markdown",
   "metadata": {},
   "source": [
    "# Albums Of Matched People"
   ]
  },
  {
   "cell_type": "code",
   "execution_count": null,
   "metadata": {},
   "outputs": [],
   "source": [
    "data = getFile(\"/Volumes/Music/MusicDB/toget.p\")"
   ]
  },
  {
   "cell_type": "code",
   "execution_count": null,
   "metadata": {},
   "outputs": [],
   "source": [
    "%load_ext autoreload\n",
    "%autoreload\n",
    "from albums import albums\n",
    "disc = discogs()\n",
    "discdf = disc.getMasterDiscogsDB()\n",
    "print(discdf.shape)\n",
    "discdf = discdf[~discdf['Name'].isna()]\n",
    "print(discdf.shape)\n",
    "\n",
    "artists = list(discdf[\"Artist\"])\n",
    "\n",
    "_ = clock(\"Last Run\")"
   ]
  },
  {
   "cell_type": "code",
   "execution_count": null,
   "metadata": {},
   "outputs": [],
   "source": [
    "def getMusicData(key, artist):\n",
    "    retval = discdf[discdf[key] == artist]\n",
    "    if retval.shape[0] > 0:\n",
    "        return retval\n",
    "    else:\n",
    "        return None\n",
    "    \n",
    "toget={}\n",
    "known={}\n",
    "\n",
    "for ia,artistName in enumerate(data):\n",
    "    #artistID = artistName\n",
    "    artistID = None\n",
    "    if artistID is None:\n",
    "        retval = getMusicData('Name', artistName)\n",
    "        if retval is not None:\n",
    "            artistID = retval.index.values[0]\n",
    "    modValue  = dutils.getDiscIDHashMod(discID=artistID, modval=disc.getMaxModVal())\n",
    "    if toget.get(modValue) is None:\n",
    "        toget[modValue] = {}\n",
    "    toget[modValue][artistID] = True\n",
    "        \n",
    "    if ia % 100 == 0:\n",
    "        print(ia,'/',len(data))"
   ]
  },
  {
   "cell_type": "code",
   "execution_count": null,
   "metadata": {},
   "outputs": [],
   "source": [
    "list(reversed(list(toget.keys())))"
   ]
  },
  {
   "cell_type": "code",
   "execution_count": null,
   "metadata": {
    "scrolled": true
   },
   "outputs": [],
   "source": [
    "for modVal in toget.keys():\n",
    "    artistIDs = toget[modVal]\n",
    "    print(modVal,'\\t',len(artistIDs))\n",
    "    dbdata = disc.getArtistsDBModValData(modVal)\n",
    "    for artistID in artistIDs:\n",
    "        print(' ',artistID)\n",
    "        artistData = dbdata[artistID]\n",
    "        albs.downloadAlbumFromArtistData(artistID=artistID, artistData=artistData, mediaTypes=None)"
   ]
  },
  {
   "cell_type": "code",
   "execution_count": null,
   "metadata": {},
   "outputs": [],
   "source": [
    "\n",
    "        \n",
    "1/0\n",
    "\n",
    "ref = retval['Ref']\n",
    "print(artistName,ref)\n",
    "refval = ref.values[0]\n",
    "artistAlbums = retval[\"Albums\"]\n",
    "print(artistAlbums)\n",
    "continue\n",
    "if artistAlbums is not None:\n",
    "    for mediaType,mediaData in artistAlbums.items():\n",
    "        print(mediaType,mediaData)\n",
    "        for albumID,albumURL in mediaData.items():\n",
    "            savename = self.getAlbumSavename(artistID, albumID)                    \n",
    "            if not isFile(savename):\n",
    "                toGet[albumURL] = savename\n",
    "            else:\n",
    "                known[albumURL] = savename\n",
    "\n",
    "        baseURL = self.disc.discogURL\n",
    "        url = urllib.parse.urljoin(baseURL, quote(albumURL))\n",
    "        if knownAlbums.get(url) is True:\n",
    "            print(\"\\t  Previously downloaded.\")\n",
    "            continue\n",
    "        retval = self.downloadAlbumURLData(url, savename, artistID)                \n",
    "\n",
    "        retval = self.downloadAlbumURLData(url, savename, artistID)\n",
    "    1/0\n",
    "\n",
    "\n"
   ]
  },
  {
   "cell_type": "code",
   "execution_count": null,
   "metadata": {},
   "outputs": [],
   "source": [
    "ref.values[0]"
   ]
  },
  {
   "cell_type": "code",
   "execution_count": null,
   "metadata": {},
   "outputs": [],
   "source": [
    "albums"
   ]
  },
  {
   "cell_type": "markdown",
   "metadata": {},
   "source": [
    "# Extra Media"
   ]
  },
  {
   "cell_type": "code",
   "execution_count": null,
   "metadata": {},
   "outputs": [],
   "source": [
    "def findErrs(modVal, show=True):\n",
    "    print(\"Finding Errors For {0}\".format(modVal))\n",
    "    dbdata = disc.getArtistsDBModValData(modVal)\n",
    "\n",
    "    dels = []\n",
    "    for artistID,artistInfo in dbdata.items():\n",
    "        ref    = artistInfo.url.url\n",
    "\n",
    "        nMedia = sum([len(x) for x in artistInfo.media.media.values()])\n",
    "        counts = 0 #artistInfo.mediaCounts.counts[\"Releases\"][\"All\"]\n",
    "        pages  = artistInfo.pages\n",
    "        if pages.tot is None:\n",
    "            print(artistID,'\\t',ref,'\\t',nMedia,'\\t',pages.get(),'\\t',counts)\n",
    "            if show:\n",
    "                continue\n",
    "                \n",
    "            dels.append(artistID)\n",
    "            \n",
    "            artistID = dutils.getArtistID(ref)\n",
    "            url = arts.getArtistURL(ref)\n",
    "            savename = arts.getArtistSavename(artistID)\n",
    "            arts.downloadArtistURL(url=url, savename=savename, debug=True, force=True)\n",
    "\n",
    "\n",
    "        elif (pages.tot > pages.ppp or nMedia % 25 == 0) and pages.pages > 1:\n",
    "            print(artistID,'\\t',ref,'\\t',nMedia,'\\t',pages.get(),'\\t',counts)\n",
    "            if show:\n",
    "                continue\n",
    "                \n",
    "            dels.append(artistID)\n",
    "            \n",
    "            artistID = dutils.getArtistID(ref)\n",
    "            url = arts.getArtistURL(ref)\n",
    "            savename = arts.getArtistSavename(artistID)\n",
    "            arts.downloadArtistURL(url=url, savename=savename, debug=True, force=True)\n",
    "\n",
    "    #arts.rmIDFromDB(dels)\n",
    "    if show:\n",
    "        return\n",
    "\n",
    "    saveVal = False\n",
    "    for ID in dels:\n",
    "        try:\n",
    "            del dbdata[ID]\n",
    "            print(\"Deleted {0}\".format(ID))\n",
    "            saveVal = True\n",
    "        except:\n",
    "            print(\"Not there...\")\n",
    "            \n",
    "    dbname = disc.getArtistsDBModValFilename(modVal)\n",
    "    if saveVal:\n",
    "        print(\"Saving {0}\".format(dbname))\n",
    "        saveFile(idata=dbdata, ifile=dbname)\n",
    "    else:\n",
    "        print(\"No reason to save {0}\".format(dbname))\n",
    "\n",
    "    arts.parseArtistModValFiles(modVal, force=False)\n",
    "    arts.assertDBModValExtraData(modVal)\n",
    "    arts.parseArtistModValExtraFiles(modVal)"
   ]
  },
  {
   "cell_type": "code",
   "execution_count": null,
   "metadata": {},
   "outputs": [],
   "source": [
    "#findErrs(98, show=False)"
   ]
  },
  {
   "cell_type": "markdown",
   "metadata": {},
   "source": [
    "# Credits"
   ]
  },
  {
   "cell_type": "code",
   "execution_count": null,
   "metadata": {},
   "outputs": [],
   "source": [
    "\n",
    "artistIDs = disc.getArtistIDToNameData()\n",
    "from collections import Counter\n",
    "toget    = Counter()\n",
    "togetmap = {}\n",
    "\n",
    "#for modVal in ['NAN'] + list(range(disc.getMaxModVal())):\n",
    "db = disc.getAlbumsDBModValData(2)\n",
    "\n"
   ]
  },
  {
   "cell_type": "markdown",
   "metadata": {},
   "source": [
    "# Search For Artists"
   ]
  },
  {
   "cell_type": "code",
   "execution_count": null,
   "metadata": {},
   "outputs": [],
   "source": [
    "%load_ext autoreload\n",
    "%autoreload\n",
    "disc   = discogs()\n",
    "arts   = artists(disc)"
   ]
  },
  {
   "cell_type": "code",
   "execution_count": null,
   "metadata": {},
   "outputs": [],
   "source": [
    "artist = \"Suzanne Haik Vantoura\"\n",
    "artist = \"A Spanner In The Works\"\n",
    "artist = \"L-Gee\"\n",
    "artist = \"Zakary Thaks\"\n",
    "artist = \"Apollo Four Forty\"\n",
    "artist = \"Beatsnblends\"\n",
    "artist = \"Bipolar Outing\"\n",
    "artist = \"4th Of July\"\n",
    "\n",
    "arts.searchDiscogForArtist(artist)"
   ]
  },
  {
   "cell_type": "markdown",
   "metadata": {},
   "source": [
    "# My Music"
   ]
  },
  {
   "cell_type": "code",
   "execution_count": null,
   "metadata": {},
   "outputs": [],
   "source": [
    "artistData = getFile(ifile=\"/Volumes/Music/MusicDB/artistData.p\")\n",
    "albumData  = getFile(ifile=\"/Volumes/Music/MusicDB/albumData.p\")\n",
    "\n"
   ]
  },
  {
   "cell_type": "code",
   "execution_count": null,
   "metadata": {},
   "outputs": [],
   "source": [
    "artistData[\"Camouflage (West German ''Target'' Pressing)\"]"
   ]
  },
  {
   "cell_type": "code",
   "execution_count": null,
   "metadata": {},
   "outputs": [],
   "source": []
  },
  {
   "cell_type": "code",
   "execution_count": null,
   "metadata": {},
   "outputs": [],
   "source": []
  },
  {
   "cell_type": "markdown",
   "metadata": {},
   "source": [
    "# Extra Artists"
   ]
  },
  {
   "cell_type": "code",
   "execution_count": null,
   "metadata": {},
   "outputs": [],
   "source": [
    "retval = albs.findMissingArtistsFromAlbums()\n",
    "togetmap = retval[\"togetmap\"]\n",
    "toget    = retval[\"toget\"]"
   ]
  },
  {
   "cell_type": "code",
   "execution_count": null,
   "metadata": {},
   "outputs": [],
   "source": [
    "if False:\n",
    "    from time import sleep\n",
    "    for item in toget.most_common():\n",
    "        artistID, cnt = item[0], item[1]\n",
    "        ref      = togetmap[artistID]\n",
    "        url      = arts.getArtistURL(ref)\n",
    "        savename = arts.getArtistSavename(artistID)\n",
    "        if not isFile(savename):\n",
    "            try:\n",
    "                arts.downloadArtistURL(url, savename, debug=True)\n",
    "            except:\n",
    "                continue\n",
    "            sleep(2)\n",
    "        #print(item)\n",
    "    #len(togetmap)"
   ]
  },
  {
   "cell_type": "markdown",
   "metadata": {},
   "source": [
    "# Collections By Artist"
   ]
  },
  {
   "cell_type": "code",
   "execution_count": null,
   "metadata": {},
   "outputs": [],
   "source": [
    "from collections import Counter\n",
    "db = Counter(disc.getCollectionRefCountsData())\n",
    "coreIDs = disc.getArtistIDAlbumIDs()"
   ]
  },
  {
   "cell_type": "code",
   "execution_count": null,
   "metadata": {},
   "outputs": [],
   "source": [
    "tmp = getFile('/Volumes/Music/Discog/db/AlbumIDToArtistID.p')\n",
    "artIDtoAlbID = {}\n",
    "for k,v in tmp.items():\n",
    "    for v2 in v:\n",
    "        if artIDtoAlbID.get(v2) is None:\n",
    "            artIDtoAlbID[v2] = {}\n",
    "        artIDtoAlbID[v2][k] = True\n",
    "for k in artIDtoAlbID.keys():\n",
    "    artIDtoAlbID[k] = list(artIDtoAlbID[k].keys())"
   ]
  },
  {
   "cell_type": "code",
   "execution_count": null,
   "metadata": {},
   "outputs": [],
   "source": []
  },
  {
   "cell_type": "code",
   "execution_count": null,
   "metadata": {},
   "outputs": [],
   "source": []
  },
  {
   "cell_type": "code",
   "execution_count": null,
   "metadata": {},
   "outputs": [],
   "source": [
    "for item in db.most_common(500):\n",
    "    ref,cnt  = item[0],item[1]\n",
    "    artistID = dutils.getArtistID(ref)\n",
    "    modVal   = str(int(artistID[-2:]))\n",
    "    \n",
    "    coreAlbums = coreIDs.get(artistID)\n",
    "    #if len(coreAlbums) % 25 == 0:\n",
    "    print(\"{0: <50}{1: <5}{2: <10}{3: <5}{4: <5}\".format(ref,modVal,artistID,len(coreAlbums),len(artIDtoAlbID[artistID])))\n",
    "    continue\n",
    "    if False:\n",
    "        print(artistID,'\\t',ref)\n",
    "        arts.rmIDFromDB(artistID)\n",
    "        url = arts.getArtistURL(ref)\n",
    "        savename = arts.getArtistSavename(artistID)\n",
    "        arts.downloadArtistURL(url=url, savename=savename)\n",
    "        sleep(2)\n",
    "    #print(artistID,item,len(coreAlbums))"
   ]
  },
  {
   "cell_type": "code",
   "execution_count": null,
   "metadata": {},
   "outputs": [],
   "source": []
  },
  {
   "cell_type": "code",
   "execution_count": null,
   "metadata": {
    "scrolled": true
   },
   "outputs": [],
   "source": [
    "albs.downloadAlbumsFromArtists(maxAlbums=1)"
   ]
  },
  {
   "cell_type": "code",
   "execution_count": null,
   "metadata": {},
   "outputs": [],
   "source": [
    "dbArt = disc.getArtistIDToNameData()\n",
    "dbCol = disc.getCollectionIDToRefData()\n",
    "artistDBDir = disc.getArtistsDBDir()"
   ]
  },
  {
   "cell_type": "code",
   "execution_count": null,
   "metadata": {},
   "outputs": [],
   "source": [
    "\n",
    "refs = [dbCol.get('489428')]\n",
    "for ref in refs:\n",
    "    if ref is None:\n",
    "        continue\n",
    "    print(\"REF --> {0}\".format(ref))\n",
    "    href = ref.replace(\"https://www.discogs.com/artist/\", \"\")\n",
    "    artistID = dutils.getArtistID(ref)\n",
    "    modValue = dutils.getDiscIDHashMod(discID=artistID, modval=disc.getMaxModVal())\n",
    "\n",
    "    if False:\n",
    "        dbname  = setFile(artistDBDir, \"{0}-DB.p\".format(modValue))     \n",
    "        print(\"Loading {0}\".format(dbname))\n",
    "        dbdata  = getFile(dbname)\n",
    "\n",
    "        try:\n",
    "            del dbdata[artistID]\n",
    "            print(\"Deleted {0}\".format(artistID))\n",
    "        except:\n",
    "            print(\"Not there...\")\n",
    "\n",
    "        print(\"Saving {0}\".format(dbname))\n",
    "        saveFile(idata=dbdata, ifile=dbname)\n",
    "\n",
    "    url = arts.getArtistURL(ref)\n",
    "    savename = arts.getArtistSavename(artistID)\n",
    "    arts.downloadArtistURL(url=url, savename=savename, parse=True, force=True, debug=True)\n",
    "    sleep(1)"
   ]
  },
  {
   "cell_type": "code",
   "execution_count": null,
   "metadata": {},
   "outputs": [],
   "source": [
    "vals = [\"1166600\", \"1324400\", \"1340600\", \"15800\", \"1626700\", \"1691500\", \"2006300\", \"211200\", \"23500\", \"2360300\", \"2701000\", \"29300\", \"40000\", \"4300900\", \"437700\", \"444000\", \"4731500\", \"563200\", \"6400\", \"72800\", \"90800\"]"
   ]
  },
  {
   "cell_type": "code",
   "execution_count": null,
   "metadata": {},
   "outputs": [],
   "source": [
    "modVal=0\n",
    "\n",
    "artistDBDir = disc.getArtistsDBDir()\n",
    "dbname  = setFile(artistDBDir, \"{0}-DB.p\".format(modVal))     \n",
    "dbdata  = getFile(dbname)\n",
    "print(\"Found {0} artist IDs in {1}\".format(len(dbdata), dbname))\n",
    "\n",
    "for val in vals:\n",
    "    del dbdata[val]\n",
    "\n",
    "savename = setFile(artistDBDir, \"{0}-DB.p\".format(modVal))     \n",
    "print(\"Saving {0} new artist IDs to {1}\".format(len(dbdata), savename))\n",
    "saveJoblib(data=dbdata, filename=savename, compress=True)\n"
   ]
  },
  {
   "cell_type": "code",
   "execution_count": null,
   "metadata": {},
   "outputs": [],
   "source": [
    "from collections import Counter\n",
    "toget = Counter()\n",
    "togetmap = {}\n",
    "for modVal in ['NAN'] + list(range(disc.getMaxModVal())):\n",
    "    db = disc.getAlbumsDBModValData(modVal)\n",
    "    for artistID,artistData in db.items():\n",
    "        for albumID,albumData in artistData.items():\n",
    "            artists = albumData.artist\n",
    "            if artists is None:\n",
    "                continue\n",
    "            for artist in artists:\n",
    "                artistInfo = artist[0]\n",
    "                ID  = artistInfo.ID\n",
    "                ref = artistInfo.url\n",
    "                if ID is not None and artistIDs.get(ID) is None:\n",
    "                    toget[ID] += 1\n",
    "                    togetmap[ID] = ref\n",
    "                    \n",
    "    print(modVal,'\\t',len(toget))"
   ]
  },
  {
   "cell_type": "code",
   "execution_count": null,
   "metadata": {},
   "outputs": [],
   "source": [
    "vals=\"\"\"Downloading: https://www.discogs.com/artist/302000-Ballard-MacDonald?sort=year%2Casc&limit=500&page=2\n",
    "Downloading: https://www.discogs.com/artist/75910-Stephen-W-Tayler?sort=year%2Casc&limit=500&page=2\n",
    "Downloading: https://www.discogs.com/artist/11415-Bob-Clearmountain?sort=year%2Casc&limit=500&page=2\n",
    "Downloading: https://www.discogs.com/artist/834222-Paul-Myers-2?sort=year%2Casc&limit=500&page=2\n",
    "Downloading: https://www.discogs.com/artist/674125-Ram%C3%83%C2%B3n-Arcusa?sort=year%2Casc&limit=500&page=2\n",
    "Downloading: https://www.discogs.com/artist/253127-Fredrik-Nordstr%C3%83%C2%B6m?sort=year%2Casc&limit=500&page=2\n",
    "Downloading: https://www.discogs.com/artist/449529-Denny-Purcell?sort=year%2Casc&limit=500&page=2\n",
    "Downloading: https://www.discogs.com/artist/273544-Angus-Young?sort=year%2Casc&limit=500&page=2\n",
    "Downloading: https://www.discogs.com/artist/1641558-Jacques-Fournier?sort=year%2Casc&limit=500&page=2\n",
    "Downloading: https://www.discogs.com/artist/252962-Alfred-Lion?sort=year%2Casc&limit=500&page=2\n",
    "Downloading: https://www.discogs.com/artist/244167-Brendan-OBrien?sort=year%2Casc&limit=500&page=2\n",
    "Downloading: https://www.discogs.com/artist/27468-Bill-Bottrell?sort=year%2Casc&limit=500&page=2\n",
    "Downloading: https://www.discogs.com/artist/382969-Fred-Kevorkian?sort=year%2Casc&limit=500&page=2\n",
    "Downloading: https://www.discogs.com/artist/142073-Bernard-Edwards-Nile-Rodgers?sort=year%2Casc&limit=500&page=2\n",
    "Downloading: https://www.discogs.com/artist/255681-Bill-Szymczyk?sort=year%2Casc&limit=500&page=2\n",
    "Downloading: https://www.discogs.com/artist/332586-Ralph-Bass?sort=year%2Casc&limit=500&page=2\n",
    "Downloading: https://www.discogs.com/artist/180298-Tom-Dowd?sort=year%2Casc&limit=500&page=2\"\"\""
   ]
  },
  {
   "cell_type": "markdown",
   "metadata": {},
   "source": [
    "# Bad Artists"
   ]
  },
  {
   "cell_type": "code",
   "execution_count": null,
   "metadata": {},
   "outputs": [],
   "source": [
    "5442814                           /artist/5442814-Shad-Music\n",
    "1876816                    /artist/1876816-Mattia-Travaglini\n",
    "517916                            /artist/517916-Sam-Feldman\n",
    "19522             /artist/19522-Psychic-TV-Genesis-P-Orridge\n",
    "3187022                  /artist/3187022-WOI-PH-Sleep-MSM-RE\n",
    "2835023                         /artist/2835023-Dilraaj-Kaur\n",
    "4807923                               /artist/4807923-Mr-Rod\n",
    "2120424                      /artist/2120424-Aaron-Collins-4\n",
    "277424     /artist/277424-The-Austrian-State-Radio-Orchestra\n",
    "3316725                        /artist/3316725-Pavel-Krasnov\n",
    "5470627                       /artist/5470627-Petar-Bratanov\n",
    "5470628                      /artist/5470628-Kamen-Grahovski\n",
    "5470629                     /artist/5470629-Nikolay-Berberov\n",
    "2864703    /artist/2864703-Scottish-Chamber-Orchestra-Chorus\n",
    "3191803                       /artist/3191803-Mark-T-Johnson\n",
    "2168730                         /artist/2168730-Fulvio-Locci\n",
    "298530                          /artist/298530-Stuart-Eltham\n",
    "3357530              /artist/3357530-Matt-Saltlicker-Lambeth\n",
    "4955231                              /artist/4955231-LGBProd\n",
    "3498232        /artist/3498232-Nora-Olearius-Matthias-Keller\n",
    "2825035                  /artist/2825035-Anastasia-Romanenko\n",
    "306940                           /artist/306940-Dale-Steward\n",
    "3463348                           /artist/3463348-Tino-Isgro\n",
    "4927849                              /artist/4927849-PH-Boer\n",
    "3851405                             /artist/3851405-Noggin-4\n",
    "3962251                        /artist/3962251-Dj-Fat-Franco\n",
    "4884051                         /artist/4884051-John-Modenos\n",
    "1046052                       /artist/1046052-Manuel-Soler-2\n",
    "2605855                       /artist/2605855-Dino-Paredes-2\n",
    "5166458                         /artist/5166458-Elwood-Doran\n",
    "3961406               /artist/3961406-SIE-Speed-Is-Essential\n",
    "2117360                      /artist/2117360-Ray-M-Flores-IV\n",
    "540270                             /artist/540270-L-Ferguson\n",
    "2181671                       /artist/2181671-Ciaran-Sweeney\n",
    "2971073                       /artist/2971073-Mike-Douglas-5\n",
    "3465573                     /artist/3465573-Jeff-Christopher\n",
    "458475                         /artist/458475-Sebastian-Hoff\n",
    "5402008                        /artist/5402008-Yahman-Celvai\n",
    "190580                            /artist/190580-Nuno-Rebelo\n",
    "2426380             /artist/2426380-Davide-BrutalDave-Billia\n",
    "4645580                      /artist/4645580-Ormur-Ãlafsson\n",
    "5128482                          /artist/5128482-Ras-Tom-EYE\n",
    "1880086          /artist/1880086-Frankfurt-Baroque-Orchestra\n",
    "63888                 /artist/63888-Rhymes-Rhythm-Blues-Band\n",
    "4184291                         /artist/4184291-Fuyuki-Tenge\n",
    "3705398      /artist/3705398-ÐÐµÐ¾ÑÐ³Ð¸Ð¹-ÐÐ¶Ð°Ð³Ð°ÑÐ¾Ð²\n",
    "3743398                             /artist/3743398-Mia-Berg"
   ]
  },
  {
   "cell_type": "code",
   "execution_count": null,
   "metadata": {},
   "outputs": [],
   "source": [
    "%load_ext autoreload\n",
    "%autoreload\n",
    "disc   = discogs()\n",
    "art    = artist()\n",
    "arts   = artists(disc)"
   ]
  },
  {
   "cell_type": "code",
   "execution_count": null,
   "metadata": {},
   "outputs": [],
   "source": [
    "atc = art.getData('/Volumes/Music/Discog/artists/98/3743398.p')"
   ]
  },
  {
   "cell_type": "code",
   "execution_count": null,
   "metadata": {},
   "outputs": [],
   "source": []
  },
  {
   "cell_type": "code",
   "execution_count": null,
   "metadata": {},
   "outputs": [],
   "source": []
  },
  {
   "cell_type": "code",
   "execution_count": null,
   "metadata": {},
   "outputs": [],
   "source": []
  },
  {
   "cell_type": "code",
   "execution_count": null,
   "metadata": {},
   "outputs": [],
   "source": []
  },
  {
   "cell_type": "code",
   "execution_count": null,
   "metadata": {},
   "outputs": [],
   "source": [
    "\n",
    "artistDBDir = disc.getArtistsDBDir()\n",
    "\n",
    "/artist/67340-Yaki-Da\n",
    "\n",
    "urls = vals.split('\\n')\n",
    "for url in urls:\n",
    "    ref = url.split('?')[0]\n",
    "\n",
    "\n",
    "    href = ref.replace(\"https://www.discogs.com/artist/\", \"\")\n",
    "    artistID = dutils.getArtistID(url)\n",
    "    modValue = dutils.getDiscIDHashMod(discID=artistID, modval=disc.getMaxModVal())\n",
    "\n",
    "    if False:\n",
    "        dbname  = setFile(artistDBDir, \"{0}-DB.p\".format(modValue))     \n",
    "        print(\"Loading {0}\".format(dbname))\n",
    "        dbdata  = getFile(dbname)\n",
    "\n",
    "        try:\n",
    "            del dbdata[artistID]\n",
    "            print(\"Deleted {0}\".format(artistID))\n",
    "        except:\n",
    "            print(\"Not there...\")\n",
    "\n",
    "        print(\"Saving {0}\".format(dbname))\n",
    "        saveFile(idata=dbdata, ifile=dbname)\n",
    "    \n",
    "    url = ref.replace(\"Downloading: \", \"\")\n",
    "    savename = arts.getArtistSavename(artistID)\n",
    "    arts.downloadArtistURL(url=url, savename=savename, force=True, debug=True)\n",
    "    sleep(1)"
   ]
  },
  {
   "cell_type": "code",
   "execution_count": null,
   "metadata": {},
   "outputs": [],
   "source": []
  },
  {
   "cell_type": "code",
   "execution_count": null,
   "metadata": {},
   "outputs": [],
   "source": [
    "for modVal in range(1,100):\n",
    "    try:\n",
    "        arts.assertDBModValData(modVal)\n",
    "    except:\n",
    "        pass"
   ]
  },
  {
   "cell_type": "code",
   "execution_count": null,
   "metadata": {},
   "outputs": [],
   "source": [
    "for modVal in [1]:\n",
    "    start, cmt = clock(\"Processing {0}\".format(modVal))\n",
    "    arts.parseArtistModValFiles(modVal, force=True)\n",
    "    elapsed(start, cmt)"
   ]
  },
  {
   "cell_type": "code",
   "execution_count": null,
   "metadata": {},
   "outputs": [],
   "source": [
    "data = getFile(\"/Volumes/Music/Discog/artists-db/1-DB.p\")"
   ]
  },
  {
   "cell_type": "code",
   "execution_count": null,
   "metadata": {},
   "outputs": [],
   "source": [
    "artistIDtoRefData = disc.getArtistIDToRefData()"
   ]
  },
  {
   "cell_type": "code",
   "execution_count": null,
   "metadata": {},
   "outputs": [],
   "source": [
    "for modVal in range(20,60):\n",
    "    start, cmt = clock(\"Processing {0}\".format(modVal))\n",
    "    arts.parseArtistModValFiles(modVal, force=True)\n",
    "    elapsed(start, cmt)"
   ]
  },
  {
   "cell_type": "code",
   "execution_count": null,
   "metadata": {},
   "outputs": [],
   "source": [
    "x = str(artistData.url.url)"
   ]
  },
  {
   "cell_type": "code",
   "execution_count": null,
   "metadata": {},
   "outputs": [],
   "source": [
    "x.Contains(\"x\")"
   ]
  },
  {
   "cell_type": "code",
   "execution_count": null,
   "metadata": {
    "scrolled": true
   },
   "outputs": [],
   "source": [
    "errs=getFile(\"errs.p\")\n",
    "print(\"Found {0} err files\".format(len(errs)))\n",
    "from collections import Counter\n",
    "n = 0\n",
    "for item in Counter(refCounts).most_common():\n",
    "    n += 1\n",
    "    ref      = item[0]\n",
    "    cnts     = item[1]\n",
    "    if errs.get(ref):\n",
    "        continue\n",
    "    discID   = arts.discogsUtils.getArtistID(ref)\n",
    "    url      = arts.getArtistRef(ref)\n",
    "    savename = arts.getArtistSavename(discID)\n",
    "    if isFile(savename):\n",
    "        continue\n",
    "    try:\n",
    "        arts.downloadArtistURL(url, savename)\n",
    "        sleep(1)\n",
    "    except:\n",
    "        print(\"Adding {0} to errs\".format(ref))\n",
    "        errs[ref] = True\n",
    "        if len(errs) % 10 == 0:\n",
    "            saveFile(idata=errs, ifile=\"errs.p\", debug=True)\n",
    "        pass\n",
    "    \n",
    "    print(\"----------> {0} \\t {1}\".format(cnts,n)\n",
    "    print(\"\")\n",
    "\n"
   ]
  },
  {
   "cell_type": "code",
   "execution_count": null,
   "metadata": {},
   "outputs": [],
   "source": [
    "import time\n",
    "from multiprocessing import Pool\n",
    " \n",
    "artistDir = disc.getArtistsDir()\n",
    "maxModVal = disc.getMaxModVal()\n",
    "\n",
    "artistDBDir = disc.getArtistsDBDir()        \n",
    "\n",
    "def f(a_list):\n",
    "    out = None\n",
    "    for n in a_list:\n",
    "        dbname = setFile(artistDBDir, \"{0}-DB.p\".format(i))            \n",
    "        dbdata = getFile(dbname, version=3)\n",
    "        return dbdata\n",
    "        if out is None:\n",
    "            out = dbdata\n",
    "        else:\n",
    "            out.update(dbdata)\n",
    " \n",
    "    return out\n",
    " \n",
    "def f_amp(a_list):\n",
    "    chunks = [a_list[i::5] for i in range(5)]\n",
    " \n",
    "    print(chunks)\n",
    "    pool = Pool(processes=5)\n",
    " \n",
    "    result = pool.map_async(f, chunks)\n",
    "    print(result)\n",
    " \n",
    "    while not result.ready():\n",
    "        print(\"Running...\")\n",
    "        time.sleep(5)\n",
    " \n",
    "    return result.get()\n",
    "    #return sum(result.get())\n",
    "    \n",
    "f_amp(files[:5])"
   ]
  },
  {
   "cell_type": "code",
   "execution_count": null,
   "metadata": {},
   "outputs": [],
   "source": [
    "f_amp(range(100))"
   ]
  },
  {
   "cell_type": "code",
   "execution_count": null,
   "metadata": {},
   "outputs": [],
   "source": [
    "from searchUtils import findExt\n",
    "\n",
    "artistDir = disc.getArtistsDir()\n",
    "maxModVal = disc.getMaxModVal()\n",
    "\n",
    "artistDBDir = disc.getArtistsDBDir()        \n",
    "\n",
    "totalSaves = 0\n",
    "for i in range(maxModVal):\n",
    "    dirVal = setDir(artistDir, str(i))\n",
    "    files  = findExt(dirVal, ext='.p')\n",
    "    break\n",
    "\n",
    "    #dbname = setFile(artistDBDir, \"{0}-DB.p\".format(i))            \n",
    "    #dbdata = getFile(dbname, version=3)"
   ]
  },
  {
   "cell_type": "code",
   "execution_count": null,
   "metadata": {},
   "outputs": [],
   "source": [
    "len(files)"
   ]
  },
  {
   "cell_type": "code",
   "execution_count": null,
   "metadata": {},
   "outputs": [],
   "source": [
    "chunks = [files[:10][i::5] for i in range(5)]"
   ]
  },
  {
   "cell_type": "code",
   "execution_count": null,
   "metadata": {},
   "outputs": [],
   "source": [
    "[len(x) for x in chunks]"
   ]
  },
  {
   "cell_type": "code",
   "execution_count": null,
   "metadata": {},
   "outputs": [],
   "source": []
  },
  {
   "cell_type": "code",
   "execution_count": null,
   "metadata": {},
   "outputs": [],
   "source": [
    "%load_ext autoreload\n",
    "%autoreload\n",
    "disc = discogs()\n",
    "arts = artists(disc)\n",
    "dutils = discogsUtils()\n",
    "col = collections(disc)"
   ]
  },
  {
   "cell_type": "code",
   "execution_count": null,
   "metadata": {},
   "outputs": [],
   "source": [
    "from time import sleep\n",
    "stracks = getFile(\"soundtracks.p\")\n",
    "from numpy import ceil\n",
    "for cnt,style in stracks.items():\n",
    "    print(cnt,'\\t',style)\n",
    "    maxmp = int(ceil(int(cnt.replace(',', \"\"))/250))\n",
    "    col.downloadCollection(maxPages=min([15,maxmp]), style=[\"Soundtrack\",style], master=True) #, fmat=fmat)"
   ]
  },
  {
   "cell_type": "code",
   "execution_count": null,
   "metadata": {},
   "outputs": [],
   "source": [
    "import time\n",
    "from multiprocessing import Pool\n",
    " \n",
    "artistDir = disc.getArtistsDir()\n",
    "maxModVal = disc.getMaxModVal()\n",
    "\n",
    "artistDBDir = disc.getArtistsDBDir()   "
   ]
  },
  {
   "cell_type": "code",
   "execution_count": null,
   "metadata": {},
   "outputs": [],
   "source": [
    "def f(a_list, dbdata):\n",
    "    out = []\n",
    "    for ifile in a_list:\n",
    "        discID = getBaseFilename(ifile)\n",
    "        if dbdata.get(discID) is None:\n",
    "            out.append(ifile)\n",
    "            \n",
    "    return out\n",
    " \n",
    "def f_amp(a_list):\n",
    "    chunks = [a_list[i::5] for i in range(5)]\n",
    " \n",
    "    print(chunks)\n",
    "    pool = Pool(processes=5)\n",
    "    \n",
    "    \n",
    "    dbname = setFile(artistDBDir, \"{0}-DB.p\".format(67))            \n",
    "    dbdata = getFile(dbname, version=3)\n",
    " \n",
    "    result = pool.map_async(f, chunks)\n",
    "    print(result)\n",
    " \n",
    "    while not result.ready():\n",
    "        print(\"Running...\")\n",
    "        time.sleep(5)\n",
    " \n",
    "    return sum(result.get())\n",
    "    #return sum(result.get())\n",
    "    \n",
    "f_amp(files[:5])"
   ]
  },
  {
   "cell_type": "code",
   "execution_count": null,
   "metadata": {},
   "outputs": [],
   "source": [
    "a1 = \"Duke Ellington\"\n",
    "a2 = \"Coleman Hawkins\""
   ]
  },
  {
   "cell_type": "code",
   "execution_count": null,
   "metadata": {},
   "outputs": [],
   "source": [
    "disc     = discogs()\n",
    "artistDB = disc.getArtistVariationNameToIDsData()"
   ]
  },
  {
   "cell_type": "code",
   "execution_count": null,
   "metadata": {},
   "outputs": [],
   "source": [
    "artistDB[a1]"
   ]
  },
  {
   "cell_type": "code",
   "execution_count": null,
   "metadata": {},
   "outputs": [],
   "source": [
    "artistDB[a2]"
   ]
  },
  {
   "cell_type": "code",
   "execution_count": null,
   "metadata": {},
   "outputs": [],
   "source": [
    "artistIDToName = disc.getArtistIDToNameData()\n",
    "artistIDToRef = disc.getArtistIDToRefData()"
   ]
  },
  {
   "cell_type": "code",
   "execution_count": null,
   "metadata": {},
   "outputs": [],
   "source": [
    "artistIDToRef['284747']"
   ]
  },
  {
   "cell_type": "code",
   "execution_count": null,
   "metadata": {},
   "outputs": [],
   "source": [
    "artistIDToName['284747-1']"
   ]
  },
  {
   "cell_type": "code",
   "execution_count": null,
   "metadata": {},
   "outputs": [],
   "source": [
    "from artists import artists\n",
    "from artist import artist"
   ]
  },
  {
   "cell_type": "code",
   "execution_count": null,
   "metadata": {},
   "outputs": [],
   "source": [
    "art = artist()\n",
    "arts = artists(disc)"
   ]
  },
  {
   "cell_type": "code",
   "execution_count": null,
   "metadata": {},
   "outputs": [],
   "source": [
    "ifile = '/Volumes/Music/Discog/artists/47/284747.p'\n",
    "info = art.getData(ifile)"
   ]
  },
  {
   "cell_type": "code",
   "execution_count": null,
   "metadata": {},
   "outputs": [],
   "source": [
    "len(info['Media'][\"Albums\"])"
   ]
  },
  {
   "cell_type": "code",
   "execution_count": null,
   "metadata": {},
   "outputs": [],
   "source": [
    "discID   = '284747'\n",
    "href     = artistIDToRef[discID]\n",
    "url      = arts.getArtistRef(href)\n",
    "savename = arts.getArtistSavename(discID)\n",
    "print(url)\n",
    "url=\"{0}/?sort=year%2Casc&limit=500\".format(url)\n",
    "arts.downloadArtistURL(url, savename, force=True)"
   ]
  },
  {
   "cell_type": "code",
   "execution_count": null,
   "metadata": {},
   "outputs": [],
   "source": [
    "html = str(getFile(ifile))\n",
    "type(html)\n",
    "html.find(\"1,221\")"
   ]
  },
  {
   "cell_type": "code",
   "execution_count": null,
   "metadata": {},
   "outputs": [],
   "source": [
    "len(html)"
   ]
  },
  {
   "cell_type": "code",
   "execution_count": null,
   "metadata": {},
   "outputs": [],
   "source": [
    "info.keys()\n",
    "\n",
    "for key in info.keys():\n",
    "    print(\"\\n\\n\\n{0}\".format(key))\n",
    "    val = info[key]\n",
    "    if isinstance(val, dict):\n",
    "        for key2,val2 in val.items():\n",
    "            if isinstance(val2, list):\n",
    "                print(\"\\t{0}\".format(key2))\n",
    "                for key3 in val2:\n",
    "                    print(\"\\t\\t{0}\".format(key3))\n",
    "            elif isinstance(val2, dict):\n",
    "                print(\"\\t{0}\".format(key2))\n",
    "                for key3,val3 in val2.items():\n",
    "                    print(\"\\t\\t{0}\".format(key3))\n",
    "                    print(\"\\t\\t\\t{0}\".format(val3))\n",
    "            else:\n",
    "                print(\"\\t{0}:\\t{1}\".format(key2,val2))\n",
    "    else:\n",
    "        print(info[key])"
   ]
  },
  {
   "cell_type": "code",
   "execution_count": null,
   "metadata": {
    "scrolled": false
   },
   "outputs": [],
   "source": []
  },
  {
   "cell_type": "code",
   "execution_count": null,
   "metadata": {},
   "outputs": [],
   "source": [
    "a = artist()"
   ]
  },
  {
   "cell_type": "code",
   "execution_count": null,
   "metadata": {},
   "outputs": [],
   "source": [
    "x = a.getData(ifile)"
   ]
  },
  {
   "cell_type": "code",
   "execution_count": null,
   "metadata": {},
   "outputs": [],
   "source": [
    "bsdata = getHTML(ifile)"
   ]
  },
  {
   "cell_type": "code",
   "execution_count": null,
   "metadata": {},
   "outputs": [],
   "source": [
    "x['']"
   ]
  },
  {
   "cell_type": "code",
   "execution_count": null,
   "metadata": {},
   "outputs": [],
   "source": []
  },
  {
   "cell_type": "code",
   "execution_count": null,
   "metadata": {},
   "outputs": [],
   "source": [
    "apc.err"
   ]
  },
  {
   "cell_type": "code",
   "execution_count": null,
   "metadata": {},
   "outputs": [],
   "source": [
    "apc.__dict__"
   ]
  },
  {
   "cell_type": "code",
   "execution_count": null,
   "metadata": {},
   "outputs": [],
   "source": []
  },
  {
   "cell_type": "code",
   "execution_count": null,
   "metadata": {},
   "outputs": [],
   "source": []
  },
  {
   "cell_type": "code",
   "execution_count": null,
   "metadata": {},
   "outputs": [],
   "source": []
  },
  {
   "cell_type": "code",
   "execution_count": null,
   "metadata": {},
   "outputs": [],
   "source": []
  },
  {
   "cell_type": "code",
   "execution_count": null,
   "metadata": {},
   "outputs": [],
   "source": [
    "bsdata = getHTML(ifile)"
   ]
  },
  {
   "cell_type": "code",
   "execution_count": null,
   "metadata": {},
   "outputs": [],
   "source": []
  },
  {
   "cell_type": "code",
   "execution_count": null,
   "metadata": {},
   "outputs": [],
   "source": []
  },
  {
   "cell_type": "code",
   "execution_count": null,
   "metadata": {},
   "outputs": [],
   "source": [
    "pages"
   ]
  },
  {
   "cell_type": "code",
   "execution_count": null,
   "metadata": {},
   "outputs": [],
   "source": []
  },
  {
   "cell_type": "code",
   "execution_count": null,
   "metadata": {},
   "outputs": [],
   "source": [
    "tot"
   ]
  },
  {
   "cell_type": "code",
   "execution_count": null,
   "metadata": {},
   "outputs": [],
   "source": [
    "int(ceil(tot/ppp))"
   ]
  },
  {
   "cell_type": "code",
   "execution_count": null,
   "metadata": {},
   "outputs": [],
   "source": [
    "artistDir = disc.getArtistsDir()\n",
    "maxModVal = disc.getMaxModVal()\n",
    "\n",
    "artistDBDir = disc.getArtistsDBDir()\n",
    "\n",
    "artistIDToRef = disc.getArtistIDToRefData()"
   ]
  },
  {
   "cell_type": "code",
   "execution_count": null,
   "metadata": {},
   "outputs": [],
   "source": [
    "\n",
    "%load_ext autoreload\n",
    "%autoreload\n",
    "\n",
    "from artist import artist\n",
    "from searchUtils import findExt\n",
    "from fileUtils import getBaseFilename\n",
    "artistInfo = artist()\n",
    "toget={}\n",
    "extras={}\n",
    "totalSaves = 0\n",
    "for i in range(19,maxModVal):\n",
    "    dirVal = setDir(artistDir, str(i))\n",
    "    files  = findExt(dirVal, ext='.p')\n",
    "\n",
    "    saveIt = 0\n",
    "    nf = len(files)\n",
    "    for j,ifile in enumerate(files):\n",
    "        artistID = getBaseFilename(ifile)\n",
    "        if toget.get(artistID) is not None:\n",
    "            continue\n",
    "            \n",
    "        info     = artistInfo.getData(ifile)\n",
    "\n",
    "        ID       = info.ID.ID\n",
    "            \n",
    "        if artistID != ID:\n",
    "            extras[ifile] = info\n",
    "            continue\n",
    "            \n",
    "        ref = info.url.url\n",
    "            \n",
    "        pages  = info.pages\n",
    "        if pages.redo is True:\n",
    "            toget[artistID] = ref\n",
    "            if len(toget) % 25 == 0:\n",
    "                print(j,'/',nf,'\\t',i,'\\t',len(toget),'\\t',ID,'\\t',ref)\n",
    "                \n",
    "    saveFile(idata=toget, ifile=\"toget3.p\")"
   ]
  },
  {
   "cell_type": "code",
   "execution_count": null,
   "metadata": {},
   "outputs": [],
   "source": [
    "\n",
    "%load_ext autoreload\n",
    "%autoreload\n",
    "\n",
    "from artist import artist\n",
    "from artists import artists\n",
    "\n",
    "from searchUtils import findExt\n",
    "from fileUtils import getBaseFilename\n",
    "artistInfo = artist()\n",
    "\n",
    "redo={}\n",
    "more={}\n",
    "extras={}\n",
    "totalSaves = 0\n",
    "for i in range(1, 8):\n",
    "    dirVal = setDir(artistDir, str(i))\n",
    "    files  = findExt(dirVal, ext='.p')\n",
    "\n",
    "    saveIt = 0\n",
    "    nf = len(files)\n",
    "    for j,ifile in enumerate(files):\n",
    "        artistID = getBaseFilename(ifile)\n",
    "        if redo.get(artistID) is not None:\n",
    "            continue\n",
    "        if more.get(artistID) is not None:\n",
    "            continue\n",
    "            \n",
    "        info     = artistInfo.getData(ifile)\n",
    "\n",
    "        ID       = info.ID.ID\n",
    "            \n",
    "        if artistID != ID:\n",
    "            extras[ifile] = info\n",
    "            continue\n",
    "            \n",
    "        ref    = info.url.url\n",
    "        pages  = info.pages\n",
    "        if pages.redo is True:\n",
    "            redo[artistID] = ref\n",
    "            print(j,'/',nf,'\\t',i,'\\t',len(toget),'\\t',ID,'\\t',ref,'\\t',pages.get())\n",
    "            \n",
    "        if pages.more is True:\n",
    "            more[artistID] = ref\n",
    "            print(j,'/',nf,'\\t',i,'\\t',len(toget),'\\t',ID,'\\t',ref,'\\t',pages.get())\n",
    "\n",
    "                \n",
    "    #saveFile(idata=toget, ifile=\"toget.p\")"
   ]
  },
  {
   "cell_type": "code",
   "execution_count": null,
   "metadata": {},
   "outputs": [],
   "source": []
  },
  {
   "cell_type": "code",
   "execution_count": null,
   "metadata": {},
   "outputs": [],
   "source": [
    "%load_ext autoreload\n",
    "%autoreload\n",
    "\n",
    "from artist import artist\n",
    "from artists import artists\n",
    "\n",
    "for artistID,artistRef in more.items():\n",
    "    ifile = arts.getArtistSavename(artistID)\n",
    "    info  = art.getData(ifile)\n",
    "    pages = info.pages\n",
    "    \n",
    "    npages = pages.pages\n",
    "\n",
    "    print(ifile,'\\t',artistRef,'\\t',pages.get())\n",
    "\n",
    "    for p in range(2, npages+1):\n",
    "        url      = arts.getArtistURL(artistRef, p)\n",
    "        savename = arts.getArtistSavename(artistID, p)\n",
    "        if not isFile(savename):\n",
    "            arts.downloadArtistURL(url=url, savename=savename, force=True, debug=True)"
   ]
  },
  {
   "cell_type": "code",
   "execution_count": null,
   "metadata": {},
   "outputs": [],
   "source": [
    "tmp = {k: redo[k] for k in ['1028302', '1323902', '1411102', '200402', '2159702', '228202']}\n",
    "tmp"
   ]
  },
  {
   "cell_type": "code",
   "execution_count": null,
   "metadata": {},
   "outputs": [],
   "source": [
    "redo = tmp.copy()\n",
    "redo"
   ]
  },
  {
   "cell_type": "code",
   "execution_count": null,
   "metadata": {},
   "outputs": [],
   "source": [
    "redo"
   ]
  },
  {
   "cell_type": "code",
   "execution_count": null,
   "metadata": {},
   "outputs": [],
   "source": []
  },
  {
   "cell_type": "code",
   "execution_count": null,
   "metadata": {},
   "outputs": [],
   "source": [
    "import urllib\n",
    "from urllib.parse import quote\n",
    "from webUtils import getHTML\n",
    "\n",
    "def getHeaders():\n",
    "    user_agent = 'Mozilla/5.0 (Windows; U; Windows NT 5.1; en-US; rv:1.9.0.7) Gecko/2009021910 Firefox/3.0.7'\n",
    "    headers={'User-Agent':user_agent,} \n",
    "    return headers\n",
    "    \n",
    "def searchDiscogs(query, requireUS=False, artist=False, master=False, release=False):\n",
    "\n",
    "    print(\"\\n\\n===================== Searching For \\\"{0}\\\" =====================\".format(query))\n",
    "    baseURL = disc.discogSearchURL\n",
    "\n",
    "    url = urllib.parse.urljoin(baseURL, \"{0}{1}{2}\".format(\"?q=\", quote(query), \"&limit=250\"))\n",
    "    if release:\n",
    "        url = \"{0}&type=release\".format(url)\n",
    "    elif master:\n",
    "        url = \"{0}&type=master\".format(url)\n",
    "    elif artist:\n",
    "        url = \"{0}&type=artist\".format(url)\n",
    "        \n",
    "    if requireUS:\n",
    "        url = \"{0}&country_exact=US\".format(url)\n",
    "    \n",
    "    sleep(1)\n",
    "\n",
    "    print(\"Downloading: {0}\".format(url))\n",
    "\n",
    "    headers = getHeaders()\n",
    "    request=urllib.request.Request(url,None,headers) #The assembled request\n",
    "    response = urllib.request.urlopen(request)\n",
    "    data   = response.read() # The data u need\n",
    "    bsdata = getHTML(data)\n",
    "    return bsdata\n",
    "        "
   ]
  },
  {
   "cell_type": "code",
   "execution_count": null,
   "metadata": {},
   "outputs": [],
   "source": []
  },
  {
   "cell_type": "code",
   "execution_count": null,
   "metadata": {},
   "outputs": [],
   "source": []
  },
  {
   "cell_type": "code",
   "execution_count": null,
   "metadata": {},
   "outputs": [],
   "source": []
  },
  {
   "cell_type": "code",
   "execution_count": null,
   "metadata": {},
   "outputs": [],
   "source": [
    "%load_ext autoreload\n",
    "%autoreload\n",
    "\n",
    "\n",
    "def getRefName(ref):\n",
    "    try:\n",
    "        href   = ref.attrs.get('href')\n",
    "        name   = ref.text.strip()\n",
    "    except:\n",
    "        href   = None\n",
    "        name   = None\n",
    "        \n",
    "    return href,name\n",
    "\n",
    "\n",
    "from artist import artist\n",
    "from artists import artists\n",
    "from album import album\n",
    "from albums import albums\n",
    "albs   = albums(disc)\n",
    "arts   = artists(disc)\n",
    "dutils = discogsUtils()\n",
    "from discogsBase import discogs\n",
    "disc = discogs()\n",
    "bsdata = searchDiscogs(\"Duke Ellington with the Ron Collier Orchestra Collages\", requireUS=True, release=True)\n",
    "\n",
    "h4s = bsdata.findAll(\"h4\")\n",
    "h5s = bsdata.findAll(\"h5\")\n",
    "\n",
    "albumData  = [x for x in h4s if len(x.findAll('a')) > 0]\n",
    "albumData  = [x.findAll('a') for x in albumData if not x.find('a').attrs['href'].startswith(\"/sell/\")]\n",
    "artistData = [x.findAll(\"a\") for x in h5s if len(x.findAll('span')) > 0]\n",
    "downloadData = zip(albumData,artistData)\n",
    "\n",
    "baseURL = disc.discogURL\n",
    "for (albumDatas,artistDatas) in downloadData:\n",
    "    for albumData in albumDatas:\n",
    "        albumRef,albumName = getRefName(albumData)\n",
    "        try:\n",
    "            albumID  = str(int(albumRef.split(\"/\")[-1]))\n",
    "        except:\n",
    "            print(\"Could not get album ID from {0}\".format(albumRef))\n",
    "            albumID  = None\n",
    "        url = urllib.parse.urljoin(baseURL, albumRef)\n",
    "        print(url)\n",
    "        retval = albs.downloadAlbumURL(url=url)\n",
    "\n",
    "\n",
    "        for artistData in artistDatas:\n",
    "            artistRef,artistName = getRefName(artistData)\n",
    "            artistID = dutils.getArtistID(artistRef)\n",
    "            albs.saveDownloadedAlbumURL(albumdata=retval, albumID=albumID, artistID=artistID, debug=True)"
   ]
  },
  {
   "cell_type": "code",
   "execution_count": null,
   "metadata": {},
   "outputs": [],
   "source": [
    "%load_ext autoreload\n",
    "%autoreload\n",
    "\n",
    "from artist import artist\n",
    "from artists import artists\n",
    "from album import album\n",
    "from albums import albums\n",
    "\n",
    "albs = albums(disc)\n",
    "\n",
    "albs.getData(retval)"
   ]
  },
  {
   "cell_type": "code",
   "execution_count": null,
   "metadata": {},
   "outputs": [],
   "source": [
    "from copy import deepcopy\n",
    "ab = deepcopy(retval)"
   ]
  },
  {
   "cell_type": "code",
   "execution_count": null,
   "metadata": {},
   "outputs": [],
   "source": [
    "from ioUtils import getFile\n",
    "from fsUtils import isFile\n",
    "from fsUtils import removeFile\n",
    "from fileUtils import getsize\n",
    "from webUtils import getHTML, isBS4\n",
    "from strUtils import fixName\n",
    "from math import ceil, floor\n",
    "from collections import OrderedDict\n",
    "\n",
    "from discogsBase import discogs\n",
    "from discogsUtils import discogsUtils\n",
    "\n",
    "class albumCodeClass:\n",
    "    def __init__(self, code=None, err=None):\n",
    "        self.code = code\n",
    "        self.err  = err\n",
    "        \n",
    "    def get(self):\n",
    "        return self.__dict__\n",
    "    \n",
    "            \n",
    "class albumURLClass:\n",
    "    def __init__(self, url=None, err=None):\n",
    "        self.url = url\n",
    "        self.err = err\n",
    "        \n",
    "    def get(self):\n",
    "        return self.__dict__\n",
    "        \n",
    "        \n",
    "class albumNameClass:\n",
    "    def __init__(self, name=None, err=None):\n",
    "        self.name = name\n",
    "        self.err  = err\n",
    "        \n",
    "    def get(self):\n",
    "        return self.__dict__\n",
    "    \n",
    "\n",
    "class albumBasicClass:\n",
    "    def __init__(self, artist=None, album=None, err=None):\n",
    "        self.artist  = artist\n",
    "        self.album   = album\n",
    "        self.err     = err\n",
    "        \n",
    "    def get(self):\n",
    "        return self.__dict__\n",
    "\n",
    "    \n",
    "class albumProfileClass:\n",
    "    def __init__(self, label=None, aformat=None, country=None, released=None, genre=None, style=None, err=None):\n",
    "        self.label    = label\n",
    "        self.aformat  = aformat\n",
    "        self.country  = country\n",
    "        self.released = released\n",
    "        self.genre    = genre\n",
    "        self.style    = style\n",
    "        self.err      = err\n",
    "        \n",
    "    def get(self):\n",
    "        return self.__dict__\n",
    "    \n",
    "\n",
    "class albumTrackClass:\n",
    "    def __init__(self):\n",
    "        self.tracks = []\n",
    "        self.err    = None\n",
    "        \n",
    "    def add(self, track):\n",
    "        self.tracks.append(track)\n",
    "        if track.err is not None:\n",
    "            self.err = \"Track {0}\".format(len(self.tracks))\n",
    "        \n",
    "    def get(self):\n",
    "        return self.__dict__\n",
    "    \n",
    "\n",
    "class albumTrackDataClass:\n",
    "    def __init__(self, name=None, length=None, position=None, err=None):\n",
    "        self.name      = length\n",
    "        self.length    = length\n",
    "        self.position  = position\n",
    "        self.err       = err\n",
    "        \n",
    "    def get(self):\n",
    "        return self.__dict__\n",
    "    \n",
    "\n",
    "class albumVersionClass:\n",
    "    def __init__(self, text=None, nums=None, err=None):\n",
    "        self.text = text\n",
    "        self.nums = nums\n",
    "        self.err  = err\n",
    "        \n",
    "    def get(self):\n",
    "        return self.__dict__\n",
    "    \n",
    "\n",
    "class albumCreditClass:\n",
    "    def __init__(self):\n",
    "        self.credit = {}\n",
    "        self.err    = None\n",
    "        \n",
    "    def add(self, role, ref, err=None):\n",
    "        self.credit[role] = ref\n",
    "        if err is not None:\n",
    "            self.err = \"Role: {0}\".format(role)\n",
    "        \n",
    "    def get(self):\n",
    "        return self.__dict__\n",
    "    \n",
    "\n",
    "class albumURLInfo:\n",
    "    def __init__(self, name=None, url=None, ID=None, err=None):\n",
    "        self.name = name\n",
    "        self.url  = url\n",
    "        self.ID   = ID\n",
    "        self.err  = err\n",
    "        \n",
    "    def get(self):\n",
    "        return self.__dict__\n",
    "        \n",
    "        \n",
    "class albumDataClass:\n",
    "    def __init__(self, artist=None, album=None, profile=None, url=None, code=None, tracks=None, versions=None, credits=None, err=None):\n",
    "        self.artist   = artist\n",
    "        self.album    = album\n",
    "        self.profile  = profile\n",
    "        self.url      = url\n",
    "        self.code     = code\n",
    "        self.tracks   = tracks\n",
    "        self.versions = versions\n",
    "        self.credits  = credits\n",
    "        self.err      = err\n",
    "                \n",
    "    def get(self):\n",
    "        return self.__dict__\n",
    "\n",
    "\n",
    "\n",
    "\n",
    "class album(discogs):\n",
    "    def __init__(self):\n",
    "        self.bsdata    = None\n",
    "        self.filename  = None\n",
    "        self.debug     = False\n",
    "        self.dutils    = discogsUtils()\n",
    "\n",
    "    def stripName(self, name):\n",
    "        if name == None:\n",
    "            return None\n",
    "        \n",
    "        if isinstance(name,str):\n",
    "            if len(name) > 2:\n",
    "                if name[:2] == \"\\n \":\n",
    "                    name = name[2:].strip()\n",
    "                if name[-1] == \"\\n\":\n",
    "                    name = name[:-1].strip()\n",
    "        return name\n",
    "\n",
    "        \n",
    "        \n",
    "    def getData(self, inputdata):\n",
    "        bsdata = None\n",
    "        if isinstance(inputdata, bytes):\n",
    "            try:\n",
    "                bsdata = getHTML(str(inputdata))\n",
    "            except:\n",
    "                raise ValueError(\"Not sure about btypes input: {0}\".format(inputdata))\n",
    "        elif isinstance(inputdata, str):\n",
    "            if isFile(inputdata):\n",
    "                try:\n",
    "                    self.filename = inputdata\n",
    "                    bsdata = getHTML(getFile(inputdata))\n",
    "                except:\n",
    "                    try:\n",
    "                        bsdata = getHTML(getFile(inputdata, version=2))\n",
    "                    except:\n",
    "                        raise ValueError(\"Cannot read artist file: {0}\".format(inputdata))\n",
    "                        \n",
    "                if self.filename is not None:\n",
    "                    if getsize(self.filename) < 1000:\n",
    "                        raise ValueError(\"Not a real file: {0}\".format(self.filename))\n",
    "            else:\n",
    "                try:\n",
    "                    bsdata = getHTML(inputdata)\n",
    "                except:\n",
    "                    raise ValueError(\"Not sure about string input: {0}\".format(inputdata))\n",
    "        elif isBS4(inputdata):\n",
    "            bsdata = inputdata\n",
    "        else:\n",
    "            raise ValueError(\"Not sure about input type: {0}\".format(type(inputdata)))\n",
    "\n",
    "        self.bsdata = bsdata\n",
    "        print(self.filename)\n",
    "        \n",
    "        return self.parse()\n",
    "    \n",
    "\n",
    "    def getNamesAndURLs(self, content):\n",
    "        data = []\n",
    "        for ref in content.findAll(\"a\"):\n",
    "            url    = ref.attrs['href']\n",
    "            name   = fixName(ref.text)\n",
    "            try:\n",
    "                ID = self.dutils.getArtistID(url)\n",
    "            except:\n",
    "                ID = None\n",
    "                            \n",
    "            data.append(albumURLInfo(name=name, url=url, ID=ID))\n",
    "        return data\n",
    "\n",
    "\n",
    "    def cleanContent(self, key, content, debug = False):\n",
    "        for i,item in enumerate(content):\n",
    "            name   = self.stripName(item[0])\n",
    "            if debug: \n",
    "                if name != item[0]:\n",
    "                    print(\"\\t\",key,'\\t\\t',item[0],' -> ',name)\n",
    "            url    = item[1]\n",
    "            discID = item[2]\n",
    "            content[i] = [name,url,discID]\n",
    "\n",
    "        return content\n",
    "\n",
    "\n",
    "    def getAlbumBasics(self):\n",
    "        info = {\"Err\": None}\n",
    "\n",
    "        result = self.bsdata.find(\"div\", {\"class\": \"profile\"})\n",
    "        if result:\n",
    "            spans = result.findAll(\"span\")\n",
    "            for span in spans:\n",
    "                attrs = span.attrs\n",
    "                if \"title\" in attrs.keys():\n",
    "                    artist = self.getNamesAndURLs(span)\n",
    "                    if info.get(\"Artist\") == None:\n",
    "                        info[\"Artist\"] = []\n",
    "                    info[\"Artist\"].append(artist)\n",
    "                    if self.debug:\n",
    "                        print(\"Found Artist:\",artist)\n",
    "                else:\n",
    "                    album = fixName(span.text)\n",
    "                    album = album.strip()\n",
    "                    album = album.replace(\"\\n\", \"\")\n",
    "                    info[\"Album\"] = album\n",
    "                    if self.debug:\n",
    "                        print(\"Found Album:\",info[\"Album\"])\n",
    "\n",
    "        if info.get(\"Artist\") == None:\n",
    "            info[\"Err\"] = \"No Artist\"\n",
    "\n",
    "        ## Fix artist list (if needed)\n",
    "        if info.get(\"Artist\") is not None:\n",
    "            artists = []\n",
    "            for artist in info[\"Artist\"]:\n",
    "                if isinstance(artist, list):\n",
    "                    if isinstance(artist[0], list):\n",
    "                        artists.append(artist[0])\n",
    "                    else:\n",
    "                        artists.append(artist)\n",
    "                else:\n",
    "                    artists.append(artist)\n",
    "            info[\"Artist\"] = artists\n",
    "        else:\n",
    "            info[\"Artist\"] = None\n",
    "\n",
    "        \n",
    "        abc = albumBasicClass(artist=info[\"Artist\"], album=info[\"Album\"], err=info[\"Err\"])\n",
    "        return abc\n",
    "\n",
    "\n",
    "    def getAlbumProfile(self):\n",
    "        result = self.bsdata.find(\"div\", {\"class\": \"profile\"})\n",
    "        data   = {\"Err\": None}\n",
    "        if result:\n",
    "            heads = result.findAll(\"div\", {\"class\": \"head\"})\n",
    "            heads = [x.text for x in heads]\n",
    "            heads = [x.replace(\":\",\"\") for x in heads]\n",
    "\n",
    "            content = result.findAll(\"div\", {\"class\": \"content\"})\n",
    "            if len(heads) != len(content):\n",
    "                data[\"Err\"] = \"Mismatch in head/content\"\n",
    "\n",
    "            for i in range(min(len(heads),len(content))):\n",
    "                reftest = content[i].find(\"a\")\n",
    "                if reftest:\n",
    "                    content[i] = self.getNamesAndURLs(content[i])\n",
    "                    if heads[i] == \"Country\" or heads[i] == \"Released\":\n",
    "                        content[i][0].name = self.stripName(content[i][0].name)\n",
    "                else:\n",
    "                    content[i] = artistURLInfo(name=content[i].text.strip())\n",
    "                data[heads[i]] = content[i]\n",
    "\n",
    "            apc = albumProfileClass(label=data.get(\"Label\"), aformat=data.get(\"Format\"),\n",
    "                                    country=data.get(\"Country\"), released=data.get(\"Released\"),\n",
    "                                    genre=data.get(\"Genre\"), style=data.get(\"Style\"),\n",
    "                                    err=data.get(\"Err\"))\n",
    "        else:\n",
    "            apc = albumProfileClass(err=\"No Profile\")                \n",
    "                \n",
    "        return apc\n",
    "\n",
    "\n",
    "\n",
    "    def getAlbumTracks(self):\n",
    "        atc = albumTrackClass()\n",
    "        \n",
    "        result = self.bsdata.find(\"table\", {\"class\": \"playlist\"})\n",
    "        if result is None:\n",
    "            atc.err = \"No Tracks\"\n",
    "        else:\n",
    "            trackLines = result.findAll(\"tr\", {\"class\": \"track\"})\n",
    "            if len(trackLines) == 0:\n",
    "                trackLines = result.findAll(\"tr\", {\"class\": \"tracklist_track\"})\n",
    "                \n",
    "            for tr in trackLines:\n",
    "                # position\n",
    "                attrs = tr.attrs\n",
    "                position = None\n",
    "                name = None\n",
    "                url  = None\n",
    "                duration = None\n",
    "                if attrs:\n",
    "                    position = attrs.get(\"data-track-position\")\n",
    "\n",
    "                # name\n",
    "                td = tr.find(\"td\", {\"class\": \"track\"})\n",
    "                if td:\n",
    "                    span = td.find(\"span\", {\"class\": \"tracklist_track_title\"})\n",
    "                    if span:\n",
    "                        name = fixName(span.text)\n",
    "\n",
    "                    meta = td.find(\"meta\")\n",
    "                    if meta:\n",
    "                        url = meta.attrs.get(\"content\")\n",
    "\n",
    "                # duration\n",
    "                td = tr.find(\"td\", {\"class\": \"tracklist_track_duration\"})\n",
    "                if td:\n",
    "                    span = td.find(\"span\")\n",
    "                    if span:\n",
    "                        duration = span.text\n",
    "\n",
    "                if position is None:\n",
    "                    position = len(tracks)+1\n",
    "                    \n",
    "                if name is None:\n",
    "                    err = \"No Name\"\n",
    "                elif duration is None:\n",
    "                    err = \"No Duration\"\n",
    "                else:\n",
    "                    err = None\n",
    "\n",
    "                track = albumTrackDataClass(name=name, length=duration, position=position, err=err)\n",
    "                atc.add(track)\n",
    "\n",
    "                if self.debug:\n",
    "                    print(position,name,duration)\n",
    "\n",
    "        return atc\n",
    "\n",
    "\n",
    "\n",
    "    def getAlbumURL(self):\n",
    "        url = None\n",
    "        \n",
    "        # 1st Try\n",
    "        result = self.bsdata.find(\"link\", {\"rel\": \"canonical\"})\n",
    "        if result is not None:\n",
    "            url = result.attrs[\"href\"]\n",
    "            url = url.replace(\"https://www.discogs.com\", \"\")        \n",
    "            if self.debug:\n",
    "                print(\"Found URL using rel: canoical -->\",url)\n",
    "\n",
    "        # 2nd Try\n",
    "        if url is None:\n",
    "            result = self.bsdata.find(\"link\", {\"hreflang\": \"en\"})\n",
    "            if result is not None:\n",
    "                url = result.attrs[\"href\"]\n",
    "                url = url.replace(\"https://www.discogs.com\", \"\")\n",
    "                if self.debug:\n",
    "                    print(\"Found URL using hreflang: en -->\",url)\n",
    "\n",
    "        if url is not None:\n",
    "            auc = albumURLClass(url=url)\n",
    "        else:\n",
    "            auc = albumURLClass(err=\"No URL\")            \n",
    "                    \n",
    "        return auc\n",
    "\n",
    "\n",
    "\n",
    "    def getAlbumCode(self, url):\n",
    "        err  = None\n",
    "        code = None\n",
    "        \n",
    "        try:\n",
    "            code = url.split('/')[-1]\n",
    "            code = str(int(code))\n",
    "        except:\n",
    "            err  = \"NaN\"\n",
    "\n",
    "        if code == None:\n",
    "            if url.find(\"Various?anv=\") != -1:\n",
    "                code = -1\n",
    "                err = \"Various\"\n",
    "\n",
    "        acc = albumCodeClass(code=code, err=err)\n",
    "        return acc\n",
    "\n",
    "\n",
    "\n",
    "    def getAlbumVersions(self):\n",
    "        err  = None\n",
    "        text = None\n",
    "        nums = None\n",
    "        h3s  = [x for x in alb.bsdata.findAll(\"h3\") if x.attrs.get('data-for') == \".m_versions\"]\n",
    "        if len(h3s) == 1:\n",
    "            try:\n",
    "                text = removeTag(h3s[0], tag='a').text.strip()\n",
    "            except:\n",
    "                text = None\n",
    "                err  = \"LinkErr\"\n",
    "\n",
    "            if text is not None:\n",
    "                try:\n",
    "                    nums = text[text.find(\"(\")+1:text.find(\")\")].split(\" of \")\n",
    "                except:\n",
    "                    nums = None\n",
    "                    err  = \"NumErr\"\n",
    "\n",
    "                if nums is not None:\n",
    "                    try:\n",
    "                        nums = [int(x) for x in nums]\n",
    "                    except:\n",
    "                        nums = None\n",
    "                        err  = \"NumNotInt\"\n",
    "        else:\n",
    "            err = \"NoVersions\"\n",
    "\n",
    "        avc = albumVersionClass(text=text, nums=nums, err=err)\n",
    "        return avc\n",
    "\n",
    "\n",
    "\n",
    "    def getAlbumCredits(self):\n",
    "        acc = albumCreditClass()\n",
    "        \n",
    "        result = self.bsdata.find(\"div\", {\"class\": \"credits\"})\n",
    "        if result:\n",
    "            for li in result.findAll(\"li\"):\n",
    "                role = li.find(\"span\", {\"class\": \"role\"})\n",
    "                if role:\n",
    "                    role = role.text\n",
    "                href = self.getNamesAndURLs(li)\n",
    "                acc.add(role, href)\n",
    "        else:\n",
    "            acc.err = \"NoCredits\"\n",
    "\n",
    "        return acc\n",
    "\n",
    "\n",
    "\n",
    "    def parse(self, debug = False):\n",
    "        basics = self.getAlbumBasics()\n",
    "        artist = basics.artist\n",
    "        album  = basics.album\n",
    "        \n",
    "        profile     = self.getAlbumProfile()\n",
    "        url         = self.getAlbumURL()\n",
    "        code        = self.getAlbumCode(url.url)\n",
    "        tracks      = self.getAlbumTracks()\n",
    "        versions    = self.getAlbumVersions()\n",
    "        credits     = self.getAlbumCredits()\n",
    "\n",
    "        \n",
    "        err = [basics.err, profile.err, url.err, code.err, tracks.err, versions.err, credits.err]\n",
    "        \n",
    "        adc = albumDataClass(artist=artist, album=album, profile=profile, url=url, code=code, tracks=tracks, versions=versions, credits=credits)\n",
    "        \n",
    "        return adc"
   ]
  },
  {
   "cell_type": "code",
   "execution_count": null,
   "metadata": {},
   "outputs": [],
   "source": [
    "alb = album()\n",
    "ad  = alb.getData('/Volumes/Music/Discog/albums/57/145257/4900039.p')"
   ]
  },
  {
   "cell_type": "code",
   "execution_count": null,
   "metadata": {},
   "outputs": [],
   "source": [
    "ad.artist[1][0].get()"
   ]
  },
  {
   "cell_type": "code",
   "execution_count": null,
   "metadata": {},
   "outputs": [],
   "source": [
    "\n",
    "        for h3 in self.bsdata.findAll(\"h3\"):\n",
    "            attrs = h3.attrs\n",
    "            if attrs.get(\"data-for\"):\n",
    "                if attrs[\"data-for\"] == \".m_versions\":\n",
    "                    for val in h3.strings:\n",
    "                        if val.find(\"Versions\") != -1:\n",
    "                            versions = val.replace(\"Versions\", \"\")\n",
    "                            versions = versions.replace(\"(\", \"\")\n",
    "                            versions = versions.replace(\")\", \"\")\n",
    "                            versions = versions.strip()\n",
    "                            if self.debug:\n",
    "                                print(\"Found versions:\",versions)\n",
    "                            return versions\n",
    "\n",
    "        if self.debug:"
   ]
  },
  {
   "cell_type": "code",
   "execution_count": null,
   "metadata": {},
   "outputs": [],
   "source": [
    "soundtracks = sorted(list(set(tmp[\"Album\"].to_list())))\n",
    "\n",
    "term = \"Walt Disney's \"\n",
    "soundtracks = [x.replace(term, \"\") if x.startswith(term) else x for x in soundtracks]\n",
    "term=\"Music From The Motion Picture Sound Track \"\n",
    "soundtracks = [x.replace(term, \"\") if x.startswith(term) else x for x in soundtracks]\n",
    "term=\"Music From The Motion Picture Soundtrack \"\n",
    "soundtracks = [x.replace(term, \"\") if x.startswith(term) else x for x in soundtracks]\n",
    "term=\"Music From The Original Motion Picture Soundtrack \"\n",
    "soundtracks = [x.replace(term, \"\") if x.startswith(term) else x for x in soundtracks]\n",
    "term=\"Music From The Original Sound Track \"\n",
    "soundtracks = [x.replace(term, \"\") if x.startswith(term) else x for x in soundtracks]\n",
    "term=\"Music From The Soundtrack Of \"\n",
    "soundtracks = [x.replace(term, \"\") if x.startswith(term) else x for x in soundtracks]\n",
    "\n",
    "terms = []\n",
    "terms.append(\" (Original Cast Sound Track)\")\n",
    "terms.append(\" (Original Cast Soundtrack)\")\n",
    "terms.append(\" (Music From The Original Motion Picture Sound Track)\")\n",
    "terms.append(\" (Music From The Soundtrack)\")\n",
    "terms.append(\" (Music from the soundtrack of)\")\n",
    "terms.append(\" (Original Motion Picture Soundtrack)\")\n",
    "terms.append(\" (Original Sound Track Recording)\")\n",
    "terms.append(\" (Original Soundtrack)\")\n",
    "terms.append(\" (Original Sound Track Recording)\")\n",
    "terms.append(\" (The Original Sound Track Recording)\")\n",
    "terms.append(\" (Original Soundtrack)\")\n",
    "terms.append(\" (Original Soundtrack Recording)\")\n",
    "terms.append(\" (Music From The Motion Picture Sound Track)\")\n",
    "terms.append(\" (Music From The Motion Picture Soundtrack)\")\n",
    "terms.append(\":  Music From The Original Motion Picture Soundtrack\")\n",
    "terms.append(\" - Music From The Original Motion Picture Soundtrack\")\n",
    "terms.append(\" (Music From The Motion Picture)\")\n",
    "terms.append(\" (An Original Soundtrack Recording)\")\n",
    "terms.append(\"  (An Original Soundtrack Recording)\")\n",
    "terms.append(\" Original Motion Picture Soundtrack\")\n",
    "\n",
    "terms+=['(Original Television Soundtrack Recording)',\n",
    " '(Motion Picture Soundtrack)',\n",
    " '(The Original Motion Picture Soundtrack)',\n",
    " \"(The Original Motion Picture Soundtrack)\",\n",
    " '(Music From The Original Motion Picture Soundtrack)',\n",
    " '(Original Motion Picture Soundtrack Album)',\n",
    " \"(Music From The Original Motion Picture Soundtrack)\",\n",
    " \"(Original TV Soundtrack)\",\n",
    " \"(From The Motion Picture Soundtrack)\",\n",
    " '(Soundtrack)',\n",
    " '(Limited Event Series Soundtrack)',\n",
    " '(Music From The Original Motion Picture Soundtrack)',\n",
    " '(Music Composed For The Original Motion Picture Soundtrack)',\n",
    " '(Music From The Original Motion Picture Soundtrack)',\n",
    " '(The Original Soundtrack Recording)',\n",
    " '(original Soundtrack From The Movie)',\n",
    " '(The Original Movie Soundtrack)',\n",
    " '(The Original Soundtrack From The Motion Picture)',\n",
    " '(Music From The Original Motion Picture Soundtrack)',\n",
    " '(Music From The Original Soundtrack)',\n",
    " '(From The Original Motion Picture Soundtrack)'\n",
    " ' - Original Soundtrack Recording',\n",
    " ' (An Original Sound Track Recording)',\n",
    " ' - Music from the soundtrack of the Motion Picture',\n",
    " ' Original Soundtrack',\n",
    " ' Original Cast Sound Track Album',\n",
    " ' - Original Cast Sound Track Album',\n",
    " ' (From The Original Sound Track)',\n",
    " ' - Music From The Original Motion Picture Sound Track',\n",
    " ' (The Original Motion Picture Sound Track)',\n",
    " ' - Original Sound Track Recording',\n",
    " ': Original Cast Soundtrack',\n",
    " ':  Original Cast Soundtrack',\n",
    " ' (Original Cast Sound Track Album)']\n",
    "for term in terms:\n",
    "    soundtracks = [x.replace(term, \"\").strip() if x.endswith(term) else x for x in soundtracks]\n",
    "\n",
    "print(len(soundtracks))\n",
    "soundtracks = set(soundtracks)\n",
    "print(len(soundtracks))\n",
    "soundtracks"
   ]
  }
 ],
 "metadata": {
  "kernelspec": {
   "display_name": "Python 3",
   "language": "python",
   "name": "python3"
  },
  "language_info": {
   "codemirror_mode": {
    "name": "ipython",
    "version": 3
   },
   "file_extension": ".py",
   "mimetype": "text/x-python",
   "name": "python",
   "nbconvert_exporter": "python",
   "pygments_lexer": "ipython3",
   "version": "3.7.3"
  }
 },
 "nbformat": 4,
 "nbformat_minor": 2
}
