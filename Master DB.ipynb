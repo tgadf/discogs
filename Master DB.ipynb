{
 "cells": [
  {
   "cell_type": "markdown",
   "metadata": {},
   "source": [
    "# Master Discogs Database"
   ]
  },
  {
   "cell_type": "code",
   "execution_count": 9,
   "metadata": {},
   "outputs": [
    {
     "name": "stdout",
     "output_type": "stream",
     "text": [
      "The autoreload extension is already loaded. To reload it, use:\n",
      "  %reload_ext autoreload\n"
     ]
    },
    {
     "data": {
      "text/html": [
       "<style>.container { width:100% !important; }</style>"
      ],
      "text/plain": [
       "<IPython.core.display.HTML object>"
      ]
     },
     "metadata": {},
     "output_type": "display_data"
    },
    {
     "data": {
      "text/html": [
       "<style>div.output_area{max-height:10000px;overflow:scroll;}</style>"
      ],
      "text/plain": [
       "<IPython.core.display.HTML object>"
      ]
     },
     "metadata": {},
     "output_type": "display_data"
    },
    {
     "name": "stdout",
     "output_type": "stream",
     "text": [
      "Python: 3.7.3 (default, Mar 27 2019, 16:54:48) \n",
      "[Clang 4.0.1 (tags/RELEASE_401/final)]\n",
      "Notebook Last Run Initiated: 2020-04-02 19:29:28.111939\n"
     ]
    }
   ],
   "source": [
    "## Basic stuff\n",
    "%load_ext autoreload\n",
    "%autoreload\n",
    "from IPython.core.display import display, HTML\n",
    "display(HTML(\"<style>.container { width:100% !important; }</style>\"))\n",
    "display(HTML(\"\"\"<style>div.output_area{max-height:10000px;overflow:scroll;}</style>\"\"\"))\n",
    "\n",
    "## Python Version\n",
    "import sys\n",
    "print(\"Python: {0}\".format(sys.version))\n",
    "\n",
    "\n",
    "################################################################################\n",
    "## General Stuff\n",
    "################################################################################\n",
    "from ioUtils import saveJoblib, loadJoblib, saveFile, getFile\n",
    "import urllib\n",
    "from urllib.parse import quote\n",
    "from collections import Counter\n",
    "from artist import artist\n",
    "from searchUtils import findExt, findSubExt, findPatternExt, findNearest\n",
    "from timeUtils import clock, elapsed\n",
    "from fsUtils import moveFile, setFile, setDir, setSubDir, isFile, isDir, mkDir\n",
    "from fileUtils import getFileBasics, getBasename\n",
    "from time import sleep\n",
    "\n",
    "\n",
    "################################################################################\n",
    "## Music Stuff\n",
    "################################################################################\n",
    "\n",
    "### MultiArtist\n",
    "from multiArtist import multiartist\n",
    "\n",
    "### My Music DB\n",
    "from myMusicDBMap import myMusicDBMap\n",
    "\n",
    "### Master DB code\n",
    "from masterdb import discConv, isKnownAlbum, directoryName\n",
    "from masterdb import getSlimArtistDB, getArtistNameToIDMap\n",
    "from masterdb import getMusicData, getRowByIndex\n",
    "\n",
    "### General\n",
    "from discogsBase import discogs\n",
    "\n",
    "### Discogs\n",
    "from artists import artists\n",
    "from artist import artist\n",
    "from discogsUtils import discogsUtils\n",
    "from albums import albums\n",
    "from album import album, albumURLInfo\n",
    "\n",
    "### AllMusic\n",
    "from artistsAM import artistsAM\n",
    "from artistAM import artistAM\n",
    "from discogsUtils import allmusicUtils\n",
    "\n",
    "### MusicBrainz\n",
    "from artistsMB import artistsMB\n",
    "from artistMB import artistMB\n",
    "from discogsUtils import musicbrainzUtils\n",
    "\n",
    "## AceBootlegs\n",
    "from artistAB import artistAB\n",
    "from artistsAB import artistsAB\n",
    "from discogsUtils import acebootlegsUtils\n",
    "\n",
    "## RateYourMusic\n",
    "from artistRM import artistRM\n",
    "from artistsRM import artistsRM\n",
    "from discogsUtils import rateyourmusicUtils\n",
    "\n",
    "## LastFM\n",
    "from artistLM import artistLM\n",
    "from artistsLM import artistsLM\n",
    "from discogsUtils import lastfmUtils\n",
    "\n",
    "## DatPiff\n",
    "from artistDP import artistDP\n",
    "from artistsDP import artistsDP\n",
    "from discogsUtils import datpiffUtils\n",
    "\n",
    "## RockCorner\n",
    "from artistRC import artistRC\n",
    "from artistsRC import artistsRC\n",
    "from discogsUtils import rockcornerUtils\n",
    "\n",
    "\n",
    "import datetime as dt\n",
    "start = dt.datetime.now()\n",
    "print(\"Notebook Last Run Initiated: \"+str(start))"
   ]
  },
  {
   "cell_type": "code",
   "execution_count": 10,
   "metadata": {},
   "outputs": [
    {
     "name": "stdout",
     "output_type": "stream",
     "text": [
      "The autoreload extension is already loaded. To reload it, use:\n",
      "  %reload_ext autoreload\n",
      "Current Time is Thu Apr 02, 2020 19:29:29 for Last Run\n"
     ]
    }
   ],
   "source": [
    "%load_ext autoreload\n",
    "%autoreload\n",
    "\n",
    "discAM   = discogs('allmusic')\n",
    "artsAM   = artistsAM(discAM)\n",
    "dutilsAM = allmusicUtils()\n",
    "\n",
    "discDC   = discogs('discogs')\n",
    "artsDC   = artists(discDC)\n",
    "dutilsDC = discogsUtils()\n",
    "\n",
    "discMB   = discogs('musicbrainz')\n",
    "artsMB   = artistsMB(discMB)\n",
    "dutilsMB = musicbrainzUtils()\n",
    "\n",
    "discAB   = discogs('acebootlegs')\n",
    "artsAB   = artistsAB(discAB)\n",
    "dutilsAB = acebootlegsUtils()\n",
    "\n",
    "discRM   = discogs('rateyourmusic')\n",
    "artsRM   = artistsRM(discRM)\n",
    "dutilsRM = rateyourmusicUtils()\n",
    "\n",
    "discLM   = discogs('lastfm')\n",
    "artsLM   = artistsLM(discLM)\n",
    "dutilsLM = lastfmUtils()\n",
    "\n",
    "discDP   = discogs('datpiff')\n",
    "artsDP   = artistsDP(discDP)\n",
    "dutilsDP = datpiffUtils()\n",
    "\n",
    "discRC   = discogs('rockcorner')\n",
    "artsRC   = artistsRC(discRC)\n",
    "dutilsRC = rockcornerUtils()\n",
    "\n",
    "_, _ = clock(\"Last Run\")"
   ]
  },
  {
   "cell_type": "markdown",
   "metadata": {},
   "source": [
    "# Create Dictionary Lookup Files"
   ]
  },
  {
   "cell_type": "markdown",
   "metadata": {},
   "source": [
    "## Artist ID --> Ref and Name"
   ]
  },
  {
   "cell_type": "markdown",
   "metadata": {},
   "source": [
    "#### AllMusic"
   ]
  },
  {
   "cell_type": "code",
   "execution_count": null,
   "metadata": {},
   "outputs": [],
   "source": [
    "%load_ext autoreload\n",
    "%autoreload\n",
    "\n",
    "####################################################################################################\n",
    "## Create Artist ID Lookup\n",
    "####################################################################################################\n",
    "from lookup import createArtistIDMap\n",
    "createArtistIDMap(discAM)\n",
    "\n",
    "\n",
    "####################################################################################################\n",
    "## Create Artist ID Pandas DataFrame\n",
    "####################################################################################################\n",
    "from masterdb import getSlimArtistDB\n",
    "discSlimArtistAMDB = getSlimArtistDB(discAM, force=True)\n",
    "discSlimArtistAMDB.head()\n",
    "\n",
    "\n",
    "####################################################################################################\n",
    "## Create Artist ID to Album ID Lookup\n",
    "####################################################################################################\n",
    "from lookup import createArtistAlbumIDMap\n",
    "createArtistAlbumIDMap(discAM)\n",
    "\n",
    "\n",
    "####################################################################################################\n",
    "## Create Artist ID Pandas DataFrame\n",
    "####################################################################################################\n",
    "from masterdb import getArtistAlbumsDB\n",
    "discArtistAMAlbumsDB = getArtistAlbumsDB(discAM, force=True)\n",
    "discArtistAMAlbumsDB.head()"
   ]
  },
  {
   "cell_type": "markdown",
   "metadata": {},
   "source": [
    "#### MusicBrainz"
   ]
  },
  {
   "cell_type": "code",
   "execution_count": null,
   "metadata": {},
   "outputs": [],
   "source": [
    "%load_ext autoreload\n",
    "%autoreload\n",
    "\n",
    "####################################################################################################\n",
    "## Create Artist ID Lookup\n",
    "####################################################################################################\n",
    "from lookup import createArtistIDMap\n",
    "createArtistIDMap(discMB)\n",
    "\n",
    "\n",
    "####################################################################################################\n",
    "## Create Artist ID Pandas DataFrame\n",
    "####################################################################################################\n",
    "from masterdb import getSlimArtistDB\n",
    "discSlimArtistMBDB = getSlimArtistDB(discMB, force=True)\n",
    "discSlimArtistMBDB.head()\n",
    "\n",
    "\n",
    "####################################################################################################\n",
    "## Create Artist ID to Album ID Lookup\n",
    "####################################################################################################\n",
    "from lookup import createArtistAlbumIDMap\n",
    "createArtistAlbumIDMap(discMB)\n",
    "\n",
    "\n",
    "####################################################################################################\n",
    "## Create Artist ID Pandas DataFrame\n",
    "####################################################################################################\n",
    "from masterdb import getArtistAlbumsDB\n",
    "discArtistMBAlbumsDB = getArtistAlbumsDB(discMB, force=True)\n",
    "discArtistMBAlbumsDB.head()"
   ]
  },
  {
   "cell_type": "code",
   "execution_count": null,
   "metadata": {},
   "outputs": [],
   "source": [
    "cntr = Counter()\n",
    "for k,v in discArtistMBAlbumsDB[\"Albums\"].to_dict().items():\n",
    "    for k2,v2 in v.items():\n",
    "        cntr[k2] += len(v2)\n",
    "cntr.most_common()"
   ]
  },
  {
   "cell_type": "code",
   "execution_count": null,
   "metadata": {},
   "outputs": [],
   "source": [
    "if False:\n",
    "    import json\n",
    "    keys = [x[0] for x in cntr.most_common()]\n",
    "    keys = [x for x in keys if x not in primary]\n",
    "    keys = [x for x in keys if x not in secondary]\n",
    "    keys = [x for x in keys if x not in tertiary]\n",
    "    keys = [x for x in keys if x not in fourth]\n",
    "    #tertiary = [x for x in keys if x.startswith(\"Single\") or x.startswith(\"EP\")]\n",
    "    #print(json.dumps(fourth))\n",
    "    #json.dumps(tertiary)\n",
    "    #secondary = [x for x in keys if x.find(\"Compilation\") != -1]\n",
    "    #json.dumps(keys)\n",
    "    #keys"
   ]
  },
  {
   "cell_type": "markdown",
   "metadata": {},
   "source": [
    "#### Discogs"
   ]
  },
  {
   "cell_type": "code",
   "execution_count": null,
   "metadata": {},
   "outputs": [],
   "source": [
    "%load_ext autoreload\n",
    "%autoreload\n",
    "\n",
    "####################################################################################################\n",
    "## Create Artist ID Lookup\n",
    "####################################################################################################\n",
    "from lookup import createArtistIDMap\n",
    "createArtistIDMap(discDC)\n",
    "\n",
    "\n",
    "####################################################################################################\n",
    "## Create Artist ID Pandas DataFrame\n",
    "####################################################################################################\n",
    "from masterdb import getSlimArtistDB\n",
    "discSlimArtistDCDB = getSlimArtistDB(discDC, force=True)\n",
    "discSlimArtistDCDB.head()\n",
    "\n",
    "\n",
    "####################################################################################################\n",
    "## Create Artist ID to Album ID Lookup\n",
    "####################################################################################################\n",
    "from lookup import createArtistAlbumIDMap\n",
    "createArtistAlbumIDMap(discDC)\n",
    "\n",
    "\n",
    "####################################################################################################\n",
    "## Create Artist ID Pandas DataFrame\n",
    "####################################################################################################\n",
    "from masterdb import getArtistAlbumsDB\n",
    "discArtistDCAlbumsDB = getArtistAlbumsDB(discDC, force=True)\n",
    "discArtistDCAlbumsDB.head()"
   ]
  },
  {
   "cell_type": "markdown",
   "metadata": {},
   "source": [
    "#### AceBootlegs"
   ]
  },
  {
   "cell_type": "code",
   "execution_count": null,
   "metadata": {},
   "outputs": [],
   "source": [
    "%load_ext autoreload\n",
    "%autoreload\n",
    "\n",
    "####################################################################################################\n",
    "## Create Artist ID Lookup\n",
    "####################################################################################################\n",
    "from lookup import createArtistIDMap\n",
    "createArtistIDMap(discAB)\n",
    "\n",
    "\n",
    "####################################################################################################\n",
    "## Create Artist ID Pandas DataFrame\n",
    "####################################################################################################\n",
    "from masterdb import getSlimArtistDB\n",
    "discSlimArtistABDB = getSlimArtistDB(discAB, force=True)\n",
    "discSlimArtistABDB.head()\n",
    "\n",
    "\n",
    "####################################################################################################\n",
    "## Create Artist ID to Album ID Lookup\n",
    "####################################################################################################\n",
    "from lookup import createArtistAlbumIDMap\n",
    "createArtistAlbumIDMap(discAB)\n",
    "\n",
    "\n",
    "####################################################################################################\n",
    "## Create Artist ID Pandas DataFrame\n",
    "####################################################################################################\n",
    "from masterdb import getArtistAlbumsDB\n",
    "discArtistABAlbumsDB = getArtistAlbumsDB(discAB, force=True)\n",
    "discArtistABAlbumsDB.head()"
   ]
  },
  {
   "cell_type": "markdown",
   "metadata": {},
   "source": [
    "#### RateYourMusic"
   ]
  },
  {
   "cell_type": "code",
   "execution_count": null,
   "metadata": {},
   "outputs": [],
   "source": [
    "%load_ext autoreload\n",
    "%autoreload\n",
    "\n",
    "####################################################################################################\n",
    "## Create Artist ID Lookup\n",
    "####################################################################################################\n",
    "from lookup import createArtistIDMap\n",
    "createArtistIDMap(discRM)\n",
    "\n",
    "\n",
    "####################################################################################################\n",
    "## Create Artist ID Pandas DataFrame\n",
    "####################################################################################################\n",
    "from masterdb import getSlimArtistDB\n",
    "discSlimArtistRMDB = getSlimArtistDB(discRM, force=True)\n",
    "discSlimArtistRMDB.head()\n",
    "\n",
    "\n",
    "####################################################################################################\n",
    "## Create Artist ID to Album ID Lookup\n",
    "####################################################################################################\n",
    "from lookup import createArtistAlbumIDMap\n",
    "createArtistAlbumIDMap(discRM)\n",
    "\n",
    "\n",
    "####################################################################################################\n",
    "## Create Artist ID Pandas DataFrame\n",
    "####################################################################################################\n",
    "from masterdb import getArtistAlbumsDB\n",
    "discArtistRMAlbumsDB = getArtistAlbumsDB(discRM, force=True)\n",
    "discArtistRMAlbumsDB.head()"
   ]
  },
  {
   "cell_type": "markdown",
   "metadata": {},
   "source": [
    "#### LastLM"
   ]
  },
  {
   "cell_type": "code",
   "execution_count": 11,
   "metadata": {},
   "outputs": [
    {
     "name": "stdout",
     "output_type": "stream",
     "text": [
      "The autoreload extension is already loaded. To reload it, use:\n",
      "  %reload_ext autoreload\n",
      "Current Time is Thu Apr 02, 2020 19:29:35 for Creating Artist DBs\n",
      "/Volumes/Biggy/Discog/artists-lastfm-db/metadata/0-Metadata.p  \t0 453\n",
      "/Volumes/Biggy/Discog/artists-lastfm-db/metadata/1-Metadata.p  \t1 917\n",
      "/Volumes/Biggy/Discog/artists-lastfm-db/metadata/10-Metadata.p  \t2 1409\n",
      "/Volumes/Biggy/Discog/artists-lastfm-db/metadata/11-Metadata.p  \t3 1881\n",
      "/Volumes/Biggy/Discog/artists-lastfm-db/metadata/12-Metadata.p  \t4 2373\n",
      "/Volumes/Biggy/Discog/artists-lastfm-db/metadata/13-Metadata.p  \t5 2891\n",
      "/Volumes/Biggy/Discog/artists-lastfm-db/metadata/14-Metadata.p  \t6 3368\n",
      "/Volumes/Biggy/Discog/artists-lastfm-db/metadata/15-Metadata.p  \t7 3848\n",
      "/Volumes/Biggy/Discog/artists-lastfm-db/metadata/16-Metadata.p  \t8 4339\n",
      "/Volumes/Biggy/Discog/artists-lastfm-db/metadata/17-Metadata.p  \t9 4782\n",
      "/Volumes/Biggy/Discog/artists-lastfm-db/metadata/18-Metadata.p  \t10 5244\n",
      "/Volumes/Biggy/Discog/artists-lastfm-db/metadata/19-Metadata.p  \t11 5715\n",
      "/Volumes/Biggy/Discog/artists-lastfm-db/metadata/2-Metadata.p  \t12 6236\n",
      "/Volumes/Biggy/Discog/artists-lastfm-db/metadata/20-Metadata.p  \t13 6735\n",
      "/Volumes/Biggy/Discog/artists-lastfm-db/metadata/21-Metadata.p  \t14 7234\n",
      "/Volumes/Biggy/Discog/artists-lastfm-db/metadata/22-Metadata.p  \t15 7755\n",
      "/Volumes/Biggy/Discog/artists-lastfm-db/metadata/23-Metadata.p  \t16 8238\n",
      "/Volumes/Biggy/Discog/artists-lastfm-db/metadata/24-Metadata.p  \t17 8742\n",
      "/Volumes/Biggy/Discog/artists-lastfm-db/metadata/25-Metadata.p  \t18 9220\n",
      "/Volumes/Biggy/Discog/artists-lastfm-db/metadata/26-Metadata.p  \t19 9732\n",
      "/Volumes/Biggy/Discog/artists-lastfm-db/metadata/27-Metadata.p  \t20 10176\n",
      "/Volumes/Biggy/Discog/artists-lastfm-db/metadata/28-Metadata.p  \t21 10661\n",
      "/Volumes/Biggy/Discog/artists-lastfm-db/metadata/29-Metadata.p  \t22 11116\n",
      "/Volumes/Biggy/Discog/artists-lastfm-db/metadata/3-Metadata.p  \t23 11574\n",
      "/Volumes/Biggy/Discog/artists-lastfm-db/metadata/30-Metadata.p  \t24 12020\n",
      "/Volumes/Biggy/Discog/artists-lastfm-db/metadata/31-Metadata.p  \t25 12490\n",
      "/Volumes/Biggy/Discog/artists-lastfm-db/metadata/32-Metadata.p  \t26 12957\n",
      "/Volumes/Biggy/Discog/artists-lastfm-db/metadata/33-Metadata.p  \t27 13431\n",
      "/Volumes/Biggy/Discog/artists-lastfm-db/metadata/34-Metadata.p  \t28 13917\n",
      "/Volumes/Biggy/Discog/artists-lastfm-db/metadata/35-Metadata.p  \t29 14406\n",
      "/Volumes/Biggy/Discog/artists-lastfm-db/metadata/36-Metadata.p  \t30 14891\n",
      "/Volumes/Biggy/Discog/artists-lastfm-db/metadata/37-Metadata.p  \t31 15425\n",
      "/Volumes/Biggy/Discog/artists-lastfm-db/metadata/38-Metadata.p  \t32 15935\n",
      "/Volumes/Biggy/Discog/artists-lastfm-db/metadata/39-Metadata.p  \t33 16449\n",
      "/Volumes/Biggy/Discog/artists-lastfm-db/metadata/4-Metadata.p  \t34 16915\n",
      "/Volumes/Biggy/Discog/artists-lastfm-db/metadata/40-Metadata.p  \t35 17383\n",
      "/Volumes/Biggy/Discog/artists-lastfm-db/metadata/41-Metadata.p  \t36 17873\n",
      "/Volumes/Biggy/Discog/artists-lastfm-db/metadata/42-Metadata.p  \t37 18362\n",
      "/Volumes/Biggy/Discog/artists-lastfm-db/metadata/43-Metadata.p  \t38 18834\n",
      "/Volumes/Biggy/Discog/artists-lastfm-db/metadata/44-Metadata.p  \t39 19317\n",
      "/Volumes/Biggy/Discog/artists-lastfm-db/metadata/45-Metadata.p  \t40 19801\n",
      "/Volumes/Biggy/Discog/artists-lastfm-db/metadata/46-Metadata.p  \t41 20275\n",
      "/Volumes/Biggy/Discog/artists-lastfm-db/metadata/47-Metadata.p  \t42 20743\n",
      "/Volumes/Biggy/Discog/artists-lastfm-db/metadata/48-Metadata.p  \t43 21229\n",
      "/Volumes/Biggy/Discog/artists-lastfm-db/metadata/49-Metadata.p  \t44 21710\n",
      "/Volumes/Biggy/Discog/artists-lastfm-db/metadata/5-Metadata.p  \t45 22191\n",
      "/Volumes/Biggy/Discog/artists-lastfm-db/metadata/50-Metadata.p  \t46 22679\n",
      "/Volumes/Biggy/Discog/artists-lastfm-db/metadata/51-Metadata.p  \t47 23185\n",
      "/Volumes/Biggy/Discog/artists-lastfm-db/metadata/52-Metadata.p  \t48 23661\n",
      "/Volumes/Biggy/Discog/artists-lastfm-db/metadata/53-Metadata.p  \t49 24115\n",
      "/Volumes/Biggy/Discog/artists-lastfm-db/metadata/54-Metadata.p  \t50 24562\n",
      "/Volumes/Biggy/Discog/artists-lastfm-db/metadata/55-Metadata.p  \t51 25037\n",
      "/Volumes/Biggy/Discog/artists-lastfm-db/metadata/56-Metadata.p  \t52 25550\n",
      "/Volumes/Biggy/Discog/artists-lastfm-db/metadata/57-Metadata.p  \t53 26014\n",
      "/Volumes/Biggy/Discog/artists-lastfm-db/metadata/58-Metadata.p  \t54 26454\n",
      "/Volumes/Biggy/Discog/artists-lastfm-db/metadata/59-Metadata.p  \t55 26974\n",
      "/Volumes/Biggy/Discog/artists-lastfm-db/metadata/6-Metadata.p  \t56 27477\n",
      "/Volumes/Biggy/Discog/artists-lastfm-db/metadata/60-Metadata.p  \t57 27931\n",
      "/Volumes/Biggy/Discog/artists-lastfm-db/metadata/61-Metadata.p  \t58 28417\n",
      "/Volumes/Biggy/Discog/artists-lastfm-db/metadata/62-Metadata.p  \t59 28880\n",
      "/Volumes/Biggy/Discog/artists-lastfm-db/metadata/63-Metadata.p  \t60 29362\n",
      "/Volumes/Biggy/Discog/artists-lastfm-db/metadata/64-Metadata.p  \t61 29838\n",
      "/Volumes/Biggy/Discog/artists-lastfm-db/metadata/65-Metadata.p  \t62 30302\n",
      "/Volumes/Biggy/Discog/artists-lastfm-db/metadata/66-Metadata.p  \t63 30797\n",
      "/Volumes/Biggy/Discog/artists-lastfm-db/metadata/67-Metadata.p  \t64 31272\n",
      "/Volumes/Biggy/Discog/artists-lastfm-db/metadata/68-Metadata.p  \t65 31735\n",
      "/Volumes/Biggy/Discog/artists-lastfm-db/metadata/69-Metadata.p  \t66 32215\n",
      "/Volumes/Biggy/Discog/artists-lastfm-db/metadata/7-Metadata.p  \t67 32682\n",
      "/Volumes/Biggy/Discog/artists-lastfm-db/metadata/70-Metadata.p  \t68 33147\n",
      "/Volumes/Biggy/Discog/artists-lastfm-db/metadata/71-Metadata.p  \t69 33647\n",
      "/Volumes/Biggy/Discog/artists-lastfm-db/metadata/72-Metadata.p  \t70 34124\n",
      "/Volumes/Biggy/Discog/artists-lastfm-db/metadata/73-Metadata.p  \t71 34605\n",
      "/Volumes/Biggy/Discog/artists-lastfm-db/metadata/74-Metadata.p  \t72 35072\n",
      "/Volumes/Biggy/Discog/artists-lastfm-db/metadata/75-Metadata.p  \t73 35589\n",
      "/Volumes/Biggy/Discog/artists-lastfm-db/metadata/76-Metadata.p  \t74 36035\n",
      "/Volumes/Biggy/Discog/artists-lastfm-db/metadata/77-Metadata.p  \t75 36502\n",
      "/Volumes/Biggy/Discog/artists-lastfm-db/metadata/78-Metadata.p  \t76 36982\n",
      "/Volumes/Biggy/Discog/artists-lastfm-db/metadata/79-Metadata.p  \t77 37468\n",
      "/Volumes/Biggy/Discog/artists-lastfm-db/metadata/8-Metadata.p  \t78 37940\n",
      "/Volumes/Biggy/Discog/artists-lastfm-db/metadata/80-Metadata.p  \t79 38434\n",
      "/Volumes/Biggy/Discog/artists-lastfm-db/metadata/81-Metadata.p  \t80 38894\n",
      "/Volumes/Biggy/Discog/artists-lastfm-db/metadata/82-Metadata.p  \t81 39417\n",
      "/Volumes/Biggy/Discog/artists-lastfm-db/metadata/83-Metadata.p  \t82 39879\n",
      "/Volumes/Biggy/Discog/artists-lastfm-db/metadata/84-Metadata.p  \t83 40391\n",
      "/Volumes/Biggy/Discog/artists-lastfm-db/metadata/85-Metadata.p  \t84 40905\n",
      "/Volumes/Biggy/Discog/artists-lastfm-db/metadata/86-Metadata.p  \t85 41413\n",
      "/Volumes/Biggy/Discog/artists-lastfm-db/metadata/87-Metadata.p  \t86 41894\n",
      "/Volumes/Biggy/Discog/artists-lastfm-db/metadata/88-Metadata.p  \t87 42392\n",
      "/Volumes/Biggy/Discog/artists-lastfm-db/metadata/89-Metadata.p  \t88 42884\n",
      "/Volumes/Biggy/Discog/artists-lastfm-db/metadata/9-Metadata.p  \t89 43350\n",
      "/Volumes/Biggy/Discog/artists-lastfm-db/metadata/90-Metadata.p  \t90 43842\n",
      "/Volumes/Biggy/Discog/artists-lastfm-db/metadata/91-Metadata.p  \t91 44265\n",
      "/Volumes/Biggy/Discog/artists-lastfm-db/metadata/92-Metadata.p  \t92 44722\n",
      "/Volumes/Biggy/Discog/artists-lastfm-db/metadata/93-Metadata.p  \t93 45208\n",
      "/Volumes/Biggy/Discog/artists-lastfm-db/metadata/94-Metadata.p  \t94 45687\n",
      "/Volumes/Biggy/Discog/artists-lastfm-db/metadata/95-Metadata.p  \t95 46150\n",
      "/Volumes/Biggy/Discog/artists-lastfm-db/metadata/96-Metadata.p  \t96 46624\n",
      "/Volumes/Biggy/Discog/artists-lastfm-db/metadata/97-Metadata.p  \t97 47071\n",
      "/Volumes/Biggy/Discog/artists-lastfm-db/metadata/98-Metadata.p  \t98 47552\n",
      "/Volumes/Biggy/Discog/artists-lastfm-db/metadata/99-Metadata.p  \t99 48049\n",
      "\n",
      "\n",
      "==============================================\n",
      "\n",
      "Saving 48049 entries to /Volumes/Biggy/Discog/db-lastfm/ArtistIDToRef.p\n",
      "\n",
      "Saving data to /Volumes/Biggy/Discog/db-lastfm/ArtistIDToRef.p\n",
      "  --> This file is 1.8MB.\n",
      "Saved data to /Volumes/Biggy/Discog/db-lastfm/ArtistIDToRef.p\n",
      "  --> This file is 1.8MB.\n",
      "Saving 48049 entries to /Volumes/Biggy/Discog/db-lastfm/ArtistIDToName.p\n",
      "\n",
      "Saving data to /Volumes/Biggy/Discog/db-lastfm/ArtistIDToName.p\n",
      "  --> This file is 1.5MB.\n",
      "Saved data to /Volumes/Biggy/Discog/db-lastfm/ArtistIDToName.p\n",
      "  --> This file is 1.5MB.\n",
      "Saving 48049 entries to /Volumes/Biggy/Discog/db-lastfm/ArtistIDToVariations.p\n",
      "\n",
      "Saving data to /Volumes/Biggy/Discog/db-lastfm/ArtistIDToVariations.p\n"
     ]
    },
    {
     "name": "stdout",
     "output_type": "stream",
     "text": [
      "  --> This file is 1.6MB.\n",
      "Saved data to /Volumes/Biggy/Discog/db-lastfm/ArtistIDToVariations.p\n",
      "  --> This file is 1.6MB.\n",
      "Current Time is Thu Apr 02, 2020 19:29:40 for Done with Creating Artist DBs\n",
      "Process [Done with Creating Artist DBs] took 5 seconds.\n",
      "Current Time is Thu Apr 02, 2020 19:29:40 for \n",
      "=================================== Creating Artist DB ===================================\n",
      "Loading ArtistID Data\n",
      "Creating Pandas DataFrame for 48049 Artists\n",
      "\tShape --> (48049, 1)\n",
      "  Finding Real Artist Name\n",
      "\tShape --> (48049, 3)\n",
      "  Removing None Artist\n",
      "\tShape --> (48049, 3)\n",
      "  Finding Disc Artist Name\n",
      "\tShape --> (48049, 4)\n",
      "DataFrame Shape is (48049, 4)\n",
      "Current Time is Thu Apr 02, 2020 19:29:42 for Done with \n",
      "=================================== Creating Artist DB ===================================\n",
      "Process [Done with \n",
      "=================================== Creating Artist DB ===================================] took 1 seconds.\n",
      "Saving Master Artist DB File\n",
      "  --> This file is 6.2MB.\n",
      "Current Time is Thu Apr 02, 2020 19:29:42 for Creating Artist DBs\n",
      "/Volumes/Biggy/Discog/artists-lastfm-db/metadata/0-MediaMetadata.p \t453       712       712       \n",
      "/Volumes/Biggy/Discog/artists-lastfm-db/metadata/1-MediaMetadata.p \t917       1350      1350      \n",
      "/Volumes/Biggy/Discog/artists-lastfm-db/metadata/10-MediaMetadata.p \t1409      2105      2105      \n",
      "/Volumes/Biggy/Discog/artists-lastfm-db/metadata/11-MediaMetadata.p \t1881      2862      2862      \n",
      "/Volumes/Biggy/Discog/artists-lastfm-db/metadata/12-MediaMetadata.p \t2373      3558      3558      \n",
      "/Volumes/Biggy/Discog/artists-lastfm-db/metadata/13-MediaMetadata.p \t2891      4290      4290      \n",
      "/Volumes/Biggy/Discog/artists-lastfm-db/metadata/14-MediaMetadata.p \t3368      5196      5196      \n",
      "/Volumes/Biggy/Discog/artists-lastfm-db/metadata/15-MediaMetadata.p \t3848      5770      5770      \n",
      "/Volumes/Biggy/Discog/artists-lastfm-db/metadata/16-MediaMetadata.p \t4339      6525      6525      \n",
      "/Volumes/Biggy/Discog/artists-lastfm-db/metadata/17-MediaMetadata.p \t4782      7025      7025      \n",
      "/Volumes/Biggy/Discog/artists-lastfm-db/metadata/18-MediaMetadata.p \t5244      7705      7705      \n",
      "/Volumes/Biggy/Discog/artists-lastfm-db/metadata/19-MediaMetadata.p \t5715      8491      8491      \n",
      "/Volumes/Biggy/Discog/artists-lastfm-db/metadata/2-MediaMetadata.p \t6236      9325      9325      \n",
      "/Volumes/Biggy/Discog/artists-lastfm-db/metadata/20-MediaMetadata.p \t6735      10015     10015     \n",
      "/Volumes/Biggy/Discog/artists-lastfm-db/metadata/21-MediaMetadata.p \t7234      10850     10850     \n",
      "/Volumes/Biggy/Discog/artists-lastfm-db/metadata/22-MediaMetadata.p \t7755      11519     11519     \n",
      "/Volumes/Biggy/Discog/artists-lastfm-db/metadata/23-MediaMetadata.p \t8238      12349     12349     \n",
      "/Volumes/Biggy/Discog/artists-lastfm-db/metadata/24-MediaMetadata.p \t8742      13113     13113     \n",
      "/Volumes/Biggy/Discog/artists-lastfm-db/metadata/25-MediaMetadata.p \t9220      13593     13593     \n",
      "/Volumes/Biggy/Discog/artists-lastfm-db/metadata/26-MediaMetadata.p \t9732      14324     14324     \n",
      "/Volumes/Biggy/Discog/artists-lastfm-db/metadata/27-MediaMetadata.p \t10176     15032     15032     \n",
      "/Volumes/Biggy/Discog/artists-lastfm-db/metadata/28-MediaMetadata.p \t10661     15900     15900     \n",
      "/Volumes/Biggy/Discog/artists-lastfm-db/metadata/29-MediaMetadata.p \t11116     16910     16910     \n",
      "/Volumes/Biggy/Discog/artists-lastfm-db/metadata/3-MediaMetadata.p \t11574     17448     17448     \n",
      "/Volumes/Biggy/Discog/artists-lastfm-db/metadata/30-MediaMetadata.p \t12020     18021     18021     \n",
      "/Volumes/Biggy/Discog/artists-lastfm-db/metadata/31-MediaMetadata.p \t12490     18630     18630     \n",
      "/Volumes/Biggy/Discog/artists-lastfm-db/metadata/32-MediaMetadata.p \t12957     19401     19401     \n",
      "/Volumes/Biggy/Discog/artists-lastfm-db/metadata/33-MediaMetadata.p \t13431     20247     20247     \n",
      "/Volumes/Biggy/Discog/artists-lastfm-db/metadata/34-MediaMetadata.p \t13917     21023     21023     \n",
      "/Volumes/Biggy/Discog/artists-lastfm-db/metadata/35-MediaMetadata.p \t14406     21633     21633     \n",
      "/Volumes/Biggy/Discog/artists-lastfm-db/metadata/36-MediaMetadata.p \t14891     22385     22385     \n",
      "/Volumes/Biggy/Discog/artists-lastfm-db/metadata/37-MediaMetadata.p \t15425     23038     23038     \n",
      "/Volumes/Biggy/Discog/artists-lastfm-db/metadata/38-MediaMetadata.p \t15935     23788     23788     \n",
      "/Volumes/Biggy/Discog/artists-lastfm-db/metadata/39-MediaMetadata.p \t16449     24553     24553     \n",
      "/Volumes/Biggy/Discog/artists-lastfm-db/metadata/4-MediaMetadata.p \t16915     25429     25429     \n",
      "/Volumes/Biggy/Discog/artists-lastfm-db/metadata/40-MediaMetadata.p \t17383     26244     26244     \n",
      "/Volumes/Biggy/Discog/artists-lastfm-db/metadata/41-MediaMetadata.p \t17873     27000     27000     \n",
      "/Volumes/Biggy/Discog/artists-lastfm-db/metadata/42-MediaMetadata.p \t18362     27697     27697     \n",
      "/Volumes/Biggy/Discog/artists-lastfm-db/metadata/43-MediaMetadata.p \t18834     28350     28350     \n",
      "/Volumes/Biggy/Discog/artists-lastfm-db/metadata/44-MediaMetadata.p \t19317     29126     29126     \n",
      "/Volumes/Biggy/Discog/artists-lastfm-db/metadata/45-MediaMetadata.p \t19801     29698     29698     \n",
      "/Volumes/Biggy/Discog/artists-lastfm-db/metadata/46-MediaMetadata.p \t20275     30436     30436     \n",
      "/Volumes/Biggy/Discog/artists-lastfm-db/metadata/47-MediaMetadata.p \t20743     31170     31170     \n",
      "/Volumes/Biggy/Discog/artists-lastfm-db/metadata/48-MediaMetadata.p \t21229     32125     32125     \n",
      "/Volumes/Biggy/Discog/artists-lastfm-db/metadata/49-MediaMetadata.p \t21710     32943     32943     \n",
      "/Volumes/Biggy/Discog/artists-lastfm-db/metadata/5-MediaMetadata.p \t22191     33773     33773     \n",
      "/Volumes/Biggy/Discog/artists-lastfm-db/metadata/50-MediaMetadata.p \t22679     34610     34610     \n",
      "/Volumes/Biggy/Discog/artists-lastfm-db/metadata/51-MediaMetadata.p \t23185     35571     35571     \n",
      "/Volumes/Biggy/Discog/artists-lastfm-db/metadata/52-MediaMetadata.p \t23661     36368     36368     \n",
      "/Volumes/Biggy/Discog/artists-lastfm-db/metadata/53-MediaMetadata.p \t24115     36837     36837     \n",
      "/Volumes/Biggy/Discog/artists-lastfm-db/metadata/54-MediaMetadata.p \t24562     37472     37472     \n",
      "/Volumes/Biggy/Discog/artists-lastfm-db/metadata/55-MediaMetadata.p \t25037     38030     38030     \n",
      "/Volumes/Biggy/Discog/artists-lastfm-db/metadata/56-MediaMetadata.p \t25550     38868     38868     \n",
      "/Volumes/Biggy/Discog/artists-lastfm-db/metadata/57-MediaMetadata.p \t26014     39686     39686     \n",
      "/Volumes/Biggy/Discog/artists-lastfm-db/metadata/58-MediaMetadata.p \t26454     40266     40266     \n",
      "/Volumes/Biggy/Discog/artists-lastfm-db/metadata/59-MediaMetadata.p \t26974     41401     41401     \n",
      "/Volumes/Biggy/Discog/artists-lastfm-db/metadata/6-MediaMetadata.p \t27477     42227     42227     \n",
      "/Volumes/Biggy/Discog/artists-lastfm-db/metadata/60-MediaMetadata.p \t27931     42751     42751     \n",
      "/Volumes/Biggy/Discog/artists-lastfm-db/metadata/61-MediaMetadata.p \t28417     43598     43598     \n",
      "/Volumes/Biggy/Discog/artists-lastfm-db/metadata/62-MediaMetadata.p \t28880     44450     44450     \n",
      "/Volumes/Biggy/Discog/artists-lastfm-db/metadata/63-MediaMetadata.p \t29362     45181     45181     \n",
      "/Volumes/Biggy/Discog/artists-lastfm-db/metadata/64-MediaMetadata.p \t29838     45901     45901     \n",
      "/Volumes/Biggy/Discog/artists-lastfm-db/metadata/65-MediaMetadata.p \t30302     46687     46687     \n",
      "/Volumes/Biggy/Discog/artists-lastfm-db/metadata/66-MediaMetadata.p \t30797     47442     47442     \n",
      "/Volumes/Biggy/Discog/artists-lastfm-db/metadata/67-MediaMetadata.p \t31272     47996     47996     \n",
      "/Volumes/Biggy/Discog/artists-lastfm-db/metadata/68-MediaMetadata.p \t31735     48594     48594     \n",
      "/Volumes/Biggy/Discog/artists-lastfm-db/metadata/69-MediaMetadata.p \t32215     49527     49527     \n",
      "/Volumes/Biggy/Discog/artists-lastfm-db/metadata/7-MediaMetadata.p \t32682     50239     50239     \n",
      "/Volumes/Biggy/Discog/artists-lastfm-db/metadata/70-MediaMetadata.p \t33147     51019     51019     \n",
      "/Volumes/Biggy/Discog/artists-lastfm-db/metadata/71-MediaMetadata.p \t33647     51779     51779     \n",
      "/Volumes/Biggy/Discog/artists-lastfm-db/metadata/72-MediaMetadata.p \t34124     52577     52577     \n",
      "/Volumes/Biggy/Discog/artists-lastfm-db/metadata/73-MediaMetadata.p \t34605     53386     53386     \n",
      "/Volumes/Biggy/Discog/artists-lastfm-db/metadata/74-MediaMetadata.p \t35072     54079     54079     \n",
      "/Volumes/Biggy/Discog/artists-lastfm-db/metadata/75-MediaMetadata.p \t35589     54940     54940     \n",
      "/Volumes/Biggy/Discog/artists-lastfm-db/metadata/76-MediaMetadata.p \t36035     55613     55613     \n",
      "/Volumes/Biggy/Discog/artists-lastfm-db/metadata/77-MediaMetadata.p \t36502     56328     56328     \n",
      "/Volumes/Biggy/Discog/artists-lastfm-db/metadata/78-MediaMetadata.p \t36982     57264     57264     \n"
     ]
    },
    {
     "name": "stdout",
     "output_type": "stream",
     "text": [
      "/Volumes/Biggy/Discog/artists-lastfm-db/metadata/79-MediaMetadata.p \t37468     57942     57942     \n",
      "/Volumes/Biggy/Discog/artists-lastfm-db/metadata/8-MediaMetadata.p \t37940     58748     58748     \n",
      "/Volumes/Biggy/Discog/artists-lastfm-db/metadata/80-MediaMetadata.p \t38434     59596     59596     \n",
      "/Volumes/Biggy/Discog/artists-lastfm-db/metadata/81-MediaMetadata.p \t38894     60035     60035     \n",
      "/Volumes/Biggy/Discog/artists-lastfm-db/metadata/82-MediaMetadata.p \t39417     60615     60615     \n",
      "/Volumes/Biggy/Discog/artists-lastfm-db/metadata/83-MediaMetadata.p \t39879     61233     61233     \n",
      "/Volumes/Biggy/Discog/artists-lastfm-db/metadata/84-MediaMetadata.p \t40391     62048     62048     \n",
      "/Volumes/Biggy/Discog/artists-lastfm-db/metadata/85-MediaMetadata.p \t40905     62637     62637     \n",
      "/Volumes/Biggy/Discog/artists-lastfm-db/metadata/86-MediaMetadata.p \t41413     63433     63433     \n",
      "/Volumes/Biggy/Discog/artists-lastfm-db/metadata/87-MediaMetadata.p \t41894     64248     64248     \n",
      "/Volumes/Biggy/Discog/artists-lastfm-db/metadata/88-MediaMetadata.p \t42392     64982     64982     \n",
      "/Volumes/Biggy/Discog/artists-lastfm-db/metadata/89-MediaMetadata.p \t42884     65655     65655     \n",
      "/Volumes/Biggy/Discog/artists-lastfm-db/metadata/9-MediaMetadata.p \t43350     66251     66251     \n",
      "/Volumes/Biggy/Discog/artists-lastfm-db/metadata/90-MediaMetadata.p \t43842     67175     67175     \n",
      "/Volumes/Biggy/Discog/artists-lastfm-db/metadata/91-MediaMetadata.p \t44265     67836     67836     \n",
      "/Volumes/Biggy/Discog/artists-lastfm-db/metadata/92-MediaMetadata.p \t44722     68589     68589     \n",
      "/Volumes/Biggy/Discog/artists-lastfm-db/metadata/93-MediaMetadata.p \t45208     69261     69261     \n",
      "/Volumes/Biggy/Discog/artists-lastfm-db/metadata/94-MediaMetadata.p \t45687     69957     69957     \n",
      "/Volumes/Biggy/Discog/artists-lastfm-db/metadata/95-MediaMetadata.p \t46150     70451     70451     \n",
      "/Volumes/Biggy/Discog/artists-lastfm-db/metadata/96-MediaMetadata.p \t46624     70962     70962     \n",
      "/Volumes/Biggy/Discog/artists-lastfm-db/metadata/97-MediaMetadata.p \t47071     71558     71558     \n",
      "/Volumes/Biggy/Discog/artists-lastfm-db/metadata/98-MediaMetadata.p \t47552     72277     72277     \n",
      "/Volumes/Biggy/Discog/artists-lastfm-db/metadata/99-MediaMetadata.p \t48049     72952     72952     \n",
      "\n",
      "\n",
      "==============================================\n",
      "\n",
      "Saving 48049 entries to /Volumes/Biggy/Discog/db-lastfm/ArtistIDToAlbumNames.p\n",
      "\n",
      "Saving data to /Volumes/Biggy/Discog/db-lastfm/ArtistIDToAlbumNames.p\n",
      "  --> This file is 2.7MB.\n",
      "Saved data to /Volumes/Biggy/Discog/db-lastfm/ArtistIDToAlbumNames.p\n",
      "  --> This file is 2.7MB.\n",
      "Saving 48049 entries to /Volumes/Biggy/Discog/db-lastfm/ArtistIDToAlbumRefs.p\n",
      "\n",
      "Saving data to /Volumes/Biggy/Discog/db-lastfm/ArtistIDToAlbumRefs.p\n",
      "  --> This file is 2.9MB.\n",
      "Saved data to /Volumes/Biggy/Discog/db-lastfm/ArtistIDToAlbumRefs.p\n",
      "  --> This file is 2.9MB.\n",
      "Saving 48049 entries to /Volumes/Biggy/Discog/db-lastfm/ArtistIDToCoreAlbumNames.p\n",
      "\n",
      "Saving data to /Volumes/Biggy/Discog/db-lastfm/ArtistIDToCoreAlbumNames.p\n",
      "  --> This file is 2.7MB.\n",
      "Saved data to /Volumes/Biggy/Discog/db-lastfm/ArtistIDToCoreAlbumNames.p\n",
      "  --> This file is 2.7MB.\n",
      "Saving 48049 entries to /Volumes/Biggy/Discog/db-lastfm/ArtistIDToCoreAlbumRefs.p\n",
      "\n",
      "Saving data to /Volumes/Biggy/Discog/db-lastfm/ArtistIDToCoreAlbumRefs.p\n",
      "  --> This file is 2.9MB.\n",
      "Saved data to /Volumes/Biggy/Discog/db-lastfm/ArtistIDToCoreAlbumRefs.p\n",
      "  --> This file is 2.9MB.\n",
      "Current Time is Thu Apr 02, 2020 19:29:57 for Done with Creating Artist DBs\n",
      "Process [Done with Creating Artist DBs] took 14 seconds.\n",
      "Current Time is Thu Apr 02, 2020 19:29:57 for \n",
      "=================================== Creating Artist Albums DB ===================================\n",
      "Loading ArtistID Data\n",
      "Creating Pandas DataFrame for 48049 Artists\n",
      "\tShape --> (48049, 1)\n",
      "DataFrame Shape is (48049, 1)\n",
      "Saving Master Artist Albums DB File\n",
      "  --> This file is 4.8MB.\n",
      "Current Time is Thu Apr 02, 2020 19:29:59 for Done with \n",
      "=================================== Creating Artist Albums DB ===================================\n",
      "Process [Done with \n",
      "=================================== Creating Artist Albums DB ===================================] took 2 seconds.\n"
     ]
    },
    {
     "data": {
      "text/html": [
       "<div>\n",
       "<style scoped>\n",
       "    .dataframe tbody tr th:only-of-type {\n",
       "        vertical-align: middle;\n",
       "    }\n",
       "\n",
       "    .dataframe tbody tr th {\n",
       "        vertical-align: top;\n",
       "    }\n",
       "\n",
       "    .dataframe thead th {\n",
       "        text-align: right;\n",
       "    }\n",
       "</style>\n",
       "<table border=\"1\" class=\"dataframe\">\n",
       "  <thead>\n",
       "    <tr style=\"text-align: right;\">\n",
       "      <th></th>\n",
       "      <th>Albums</th>\n",
       "    </tr>\n",
       "  </thead>\n",
       "  <tbody>\n",
       "    <tr>\n",
       "      <th>10074300700</th>\n",
       "      <td>{'Albums': {}}</td>\n",
       "    </tr>\n",
       "    <tr>\n",
       "      <th>10197954100</th>\n",
       "      <td>{'Albums': {}}</td>\n",
       "    </tr>\n",
       "    <tr>\n",
       "      <th>10588500900</th>\n",
       "      <td>{'Albums': {}}</td>\n",
       "    </tr>\n",
       "    <tr>\n",
       "      <th>10998118200</th>\n",
       "      <td>{'Albums': {}}</td>\n",
       "    </tr>\n",
       "    <tr>\n",
       "      <th>11060537400</th>\n",
       "      <td>{'Albums': {}}</td>\n",
       "    </tr>\n",
       "  </tbody>\n",
       "</table>\n",
       "</div>"
      ],
      "text/plain": [
       "                     Albums\n",
       "10074300700  {'Albums': {}}\n",
       "10197954100  {'Albums': {}}\n",
       "10588500900  {'Albums': {}}\n",
       "10998118200  {'Albums': {}}\n",
       "11060537400  {'Albums': {}}"
      ]
     },
     "execution_count": 11,
     "metadata": {},
     "output_type": "execute_result"
    }
   ],
   "source": [
    "%load_ext autoreload\n",
    "%autoreload\n",
    "\n",
    "####################################################################################################\n",
    "## Create Artist ID Lookup\n",
    "####################################################################################################\n",
    "from lookup import createArtistIDMap\n",
    "createArtistIDMap(discLM)\n",
    "\n",
    "\n",
    "####################################################################################################\n",
    "## Create Artist ID Pandas DataFrame\n",
    "####################################################################################################\n",
    "from masterdb import getSlimArtistDB\n",
    "discSlimArtistLMDB = getSlimArtistDB(discLM, force=True)\n",
    "discSlimArtistLMDB.head()\n",
    "\n",
    "\n",
    "####################################################################################################\n",
    "## Create Artist ID to Album ID Lookup\n",
    "####################################################################################################\n",
    "from lookup import createArtistAlbumIDMap\n",
    "createArtistAlbumIDMap(discLM)\n",
    "\n",
    "\n",
    "####################################################################################################\n",
    "## Create Artist ID Pandas DataFrame\n",
    "####################################################################################################\n",
    "from masterdb import getArtistAlbumsDB\n",
    "discArtistLMAlbumsDB = getArtistAlbumsDB(discLM, force=True)\n",
    "discArtistLMAlbumsDB.head()"
   ]
  },
  {
   "cell_type": "markdown",
   "metadata": {},
   "source": [
    "#### DatPiff"
   ]
  },
  {
   "cell_type": "code",
   "execution_count": null,
   "metadata": {},
   "outputs": [],
   "source": [
    "%load_ext autoreload\n",
    "%autoreload\n",
    "\n",
    "####################################################################################################\n",
    "## Create Artist ID Lookup\n",
    "####################################################################################################\n",
    "from lookup import createArtistIDMap\n",
    "createArtistIDMap(discDP)\n",
    "\n",
    "\n",
    "####################################################################################################\n",
    "## Create Artist ID Pandas DataFrame\n",
    "####################################################################################################\n",
    "from masterdb import getSlimArtistDB\n",
    "discSlimArtistDPDB = getSlimArtistDB(discDP, force=True)\n",
    "discSlimArtistDPDB.head()\n",
    "\n",
    "\n",
    "####################################################################################################\n",
    "## Create Artist ID to Album ID Lookup\n",
    "####################################################################################################\n",
    "from lookup import createArtistAlbumIDMap\n",
    "createArtistAlbumIDMap(discDP)\n",
    "\n",
    "\n",
    "####################################################################################################\n",
    "## Create Artist ID Pandas DataFrame\n",
    "####################################################################################################\n",
    "from masterdb import getArtistAlbumsDB\n",
    "discArtistDPAlbumsDB = getArtistAlbumsDB(discDP, force=True)\n",
    "discArtistDPAlbumsDB.head()"
   ]
  },
  {
   "cell_type": "markdown",
   "metadata": {},
   "source": [
    "#### RockCorner"
   ]
  },
  {
   "cell_type": "code",
   "execution_count": 8,
   "metadata": {},
   "outputs": [
    {
     "name": "stdout",
     "output_type": "stream",
     "text": [
      "The autoreload extension is already loaded. To reload it, use:\n",
      "  %reload_ext autoreload\n",
      "Current Time is Thu Apr 02, 2020 12:18:11 for Creating Artist DBs\n",
      "/Volumes/Biggy/Discog/artists-rockcorner-db/metadata/20-Metadata.p  \t0 1\n",
      "/Volumes/Biggy/Discog/artists-rockcorner-db/metadata/45-Metadata.p  \t1 2\n",
      "/Volumes/Biggy/Discog/artists-rockcorner-db/metadata/50-Metadata.p  \t2 3\n",
      "/Volumes/Biggy/Discog/artists-rockcorner-db/metadata/61-Metadata.p  \t3 5\n",
      "/Volumes/Biggy/Discog/artists-rockcorner-db/metadata/96-Metadata.p  \t4 6\n",
      "\n",
      "\n",
      "==============================================\n",
      "\n",
      "Saving 6 entries to /Volumes/Biggy/Discog/db-rockcorner/ArtistIDToRef.p\n",
      "\n",
      "Saving data to /Volumes/Biggy/Discog/db-rockcorner/ArtistIDToRef.p\n",
      "  --> This file is 199B.\n",
      "Saved data to /Volumes/Biggy/Discog/db-rockcorner/ArtistIDToRef.p\n",
      "  --> This file is 199B.\n",
      "Saving 6 entries to /Volumes/Biggy/Discog/db-rockcorner/ArtistIDToName.p\n",
      "\n",
      "Saving data to /Volumes/Biggy/Discog/db-rockcorner/ArtistIDToName.p\n",
      "  --> This file is 168B.\n",
      "Saved data to /Volumes/Biggy/Discog/db-rockcorner/ArtistIDToName.p\n",
      "  --> This file is 168B.\n",
      "Saving 6 entries to /Volumes/Biggy/Discog/db-rockcorner/ArtistIDToVariations.p\n",
      "\n",
      "Saving data to /Volumes/Biggy/Discog/db-rockcorner/ArtistIDToVariations.p\n",
      "  --> This file is 188B.\n",
      "Saved data to /Volumes/Biggy/Discog/db-rockcorner/ArtistIDToVariations.p\n",
      "  --> This file is 188B.\n",
      "Current Time is Thu Apr 02, 2020 12:18:11 for Done with Creating Artist DBs\n",
      "Process [Done with Creating Artist DBs] took 39.0 millseconds.\n",
      "Current Time is Thu Apr 02, 2020 12:18:11 for \n",
      "=================================== Creating Artist DB ===================================\n",
      "Loading ArtistID Data\n",
      "Creating Pandas DataFrame for 6 Artists\n",
      "\tShape --> (6, 1)\n",
      "  Finding Real Artist Name\n",
      "\tShape --> (6, 3)\n",
      "  Removing None Artist\n",
      "\tShape --> (6, 3)\n",
      "  Finding Disc Artist Name\n",
      "\tShape --> (6, 4)\n",
      "DataFrame Shape is (6, 4)\n",
      "Current Time is Thu Apr 02, 2020 12:18:11 for Done with \n",
      "=================================== Creating Artist DB ===================================\n",
      "Process [Done with \n",
      "=================================== Creating Artist DB ===================================] took 21.0 millseconds.\n",
      "Saving Master Artist DB File\n",
      "  --> This file is 1.0kB.\n",
      "Current Time is Thu Apr 02, 2020 12:18:11 for Creating Artist DBs\n",
      "/Volumes/Biggy/Discog/artists-rockcorner-db/metadata/20-MediaMetadata.p \t1         14        84        \n",
      "/Volumes/Biggy/Discog/artists-rockcorner-db/metadata/45-MediaMetadata.p \t2         21        161       \n",
      "/Volumes/Biggy/Discog/artists-rockcorner-db/metadata/50-MediaMetadata.p \t3         36        246       \n",
      "/Volumes/Biggy/Discog/artists-rockcorner-db/metadata/61-MediaMetadata.p \t5         60        410       \n",
      "/Volumes/Biggy/Discog/artists-rockcorner-db/metadata/96-MediaMetadata.p \t6         68        488       \n",
      "\n",
      "\n",
      "==============================================\n",
      "\n",
      "Saving 6 entries to /Volumes/Biggy/Discog/db-rockcorner/ArtistIDToAlbumNames.p\n",
      "\n",
      "Saving data to /Volumes/Biggy/Discog/db-rockcorner/ArtistIDToAlbumNames.p\n",
      "  --> This file is 10.8kB.\n",
      "Saved data to /Volumes/Biggy/Discog/db-rockcorner/ArtistIDToAlbumNames.p\n",
      "  --> This file is 10.8kB.\n",
      "Saving 6 entries to /Volumes/Biggy/Discog/db-rockcorner/ArtistIDToAlbumRefs.p\n",
      "\n",
      "Saving data to /Volumes/Biggy/Discog/db-rockcorner/ArtistIDToAlbumRefs.p\n",
      "  --> This file is 12.5kB.\n",
      "Saved data to /Volumes/Biggy/Discog/db-rockcorner/ArtistIDToAlbumRefs.p\n",
      "  --> This file is 12.5kB.\n",
      "Saving 6 entries to /Volumes/Biggy/Discog/db-rockcorner/ArtistIDToCoreAlbumNames.p\n",
      "\n",
      "Saving data to /Volumes/Biggy/Discog/db-rockcorner/ArtistIDToCoreAlbumNames.p\n",
      "  --> This file is 1.7kB.\n",
      "Saved data to /Volumes/Biggy/Discog/db-rockcorner/ArtistIDToCoreAlbumNames.p\n",
      "  --> This file is 1.7kB.\n",
      "Saving 6 entries to /Volumes/Biggy/Discog/db-rockcorner/ArtistIDToCoreAlbumRefs.p\n",
      "\n",
      "Saving data to /Volumes/Biggy/Discog/db-rockcorner/ArtistIDToCoreAlbumRefs.p\n",
      "  --> This file is 1.9kB.\n",
      "Saved data to /Volumes/Biggy/Discog/db-rockcorner/ArtistIDToCoreAlbumRefs.p\n",
      "  --> This file is 1.9kB.\n",
      "Current Time is Thu Apr 02, 2020 12:18:12 for Done with Creating Artist DBs\n",
      "Process [Done with Creating Artist DBs] took 51.0 millseconds.\n",
      "Current Time is Thu Apr 02, 2020 12:18:12 for \n",
      "=================================== Creating Artist Albums DB ===================================\n",
      "Loading ArtistID Data\n",
      "Creating Pandas DataFrame for 6 Artists\n",
      "\tShape --> (6, 1)\n",
      "DataFrame Shape is (6, 1)\n",
      "Saving Master Artist Albums DB File\n",
      "  --> This file is 11.9kB.\n",
      "Current Time is Thu Apr 02, 2020 12:18:12 for Done with \n",
      "=================================== Creating Artist Albums DB ===================================\n",
      "Process [Done with \n",
      "=================================== Creating Artist Albums DB ===================================] took 18.0 millseconds.\n"
     ]
    },
    {
     "data": {
      "text/html": [
       "<div>\n",
       "<style scoped>\n",
       "    .dataframe tbody tr th:only-of-type {\n",
       "        vertical-align: middle;\n",
       "    }\n",
       "\n",
       "    .dataframe tbody tr th {\n",
       "        vertical-align: top;\n",
       "    }\n",
       "\n",
       "    .dataframe thead th {\n",
       "        text-align: right;\n",
       "    }\n",
       "</style>\n",
       "<table border=\"1\" class=\"dataframe\">\n",
       "  <thead>\n",
       "    <tr style=\"text-align: right;\">\n",
       "      <th></th>\n",
       "      <th>Albums</th>\n",
       "    </tr>\n",
       "  </thead>\n",
       "  <tbody>\n",
       "    <tr>\n",
       "      <th>307006520</th>\n",
       "      <td>{'Albums': {'603142322': 'Kill The Flaw', '936...</td>\n",
       "    </tr>\n",
       "    <tr>\n",
       "      <th>718959345</th>\n",
       "      <td>{'Albums': {'367861402': 'Evolution', '6350779...</td>\n",
       "    </tr>\n",
       "    <tr>\n",
       "      <th>603520950</th>\n",
       "      <td>{'Albums': {'919282371': 'Lift A Sail', '23644...</td>\n",
       "    </tr>\n",
       "    <tr>\n",
       "      <th>341093961</th>\n",
       "      <td>{'Albums': {'738663764': '85 bpm', '682476886'...</td>\n",
       "    </tr>\n",
       "    <tr>\n",
       "      <th>567347661</th>\n",
       "      <td>{'Albums': {'912309575': 'Everyday Life', '111...</td>\n",
       "    </tr>\n",
       "  </tbody>\n",
       "</table>\n",
       "</div>"
      ],
      "text/plain": [
       "                                                      Albums\n",
       "307006520  {'Albums': {'603142322': 'Kill The Flaw', '936...\n",
       "718959345  {'Albums': {'367861402': 'Evolution', '6350779...\n",
       "603520950  {'Albums': {'919282371': 'Lift A Sail', '23644...\n",
       "341093961  {'Albums': {'738663764': '85 bpm', '682476886'...\n",
       "567347661  {'Albums': {'912309575': 'Everyday Life', '111..."
      ]
     },
     "execution_count": 8,
     "metadata": {},
     "output_type": "execute_result"
    }
   ],
   "source": [
    "%load_ext autoreload\n",
    "%autoreload\n",
    "\n",
    "####################################################################################################\n",
    "## Create Artist ID Lookup\n",
    "####################################################################################################\n",
    "from lookup import createArtistIDMap\n",
    "createArtistIDMap(discRC)\n",
    "\n",
    "\n",
    "####################################################################################################\n",
    "## Create Artist ID Pandas DataFrame\n",
    "####################################################################################################\n",
    "from masterdb import getSlimArtistDB\n",
    "discSlimArtistRCDB = getSlimArtistDB(discRC, force=True)\n",
    "discSlimArtistRCDB.head()\n",
    "\n",
    "\n",
    "####################################################################################################\n",
    "## Create Artist ID to Album ID Lookup\n",
    "####################################################################################################\n",
    "from lookup import createArtistAlbumIDMap\n",
    "createArtistAlbumIDMap(discRC)\n",
    "\n",
    "\n",
    "####################################################################################################\n",
    "## Create Artist ID Pandas DataFrame\n",
    "####################################################################################################\n",
    "from masterdb import getArtistAlbumsDB\n",
    "discArtistRCAlbumsDB = getArtistAlbumsDB(discRC, force=True)\n",
    "discArtistRCAlbumsDB.head()"
   ]
  },
  {
   "cell_type": "markdown",
   "metadata": {},
   "source": [
    "***\n",
    "***\n",
    "***"
   ]
  },
  {
   "cell_type": "markdown",
   "metadata": {},
   "source": [
    "## Artist ID --> Genre, Style, Artists Lookup Table"
   ]
  },
  {
   "cell_type": "code",
   "execution_count": null,
   "metadata": {},
   "outputs": [],
   "source": [
    "## Basic stuff\n",
    "%load_ext autoreload\n",
    "%autoreload\n",
    "from lookup import createArtistMetadataMap\n",
    "createArtistMetadataMap(discAM)"
   ]
  },
  {
   "cell_type": "code",
   "execution_count": null,
   "metadata": {},
   "outputs": [],
   "source": [
    "## Basic stuff\n",
    "%load_ext autoreload\n",
    "%autoreload\n",
    "from lookup import createArtistMetadataMap\n",
    "createArtistMetadataMap(discDC)"
   ]
  },
  {
   "cell_type": "markdown",
   "metadata": {},
   "source": [
    "## Album ID --> Name, Ref, Artists Lookup Table"
   ]
  },
  {
   "cell_type": "code",
   "execution_count": null,
   "metadata": {},
   "outputs": [],
   "source": [
    "## Basic stuff\n",
    "%load_ext autoreload\n",
    "%autoreload\n",
    "from lookup import createAlbumIDMap\n",
    "createAlbumIDMap(disc)"
   ]
  },
  {
   "cell_type": "markdown",
   "metadata": {},
   "source": [
    "# Master Lookup Tests"
   ]
  },
  {
   "cell_type": "code",
   "execution_count": null,
   "metadata": {},
   "outputs": [],
   "source": [
    "%load_ext autoreload\n",
    "%autoreload\n",
    "from lookup import testLookupMaps\n",
    "testLookupMaps(disc)"
   ]
  },
  {
   "cell_type": "code",
   "execution_count": null,
   "metadata": {},
   "outputs": [],
   "source": [
    "\n",
    "discArtistLMAlbumsDB = getArtistAlbumsDB(discRM, force=False)"
   ]
  },
  {
   "cell_type": "code",
   "execution_count": null,
   "metadata": {},
   "outputs": [],
   "source": [
    "from collections import Counter\n",
    "cntr = Counter()\n",
    "for artistData in discArtistLMAlbumsDB[\"Albums\"]:\n",
    "    for key in artistData.keys():\n",
    "        cntr[key] += 1\n",
    "cntr"
   ]
  },
  {
   "cell_type": "code",
   "execution_count": null,
   "metadata": {},
   "outputs": [],
   "source": []
  },
  {
   "cell_type": "markdown",
   "metadata": {},
   "source": [
    "# Pandas DB"
   ]
  },
  {
   "cell_type": "markdown",
   "metadata": {},
   "source": [
    "## Slim Artist DB"
   ]
  },
  {
   "cell_type": "code",
   "execution_count": null,
   "metadata": {},
   "outputs": [],
   "source": []
  },
  {
   "cell_type": "code",
   "execution_count": null,
   "metadata": {},
   "outputs": [],
   "source": [
    "from masterdb import getSlimArtistDB\n",
    "discSlimArtistDB = getSlimArtistDB(disc)\n",
    "discSlimArtistDB.head()"
   ]
  },
  {
   "cell_type": "markdown",
   "metadata": {},
   "source": [
    "## Artist DB"
   ]
  },
  {
   "cell_type": "code",
   "execution_count": null,
   "metadata": {},
   "outputs": [],
   "source": [
    "from masterdb import getArtistDB"
   ]
  },
  {
   "cell_type": "code",
   "execution_count": null,
   "metadata": {},
   "outputs": [],
   "source": [
    "discArtistDB = getArtistDB(disc)\n",
    "discArtistDB.head()"
   ]
  },
  {
   "cell_type": "markdown",
   "metadata": {},
   "source": [
    "## Artist Metadata DB"
   ]
  },
  {
   "cell_type": "code",
   "execution_count": null,
   "metadata": {},
   "outputs": [],
   "source": [
    "from masterdb import getArtistMetadataDB"
   ]
  },
  {
   "cell_type": "code",
   "execution_count": null,
   "metadata": {},
   "outputs": [],
   "source": [
    "discArtistMetadataDB = getArtistMetadataDB(disc)\n",
    "discArtistMetadataDB.head()"
   ]
  },
  {
   "cell_type": "markdown",
   "metadata": {},
   "source": [
    "## Artist Albums DB"
   ]
  },
  {
   "cell_type": "code",
   "execution_count": null,
   "metadata": {},
   "outputs": [],
   "source": [
    "from masterdb import getArtistAlbumsDB"
   ]
  },
  {
   "cell_type": "code",
   "execution_count": null,
   "metadata": {},
   "outputs": [],
   "source": [
    "discArtistAlbumsDB = getArtistAlbumsDB(disc, force=False)\n",
    "discArtistAlbumsDB.head()"
   ]
  },
  {
   "cell_type": "code",
   "execution_count": null,
   "metadata": {},
   "outputs": [],
   "source": [
    "discArtistAlbumsDB = getArtistAlbumsDB(disc)\n",
    "discArtistAlbumsDB.head()"
   ]
  },
  {
   "cell_type": "markdown",
   "metadata": {},
   "source": [
    "## Albums DB"
   ]
  },
  {
   "cell_type": "code",
   "execution_count": null,
   "metadata": {},
   "outputs": [],
   "source": [
    "from masterdb import getAlbumDB"
   ]
  },
  {
   "cell_type": "code",
   "execution_count": null,
   "metadata": {},
   "outputs": [],
   "source": [
    "discAlbumDB = getAlbumDB(disc)\n",
    "discAlbumDB.head()"
   ]
  },
  {
   "cell_type": "markdown",
   "metadata": {},
   "source": [
    "## Artist Album ID --> Known Albums"
   ]
  },
  {
   "cell_type": "code",
   "execution_count": null,
   "metadata": {},
   "outputs": [],
   "source": [
    "from masterdb import getArtistAlbumKnownDB"
   ]
  },
  {
   "cell_type": "code",
   "execution_count": null,
   "metadata": {},
   "outputs": [],
   "source": [
    "discArtistAlbumKnownDB = getArtistAlbumKnownDB(discAlbumDB, discArtistAlbumsDB)\n",
    "discArtistAlbumKnownDB.head()"
   ]
  },
  {
   "cell_type": "markdown",
   "metadata": {},
   "source": [
    "# Joining Artist ID DataFrame"
   ]
  },
  {
   "cell_type": "code",
   "execution_count": null,
   "metadata": {},
   "outputs": [],
   "source": [
    "from masterdb import createMasterDB"
   ]
  },
  {
   "cell_type": "code",
   "execution_count": null,
   "metadata": {},
   "outputs": [],
   "source": [
    "createMasterDB(disc, discArtistDB, discArtistMetadataDB, discArtistAlbumKnownDB)"
   ]
  },
  {
   "cell_type": "code",
   "execution_count": null,
   "metadata": {},
   "outputs": [],
   "source": []
  },
  {
   "cell_type": "code",
   "execution_count": null,
   "metadata": {},
   "outputs": [],
   "source": [
    "from random import random"
   ]
  },
  {
   "cell_type": "code",
   "execution_count": null,
   "metadata": {},
   "outputs": [],
   "source": []
  },
  {
   "cell_type": "code",
   "execution_count": null,
   "metadata": {},
   "outputs": [],
   "source": []
  }
 ],
 "metadata": {
  "kernelspec": {
   "display_name": "Python 3",
   "language": "python",
   "name": "python3"
  },
  "language_info": {
   "codemirror_mode": {
    "name": "ipython",
    "version": 3
   },
   "file_extension": ".py",
   "mimetype": "text/x-python",
   "name": "python",
   "nbconvert_exporter": "python",
   "pygments_lexer": "ipython3",
   "version": "3.7.3"
  }
 },
 "nbformat": 4,
 "nbformat_minor": 2
}
