{
 "cells": [
  {
   "cell_type": "markdown",
   "metadata": {},
   "source": [
    "# Master Discogs Database"
   ]
  },
  {
   "cell_type": "code",
   "execution_count": 1,
   "metadata": {},
   "outputs": [
    {
     "data": {
      "text/html": [
       "<style>.container { width:100% !important; }</style>"
      ],
      "text/plain": [
       "<IPython.core.display.HTML object>"
      ]
     },
     "metadata": {},
     "output_type": "display_data"
    },
    {
     "data": {
      "text/html": [
       "<style>div.output_area{max-height:10000px;overflow:scroll;}</style>"
      ],
      "text/plain": [
       "<IPython.core.display.HTML object>"
      ]
     },
     "metadata": {},
     "output_type": "display_data"
    },
    {
     "name": "stdout",
     "output_type": "stream",
     "text": [
      "Python: 3.7.7 (default, Mar 26 2020, 10:32:53) \n",
      "[Clang 4.0.1 (tags/RELEASE_401/final)]\n"
     ]
    },
    {
     "name": "stderr",
     "output_type": "stream",
     "text": [
      "/Users/tgadfort/opt/anaconda3/envs/py37/lib/python3.7/site-packages/sklearn/externals/joblib/__init__.py:15: FutureWarning: sklearn.externals.joblib is deprecated in 0.21 and will be removed in 0.23. Please import this functionality directly from joblib, which can be installed with: pip install joblib. If this warning is raised when loading pickled models, you may need to re-serialize those models with scikit-learn 0.21+.\n",
      "  warnings.warn(msg, category=FutureWarning)\n"
     ]
    },
    {
     "name": "stdout",
     "output_type": "stream",
     "text": [
      "Notebook Last Run Initiated: 2020-11-12 19:05:29.822061\n"
     ]
    }
   ],
   "source": [
    "## Basic stuff\n",
    "%load_ext autoreload\n",
    "%autoreload\n",
    "from IPython.core.display import display, HTML\n",
    "display(HTML(\"<style>.container { width:100% !important; }</style>\"))\n",
    "display(HTML(\"\"\"<style>div.output_area{max-height:10000px;overflow:scroll;}</style>\"\"\"))\n",
    "\n",
    "## Python Version\n",
    "import sys\n",
    "print(\"Python: {0}\".format(sys.version))\n",
    "\n",
    "\n",
    "################################################################################\n",
    "## General Stuff\n",
    "################################################################################\n",
    "from ioUtils import saveJoblib, loadJoblib, saveFile, getFile\n",
    "import urllib\n",
    "from urllib.parse import quote\n",
    "from collections import Counter\n",
    "from searchUtils import findExt, findSubExt, findPatternExt, findNearest\n",
    "from timeUtils import clock, elapsed\n",
    "from fsUtils import moveFile, setFile, setDir, setSubDir, isFile, isDir, mkDir\n",
    "from fileUtils import getFileBasics, getBasename\n",
    "from listUtils import getFlatList\n",
    "from time import sleep\n",
    "\n",
    "\n",
    "################################################################################\n",
    "## Music Stuff\n",
    "################################################################################\n",
    "\n",
    "### MultiArtist\n",
    "from multiArtist import multiartist\n",
    "\n",
    "### My Music DB\n",
    "from myMusicDBMap import myMusicDBMap\n",
    "from musicDBMap import musicDBMap\n",
    "from matchDBArtist import matchDBArtist\n",
    "\n",
    "### Master DB code\n",
    "from masterdb import masterdb\n",
    "from mainDB import mainDB\n",
    "\n",
    "\n",
    "import datetime as dt\n",
    "start = dt.datetime.now()\n",
    "print(\"Notebook Last Run Initiated: \"+str(start))"
   ]
  },
  {
   "cell_type": "code",
   "execution_count": null,
   "metadata": {},
   "outputs": [],
   "source": [
    "mdb = myMusicDBMap(debug=True)"
   ]
  },
  {
   "cell_type": "code",
   "execution_count": null,
   "metadata": {
    "scrolled": true
   },
   "outputs": [],
   "source": [
    "start, cmt = clock(\"Creating DB\")\n",
    "maindb = mainDB(mdb=mdb, create=True, debug=True)\n",
    "print(\"\\n\\n{0}\\n\".format(\"Full DB\"))\n",
    "#maindb.setDBFull(\"AllMusic\")\n",
    "#maindb.setDBFull(\"MusicBrainz\")\n",
    "maindb.setDBFull(\"Discogs\")\n",
    "#maindb.setDBFull(\"LastFM\")\n",
    "#maindb.setDBFull()\n",
    "print(\"\\n\\n{0}\\n\".format(\"Known DB\"))\n",
    "#maindb.setDBKnown() ## Do this to recreate everything\n",
    "#maindb.setDBKnown()\n",
    "#artistDBs = maindb.getKnownArtistDBs()\n",
    "\n",
    "elapsed(start, cmt)"
   ]
  },
  {
   "cell_type": "code",
   "execution_count": null,
   "metadata": {},
   "outputs": [],
   "source": [
    "maindb = mainDB(mdb=mdb, create=False, debug=True)"
   ]
  },
  {
   "cell_type": "code",
   "execution_count": null,
   "metadata": {},
   "outputs": [],
   "source": [
    "maindb.setDBFull()"
   ]
  },
  {
   "cell_type": "markdown",
   "metadata": {},
   "source": [
    "# Metadata"
   ]
  },
  {
   "cell_type": "code",
   "execution_count": null,
   "metadata": {},
   "outputs": [],
   "source": [
    "%load_ext autoreload\n",
    "%autoreload\n",
    "\n",
    "from multiprocessing import Pool\n",
    "from mainDB import mainDB\n",
    "import time\n",
    "mainDB = mainDB()\n",
    "dbdata = mainDB.dbdata\n",
    "\n",
    "def parseArtistsAM(modVal, force=False, doExtra=False):\n",
    "    dbdata[\"AllMusic\"][\"Artists\"].parseArtistModValFiles(modVal, force=force)\n",
    "    #artsAM.parseArtistModValFiles(modVal, force=force)\n",
    "\n",
    "def parseArtistsDC(modVal, force=True, doExtra=False):\n",
    "    dbdata[\"Discogs\"][\"Artists\"].parseArtistModValFiles(modVal, force=force)\n",
    "    #artsDC.parseArtistModValFiles(modVal, force=force)\n",
    "\n",
    "def parseArtistsMB(modVal, force=False, doExtra=False):\n",
    "    dbdata[\"MusicBrainz\"][\"Artists\"].parseArtistModValFiles(modVal, force=force)\n",
    "    #artsMB.parseArtistModValFiles(modVal, force=force)\n",
    "\n",
    "def parseArtistsAB(modVal, force=False, doExtra=False):\n",
    "    artsAB.parseArtistFiles(force=force)\n",
    "    \n",
    "def parseArtistsDP(modVal, force=False, doExtra=False):\n",
    "    dbdata['DatPiff']['Artists'].parseArtistFiles()\n",
    "    #artsDP.parseArtistFiles(force=force)\n",
    "\n",
    "def parseArtistsRM(modVal, force=False, doExtra=False):\n",
    "    dbdata[\"RateYourMusic\"][\"Artists\"].parseArtistModValFiles(modVal, force=force)\n",
    "    #artsRM.parseArtistModValFiles(modVal, force=force)\n",
    "\n",
    "def parseArtistsLM(modVal, force=False, doExtra=False):\n",
    "    dbdata[\"LastFM\"][\"Artists\"].parseArtistModValFiles(modVal, force=force)\n",
    "    #artsLM.parseArtistModValFiles(modVal, force=force)\n",
    "\n",
    "def parseArtistsRC(modVal, force=False, doExtra=False):\n",
    "    dbdata[\"RockCorner\"][\"Artists\"].parseArtistModValFiles(modVal, force=force)\n",
    "    #artsRC.parseArtistModValFiles(modVal, force=force)\n",
    "\n",
    "def parseArtistsCL(modVal, force=False, doExtra=False):\n",
    "    dbdata[\"CDandLP\"][\"Artists\"].parseArtistModValFiles(modVal, force=force)\n",
    "    #artsCL.parseArtistModValFiles(modVal, force=force)\n",
    "\n",
    "def parseArtistsMS(modVal, force=False, doExtra=False):\n",
    "    artsMS.parseArtistFiles(force=force)\n",
    "\n",
    "def parseArtistsMT(modVal, force=False, doExtra=False):\n",
    "    artsMT.parseArtistModValFiles(modVal, force=force)\n",
    "\n",
    "    \n",
    "def parseArtistsParallel(db, nProcs=3, force=False):\n",
    "    pool = Pool(processes=nProcs)\n",
    "    if db == \"Discogs\":\n",
    "        result = pool.map_async(parseArtistsDC, range(100))\n",
    "    elif db == \"AllMusic\":\n",
    "        result = pool.map_async(parseArtistsAM, range(100))\n",
    "    elif db == \"MusicBrainz\":\n",
    "        result = pool.map_async(parseArtistsMB, range(100))\n",
    "    elif db == \"AceBootlegs\":\n",
    "        result = pool.map_async(parseArtistsAB, [None])\n",
    "    elif db == \"DatPiff\":\n",
    "        result = pool.map_async(parseArtistsDP, [None])\n",
    "    elif db == \"RateYourMusic\":\n",
    "        dbdata[\"RateYourMusic\"][\"Artists\"].parseDownloadedFiles()\n",
    "        result = pool.map_async(parseArtistsRM, range(100))\n",
    "    elif db == \"LastFM\":\n",
    "        result = pool.map_async(parseArtistsLM, range(100))\n",
    "    elif db == \"RockCorner\":\n",
    "        result = pool.map_async(parseArtistsRC, range(100))\n",
    "    elif db == \"CDandLP\":\n",
    "        result = pool.map_async(parseArtistsCL, range(100))\n",
    "        #result = pool.map_async(parseArtistsCL, range(56,72))\n",
    "        #result = pool.map_async(parseArtistsCL, [55,25,26])\n",
    "    elif db == \"MusicStack\":\n",
    "        result = pool.map_async(parseArtistsMS, [None])\n",
    "    elif db == \"MetalStorm\":\n",
    "        result = pool.map_async(parseArtistsMT, range(100))\n",
    "    else:\n",
    "        raise ValueError(\"[{0}] is not recognized as a DB\".format(db))\n",
    "\n",
    "    while not result.ready():\n",
    "        if force is True:\n",
    "            time.sleep(10)\n",
    "        else:\n",
    "            time.sleep(1)\n",
    "    print(\"\")\n",
    "    return result.get()"
   ]
  },
  {
   "cell_type": "code",
   "execution_count": null,
   "metadata": {},
   "outputs": [],
   "source": [
    "start,cmt=clock(\"Parsing All Artists\")\n",
    "start2,cmt2=clock(\"Parallel Artist Parsing\")\n",
    "#parseArtistsParallel(db=\"AllMusic\", nProcs=3)\n",
    "#parseArtistsParallel(db=\"MusicBrainz\", nProcs=3)\n",
    "parseArtistsParallel(db=\"Discogs\", nProcs=4)\n",
    "#parseArtistsParallel(db=\"AceBootlegs\", nProcs=1)\n",
    "#parseArtistsParallel(db=\"DatPiff\", nProcs=1)\n",
    "#parseArtistsParallel(db=\"RateYourMusic\", nProcs=3)\n",
    "#parseArtistsParallel(db=\"LastFM\", nProcs=3)\n",
    "#parseArtistsParallel(db=\"RockCorner\", nProcs=3)\n",
    "#parseArtistsParallel(db=\"CDandLP\", nProcs=3)\n",
    "#parseArtistsParallel(db=\"MusicStack\", nProcs=1)\n",
    "elapsed(start2, cmt2)\n",
    "elapsed(start, cmt)"
   ]
  },
  {
   "cell_type": "markdown",
   "metadata": {},
   "source": [
    "# Download Stuff"
   ]
  },
  {
   "cell_type": "code",
   "execution_count": null,
   "metadata": {},
   "outputs": [],
   "source": []
  },
  {
   "cell_type": "code",
   "execution_count": null,
   "metadata": {},
   "outputs": [],
   "source": []
  },
  {
   "cell_type": "code",
   "execution_count": null,
   "metadata": {},
   "outputs": [],
   "source": []
  },
  {
   "cell_type": "code",
   "execution_count": null,
   "metadata": {},
   "outputs": [],
   "source": [
    "## Tests\n",
    "if False:\n",
    "    mdbmap.addArtist(\"Name\")\n",
    "    mdbmap.add(\"Name\", None, \"Discogs\", \"4545468\")\n",
    "    mdbmap.getArtistData(\"Name\").show()"
   ]
  },
  {
   "cell_type": "code",
   "execution_count": null,
   "metadata": {},
   "outputs": [],
   "source": [
    "if False:\n",
    "    mymusic = mdb.get()\n",
    "    for artistName,artistData in mymusic.items():\n",
    "        mdbmap.addArtist(artistName)\n",
    "        for db,dbdata in artistData.items():\n",
    "            mdbmap.add(artistName, None, db, dbdata[\"ID\"])\n",
    "        print(artistName)\n",
    "    mdbmap.save()"
   ]
  },
  {
   "cell_type": "markdown",
   "metadata": {},
   "source": [
    "# Main DB"
   ]
  },
  {
   "cell_type": "code",
   "execution_count": 3,
   "metadata": {},
   "outputs": [
    {
     "name": "stdout",
     "output_type": "stream",
     "text": [
      "The autoreload extension is already loaded. To reload it, use:\n",
      "  %reload_ext autoreload\n"
     ]
    }
   ],
   "source": [
    "### Master DB code\n",
    "%load_ext autoreload\n",
    "%autoreload\n",
    "from masterdb import masterdb\n",
    "from mainDB import mainDB"
   ]
  },
  {
   "cell_type": "code",
   "execution_count": 4,
   "metadata": {},
   "outputs": [
    {
     "name": "stdout",
     "output_type": "stream",
     "text": [
      "=========================   discogs   =========================\n",
      "=========================   allmusic   =========================\n",
      "=========================   musicbrainz   =========================\n",
      "=========================   lastfm   =========================\n",
      "=========================   rockcorner   =========================\n",
      "=========================   acebootlegs   =========================\n",
      "=========================   cdandlp   =========================\n",
      "=========================   rateyourmusic   =========================\n",
      "=========================   musicstack   =========================\n",
      "=========================   discogs   =========================\n",
      "Summary Statistics For DB: Discogs\n",
      "    Using Known Artists: False\n",
      "    Found 753273 ID -> Name entries\n",
      "    Found 687680 Name -> ID entries\n",
      "    Found 0 Albums\n",
      "=========================   allmusic   =========================\n",
      "Summary Statistics For DB: AllMusic\n",
      "    Using Known Artists: False\n",
      "    Found 55277 ID -> Name entries\n",
      "    Found 51322 Name -> ID entries\n",
      "    Found 232502 Albums\n",
      "=========================   musicbrainz   =========================\n",
      "Summary Statistics For DB: MusicBrainz\n",
      "    Using Known Artists: False\n",
      "    Found 133914 ID -> Name entries\n",
      "    Found 112971 Name -> ID entries\n",
      "    Found 0 Albums\n",
      "=========================   lastfm   =========================\n",
      "Summary Statistics For DB: LastFM\n",
      "    Using Known Artists: False\n",
      "    Found 115953 ID -> Name entries\n",
      "    Found 115789 Name -> ID entries\n",
      "    Found 992668 Albums\n",
      "=========================   rockcorner   =========================\n",
      "Summary Statistics For DB: RockCorner\n",
      "    Using Known Artists: False\n",
      "    Found 1262 ID -> Name entries\n",
      "    Found 1262 Name -> ID entries\n",
      "    Found 14481 Albums\n",
      "=========================   acebootlegs   =========================\n",
      "Summary Statistics For DB: AceBootlegs\n",
      "    Using Known Artists: False\n",
      "    Found 341 ID -> Name entries\n",
      "    Found 341 Name -> ID entries\n",
      "    Found 2838 Albums\n",
      "=========================   cdandlp   =========================\n",
      "Summary Statistics For DB: CDandLP\n",
      "    Using Known Artists: False\n",
      "    Found 4977 ID -> Name entries\n",
      "    Found 4936 Name -> ID entries\n",
      "    Found 39600 Albums\n",
      "=========================   rateyourmusic   =========================\n",
      "Summary Statistics For DB: RateYourMusic\n",
      "    Using Known Artists: False\n",
      "    Found 77 ID -> Name entries\n",
      "    Found 76 Name -> ID entries\n",
      "    Found 0 Albums\n",
      "=========================   musicstack   =========================\n",
      "Summary Statistics For DB: MusicStack\n",
      "    Using Known Artists: False\n",
      "    Found 187 ID -> Name entries\n",
      "    Found 186 Name -> ID entries\n",
      "    Found 579 Albums\n"
     ]
    }
   ],
   "source": [
    "maindb = mainDB(mdb=None, create=False, debug=False)\n",
    "maindb.loadDBDataMap()"
   ]
  },
  {
   "cell_type": "code",
   "execution_count": null,
   "metadata": {},
   "outputs": [],
   "source": [
    "artistNames = mdbmap.getArtists()\n",
    "artistNames[249]  # ('Bastille', 'b31cc180eb21f511abd6f2295cb99a27')\n",
    "artistName = 'Bastille'\n",
    "artistID   = 'b31cc180eb21f511abd6f2295cb99a27'"
   ]
  },
  {
   "cell_type": "code",
   "execution_count": null,
   "metadata": {},
   "outputs": [],
   "source": [
    "\n",
    "\n",
    "mdbMatcher = matchDBArtist(maindb)\n",
    "mdbMatcher.setArtistInfo(artistName, artistID, [\"Bad Blood\"])\n",
    "#mdbMatcher.findPotentialArtistNameMatches()\n",
    "mc = mdbMatcher.findPotentialArtistAlbumMatchesByDB('Discogs')\n",
    "mcs = mdbMatcher.findPotentialArtistAlbumMatches()"
   ]
  },
  {
   "cell_type": "markdown",
   "metadata": {},
   "source": [
    "****"
   ]
  },
  {
   "cell_type": "markdown",
   "metadata": {},
   "source": [
    "# Primary DB Matching"
   ]
  },
  {
   "cell_type": "code",
   "execution_count": null,
   "metadata": {},
   "outputs": [],
   "source": [
    "dbName = \"AllMusic\""
   ]
  },
  {
   "cell_type": "code",
   "execution_count": 5,
   "metadata": {},
   "outputs": [
    {
     "name": "stdout",
     "output_type": "stream",
     "text": [
      "  Loaded 44120 previously matched entries\n",
      "  Loaded 41006 previously matched entries\n",
      "  Loaded 39630 previously matched entries\n",
      "  Loaded 32618 previously matched entries\n",
      "  Loaded 1262 previously matched entries\n",
      "  Loaded 178 previously matched entries\n",
      "  Loaded 4977 previously matched entries\n",
      "  Loaded 77 previously matched entries\n",
      "  Loaded 187 previously matched entries\n"
     ]
    }
   ],
   "source": [
    "mdbmaps = {db: musicDBMap(db, init=False) for db in maindb.getDBs()}\n",
    "if False:\n",
    "    mdbmaps[\"AllMusic\"] = musicDBMap(\"AllMusic\", init=False)\n",
    "    mdbmaps[\"MusicBrainz\"] = musicDBMap(\"MusicBrainz\", init=False)\n",
    "    mdbmaps[\"Discogs\"] = musicDBMap(\"Discogs\", init=False)\n",
    "    mdbmaps[\"LastFM\"] = musicDBMap(\"LastFM\", init=False)\n",
    "    mdbmaps[\"RockCorner\"] = musicDBMap(\"RockCorner\", init=False)\n",
    "    mdbmaps[\"AceBootlegs\"] = musicDBMap(\"AceBootlegs\", init=False)\n",
    "    mdbmaps[\"MusicStack\"] = musicDBMap(\"MusicStack\", init=False)\n",
    "    mdbmaps[\"CDandLP\"] = musicDBMap(\"CDandLP\", init=False)"
   ]
  },
  {
   "cell_type": "code",
   "execution_count": 6,
   "metadata": {},
   "outputs": [],
   "source": [
    "from pandas import Series\n",
    "\n",
    "class masterDBMatchClass:\n",
    "    def __init__(self, maindb, mdbmaps):\n",
    "        self.maindb  = maindb\n",
    "        self.mdbmaps = mdbmaps\n",
    "\n",
    "        print(\"Loading Artist Names\")\n",
    "        self.artistData  = {db: self.getArtistNameDB(db) for db in maindb.dbdata.keys()}        \n",
    "        #self.matchData   = {db: self.getDBMatchData(db) for db in maindb.dbdata.keys()}\n",
    "\n",
    "    def getArtistNameDB(self, db):\n",
    "        return self.maindb.dbdata[db][\"Disc\"].getMasterSlimArtistDiscogsDB()\n",
    "        \n",
    "    def getArtistAlbumsDB(self, db):\n",
    "        return self.maindb.dbdata[db][\"Disc\"].getMasterSlimArtistAlbumsDiscogsDB()\n",
    "        \n",
    "        \n",
    "        \n",
    "    def getDBMatchData(self, dbName):\n",
    "        print(\"Loading Artist Albums\")\n",
    "        artistsDF = self.artistData[dbName]\n",
    "        albumsDF  = self.getArtistAlbumsDB(dbName)\n",
    "        \n",
    "        dbArtistAlbums = artistsDF[[\"DiscArtist\"]].join(albumsDF)\n",
    "        dbArtistAlbums[\"Albums\"] = dbArtistAlbums[\"Albums\"].apply(lambda x: getFlatList([albums.values() for media,albums in x.items()]))\n",
    "        matchData = {(dbArtistData[\"DiscArtist\"], dbArtistID): dbArtistData[\"Albums\"] for dbArtistID,dbArtistData in dbArtistAlbums.T.to_dict().items()}\n",
    "        return matchData\n",
    "        \n",
    "        \n",
    "    def getArtistNameFromID(self, db, dbID):\n",
    "        df  = self.artistData[db]\n",
    "        adf = df[df.index == dbID]\n",
    "        if adf.shape[0] == 1:\n",
    "            retval = list(adf[\"DiscArtist\"])[0]\n",
    "            return retval\n",
    "        else:\n",
    "            return None\n",
    "        \n",
    "    \n",
    "    def getDataToMatch(self, db, maxValues=100, maxAlbums=100, sort=True):\n",
    "        matchData  = self.getDBMatchData(db)\n",
    "        nAlbums    = Series({primaryKey: len(albums) for primaryKey,albums in matchData.items()}).sort_values(ascending=False).to_dict()\n",
    "        if sort is True:\n",
    "            sortedKeys = nAlbums.keys()\n",
    "        else:\n",
    "            sortedKeys = matchData.keys()\n",
    "        \n",
    "        toMatch = []\n",
    "        known   = 0\n",
    "        for primaryKey in sortedKeys:\n",
    "            albums = matchData[primaryKey]\n",
    "            if nAlbums[primaryKey] >= maxAlbums:\n",
    "                continue\n",
    "            if not self.mdbmaps[db].isKnownKey(primaryKey):\n",
    "                if maxValues is not None:\n",
    "                    if len(toMatch) >= maxValues:\n",
    "                        continue\n",
    "                toMatch.append([primaryKey[0],primaryKey[1],albums])\n",
    "            else:\n",
    "                known += 1\n",
    "        print(len(toMatch),known,len(matchData))\n",
    "        return {db: toMatch}\n",
    "    \n",
    "    \n",
    "    def getMutualEntries(self):        \n",
    "        dbOrder = list(self.mdbmaps.keys())\n",
    "        entryMap = {db: {db2: None for db2 in dbOrder} for db in dbOrder}\n",
    "        \n",
    "        for db1 in dbOrder:\n",
    "            db1df = self.mdbmaps[db1].getDF().T\n",
    "            for j,db2 in enumerate(dbOrder):\n",
    "                db2MatchesFromdb1 = db1df[[db1,db2]]\n",
    "                num = db2MatchesFromdb1[~db2MatchesFromdb1[db2].isna()].shape[0]\n",
    "                entryMap[db1][db2] = num\n",
    "            \n",
    "        print(\"{0: <25}\".format(\"\"), end=\"\")\n",
    "        for db in entryMap.keys():\n",
    "            print(\"{0: <15}\".format(db), end=\"\")\n",
    "        print(\"\")\n",
    "        for db1,dbEntries in entryMap.items():\n",
    "            print(\"{0: <25}\".format(db1), end=\"\")\n",
    "            for db2,db2Entry in dbEntries.items():                \n",
    "                print(\"{0: <15}\".format(db2Entry), end=\"\")\n",
    "            print(\"\")\n",
    "        print(\"\")\n",
    "    \n",
    "    \n",
    "    def matchMutualMaps(self):\n",
    "        start,cmt = clock(\"Mutual mapping it\")\n",
    "        dbOrder = list(self.mdbmaps.keys())\n",
    "        for i,db1 in enumerate(dbOrder):\n",
    "            print(i,'\\t',db1)\n",
    "            db1df = self.mdbmaps[db1].getDF().T\n",
    "            for j,db2 in enumerate(dbOrder):\n",
    "                if i == j:\n",
    "                    continue\n",
    "                if not db2 in db1df.columns: \n",
    "                    continue\n",
    "                db2MatchesFromdb1 = db1df[[db1,db2]]\n",
    "                db2MatchesFromdb1 = db2MatchesFromdb1[~db2MatchesFromdb1[db2].isna()]\n",
    "                for key,row in db2MatchesFromdb1.iterrows():\n",
    "                    db1MatchID   = row[db1]\n",
    "                    db2MatchID   = row[db2]\n",
    "                    db2MatchName = self.getArtistNameFromID(db2,db2MatchID)\n",
    "                    #print('\\t{0: <30}{1: <20}{2: <20}{3}'.format(key[0],db1MatchID,db2MatchID,db2MatchName))\n",
    "                    mdbmaps[db2].addArtist(db2MatchName,db2MatchID)\n",
    "                    mdbmaps[db2].addArtistData(db2MatchName,db2MatchID,db1,db1MatchID)\n",
    "\n",
    "        for i,db in enumerate(dbOrder):\n",
    "            self.mdbmaps[db].save()\n",
    "            \n",
    "        elapsed(start, cmt)"
   ]
  },
  {
   "cell_type": "code",
   "execution_count": 7,
   "metadata": {},
   "outputs": [
    {
     "name": "stdout",
     "output_type": "stream",
     "text": [
      "Loading Artist Names\n"
     ]
    }
   ],
   "source": [
    "mdbmc = masterDBMatchClass(maindb, mdbmaps)"
   ]
  },
  {
   "cell_type": "code",
   "execution_count": null,
   "metadata": {},
   "outputs": [],
   "source": [
    "toMatch   = mdbmc.getDataToMatch(\"AllMusic\", maxValues=5000, maxAlbums=100)"
   ]
  },
  {
   "cell_type": "code",
   "execution_count": null,
   "metadata": {},
   "outputs": [],
   "source": [
    "toMatch"
   ]
  },
  {
   "cell_type": "markdown",
   "metadata": {},
   "source": [
    "# Matching Code"
   ]
  },
  {
   "cell_type": "code",
   "execution_count": 13,
   "metadata": {},
   "outputs": [],
   "source": [
    "from tqdm import tqdm\n",
    "from multiprocessing import Pool\n",
    "from functools import partial\n",
    "import time\n",
    "\n",
    "def matchDBArtistWithAlbums(item, *args, **kwargs):    \n",
    "    #time.sleep(0.0025)\n",
    "\n",
    "    artistName   = item[0]\n",
    "    artistID     = item[1]\n",
    "    artistAlbums = item[2]\n",
    "    \n",
    "    mdbMatcher = matchDBArtist(maindb)\n",
    "    mdbMatcher.setArtistInfo(artistName, artistID, artistAlbums)\n",
    "    mcs    = mdbMatcher.findPotentialArtistAlbumMatches()\n",
    "    retval = [artistName,artistID,mcs]\n",
    "    return retval\n",
    "    #result = findNearest(name, artists, 1, kwargs['cutoff'])\n",
    "\n",
    "\n",
    "def multiProc(func, argument_list, num_processes):\n",
    "    pool = Pool(processes=num_processes)\n",
    "    result_list_tqdm = []\n",
    "    for result in tqdm(pool.imap(func=func, iterable=argument_list), total=len(argument_list)):\n",
    "        result_list_tqdm.append(result)\n",
    "    return result_list_tqdm\n",
    "\n",
    "\n",
    "\n",
    "def saveMapData(mdbmap, result_list):\n",
    "    for item in result_list:\n",
    "        artistName = item[0]\n",
    "        artistID   = item[1]\n",
    "        mcs        = item[2]\n",
    "        mdbmap.addArtist(artistName, artistID)\n",
    "        for db,mc in mcs.items():\n",
    "            matchID    = mc.matchID\n",
    "            matchScore = mc.matchScore\n",
    "            if matchID is not None:\n",
    "                mdbmap.addArtistData(artistName, artistID, db, matchID)\n",
    "\n",
    "    mdbmap.save()"
   ]
  },
  {
   "cell_type": "code",
   "execution_count": 9,
   "metadata": {},
   "outputs": [],
   "source": [
    "df = mdbmaps['AllMusic'].getDF()"
   ]
  },
  {
   "cell_type": "code",
   "execution_count": 12,
   "metadata": {},
   "outputs": [
    {
     "data": {
      "text/html": [
       "<div>\n",
       "<style scoped>\n",
       "    .dataframe tbody tr th:only-of-type {\n",
       "        vertical-align: middle;\n",
       "    }\n",
       "\n",
       "    .dataframe tbody tr th {\n",
       "        vertical-align: top;\n",
       "    }\n",
       "\n",
       "    .dataframe thead th {\n",
       "        text-align: right;\n",
       "    }\n",
       "</style>\n",
       "<table border=\"1\" class=\"dataframe\">\n",
       "  <thead>\n",
       "    <tr style=\"text-align: right;\">\n",
       "      <th></th>\n",
       "      <th></th>\n",
       "      <th>Discogs</th>\n",
       "      <th>AllMusic</th>\n",
       "      <th>MusicBrainz</th>\n",
       "      <th>AceBootlegs</th>\n",
       "      <th>RateYourMusic</th>\n",
       "      <th>LastFM</th>\n",
       "      <th>DatPiff</th>\n",
       "      <th>RockCorner</th>\n",
       "      <th>CDandLP</th>\n",
       "      <th>MusicStack</th>\n",
       "      <th>MetalStorm</th>\n",
       "    </tr>\n",
       "  </thead>\n",
       "  <tbody>\n",
       "    <tr>\n",
       "      <th>Dog Faced Hermans</th>\n",
       "      <th>0000794391</th>\n",
       "      <td>None</td>\n",
       "      <td>None</td>\n",
       "      <td>100203949104445552254798470887574779706</td>\n",
       "      <td>None</td>\n",
       "      <td>None</td>\n",
       "      <td>22338467735</td>\n",
       "      <td>None</td>\n",
       "      <td>None</td>\n",
       "      <td>None</td>\n",
       "      <td>None</td>\n",
       "      <td>None</td>\n",
       "    </tr>\n",
       "    <tr>\n",
       "      <th>Barry Adamson</th>\n",
       "      <th>0000786245</th>\n",
       "      <td>None</td>\n",
       "      <td>None</td>\n",
       "      <td>108585600191802208411428998011777911706</td>\n",
       "      <td>None</td>\n",
       "      <td>None</td>\n",
       "      <td>None</td>\n",
       "      <td>None</td>\n",
       "      <td>None</td>\n",
       "      <td>None</td>\n",
       "      <td>None</td>\n",
       "      <td>None</td>\n",
       "    </tr>\n",
       "    <tr>\n",
       "      <th>Paul Wall</th>\n",
       "      <th>0000036641</th>\n",
       "      <td>None</td>\n",
       "      <td>None</td>\n",
       "      <td>109649788685445033720271999922869803506</td>\n",
       "      <td>None</td>\n",
       "      <td>None</td>\n",
       "      <td>None</td>\n",
       "      <td>None</td>\n",
       "      <td>None</td>\n",
       "      <td>None</td>\n",
       "      <td>None</td>\n",
       "      <td>None</td>\n",
       "    </tr>\n",
       "    <tr>\n",
       "      <th>Dave Hillyard &amp; the Rocksteady 7</th>\n",
       "      <th>0000960029</th>\n",
       "      <td>None</td>\n",
       "      <td>None</td>\n",
       "      <td>110195896558717384948577420887356762106</td>\n",
       "      <td>None</td>\n",
       "      <td>None</td>\n",
       "      <td>None</td>\n",
       "      <td>None</td>\n",
       "      <td>None</td>\n",
       "      <td>None</td>\n",
       "      <td>None</td>\n",
       "      <td>None</td>\n",
       "    </tr>\n",
       "    <tr>\n",
       "      <th>The Holy Modal Rounders</th>\n",
       "      <th>0000062273</th>\n",
       "      <td>None</td>\n",
       "      <td>None</td>\n",
       "      <td>110550128985270066259962109652052434206</td>\n",
       "      <td>None</td>\n",
       "      <td>None</td>\n",
       "      <td>29953164381</td>\n",
       "      <td>None</td>\n",
       "      <td>None</td>\n",
       "      <td>None</td>\n",
       "      <td>None</td>\n",
       "      <td>None</td>\n",
       "    </tr>\n",
       "    <tr>\n",
       "      <th>...</th>\n",
       "      <th>...</th>\n",
       "      <td>...</td>\n",
       "      <td>...</td>\n",
       "      <td>...</td>\n",
       "      <td>...</td>\n",
       "      <td>...</td>\n",
       "      <td>...</td>\n",
       "      <td>...</td>\n",
       "      <td>...</td>\n",
       "      <td>...</td>\n",
       "      <td>...</td>\n",
       "      <td>...</td>\n",
       "    </tr>\n",
       "    <tr>\n",
       "      <th>Breach the Silence</th>\n",
       "      <th>0003294757</th>\n",
       "      <td>None</td>\n",
       "      <td>None</td>\n",
       "      <td>None</td>\n",
       "      <td>None</td>\n",
       "      <td>None</td>\n",
       "      <td>88519190616</td>\n",
       "      <td>None</td>\n",
       "      <td>None</td>\n",
       "      <td>None</td>\n",
       "      <td>None</td>\n",
       "      <td>None</td>\n",
       "    </tr>\n",
       "    <tr>\n",
       "      <th>Ronnie &amp; the Pomona Casuals</th>\n",
       "      <th>0000291585</th>\n",
       "      <td>None</td>\n",
       "      <td>None</td>\n",
       "      <td>None</td>\n",
       "      <td>None</td>\n",
       "      <td>None</td>\n",
       "      <td>72815791892</td>\n",
       "      <td>None</td>\n",
       "      <td>None</td>\n",
       "      <td>None</td>\n",
       "      <td>None</td>\n",
       "      <td>None</td>\n",
       "    </tr>\n",
       "    <tr>\n",
       "      <th>Brothers Grim &amp; the Blue Murders</th>\n",
       "      <th>0002766572</th>\n",
       "      <td>None</td>\n",
       "      <td>None</td>\n",
       "      <td>None</td>\n",
       "      <td>None</td>\n",
       "      <td>None</td>\n",
       "      <td>68000096197</td>\n",
       "      <td>None</td>\n",
       "      <td>None</td>\n",
       "      <td>None</td>\n",
       "      <td>None</td>\n",
       "      <td>None</td>\n",
       "    </tr>\n",
       "    <tr>\n",
       "      <th>Barbwire Tourniquet</th>\n",
       "      <th>0003088357</th>\n",
       "      <td>None</td>\n",
       "      <td>None</td>\n",
       "      <td>None</td>\n",
       "      <td>None</td>\n",
       "      <td>None</td>\n",
       "      <td>40108723592</td>\n",
       "      <td>None</td>\n",
       "      <td>None</td>\n",
       "      <td>None</td>\n",
       "      <td>None</td>\n",
       "      <td>None</td>\n",
       "    </tr>\n",
       "    <tr>\n",
       "      <th>The Widow's Bane</th>\n",
       "      <th>0001508312</th>\n",
       "      <td>None</td>\n",
       "      <td>None</td>\n",
       "      <td>None</td>\n",
       "      <td>None</td>\n",
       "      <td>None</td>\n",
       "      <td>35345510784</td>\n",
       "      <td>None</td>\n",
       "      <td>None</td>\n",
       "      <td>None</td>\n",
       "      <td>None</td>\n",
       "      <td>None</td>\n",
       "    </tr>\n",
       "  </tbody>\n",
       "</table>\n",
       "<p>6996 rows × 11 columns</p>\n",
       "</div>"
      ],
      "text/plain": [
       "                                            Discogs AllMusic  \\\n",
       "Dog Faced Hermans                0000794391    None     None   \n",
       "Barry Adamson                    0000786245    None     None   \n",
       "Paul Wall                        0000036641    None     None   \n",
       "Dave Hillyard & the Rocksteady 7 0000960029    None     None   \n",
       "The Holy Modal Rounders          0000062273    None     None   \n",
       "...                                             ...      ...   \n",
       "Breach the Silence               0003294757    None     None   \n",
       "Ronnie & the Pomona Casuals      0000291585    None     None   \n",
       "Brothers Grim & the Blue Murders 0002766572    None     None   \n",
       "Barbwire Tourniquet              0003088357    None     None   \n",
       "The Widow's Bane                 0001508312    None     None   \n",
       "\n",
       "                                                                         MusicBrainz  \\\n",
       "Dog Faced Hermans                0000794391  100203949104445552254798470887574779706   \n",
       "Barry Adamson                    0000786245  108585600191802208411428998011777911706   \n",
       "Paul Wall                        0000036641  109649788685445033720271999922869803506   \n",
       "Dave Hillyard & the Rocksteady 7 0000960029  110195896558717384948577420887356762106   \n",
       "The Holy Modal Rounders          0000062273  110550128985270066259962109652052434206   \n",
       "...                                                                              ...   \n",
       "Breach the Silence               0003294757                                     None   \n",
       "Ronnie & the Pomona Casuals      0000291585                                     None   \n",
       "Brothers Grim & the Blue Murders 0002766572                                     None   \n",
       "Barbwire Tourniquet              0003088357                                     None   \n",
       "The Widow's Bane                 0001508312                                     None   \n",
       "\n",
       "                                            AceBootlegs RateYourMusic  \\\n",
       "Dog Faced Hermans                0000794391        None          None   \n",
       "Barry Adamson                    0000786245        None          None   \n",
       "Paul Wall                        0000036641        None          None   \n",
       "Dave Hillyard & the Rocksteady 7 0000960029        None          None   \n",
       "The Holy Modal Rounders          0000062273        None          None   \n",
       "...                                                 ...           ...   \n",
       "Breach the Silence               0003294757        None          None   \n",
       "Ronnie & the Pomona Casuals      0000291585        None          None   \n",
       "Brothers Grim & the Blue Murders 0002766572        None          None   \n",
       "Barbwire Tourniquet              0003088357        None          None   \n",
       "The Widow's Bane                 0001508312        None          None   \n",
       "\n",
       "                                                  LastFM DatPiff RockCorner  \\\n",
       "Dog Faced Hermans                0000794391  22338467735    None       None   \n",
       "Barry Adamson                    0000786245         None    None       None   \n",
       "Paul Wall                        0000036641         None    None       None   \n",
       "Dave Hillyard & the Rocksteady 7 0000960029         None    None       None   \n",
       "The Holy Modal Rounders          0000062273  29953164381    None       None   \n",
       "...                                                  ...     ...        ...   \n",
       "Breach the Silence               0003294757  88519190616    None       None   \n",
       "Ronnie & the Pomona Casuals      0000291585  72815791892    None       None   \n",
       "Brothers Grim & the Blue Murders 0002766572  68000096197    None       None   \n",
       "Barbwire Tourniquet              0003088357  40108723592    None       None   \n",
       "The Widow's Bane                 0001508312  35345510784    None       None   \n",
       "\n",
       "                                            CDandLP MusicStack MetalStorm  \n",
       "Dog Faced Hermans                0000794391    None       None       None  \n",
       "Barry Adamson                    0000786245    None       None       None  \n",
       "Paul Wall                        0000036641    None       None       None  \n",
       "Dave Hillyard & the Rocksteady 7 0000960029    None       None       None  \n",
       "The Holy Modal Rounders          0000062273    None       None       None  \n",
       "...                                             ...        ...        ...  \n",
       "Breach the Silence               0003294757    None       None       None  \n",
       "Ronnie & the Pomona Casuals      0000291585    None       None       None  \n",
       "Brothers Grim & the Blue Murders 0002766572    None       None       None  \n",
       "Barbwire Tourniquet              0003088357    None       None       None  \n",
       "The Widow's Bane                 0001508312    None       None       None  \n",
       "\n",
       "[6996 rows x 11 columns]"
      ]
     },
     "execution_count": 12,
     "metadata": {},
     "output_type": "execute_result"
    }
   ],
   "source": [
    "df.T[df.T[\"AllMusic\"].isna()]"
   ]
  },
  {
   "cell_type": "code",
   "execution_count": null,
   "metadata": {},
   "outputs": [
    {
     "name": "stdout",
     "output_type": "stream",
     "text": [
      "Loading Artist Albums\n",
      "500 40376 55277\n",
      "Running imap multiprocessing for 500 artists ...\n"
     ]
    },
    {
     "name": "stderr",
     "output_type": "stream",
     "text": [
      "100%|██████████| 500/500 [06:13<00:00,  1.34it/s]\n"
     ]
    },
    {
     "name": "stdout",
     "output_type": "stream",
     "text": [
      "Saving data to /Users/tgadfort/opt/anaconda3/envs/py37/musicdb/dbAllMusicMap.p\n",
      "  --> This file is 4.8MB.\n",
      "Saved data to /Users/tgadfort/opt/anaconda3/envs/py37/musicdb/dbAllMusicMap.p\n",
      "  --> This file is 4.8MB.\n",
      "Loading Artist Albums\n",
      "500 40876 55277\n",
      "Running imap multiprocessing for 500 artists ...\n"
     ]
    },
    {
     "name": "stderr",
     "output_type": "stream",
     "text": [
      "100%|██████████| 500/500 [06:26<00:00,  1.29it/s]\n"
     ]
    },
    {
     "name": "stdout",
     "output_type": "stream",
     "text": [
      "Saving data to /Users/tgadfort/opt/anaconda3/envs/py37/musicdb/dbAllMusicMap.p\n",
      "  --> This file is 4.8MB.\n",
      "Saved data to /Users/tgadfort/opt/anaconda3/envs/py37/musicdb/dbAllMusicMap.p\n",
      "  --> This file is 4.8MB.\n",
      "Loading Artist Albums\n",
      "500 41376 55277\n",
      "Running imap multiprocessing for 500 artists ...\n"
     ]
    },
    {
     "name": "stderr",
     "output_type": "stream",
     "text": [
      "100%|██████████| 500/500 [06:13<00:00,  1.34it/s]\n"
     ]
    },
    {
     "name": "stdout",
     "output_type": "stream",
     "text": [
      "Saving data to /Users/tgadfort/opt/anaconda3/envs/py37/musicdb/dbAllMusicMap.p\n",
      "  --> This file is 4.9MB.\n",
      "Saved data to /Users/tgadfort/opt/anaconda3/envs/py37/musicdb/dbAllMusicMap.p\n",
      "  --> This file is 4.9MB.\n",
      "Loading Artist Albums\n",
      "500 41876 55277\n",
      "Running imap multiprocessing for 500 artists ...\n"
     ]
    },
    {
     "name": "stderr",
     "output_type": "stream",
     "text": [
      "100%|██████████| 500/500 [06:13<00:00,  1.34it/s]\n"
     ]
    },
    {
     "name": "stdout",
     "output_type": "stream",
     "text": [
      "Saving data to /Users/tgadfort/opt/anaconda3/envs/py37/musicdb/dbAllMusicMap.p\n",
      "  --> This file is 5.0MB.\n",
      "Saved data to /Users/tgadfort/opt/anaconda3/envs/py37/musicdb/dbAllMusicMap.p\n",
      "  --> This file is 5.0MB.\n",
      "Loading Artist Albums\n",
      "500 42376 55277\n",
      "Running imap multiprocessing for 500 artists ...\n"
     ]
    },
    {
     "name": "stderr",
     "output_type": "stream",
     "text": [
      "100%|██████████| 500/500 [06:20<00:00,  1.31it/s]\n"
     ]
    },
    {
     "name": "stdout",
     "output_type": "stream",
     "text": [
      "Saving data to /Users/tgadfort/opt/anaconda3/envs/py37/musicdb/dbAllMusicMap.p\n",
      "  --> This file is 5.0MB.\n",
      "Saved data to /Users/tgadfort/opt/anaconda3/envs/py37/musicdb/dbAllMusicMap.p\n",
      "  --> This file is 5.0MB.\n",
      "Loading Artist Albums\n",
      "500 42876 55277\n",
      "Running imap multiprocessing for 500 artists ...\n"
     ]
    },
    {
     "name": "stderr",
     "output_type": "stream",
     "text": [
      "100%|██████████| 500/500 [06:13<00:00,  1.34it/s]\n"
     ]
    },
    {
     "name": "stdout",
     "output_type": "stream",
     "text": [
      "Saving data to /Users/tgadfort/opt/anaconda3/envs/py37/musicdb/dbAllMusicMap.p\n",
      "  --> This file is 5.1MB.\n",
      "Saved data to /Users/tgadfort/opt/anaconda3/envs/py37/musicdb/dbAllMusicMap.p\n",
      "  --> This file is 5.1MB.\n",
      "Loading Artist Albums\n",
      "500 43376 55277\n",
      "Running imap multiprocessing for 500 artists ...\n"
     ]
    },
    {
     "name": "stderr",
     "output_type": "stream",
     "text": [
      "100%|██████████| 500/500 [06:29<00:00,  1.28it/s]\n"
     ]
    },
    {
     "name": "stdout",
     "output_type": "stream",
     "text": [
      "Saving data to /Users/tgadfort/opt/anaconda3/envs/py37/musicdb/dbAllMusicMap.p\n",
      "  --> This file is 5.1MB.\n",
      "Saved data to /Users/tgadfort/opt/anaconda3/envs/py37/musicdb/dbAllMusicMap.p\n",
      "  --> This file is 5.1MB.\n",
      "Loading Artist Albums\n",
      "500 43876 55277\n",
      "Running imap multiprocessing for 500 artists ...\n"
     ]
    },
    {
     "name": "stderr",
     "output_type": "stream",
     "text": [
      "100%|██████████| 500/500 [06:25<00:00,  1.30it/s]\n"
     ]
    },
    {
     "name": "stdout",
     "output_type": "stream",
     "text": [
      "Saving data to /Users/tgadfort/opt/anaconda3/envs/py37/musicdb/dbAllMusicMap.p\n",
      "  --> This file is 5.2MB.\n",
      "Saved data to /Users/tgadfort/opt/anaconda3/envs/py37/musicdb/dbAllMusicMap.p\n",
      "  --> This file is 5.2MB.\n",
      "Loading Artist Albums\n",
      "500 44376 55277\n",
      "Running imap multiprocessing for 500 artists ...\n"
     ]
    },
    {
     "name": "stderr",
     "output_type": "stream",
     "text": [
      "100%|██████████| 500/500 [06:06<00:00,  1.36it/s]\n"
     ]
    },
    {
     "name": "stdout",
     "output_type": "stream",
     "text": [
      "Saving data to /Users/tgadfort/opt/anaconda3/envs/py37/musicdb/dbAllMusicMap.p\n",
      "  --> This file is 5.2MB.\n",
      "Saved data to /Users/tgadfort/opt/anaconda3/envs/py37/musicdb/dbAllMusicMap.p\n",
      "  --> This file is 5.2MB.\n",
      "Loading Artist Albums\n",
      "500 44876 55277\n",
      "Running imap multiprocessing for 500 artists ...\n"
     ]
    },
    {
     "name": "stderr",
     "output_type": "stream",
     "text": [
      "100%|██████████| 500/500 [06:05<00:00,  1.37it/s]\n"
     ]
    },
    {
     "name": "stdout",
     "output_type": "stream",
     "text": [
      "Saving data to /Users/tgadfort/opt/anaconda3/envs/py37/musicdb/dbAllMusicMap.p\n",
      "  --> This file is 5.3MB.\n",
      "Saved data to /Users/tgadfort/opt/anaconda3/envs/py37/musicdb/dbAllMusicMap.p\n",
      "  --> This file is 5.3MB.\n",
      "Loading Artist Albums\n",
      "500 45376 55277\n",
      "Running imap multiprocessing for 500 artists ...\n"
     ]
    },
    {
     "name": "stderr",
     "output_type": "stream",
     "text": [
      "100%|██████████| 500/500 [06:40<00:00,  1.25it/s]\n"
     ]
    },
    {
     "name": "stdout",
     "output_type": "stream",
     "text": [
      "Saving data to /Users/tgadfort/opt/anaconda3/envs/py37/musicdb/dbAllMusicMap.p\n",
      "  --> This file is 5.4MB.\n",
      "Saved data to /Users/tgadfort/opt/anaconda3/envs/py37/musicdb/dbAllMusicMap.p\n",
      "  --> This file is 5.4MB.\n",
      "Loading Artist Albums\n",
      "500 45876 55277\n",
      "Running imap multiprocessing for 500 artists ...\n"
     ]
    },
    {
     "name": "stderr",
     "output_type": "stream",
     "text": [
      "100%|██████████| 500/500 [06:21<00:00,  1.31it/s]\n"
     ]
    },
    {
     "name": "stdout",
     "output_type": "stream",
     "text": [
      "Saving data to /Users/tgadfort/opt/anaconda3/envs/py37/musicdb/dbAllMusicMap.p\n",
      "  --> This file is 5.4MB.\n",
      "Saved data to /Users/tgadfort/opt/anaconda3/envs/py37/musicdb/dbAllMusicMap.p\n",
      "  --> This file is 5.4MB.\n",
      "Loading Artist Albums\n",
      "500 46376 55277\n",
      "Running imap multiprocessing for 500 artists ...\n"
     ]
    },
    {
     "name": "stderr",
     "output_type": "stream",
     "text": [
      "100%|██████████| 500/500 [06:26<00:00,  1.29it/s]\n"
     ]
    },
    {
     "name": "stdout",
     "output_type": "stream",
     "text": [
      "Saving data to /Users/tgadfort/opt/anaconda3/envs/py37/musicdb/dbAllMusicMap.p\n",
      "  --> This file is 5.5MB.\n",
      "Saved data to /Users/tgadfort/opt/anaconda3/envs/py37/musicdb/dbAllMusicMap.p\n",
      "  --> This file is 5.5MB.\n",
      "Loading Artist Albums\n",
      "500 46876 55277\n",
      "Running imap multiprocessing for 500 artists ...\n"
     ]
    },
    {
     "name": "stderr",
     "output_type": "stream",
     "text": [
      "100%|██████████| 500/500 [06:11<00:00,  1.35it/s]\n"
     ]
    },
    {
     "name": "stdout",
     "output_type": "stream",
     "text": [
      "Saving data to /Users/tgadfort/opt/anaconda3/envs/py37/musicdb/dbAllMusicMap.p\n",
      "  --> This file is 5.5MB.\n",
      "Saved data to /Users/tgadfort/opt/anaconda3/envs/py37/musicdb/dbAllMusicMap.p\n",
      "  --> This file is 5.5MB.\n",
      "Loading Artist Albums\n",
      "500 47376 55277\n",
      "Running imap multiprocessing for 500 artists ...\n"
     ]
    },
    {
     "name": "stderr",
     "output_type": "stream",
     "text": [
      "100%|██████████| 500/500 [06:14<00:00,  1.34it/s]\n"
     ]
    },
    {
     "name": "stdout",
     "output_type": "stream",
     "text": [
      "Saving data to /Users/tgadfort/opt/anaconda3/envs/py37/musicdb/dbAllMusicMap.p\n",
      "  --> This file is 5.6MB.\n",
      "Saved data to /Users/tgadfort/opt/anaconda3/envs/py37/musicdb/dbAllMusicMap.p\n",
      "  --> This file is 5.6MB.\n",
      "Loading Artist Albums\n",
      "500 47876 55277\n",
      "Running imap multiprocessing for 500 artists ...\n"
     ]
    },
    {
     "name": "stderr",
     "output_type": "stream",
     "text": [
      "100%|██████████| 500/500 [06:32<00:00,  1.27it/s]\n"
     ]
    },
    {
     "name": "stdout",
     "output_type": "stream",
     "text": [
      "Saving data to /Users/tgadfort/opt/anaconda3/envs/py37/musicdb/dbAllMusicMap.p\n",
      "  --> This file is 5.7MB.\n",
      "Saved data to /Users/tgadfort/opt/anaconda3/envs/py37/musicdb/dbAllMusicMap.p\n",
      "  --> This file is 5.7MB.\n",
      "Loading Artist Albums\n",
      "500 48376 55277\n",
      "Running imap multiprocessing for 500 artists ...\n"
     ]
    },
    {
     "name": "stderr",
     "output_type": "stream",
     "text": [
      "100%|██████████| 500/500 [06:06<00:00,  1.36it/s]\n"
     ]
    },
    {
     "name": "stdout",
     "output_type": "stream",
     "text": [
      "Saving data to /Users/tgadfort/opt/anaconda3/envs/py37/musicdb/dbAllMusicMap.p\n",
      "  --> This file is 5.7MB.\n",
      "Saved data to /Users/tgadfort/opt/anaconda3/envs/py37/musicdb/dbAllMusicMap.p\n",
      "  --> This file is 5.7MB.\n",
      "Loading Artist Albums\n",
      "500 48876 55277\n",
      "Running imap multiprocessing for 500 artists ...\n"
     ]
    },
    {
     "name": "stderr",
     "output_type": "stream",
     "text": [
      "100%|██████████| 500/500 [06:34<00:00,  1.27it/s]\n"
     ]
    },
    {
     "name": "stdout",
     "output_type": "stream",
     "text": [
      "Saving data to /Users/tgadfort/opt/anaconda3/envs/py37/musicdb/dbAllMusicMap.p\n",
      "  --> This file is 5.8MB.\n",
      "Saved data to /Users/tgadfort/opt/anaconda3/envs/py37/musicdb/dbAllMusicMap.p\n",
      "  --> This file is 5.8MB.\n",
      "Loading Artist Albums\n",
      "500 49376 55277\n",
      "Running imap multiprocessing for 500 artists ...\n"
     ]
    },
    {
     "name": "stderr",
     "output_type": "stream",
     "text": [
      "100%|██████████| 500/500 [06:26<00:00,  1.29it/s]\n"
     ]
    },
    {
     "name": "stdout",
     "output_type": "stream",
     "text": [
      "Saving data to /Users/tgadfort/opt/anaconda3/envs/py37/musicdb/dbAllMusicMap.p\n",
      "  --> This file is 5.8MB.\n",
      "Saved data to /Users/tgadfort/opt/anaconda3/envs/py37/musicdb/dbAllMusicMap.p\n",
      "  --> This file is 5.8MB.\n",
      "Loading Artist Albums\n",
      "500 49876 55277\n",
      "Running imap multiprocessing for 500 artists ...\n"
     ]
    },
    {
     "name": "stderr",
     "output_type": "stream",
     "text": [
      "100%|██████████| 500/500 [06:26<00:00,  1.29it/s]\n"
     ]
    },
    {
     "name": "stdout",
     "output_type": "stream",
     "text": [
      "Saving data to /Users/tgadfort/opt/anaconda3/envs/py37/musicdb/dbAllMusicMap.p\n",
      "  --> This file is 5.9MB.\n",
      "Saved data to /Users/tgadfort/opt/anaconda3/envs/py37/musicdb/dbAllMusicMap.p\n",
      "  --> This file is 5.9MB.\n",
      "Loading Artist Albums\n",
      "500 50376 55277\n",
      "Running imap multiprocessing for 500 artists ...\n"
     ]
    },
    {
     "name": "stderr",
     "output_type": "stream",
     "text": [
      "100%|██████████| 500/500 [06:23<00:00,  1.30it/s]\n"
     ]
    },
    {
     "name": "stdout",
     "output_type": "stream",
     "text": [
      "Saving data to /Users/tgadfort/opt/anaconda3/envs/py37/musicdb/dbAllMusicMap.p\n",
      "  --> This file is 6.0MB.\n",
      "Saved data to /Users/tgadfort/opt/anaconda3/envs/py37/musicdb/dbAllMusicMap.p\n",
      "  --> This file is 6.0MB.\n",
      "Loading Artist Albums\n",
      "500 50876 55277\n",
      "Running imap multiprocessing for 500 artists ...\n"
     ]
    },
    {
     "name": "stderr",
     "output_type": "stream",
     "text": [
      "100%|██████████| 500/500 [06:26<00:00,  1.29it/s]\n"
     ]
    },
    {
     "name": "stdout",
     "output_type": "stream",
     "text": [
      "Saving data to /Users/tgadfort/opt/anaconda3/envs/py37/musicdb/dbAllMusicMap.p\n",
      "  --> This file is 6.0MB.\n",
      "Saved data to /Users/tgadfort/opt/anaconda3/envs/py37/musicdb/dbAllMusicMap.p\n",
      "  --> This file is 6.0MB.\n",
      "Loading Artist Albums\n",
      "500 51376 55277\n",
      "Running imap multiprocessing for 500 artists ...\n"
     ]
    },
    {
     "name": "stderr",
     "output_type": "stream",
     "text": [
      "100%|██████████| 500/500 [06:50<00:00,  1.22it/s]\n"
     ]
    },
    {
     "name": "stdout",
     "output_type": "stream",
     "text": [
      "Saving data to /Users/tgadfort/opt/anaconda3/envs/py37/musicdb/dbAllMusicMap.p\n",
      "  --> This file is 6.1MB.\n",
      "Saved data to /Users/tgadfort/opt/anaconda3/envs/py37/musicdb/dbAllMusicMap.p\n",
      "  --> This file is 6.1MB.\n",
      "Loading Artist Albums\n",
      "500 51876 55277\n",
      "Running imap multiprocessing for 500 artists ...\n"
     ]
    },
    {
     "name": "stderr",
     "output_type": "stream",
     "text": [
      "100%|██████████| 500/500 [06:40<00:00,  1.25it/s]\n"
     ]
    },
    {
     "name": "stdout",
     "output_type": "stream",
     "text": [
      "Saving data to /Users/tgadfort/opt/anaconda3/envs/py37/musicdb/dbAllMusicMap.p\n",
      "  --> This file is 6.1MB.\n",
      "Saved data to /Users/tgadfort/opt/anaconda3/envs/py37/musicdb/dbAllMusicMap.p\n",
      "  --> This file is 6.1MB.\n",
      "Loading Artist Albums\n",
      "500 52376 55277\n",
      "Running imap multiprocessing for 500 artists ...\n"
     ]
    },
    {
     "name": "stderr",
     "output_type": "stream",
     "text": [
      "100%|██████████| 500/500 [07:56<00:00,  1.05it/s]\n"
     ]
    },
    {
     "name": "stdout",
     "output_type": "stream",
     "text": [
      "Saving data to /Users/tgadfort/opt/anaconda3/envs/py37/musicdb/dbAllMusicMap.p\n",
      "  --> This file is 6.2MB.\n",
      "Saved data to /Users/tgadfort/opt/anaconda3/envs/py37/musicdb/dbAllMusicMap.p\n",
      "  --> This file is 6.2MB.\n",
      "Loading Artist Albums\n",
      "500 52876 55277\n",
      "Running imap multiprocessing for 500 artists ...\n"
     ]
    },
    {
     "name": "stderr",
     "output_type": "stream",
     "text": [
      "100%|██████████| 500/500 [09:28<00:00,  1.14s/it]\n"
     ]
    },
    {
     "name": "stdout",
     "output_type": "stream",
     "text": [
      "Saving data to /Users/tgadfort/opt/anaconda3/envs/py37/musicdb/dbAllMusicMap.p\n",
      "  --> This file is 6.2MB.\n",
      "Saved data to /Users/tgadfort/opt/anaconda3/envs/py37/musicdb/dbAllMusicMap.p\n",
      "  --> This file is 6.2MB.\n",
      "Loading Artist Albums\n",
      "500 53376 55277\n",
      "Running imap multiprocessing for 500 artists ...\n"
     ]
    },
    {
     "name": "stderr",
     "output_type": "stream",
     "text": [
      " 77%|███████▋  | 387/500 [05:17<02:35,  1.38s/it]"
     ]
    }
   ],
   "source": [
    "for i in range(100):\n",
    "    #for db in [\"AllMusic\", \"MusicBrainz\", \"LastFM\", \"RockCorner\", \"CDandLP\", \"RateYourMusic\", \"MusicStack\"]:\n",
    "    for db in [\"AllMusic\"]: #, \"MusicBrainz\", \"LastFM\", \"RockCorner\", \"CDandLP\", \"RateYourMusic\", \"MusicStack\"]:\n",
    "        toMatch   = mdbmc.getDataToMatch(db, maxValues=500, maxAlbums=100)\n",
    "        if len(toMatch) == 0:\n",
    "            continue\n",
    "\n",
    "        num_processes = 3\n",
    "        func = matchDBArtistWithAlbums\n",
    "        pfunc = partial(matchDBArtistWithAlbums, cutoff=0.95) # Giving some arguments for kwargs\n",
    "        #argument_list = list(inputs.items()) # [random.randint(0, 100) for _ in range(num_jobs)]\n",
    "        dbName = list(toMatch.keys())[0]\n",
    "        argument_list = toMatch[dbName]\n",
    "        print(\"Running imap multiprocessing for {0} artists ...\".format(len(argument_list)))\n",
    "        result_list = multiProc(func=pfunc, argument_list=argument_list,\n",
    "                                               num_processes=num_processes)\n",
    "\n",
    "\n",
    "        saveMapData(mdbmaps[dbName], result_list)\n",
    "\n",
    "        #mdbmc.matchMutualMaps()"
   ]
  },
  {
   "cell_type": "code",
   "execution_count": null,
   "metadata": {},
   "outputs": [],
   "source": [
    "if False:\n",
    "    results = {}\n",
    "    for item in matchData[:100]:\n",
    "        print(item[0])\n",
    "        mdbMatcher.setArtistInfo(artistName, artistID, artistAlbums)\n",
    "        #mdbMatcher.findPotentialArtistNameMatches()\n",
    "        #mc = mdbMatcher.findPotentialArtistAlbumMatchesByDB('Discogs')\n",
    "        mcs = mdbMatcher.findPotentialArtistAlbumMatches()\n",
    "        results[(artistName,artistID)] = {db: [mc.matchID, mc.matchScore] for db, mc in mcs.items()}"
   ]
  },
  {
   "cell_type": "code",
   "execution_count": null,
   "metadata": {},
   "outputs": [],
   "source": [
    "df = mdbmap.getDF().T"
   ]
  },
  {
   "cell_type": "code",
   "execution_count": null,
   "metadata": {},
   "outputs": [],
   "source": [
    "from pandas import Series\n",
    "matchData  = mdbmc.getDBMatchData(\"AllMusic\")\n",
    "sortedData = Series({primaryKey: len(albums) for primaryKey,albums in matchData.items()}).sort_values(ascending=False).to_dict()"
   ]
  },
  {
   "cell_type": "code",
   "execution_count": null,
   "metadata": {},
   "outputs": [],
   "source": [
    "sortedData"
   ]
  },
  {
   "cell_type": "code",
   "execution_count": null,
   "metadata": {},
   "outputs": [],
   "source": [
    "matchData"
   ]
  },
  {
   "cell_type": "code",
   "execution_count": null,
   "metadata": {},
   "outputs": [],
   "source": [
    "\n",
    "\n",
    "s\n",
    "        \n",
    "        toMatch = []\n",
    "        known   = 0\n",
    "        for primaryKey,albums in matchData.items():"
   ]
  },
  {
   "cell_type": "code",
   "execution_count": null,
   "metadata": {},
   "outputs": [],
   "source": []
  },
  {
   "cell_type": "code",
   "execution_count": null,
   "metadata": {},
   "outputs": [],
   "source": []
  },
  {
   "cell_type": "code",
   "execution_count": null,
   "metadata": {},
   "outputs": [],
   "source": [
    "\n",
    "            \n",
    "        \n",
    "        \n",
    "    def matchChartArtist(self, dbs=None, albumType=None, ratioCut=0.95, returnData=True):\n",
    "        chartArtist       = self.cad.artist\n",
    "        chartArtistAlbums = self.cad.albums\n",
    "        \n",
    "        if self.mdb.isKnown(chartArtist):\n",
    "            return self.mdb.getArtistData(chartArtist)\n",
    "        \n",
    "            \n",
    "        \n",
    "        \n",
    "        ######################################################################\n",
    "        #### Get Potential DB Artists\n",
    "        ######################################################################\n",
    "        if dbs is None:\n",
    "            artistNameDBIDs = self.mdb.getArtistIDs(chartArtist, num=50, cutoff=0.7)\n",
    "        else:\n",
    "            if isinstance(dbs, list):\n",
    "                artistNameDBIDs = self.mdb.getArtistIDsFromDBs(chartArtist, dbs=dbs, num=50, cutoff=0.7)\n",
    "            else:\n",
    "                raise ValueError(\"DBs must be a list\")\n",
    "        \n",
    "        \n",
    "        ######################################################################\n",
    "        #### Get Database Albums\n",
    "        ######################################################################\n",
    "        matches = {}\n",
    "        for db,artistDBartists in artistNameDBIDs.items():\n",
    "            \n",
    "            dbMatches = {}\n",
    "            for artistDBartist,artistDBIDs in artistDBartists.items():\n",
    "                for artistDBID in artistDBIDs:\n",
    "                    dbMatches[artistDBID] = {}\n",
    "                    artistDBAlbumsFromID = self.mdb.getArtistAlbumsFromID(db, artistDBID)\n",
    "\n",
    "                    for mediaType, mediaTypeAlbums in artistDBAlbumsFromID.items():\n",
    "                        if albumType is not None:\n",
    "                            if mediaType not in self.mdb.getDBAlbumTypeNames(db, albumType):\n",
    "                                continue\n",
    "\n",
    "                        ma = matchAlbums(cutoff=ratioCut)\n",
    "                        ma.match(chartArtistAlbums, mediaTypeAlbums)\n",
    "                        #ma.show(debug=True)\n",
    "                        \n",
    "                        dbMatches[artistDBID][mediaType] = ma\n",
    "                        \n",
    "            matches[db] = dbMatches\n",
    "            \n",
    "            \n",
    "        ######################################################################\n",
    "        #### Find Best Match\n",
    "        ######################################################################\n",
    "        retval = {}\n",
    "        for db,dbdata in matches.items():\n",
    "            retval[db] = None\n",
    "            bestMatch = {\"ID\": None, \"Matches\": 0, \"Score\": 0.0}\n",
    "            for artistDBID,artistDBData in dbdata.items():\n",
    "                for mediaType,ma in artistDBData.items():\n",
    "                    if ma.near == 0:\n",
    "                        continue\n",
    "                    if ma.near > bestMatch[\"Matches\"]:\n",
    "                        bestMatch = {\"ID\": artistDBID, \"Matches\": ma.near, \"Score\": ma.score}\n",
    "                    elif ma.near == bestMatch[\"Matches\"]:\n",
    "                        if ma.score > bestMatch[\"Score\"]:\n",
    "                            bestMatch = {\"ID\": artistDBID, \"Matches\": ma.near, \"Score\": ma.score}\n",
    "\n",
    "            if bestMatch[\"ID\"] is not None:\n",
    "                retval[db] = bestMatch[\"ID\"]\n",
    "                #print(\"mdb.add(\\\"{0}\\\", \\\"{1}\\\", \\\"{2}\\\")\".format(self.cad.artist, db, bestMatch[\"ID\"]))\n",
    "                \n",
    "        if returnData:\n",
    "            return retval\n",
    "        self.results[self.cad.artist] = retval\n",
    "    "
   ]
  },
  {
   "cell_type": "code",
   "execution_count": null,
   "metadata": {},
   "outputs": [],
   "source": [
    "\n",
    "    def initKey(self, db):\n",
    "        for myArtistName in self.musicmap.keys():            \n",
    "            self.musicmap[myArtistName][db] = self.artistIDElement\n",
    "        return self.musicmap\n",
    "        \n",
    "\n",
    "    def initArtist(self, artistName):\n",
    "        self.musicmap[artistName] = {db: self.artistIDElement for db in self.getDBs()}\n",
    "        return self.musicmap\n",
    "        \n",
    "\n",
    "    def initArtistDB(self, artistName, db):\n",
    "        self.musicmap[artistName][db] = self.artistIDElement\n",
    "        return self.musicmap\n",
    "        #self.saveMyMusicMap()\n",
    "        \n",
    "\n",
    "    def rmArtist(self, artistName):\n",
    "        if self.musicmap.get(artistName) is None:\n",
    "            print(\"There is no artist [{0}] in music DB.\".format(artistName))\n",
    "            return\n",
    "        del self.musicmap[artistName]\n",
    "        return\n",
    "        print(\"Could not delete db [{0}] for artist [{1}] in music DB.\".format(db, artistName))\n",
    "        \n",
    "\n",
    "    def rmArtistDBKey(self, artistName, db):\n",
    "        if self.musicmap.get(artistName) is None:\n",
    "            print(\"There is no artist [{0}] in music DB.\".format(artistName))\n",
    "            return\n",
    "        \n",
    "        if self.musicmap[artistName].get(db) is not None:\n",
    "            del self.musicmap[artistName][db]\n",
    "        return\n",
    "        print(\"Could not delete db [{0}] for artist [{1}] in music DB.\".format(db, artistName))\n",
    "\n",
    "\n",
    "        \n",
    "    def rmKey(self, db):\n",
    "        self.checkDB(db)\n",
    "        for myArtistName in self.musicmap.keys():\n",
    "            self.rmArtistDBKey(artistName, db)\n",
    "        return self.musicmap\n",
    "        #self.saveMyMusicMap()\n",
    "        \n",
    "        \n",
    "    def addArtist(self, artistName):\n",
    "        if self.musicmap.get(artistName) is None:\n",
    "            print(\"Adding Artist {0}\".format(artistName))\n",
    "            self.musicmap[artistName] = {db: self.artistIDElement for db in self.getDBs()}\n",
    "            print(\"\\t\",self.musicmap[artistName])\n",
    "            \n",
    "       \n",
    "    def ignoreList(self, dbName):\n",
    "        ignores = []\n",
    "        if dbName == \"AllMusic\":\n",
    "            ignores  = [\"Bryan Adams\", \"Leslie Keith\", \"Patrick Swayze\", \"David Frizzell & Shelly West\", \"Matt Monroe\"]\n",
    "            ignores += [\"Antonio Vivaldi\", \"Franz Liszt\", \"Georges Bizet\", \"Hector Berlioz\", \"Richard Wagner\"]\n",
    "            ignores += [\"Robert Schumann\"]        \n",
    "        return ignores\n",
    "        \n",
    "        \n",
    "    def add(self, artistName, dbName, artistID):\n",
    "        if artistID is None:\n",
    "            print(\"Not Adding None ArtistID\")\n",
    "            return\n",
    "        \n",
    "        self.checkDB(dbName)        \n",
    "        self.checkID(artistID)\n",
    "        \n",
    "        ignores = self.ignoreList(dbName)\n",
    "        if artistName in ignores:\n",
    "            print(\"Not adding [{0}] because it's on the ignore list\".format(artistName))\n",
    "            return\n",
    "        \n",
    "        try:\n",
    "            int(artistID)\n",
    "        except:\n",
    "            raise ValueError(\"Artist [{0}}] and Database [{1}] with ID [{2}] isn't a number\".format(dbName, artistName, artistID))\n",
    "        \n",
    "        if self.musicmap.get(artistName) is None:\n",
    "            self.addArtist(artistName)\n",
    "        dbData = self.musicmap[artistName].get(dbName)\n",
    "        \n",
    "        if dbData is None:\n",
    "            print(\"Adding Database [{0}] to DB list for [{1}]\".format(dbName, artistName))\n",
    "            self.musicmap[artistName][dbName] = self.artistIDElement\n",
    "        else:            \n",
    "            if self.musicmap[artistName][dbName][\"ID\"] != artistID:\n",
    "                print(\"  Replacing ID for DB [{0}] from [{1}] to [{2}]\".format(dbName, self.musicmap[artistName][dbName][\"ID\"], artistID))\n",
    "            \n",
    "        self.checkDBID(dbName, artistID, artistName)\n",
    "        self.musicmap[artistName][dbName] = {\"ID\": artistID, \"Name\": None}\n",
    "        print(\"Artist DB Data: {0}\".format(self.musicmap[artistName]))\n",
    "        \n",
    "        \n",
    "        \n",
    "    ####################################################################################################\n",
    "    #\n",
    "    # DB Section\n",
    "    #\n",
    "    ####################################################################################################\n",
    "    def getDBMatches(self, db):\n",
    "        dbMatches = {}\n",
    "        for artistName in self.getArtists():\n",
    "            dbData = self.getArtistDBData(artistName, db)\n",
    "            if dbData.get('ID') is not None:\n",
    "                dbMatches[artistName] = dbData['ID']\n",
    "        return dbMatches\n",
    "    \n",
    "    \n",
    "    def setDBMatches(self):\n",
    "        self.dbArtistData = {db: {} for db in self.getDBs()}\n",
    "        for artist,artistData in self.get().items():\n",
    "            for db,dbmatch in artistData.items():\n",
    "                self.checkDB(db,artist)\n",
    "                if dbmatch is not None:\n",
    "                    dbID = dbmatch.get('ID')\n",
    "                    self.checkID(dbID)\n",
    "                    self.dbArtistData[db][dbID] = artist\n",
    "                    \n",
    "    \n",
    "        \n",
    "    ####################################################################################################\n",
    "    #\n",
    "    # Artist Section\n",
    "    #\n",
    "    ####################################################################################################\n",
    "    def isKnown(self, artistName):\n",
    "        if self.musicmap.get(artistName) is None:\n",
    "            return False\n",
    "        return True\n",
    "        \n",
    "    def getArtistFromID(self, dbID):\n",
    "        for artistName,artistData in self.musicmap.items():\n",
    "            for db,dbdata in artistData.items():\n",
    "                if dbdata is not None:\n",
    "                    dbdataID = dbdata.get(\"ID\")\n",
    "                    if dbdataID == dbID:\n",
    "                        return [db,artistName]\n",
    "        return [None,None]\n",
    "        \n",
    "        \n",
    "    def getMatchedDBStatus(self, artistName):\n",
    "        artistData = self.getArtistData(artistName)\n",
    "        status     = {}\n",
    "        for dbkey in self.dbkeys:\n",
    "            if artistData.get(dbkey) is None:\n",
    "                status[dbkey] = False\n",
    "            else:\n",
    "                status[dbkey] = True\n",
    "        return status\n",
    "    \n",
    "    \n",
    "    def getArtistData(self, artistName):\n",
    "        if self.musicmap.get(artistName) is None:\n",
    "            return {}\n",
    "        return self.musicmap[artistName]\n",
    "    \n",
    "    \n",
    "    def getArtistDBData(self, artistName, db):\n",
    "        if self.musicmap.get(artistName) is None:\n",
    "            return {}\n",
    "        if self.musicmap[artistName].get(db) is None:\n",
    "            return {}\n",
    "        return self.musicmap[artistName][db]\n",
    "    \n",
    "    \n",
    "    def getArtistDataIDs(self, artistName, returnNone=True):\n",
    "        if self.musicmap.get(artistName) is None:\n",
    "            return {}        \n",
    "        \n",
    "        retval = {}\n",
    "        for db,dbdata in self.musicmap[artistName].items():\n",
    "            try:\n",
    "                ID = dbdata[\"ID\"]\n",
    "            except:\n",
    "                ID = None\n",
    "                if returnNone is False:\n",
    "                    continue\n",
    "            retval[db] = ID\n",
    "        return retval\n",
    "    \n",
    "    \n",
    "    def getArtists(self):\n",
    "        return list(self.musicmap.keys())\n",
    "    \n",
    "    \n",
    "    def showArtistData(self, artistName):\n",
    "        artistData = self.getArtistData(artistName)\n",
    "        print(\"===> {0}\".format(artistName))\n",
    "        for db,dbdata in artistData.items():\n",
    "            print(\"   {0: <15}: {1}\".format(db,dbdata))\n",
    "        \n",
    "            \n",
    "            \n",
    "    ########################################################################################################\n",
    "    #\n",
    "    # Get Artist Data\n",
    "    #\n",
    "    ########################################################################################################\n",
    "    def getArtistIDsFromDBs(self, artistName, dbs, num=10, cutoff=0.7, debug=False):\n",
    "        if not all([self.dbdata.get(db) for db in self.getDBs()]):\n",
    "            self.getFullDBData()\n",
    "                    \n",
    "        if debug:\n",
    "            print(\"  Getting DB Artist IDs for ArtistName: {0}\".format(artistName))\n",
    "        artistIDs = {}\n",
    "        for db in self.getDBs():\n",
    "            if db in dbs:\n",
    "                artistIDs[db] = self.getArtistDBIDs(artistName, db, num, cutoff, debug)\n",
    "            else:\n",
    "                artistIDs[db] = {}\n",
    "        return artistIDs\n",
    "    \n",
    "    \n",
    "    \n",
    "    def getArtistIDs(self, artistName, num=10, cutoff=0.7, debug=False):\n",
    "        if not all([self.dbdata.get(db) for db in self.getDBs()]):\n",
    "            self.getFullDBData()\n",
    "                    \n",
    "        if debug:\n",
    "            print(\"  Getting DB Artist IDs for ArtistName: {0}\".format(artistName))\n",
    "        artistIDs = {db: self.dbdata[db].getArtistIDs(artistName, num, cutoff, debug=debug) for db in self.getDBs()}\n",
    "        return artistIDs\n",
    "    \n",
    "    \n",
    "    def getArtistFromDBID(self, db, dbID):\n",
    "        try:\n",
    "            adb = self.dbdata[db]\n",
    "        except:\n",
    "            raise ValueError(\"DB {0} does not exist.\".format(db))\n",
    "            \n",
    "        artist = adb.getArtistNameFromID(dbID)\n",
    "        return artist\n",
    "        \n",
    "        \n",
    "    def getArtistDBIDs(self, artistName, db, num=10, cutoff=0.7, debug=False):\n",
    "        if self.dbdata.get(db) is None:\n",
    "            self.getFullDBData()\n",
    "                    \n",
    "        if debug:\n",
    "            print(\"  Getting DB Artist IDs for ArtistName: {0}\".format(artistName))\n",
    "        artistIDs = self.dbdata[db].getArtistIDs(artistName, num, cutoff, debug=debug)\n",
    "        return artistIDs\n",
    "        \n",
    "        \n",
    "            \n",
    "    ########################################################################################################\n",
    "    #\n",
    "    # Get Artist Album Data\n",
    "    #\n",
    "    ########################################################################################################\n",
    "    def getArtistAlbumsFromID(self, db, artistID, flatten=False):\n",
    "        if not all([self.dbdata.get(db) for db in self.getDBs()]):\n",
    "            self.getFullDBData()\n",
    "        artistAlbums = self.dbdata[db].getArtistAlbums(artistID, flatten=flatten)\n",
    "        return artistAlbums\n",
    "    \n",
    "    \n",
    "    def getArtistAlbums(self, artistName, num=10, cutoff=0.7, debug=False):\n",
    "        if not all([self.dbdata.get(db) for db in self.getDBs()]):\n",
    "            self.getFullDBData()\n",
    "        \n",
    "        print(\"  Getting Artist Albums for ArtistName: {0}\".format(artistName))\n",
    "        artistAlbums = {}\n",
    "        artistIDs    = self.getArtistIDs(artistName, num=num, cutoff=cutoff, debug=debug)\n",
    "        if debug is True:\n",
    "            print(\"Found Artist IDs\")\n",
    "            print(artistIDs)\n",
    "        for db,NameIDs in artistIDs.items():\n",
    "            artistAlbums[db] = {}\n",
    "            for name,IDs in NameIDs.items():\n",
    "                artistAlbums[db][name] = {artistID: self.dbdata[db].getArtistAlbums(artistID) for artistID in IDs}\n",
    "                \n",
    "        if debug:\n",
    "            print(\"ArtistAlbums({0}) Results\".format(artistName))\n",
    "            for db,nameData in artistAlbums.items():\n",
    "                print(\"=\"*150)\n",
    "                print(\"  DB: {0}\".format(db))\n",
    "                for name,IDsData in nameData.items():\n",
    "                    print(\"    Name: {0}\".format(name))\n",
    "                    for ID,albums in IDsData.items():\n",
    "                        print(\"      ID: {0}\".format(ID))\n",
    "                        for mediaType,mediaData in albums.items():\n",
    "                            albums = list(mediaData.values())\n",
    "                            print(\"          -----> {0: <20} :: {1}\\t{2}\".format(mediaType, len(albums), json.dumps(albums)))\n",
    "                        print(\"\\n\")\n",
    "                    print(\"\\n\\n\")\n",
    "                        \n",
    "        return artistAlbums\n",
    "        \n",
    "        \n",
    "        \n",
    "    ####################################################################################################\n",
    "    #\n",
    "    # Interactive Section\n",
    "    #\n",
    "    ####################################################################################################\n",
    "    def getNearestArtistNames(self, artistName, num=1, cutoff=0.9, debug=False):\n",
    "        if not all([self.dbdata.get(db) for db in self.getDBs()]):\n",
    "            self.getFullDBData()\n",
    "        artistMatches = {db: self.dbdata[db].getNearestArtist(artistName, num, cutoff, debug=debug) for db in self.getDBs()}\n",
    "        return artistMatches\n",
    "        \n",
    "    def getNearestArtists(self, artistName, num=2, cutoff=0.7):\n",
    "        artists = findNearest(artistName, self.getArtists(), num=num, cutoff=cutoff)\n",
    "        print(\"Nearest Matches for: {0}\".format(artistName))\n",
    "        for artist in artists:\n",
    "            self.showArtistData(artist)\n",
    "        \n",
    "        \n",
    "        \n",
    "    ####################################################################################################\n",
    "    #\n",
    "    # Database Section\n",
    "    #\n",
    "    ####################################################################################################\n",
    "    def getSubsetData(self, dbname):\n",
    "        mydbdata = {artistName: db.get(dbname) for artistName, db in self.musicmap.items() if db.get(dbname) is not None}\n",
    "        mydbdata = {artistName: dbdata.get(\"ID\") for artistName, dbdata in mydbdata.items() if dbdata.get(\"ID\") is not None}\n",
    "        return mydbdata\n",
    "\n",
    "        \n",
    "    def getDBData(self, db, known=False):\n",
    "        if db not in self.getDBs():\n",
    "            raise ValueError(\"Nothing known about DB [{0}]\".format(db))\n",
    "            \n",
    "        if self.debug:\n",
    "            print(\"Getting Database Data For {0}\".format(db))\n",
    "            \n",
    "        if known is True:\n",
    "            if self.debug is True:\n",
    "                print(\"Loading Subset of Database Data For {0}\".format(db))\n",
    "            \n",
    "        dbdata = artistDB(db, known=known, debug=self.debug)\n",
    "        return dbdata\n",
    "    \n",
    "    \n",
    "    def getFullDBData(self):\n",
    "        for db in self.getDBs():\n",
    "            self.dbdata[db] = self.getDBData(db, known=False)\n",
    "    \n",
    "        \n",
    "    def getKnownDBData(self):\n",
    "        for db in self.getDBs():\n",
    "            self.dbdata[db] = self.getDBData(db, known=True)\n",
    "        \n",
    "        \n",
    "        \n",
    "    ####################################################################################################\n",
    "    #\n",
    "    # Database Section\n",
    "    #\n",
    "    ####################################################################################################\n",
    "    def getDBAlbumTypeNames(self, db, albumType):\n",
    "        albumTypes = self.getDBAlbumTypes(db)\n",
    "        try:\n",
    "            albumTypeNames = albumTypes[albumType]\n",
    "        except:\n",
    "            raise ValueError(\"Could not find DB AlbumType [{0}] for DB [{1}] in dbAlbumTypes\".format(albumType, db))\n",
    "            \n",
    "        return albumTypeNames\n",
    "        \n",
    "        \n",
    "    def getDBAlbumTypes(self, db):\n",
    "        try:\n",
    "            dbAlbumTypes = self.dbAlbumTypes[db]\n",
    "        except:\n",
    "            raise ValueError(\"Could not find DB [{0}] in dbAlbumTypes\".format(db))\n",
    "            \n",
    "        return dbAlbumTypes\n",
    "    \n",
    "            \n",
    "    def setAlbumTypes(self):\n",
    "        self.dbAlbumTypes = {}\n",
    "                     \n",
    "        for db in self.getDBs():\n",
    "            if db == \"Discogs\":\n",
    "                allTypes  = [\"Albums\", \"Singles & EPs\", \"Compilations\", \"Videos\", \"Miscellaneous\"]\n",
    "                primary   = [\"Albums\"]\n",
    "                secondary = [\"Compilations\"]\n",
    "                tertiary  = [\"Singles & EPs\"]\n",
    "                fourth    = [\"Videos\", \"Miscellaneous\"] \n",
    "            elif db == \"AllMusic\":\n",
    "                allTypes  = [\"Albums\", \"Single/EP\", \"Comp\", \"Video\", \"Other\"]\n",
    "                primary   = [\"Albums\"]\n",
    "                secondary = [\"Comp\"]\n",
    "                tertiary  = [\"Single/EP\"]\n",
    "                fourth    = [\"Video\", \"Other\"]\n",
    "            elif db == \"MusicBrainz\":\n",
    "                primary   = [\"Album\", \"Album + Live\", \"Album + Soundtrack\", \"Album + Mixtape/Street\", \"Album + Remix\", \"Album + Audiobook\", \"Album + DJ-mix\", \"Album + Demo\", \"Album + Spokenword\", \"Album + Audio drama\", \"Album + Spokenword + Live\", \"Album + Soundtrack + Live\", \"Album + Remix + Mixtape/Street\", \"Album + Spokenword + Audiobook\", \"Album + Interview\", \"Album + Live + DJ-mix\", \"Album + Soundtrack + Remix\", \"Album + DJ-mix + Mixtape/Street\", \"Album + Interview + Live\", \"Album + Remix + DJ-mix\", \"Album + Live + Remix\", \"Album + Soundtrack + Audiobook\", \"Album + Interview + Demo\", \"Album + Soundtrack + Spokenword + Interview\", \"Album + Live + Demo\", \"Album + Soundtrack + Spokenword\", \"Album + Spokenword + Interview\", \"Album + Remix + Mixtape/Street + Demo\", \"Album + Demo + Audio drama\", \"Album + Soundtrack + Audiobook + Audio drama\", \"Album + Spokenword + Interview + Audiobook\", \"Album + Spokenword + Demo\", \"Album + Interview + Audiobook + Audio drama\", \"Album + Soundtrack + Audio drama\", \"Album + Soundtrack + Interview + Live\", \"Album + Audiobook + Audio drama\", \"Album + Audiobook + Live\", \"Album + Soundtrack + Demo\"]\n",
    "                secondary = [\"Album + Compilation\", \"Album + Compilation + DJ-mix\", \"Compilation\", \"Album + Compilation + Live\", \"Album + Compilation + Soundtrack\", \"Album + Compilation + Remix\", \"Single + Compilation\", \"Album + Compilation + Mixtape/Street\", \"Album + Compilation + Live + DJ-mix\", \"Album + Compilation + Spokenword\", \"Album + Compilation + Demo\", \"Broadcast + Compilation\", \"Compilation + DJ-mix\", \"Album + Compilation + DJ-mix + Mixtape/Street\", \"Album + Compilation + Remix + DJ-mix\", \"Album + Compilation + Spokenword + Live\", \"Album + Compilation + Soundtrack + Remix\", \"Album + Compilation + Interview\", \"Compilation + Soundtrack\", \"Compilation + Live\", \"Broadcast + Compilation + Live\", \"Album + Compilation + Interview + Live\", \"Album + Compilation + Audio drama\", \"Album + Compilation + Audiobook\", \"Album + Compilation + Live + Demo\", \"Album + Compilation + Live + Remix\", \"Compilation + Live + DJ-mix\", \"Album + Compilation + Spokenword + Audiobook\", \"Broadcast + Compilation + Remix + DJ-mix\", \"Album + Compilation + Mixtape/Street + Demo\", \"Album + Compilation + Soundtrack + Interview\", \"Album + Compilation + Soundtrack + Spokenword + Interview + Audiobook + Remix\", \"Album + Compilation + Remix + Mixtape/Street\", \"Compilation + Remix\", \"Album + Compilation + Soundtrack + Demo\", \"Broadcast + Compilation + Audio drama\"]\n",
    "                tertiary  = [\"Single\", \"EP\", \"EP + Live\", \"EP + Remix\", \"Single + Soundtrack\", \"Single + Live\", \"EP + Demo\", \"EP + Compilation\", \"EP + Soundtrack\", \"EP + Mixtape/Street\", \"Single + Demo\", \"Single + DJ-mix\", \"Single + Mixtape/Street\", \"EP + DJ-mix\", \"Single + Soundtrack + Remix\", \"Single + Audiobook\", \"EP + Compilation + Remix\", \"Single + Live + Remix\", \"EP + Live + Demo\", \"EP + Audio drama\", \"EP + Remix + Mixtape/Street\", \"Single + Audio drama\", \"Single + Soundtrack + Live\", \"EP + Soundtrack + Remix\", \"EP + Compilation + Live\", \"EP + Compilation + Mixtape/Street\", \"EP + Audiobook\", \"Single + Compilation + Remix\", \"Single + DJ-mix + Demo\", \"EP + Compilation + Remix + DJ-mix\", \"EP + Live + DJ-mix\", \"EP + Spokenword + Live\", \"Single + Remix + Mixtape/Street\", \"Single + Remix + Demo\", \"EP + Compilation + Demo\", \"Single + Mixtape/Street + Demo\", \"EP + Live + Remix\", \"Single + Spokenword\", \"Single + Interview\", \"EP + Compilation + Soundtrack\", \"EP + Interview\"]\n",
    "                fourth    = [\"Unspecified type\", \"Other\", \"Single + Remix\", \"Other + Audiobook\", \"Other + Audio drama\", \"Other + Spokenword\", \"Live\", \"Remix\", \"Other + Compilation\", \"Broadcast\", \"Audiobook\", \"Other + Live\", \"Other + Demo\", \"Other + Interview\", \"Broadcast + Live\", \"Major series / box sets\", \"Sub Optimal Credits\", \"Soundtrack\", \"Broadcast + Audio drama\", \"Other + Mixtape/Street\", \"Currently known involved people:\", \"Demo\", \"The What The Fuck Serie:\", \"Mixtape/Street\", \"Other + DJ-mix\", \"A stab at the horrible Blue Note mess:\", \"Other + Soundtrack\", \"DJ-mix\", \"Broadcast + DJ-mix\", \"Spokenword\", \"Broadcast + Spokenword\", \"Broadcast + Audiobook\", \"Nonline discography:\", \"Other + Remix\", \"Other + Compilation + Live\", \"Other + Compilation + Audiobook\", \"Online discography:\", \"Former Official Homepage\", \"Current Members\", \"Don\\'t add these albums here:\", \"Broadcast + Live + DJ-mix\", \"Other + Spokenword + Live\", \"Other + Spokenword + Audiobook\", \"Other + Spokenword + Audiobook + Audio drama\", \"Past Members\", \"Broadcast + Spokenword + Audio drama\", \"Audio drama\", \"Broadcast + Interview\", \"Other + Compilation + Spokenword\", \"Live + Demo\", \"Broadcast + Live + Audio drama\", \"Broadcast + Spokenword + Audiobook\", \"Other + Compilation + Demo\", \"Other + Compilation + Interview\", \"Broadcast + Demo\", \"Live + DJ-mix\", \"Other + Compilation + Live + DJ-mix\", \"DJ-mix + Mixtape/Street\", \"Other + Soundtrack + Mixtape/Street + Demo\", \"Zyklen/Reihen:\", \"Other + Compilation + DJ-mix\", \"Other + Audiobook + Audio drama\", \"Other + Compilation + Mixtape/Street\", \"Other + Remix + Mixtape/Street\", \"Other + Compilation + Interview + Live\", \"Broadcast + Soundtrack\", \"Other + Live + Demo\", \"Interview\", \"Jam Today (2)  1979 ~ 1980\", \"Other + Spokenword + DJ-mix + Mixtape/Street\", \"Other + Compilation + Remix\", \"Broadcast + Interview + Live\"]        \n",
    "                allTypes  = primary + secondary + tertiary + fourth\n",
    "            elif db == \"AceBootlegs\":\n",
    "                allTypes  = [\"Bootleg\"]\n",
    "                primary   = [\"Bootleg\"]\n",
    "                secondary = []\n",
    "                tertiary  = []\n",
    "                fourth    = []\n",
    "            elif db == \"RateYourMusic\":     \n",
    "                primary   = [\"Album\", \"Live Album\"]\n",
    "                secondary = ['V/A Compilation', 'Compilation']\n",
    "                tertiary  = ['Single', 'EP']\n",
    "                fourth    = ['Bootleg / Unauthorized', 'Appears On', \"Video\"]        \n",
    "                allTypes  = primary + secondary + tertiary + fourth\n",
    "            elif db == \"LastFM\":\n",
    "                allTypes  = [\"Albums\"]\n",
    "                primary   = [\"Albums\"]\n",
    "                secondary = []\n",
    "                tertiary  = []\n",
    "                fourth    = []\n",
    "            elif db == \"DatPiff\":\n",
    "                allTypes  = [\"MixTape\"]\n",
    "                primary   = [\"MixTape\"]\n",
    "                secondary = []\n",
    "                tertiary  = []\n",
    "                fourth    = []\n",
    "            elif db == \"RockCorner\":\n",
    "                primary   = [\"Albums\"]\n",
    "                secondary = []\n",
    "                tertiary  = [\"Songs\"]\n",
    "                fourth    = []     \n",
    "                allTypes  = primary + secondary + tertiary + fourth\n",
    "            elif db == \"CDandLP\":\n",
    "                primary   = [\"Albums\"]\n",
    "                secondary = []\n",
    "                tertiary  = []\n",
    "                fourth    = []     \n",
    "                allTypes  = primary + secondary + tertiary + fourth\n",
    "            elif db == \"MusicStack\":\n",
    "                primary   = [\"Albums\"]\n",
    "                secondary = []\n",
    "                tertiary  = []\n",
    "                fourth    = []     \n",
    "                allTypes  = primary + secondary + tertiary + fourth\n",
    "            elif db == \"MetalStorm\":\n",
    "                primary   = [\"Albums\"]\n",
    "                secondary = []\n",
    "                tertiary  = []\n",
    "                fourth    = []\n",
    "                allTypes  = primary + secondary + tertiary + fourth\n",
    "            else:\n",
    "                raise ValueError(\"Key is not known!\")\n",
    "\n",
    "\n",
    "            retval = {\"All\": allTypes, 1: primary, 2: secondary, 3: tertiary, 4: fourth}\n",
    "\n",
    "            self.dbAlbumTypes[db] = retval"
   ]
  }
 ],
 "metadata": {
  "kernelspec": {
   "display_name": "Python 3",
   "language": "python",
   "name": "python3"
  },
  "language_info": {
   "codemirror_mode": {
    "name": "ipython",
    "version": 3
   },
   "file_extension": ".py",
   "mimetype": "text/x-python",
   "name": "python",
   "nbconvert_exporter": "python",
   "pygments_lexer": "ipython3",
   "version": "3.7.7"
  }
 },
 "nbformat": 4,
 "nbformat_minor": 2
}
