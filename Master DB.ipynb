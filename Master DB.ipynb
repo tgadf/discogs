{
 "cells": [
  {
   "cell_type": "markdown",
   "metadata": {},
   "source": [
    "# Master Discogs Database"
   ]
  },
  {
   "cell_type": "code",
   "execution_count": null,
   "metadata": {},
   "outputs": [],
   "source": [
    "## Basic stuff\n",
    "%load_ext autoreload\n",
    "%autoreload\n",
    "from IPython.core.display import display, HTML\n",
    "display(HTML(\"<style>.container { width:100% !important; }</style>\"))\n",
    "display(HTML(\"\"\"<style>div.output_area{max-height:10000px;overflow:scroll;}</style>\"\"\"))\n",
    "\n",
    "## Python Version\n",
    "import sys\n",
    "print(\"Python: {0}\".format(sys.version))\n",
    "\n",
    "\n",
    "################################################################################\n",
    "## General Stuff\n",
    "################################################################################\n",
    "from ioUtils import saveJoblib, loadJoblib, saveFile, getFile\n",
    "import urllib\n",
    "from urllib.parse import quote\n",
    "from collections import Counter\n",
    "from searchUtils import findExt, findSubExt, findPatternExt, findNearest\n",
    "from timeUtils import clock, elapsed\n",
    "from fsUtils import moveFile, setFile, setDir, setSubDir, isFile, isDir, mkDir\n",
    "from fileUtils import getFileBasics, getBasename\n",
    "from listUtils import getFlatList\n",
    "from time import sleep\n",
    "\n",
    "\n",
    "################################################################################\n",
    "## Music Stuff\n",
    "################################################################################\n",
    "\n",
    "### MultiArtist\n",
    "from multiArtist import multiartist\n",
    "\n",
    "### My Music DB\n",
    "from myMusicDBMap import myMusicDBMap\n",
    "from musicDBMap import musicDBMap\n",
    "from matchDBArtist import matchDBArtist\n",
    "from masterDBMatchClass import masterDBMatchClass\n",
    "\n",
    "### Master DB code\n",
    "from masterdb import masterdb\n",
    "from mainDB import mainDB\n",
    "\n",
    "\n",
    "import datetime as dt\n",
    "start = dt.datetime.now()\n",
    "print(\"Notebook Last Run Initiated: \"+str(start))"
   ]
  },
  {
   "cell_type": "markdown",
   "metadata": {},
   "source": [
    "# Create Full DB"
   ]
  },
  {
   "cell_type": "code",
   "execution_count": null,
   "metadata": {
    "scrolled": true
   },
   "outputs": [],
   "source": [
    "### Master DB code\n",
    "%load_ext autoreload\n",
    "%autoreload\n",
    "from masterdb import masterdb\n",
    "from mainDB import mainDB\n",
    "\n",
    "start, cmt = clock(\"Creating DB\")\n",
    "maindb = mainDB(mdb=None, create=True, debug=True)\n",
    "print(\"\\n\\n{0}\\n\".format(\"Full DB\"))\n",
    "maindb.setDBFull(\"AllMusic\")\n",
    "#maindb.setDBFull(\"MusicBrainz\")\n",
    "print(\"\\n\\n{0}\\n\".format(\"Known DB\"))\n",
    "elapsed(start, cmt)"
   ]
  },
  {
   "cell_type": "markdown",
   "metadata": {},
   "source": [
    "# Main DB"
   ]
  },
  {
   "cell_type": "code",
   "execution_count": null,
   "metadata": {},
   "outputs": [],
   "source": [
    "### Master DB code\n",
    "%load_ext autoreload\n",
    "%autoreload\n",
    "from masterdb import masterdb\n",
    "from mainDB import mainDB"
   ]
  },
  {
   "cell_type": "code",
   "execution_count": null,
   "metadata": {},
   "outputs": [],
   "source": [
    "maindb = mainDB(mdb=None, create=False, debug=False)\n",
    "maindb.loadDBDataMap()"
   ]
  },
  {
   "cell_type": "code",
   "execution_count": null,
   "metadata": {},
   "outputs": [],
   "source": [
    "mdbmap = musicDBMap(\"Music\", init=False)"
   ]
  },
  {
   "cell_type": "code",
   "execution_count": null,
   "metadata": {},
   "outputs": [],
   "source": [
    "myDF = mdbmap.getDF().T"
   ]
  },
  {
   "cell_type": "code",
   "execution_count": null,
   "metadata": {},
   "outputs": [],
   "source": [
    "from pandas import DataFrame\n",
    "tmp = myDF[~myDF[\"AllMusic\"].isna()]\n",
    "mbToGet = DataFrame(tmp[tmp[\"MusicBrainz\"].isna()][\"AllMusic\"]).copy(deep=True)"
   ]
  },
  {
   "cell_type": "code",
   "execution_count": null,
   "metadata": {},
   "outputs": [],
   "source": [
    "mbToGet"
   ]
  },
  {
   "cell_type": "code",
   "execution_count": null,
   "metadata": {},
   "outputs": [],
   "source": [
    "matchData  =  mdbmc.getDBMatchData(\"AllMusic\")"
   ]
  },
  {
   "cell_type": "code",
   "execution_count": null,
   "metadata": {},
   "outputs": [],
   "source": [
    "toMatch = {\"Music\": []}\n",
    "for idx,row in mbToGet.iterrows():\n",
    "    amID = row[\"AllMusic\"]\n",
    "    primKey = mdbmaps[\"AllMusic\"].getPrimaryKeyFromID(amID)\n",
    "    #print(idx,'\\t',primKey)\n",
    "    try:\n",
    "        albums = matchData[primKey]\n",
    "    except:\n",
    "        continue\n",
    "    toMatch[\"Music\"].append([idx[0], idx[1], albums])"
   ]
  },
  {
   "cell_type": "code",
   "execution_count": null,
   "metadata": {},
   "outputs": [],
   "source": [
    "mdbmaps[\"MusicBrainz\"] = musicDBMap(\"MusicBrainz\", init=False)\n"
   ]
  },
  {
   "cell_type": "code",
   "execution_count": null,
   "metadata": {},
   "outputs": [],
   "source": [
    "loadAll = True\n",
    "if loadAll:\n",
    "    mdbmaps = {}\n",
    "    for db in maindb.getDBs():\n",
    "        print(\"{0: <30}\".format(db), end=\"\")\n",
    "        mdbmaps[db] = musicDBMap(db, init=False)\n",
    "    #mdbmaps = {db: musicDBMap(db, init=False) for db in maindb.getDBs()}\n",
    "else:\n",
    "    mdbmaps = {}\n",
    "    #mdbmaps[\"AllMusic\"] = musicDBMap(\"AllMusic\", init=False)\n",
    "    mdbmaps[\"MusicBrainz\"] = musicDBMap(\"MusicBrainz\", init=False)\n",
    "    if False:\n",
    "        mdbmaps[\"AllMusic\"] = musicDBMap(\"AllMusic\", init=False)\n",
    "        mdbmaps[\"MusicBrainz\"] = musicDBMap(\"MusicBrainz\", init=False)\n",
    "        mdbmaps[\"Discogs\"] = musicDBMap(\"Discogs\", init=False)\n",
    "        mdbmaps[\"LastFM\"] = musicDBMap(\"LastFM\", init=False)\n",
    "        mdbmaps[\"RockCorner\"] = musicDBMap(\"RockCorner\", init=False)\n",
    "        mdbmaps[\"AceBootlegs\"] = musicDBMap(\"AceBootlegs\", init=False)\n",
    "        mdbmaps[\"MusicStack\"] = musicDBMap(\"MusicStack\", init=False)\n",
    "        mdbmaps[\"CDandLP\"] = musicDBMap(\"CDandLP\", init=False)"
   ]
  },
  {
   "cell_type": "code",
   "execution_count": null,
   "metadata": {},
   "outputs": [],
   "source": [
    "results = {}\n",
    "for db,togets in toMatch.items():\n",
    "    for toget in togets:\n",
    "        artistName = toget[0]\n",
    "        artistID   = toget[1]\n",
    "        albums     = toget[2]\n",
    "        mdbMatcher = matchDBArtist(maindb)\n",
    "        mdbMatcher.setArtistInfo(artistName, artistID, albums)\n",
    "        #mdbMatcher.findPotentialArtistNameMatches()\n",
    "        mc = mdbMatcher.findPotentialArtistAlbumMatchesByDB('MusicBrainz')\n",
    "        results[(artistName,artistID)] = mc\n",
    "        print(artistName,artistID)\n",
    "        #mcs = mdbMatcher.findPotentialArtistAlbumMatches()"
   ]
  },
  {
   "cell_type": "code",
   "execution_count": null,
   "metadata": {},
   "outputs": [],
   "source": [
    "for primKey,match in results.items():\n",
    "    mdbmap.addArtistData(primKey[0], primKey[1], \"MusicBrainz\", match.matchID)"
   ]
  },
  {
   "cell_type": "code",
   "execution_count": null,
   "metadata": {},
   "outputs": [],
   "source": [
    "mdbmap.save()"
   ]
  },
  {
   "cell_type": "code",
   "execution_count": null,
   "metadata": {},
   "outputs": [],
   "source": []
  },
  {
   "cell_type": "markdown",
   "metadata": {},
   "source": [
    "****"
   ]
  },
  {
   "cell_type": "markdown",
   "metadata": {},
   "source": [
    "# Primary DB Matching"
   ]
  },
  {
   "cell_type": "code",
   "execution_count": null,
   "metadata": {},
   "outputs": [],
   "source": [
    "mdbmc = masterDBMatchClass(maindb, mdbmaps)"
   ]
  },
  {
   "cell_type": "code",
   "execution_count": null,
   "metadata": {},
   "outputs": [],
   "source": [
    "    mdbMatcher = matchDBArtist(maindb)\n",
    "    mdbMatcher.setArtistInfo(artistName, artistID, [\"Bad Blood\"])\n",
    "    #mdbMatcher.findPotentialArtistNameMatches()\n",
    "    mc = mdbMatcher.findPotentialArtistAlbumMatchesByDB('AllMusic')\n",
    "    mcs = mdbMatcher.findPotentialArtistAlbumMatches()"
   ]
  },
  {
   "cell_type": "code",
   "execution_count": null,
   "metadata": {},
   "outputs": [],
   "source": [
    "mdbMatcher = matchDBArtist(maindb)\n",
    "mdbMatcher.setArtistInfo(artistName, artistID, artistAlbums)\n",
    "    mcs    = mdbMatcher.findPotentialArtistAlbumMatches()\n",
    "    retval = [artistName,artistID,mcs]\n"
   ]
  },
  {
   "cell_type": "code",
   "execution_count": null,
   "metadata": {},
   "outputs": [],
   "source": []
  },
  {
   "cell_type": "code",
   "execution_count": null,
   "metadata": {},
   "outputs": [],
   "source": []
  },
  {
   "cell_type": "code",
   "execution_count": null,
   "metadata": {},
   "outputs": [],
   "source": [
    "if False:\n",
    "    mdf = mdbmaps[\"MusicBrainz\"].getDF()\n",
    "    saveFile(idata=list(mdf.T[mdf.T[\"MusicBrainz\"].isna()].index), ifile=\"togetMB.p\")"
   ]
  },
  {
   "cell_type": "code",
   "execution_count": null,
   "metadata": {},
   "outputs": [],
   "source": [
    "if False:\n",
    "    toget   = getFile(ifile=\"togetMB.p\")\n",
    "    #dbm = mdbmc.getDBMatchData(\"MusicBrainz\")\n",
    "    print(len(toget))"
   ]
  },
  {
   "cell_type": "code",
   "execution_count": null,
   "metadata": {},
   "outputs": [],
   "source": [
    "if False:\n",
    "    toMatchs = {}\n",
    "    i = 0\n",
    "    toMatchs[i] = {\"MusicBrainz\": []}\n",
    "    for idx in toget:\n",
    "        val = dbm.get(idx)\n",
    "        if val is not None:\n",
    "            toMatchs[i][\"MusicBrainz\"].append([idx[0],idx[1],albums])\n",
    "            if len(toMatchs[i][\"MusicBrainz\"]) >= 5000:\n",
    "                i+= 1\n",
    "                toMatchs[i] = {\"MusicBrainz\": []}"
   ]
  },
  {
   "cell_type": "code",
   "execution_count": null,
   "metadata": {},
   "outputs": [],
   "source": [
    "if False:\n",
    "    for primaryKey,albums in dbm.items():\n",
    "        idx = primaryKey[1]\n",
    "        if idx in toget:\n",
    "            toMatch[\"MusicBrainz\"].append([primaryKey[0],primaryKey[1],albums])"
   ]
  },
  {
   "cell_type": "code",
   "execution_count": null,
   "metadata": {},
   "outputs": [],
   "source": []
  },
  {
   "cell_type": "code",
   "execution_count": null,
   "metadata": {},
   "outputs": [],
   "source": [
    "#toMatch   = mdbmc.getDataToMatch(\"MusicBrainz\", maxValues=1000, maxAlbums=50)\n",
    "#toMatch"
   ]
  },
  {
   "cell_type": "code",
   "execution_count": null,
   "metadata": {},
   "outputs": [],
   "source": [
    "if False:\n",
    "    mdbmaps[\"AllMusic\"].addArtist(\"Herbert von Karajan\", \"0000031181\")\n",
    "    mdbmaps[\"AllMusic\"].addArtistData(\"Herbert von Karajan\", \"0000031181\", \"AllMusic\", \"0000031181\")\n",
    "\n",
    "    mdbmaps[\"AllMusic\"].addArtist(\"Lata Mangeshkar\", \"0000132940\")\n",
    "    mdbmaps[\"AllMusic\"].addArtistData(\"Lata Mangeshkar\", \"0000132940\", \"AllMusic\", \"0000132940\")\n",
    "\n",
    "    mdbmaps[\"AllMusic\"].save()"
   ]
  },
  {
   "cell_type": "markdown",
   "metadata": {},
   "source": [
    "# Matching Code"
   ]
  },
  {
   "cell_type": "code",
   "execution_count": null,
   "metadata": {},
   "outputs": [],
   "source": [
    "from tqdm import tqdm\n",
    "from multiprocessing import Pool\n",
    "from functools import partial\n",
    "import time\n",
    "\n",
    "def matchDBArtistWithAlbums(item, *args, **kwargs):    \n",
    "    #time.sleep(0.0025)\n",
    "\n",
    "    artistName   = item[0]\n",
    "    artistID     = item[1]\n",
    "    artistAlbums = item[2]\n",
    "    \n",
    "    mdbMatcher = matchDBArtist(maindb)\n",
    "    mdbMatcher.setArtistInfo(artistName, artistID, artistAlbums)\n",
    "    mcs    = mdbMatcher.findPotentialArtistAlbumMatches()\n",
    "    retval = [artistName,artistID,mcs]\n",
    "    return retval\n",
    "    #result = findNearest(name, artists, 1, kwargs['cutoff'])\n",
    "\n",
    "\n",
    "def multiProc(func, argument_list, num_processes):\n",
    "    pool = Pool(processes=num_processes)\n",
    "    result_list_tqdm = []\n",
    "    for result in tqdm(pool.imap(func=func, iterable=argument_list), total=len(argument_list)):\n",
    "        result_list_tqdm.append(result)\n",
    "    return result_list_tqdm\n",
    "\n",
    "\n",
    "\n",
    "def saveMapData(mdbmap, result_list):\n",
    "    for item in result_list:\n",
    "        artistName = item[0]\n",
    "        artistID   = item[1]\n",
    "        mcs        = item[2]\n",
    "        mdbmap.addArtist(artistName, artistID)\n",
    "        for db,mc in mcs.items():\n",
    "            matchID    = mc.matchID\n",
    "            matchScore = mc.matchScore\n",
    "            if matchID is not None:\n",
    "                mdbmap.addArtistData(artistName, artistID, db, matchID)\n",
    "\n",
    "    mdbmap.save()"
   ]
  },
  {
   "cell_type": "code",
   "execution_count": null,
   "metadata": {},
   "outputs": [],
   "source": [
    "for i in range(1):\n",
    "    #for db in [\"AllMusic\", \"MusicBrainz\", \"LastFM\", \"RockCorner\", \"CDandLP\", \"RateYourMusic\", \"MusicStack\"]:\n",
    "    for db in [\"Music\"]: #, \"MusicBrainz\", \"LastFM\", \"RockCorner\", \"CDandLP\", \"RateYourMusic\", \"MusicStack\"]:\n",
    "        mdbmc = masterDBMatchClass(maindb, mdbmaps)\n",
    "        #toMatch   = mdbmc.getDataToMatch(db, maxValues=500, maxAlbums=50000)\n",
    "        \n",
    "        if len(toMatch) == 0:\n",
    "            continue\n",
    "        \n",
    "\n",
    "        num_processes = 3\n",
    "        func = matchDBArtistWithAlbums\n",
    "        pfunc = partial(matchDBArtistWithAlbums, cutoff=0.95) # Giving some arguments for kwargs\n",
    "        #argument_list = list(inputs.items()) # [random.randint(0, 100) for _ in range(num_jobs)]\n",
    "        dbName = list(toMatch.keys())[0]\n",
    "        argument_list = toMatch[dbName]\n",
    "        if len(argument_list) == 0:\n",
    "            break\n",
    "        print(\"Running imap multiprocessing for {0} artists ...\".format(len(argument_list)))\n",
    "        result_list = multiProc(func=pfunc, argument_list=argument_list,\n",
    "                                               num_processes=num_processes)\n",
    "\n",
    "\n",
    "        break\n",
    "        saveMapData(mdbmaps[dbName], result_list)\n",
    "        sleep(10)\n",
    "\n",
    "        #mdbmc.matchMutualMaps()"
   ]
  },
  {
   "cell_type": "code",
   "execution_count": null,
   "metadata": {},
   "outputs": [],
   "source": [
    "result_list"
   ]
  },
  {
   "cell_type": "code",
   "execution_count": null,
   "metadata": {},
   "outputs": [],
   "source": [
    "toMatch"
   ]
  },
  {
   "cell_type": "code",
   "execution_count": null,
   "metadata": {},
   "outputs": [],
   "source": [
    "mbdf = mdbmaps[\"MusicBrainz\"].getDF().T"
   ]
  },
  {
   "cell_type": "code",
   "execution_count": null,
   "metadata": {},
   "outputs": [],
   "source": [
    "maindb.dbdata[\"MusicBrainz\"][\"Utils\"].getArtistID(\"1660fbb6-c55e-4ad3-8342-c424162c30a6\")"
   ]
  },
  {
   "cell_type": "code",
   "execution_count": null,
   "metadata": {},
   "outputs": [],
   "source": [
    "maindb.dbdata[\"MusicBrainz\"][\"Utils\"].getArtistID(\"c685765c-b778-4ed6-9035-8f7088431765\")"
   ]
  },
  {
   "cell_type": "code",
   "execution_count": null,
   "metadata": {},
   "outputs": [],
   "source": [
    "maindb.dbdata[\"MusicBrainz\"][\"Utils\"].getArtistID(\"5bf05dd4-3ac1-4b8b-b9a1-163790d10192\")"
   ]
  },
  {
   "cell_type": "code",
   "execution_count": null,
   "metadata": {},
   "outputs": [],
   "source": [
    "mdbmaps[\"MusicBrainz\"].addArtist(\"The Highwomen\", \"286831209235815715269312378569239355331\")\n",
    "mdbmaps[\"MusicBrainz\"].addArtistData(\"The Highwomen\", \"286831209235815715269312378569239355331\", \"MusicBrainz\", \"286831209235815715269312378569239355331\")\n",
    "mdbmaps[\"MusicBrainz\"].addArtistData(\"The Highwomen\", \"286831209235815715269312378569239355331\", \"AllMusic\", \"0003859078\")\n",
    "mdbmaps[\"MusicBrainz\"].save()"
   ]
  },
  {
   "cell_type": "code",
   "execution_count": null,
   "metadata": {},
   "outputs": [],
   "source": [
    "for idx in mbdf.index:\n",
    "    if idx[0].find(\"Highway\") != -1:\n",
    "        print(idx)"
   ]
  },
  {
   "cell_type": "code",
   "execution_count": null,
   "metadata": {},
   "outputs": [],
   "source": [
    "toget   = getFile(ifile=\"togetMB.p\")\n",
    "for primaryKey in toget:\n",
    "    mdbmaps[\"MusicBrainz\"].removeArtist(primaryKey[0], primaryKey[1])\n",
    "mdbmaps[\"MusicBrainz\"].save()"
   ]
  },
  {
   "cell_type": "code",
   "execution_count": null,
   "metadata": {},
   "outputs": [],
   "source": [
    "if False:\n",
    "    results = {}\n",
    "    for item in matchData[:100]:\n",
    "        print(item[0])\n",
    "        mdbMatcher.setArtistInfo(artistName, artistID, artistAlbums)\n",
    "        #mdbMatcher.findPotentialArtistNameMatches()\n",
    "        #mc = mdbMatcher.findPotentialArtistAlbumMatchesByDB('Discogs')\n",
    "        mcs = mdbMatcher.findPotentialArtistAlbumMatches()\n",
    "        results[(artistName,artistID)] = {db: [mc.matchID, mc.matchScore] for db, mc in mcs.items()}"
   ]
  },
  {
   "cell_type": "code",
   "execution_count": null,
   "metadata": {},
   "outputs": [],
   "source": [
    "df = mdbmap.getDF().T"
   ]
  },
  {
   "cell_type": "code",
   "execution_count": null,
   "metadata": {},
   "outputs": [],
   "source": [
    "from pandas import Series\n",
    "matchData  = mdbmc.getDBMatchData(\"AllMusic\")\n",
    "sortedData = Series({primaryKey: len(albums) for primaryKey,albums in matchData.items()}).sort_values(ascending=False).to_dict()"
   ]
  },
  {
   "cell_type": "code",
   "execution_count": null,
   "metadata": {},
   "outputs": [],
   "source": [
    "sortedData"
   ]
  },
  {
   "cell_type": "code",
   "execution_count": null,
   "metadata": {},
   "outputs": [],
   "source": [
    "matchData"
   ]
  }
 ],
 "metadata": {
  "kernelspec": {
   "display_name": "Python 3",
   "language": "python",
   "name": "python3"
  },
  "language_info": {
   "codemirror_mode": {
    "name": "ipython",
    "version": 3
   },
   "file_extension": ".py",
   "mimetype": "text/x-python",
   "name": "python",
   "nbconvert_exporter": "python",
   "pygments_lexer": "ipython3",
   "version": "3.7.7"
  }
 },
 "nbformat": 4,
 "nbformat_minor": 2
}
