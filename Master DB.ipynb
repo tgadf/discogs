{
 "cells": [
  {
   "cell_type": "markdown",
   "metadata": {},
   "source": [
    "# Master Discogs Database"
   ]
  },
  {
   "cell_type": "code",
   "execution_count": 60,
   "metadata": {},
   "outputs": [
    {
     "name": "stdout",
     "output_type": "stream",
     "text": [
      "The autoreload extension is already loaded. To reload it, use:\n",
      "  %reload_ext autoreload\n"
     ]
    },
    {
     "data": {
      "text/html": [
       "<style>.container { width:100% !important; }</style>"
      ],
      "text/plain": [
       "<IPython.core.display.HTML object>"
      ]
     },
     "metadata": {},
     "output_type": "display_data"
    },
    {
     "data": {
      "text/html": [
       "<style>div.output_area{max-height:10000px;overflow:scroll;}</style>"
      ],
      "text/plain": [
       "<IPython.core.display.HTML object>"
      ]
     },
     "metadata": {},
     "output_type": "display_data"
    },
    {
     "name": "stdout",
     "output_type": "stream",
     "text": [
      "Python: 3.7.3 (default, Mar 27 2019, 16:54:48) \n",
      "[Clang 4.0.1 (tags/RELEASE_401/final)]\n",
      "Notebook Last Run Initiated: 2019-12-14 18:32:23.343038\n"
     ]
    }
   ],
   "source": [
    "## Basic stuff\n",
    "%load_ext autoreload\n",
    "%autoreload\n",
    "from IPython.core.display import display, HTML\n",
    "display(HTML(\"<style>.container { width:100% !important; }</style>\"))\n",
    "display(HTML(\"\"\"<style>div.output_area{max-height:10000px;overflow:scroll;}</style>\"\"\"))\n",
    "\n",
    "## Python Version\n",
    "import sys\n",
    "print(\"Python: {0}\".format(sys.version))\n",
    "\n",
    "from ioUtils import saveJoblib, loadJoblib, saveFile, getFile\n",
    "import urllib\n",
    "from urllib.parse import quote\n",
    "\n",
    "from discogsBase import discogs\n",
    "from discogsUtils import discogsUtils\n",
    "from collection import collections\n",
    "from artist import artist\n",
    "from searchUtils import findExt, findSubExt, findPatternExt\n",
    "from timeUtils import clock, elapsed\n",
    "from fsUtils import moveFile, setFile, setDir, setSubDir, isFile, isDir, mkDir\n",
    "from fileUtils import getFileBasics, getBasename\n",
    "from artists import artists\n",
    "from artist import artist\n",
    "from albums import albums\n",
    "from album import album, albumURLInfo\n",
    "from time import sleep\n",
    "\n",
    "from masterdb import discConv, isKnownAlbum, directoryName\n",
    "\n",
    "import datetime as dt\n",
    "start = dt.datetime.now()\n",
    "print(\"Notebook Last Run Initiated: \"+str(start))"
   ]
  },
  {
   "cell_type": "code",
   "execution_count": 2,
   "metadata": {},
   "outputs": [
    {
     "name": "stdout",
     "output_type": "stream",
     "text": [
      "The autoreload extension is already loaded. To reload it, use:\n",
      "  %reload_ext autoreload\n",
      "Saved Discog Directory /Volumes/Music/Discog is Available\n",
      "Local Discog Directory /Users/tgadfort/Music/Discog is Available\n",
      "/Volumes/Music/Discog/collections exists\n",
      "/Volumes/Music/Discog/artists exists\n",
      "/Volumes/Music/Discog/albums exists\n",
      "/Volumes/Music/Discog/collections-db exists\n",
      "/Volumes/Music/Discog/artists-db exists\n",
      "/Volumes/Music/Discog/albums-db exists\n",
      "/Volumes/Music/Discog/artists-db/metadata exists\n",
      "/Volumes/Music/Discog/albums-db/metadata exists\n",
      "/Volumes/Music/Discog/diagnostic exists\n",
      "/Volumes/Music/Discog/db exists\n"
     ]
    }
   ],
   "source": [
    "%load_ext autoreload\n",
    "%autoreload\n",
    "disc = discogs()\n",
    "arts = artists(disc)\n",
    "art  = artist()\n",
    "albs = albums(disc)\n",
    "alb  = album()\n",
    "dutils = discogsUtils()"
   ]
  },
  {
   "cell_type": "markdown",
   "metadata": {},
   "source": [
    "# Create Dictionary Lookup Files"
   ]
  },
  {
   "cell_type": "markdown",
   "metadata": {},
   "source": [
    "## Artist ID --> Ref and Name"
   ]
  },
  {
   "cell_type": "code",
   "execution_count": 9,
   "metadata": {},
   "outputs": [
    {
     "name": "stdout",
     "output_type": "stream",
     "text": [
      "Current Time is Thu Dec 12, 2019 20:01:20 for Creating Artist DBs\n",
      "/Volumes/Music/Discog/artists-db/metadata/0-Metadata.p  \t0 5799\n",
      "/Volumes/Music/Discog/artists-db/metadata/1-Metadata.p  \t1 11840\n",
      "/Volumes/Music/Discog/artists-db/metadata/10-Metadata.p  \t2 17717\n",
      "/Volumes/Music/Discog/artists-db/metadata/11-Metadata.p  \t3 23668\n",
      "/Volumes/Music/Discog/artists-db/metadata/12-Metadata.p  \t4 29655\n",
      "/Volumes/Music/Discog/artists-db/metadata/13-Metadata.p  \t5 35669\n",
      "/Volumes/Music/Discog/artists-db/metadata/14-Metadata.p  \t6 41527\n",
      "/Volumes/Music/Discog/artists-db/metadata/15-Metadata.p  \t7 47533\n",
      "/Volumes/Music/Discog/artists-db/metadata/16-Metadata.p  \t8 53440\n",
      "/Volumes/Music/Discog/artists-db/metadata/17-Metadata.p  \t9 59434\n",
      "/Volumes/Music/Discog/artists-db/metadata/18-Metadata.p  \t10 65426\n",
      "/Volumes/Music/Discog/artists-db/metadata/19-Metadata.p  \t11 71304\n",
      "/Volumes/Music/Discog/artists-db/metadata/2-Metadata.p  \t12 77191\n",
      "/Volumes/Music/Discog/artists-db/metadata/20-Metadata.p  \t13 83151\n",
      "/Volumes/Music/Discog/artists-db/metadata/21-Metadata.p  \t14 89135\n",
      "/Volumes/Music/Discog/artists-db/metadata/22-Metadata.p  \t15 95066\n",
      "/Volumes/Music/Discog/artists-db/metadata/23-Metadata.p  \t16 100992\n",
      "/Volumes/Music/Discog/artists-db/metadata/24-Metadata.p  \t17 106833\n",
      "/Volumes/Music/Discog/artists-db/metadata/25-Metadata.p  \t18 112756\n",
      "/Volumes/Music/Discog/artists-db/metadata/26-Metadata.p  \t19 118799\n",
      "/Volumes/Music/Discog/artists-db/metadata/27-Metadata.p  \t20 124656\n",
      "/Volumes/Music/Discog/artists-db/metadata/28-Metadata.p  \t21 130594\n",
      "/Volumes/Music/Discog/artists-db/metadata/29-Metadata.p  \t22 136461\n",
      "/Volumes/Music/Discog/artists-db/metadata/3-Metadata.p  \t23 142521\n",
      "/Volumes/Music/Discog/artists-db/metadata/30-Metadata.p  \t24 148429\n",
      "/Volumes/Music/Discog/artists-db/metadata/31-Metadata.p  \t25 154264\n",
      "/Volumes/Music/Discog/artists-db/metadata/32-Metadata.p  \t26 160250\n",
      "/Volumes/Music/Discog/artists-db/metadata/33-Metadata.p  \t27 166208\n",
      "/Volumes/Music/Discog/artists-db/metadata/34-Metadata.p  \t28 172059\n",
      "/Volumes/Music/Discog/artists-db/metadata/35-Metadata.p  \t29 177807\n",
      "/Volumes/Music/Discog/artists-db/metadata/36-Metadata.p  \t30 183827\n",
      "/Volumes/Music/Discog/artists-db/metadata/37-Metadata.p  \t31 189626\n",
      "/Volumes/Music/Discog/artists-db/metadata/38-Metadata.p  \t32 195525\n",
      "/Volumes/Music/Discog/artists-db/metadata/39-Metadata.p  \t33 201359\n",
      "/Volumes/Music/Discog/artists-db/metadata/4-Metadata.p  \t34 207285\n",
      "/Volumes/Music/Discog/artists-db/metadata/40-Metadata.p  \t35 213089\n",
      "/Volumes/Music/Discog/artists-db/metadata/41-Metadata.p  \t36 219074\n",
      "/Volumes/Music/Discog/artists-db/metadata/42-Metadata.p  \t37 224916\n",
      "/Volumes/Music/Discog/artists-db/metadata/43-Metadata.p  \t38 230802\n",
      "/Volumes/Music/Discog/artists-db/metadata/44-Metadata.p  \t39 236549\n",
      "/Volumes/Music/Discog/artists-db/metadata/45-Metadata.p  \t40 242262\n",
      "/Volumes/Music/Discog/artists-db/metadata/46-Metadata.p  \t41 248106\n",
      "/Volumes/Music/Discog/artists-db/metadata/47-Metadata.p  \t42 253793\n",
      "/Volumes/Music/Discog/artists-db/metadata/48-Metadata.p  \t43 259877\n",
      "/Volumes/Music/Discog/artists-db/metadata/49-Metadata.p  \t44 265721\n",
      "/Volumes/Music/Discog/artists-db/metadata/5-Metadata.p  \t45 271537\n",
      "/Volumes/Music/Discog/artists-db/metadata/50-Metadata.p  \t46 277416\n",
      "/Volumes/Music/Discog/artists-db/metadata/51-Metadata.p  \t47 283294\n",
      "/Volumes/Music/Discog/artists-db/metadata/52-Metadata.p  \t48 289312\n",
      "/Volumes/Music/Discog/artists-db/metadata/53-Metadata.p  \t49 295241\n",
      "/Volumes/Music/Discog/artists-db/metadata/54-Metadata.p  \t50 301225\n",
      "/Volumes/Music/Discog/artists-db/metadata/55-Metadata.p  \t51 307175\n",
      "/Volumes/Music/Discog/artists-db/metadata/56-Metadata.p  \t52 313103\n",
      "/Volumes/Music/Discog/artists-db/metadata/57-Metadata.p  \t53 318981\n",
      "/Volumes/Music/Discog/artists-db/metadata/58-Metadata.p  \t54 324860\n",
      "/Volumes/Music/Discog/artists-db/metadata/59-Metadata.p  \t55 330864\n",
      "/Volumes/Music/Discog/artists-db/metadata/6-Metadata.p  \t56 336756\n",
      "/Volumes/Music/Discog/artists-db/metadata/60-Metadata.p  \t57 342681\n",
      "/Volumes/Music/Discog/artists-db/metadata/61-Metadata.p  \t58 348616\n",
      "/Volumes/Music/Discog/artists-db/metadata/62-Metadata.p  \t59 354579\n",
      "/Volumes/Music/Discog/artists-db/metadata/63-Metadata.p  \t60 360535\n",
      "/Volumes/Music/Discog/artists-db/metadata/64-Metadata.p  \t61 366473\n",
      "/Volumes/Music/Discog/artists-db/metadata/65-Metadata.p  \t62 372472\n",
      "/Volumes/Music/Discog/artists-db/metadata/66-Metadata.p  \t63 378415\n",
      "/Volumes/Music/Discog/artists-db/metadata/67-Metadata.p  \t64 384398\n",
      "/Volumes/Music/Discog/artists-db/metadata/68-Metadata.p  \t65 390238\n",
      "/Volumes/Music/Discog/artists-db/metadata/69-Metadata.p  \t66 396126\n",
      "/Volumes/Music/Discog/artists-db/metadata/7-Metadata.p  \t67 401971\n",
      "/Volumes/Music/Discog/artists-db/metadata/70-Metadata.p  \t68 407811\n",
      "/Volumes/Music/Discog/artists-db/metadata/71-Metadata.p  \t69 413645\n",
      "/Volumes/Music/Discog/artists-db/metadata/72-Metadata.p  \t70 419500\n",
      "/Volumes/Music/Discog/artists-db/metadata/73-Metadata.p  \t71 425382\n",
      "/Volumes/Music/Discog/artists-db/metadata/74-Metadata.p  \t72 431336\n",
      "/Volumes/Music/Discog/artists-db/metadata/75-Metadata.p  \t73 437286\n",
      "/Volumes/Music/Discog/artists-db/metadata/76-Metadata.p  \t74 443227\n",
      "/Volumes/Music/Discog/artists-db/metadata/77-Metadata.p  \t75 449140\n",
      "/Volumes/Music/Discog/artists-db/metadata/78-Metadata.p  \t76 455146\n",
      "/Volumes/Music/Discog/artists-db/metadata/79-Metadata.p  \t77 460940\n",
      "/Volumes/Music/Discog/artists-db/metadata/8-Metadata.p  \t78 466812\n",
      "/Volumes/Music/Discog/artists-db/metadata/80-Metadata.p  \t79 472646\n",
      "/Volumes/Music/Discog/artists-db/metadata/81-Metadata.p  \t80 478578\n",
      "/Volumes/Music/Discog/artists-db/metadata/82-Metadata.p  \t81 484480\n",
      "/Volumes/Music/Discog/artists-db/metadata/83-Metadata.p  \t82 490457\n",
      "/Volumes/Music/Discog/artists-db/metadata/84-Metadata.p  \t83 496361\n",
      "/Volumes/Music/Discog/artists-db/metadata/85-Metadata.p  \t84 502215\n",
      "/Volumes/Music/Discog/artists-db/metadata/86-Metadata.p  \t85 508227\n",
      "/Volumes/Music/Discog/artists-db/metadata/87-Metadata.p  \t86 514090\n",
      "/Volumes/Music/Discog/artists-db/metadata/88-Metadata.p  \t87 519877\n",
      "/Volumes/Music/Discog/artists-db/metadata/89-Metadata.p  \t88 525854\n",
      "/Volumes/Music/Discog/artists-db/metadata/9-Metadata.p  \t89 531638\n",
      "/Volumes/Music/Discog/artists-db/metadata/90-Metadata.p  \t90 537339\n",
      "/Volumes/Music/Discog/artists-db/metadata/91-Metadata.p  \t91 543196\n",
      "/Volumes/Music/Discog/artists-db/metadata/92-Metadata.p  \t92 549216\n",
      "/Volumes/Music/Discog/artists-db/metadata/93-Metadata.p  \t93 555019\n",
      "/Volumes/Music/Discog/artists-db/metadata/94-Metadata.p  \t94 560820\n",
      "/Volumes/Music/Discog/artists-db/metadata/95-Metadata.p  \t95 566736\n",
      "/Volumes/Music/Discog/artists-db/metadata/96-Metadata.p  \t96 572552\n",
      "/Volumes/Music/Discog/artists-db/metadata/97-Metadata.p  \t97 578301\n",
      "/Volumes/Music/Discog/artists-db/metadata/98-Metadata.p  \t98 584112\n",
      "/Volumes/Music/Discog/artists-db/metadata/99-Metadata.p  \t99 589990\n",
      "\n",
      "\n",
      "==============================================\n",
      "\n",
      "Saving 589990 entries to /Volumes/Music/Discog/db/ArtistIDToRef.p\n",
      "\n",
      "Saving data to /Volumes/Music/Discog/db/ArtistIDToRef.p\n",
      "  --> This file is 13.3MB.\n",
      "Saved data to /Volumes/Music/Discog/db/ArtistIDToRef.p\n",
      "  --> This file is 13.3MB.\n",
      "Saving 589990 entries to /Volumes/Music/Discog/db/ArtistIDToName.p\n",
      "\n",
      "Saving data to /Volumes/Music/Discog/db/ArtistIDToName.p\n",
      "  --> This file is 11.2MB.\n",
      "Saved data to /Volumes/Music/Discog/db/ArtistIDToName.p\n",
      "  --> This file is 11.2MB.\n",
      "Saving 589990 entries to /Volumes/Music/Discog/db/ArtistIDToVariations.p\n",
      "\n",
      "Saving data to /Volumes/Music/Discog/db/ArtistIDToVariations.p\n",
      "  --> This file is 22.6MB.\n",
      "Saved data to /Volumes/Music/Discog/db/ArtistIDToVariations.p\n",
      "  --> This file is 22.6MB.\n",
      "Current Time is Thu Dec 12, 2019 20:02:36 for Done with Creating Artist DBs\n",
      "Process [{0}] took 1.2 minutes.\n"
     ]
    }
   ],
   "source": [
    "start, cmt = clock(\"Creating Artist DBs\")\n",
    "from searchUtils import findPatternExt\n",
    "\n",
    "artistIDToName       = {}\n",
    "artistIDToRef        = {}\n",
    "artistIDToVariations = {}\n",
    "\n",
    "artistMetadataDBDir = disc.getArtistsMetadataDBDir()\n",
    "files = findPatternExt(artistMetadataDBDir, pattern=\"-Metadata\", ext='.p')\n",
    "\n",
    "for i,ifile in enumerate(files):\n",
    "    print(ifile,' \\t',end=\"\")\n",
    "    db = getFile(ifile)\n",
    "    artistIDToName.update({k: v[0] for k,v in db.items()})\n",
    "    artistIDToRef.update({k: v[1] for k,v in db.items()})    \n",
    "    artistIDToVariations.update({k: v[2] for k,v in db.items()})\n",
    "\n",
    "    print(i,len(artistIDToName))\n",
    "print(\"\\n\\n==============================================\\n\")\n",
    "    \n",
    "savenames = {\"IDToRef\": artistIDToRef, \"IDToName\": artistIDToName, \"IDToVariations\": artistIDToVariations}\n",
    "for basename,savedata in savenames.items():\n",
    "    savename = setFile(disc.getDiscogDBDir(), \"Artist{0}.p\".format(basename))\n",
    "    print(\"Saving {0} entries to {1}\\n\".format(len(savedata), savename))\n",
    "    saveFile(ifile=savename, idata=savedata, debug=True)\n",
    "    \n",
    "elapsed(start, cmt)"
   ]
  },
  {
   "cell_type": "markdown",
   "metadata": {},
   "source": [
    "## Artist ID --> Albums"
   ]
  },
  {
   "cell_type": "code",
   "execution_count": null,
   "metadata": {},
   "outputs": [],
   "source": [
    "start, cmt = clock(\"Creating Artist DBs\")\n",
    "\n",
    "artistIDAlbumNames     = {}\n",
    "artistIDAlbumRefs      = {}\n",
    "artistIDCoreAlbumNames = {}\n",
    "artistIDCoreAlbumRefs  = {}\n",
    "\n",
    "artistMetadataDBDir = disc.getArtistsMetadataDBDir()\n",
    "files = findPatternExt(artistMetadataDBDir, pattern=\"-MediaMetadata\", ext='.p')\n",
    "\n",
    "core = [\"Albums\"]\n",
    "nAllAlbums  = 0\n",
    "nCoreAlbums = 0\n",
    "for i,ifile in enumerate(files):\n",
    "    print(ifile,'\\t',end=\"\")\n",
    "    db = getFile(ifile)\n",
    "    \n",
    "    for j,(artistID,artistData) in enumerate(db.items()):\n",
    "        artistIDAlbumNames[artistID]     = {}\n",
    "        artistIDAlbumRefs[artistID]      = {}\n",
    "        artistIDCoreAlbumNames[artistID] = {}\n",
    "        artistIDCoreAlbumRefs[artistID]  = {}\n",
    "        \n",
    "        for mediaName,mediaData in artistData.items():\n",
    "            artistIDAlbumNames[artistID].update({mediaName: mediaData[0]})\n",
    "            artistIDAlbumRefs[artistID].update({mediaName: mediaData[1]})\n",
    "            nAllAlbums += len(artistIDAlbumNames[artistID].values())\n",
    "            if mediaName in core:\n",
    "                artistIDCoreAlbumNames[artistID].update({mediaName: mediaData[0]})\n",
    "                artistIDCoreAlbumRefs[artistID].update({mediaName: mediaData[1]})\n",
    "                nCoreAlbums += len(artistIDCoreAlbumNames[artistID].values())\n",
    "\n",
    "    print(\"{0: <10}{1: <10}{2: <10}\".format(len(artistIDAlbumNames),nCoreAlbums,nAllAlbums))\n",
    "print(\"\\n\\n==============================================\\n\")\n",
    "    \n",
    "    \n",
    "savenames = {\"IDToAlbumNames\": artistIDAlbumNames, \"IDToAlbumRefs\": artistIDAlbumRefs, \n",
    "             \"IDToCoreAlbumNames\": artistIDCoreAlbumNames, \"IDToCoreAlbumRefs\": artistIDCoreAlbumRefs}\n",
    "for basename,savedata in savenames.items():\n",
    "    savename = setFile(disc.getDiscogDBDir(), \"Artist{0}.p\".format(basename))\n",
    "    print(\"Saving {0} entries to {1}\\n\".format(len(savedata), savename))\n",
    "    saveFile(ifile=savename, idata=savedata, debug=True)\n",
    "    \n",
    "    \n",
    "elapsed(start, cmt)"
   ]
  },
  {
   "cell_type": "markdown",
   "metadata": {},
   "source": [
    "## Artist ID --> Genre, Style, Artists Lookup Table"
   ]
  },
  {
   "cell_type": "code",
   "execution_count": null,
   "metadata": {},
   "outputs": [],
   "source": [
    "start, cmt = clock(\"Creating Artist DBs\")\n",
    "\n",
    "artistIDGenre          = {}\n",
    "artistIDStyle          = {}\n",
    "artistIDCollaborations = {}\n",
    "\n",
    "albumsMetadataDBDir = disc.getAlbumsMetadataDBDir()\n",
    "files = findPatternExt(albumsMetadataDBDir, pattern=\"-ArtistMetadata\", ext='.p')\n",
    "\n",
    "for ifile in files:\n",
    "    print(ifile,'\\t',end=\"\")\n",
    "    for artistID,artistData in getFile(ifile).items():\n",
    "        genre   = artistData['Genre']\n",
    "        artistIDGenre[artistID] = genre\n",
    "        artists = artistData['Artists']\n",
    "        artistIDCollaborations[artistID] = artists\n",
    "        style   = artistData['Style']\n",
    "        artistIDStyle[artistID] = style\n",
    "    print(len(artistIDGenre))\n",
    "print(\"\\n\\n==============================================\\n\")\n",
    "    \n",
    "    \n",
    "savenames = {\"IDToGenre\": artistIDGenre, \"IDToStyle\": artistIDStyle, \"IDToCollaborations\": artistIDCollaborations}\n",
    "for basename,savedata in savenames.items():\n",
    "    savename = setFile(disc.getDiscogDBDir(), \"Artist{0}.p\".format(basename))\n",
    "    print(\"Saving {0} entries to {1}\\n\".format(len(savedata), savename))\n",
    "    saveFile(ifile=savename, idata=savedata, debug=True)   \n",
    "    \n",
    "elapsed(start, cmt)"
   ]
  },
  {
   "cell_type": "markdown",
   "metadata": {},
   "source": [
    "## Album ID --> Name, Ref, Artists Lookup Table"
   ]
  },
  {
   "cell_type": "code",
   "execution_count": null,
   "metadata": {},
   "outputs": [],
   "source": [
    "start, cmt = clock(\"Creating Artist DBs\")\n",
    "\n",
    "albumIDToName    = {}\n",
    "albumIDToRef     = {}\n",
    "albumIDToArtists = {}\n",
    "    \n",
    "albumsMetadataDBDir = disc.getAlbumsMetadataDBDir()\n",
    "files = findPatternExt(albumsMetadataDBDir, pattern=\"-ArtistAlbums\", ext='.p')\n",
    "for ifile in files:\n",
    "    print(ifile,'\\t',end=\"\")\n",
    "    for artistID,artistData in getFile(ifile).items():\n",
    "        for albumID,albumData in artistData.items():\n",
    "            albumName    = albumData[0]\n",
    "            albumRef     = albumData[1]\n",
    "            albumCountry = albumData[2].most_common(1)[0]\n",
    "            albumYear    = albumData[3].most_common(1)[0]\n",
    "\n",
    "            \n",
    "            albumIDToName[albumID] = albumName\n",
    "            albumIDToRef[albumID]  = albumRef\n",
    "\n",
    "            if albumIDToArtists.get(albumID) is None:                \n",
    "                albumIDToArtists[albumID] = []\n",
    "            albumIDToArtists[albumID].append(artistID)\n",
    "    print(len(albumIDToArtists))\n",
    "print(\"\\n\\n==============================================\\n\")\n",
    "\n",
    "for albumID in albumIDToArtists.keys():\n",
    "    albumIDToArtists[albumID] = list(set(albumIDToArtists[albumID]))\n",
    "print(\"\\n\\n==============================================\\n\")\n",
    "\n",
    "    \n",
    "savenames = {\"IDToName\": albumIDToName, \"IDToRef\": albumIDToRef, \"IDToArtists\": albumIDToArtists}\n",
    "for basename,savedata in savenames.items():\n",
    "    savename = setFile(disc.getDiscogDBDir(), \"Album{0}.p\".format(basename))\n",
    "    print(\"Saving {0} entries to {1}\\n\".format(len(savedata), savename))\n",
    "    saveFile(ifile=savename, idata=savedata, debug=True) \n",
    "    \n",
    "elapsed(start, cmt)"
   ]
  },
  {
   "cell_type": "markdown",
   "metadata": {},
   "source": [
    "# Master Lookup Tests"
   ]
  },
  {
   "cell_type": "code",
   "execution_count": null,
   "metadata": {},
   "outputs": [],
   "source": [
    "print(\"Testing ArtistID --> Name\")\n",
    "discdf = disc.getArtistIDToNameData()\n",
    "print(\"\\tDim = {0}\".format(len(discdf)))\n",
    "print(\"\")\n",
    "\n",
    "print(\"Testing ArtistID --> Ref\")\n",
    "discdf = disc.getArtistIDToRefData()\n",
    "print(\"\\tDim = {0}\".format(len(discdf)))\n",
    "print(\"\")\n",
    "\n",
    "print(\"Testing ArtistID --> Variations\")\n",
    "discdf = disc.getArtistIDToRefData()\n",
    "print(\"\\tDim = {0}\".format(len(discdf)))\n",
    "print(\"\")"
   ]
  },
  {
   "cell_type": "code",
   "execution_count": null,
   "metadata": {},
   "outputs": [],
   "source": [
    "print(\"Testing ArtistID --> Genre\")\n",
    "discdf = disc.getArtistIDToGenreData()\n",
    "print(\"\\tDim = {0}\".format(len(discdf)))\n",
    "print(\"\")\n",
    "\n",
    "print(\"Testing ArtistID --> Style\")\n",
    "discdf = disc.getArtistIDToStyleData()\n",
    "print(\"\\tDim = {0}\".format(len(discdf)))\n",
    "print(\"\")\n",
    "\n",
    "print(\"Testing ArtistID --> Collaborations\")\n",
    "discdf = disc.getArtistIDToCollaborationData()\n",
    "print(\"\\tDim = {0}\".format(len(discdf)))\n",
    "print(\"\")"
   ]
  },
  {
   "cell_type": "code",
   "execution_count": null,
   "metadata": {},
   "outputs": [],
   "source": [
    "print(\"Testing ArtistID --> Album Names\")\n",
    "discdf = disc.getArtistIDToAlbumNamesData()\n",
    "print(\"\\tDim = {0}\".format(len(discdf)))\n",
    "print(\"\")\n",
    "\n",
    "print(\"Testing ArtistID --> Album Refs\")\n",
    "discdf = disc.getArtistIDToAlbumRefsData()\n",
    "print(\"\\tDim = {0}\".format(len(discdf)))\n",
    "print(\"\")\n",
    "\n",
    "print(\"Testing ArtistID --> Core Album Names\")\n",
    "discdf = disc.getArtistIDToCoreAlbumNamesData()\n",
    "print(\"\\tDim = {0}\".format(len(discdf)))\n",
    "print(\"\")\n",
    "\n",
    "print(\"Testing ArtistID --> Core Album Refs\")\n",
    "discdf = disc.getArtistIDToCoreAlbumRefsData()\n",
    "print(\"\\tDim = {0}\".format(len(discdf)))\n",
    "print(\"\")"
   ]
  },
  {
   "cell_type": "code",
   "execution_count": null,
   "metadata": {},
   "outputs": [],
   "source": [
    "print(\"Testing AlbumID --> Album Names\")\n",
    "discdf = disc.getAlbumIDToNameData()\n",
    "print(\"\\tDim = {0}\".format(len(discdf)))\n",
    "print(\"\")\n",
    "\n",
    "print(\"Testing AlbumID --> Album Refs\")\n",
    "discdf = disc.getAlbumIDToRefData()\n",
    "print(\"\\tDim = {0}\".format(len(discdf)))\n",
    "print(\"\")\n",
    "\n",
    "print(\"Testing AlbumID --> Artists\")\n",
    "discdf = disc.getAlbumIDToArtistsData()\n",
    "print(\"\\tDim = {0}\".format(len(discdf)))\n",
    "print(\"\")"
   ]
  },
  {
   "cell_type": "markdown",
   "metadata": {},
   "source": [
    "# Pandas DB"
   ]
  },
  {
   "cell_type": "markdown",
   "metadata": {},
   "source": [
    "## Slim Artist DB"
   ]
  },
  {
   "cell_type": "code",
   "execution_count": 24,
   "metadata": {},
   "outputs": [],
   "source": [
    "from masterdb import getSlimArtistDB"
   ]
  },
  {
   "cell_type": "code",
   "execution_count": 25,
   "metadata": {},
   "outputs": [
    {
     "name": "stdout",
     "output_type": "stream",
     "text": [
      "Current Time is Sat Dec 14, 2019 17:41:14 for \n",
      "=================================== Creating Artist DB ===================================\n",
      "Loading ArtistID Data\n",
      "Loading data from /Volumes/Music/Discog/db/ArtistIDToName.p\n",
      "  --> This file is 11.2MB.\n",
      "Loading /Volumes/Music/Discog/db/ArtistIDToName.p\n",
      "Loading data from /Volumes/Music/Discog/db/ArtistIDToRef.p\n",
      "  --> This file is 13.3MB.\n",
      "Loading /Volumes/Music/Discog/db/ArtistIDToRef.p\n",
      "Creating Pandas DataFrame for 589990 Artists\n",
      "\tShape --> (589990, 1)\n",
      "  Finding Real Artist Name\n",
      "\tShape --> (589990, 3)\n",
      "  Removing None Artist\n",
      "\tShape --> (589990, 3)\n",
      "  Finding Disc Artist Name\n",
      "\tShape --> (589990, 4)\n",
      "DataFrame Shape is (589990, 4)\n",
      "Current Time is Sat Dec 14, 2019 17:41:30 for Done with \n",
      "=================================== Creating Artist DB ===================================\n",
      "Process [{0}] took 16 seconds.\n",
      "Saving Master Artist DB File\n",
      "  --> This file is 47.0MB.\n"
     ]
    },
    {
     "data": {
      "text/html": [
       "<div>\n",
       "<style scoped>\n",
       "    .dataframe tbody tr th:only-of-type {\n",
       "        vertical-align: middle;\n",
       "    }\n",
       "\n",
       "    .dataframe tbody tr th {\n",
       "        vertical-align: top;\n",
       "    }\n",
       "\n",
       "    .dataframe thead th {\n",
       "        text-align: right;\n",
       "    }\n",
       "</style>\n",
       "<table border=\"1\" class=\"dataframe\">\n",
       "  <thead>\n",
       "    <tr style=\"text-align: right;\">\n",
       "      <th></th>\n",
       "      <th>Name</th>\n",
       "      <th>Artist</th>\n",
       "      <th>Num</th>\n",
       "      <th>DiscArtist</th>\n",
       "    </tr>\n",
       "  </thead>\n",
       "  <tbody>\n",
       "    <tr>\n",
       "      <th>1000</th>\n",
       "      <td>Dave Clarke</td>\n",
       "      <td>Dave Clarke</td>\n",
       "      <td>NaN</td>\n",
       "      <td>Dave Clarke</td>\n",
       "    </tr>\n",
       "    <tr>\n",
       "      <th>1000500</th>\n",
       "      <td>Club Pulse</td>\n",
       "      <td>Club Pulse</td>\n",
       "      <td>NaN</td>\n",
       "      <td>Club Pulse</td>\n",
       "    </tr>\n",
       "    <tr>\n",
       "      <th>100200</th>\n",
       "      <td>Dike</td>\n",
       "      <td>Dike</td>\n",
       "      <td>NaN</td>\n",
       "      <td>Dike</td>\n",
       "    </tr>\n",
       "    <tr>\n",
       "      <th>1002000</th>\n",
       "      <td>Larry Stokes</td>\n",
       "      <td>Larry Stokes</td>\n",
       "      <td>NaN</td>\n",
       "      <td>Larry Stokes</td>\n",
       "    </tr>\n",
       "    <tr>\n",
       "      <th>1002600</th>\n",
       "      <td>Gidd Sanchez</td>\n",
       "      <td>Gidd Sanchez</td>\n",
       "      <td>NaN</td>\n",
       "      <td>Gidd Sanchez</td>\n",
       "    </tr>\n",
       "  </tbody>\n",
       "</table>\n",
       "</div>"
      ],
      "text/plain": [
       "                 Name        Artist  Num    DiscArtist\n",
       "1000      Dave Clarke   Dave Clarke  NaN   Dave Clarke\n",
       "1000500    Club Pulse    Club Pulse  NaN    Club Pulse\n",
       "100200           Dike          Dike  NaN          Dike\n",
       "1002000  Larry Stokes  Larry Stokes  NaN  Larry Stokes\n",
       "1002600  Gidd Sanchez  Gidd Sanchez  NaN  Gidd Sanchez"
      ]
     },
     "execution_count": 25,
     "metadata": {},
     "output_type": "execute_result"
    }
   ],
   "source": [
    "discSlimArtistDB = getSlimArtistDB(disc)\n",
    "discSlimArtistDB.head()"
   ]
  },
  {
   "cell_type": "markdown",
   "metadata": {},
   "source": [
    "## Artist DB"
   ]
  },
  {
   "cell_type": "code",
   "execution_count": 29,
   "metadata": {},
   "outputs": [],
   "source": [
    "from masterdb import getArtistDB"
   ]
  },
  {
   "cell_type": "code",
   "execution_count": 31,
   "metadata": {},
   "outputs": [
    {
     "name": "stdout",
     "output_type": "stream",
     "text": [
      "Current Time is Sat Dec 14, 2019 17:44:20 for \n",
      "=================================== Creating Artist DB ===================================\n",
      "Loading ArtistID Data\n",
      "Loading data from /Volumes/Music/Discog/db/ArtistIDToName.p\n",
      "  --> This file is 11.2MB.\n",
      "Loading /Volumes/Music/Discog/db/ArtistIDToName.p\n",
      "Loading data from /Volumes/Music/Discog/db/ArtistIDToRef.p\n",
      "  --> This file is 13.3MB.\n",
      "Loading /Volumes/Music/Discog/db/ArtistIDToRef.p\n",
      "Loading data from /Volumes/Music/Discog/db/ArtistIDToVariations.p\n",
      "  --> This file is 22.6MB.\n",
      "Loading /Volumes/Music/Discog/db/ArtistIDToVariations.p\n",
      "Creating Pandas DataFrame for 589990 Artists\n",
      "\tShape --> (589990, 1)\n",
      "  Joining Ref\n",
      "\tShape --> (589990, 2)\n",
      "  Joining Variations\n",
      "\tShape --> (589990, 3)\n",
      "  Finding Real Artist Name\n",
      "\tShape --> (589990, 6)\n",
      "DataFrame Shape is (589990, 6)\n",
      "Current Time is Sat Dec 14, 2019 17:44:53 for Done with \n",
      "=================================== Creating Artist DB ===================================\n",
      "Process [{0}] took 32 seconds.\n",
      "Saving Master Artist DB File\n",
      "  --> This file is 88.9MB.\n"
     ]
    },
    {
     "data": {
      "text/html": [
       "<div>\n",
       "<style scoped>\n",
       "    .dataframe tbody tr th:only-of-type {\n",
       "        vertical-align: middle;\n",
       "    }\n",
       "\n",
       "    .dataframe tbody tr th {\n",
       "        vertical-align: top;\n",
       "    }\n",
       "\n",
       "    .dataframe thead th {\n",
       "        text-align: right;\n",
       "    }\n",
       "</style>\n",
       "<table border=\"1\" class=\"dataframe\">\n",
       "  <thead>\n",
       "    <tr style=\"text-align: right;\">\n",
       "      <th></th>\n",
       "      <th>Name</th>\n",
       "      <th>Ref</th>\n",
       "      <th>Variations</th>\n",
       "      <th>Known</th>\n",
       "      <th>Artist</th>\n",
       "      <th>Num</th>\n",
       "    </tr>\n",
       "  </thead>\n",
       "  <tbody>\n",
       "    <tr>\n",
       "      <th>1000</th>\n",
       "      <td>Dave Clarke</td>\n",
       "      <td>/artist/1000-Dave-Clarke</td>\n",
       "      <td>[Dave Clarke, 7 Red 7, Clarck, Clarke, Clarke,...</td>\n",
       "      <td>True</td>\n",
       "      <td>Dave Clarke</td>\n",
       "      <td>NaN</td>\n",
       "    </tr>\n",
       "    <tr>\n",
       "      <th>1000500</th>\n",
       "      <td>Club Pulse</td>\n",
       "      <td>/artist/1000500-Club-Pulse</td>\n",
       "      <td>[Club Pulse]</td>\n",
       "      <td>True</td>\n",
       "      <td>Club Pulse</td>\n",
       "      <td>NaN</td>\n",
       "    </tr>\n",
       "    <tr>\n",
       "      <th>100200</th>\n",
       "      <td>Dike</td>\n",
       "      <td>/artist/100200-Dike</td>\n",
       "      <td>[Dike, D.I.K.E., Dike D, Uchegdu]</td>\n",
       "      <td>True</td>\n",
       "      <td>Dike</td>\n",
       "      <td>NaN</td>\n",
       "    </tr>\n",
       "    <tr>\n",
       "      <th>1002000</th>\n",
       "      <td>Larry Stokes</td>\n",
       "      <td>/artist/1002000-Larry-Stokes</td>\n",
       "      <td>[Larry Stokes]</td>\n",
       "      <td>True</td>\n",
       "      <td>Larry Stokes</td>\n",
       "      <td>NaN</td>\n",
       "    </tr>\n",
       "    <tr>\n",
       "      <th>1002600</th>\n",
       "      <td>Gidd Sanchez</td>\n",
       "      <td>/artist/1002600-Gidd-Sanchez</td>\n",
       "      <td>[Gidd Sanchez]</td>\n",
       "      <td>True</td>\n",
       "      <td>Gidd Sanchez</td>\n",
       "      <td>NaN</td>\n",
       "    </tr>\n",
       "  </tbody>\n",
       "</table>\n",
       "</div>"
      ],
      "text/plain": [
       "                 Name                           Ref  \\\n",
       "1000      Dave Clarke      /artist/1000-Dave-Clarke   \n",
       "1000500    Club Pulse    /artist/1000500-Club-Pulse   \n",
       "100200           Dike           /artist/100200-Dike   \n",
       "1002000  Larry Stokes  /artist/1002000-Larry-Stokes   \n",
       "1002600  Gidd Sanchez  /artist/1002600-Gidd-Sanchez   \n",
       "\n",
       "                                                Variations  Known  \\\n",
       "1000     [Dave Clarke, 7 Red 7, Clarck, Clarke, Clarke,...   True   \n",
       "1000500                                       [Club Pulse]   True   \n",
       "100200                   [Dike, D.I.K.E., Dike D, Uchegdu]   True   \n",
       "1002000                                     [Larry Stokes]   True   \n",
       "1002600                                     [Gidd Sanchez]   True   \n",
       "\n",
       "               Artist  Num  \n",
       "1000      Dave Clarke  NaN  \n",
       "1000500    Club Pulse  NaN  \n",
       "100200           Dike  NaN  \n",
       "1002000  Larry Stokes  NaN  \n",
       "1002600  Gidd Sanchez  NaN  "
      ]
     },
     "execution_count": 31,
     "metadata": {},
     "output_type": "execute_result"
    }
   ],
   "source": [
    "discArtistDB = getArtistDB(disc)\n",
    "discArtistDB.head()"
   ]
  },
  {
   "cell_type": "markdown",
   "metadata": {},
   "source": [
    "## Artist Metadata DB"
   ]
  },
  {
   "cell_type": "code",
   "execution_count": 34,
   "metadata": {},
   "outputs": [],
   "source": [
    "from masterdb import getArtistMetadataDB"
   ]
  },
  {
   "cell_type": "code",
   "execution_count": 35,
   "metadata": {},
   "outputs": [
    {
     "name": "stdout",
     "output_type": "stream",
     "text": [
      "Current Time is Sat Dec 14, 2019 17:47:09 for \n",
      "=================================== Creating Artist Metadata DB ===================================\n",
      "Loading ArtistID Data\n",
      "Loading data from /Volumes/Music/Discog/db/ArtistIDToGenre.p\n",
      "  --> This file is 9.3MB.\n",
      "Loading /Volumes/Music/Discog/db/ArtistIDToGenre.p\n",
      "Loading data from /Volumes/Music/Discog/db/ArtistIDToStyle.p\n",
      "  --> This file is 13.6MB.\n",
      "Loading /Volumes/Music/Discog/db/ArtistIDToStyle.p\n",
      "Loading data from /Volumes/Music/Discog/db/ArtistIDToCollaborations.p\n",
      "  --> This file is 30.4MB.\n",
      "Loading /Volumes/Music/Discog/db/ArtistIDToCollaborations.p\n",
      "Creating Pandas DataFrame for 442853 Artists\n",
      "\tShape --> (442853, 1)\n",
      "  Joining Style\n",
      "\tShape --> (442853, 2)\n",
      "  Joining Collaboration\n",
      "\tShape --> (442853, 3)\n",
      "DataFrame Shape is (442853, 3)\n",
      "Current Time is Sat Dec 14, 2019 17:48:11 for Done with \n",
      "=================================== Creating Artist Metadata DB ===================================\n",
      "Process [{0}] took 1.0 minutes.\n",
      "Saving Master Artist Metadata DB File\n",
      "  --> This file is 90.5MB.\n"
     ]
    },
    {
     "data": {
      "text/html": [
       "<div>\n",
       "<style scoped>\n",
       "    .dataframe tbody tr th:only-of-type {\n",
       "        vertical-align: middle;\n",
       "    }\n",
       "\n",
       "    .dataframe tbody tr th {\n",
       "        vertical-align: top;\n",
       "    }\n",
       "\n",
       "    .dataframe thead th {\n",
       "        text-align: right;\n",
       "    }\n",
       "</style>\n",
       "<table border=\"1\" class=\"dataframe\">\n",
       "  <thead>\n",
       "    <tr style=\"text-align: right;\">\n",
       "      <th></th>\n",
       "      <th>Genre</th>\n",
       "      <th>Style</th>\n",
       "      <th>Collaboration</th>\n",
       "    </tr>\n",
       "  </thead>\n",
       "  <tbody>\n",
       "    <tr>\n",
       "      <th>1000</th>\n",
       "      <td>{'Electronic': 53, 'Hip Hop': 1, 'Non-Music': ...</td>\n",
       "      <td>{'Techno': 45, 'Electro': 16, 'Downtempo': 1, ...</td>\n",
       "      <td>{'Dave Clarke': 52, 'Bang The Future': 1, 'Mr....</td>\n",
       "    </tr>\n",
       "    <tr>\n",
       "      <th>1000500</th>\n",
       "      <td>{'Electronic': 1}</td>\n",
       "      <td>{'Progressive Trance': 1}</td>\n",
       "      <td>{'Club Pulse': 1}</td>\n",
       "    </tr>\n",
       "    <tr>\n",
       "      <th>100200</th>\n",
       "      <td>{'Hip Hop': 11}</td>\n",
       "      <td>{'Conscious': 7, 'Pop Rap': 2, '': 3}</td>\n",
       "      <td>{'Dike': 11, 'ABS (2)': 2, 'Creutzfeld&amp;Jakob':...</td>\n",
       "    </tr>\n",
       "    <tr>\n",
       "      <th>1002000</th>\n",
       "      <td>{}</td>\n",
       "      <td>{}</td>\n",
       "      <td>{}</td>\n",
       "    </tr>\n",
       "    <tr>\n",
       "      <th>1005400</th>\n",
       "      <td>{'Rock': 5}</td>\n",
       "      <td>{'Alternative Rock': 1, 'Indie Rock': 1, 'Math...</td>\n",
       "      <td>{'Gapeseed': 5, 'Gerling': 1}</td>\n",
       "    </tr>\n",
       "  </tbody>\n",
       "</table>\n",
       "</div>"
      ],
      "text/plain": [
       "                                                     Genre  \\\n",
       "1000     {'Electronic': 53, 'Hip Hop': 1, 'Non-Music': ...   \n",
       "1000500                                  {'Electronic': 1}   \n",
       "100200                                     {'Hip Hop': 11}   \n",
       "1002000                                                 {}   \n",
       "1005400                                        {'Rock': 5}   \n",
       "\n",
       "                                                     Style  \\\n",
       "1000     {'Techno': 45, 'Electro': 16, 'Downtempo': 1, ...   \n",
       "1000500                          {'Progressive Trance': 1}   \n",
       "100200               {'Conscious': 7, 'Pop Rap': 2, '': 3}   \n",
       "1002000                                                 {}   \n",
       "1005400  {'Alternative Rock': 1, 'Indie Rock': 1, 'Math...   \n",
       "\n",
       "                                             Collaboration  \n",
       "1000     {'Dave Clarke': 52, 'Bang The Future': 1, 'Mr....  \n",
       "1000500                                  {'Club Pulse': 1}  \n",
       "100200   {'Dike': 11, 'ABS (2)': 2, 'Creutzfeld&Jakob':...  \n",
       "1002000                                                 {}  \n",
       "1005400                      {'Gapeseed': 5, 'Gerling': 1}  "
      ]
     },
     "execution_count": 35,
     "metadata": {},
     "output_type": "execute_result"
    }
   ],
   "source": [
    "discArtistMetadataDB = getArtistMetadataDB(disc)\n",
    "discArtistMetadataDB.head()"
   ]
  },
  {
   "cell_type": "markdown",
   "metadata": {},
   "source": [
    "## Artist Albums DB"
   ]
  },
  {
   "cell_type": "code",
   "execution_count": 37,
   "metadata": {},
   "outputs": [],
   "source": [
    "from masterdb import getArtistAlbumsDB"
   ]
  },
  {
   "cell_type": "code",
   "execution_count": 39,
   "metadata": {},
   "outputs": [
    {
     "name": "stdout",
     "output_type": "stream",
     "text": [
      "Current Time is Sat Dec 14, 2019 17:50:16 for \n",
      "=================================== Creating Artist Albums DB ===================================\n",
      "Loading ArtistID Data\n",
      "Loading data from /Volumes/Music/Discog/db/ArtistIDToAlbumNames.p\n",
      "  --> This file is 168.0MB.\n",
      "Loading /Volumes/Music/Discog/db/ArtistIDToAlbumNames.p\n",
      "Creating Pandas DataFrame for 589677 Artists\n",
      "\tShape --> (589677, 1)\n",
      "DataFrame Shape is (589677, 1)\n",
      "Current Time is Sat Dec 14, 2019 17:51:53 for Done with \n",
      "=================================== Creating Artist Albums DB ===================================\n",
      "Process [{0}] took 1.6 minutes.\n"
     ]
    },
    {
     "data": {
      "text/html": [
       "<div>\n",
       "<style scoped>\n",
       "    .dataframe tbody tr th:only-of-type {\n",
       "        vertical-align: middle;\n",
       "    }\n",
       "\n",
       "    .dataframe tbody tr th {\n",
       "        vertical-align: top;\n",
       "    }\n",
       "\n",
       "    .dataframe thead th {\n",
       "        text-align: right;\n",
       "    }\n",
       "</style>\n",
       "<table border=\"1\" class=\"dataframe\">\n",
       "  <thead>\n",
       "    <tr style=\"text-align: right;\">\n",
       "      <th></th>\n",
       "      <th>Albums</th>\n",
       "    </tr>\n",
       "  </thead>\n",
       "  <tbody>\n",
       "    <tr>\n",
       "      <th>1000</th>\n",
       "      <td>{'Albums': {'44815': 'Archive One', '44831': '...</td>\n",
       "    </tr>\n",
       "    <tr>\n",
       "      <th>1000500</th>\n",
       "      <td>{'Miscellaneous': {'1178875': 'Peak Controller'}}</td>\n",
       "    </tr>\n",
       "    <tr>\n",
       "      <th>100200</th>\n",
       "      <td>{'Albums': {'50511': 'PottpÃ¼ree'}, 'Singles &amp;...</td>\n",
       "    </tr>\n",
       "    <tr>\n",
       "      <th>1002000</th>\n",
       "      <td>{'Instruments &amp; Performance': {'1002108': 'Are...</td>\n",
       "    </tr>\n",
       "    <tr>\n",
       "      <th>1002600</th>\n",
       "      <td>{'Vocals': {'1180905': 'Quiero'}}</td>\n",
       "    </tr>\n",
       "  </tbody>\n",
       "</table>\n",
       "</div>"
      ],
      "text/plain": [
       "                                                    Albums\n",
       "1000     {'Albums': {'44815': 'Archive One', '44831': '...\n",
       "1000500  {'Miscellaneous': {'1178875': 'Peak Controller'}}\n",
       "100200   {'Albums': {'50511': 'PottpÃ¼ree'}, 'Singles &...\n",
       "1002000  {'Instruments & Performance': {'1002108': 'Are...\n",
       "1002600                  {'Vocals': {'1180905': 'Quiero'}}"
      ]
     },
     "execution_count": 39,
     "metadata": {},
     "output_type": "execute_result"
    }
   ],
   "source": [
    "discArtistAlbumsDB = getArtistAlbumsDB(disc)\n",
    "discArtistAlbumsDB.head()"
   ]
  },
  {
   "cell_type": "markdown",
   "metadata": {},
   "source": [
    "## Albums DB"
   ]
  },
  {
   "cell_type": "code",
   "execution_count": 45,
   "metadata": {},
   "outputs": [],
   "source": [
    "from masterdb import getAlbumDB"
   ]
  },
  {
   "cell_type": "code",
   "execution_count": 46,
   "metadata": {},
   "outputs": [
    {
     "name": "stdout",
     "output_type": "stream",
     "text": [
      "Current Time is Sat Dec 14, 2019 17:53:02 for \n",
      "=================================== Creating Artist Album DB ===================================\n",
      "Loading AlbumID Data\n",
      "Loading data from /Volumes/Music/Discog/db/AlbumIDToName.p\n",
      "  --> This file is 31.9MB.\n",
      "Loading /Volumes/Music/Discog/db/AlbumIDToName.p\n",
      "Loading data from /Volumes/Music/Discog/db/AlbumIDToRef.p\n",
      "  --> This file is 44.8MB.\n",
      "Loading /Volumes/Music/Discog/db/AlbumIDToRef.p\n",
      "Loading data from /Volumes/Music/Discog/db/AlbumIDToArtists.p\n",
      "  --> This file is 18.1MB.\n",
      "Loading /Volumes/Music/Discog/db/AlbumIDToArtists.p\n",
      "Creating Pandas DataFrame for 1372657 Albums\n",
      "\tShape --> (1372657, 1)\n",
      "  Joining Ref\n",
      "\tShape --> (1372657, 2)\n",
      "  Joining Artists\n",
      "\tShape --> (1372657, 3)\n",
      "DataFrame Shape is (1372657, 3)\n",
      "Current Time is Sat Dec 14, 2019 17:54:02 for Done with \n",
      "=================================== Creating Artist Album DB ===================================\n",
      "Process [{0}] took 59 seconds.\n"
     ]
    },
    {
     "data": {
      "text/html": [
       "<div>\n",
       "<style scoped>\n",
       "    .dataframe tbody tr th:only-of-type {\n",
       "        vertical-align: middle;\n",
       "    }\n",
       "\n",
       "    .dataframe tbody tr th {\n",
       "        vertical-align: top;\n",
       "    }\n",
       "\n",
       "    .dataframe thead th {\n",
       "        text-align: right;\n",
       "    }\n",
       "</style>\n",
       "<table border=\"1\" class=\"dataframe\">\n",
       "  <thead>\n",
       "    <tr style=\"text-align: right;\">\n",
       "      <th></th>\n",
       "      <th>Name</th>\n",
       "      <th>Ref</th>\n",
       "      <th>Artists</th>\n",
       "    </tr>\n",
       "  </thead>\n",
       "  <tbody>\n",
       "    <tr>\n",
       "      <th>1012077</th>\n",
       "      <td>Live</td>\n",
       "      <td>/Dave-Clarke-Live/master/1012077</td>\n",
       "      <td>[1000]</td>\n",
       "    </tr>\n",
       "    <tr>\n",
       "      <th>1258261</th>\n",
       "      <td>Walls Of Genius And Miracle</td>\n",
       "      <td>/Walls-Of-Genius-and-Miracle-Walls-Of-Genius-A...</td>\n",
       "      <td>[1009227, 1000, 182635]</td>\n",
       "    </tr>\n",
       "    <tr>\n",
       "      <th>2546978</th>\n",
       "      <td>RA.EX007 Dave Clarke</td>\n",
       "      <td>/Dave-Clarke-RAEX007-Dave-Clarke/release/2546978</td>\n",
       "      <td>[1000]</td>\n",
       "    </tr>\n",
       "    <tr>\n",
       "      <th>44815</th>\n",
       "      <td>Archive One</td>\n",
       "      <td>/Dave-Clarke-Archive-One/master/44815</td>\n",
       "      <td>[1000]</td>\n",
       "    </tr>\n",
       "    <tr>\n",
       "      <th>44831</th>\n",
       "      <td>Devil's Advocate</td>\n",
       "      <td>/Dave-Clarke-Devils-Advocate/master/44831</td>\n",
       "      <td>[1000]</td>\n",
       "    </tr>\n",
       "  </tbody>\n",
       "</table>\n",
       "</div>"
      ],
      "text/plain": [
       "                                Name  \\\n",
       "1012077                         Live   \n",
       "1258261  Walls Of Genius And Miracle   \n",
       "2546978         RA.EX007 Dave Clarke   \n",
       "44815                    Archive One   \n",
       "44831               Devil's Advocate   \n",
       "\n",
       "                                                       Ref  \\\n",
       "1012077                   /Dave-Clarke-Live/master/1012077   \n",
       "1258261  /Walls-Of-Genius-and-Miracle-Walls-Of-Genius-A...   \n",
       "2546978   /Dave-Clarke-RAEX007-Dave-Clarke/release/2546978   \n",
       "44815                /Dave-Clarke-Archive-One/master/44815   \n",
       "44831            /Dave-Clarke-Devils-Advocate/master/44831   \n",
       "\n",
       "                         Artists  \n",
       "1012077                   [1000]  \n",
       "1258261  [1009227, 1000, 182635]  \n",
       "2546978                   [1000]  \n",
       "44815                     [1000]  \n",
       "44831                     [1000]  "
      ]
     },
     "execution_count": 46,
     "metadata": {},
     "output_type": "execute_result"
    }
   ],
   "source": [
    "discAlbumDB = getAlbumDB(disc)\n",
    "discAlbumDB.head()"
   ]
  },
  {
   "cell_type": "markdown",
   "metadata": {},
   "source": [
    "## Artist Album ID --> Known Albums"
   ]
  },
  {
   "cell_type": "code",
   "execution_count": 55,
   "metadata": {},
   "outputs": [
    {
     "name": "stdout",
     "output_type": "stream",
     "text": [
      "The autoreload extension is already loaded. To reload it, use:\n",
      "  %reload_ext autoreload\n"
     ]
    }
   ],
   "source": [
    "from masterdb import getArtistAlbumKnownDB"
   ]
  },
  {
   "cell_type": "code",
   "execution_count": 56,
   "metadata": {},
   "outputs": [
    {
     "name": "stdout",
     "output_type": "stream",
     "text": [
      "Current Time is Sat Dec 14, 2019 18:29:20 for \n",
      "=================================== Creating Artist Album DB ===================================\n",
      "Creating Pandas DataFrame for 589677 Arist Albums\n",
      "\tShape --> (589677, 3)\n",
      "DataFrame Shape is (589677, 3)\n",
      "Current Time is Sat Dec 14, 2019 18:29:51 for Done with \n",
      "=================================== Creating Artist Album DB ===================================\n",
      "Process [{0}] took 31 seconds.\n"
     ]
    },
    {
     "data": {
      "text/html": [
       "<div>\n",
       "<style scoped>\n",
       "    .dataframe tbody tr th:only-of-type {\n",
       "        vertical-align: middle;\n",
       "    }\n",
       "\n",
       "    .dataframe tbody tr th {\n",
       "        vertical-align: top;\n",
       "    }\n",
       "\n",
       "    .dataframe thead th {\n",
       "        text-align: right;\n",
       "    }\n",
       "</style>\n",
       "<table border=\"1\" class=\"dataframe\">\n",
       "  <thead>\n",
       "    <tr style=\"text-align: right;\">\n",
       "      <th></th>\n",
       "      <th>Known Albums</th>\n",
       "      <th>All Albums</th>\n",
       "      <th>Albums</th>\n",
       "    </tr>\n",
       "  </thead>\n",
       "  <tbody>\n",
       "    <tr>\n",
       "      <th>1000</th>\n",
       "      <td>53</td>\n",
       "      <td>53</td>\n",
       "      <td>{'44815': ['Archive One', 'Albums', True], '44...</td>\n",
       "    </tr>\n",
       "    <tr>\n",
       "      <th>1000500</th>\n",
       "      <td>1</td>\n",
       "      <td>1</td>\n",
       "      <td>{'1178875': ['Peak Controller', 'Miscellaneous...</td>\n",
       "    </tr>\n",
       "    <tr>\n",
       "      <th>100200</th>\n",
       "      <td>9</td>\n",
       "      <td>9</td>\n",
       "      <td>{'50511': ['PottpÃ¼ree', 'Albums', True], '219...</td>\n",
       "    </tr>\n",
       "    <tr>\n",
       "      <th>1002000</th>\n",
       "      <td>3</td>\n",
       "      <td>3</td>\n",
       "      <td>{'1002108': ['Are You Faithful?', 'Instruments...</td>\n",
       "    </tr>\n",
       "    <tr>\n",
       "      <th>1002600</th>\n",
       "      <td>1</td>\n",
       "      <td>1</td>\n",
       "      <td>{'1180905': ['Quiero', 'Vocals', True]}</td>\n",
       "    </tr>\n",
       "  </tbody>\n",
       "</table>\n",
       "</div>"
      ],
      "text/plain": [
       "         Known Albums  All Albums  \\\n",
       "1000               53          53   \n",
       "1000500             1           1   \n",
       "100200              9           9   \n",
       "1002000             3           3   \n",
       "1002600             1           1   \n",
       "\n",
       "                                                    Albums  \n",
       "1000     {'44815': ['Archive One', 'Albums', True], '44...  \n",
       "1000500  {'1178875': ['Peak Controller', 'Miscellaneous...  \n",
       "100200   {'50511': ['PottpÃ¼ree', 'Albums', True], '219...  \n",
       "1002000  {'1002108': ['Are You Faithful?', 'Instruments...  \n",
       "1002600            {'1180905': ['Quiero', 'Vocals', True]}  "
      ]
     },
     "execution_count": 56,
     "metadata": {},
     "output_type": "execute_result"
    }
   ],
   "source": [
    "discArtistAlbumKnownDB = getArtistAlbumKnownDB(discAlbumDB, discArtistAlbumsDB)\n",
    "discArtistAlbumKnownDB.head()"
   ]
  },
  {
   "cell_type": "markdown",
   "metadata": {},
   "source": [
    "# Joining Artist ID DataFrame"
   ]
  },
  {
   "cell_type": "code",
   "execution_count": 61,
   "metadata": {},
   "outputs": [],
   "source": [
    "from masterdb import createMasterDB"
   ]
  },
  {
   "cell_type": "code",
   "execution_count": 62,
   "metadata": {},
   "outputs": [
    {
     "name": "stdout",
     "output_type": "stream",
     "text": [
      "Current Time is Sat Dec 14, 2019 18:32:34 for \n",
      "=================================== Creating Artist ID DB ===================================\n",
      "Creating Pandas DataFrame for 589990 Arist IDs\n",
      "  Joining Artist Metadata\n",
      "\tShape --> (589990, 9)\n",
      "  Joining Artist Albums\n",
      "\tShape --> (589990, 12)\n",
      "Current Time is Sat Dec 14, 2019 18:32:35 for Done with \n",
      "=================================== Creating Artist ID DB ===================================\n",
      "Process [{0}] took 902.0 millseconds.\n",
      "Saving data to /Volumes/Music/Discog/db/MasterDB.p\n",
      "  --> This file is 543.5MB.\n",
      "Saved data to /Volumes/Music/Discog/db/MasterDB.p\n",
      "  --> This file is 543.5MB.\n"
     ]
    }
   ],
   "source": [
    "createMasterDB(disc, discArtistDB, discArtistMetadataDB, discArtistAlbumKnownDB)"
   ]
  }
 ],
 "metadata": {
  "kernelspec": {
   "display_name": "Python 3",
   "language": "python",
   "name": "python3"
  },
  "language_info": {
   "codemirror_mode": {
    "name": "ipython",
    "version": 3
   },
   "file_extension": ".py",
   "mimetype": "text/x-python",
   "name": "python",
   "nbconvert_exporter": "python",
   "pygments_lexer": "ipython3",
   "version": "3.7.3"
  }
 },
 "nbformat": 4,
 "nbformat_minor": 2
}
