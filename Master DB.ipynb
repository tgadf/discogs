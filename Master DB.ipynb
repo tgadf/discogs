{
 "cells": [
  {
   "cell_type": "markdown",
   "metadata": {},
   "source": [
    "# Master Discogs Database"
   ]
  },
  {
   "cell_type": "code",
   "execution_count": 1,
   "metadata": {},
   "outputs": [
    {
     "data": {
      "text/html": [
       "<style>.container { width:100% !important; }</style>"
      ],
      "text/plain": [
       "<IPython.core.display.HTML object>"
      ]
     },
     "metadata": {},
     "output_type": "display_data"
    },
    {
     "data": {
      "text/html": [
       "<style>div.output_area{max-height:10000px;overflow:scroll;}</style>"
      ],
      "text/plain": [
       "<IPython.core.display.HTML object>"
      ]
     },
     "metadata": {},
     "output_type": "display_data"
    },
    {
     "name": "stdout",
     "output_type": "stream",
     "text": [
      "Python: 3.7.3 (default, Mar 27 2019, 16:54:48) \n",
      "[Clang 4.0.1 (tags/RELEASE_401/final)]\n",
      "Notebook Last Run Initiated: 2020-01-15 19:47:34.128948\n"
     ]
    }
   ],
   "source": [
    "## Basic stuff\n",
    "%load_ext autoreload\n",
    "%autoreload\n",
    "from IPython.core.display import display, HTML\n",
    "display(HTML(\"<style>.container { width:100% !important; }</style>\"))\n",
    "display(HTML(\"\"\"<style>div.output_area{max-height:10000px;overflow:scroll;}</style>\"\"\"))\n",
    "\n",
    "## Python Version\n",
    "import sys\n",
    "print(\"Python: {0}\".format(sys.version))\n",
    "\n",
    "from ioUtils import saveJoblib, loadJoblib, saveFile, getFile\n",
    "import urllib\n",
    "from urllib.parse import quote\n",
    "\n",
    "from discogsBase import discogs\n",
    "from discogsUtils import discogsUtils\n",
    "from collection import collections\n",
    "from artist import artist\n",
    "from searchUtils import findExt, findSubExt, findPatternExt\n",
    "from timeUtils import clock, elapsed\n",
    "from fsUtils import moveFile, setFile, setDir, setSubDir, isFile, isDir, mkDir\n",
    "from fileUtils import getFileBasics, getBasename\n",
    "from artists import artists\n",
    "from artist import artist\n",
    "from albums import albums\n",
    "from album import album, albumURLInfo\n",
    "from time import sleep\n",
    "\n",
    "from masterdb import discConv, isKnownAlbum, directoryName\n",
    "\n",
    "import datetime as dt\n",
    "start = dt.datetime.now()\n",
    "print(\"Notebook Last Run Initiated: \"+str(start))"
   ]
  },
  {
   "cell_type": "code",
   "execution_count": 2,
   "metadata": {},
   "outputs": [
    {
     "name": "stdout",
     "output_type": "stream",
     "text": [
      "The autoreload extension is already loaded. To reload it, use:\n",
      "  %reload_ext autoreload\n",
      "Saved Discog Directory /Volumes/Music/Discog is Available\n",
      "Local Discog Directory /Users/tgadfort/Music/Discog is Available\n",
      "/Volumes/Music/Discog/collections exists\n",
      "/Volumes/Music/Discog/artists exists\n",
      "/Volumes/Music/Discog/albums exists\n",
      "/Volumes/Music/Discog/collections-db exists\n",
      "/Volumes/Music/Discog/artists-db exists\n",
      "/Volumes/Music/Discog/albums-db exists\n",
      "/Volumes/Music/Discog/artists-db/metadata exists\n",
      "/Volumes/Music/Discog/albums-db/metadata exists\n",
      "/Volumes/Music/Discog/diagnostic exists\n",
      "/Volumes/Music/Discog/db exists\n"
     ]
    }
   ],
   "source": [
    "%load_ext autoreload\n",
    "%autoreload\n",
    "disc = discogs()\n",
    "arts = artists(disc)\n",
    "art  = artist()\n",
    "albs = albums(disc)\n",
    "alb  = album()\n",
    "dutils = discogsUtils()"
   ]
  },
  {
   "cell_type": "markdown",
   "metadata": {},
   "source": [
    "# Create Dictionary Lookup Files"
   ]
  },
  {
   "cell_type": "markdown",
   "metadata": {},
   "source": [
    "## Artist ID --> Ref and Name"
   ]
  },
  {
   "cell_type": "code",
   "execution_count": 3,
   "metadata": {},
   "outputs": [
    {
     "name": "stdout",
     "output_type": "stream",
     "text": [
      "The autoreload extension is already loaded. To reload it, use:\n",
      "  %reload_ext autoreload\n",
      "Current Time is Wed Jan 15, 2020 19:47:37 for Creating Artist DBs\n",
      "/Volumes/Music/Discog/artists-db/metadata/0-Metadata.p  \t0 6585\n",
      "/Volumes/Music/Discog/artists-db/metadata/1-Metadata.p  \t1 13435\n",
      "/Volumes/Music/Discog/artists-db/metadata/10-Metadata.p  \t2 20112\n",
      "/Volumes/Music/Discog/artists-db/metadata/11-Metadata.p  \t3 26865\n",
      "/Volumes/Music/Discog/artists-db/metadata/12-Metadata.p  \t4 33634\n",
      "/Volumes/Music/Discog/artists-db/metadata/13-Metadata.p  \t5 40444\n",
      "/Volumes/Music/Discog/artists-db/metadata/14-Metadata.p  \t6 47019\n",
      "/Volumes/Music/Discog/artists-db/metadata/15-Metadata.p  \t7 53724\n",
      "/Volumes/Music/Discog/artists-db/metadata/16-Metadata.p  \t8 60363\n",
      "/Volumes/Music/Discog/artists-db/metadata/17-Metadata.p  \t9 67109\n",
      "/Volumes/Music/Discog/artists-db/metadata/18-Metadata.p  \t10 73843\n",
      "/Volumes/Music/Discog/artists-db/metadata/19-Metadata.p  \t11 80517\n",
      "/Volumes/Music/Discog/artists-db/metadata/2-Metadata.p  \t12 87180\n",
      "/Volumes/Music/Discog/artists-db/metadata/20-Metadata.p  \t13 93932\n",
      "/Volumes/Music/Discog/artists-db/metadata/21-Metadata.p  \t14 100643\n",
      "/Volumes/Music/Discog/artists-db/metadata/22-Metadata.p  \t15 107340\n",
      "/Volumes/Music/Discog/artists-db/metadata/23-Metadata.p  \t16 114035\n",
      "/Volumes/Music/Discog/artists-db/metadata/24-Metadata.p  \t17 120590\n",
      "/Volumes/Music/Discog/artists-db/metadata/25-Metadata.p  \t18 127299\n",
      "/Volumes/Music/Discog/artists-db/metadata/26-Metadata.p  \t19 134106\n",
      "/Volumes/Music/Discog/artists-db/metadata/27-Metadata.p  \t20 140720\n",
      "/Volumes/Music/Discog/artists-db/metadata/28-Metadata.p  \t21 147403\n",
      "/Volumes/Music/Discog/artists-db/metadata/29-Metadata.p  \t22 154020\n",
      "/Volumes/Music/Discog/artists-db/metadata/3-Metadata.p  \t23 160964\n",
      "/Volumes/Music/Discog/artists-db/metadata/30-Metadata.p  \t24 167583\n",
      "/Volumes/Music/Discog/artists-db/metadata/31-Metadata.p  \t25 174215\n",
      "/Volumes/Music/Discog/artists-db/metadata/32-Metadata.p  \t26 180957\n",
      "/Volumes/Music/Discog/artists-db/metadata/33-Metadata.p  \t27 187662\n",
      "/Volumes/Music/Discog/artists-db/metadata/34-Metadata.p  \t28 194252\n",
      "/Volumes/Music/Discog/artists-db/metadata/35-Metadata.p  \t29 200744\n",
      "/Volumes/Music/Discog/artists-db/metadata/36-Metadata.p  \t30 207537\n",
      "/Volumes/Music/Discog/artists-db/metadata/37-Metadata.p  \t31 214085\n",
      "/Volumes/Music/Discog/artists-db/metadata/38-Metadata.p  \t32 220722\n",
      "/Volumes/Music/Discog/artists-db/metadata/39-Metadata.p  \t33 227291\n",
      "/Volumes/Music/Discog/artists-db/metadata/4-Metadata.p  \t34 234002\n",
      "/Volumes/Music/Discog/artists-db/metadata/40-Metadata.p  \t35 240549\n",
      "/Volumes/Music/Discog/artists-db/metadata/41-Metadata.p  \t36 247318\n",
      "/Volumes/Music/Discog/artists-db/metadata/42-Metadata.p  \t37 253961\n",
      "/Volumes/Music/Discog/artists-db/metadata/43-Metadata.p  \t38 260649\n",
      "/Volumes/Music/Discog/artists-db/metadata/44-Metadata.p  \t39 267186\n",
      "/Volumes/Music/Discog/artists-db/metadata/45-Metadata.p  \t40 273725\n",
      "/Volumes/Music/Discog/artists-db/metadata/46-Metadata.p  \t41 280356\n",
      "/Volumes/Music/Discog/artists-db/metadata/47-Metadata.p  \t42 286828\n",
      "/Volumes/Music/Discog/artists-db/metadata/48-Metadata.p  \t43 293664\n",
      "/Volumes/Music/Discog/artists-db/metadata/49-Metadata.p  \t44 300318\n",
      "/Volumes/Music/Discog/artists-db/metadata/5-Metadata.p  \t45 306929\n",
      "/Volumes/Music/Discog/artists-db/metadata/50-Metadata.p  \t46 313583\n",
      "/Volumes/Music/Discog/artists-db/metadata/51-Metadata.p  \t47 320299\n",
      "/Volumes/Music/Discog/artists-db/metadata/52-Metadata.p  \t48 327083\n",
      "/Volumes/Music/Discog/artists-db/metadata/53-Metadata.p  \t49 333823\n",
      "/Volumes/Music/Discog/artists-db/metadata/54-Metadata.p  \t50 340619\n",
      "/Volumes/Music/Discog/artists-db/metadata/55-Metadata.p  \t51 347319\n",
      "/Volumes/Music/Discog/artists-db/metadata/56-Metadata.p  \t52 354044\n",
      "/Volumes/Music/Discog/artists-db/metadata/57-Metadata.p  \t53 360714\n",
      "/Volumes/Music/Discog/artists-db/metadata/58-Metadata.p  \t54 367341\n",
      "/Volumes/Music/Discog/artists-db/metadata/59-Metadata.p  \t55 374112\n",
      "/Volumes/Music/Discog/artists-db/metadata/6-Metadata.p  \t56 380743\n",
      "/Volumes/Music/Discog/artists-db/metadata/60-Metadata.p  \t57 387454\n",
      "/Volumes/Music/Discog/artists-db/metadata/61-Metadata.p  \t58 394091\n",
      "/Volumes/Music/Discog/artists-db/metadata/62-Metadata.p  \t59 400850\n",
      "/Volumes/Music/Discog/artists-db/metadata/63-Metadata.p  \t60 407647\n",
      "/Volumes/Music/Discog/artists-db/metadata/64-Metadata.p  \t61 414416\n",
      "/Volumes/Music/Discog/artists-db/metadata/65-Metadata.p  \t62 421120\n",
      "/Volumes/Music/Discog/artists-db/metadata/66-Metadata.p  \t63 427869\n",
      "/Volumes/Music/Discog/artists-db/metadata/67-Metadata.p  \t64 434651\n",
      "/Volumes/Music/Discog/artists-db/metadata/68-Metadata.p  \t65 441239\n",
      "/Volumes/Music/Discog/artists-db/metadata/69-Metadata.p  \t66 447919\n",
      "/Volumes/Music/Discog/artists-db/metadata/7-Metadata.p  \t67 454638\n",
      "/Volumes/Music/Discog/artists-db/metadata/70-Metadata.p  \t68 461232\n",
      "/Volumes/Music/Discog/artists-db/metadata/71-Metadata.p  \t69 467806\n",
      "/Volumes/Music/Discog/artists-db/metadata/72-Metadata.p  \t70 474414\n",
      "/Volumes/Music/Discog/artists-db/metadata/73-Metadata.p  \t71 481026\n",
      "/Volumes/Music/Discog/artists-db/metadata/74-Metadata.p  \t72 487734\n",
      "/Volumes/Music/Discog/artists-db/metadata/75-Metadata.p  \t73 494427\n",
      "/Volumes/Music/Discog/artists-db/metadata/76-Metadata.p  \t74 501121\n",
      "/Volumes/Music/Discog/artists-db/metadata/77-Metadata.p  \t75 507770\n",
      "/Volumes/Music/Discog/artists-db/metadata/78-Metadata.p  \t76 514598\n",
      "/Volumes/Music/Discog/artists-db/metadata/79-Metadata.p  \t77 521290\n",
      "/Volumes/Music/Discog/artists-db/metadata/8-Metadata.p  \t78 528027\n",
      "/Volumes/Music/Discog/artists-db/metadata/80-Metadata.p  \t79 534739\n",
      "/Volumes/Music/Discog/artists-db/metadata/81-Metadata.p  \t80 541567\n",
      "/Volumes/Music/Discog/artists-db/metadata/82-Metadata.p  \t81 548322\n",
      "/Volumes/Music/Discog/artists-db/metadata/83-Metadata.p  \t82 555089\n",
      "/Volumes/Music/Discog/artists-db/metadata/84-Metadata.p  \t83 561814\n",
      "/Volumes/Music/Discog/artists-db/metadata/85-Metadata.p  \t84 568481\n",
      "/Volumes/Music/Discog/artists-db/metadata/86-Metadata.p  \t85 575336\n",
      "/Volumes/Music/Discog/artists-db/metadata/87-Metadata.p  \t86 582016\n",
      "/Volumes/Music/Discog/artists-db/metadata/88-Metadata.p  \t87 588617\n",
      "/Volumes/Music/Discog/artists-db/metadata/89-Metadata.p  \t88 595428\n",
      "/Volumes/Music/Discog/artists-db/metadata/9-Metadata.p  \t89 602126\n",
      "/Volumes/Music/Discog/artists-db/metadata/90-Metadata.p  \t90 608676\n",
      "/Volumes/Music/Discog/artists-db/metadata/91-Metadata.p  \t91 615380\n",
      "/Volumes/Music/Discog/artists-db/metadata/92-Metadata.p  \t92 622196\n",
      "/Volumes/Music/Discog/artists-db/metadata/93-Metadata.p  \t93 628873\n",
      "/Volumes/Music/Discog/artists-db/metadata/94-Metadata.p  \t94 635584\n",
      "/Volumes/Music/Discog/artists-db/metadata/95-Metadata.p  \t95 642383\n",
      "/Volumes/Music/Discog/artists-db/metadata/96-Metadata.p  \t96 649022\n",
      "/Volumes/Music/Discog/artists-db/metadata/97-Metadata.p  \t97 655677\n",
      "/Volumes/Music/Discog/artists-db/metadata/98-Metadata.p  \t98 662333\n",
      "/Volumes/Music/Discog/artists-db/metadata/99-Metadata.p  \t99 669071\n",
      "\n",
      "\n",
      "==============================================\n",
      "\n",
      "Saving 669071 entries to /Volumes/Music/Discog/db/ArtistIDToRef.p\n",
      "\n",
      "Saving data to /Volumes/Music/Discog/db/ArtistIDToRef.p\n",
      "  --> This file is 15.2MB.\n",
      "Saved data to /Volumes/Music/Discog/db/ArtistIDToRef.p\n",
      "  --> This file is 15.2MB.\n",
      "Saving 669071 entries to /Volumes/Music/Discog/db/ArtistIDToName.p\n",
      "\n",
      "Saving data to /Volumes/Music/Discog/db/ArtistIDToName.p\n",
      "  --> This file is 12.7MB.\n",
      "Saved data to /Volumes/Music/Discog/db/ArtistIDToName.p\n",
      "  --> This file is 12.7MB.\n",
      "Saving 669071 entries to /Volumes/Music/Discog/db/ArtistIDToVariations.p\n",
      "\n",
      "Saving data to /Volumes/Music/Discog/db/ArtistIDToVariations.p\n",
      "  --> This file is 25.2MB.\n",
      "Saved data to /Volumes/Music/Discog/db/ArtistIDToVariations.p\n",
      "  --> This file is 25.2MB.\n",
      "Current Time is Wed Jan 15, 2020 19:49:11 for Done with Creating Artist DBs\n",
      "Process [{0}] took 1.6 minutes.\n"
     ]
    }
   ],
   "source": [
    "## Basic stuff\n",
    "%load_ext autoreload\n",
    "%autoreload\n",
    "from lookup import createArtistIDMap\n",
    "createArtistIDMap(disc)"
   ]
  },
  {
   "cell_type": "markdown",
   "metadata": {},
   "source": [
    "## Artist ID --> Albums"
   ]
  },
  {
   "cell_type": "code",
   "execution_count": null,
   "metadata": {},
   "outputs": [
    {
     "name": "stdout",
     "output_type": "stream",
     "text": [
      "The autoreload extension is already loaded. To reload it, use:\n",
      "  %reload_ext autoreload\n",
      "Current Time is Wed Jan 15, 2020 19:49:11 for Creating Artist DBs\n",
      "/Volumes/Music/Discog/artists-db/metadata/0-MediaMetadata.p \t6585      3507      18202     \n",
      "/Volumes/Music/Discog/artists-db/metadata/1-MediaMetadata.p \t13435     7098      37687     \n",
      "/Volumes/Music/Discog/artists-db/metadata/10-MediaMetadata.p \t20112     10631     56549     \n",
      "/Volumes/Music/Discog/artists-db/metadata/11-MediaMetadata.p \t26865     14189     75515     \n",
      "/Volumes/Music/Discog/artists-db/metadata/12-MediaMetadata.p \t33634     17808     94436     \n",
      "/Volumes/Music/Discog/artists-db/metadata/13-MediaMetadata.p \t40444     21367     113514    \n",
      "/Volumes/Music/Discog/artists-db/metadata/14-MediaMetadata.p \t47019     24873     131971    \n",
      "/Volumes/Music/Discog/artists-db/metadata/15-MediaMetadata.p \t53724     28412     151340    \n",
      "/Volumes/Music/Discog/artists-db/metadata/16-MediaMetadata.p \t60363     31927     170301    \n",
      "/Volumes/Music/Discog/artists-db/metadata/17-MediaMetadata.p \t67109     35534     189330    \n",
      "/Volumes/Music/Discog/artists-db/metadata/18-MediaMetadata.p \t73843     39120     208435    \n",
      "/Volumes/Music/Discog/artists-db/metadata/19-MediaMetadata.p \t80517     42650     227722    \n",
      "/Volumes/Music/Discog/artists-db/metadata/2-MediaMetadata.p \t87180     46208     246849    \n",
      "/Volumes/Music/Discog/artists-db/metadata/20-MediaMetadata.p \t93932     49766     265857    \n",
      "/Volumes/Music/Discog/artists-db/metadata/21-MediaMetadata.p \t100643    53285     284621    \n",
      "/Volumes/Music/Discog/artists-db/metadata/22-MediaMetadata.p \t107340    56848     304150    \n",
      "/Volumes/Music/Discog/artists-db/metadata/23-MediaMetadata.p \t114035    60393     322623    \n",
      "/Volumes/Music/Discog/artists-db/metadata/24-MediaMetadata.p \t120590    63814     340881    \n",
      "/Volumes/Music/Discog/artists-db/metadata/25-MediaMetadata.p \t127299    67388     360240    \n",
      "/Volumes/Music/Discog/artists-db/metadata/26-MediaMetadata.p \t134106    70922     379245    \n",
      "/Volumes/Music/Discog/artists-db/metadata/27-MediaMetadata.p \t140720    74444     398129    \n",
      "/Volumes/Music/Discog/artists-db/metadata/28-MediaMetadata.p \t147403    78006     416940    \n",
      "/Volumes/Music/Discog/artists-db/metadata/29-MediaMetadata.p \t154020    81508     435882    \n",
      "/Volumes/Music/Discog/artists-db/metadata/3-MediaMetadata.p \t160964    85194     455523    \n",
      "/Volumes/Music/Discog/artists-db/metadata/30-MediaMetadata.p \t167583    88709     474131    \n",
      "/Volumes/Music/Discog/artists-db/metadata/31-MediaMetadata.p \t174215    92165     492625    \n",
      "/Volumes/Music/Discog/artists-db/metadata/32-MediaMetadata.p \t180957    95757     511716    \n",
      "/Volumes/Music/Discog/artists-db/metadata/33-MediaMetadata.p \t187662    99307     530811    \n",
      "/Volumes/Music/Discog/artists-db/metadata/34-MediaMetadata.p \t194252    102716    549645    \n",
      "/Volumes/Music/Discog/artists-db/metadata/35-MediaMetadata.p \t200744    106122    568607    \n",
      "/Volumes/Music/Discog/artists-db/metadata/36-MediaMetadata.p \t207537    109718    587948    \n",
      "/Volumes/Music/Discog/artists-db/metadata/37-MediaMetadata.p \t214085    113173    606660    \n",
      "/Volumes/Music/Discog/artists-db/metadata/38-MediaMetadata.p \t220722    116701    625124    \n",
      "/Volumes/Music/Discog/artists-db/metadata/39-MediaMetadata.p \t227291    120153    644241    \n",
      "/Volumes/Music/Discog/artists-db/metadata/4-MediaMetadata.p \t234002    123693    663523    \n",
      "/Volumes/Music/Discog/artists-db/metadata/40-MediaMetadata.p \t240549    127198    682184    \n",
      "/Volumes/Music/Discog/artists-db/metadata/41-MediaMetadata.p \t247318    130789    701477    \n",
      "/Volumes/Music/Discog/artists-db/metadata/42-MediaMetadata.p \t253961    134331    720295    \n",
      "/Volumes/Music/Discog/artists-db/metadata/43-MediaMetadata.p \t260649    137774    739062    \n",
      "/Volumes/Music/Discog/artists-db/metadata/44-MediaMetadata.p \t267186    141230    757911    \n",
      "/Volumes/Music/Discog/artists-db/metadata/45-MediaMetadata.p \t273725    144658    776655    \n",
      "/Volumes/Music/Discog/artists-db/metadata/46-MediaMetadata.p \t280356    148132    795463    \n",
      "/Volumes/Music/Discog/artists-db/metadata/47-MediaMetadata.p \t286828    151544    813547    \n",
      "/Volumes/Music/Discog/artists-db/metadata/48-MediaMetadata.p \t293664    155147    832785    \n",
      "/Volumes/Music/Discog/artists-db/metadata/49-MediaMetadata.p \t300318    158643    851755    \n",
      "/Volumes/Music/Discog/artists-db/metadata/5-MediaMetadata.p \t306929    162113    870376    \n",
      "/Volumes/Music/Discog/artists-db/metadata/50-MediaMetadata.p \t313583    165579    889309    \n",
      "/Volumes/Music/Discog/artists-db/metadata/51-MediaMetadata.p \t320299    169048    908135    \n",
      "/Volumes/Music/Discog/artists-db/metadata/52-MediaMetadata.p \t327083    172692    927626    \n",
      "/Volumes/Music/Discog/artists-db/metadata/53-MediaMetadata.p \t333823    176262    946537    \n",
      "/Volumes/Music/Discog/artists-db/metadata/54-MediaMetadata.p \t340619    179886    965817    \n",
      "/Volumes/Music/Discog/artists-db/metadata/55-MediaMetadata.p \t347319    183481    984847    \n",
      "/Volumes/Music/Discog/artists-db/metadata/56-MediaMetadata.p \t354044    187059    1004383   \n",
      "/Volumes/Music/Discog/artists-db/metadata/57-MediaMetadata.p \t360714    190566    1023377   \n",
      "/Volumes/Music/Discog/artists-db/metadata/58-MediaMetadata.p \t367341    194078    1042124   \n",
      "/Volumes/Music/Discog/artists-db/metadata/59-MediaMetadata.p \t374112    197665    1060993   \n",
      "/Volumes/Music/Discog/artists-db/metadata/6-MediaMetadata.p \t380743    201148    1079997   \n",
      "/Volumes/Music/Discog/artists-db/metadata/60-MediaMetadata.p \t387454    204707    1099166   \n",
      "/Volumes/Music/Discog/artists-db/metadata/61-MediaMetadata.p \t394091    208223    1118351   \n",
      "/Volumes/Music/Discog/artists-db/metadata/62-MediaMetadata.p \t400850    211799    1137684   \n",
      "/Volumes/Music/Discog/artists-db/metadata/63-MediaMetadata.p \t407647    215352    1156983   \n",
      "/Volumes/Music/Discog/artists-db/metadata/64-MediaMetadata.p \t414416    218962    1176073   \n",
      "/Volumes/Music/Discog/artists-db/metadata/65-MediaMetadata.p \t421120    222449    1195420   \n",
      "/Volumes/Music/Discog/artists-db/metadata/66-MediaMetadata.p \t427869    226025    1214407   \n",
      "/Volumes/Music/Discog/artists-db/metadata/67-MediaMetadata.p \t434651    229607    1233535   \n",
      "/Volumes/Music/Discog/artists-db/metadata/68-MediaMetadata.p \t441239    233032    1252219   \n",
      "/Volumes/Music/Discog/artists-db/metadata/69-MediaMetadata.p \t447919    236591    1270721   \n",
      "/Volumes/Music/Discog/artists-db/metadata/7-MediaMetadata.p \t454638    240176    1289489   \n",
      "/Volumes/Music/Discog/artists-db/metadata/70-MediaMetadata.p \t461232    243660    1308178   \n",
      "/Volumes/Music/Discog/artists-db/metadata/71-MediaMetadata.p \t467806    247126    1326573   \n",
      "/Volumes/Music/Discog/artists-db/metadata/72-MediaMetadata.p \t474414    250629    1345492   \n",
      "/Volumes/Music/Discog/artists-db/metadata/73-MediaMetadata.p \t481026    254097    1364193   \n",
      "/Volumes/Music/Discog/artists-db/metadata/74-MediaMetadata.p \t487734    257713    1383279   \n",
      "/Volumes/Music/Discog/artists-db/metadata/75-MediaMetadata.p \t494427    261228    1401958   \n",
      "/Volumes/Music/Discog/artists-db/metadata/76-MediaMetadata.p \t501121    264736    1421288   \n",
      "/Volumes/Music/Discog/artists-db/metadata/77-MediaMetadata.p \t507770    268195    1440295   \n",
      "/Volumes/Music/Discog/artists-db/metadata/78-MediaMetadata.p \t514598    271798    1459671   \n",
      "/Volumes/Music/Discog/artists-db/metadata/79-MediaMetadata.p \t521290    275328    1478619   \n",
      "/Volumes/Music/Discog/artists-db/metadata/8-MediaMetadata.p \t528027    278888    1498272   \n",
      "/Volumes/Music/Discog/artists-db/metadata/80-MediaMetadata.p \t534739    282484    1517379   \n",
      "/Volumes/Music/Discog/artists-db/metadata/81-MediaMetadata.p \t541567    286145    1536571   \n",
      "/Volumes/Music/Discog/artists-db/metadata/82-MediaMetadata.p \t548322    289739    1555820   \n",
      "/Volumes/Music/Discog/artists-db/metadata/83-MediaMetadata.p \t555089    293282    1574992   \n",
      "/Volumes/Music/Discog/artists-db/metadata/84-MediaMetadata.p \t561814    296849    1594032   \n",
      "/Volumes/Music/Discog/artists-db/metadata/85-MediaMetadata.p \t568481    300363    1613157   \n",
      "/Volumes/Music/Discog/artists-db/metadata/86-MediaMetadata.p \t575336    304017    1632691   \n"
     ]
    },
    {
     "name": "stdout",
     "output_type": "stream",
     "text": [
      "/Volumes/Music/Discog/artists-db/metadata/87-MediaMetadata.p \t582016    307520    1651635   \n",
      "/Volumes/Music/Discog/artists-db/metadata/88-MediaMetadata.p \t588617    310972    1670463   \n",
      "/Volumes/Music/Discog/artists-db/metadata/89-MediaMetadata.p \t595428    314568    1689658   \n",
      "/Volumes/Music/Discog/artists-db/metadata/9-MediaMetadata.p \t602126    318097    1708787   \n",
      "/Volumes/Music/Discog/artists-db/metadata/90-MediaMetadata.p \t608676    321524    1727612   \n",
      "/Volumes/Music/Discog/artists-db/metadata/91-MediaMetadata.p \t615380    325074    1746511   \n",
      "/Volumes/Music/Discog/artists-db/metadata/92-MediaMetadata.p \t622196    328673    1766341   \n",
      "/Volumes/Music/Discog/artists-db/metadata/93-MediaMetadata.p \t628873    332236    1785535   \n",
      "/Volumes/Music/Discog/artists-db/metadata/94-MediaMetadata.p \t635584    335720    1804197   \n",
      "/Volumes/Music/Discog/artists-db/metadata/95-MediaMetadata.p \t642383    339314    1823312   \n",
      "/Volumes/Music/Discog/artists-db/metadata/96-MediaMetadata.p \t649022    342816    1842422   \n",
      "/Volumes/Music/Discog/artists-db/metadata/97-MediaMetadata.p \t655677    346302    1860884   \n",
      "/Volumes/Music/Discog/artists-db/metadata/98-MediaMetadata.p \t662333    349865    1880061   \n",
      "/Volumes/Music/Discog/artists-db/metadata/99-MediaMetadata.p \t669071    353441    1898675   \n",
      "\n",
      "\n",
      "==============================================\n",
      "\n",
      "Saving 669071 entries to /Volumes/Music/Discog/db/ArtistIDToAlbumNames.p\n",
      "\n",
      "Saving data to /Volumes/Music/Discog/db/ArtistIDToAlbumNames.p\n"
     ]
    }
   ],
   "source": [
    "## Basic stuff\n",
    "%load_ext autoreload\n",
    "%autoreload\n",
    "from lookup import createArtistAlbumIDMap\n",
    "createArtistAlbumIDMap(disc)"
   ]
  },
  {
   "cell_type": "markdown",
   "metadata": {},
   "source": [
    "## Artist ID --> Genre, Style, Artists Lookup Table"
   ]
  },
  {
   "cell_type": "code",
   "execution_count": null,
   "metadata": {},
   "outputs": [],
   "source": [
    "## Basic stuff\n",
    "%load_ext autoreload\n",
    "%autoreload\n",
    "from lookup import createArtistMetadataMap\n",
    "createArtistMetadataMap(disc)"
   ]
  },
  {
   "cell_type": "markdown",
   "metadata": {},
   "source": [
    "## Album ID --> Name, Ref, Artists Lookup Table"
   ]
  },
  {
   "cell_type": "code",
   "execution_count": 6,
   "metadata": {},
   "outputs": [
    {
     "name": "stdout",
     "output_type": "stream",
     "text": [
      "The autoreload extension is already loaded. To reload it, use:\n",
      "  %reload_ext autoreload\n",
      "Current Time is Mon Jan 13, 2020 23:52:12 for Creating Artist DBs\n",
      "/Volumes/Music/Discog/albums-db/metadata/0-ArtistAlbums.p \t21795\n",
      "/Volumes/Music/Discog/albums-db/metadata/1-ArtistAlbums.p \t41389\n",
      "/Volumes/Music/Discog/albums-db/metadata/10-ArtistAlbums.p \t67701\n",
      "/Volumes/Music/Discog/albums-db/metadata/11-ArtistAlbums.p \t89643\n",
      "/Volumes/Music/Discog/albums-db/metadata/12-ArtistAlbums.p \t116448\n",
      "/Volumes/Music/Discog/albums-db/metadata/13-ArtistAlbums.p \t128920\n",
      "/Volumes/Music/Discog/albums-db/metadata/14-ArtistAlbums.p \t152257\n",
      "/Volumes/Music/Discog/albums-db/metadata/15-ArtistAlbums.p \t174121\n",
      "/Volumes/Music/Discog/albums-db/metadata/16-ArtistAlbums.p \t192193\n",
      "/Volumes/Music/Discog/albums-db/metadata/17-ArtistAlbums.p \t205799\n",
      "/Volumes/Music/Discog/albums-db/metadata/18-ArtistAlbums.p \t230255\n",
      "/Volumes/Music/Discog/albums-db/metadata/19-ArtistAlbums.p \t250482\n",
      "/Volumes/Music/Discog/albums-db/metadata/2-ArtistAlbums.p \t267078\n",
      "/Volumes/Music/Discog/albums-db/metadata/20-ArtistAlbums.p \t279769\n",
      "/Volumes/Music/Discog/albums-db/metadata/21-ArtistAlbums.p \t290583\n",
      "/Volumes/Music/Discog/albums-db/metadata/22-ArtistAlbums.p \t315239\n",
      "/Volumes/Music/Discog/albums-db/metadata/23-ArtistAlbums.p \t341751\n",
      "/Volumes/Music/Discog/albums-db/metadata/24-ArtistAlbums.p \t359285\n",
      "/Volumes/Music/Discog/albums-db/metadata/25-ArtistAlbums.p \t377154\n",
      "/Volumes/Music/Discog/albums-db/metadata/26-ArtistAlbums.p \t388044\n",
      "/Volumes/Music/Discog/albums-db/metadata/27-ArtistAlbums.p \t414605\n",
      "/Volumes/Music/Discog/albums-db/metadata/28-ArtistAlbums.p \t436956\n",
      "/Volumes/Music/Discog/albums-db/metadata/29-ArtistAlbums.p \t466122\n",
      "/Volumes/Music/Discog/albums-db/metadata/3-ArtistAlbums.p \t482163\n",
      "/Volumes/Music/Discog/albums-db/metadata/30-ArtistAlbums.p \t500190\n",
      "/Volumes/Music/Discog/albums-db/metadata/31-ArtistAlbums.p \t511349\n",
      "/Volumes/Music/Discog/albums-db/metadata/32-ArtistAlbums.p \t531631\n",
      "/Volumes/Music/Discog/albums-db/metadata/33-ArtistAlbums.p \t570297\n",
      "/Volumes/Music/Discog/albums-db/metadata/34-ArtistAlbums.p \t582036\n",
      "/Volumes/Music/Discog/albums-db/metadata/35-ArtistAlbums.p \t597694\n",
      "/Volumes/Music/Discog/albums-db/metadata/36-ArtistAlbums.p \t609461\n",
      "/Volumes/Music/Discog/albums-db/metadata/37-ArtistAlbums.p \t629360\n",
      "/Volumes/Music/Discog/albums-db/metadata/38-ArtistAlbums.p \t641805\n",
      "/Volumes/Music/Discog/albums-db/metadata/39-ArtistAlbums.p \t652283\n",
      "/Volumes/Music/Discog/albums-db/metadata/4-ArtistAlbums.p \t666978\n",
      "/Volumes/Music/Discog/albums-db/metadata/40-ArtistAlbums.p \t678853\n",
      "/Volumes/Music/Discog/albums-db/metadata/41-ArtistAlbums.p \t690611\n",
      "/Volumes/Music/Discog/albums-db/metadata/42-ArtistAlbums.p \t707525\n",
      "/Volumes/Music/Discog/albums-db/metadata/43-ArtistAlbums.p \t717909\n",
      "/Volumes/Music/Discog/albums-db/metadata/44-ArtistAlbums.p \t740579\n",
      "/Volumes/Music/Discog/albums-db/metadata/45-ArtistAlbums.p \t751429\n",
      "/Volumes/Music/Discog/albums-db/metadata/46-ArtistAlbums.p \t768261\n",
      "/Volumes/Music/Discog/albums-db/metadata/47-ArtistAlbums.p \t778508\n",
      "/Volumes/Music/Discog/albums-db/metadata/48-ArtistAlbums.p \t792834\n",
      "/Volumes/Music/Discog/albums-db/metadata/49-ArtistAlbums.p \t808864\n",
      "/Volumes/Music/Discog/albums-db/metadata/5-ArtistAlbums.p \t818461\n",
      "/Volumes/Music/Discog/albums-db/metadata/50-ArtistAlbums.p \t829269\n",
      "/Volumes/Music/Discog/albums-db/metadata/51-ArtistAlbums.p \t839018\n",
      "/Volumes/Music/Discog/albums-db/metadata/52-ArtistAlbums.p \t854304\n",
      "/Volumes/Music/Discog/albums-db/metadata/53-ArtistAlbums.p \t865254\n",
      "/Volumes/Music/Discog/albums-db/metadata/54-ArtistAlbums.p \t884705\n",
      "/Volumes/Music/Discog/albums-db/metadata/55-ArtistAlbums.p \t907995\n",
      "/Volumes/Music/Discog/albums-db/metadata/56-ArtistAlbums.p \t920915\n",
      "/Volumes/Music/Discog/albums-db/metadata/57-ArtistAlbums.p \t934156\n",
      "/Volumes/Music/Discog/albums-db/metadata/58-ArtistAlbums.p \t948791\n",
      "/Volumes/Music/Discog/albums-db/metadata/59-ArtistAlbums.p \t969050\n",
      "/Volumes/Music/Discog/albums-db/metadata/6-ArtistAlbums.p \t1001409\n",
      "/Volumes/Music/Discog/albums-db/metadata/60-ArtistAlbums.p \t1020361\n",
      "/Volumes/Music/Discog/albums-db/metadata/61-ArtistAlbums.p \t1028915\n",
      "/Volumes/Music/Discog/albums-db/metadata/62-ArtistAlbums.p \t1038686\n",
      "/Volumes/Music/Discog/albums-db/metadata/63-ArtistAlbums.p \t1057437\n",
      "/Volumes/Music/Discog/albums-db/metadata/64-ArtistAlbums.p \t1076521\n",
      "/Volumes/Music/Discog/albums-db/metadata/65-ArtistAlbums.p \t1092783\n",
      "/Volumes/Music/Discog/albums-db/metadata/66-ArtistAlbums.p \t1106861\n",
      "/Volumes/Music/Discog/albums-db/metadata/67-ArtistAlbums.p \t1117695\n",
      "/Volumes/Music/Discog/albums-db/metadata/68-ArtistAlbums.p \t1134728\n",
      "/Volumes/Music/Discog/albums-db/metadata/69-ArtistAlbums.p \t1143228\n",
      "/Volumes/Music/Discog/albums-db/metadata/7-ArtistAlbums.p \t1153024\n",
      "/Volumes/Music/Discog/albums-db/metadata/70-ArtistAlbums.p \t1161195\n",
      "/Volumes/Music/Discog/albums-db/metadata/71-ArtistAlbums.p \t1172476\n",
      "/Volumes/Music/Discog/albums-db/metadata/72-ArtistAlbums.p \t1184040\n",
      "/Volumes/Music/Discog/albums-db/metadata/73-ArtistAlbums.p \t1194028\n",
      "/Volumes/Music/Discog/albums-db/metadata/74-ArtistAlbums.p \t1205035\n",
      "/Volumes/Music/Discog/albums-db/metadata/75-ArtistAlbums.p \t1218634\n",
      "/Volumes/Music/Discog/albums-db/metadata/76-ArtistAlbums.p \t1237485\n",
      "/Volumes/Music/Discog/albums-db/metadata/77-ArtistAlbums.p \t1248524\n",
      "/Volumes/Music/Discog/albums-db/metadata/78-ArtistAlbums.p \t1272515\n",
      "/Volumes/Music/Discog/albums-db/metadata/79-ArtistAlbums.p \t1295546\n",
      "/Volumes/Music/Discog/albums-db/metadata/8-ArtistAlbums.p \t1306188\n",
      "/Volumes/Music/Discog/albums-db/metadata/80-ArtistAlbums.p \t1326084\n",
      "/Volumes/Music/Discog/albums-db/metadata/81-ArtistAlbums.p \t1340422\n",
      "/Volumes/Music/Discog/albums-db/metadata/82-ArtistAlbums.p \t1354039\n",
      "/Volumes/Music/Discog/albums-db/metadata/83-ArtistAlbums.p \t1364945\n",
      "/Volumes/Music/Discog/albums-db/metadata/84-ArtistAlbums.p \t1389816\n",
      "/Volumes/Music/Discog/albums-db/metadata/85-ArtistAlbums.p \t1406242\n",
      "/Volumes/Music/Discog/albums-db/metadata/86-ArtistAlbums.p \t1415011\n",
      "/Volumes/Music/Discog/albums-db/metadata/87-ArtistAlbums.p \t1423162\n",
      "/Volumes/Music/Discog/albums-db/metadata/88-ArtistAlbums.p \t1434681\n",
      "/Volumes/Music/Discog/albums-db/metadata/89-ArtistAlbums.p \t1449090\n",
      "/Volumes/Music/Discog/albums-db/metadata/9-ArtistAlbums.p \t1459141\n",
      "/Volumes/Music/Discog/albums-db/metadata/90-ArtistAlbums.p \t1472233\n",
      "/Volumes/Music/Discog/albums-db/metadata/91-ArtistAlbums.p \t1482322\n",
      "/Volumes/Music/Discog/albums-db/metadata/92-ArtistAlbums.p \t1493076\n",
      "/Volumes/Music/Discog/albums-db/metadata/93-ArtistAlbums.p \t1503640\n",
      "/Volumes/Music/Discog/albums-db/metadata/94-ArtistAlbums.p \t1527119\n",
      "/Volumes/Music/Discog/albums-db/metadata/95-ArtistAlbums.p \t1536570\n",
      "/Volumes/Music/Discog/albums-db/metadata/96-ArtistAlbums.p \t1551098\n",
      "/Volumes/Music/Discog/albums-db/metadata/97-ArtistAlbums.p \t1559970\n",
      "/Volumes/Music/Discog/albums-db/metadata/98-ArtistAlbums.p \t1570769\n",
      "/Volumes/Music/Discog/albums-db/metadata/99-ArtistAlbums.p \t1582917\n",
      "/Volumes/Music/Discog/albums-db/metadata/NAN-ArtistAlbums.p \t1690489\n",
      "\n",
      "\n",
      "==============================================\n",
      "\n",
      "\n",
      "\n",
      "==============================================\n",
      "\n",
      "Saving 1690489 entries to /Volumes/Music/Discog/db/AlbumIDToName.p\n",
      "\n",
      "Saving data to /Volumes/Music/Discog/db/AlbumIDToName.p\n",
      "  --> This file is 39.6MB.\n",
      "Saved data to /Volumes/Music/Discog/db/AlbumIDToName.p\n",
      "  --> This file is 39.6MB.\n",
      "Saving 1690489 entries to /Volumes/Music/Discog/db/AlbumIDToRef.p\n",
      "\n",
      "Saving data to /Volumes/Music/Discog/db/AlbumIDToRef.p\n",
      "  --> This file is 55.7MB.\n",
      "Saved data to /Volumes/Music/Discog/db/AlbumIDToRef.p\n",
      "  --> This file is 55.7MB.\n",
      "Saving 1690489 entries to /Volumes/Music/Discog/db/AlbumIDToArtists.p\n",
      "\n",
      "Saving data to /Volumes/Music/Discog/db/AlbumIDToArtists.p\n",
      "  --> This file is 22.8MB.\n",
      "Saved data to /Volumes/Music/Discog/db/AlbumIDToArtists.p\n",
      "  --> This file is 22.8MB.\n",
      "Current Time is Mon Jan 13, 2020 23:59:25 for Done with Creating Artist DBs\n",
      "Process [{0}] took 7.2 minutes.\n"
     ]
    }
   ],
   "source": [
    "## Basic stuff\n",
    "%load_ext autoreload\n",
    "%autoreload\n",
    "from lookup import createAlbumIDMap\n",
    "createAlbumIDMap(disc)"
   ]
  },
  {
   "cell_type": "markdown",
   "metadata": {},
   "source": [
    "# Master Lookup Tests"
   ]
  },
  {
   "cell_type": "code",
   "execution_count": null,
   "metadata": {},
   "outputs": [],
   "source": [
    "%load_ext autoreload\n",
    "%autoreload\n",
    "from lookup import testLookupMaps\n",
    "testLookupMaps(disc)"
   ]
  },
  {
   "cell_type": "code",
   "execution_count": null,
   "metadata": {},
   "outputs": [],
   "source": []
  },
  {
   "cell_type": "code",
   "execution_count": null,
   "metadata": {},
   "outputs": [],
   "source": []
  },
  {
   "cell_type": "code",
   "execution_count": null,
   "metadata": {},
   "outputs": [],
   "source": []
  },
  {
   "cell_type": "markdown",
   "metadata": {},
   "source": [
    "# Pandas DB"
   ]
  },
  {
   "cell_type": "markdown",
   "metadata": {},
   "source": [
    "## Slim Artist DB"
   ]
  },
  {
   "cell_type": "code",
   "execution_count": null,
   "metadata": {},
   "outputs": [],
   "source": [
    "from masterdb import getSlimArtistDB"
   ]
  },
  {
   "cell_type": "code",
   "execution_count": null,
   "metadata": {},
   "outputs": [],
   "source": [
    "discSlimArtistDB = getSlimArtistDB(disc)\n",
    "discSlimArtistDB.head()"
   ]
  },
  {
   "cell_type": "markdown",
   "metadata": {},
   "source": [
    "## Artist DB"
   ]
  },
  {
   "cell_type": "code",
   "execution_count": 11,
   "metadata": {},
   "outputs": [],
   "source": [
    "from masterdb import getArtistDB"
   ]
  },
  {
   "cell_type": "code",
   "execution_count": 12,
   "metadata": {},
   "outputs": [
    {
     "name": "stdout",
     "output_type": "stream",
     "text": [
      "Current Time is Thu Jan 02, 2020 12:21:09 for \n",
      "=================================== Creating Artist DB ===================================\n",
      "Loading ArtistID Data\n",
      "Loading data from /Volumes/Music/Discog/db/ArtistIDToName.p\n",
      "  --> This file is 12.1MB.\n",
      "Loading /Volumes/Music/Discog/db/ArtistIDToName.p\n",
      "Loading data from /Volumes/Music/Discog/db/ArtistIDToRef.p\n",
      "  --> This file is 14.4MB.\n",
      "Loading /Volumes/Music/Discog/db/ArtistIDToRef.p\n",
      "Loading data from /Volumes/Music/Discog/db/ArtistIDToVariations.p\n",
      "  --> This file is 24.2MB.\n",
      "Loading /Volumes/Music/Discog/db/ArtistIDToVariations.p\n",
      "Creating Pandas DataFrame for 636524 Artists\n",
      "\tShape --> (636524, 1)\n",
      "  Joining Ref\n",
      "\tShape --> (636524, 2)\n",
      "  Joining Variations\n",
      "\tShape --> (636524, 3)\n",
      "  Finding Real Artist Name\n",
      "\tShape --> (636524, 6)\n",
      "DataFrame Shape is (636524, 6)\n",
      "Current Time is Thu Jan 02, 2020 12:21:46 for Done with \n",
      "=================================== Creating Artist DB ===================================\n",
      "Process [{0}] took 37 seconds.\n",
      "Saving Master Artist DB File\n",
      "  --> This file is 95.6MB.\n"
     ]
    },
    {
     "data": {
      "text/html": [
       "<div>\n",
       "<style scoped>\n",
       "    .dataframe tbody tr th:only-of-type {\n",
       "        vertical-align: middle;\n",
       "    }\n",
       "\n",
       "    .dataframe tbody tr th {\n",
       "        vertical-align: top;\n",
       "    }\n",
       "\n",
       "    .dataframe thead th {\n",
       "        text-align: right;\n",
       "    }\n",
       "</style>\n",
       "<table border=\"1\" class=\"dataframe\">\n",
       "  <thead>\n",
       "    <tr style=\"text-align: right;\">\n",
       "      <th></th>\n",
       "      <th>Name</th>\n",
       "      <th>Ref</th>\n",
       "      <th>Variations</th>\n",
       "      <th>Known</th>\n",
       "      <th>Artist</th>\n",
       "      <th>Num</th>\n",
       "    </tr>\n",
       "  </thead>\n",
       "  <tbody>\n",
       "    <tr>\n",
       "      <th>1000</th>\n",
       "      <td>Dave Clarke</td>\n",
       "      <td>/artist/1000-Dave-Clarke</td>\n",
       "      <td>[Dave Clarke, 7 Red 7, Clarck, Clarke, Clarke,...</td>\n",
       "      <td>True</td>\n",
       "      <td>Dave Clarke</td>\n",
       "      <td>NaN</td>\n",
       "    </tr>\n",
       "    <tr>\n",
       "      <th>1000500</th>\n",
       "      <td>Club Pulse</td>\n",
       "      <td>/artist/1000500-Club-Pulse</td>\n",
       "      <td>[Club Pulse]</td>\n",
       "      <td>True</td>\n",
       "      <td>Club Pulse</td>\n",
       "      <td>NaN</td>\n",
       "    </tr>\n",
       "    <tr>\n",
       "      <th>100200</th>\n",
       "      <td>Dike</td>\n",
       "      <td>/artist/100200-Dike</td>\n",
       "      <td>[Dike, D.I.K.E., Dike D, Uchegdu]</td>\n",
       "      <td>True</td>\n",
       "      <td>Dike</td>\n",
       "      <td>NaN</td>\n",
       "    </tr>\n",
       "    <tr>\n",
       "      <th>1002000</th>\n",
       "      <td>Larry Stokes</td>\n",
       "      <td>/artist/1002000-Larry-Stokes</td>\n",
       "      <td>[Larry Stokes]</td>\n",
       "      <td>True</td>\n",
       "      <td>Larry Stokes</td>\n",
       "      <td>NaN</td>\n",
       "    </tr>\n",
       "    <tr>\n",
       "      <th>1002600</th>\n",
       "      <td>Gidd Sanchez</td>\n",
       "      <td>/artist/1002600-Gidd-Sanchez</td>\n",
       "      <td>[Gidd Sanchez]</td>\n",
       "      <td>True</td>\n",
       "      <td>Gidd Sanchez</td>\n",
       "      <td>NaN</td>\n",
       "    </tr>\n",
       "  </tbody>\n",
       "</table>\n",
       "</div>"
      ],
      "text/plain": [
       "                 Name                           Ref  \\\n",
       "1000      Dave Clarke      /artist/1000-Dave-Clarke   \n",
       "1000500    Club Pulse    /artist/1000500-Club-Pulse   \n",
       "100200           Dike           /artist/100200-Dike   \n",
       "1002000  Larry Stokes  /artist/1002000-Larry-Stokes   \n",
       "1002600  Gidd Sanchez  /artist/1002600-Gidd-Sanchez   \n",
       "\n",
       "                                                Variations  Known  \\\n",
       "1000     [Dave Clarke, 7 Red 7, Clarck, Clarke, Clarke,...   True   \n",
       "1000500                                       [Club Pulse]   True   \n",
       "100200                   [Dike, D.I.K.E., Dike D, Uchegdu]   True   \n",
       "1002000                                     [Larry Stokes]   True   \n",
       "1002600                                     [Gidd Sanchez]   True   \n",
       "\n",
       "               Artist  Num  \n",
       "1000      Dave Clarke  NaN  \n",
       "1000500    Club Pulse  NaN  \n",
       "100200           Dike  NaN  \n",
       "1002000  Larry Stokes  NaN  \n",
       "1002600  Gidd Sanchez  NaN  "
      ]
     },
     "execution_count": 12,
     "metadata": {},
     "output_type": "execute_result"
    }
   ],
   "source": [
    "discArtistDB = getArtistDB(disc)\n",
    "discArtistDB.head()"
   ]
  },
  {
   "cell_type": "markdown",
   "metadata": {},
   "source": [
    "## Artist Metadata DB"
   ]
  },
  {
   "cell_type": "code",
   "execution_count": 13,
   "metadata": {},
   "outputs": [],
   "source": [
    "from masterdb import getArtistMetadataDB"
   ]
  },
  {
   "cell_type": "code",
   "execution_count": 14,
   "metadata": {},
   "outputs": [
    {
     "name": "stdout",
     "output_type": "stream",
     "text": [
      "Current Time is Thu Jan 02, 2020 12:21:59 for \n",
      "=================================== Creating Artist Metadata DB ===================================\n",
      "Loading ArtistID Data\n",
      "Loading data from /Volumes/Music/Discog/db/ArtistIDToGenre.p\n",
      "  --> This file is 10.3MB.\n",
      "Loading /Volumes/Music/Discog/db/ArtistIDToGenre.p\n",
      "Loading data from /Volumes/Music/Discog/db/ArtistIDToStyle.p\n",
      "  --> This file is 15.1MB.\n",
      "Loading /Volumes/Music/Discog/db/ArtistIDToStyle.p\n",
      "Loading data from /Volumes/Music/Discog/db/ArtistIDToCollaborations.p\n",
      "  --> This file is 33.6MB.\n",
      "Loading /Volumes/Music/Discog/db/ArtistIDToCollaborations.p\n",
      "Creating Pandas DataFrame for 489596 Artists\n",
      "\tShape --> (489596, 1)\n",
      "  Joining Style\n",
      "\tShape --> (489596, 2)\n",
      "  Joining Collaboration\n",
      "\tShape --> (489596, 3)\n",
      "DataFrame Shape is (489596, 3)\n",
      "Current Time is Thu Jan 02, 2020 12:23:12 for Done with \n",
      "=================================== Creating Artist Metadata DB ===================================\n",
      "Process [{0}] took 1.2 minutes.\n",
      "Saving Master Artist Metadata DB File\n",
      "  --> This file is 100.0MB.\n"
     ]
    },
    {
     "data": {
      "text/html": [
       "<div>\n",
       "<style scoped>\n",
       "    .dataframe tbody tr th:only-of-type {\n",
       "        vertical-align: middle;\n",
       "    }\n",
       "\n",
       "    .dataframe tbody tr th {\n",
       "        vertical-align: top;\n",
       "    }\n",
       "\n",
       "    .dataframe thead th {\n",
       "        text-align: right;\n",
       "    }\n",
       "</style>\n",
       "<table border=\"1\" class=\"dataframe\">\n",
       "  <thead>\n",
       "    <tr style=\"text-align: right;\">\n",
       "      <th></th>\n",
       "      <th>Genre</th>\n",
       "      <th>Style</th>\n",
       "      <th>Collaboration</th>\n",
       "    </tr>\n",
       "  </thead>\n",
       "  <tbody>\n",
       "    <tr>\n",
       "      <th>1000</th>\n",
       "      <td>{'Electronic': 54, 'Hip Hop': 1, 'Non-Music': ...</td>\n",
       "      <td>{'Techno': 45, 'Electro': 16, 'Downtempo': 1, ...</td>\n",
       "      <td>{'Dave Clarke': 53, 'Bang The Future': 1, 'Mr....</td>\n",
       "    </tr>\n",
       "    <tr>\n",
       "      <th>1000500</th>\n",
       "      <td>{'Electronic': 1}</td>\n",
       "      <td>{'Progressive Trance': 1}</td>\n",
       "      <td>{'Club Pulse': 1}</td>\n",
       "    </tr>\n",
       "    <tr>\n",
       "      <th>100200</th>\n",
       "      <td>{'Hip Hop': 11}</td>\n",
       "      <td>{'Conscious': 7, 'Pop Rap': 2, '': 3}</td>\n",
       "      <td>{'Dike': 11, 'ABS (2)': 2, 'Creutzfeld&amp;Jakob':...</td>\n",
       "    </tr>\n",
       "    <tr>\n",
       "      <th>1002000</th>\n",
       "      <td>{}</td>\n",
       "      <td>{}</td>\n",
       "      <td>{}</td>\n",
       "    </tr>\n",
       "    <tr>\n",
       "      <th>1005400</th>\n",
       "      <td>{'Rock': 5}</td>\n",
       "      <td>{'Alternative Rock': 1, 'Indie Rock': 1, 'Math...</td>\n",
       "      <td>{'Gapeseed': 5, 'Gerling': 1}</td>\n",
       "    </tr>\n",
       "  </tbody>\n",
       "</table>\n",
       "</div>"
      ],
      "text/plain": [
       "                                                     Genre  \\\n",
       "1000     {'Electronic': 54, 'Hip Hop': 1, 'Non-Music': ...   \n",
       "1000500                                  {'Electronic': 1}   \n",
       "100200                                     {'Hip Hop': 11}   \n",
       "1002000                                                 {}   \n",
       "1005400                                        {'Rock': 5}   \n",
       "\n",
       "                                                     Style  \\\n",
       "1000     {'Techno': 45, 'Electro': 16, 'Downtempo': 1, ...   \n",
       "1000500                          {'Progressive Trance': 1}   \n",
       "100200               {'Conscious': 7, 'Pop Rap': 2, '': 3}   \n",
       "1002000                                                 {}   \n",
       "1005400  {'Alternative Rock': 1, 'Indie Rock': 1, 'Math...   \n",
       "\n",
       "                                             Collaboration  \n",
       "1000     {'Dave Clarke': 53, 'Bang The Future': 1, 'Mr....  \n",
       "1000500                                  {'Club Pulse': 1}  \n",
       "100200   {'Dike': 11, 'ABS (2)': 2, 'Creutzfeld&Jakob':...  \n",
       "1002000                                                 {}  \n",
       "1005400                      {'Gapeseed': 5, 'Gerling': 1}  "
      ]
     },
     "execution_count": 14,
     "metadata": {},
     "output_type": "execute_result"
    }
   ],
   "source": [
    "discArtistMetadataDB = getArtistMetadataDB(disc)\n",
    "discArtistMetadataDB.head()"
   ]
  },
  {
   "cell_type": "markdown",
   "metadata": {},
   "source": [
    "## Artist Albums DB"
   ]
  },
  {
   "cell_type": "code",
   "execution_count": 15,
   "metadata": {},
   "outputs": [],
   "source": [
    "from masterdb import getArtistAlbumsDB"
   ]
  },
  {
   "cell_type": "code",
   "execution_count": 16,
   "metadata": {},
   "outputs": [
    {
     "name": "stdout",
     "output_type": "stream",
     "text": [
      "Current Time is Thu Jan 02, 2020 12:23:42 for \n",
      "=================================== Creating Artist Albums DB ===================================\n",
      "Loading ArtistID Data\n",
      "Loading data from /Volumes/Music/Discog/db/ArtistIDToAlbumNames.p\n",
      "  --> This file is 174.0MB.\n",
      "Loading /Volumes/Music/Discog/db/ArtistIDToAlbumNames.p\n",
      "Creating Pandas DataFrame for 636524 Artists\n",
      "\tShape --> (636524, 1)\n",
      "DataFrame Shape is (636524, 1)\n",
      "Current Time is Thu Jan 02, 2020 12:25:23 for Done with \n",
      "=================================== Creating Artist Albums DB ===================================\n",
      "Process [{0}] took 1.7 minutes.\n"
     ]
    },
    {
     "data": {
      "text/html": [
       "<div>\n",
       "<style scoped>\n",
       "    .dataframe tbody tr th:only-of-type {\n",
       "        vertical-align: middle;\n",
       "    }\n",
       "\n",
       "    .dataframe tbody tr th {\n",
       "        vertical-align: top;\n",
       "    }\n",
       "\n",
       "    .dataframe thead th {\n",
       "        text-align: right;\n",
       "    }\n",
       "</style>\n",
       "<table border=\"1\" class=\"dataframe\">\n",
       "  <thead>\n",
       "    <tr style=\"text-align: right;\">\n",
       "      <th></th>\n",
       "      <th>Albums</th>\n",
       "    </tr>\n",
       "  </thead>\n",
       "  <tbody>\n",
       "    <tr>\n",
       "      <th>1000</th>\n",
       "      <td>{'Albums': {'44815': 'Archive One', '44831': '...</td>\n",
       "    </tr>\n",
       "    <tr>\n",
       "      <th>1000500</th>\n",
       "      <td>{'Miscellaneous': {'1178875': 'Peak Controller'}}</td>\n",
       "    </tr>\n",
       "    <tr>\n",
       "      <th>100200</th>\n",
       "      <td>{'Albums': {'50511': 'PottpÃ¼ree'}, 'Singles &amp;...</td>\n",
       "    </tr>\n",
       "    <tr>\n",
       "      <th>1002000</th>\n",
       "      <td>{'Instruments &amp; Performance': {'1002108': 'Are...</td>\n",
       "    </tr>\n",
       "    <tr>\n",
       "      <th>1002600</th>\n",
       "      <td>{'Vocals': {'1180905': 'Quiero'}}</td>\n",
       "    </tr>\n",
       "  </tbody>\n",
       "</table>\n",
       "</div>"
      ],
      "text/plain": [
       "                                                    Albums\n",
       "1000     {'Albums': {'44815': 'Archive One', '44831': '...\n",
       "1000500  {'Miscellaneous': {'1178875': 'Peak Controller'}}\n",
       "100200   {'Albums': {'50511': 'PottpÃ¼ree'}, 'Singles &...\n",
       "1002000  {'Instruments & Performance': {'1002108': 'Are...\n",
       "1002600                  {'Vocals': {'1180905': 'Quiero'}}"
      ]
     },
     "execution_count": 16,
     "metadata": {},
     "output_type": "execute_result"
    }
   ],
   "source": [
    "discArtistAlbumsDB = getArtistAlbumsDB(disc)\n",
    "discArtistAlbumsDB.head()"
   ]
  },
  {
   "cell_type": "markdown",
   "metadata": {},
   "source": [
    "## Albums DB"
   ]
  },
  {
   "cell_type": "code",
   "execution_count": 17,
   "metadata": {},
   "outputs": [],
   "source": [
    "from masterdb import getAlbumDB"
   ]
  },
  {
   "cell_type": "code",
   "execution_count": 18,
   "metadata": {},
   "outputs": [
    {
     "name": "stdout",
     "output_type": "stream",
     "text": [
      "Current Time is Thu Jan 02, 2020 12:25:23 for \n",
      "=================================== Creating Artist Album DB ===================================\n",
      "Loading AlbumID Data\n",
      "Loading data from /Volumes/Music/Discog/db/AlbumIDToName.p\n",
      "  --> This file is 35.5MB.\n",
      "Loading /Volumes/Music/Discog/db/AlbumIDToName.p\n",
      "Loading data from /Volumes/Music/Discog/db/AlbumIDToRef.p\n",
      "  --> This file is 49.9MB.\n",
      "Loading /Volumes/Music/Discog/db/AlbumIDToRef.p\n",
      "Loading data from /Volumes/Music/Discog/db/AlbumIDToArtists.p\n",
      "  --> This file is 20.2MB.\n",
      "Loading /Volumes/Music/Discog/db/AlbumIDToArtists.p\n",
      "Creating Pandas DataFrame for 1521843 Albums\n",
      "\tShape --> (1521843, 1)\n",
      "  Joining Ref\n",
      "\tShape --> (1521843, 2)\n",
      "  Joining Artists\n",
      "\tShape --> (1521843, 3)\n",
      "DataFrame Shape is (1521843, 3)\n",
      "Current Time is Thu Jan 02, 2020 12:26:37 for Done with \n",
      "=================================== Creating Artist Album DB ===================================\n",
      "Process [{0}] took 1.2 minutes.\n"
     ]
    },
    {
     "data": {
      "text/html": [
       "<div>\n",
       "<style scoped>\n",
       "    .dataframe tbody tr th:only-of-type {\n",
       "        vertical-align: middle;\n",
       "    }\n",
       "\n",
       "    .dataframe tbody tr th {\n",
       "        vertical-align: top;\n",
       "    }\n",
       "\n",
       "    .dataframe thead th {\n",
       "        text-align: right;\n",
       "    }\n",
       "</style>\n",
       "<table border=\"1\" class=\"dataframe\">\n",
       "  <thead>\n",
       "    <tr style=\"text-align: right;\">\n",
       "      <th></th>\n",
       "      <th>Name</th>\n",
       "      <th>Ref</th>\n",
       "      <th>Artists</th>\n",
       "    </tr>\n",
       "  </thead>\n",
       "  <tbody>\n",
       "    <tr>\n",
       "      <th>1012077</th>\n",
       "      <td>Live</td>\n",
       "      <td>/Dave-Clarke-Live/master/1012077</td>\n",
       "      <td>[1000]</td>\n",
       "    </tr>\n",
       "    <tr>\n",
       "      <th>1258261</th>\n",
       "      <td>Walls Of Genius And Miracle</td>\n",
       "      <td>/Walls-Of-Genius-and-Miracle-Walls-Of-Genius-A...</td>\n",
       "      <td>[1000, 1009227, 182635]</td>\n",
       "    </tr>\n",
       "    <tr>\n",
       "      <th>2546978</th>\n",
       "      <td>RA.EX007 Dave Clarke</td>\n",
       "      <td>/Dave-Clarke-RAEX007-Dave-Clarke/release/2546978</td>\n",
       "      <td>[1000]</td>\n",
       "    </tr>\n",
       "    <tr>\n",
       "      <th>44815</th>\n",
       "      <td>Archive One</td>\n",
       "      <td>/Dave-Clarke-Archive-One/master/44815</td>\n",
       "      <td>[1000]</td>\n",
       "    </tr>\n",
       "    <tr>\n",
       "      <th>44831</th>\n",
       "      <td>Devil's Advocate</td>\n",
       "      <td>/Dave-Clarke-Devils-Advocate/master/44831</td>\n",
       "      <td>[1000]</td>\n",
       "    </tr>\n",
       "  </tbody>\n",
       "</table>\n",
       "</div>"
      ],
      "text/plain": [
       "                                Name  \\\n",
       "1012077                         Live   \n",
       "1258261  Walls Of Genius And Miracle   \n",
       "2546978         RA.EX007 Dave Clarke   \n",
       "44815                    Archive One   \n",
       "44831               Devil's Advocate   \n",
       "\n",
       "                                                       Ref  \\\n",
       "1012077                   /Dave-Clarke-Live/master/1012077   \n",
       "1258261  /Walls-Of-Genius-and-Miracle-Walls-Of-Genius-A...   \n",
       "2546978   /Dave-Clarke-RAEX007-Dave-Clarke/release/2546978   \n",
       "44815                /Dave-Clarke-Archive-One/master/44815   \n",
       "44831            /Dave-Clarke-Devils-Advocate/master/44831   \n",
       "\n",
       "                         Artists  \n",
       "1012077                   [1000]  \n",
       "1258261  [1000, 1009227, 182635]  \n",
       "2546978                   [1000]  \n",
       "44815                     [1000]  \n",
       "44831                     [1000]  "
      ]
     },
     "execution_count": 18,
     "metadata": {},
     "output_type": "execute_result"
    }
   ],
   "source": [
    "discAlbumDB = getAlbumDB(disc)\n",
    "discAlbumDB.head()"
   ]
  },
  {
   "cell_type": "markdown",
   "metadata": {},
   "source": [
    "## Artist Album ID --> Known Albums"
   ]
  },
  {
   "cell_type": "code",
   "execution_count": 19,
   "metadata": {},
   "outputs": [],
   "source": [
    "from masterdb import getArtistAlbumKnownDB"
   ]
  },
  {
   "cell_type": "code",
   "execution_count": 20,
   "metadata": {},
   "outputs": [
    {
     "name": "stdout",
     "output_type": "stream",
     "text": [
      "Current Time is Thu Jan 02, 2020 12:26:37 for \n",
      "=================================== Creating Artist Album DB ===================================\n",
      "Creating Pandas DataFrame for 636524 Arist Albums\n",
      "\tShape --> (636524, 3)\n",
      "DataFrame Shape is (636524, 3)\n",
      "Current Time is Thu Jan 02, 2020 12:27:23 for Done with \n",
      "=================================== Creating Artist Album DB ===================================\n",
      "Process [{0}] took 46 seconds.\n"
     ]
    },
    {
     "data": {
      "text/html": [
       "<div>\n",
       "<style scoped>\n",
       "    .dataframe tbody tr th:only-of-type {\n",
       "        vertical-align: middle;\n",
       "    }\n",
       "\n",
       "    .dataframe tbody tr th {\n",
       "        vertical-align: top;\n",
       "    }\n",
       "\n",
       "    .dataframe thead th {\n",
       "        text-align: right;\n",
       "    }\n",
       "</style>\n",
       "<table border=\"1\" class=\"dataframe\">\n",
       "  <thead>\n",
       "    <tr style=\"text-align: right;\">\n",
       "      <th></th>\n",
       "      <th>Known Albums</th>\n",
       "      <th>All Albums</th>\n",
       "      <th>Albums</th>\n",
       "    </tr>\n",
       "  </thead>\n",
       "  <tbody>\n",
       "    <tr>\n",
       "      <th>1000</th>\n",
       "      <td>53</td>\n",
       "      <td>53</td>\n",
       "      <td>{'44815': ['Archive One', 'Albums', True], '44...</td>\n",
       "    </tr>\n",
       "    <tr>\n",
       "      <th>1000500</th>\n",
       "      <td>1</td>\n",
       "      <td>1</td>\n",
       "      <td>{'1178875': ['Peak Controller', 'Miscellaneous...</td>\n",
       "    </tr>\n",
       "    <tr>\n",
       "      <th>100200</th>\n",
       "      <td>9</td>\n",
       "      <td>9</td>\n",
       "      <td>{'50511': ['PottpÃ¼ree', 'Albums', True], '219...</td>\n",
       "    </tr>\n",
       "    <tr>\n",
       "      <th>1002000</th>\n",
       "      <td>3</td>\n",
       "      <td>3</td>\n",
       "      <td>{'1002108': ['Are You Faithful?', 'Instruments...</td>\n",
       "    </tr>\n",
       "    <tr>\n",
       "      <th>1002600</th>\n",
       "      <td>1</td>\n",
       "      <td>1</td>\n",
       "      <td>{'1180905': ['Quiero', 'Vocals', True]}</td>\n",
       "    </tr>\n",
       "  </tbody>\n",
       "</table>\n",
       "</div>"
      ],
      "text/plain": [
       "         Known Albums  All Albums  \\\n",
       "1000               53          53   \n",
       "1000500             1           1   \n",
       "100200              9           9   \n",
       "1002000             3           3   \n",
       "1002600             1           1   \n",
       "\n",
       "                                                    Albums  \n",
       "1000     {'44815': ['Archive One', 'Albums', True], '44...  \n",
       "1000500  {'1178875': ['Peak Controller', 'Miscellaneous...  \n",
       "100200   {'50511': ['PottpÃ¼ree', 'Albums', True], '219...  \n",
       "1002000  {'1002108': ['Are You Faithful?', 'Instruments...  \n",
       "1002600            {'1180905': ['Quiero', 'Vocals', True]}  "
      ]
     },
     "execution_count": 20,
     "metadata": {},
     "output_type": "execute_result"
    }
   ],
   "source": [
    "discArtistAlbumKnownDB = getArtistAlbumKnownDB(discAlbumDB, discArtistAlbumsDB)\n",
    "discArtistAlbumKnownDB.head()"
   ]
  },
  {
   "cell_type": "markdown",
   "metadata": {},
   "source": [
    "# Joining Artist ID DataFrame"
   ]
  },
  {
   "cell_type": "code",
   "execution_count": null,
   "metadata": {},
   "outputs": [],
   "source": [
    "from masterdb import createMasterDB"
   ]
  },
  {
   "cell_type": "code",
   "execution_count": null,
   "metadata": {},
   "outputs": [],
   "source": [
    "createMasterDB(disc, discArtistDB, discArtistMetadataDB, discArtistAlbumKnownDB)"
   ]
  },
  {
   "cell_type": "code",
   "execution_count": null,
   "metadata": {},
   "outputs": [],
   "source": []
  },
  {
   "cell_type": "code",
   "execution_count": null,
   "metadata": {},
   "outputs": [],
   "source": [
    "from random import random"
   ]
  },
  {
   "cell_type": "code",
   "execution_count": null,
   "metadata": {},
   "outputs": [],
   "source": []
  },
  {
   "cell_type": "code",
   "execution_count": null,
   "metadata": {},
   "outputs": [],
   "source": []
  }
 ],
 "metadata": {
  "kernelspec": {
   "display_name": "Python 3",
   "language": "python",
   "name": "python3"
  },
  "language_info": {
   "codemirror_mode": {
    "name": "ipython",
    "version": 3
   },
   "file_extension": ".py",
   "mimetype": "text/x-python",
   "name": "python",
   "nbconvert_exporter": "python",
   "pygments_lexer": "ipython3",
   "version": "3.7.3"
  }
 },
 "nbformat": 4,
 "nbformat_minor": 2
}
