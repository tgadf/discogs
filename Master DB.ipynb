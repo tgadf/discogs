{
 "cells": [
  {
   "cell_type": "markdown",
   "metadata": {},
   "source": [
    "# Master Discogs Database"
   ]
  },
  {
   "cell_type": "code",
   "execution_count": null,
   "metadata": {},
   "outputs": [],
   "source": [
    "## Basic stuff\n",
    "%load_ext autoreload\n",
    "%autoreload\n",
    "from IPython.core.display import display, HTML\n",
    "display(HTML(\"<style>.container { width:100% !important; }</style>\"))\n",
    "display(HTML(\"\"\"<style>div.output_area{max-height:10000px;overflow:scroll;}</style>\"\"\"))\n",
    "\n",
    "## Python Version\n",
    "import sys\n",
    "print(\"Python: {0}\".format(sys.version))\n",
    "\n",
    "\n",
    "################################################################################\n",
    "## General Stuff\n",
    "################################################################################\n",
    "from ioUtils import saveJoblib, loadJoblib, saveFile, getFile\n",
    "import urllib\n",
    "from urllib.parse import quote\n",
    "from collections import Counter\n",
    "from searchUtils import findExt, findSubExt, findPatternExt, findNearest\n",
    "from timeUtils import clock, elapsed\n",
    "from fsUtils import moveFile, setFile, setDir, setSubDir, isFile, isDir, mkDir\n",
    "from fileUtils import getFileBasics, getBasename\n",
    "from time import sleep\n",
    "\n",
    "\n",
    "################################################################################\n",
    "## Music Stuff\n",
    "################################################################################\n",
    "\n",
    "### MultiArtist\n",
    "from multiArtist import multiartist\n",
    "\n",
    "### My Music DB\n",
    "from myMusicDBMap import myMusicDBMap\n",
    "\n",
    "### Master DB code\n",
    "from masterdb import masterdb\n",
    "from mainDB import mainDB\n",
    "\n",
    "\n",
    "import datetime as dt\n",
    "start = dt.datetime.now()\n",
    "print(\"Notebook Last Run Initiated: \"+str(start))"
   ]
  },
  {
   "cell_type": "code",
   "execution_count": null,
   "metadata": {},
   "outputs": [],
   "source": [
    "mdb = myMusicDBMap(debug=True)"
   ]
  },
  {
   "cell_type": "code",
   "execution_count": null,
   "metadata": {
    "scrolled": true
   },
   "outputs": [],
   "source": [
    "maindb = mainDB(mdb=mdb, create=True, debug=True)\n",
    "print(\"\\n\\n{0}\\n\".format(\"Full DB\"))\n",
    "#maindb.setDBFull(\"AllMusic\")\n",
    "#maindb.setDBFull(\"MusicBrainz\")\n",
    "#maindb.setDBFull(\"Discogs\")\n",
    "maindb.setDBFull(\"LastFM\")\n",
    "#maindb.setDBFull()\n",
    "print(\"\\n\\n{0}\\n\".format(\"Known DB\"))\n",
    "#maindb.setDBKnown() ## Do this to recreate everything\n",
    "#maindb.setDBKnown()\n",
    "#artistDBs = maindb.getKnownArtistDBs()"
   ]
  },
  {
   "cell_type": "code",
   "execution_count": null,
   "metadata": {},
   "outputs": [],
   "source": [
    "maindb = mainDB(mdb=mdb, create=False, debug=True)"
   ]
  },
  {
   "cell_type": "code",
   "execution_count": null,
   "metadata": {},
   "outputs": [],
   "source": [
    "maindb.setDBFull()"
   ]
  },
  {
   "cell_type": "markdown",
   "metadata": {},
   "source": [
    "# Metadata"
   ]
  },
  {
   "cell_type": "code",
   "execution_count": null,
   "metadata": {},
   "outputs": [],
   "source": [
    "%load_ext autoreload\n",
    "%autoreload\n",
    "\n",
    "from multiprocessing import Pool\n",
    "from mainDB import mainDB\n",
    "import time\n",
    "mainDB = mainDB()\n",
    "dbdata = mainDB.dbdata\n",
    "\n",
    "def parseArtistsAM(modVal, force=False, doExtra=False):\n",
    "    dbdata[\"AllMusic\"][\"Artists\"].parseArtistModValFiles(modVal, force=force)\n",
    "    #artsAM.parseArtistModValFiles(modVal, force=force)\n",
    "\n",
    "def parseArtistsDC(modVal, force=True, doExtra=False):\n",
    "    dbdata[\"Discogs\"][\"Artists\"].parseArtistModValFiles(modVal, force=force)\n",
    "    #artsDC.parseArtistModValFiles(modVal, force=force)\n",
    "\n",
    "def parseArtistsMB(modVal, force=False, doExtra=False):\n",
    "    dbdata[\"MusicBrainz\"][\"Artists\"].parseArtistModValFiles(modVal, force=force)\n",
    "    #artsMB.parseArtistModValFiles(modVal, force=force)\n",
    "\n",
    "def parseArtistsAB(modVal, force=False, doExtra=False):\n",
    "    artsAB.parseArtistFiles(force=force)\n",
    "    \n",
    "def parseArtistsDP(modVal, force=False, doExtra=False):\n",
    "    dbdata['DatPiff']['Artists'].parseArtistFiles()\n",
    "    #artsDP.parseArtistFiles(force=force)\n",
    "\n",
    "def parseArtistsRM(modVal, force=False, doExtra=False):\n",
    "    dbdata[\"RateYourMusic\"][\"Artists\"].parseArtistModValFiles(modVal, force=force)\n",
    "    #artsRM.parseArtistModValFiles(modVal, force=force)\n",
    "\n",
    "def parseArtistsLM(modVal, force=False, doExtra=False):\n",
    "    dbdata[\"LastFM\"][\"Artists\"].parseArtistModValFiles(modVal, force=force)\n",
    "    #artsLM.parseArtistModValFiles(modVal, force=force)\n",
    "\n",
    "def parseArtistsRC(modVal, force=False, doExtra=False):\n",
    "    dbdata[\"RockCorner\"][\"Artists\"].parseArtistModValFiles(modVal, force=force)\n",
    "    #artsRC.parseArtistModValFiles(modVal, force=force)\n",
    "\n",
    "def parseArtistsCL(modVal, force=False, doExtra=False):\n",
    "    dbdata[\"CDandLP\"][\"Artists\"].parseArtistModValFiles(modVal, force=force)\n",
    "    #artsCL.parseArtistModValFiles(modVal, force=force)\n",
    "\n",
    "def parseArtistsMS(modVal, force=False, doExtra=False):\n",
    "    artsMS.parseArtistFiles(force=force)\n",
    "\n",
    "def parseArtistsMT(modVal, force=False, doExtra=False):\n",
    "    artsMT.parseArtistModValFiles(modVal, force=force)\n",
    "\n",
    "    \n",
    "def parseArtistsParallel(db, nProcs=3, force=False):\n",
    "    pool = Pool(processes=nProcs)\n",
    "    if db == \"Discogs\":\n",
    "        result = pool.map_async(parseArtistsDC, range(100))\n",
    "    elif db == \"AllMusic\":\n",
    "        result = pool.map_async(parseArtistsAM, range(100))\n",
    "    elif db == \"MusicBrainz\":\n",
    "        result = pool.map_async(parseArtistsMB, range(100))\n",
    "    elif db == \"AceBootlegs\":\n",
    "        result = pool.map_async(parseArtistsAB, [None])\n",
    "    elif db == \"DatPiff\":\n",
    "        result = pool.map_async(parseArtistsDP, [None])\n",
    "    elif db == \"RateYourMusic\":\n",
    "        dbdata[\"RateYourMusic\"][\"Artists\"].parseDownloadedFiles()\n",
    "        result = pool.map_async(parseArtistsRM, range(100))\n",
    "    elif db == \"LastFM\":\n",
    "        result = pool.map_async(parseArtistsLM, range(100))\n",
    "    elif db == \"RockCorner\":\n",
    "        result = pool.map_async(parseArtistsRC, range(100))\n",
    "    elif db == \"CDandLP\":\n",
    "        result = pool.map_async(parseArtistsCL, range(100))\n",
    "        #result = pool.map_async(parseArtistsCL, range(56,72))\n",
    "        #result = pool.map_async(parseArtistsCL, [55,25,26])\n",
    "    elif db == \"MusicStack\":\n",
    "        result = pool.map_async(parseArtistsMS, [None])\n",
    "    elif db == \"MetalStorm\":\n",
    "        result = pool.map_async(parseArtistsMT, range(100))\n",
    "    else:\n",
    "        raise ValueError(\"[{0}] is not recognized as a DB\".format(db))\n",
    "\n",
    "    while not result.ready():\n",
    "        if force is True:\n",
    "            time.sleep(10)\n",
    "        else:\n",
    "            time.sleep(1)\n",
    "    print(\"\")\n",
    "    return result.get()"
   ]
  },
  {
   "cell_type": "code",
   "execution_count": null,
   "metadata": {},
   "outputs": [],
   "source": [
    "start,cmt=clock(\"Parsing All Artists\")\n",
    "start2,cmt2=clock(\"Parallel Artist Parsing\")\n",
    "#parseArtistsParallel(db=\"AllMusic\", nProcs=3)\n",
    "#parseArtistsParallel(db=\"MusicBrainz\", nProcs=3)\n",
    "parseArtistsParallel(db=\"Discogs\", nProcs=4)\n",
    "#parseArtistsParallel(db=\"AceBootlegs\", nProcs=1)\n",
    "#parseArtistsParallel(db=\"DatPiff\", nProcs=1)\n",
    "#parseArtistsParallel(db=\"RateYourMusic\", nProcs=3)\n",
    "#parseArtistsParallel(db=\"LastFM\", nProcs=3)\n",
    "#parseArtistsParallel(db=\"RockCorner\", nProcs=3)\n",
    "#parseArtistsParallel(db=\"CDandLP\", nProcs=3)\n",
    "#parseArtistsParallel(db=\"MusicStack\", nProcs=1)\n",
    "elapsed(start2, cmt2)\n",
    "elapsed(start, cmt)"
   ]
  },
  {
   "cell_type": "markdown",
   "metadata": {},
   "source": [
    "# Download Stuff"
   ]
  },
  {
   "cell_type": "code",
   "execution_count": null,
   "metadata": {},
   "outputs": [],
   "source": [
    "mdb = myMusicDBMap(debug=True)\n",
    "maindb = mainDB(mdb=mdb, create=False, debug=True)\n",
    "dbdata = maindb.dbdata"
   ]
  },
  {
   "cell_type": "code",
   "execution_count": null,
   "metadata": {},
   "outputs": [],
   "source": [
    "ifile = \"unmatchedArtists4.p\"\n",
    "noMatches = getFile(ifile)\n",
    "print(len(noMatches))\n",
    "dbs = ['Discogs', 'AllMusic', 'MusicBrainz', 'LastFM']\n",
    "dbs = ['LastFM']\n",
    "\n",
    "#noMatches=['Go-A', 'PM', 'Qango']\n",
    "\n",
    "from time import sleep\n",
    "maxI = -1\n",
    "for i,artist in enumerate(noMatches):\n",
    "    print(\"=\"*100)\n",
    "    print(\"=\"*100)\n",
    "    print(\"=\"*100)\n",
    "    print(\"=\"*100)\n",
    "    print(i,'/',len(noMatches),'\\t',artist)\n",
    "    if i <= maxI:\n",
    "        continue\n",
    "    for db in dbs:\n",
    "        print(\"=\"*100)\n",
    "        print(i,'/',len(noMatches),'\\t',artist,'===>',db)\n",
    "        try:\n",
    "            dbdata[db][\"Artists\"].searchForArtist(artist)\n",
    "        except:\n",
    "            sleep(5)"
   ]
  },
  {
   "cell_type": "code",
   "execution_count": null,
   "metadata": {},
   "outputs": [],
   "source": []
  }
 ],
 "metadata": {
  "kernelspec": {
   "display_name": "Python 3",
   "language": "python",
   "name": "python3"
  },
  "language_info": {
   "codemirror_mode": {
    "name": "ipython",
    "version": 3
   },
   "file_extension": ".py",
   "mimetype": "text/x-python",
   "name": "python",
   "nbconvert_exporter": "python",
   "pygments_lexer": "ipython3",
   "version": "3.7.7"
  }
 },
 "nbformat": 4,
 "nbformat_minor": 2
}
